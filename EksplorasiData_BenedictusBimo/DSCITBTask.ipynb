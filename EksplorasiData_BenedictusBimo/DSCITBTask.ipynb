{
  "nbformat": 4,
  "nbformat_minor": 0,
  "metadata": {
    "colab": {
      "name": "DSCITBTask.ipynb",
      "provenance": [],
      "collapsed_sections": [],
      "toc_visible": true
    },
    "kernelspec": {
      "name": "python3",
      "display_name": "Python 3"
    }
  },
  "cells": [
    {
      "cell_type": "markdown",
      "metadata": {
        "id": "gIrWTqHFlAmC"
      },
      "source": [
        "# Tugas DSC ITB Solving Real-World Problems with Data Science<br>\n",
        "  <h3>Nama : Benedictus Bimo Cahyo Wicaksono<br>\n",
        "      NIM : 5025201097<br>\n",
        "      Asal Universitas : Institut Teknologi Sepuluh Nopember<br>\n",
        "      Tanggal Mulai : 8 November 2020-15<br>\n",
        "      Sumber Dataset : Take Me Out"
      ]
    },
    {
      "cell_type": "markdown",
      "metadata": {
        "id": "jE0lXenHoC01"
      },
      "source": [
        "Disini saya memasukkan dataset Take Me Out yang diambil dari DSC ITB."
      ]
    },
    {
      "cell_type": "code",
      "metadata": {
        "id": "NLKcY6ZZA9b7"
      },
      "source": [
        "import pandas as pd\n",
        "\n",
        "from sklearn.neighbors import NearestNeighbors\n",
        "\n",
        "import pickle\n",
        "\n",
        "import numpy as np"
      ],
      "execution_count": 3,
      "outputs": []
    },
    {
      "cell_type": "code",
      "metadata": {
        "id": "LKZmTV4JBLhI"
      },
      "source": [
        "df = pd.read_csv('/content/takemeout.csv')"
      ],
      "execution_count": 5,
      "outputs": []
    },
    {
      "cell_type": "code",
      "metadata": {
        "id": "i1NybZo6BSVa",
        "outputId": "b0838e73-4092-4554-e132-e8024a4391a1",
        "colab": {
          "base_uri": "https://localhost:8080/",
          "height": 328
        }
      },
      "source": [
        "df.head()"
      ],
      "execution_count": 6,
      "outputs": [
        {
          "output_type": "execute_result",
          "data": {
            "text/html": [
              "<div>\n",
              "<style scoped>\n",
              "    .dataframe tbody tr th:only-of-type {\n",
              "        vertical-align: middle;\n",
              "    }\n",
              "\n",
              "    .dataframe tbody tr th {\n",
              "        vertical-align: top;\n",
              "    }\n",
              "\n",
              "    .dataframe thead th {\n",
              "        text-align: right;\n",
              "    }\n",
              "</style>\n",
              "<table border=\"1\" class=\"dataframe\">\n",
              "  <thead>\n",
              "    <tr style=\"text-align: right;\">\n",
              "      <th></th>\n",
              "      <th>Timestamp</th>\n",
              "      <th>Siapa nama kamu?</th>\n",
              "      <th>Cewek atau cowok nih?</th>\n",
              "      <th>Seberapa penting quality time bareng calon pacar untuk kamu?</th>\n",
              "      <th>Seberapa penting physical touch sama calon pacar untuk kamu?</th>\n",
              "      <th>Seberapa penting word of affirmation dari calon pacar untuk kamu?</th>\n",
              "      <th>Seberapa penting dapet kado dari calon pacar untuk kamu?</th>\n",
              "      <th>Seberapa penting bantuan dari calon pacar untuk kamu?</th>\n",
              "    </tr>\n",
              "  </thead>\n",
              "  <tbody>\n",
              "    <tr>\n",
              "      <th>0</th>\n",
              "      <td>2020/10/31 3:39:25 PM GMT+7</td>\n",
              "      <td>A**************</td>\n",
              "      <td>Cowok</td>\n",
              "      <td>5</td>\n",
              "      <td>5</td>\n",
              "      <td>4</td>\n",
              "      <td>1</td>\n",
              "      <td>3</td>\n",
              "    </tr>\n",
              "    <tr>\n",
              "      <th>1</th>\n",
              "      <td>2020/10/31 3:39:36 PM GMT+7</td>\n",
              "      <td>L****</td>\n",
              "      <td>Cewek</td>\n",
              "      <td>5</td>\n",
              "      <td>5</td>\n",
              "      <td>3</td>\n",
              "      <td>2</td>\n",
              "      <td>2</td>\n",
              "    </tr>\n",
              "    <tr>\n",
              "      <th>2</th>\n",
              "      <td>2020/10/31 3:39:38 PM GMT+7</td>\n",
              "      <td>Y***********</td>\n",
              "      <td>Cowok</td>\n",
              "      <td>4</td>\n",
              "      <td>3</td>\n",
              "      <td>4</td>\n",
              "      <td>4</td>\n",
              "      <td>4</td>\n",
              "    </tr>\n",
              "    <tr>\n",
              "      <th>3</th>\n",
              "      <td>2020/10/31 3:39:42 PM GMT+7</td>\n",
              "      <td>a***</td>\n",
              "      <td>Cowok</td>\n",
              "      <td>5</td>\n",
              "      <td>5</td>\n",
              "      <td>5</td>\n",
              "      <td>2</td>\n",
              "      <td>3</td>\n",
              "    </tr>\n",
              "    <tr>\n",
              "      <th>4</th>\n",
              "      <td>2020/10/31 3:39:43 PM GMT+7</td>\n",
              "      <td>B****</td>\n",
              "      <td>Cowok</td>\n",
              "      <td>5</td>\n",
              "      <td>5</td>\n",
              "      <td>5</td>\n",
              "      <td>2</td>\n",
              "      <td>4</td>\n",
              "    </tr>\n",
              "  </tbody>\n",
              "</table>\n",
              "</div>"
            ],
            "text/plain": [
              "                     Timestamp  ... Seberapa penting bantuan dari calon pacar untuk kamu?\n",
              "0  2020/10/31 3:39:25 PM GMT+7  ...                                                  3   \n",
              "1  2020/10/31 3:39:36 PM GMT+7  ...                                                  2   \n",
              "2  2020/10/31 3:39:38 PM GMT+7  ...                                                  4   \n",
              "3  2020/10/31 3:39:42 PM GMT+7  ...                                                  3   \n",
              "4  2020/10/31 3:39:43 PM GMT+7  ...                                                  4   \n",
              "\n",
              "[5 rows x 8 columns]"
            ]
          },
          "metadata": {
            "tags": []
          },
          "execution_count": 6
        }
      ]
    },
    {
      "cell_type": "markdown",
      "metadata": {
        "id": "fFW5fzThBYpJ"
      },
      "source": [
        "# Data Preppocessing"
      ]
    },
    {
      "cell_type": "markdown",
      "metadata": {
        "id": "4ljvCt58ocSl"
      },
      "source": [
        "Karena ada kolom yang tidak dibutuhkan, maka dilakukan penghapusan pada kolom \"Timestamp\"."
      ]
    },
    {
      "cell_type": "code",
      "metadata": {
        "id": "4fAZvRwyBUhc"
      },
      "source": [
        "df = df.iloc[:, 1:]"
      ],
      "execution_count": 7,
      "outputs": []
    },
    {
      "cell_type": "code",
      "metadata": {
        "id": "9hpSbx-XBt0g",
        "outputId": "40f9043f-ab12-4f59-a782-1b7d33337e24",
        "colab": {
          "base_uri": "https://localhost:8080/",
          "height": 241
        }
      },
      "source": [
        "df.head()"
      ],
      "execution_count": 8,
      "outputs": [
        {
          "output_type": "execute_result",
          "data": {
            "text/html": [
              "<div>\n",
              "<style scoped>\n",
              "    .dataframe tbody tr th:only-of-type {\n",
              "        vertical-align: middle;\n",
              "    }\n",
              "\n",
              "    .dataframe tbody tr th {\n",
              "        vertical-align: top;\n",
              "    }\n",
              "\n",
              "    .dataframe thead th {\n",
              "        text-align: right;\n",
              "    }\n",
              "</style>\n",
              "<table border=\"1\" class=\"dataframe\">\n",
              "  <thead>\n",
              "    <tr style=\"text-align: right;\">\n",
              "      <th></th>\n",
              "      <th>Siapa nama kamu?</th>\n",
              "      <th>Cewek atau cowok nih?</th>\n",
              "      <th>Seberapa penting quality time bareng calon pacar untuk kamu?</th>\n",
              "      <th>Seberapa penting physical touch sama calon pacar untuk kamu?</th>\n",
              "      <th>Seberapa penting word of affirmation dari calon pacar untuk kamu?</th>\n",
              "      <th>Seberapa penting dapet kado dari calon pacar untuk kamu?</th>\n",
              "      <th>Seberapa penting bantuan dari calon pacar untuk kamu?</th>\n",
              "    </tr>\n",
              "  </thead>\n",
              "  <tbody>\n",
              "    <tr>\n",
              "      <th>0</th>\n",
              "      <td>A**************</td>\n",
              "      <td>Cowok</td>\n",
              "      <td>5</td>\n",
              "      <td>5</td>\n",
              "      <td>4</td>\n",
              "      <td>1</td>\n",
              "      <td>3</td>\n",
              "    </tr>\n",
              "    <tr>\n",
              "      <th>1</th>\n",
              "      <td>L****</td>\n",
              "      <td>Cewek</td>\n",
              "      <td>5</td>\n",
              "      <td>5</td>\n",
              "      <td>3</td>\n",
              "      <td>2</td>\n",
              "      <td>2</td>\n",
              "    </tr>\n",
              "    <tr>\n",
              "      <th>2</th>\n",
              "      <td>Y***********</td>\n",
              "      <td>Cowok</td>\n",
              "      <td>4</td>\n",
              "      <td>3</td>\n",
              "      <td>4</td>\n",
              "      <td>4</td>\n",
              "      <td>4</td>\n",
              "    </tr>\n",
              "    <tr>\n",
              "      <th>3</th>\n",
              "      <td>a***</td>\n",
              "      <td>Cowok</td>\n",
              "      <td>5</td>\n",
              "      <td>5</td>\n",
              "      <td>5</td>\n",
              "      <td>2</td>\n",
              "      <td>3</td>\n",
              "    </tr>\n",
              "    <tr>\n",
              "      <th>4</th>\n",
              "      <td>B****</td>\n",
              "      <td>Cowok</td>\n",
              "      <td>5</td>\n",
              "      <td>5</td>\n",
              "      <td>5</td>\n",
              "      <td>2</td>\n",
              "      <td>4</td>\n",
              "    </tr>\n",
              "  </tbody>\n",
              "</table>\n",
              "</div>"
            ],
            "text/plain": [
              "  Siapa nama kamu?  ... Seberapa penting bantuan dari calon pacar untuk kamu?\n",
              "0  A**************  ...                                                  3   \n",
              "1            L****  ...                                                  2   \n",
              "2     Y***********  ...                                                  4   \n",
              "3             a***  ...                                                  3   \n",
              "4            B****  ...                                                  4   \n",
              "\n",
              "[5 rows x 7 columns]"
            ]
          },
          "metadata": {
            "tags": []
          },
          "execution_count": 8
        }
      ]
    },
    {
      "cell_type": "markdown",
      "metadata": {
        "id": "pKAaDolEpQ5K"
      },
      "source": [
        "Disini saya mengganti format atau penamaan dari setiap kolom untuk mempermudah proses pembacaan data."
      ]
    },
    {
      "cell_type": "code",
      "metadata": {
        "id": "YhSUJaKxBvmf"
      },
      "source": [
        "df.columns = ['name', 'gender', 'qt', 'touch', 'words', 'gift', 'service']"
      ],
      "execution_count": 9,
      "outputs": []
    },
    {
      "cell_type": "code",
      "metadata": {
        "id": "b1D7pl0UCAd5",
        "outputId": "b260fb90-e6d2-46f3-a6c4-e5dd3d01030e",
        "colab": {
          "base_uri": "https://localhost:8080/",
          "height": 206
        }
      },
      "source": [
        "df.head()"
      ],
      "execution_count": 10,
      "outputs": [
        {
          "output_type": "execute_result",
          "data": {
            "text/html": [
              "<div>\n",
              "<style scoped>\n",
              "    .dataframe tbody tr th:only-of-type {\n",
              "        vertical-align: middle;\n",
              "    }\n",
              "\n",
              "    .dataframe tbody tr th {\n",
              "        vertical-align: top;\n",
              "    }\n",
              "\n",
              "    .dataframe thead th {\n",
              "        text-align: right;\n",
              "    }\n",
              "</style>\n",
              "<table border=\"1\" class=\"dataframe\">\n",
              "  <thead>\n",
              "    <tr style=\"text-align: right;\">\n",
              "      <th></th>\n",
              "      <th>name</th>\n",
              "      <th>gender</th>\n",
              "      <th>qt</th>\n",
              "      <th>touch</th>\n",
              "      <th>words</th>\n",
              "      <th>gift</th>\n",
              "      <th>service</th>\n",
              "    </tr>\n",
              "  </thead>\n",
              "  <tbody>\n",
              "    <tr>\n",
              "      <th>0</th>\n",
              "      <td>A**************</td>\n",
              "      <td>Cowok</td>\n",
              "      <td>5</td>\n",
              "      <td>5</td>\n",
              "      <td>4</td>\n",
              "      <td>1</td>\n",
              "      <td>3</td>\n",
              "    </tr>\n",
              "    <tr>\n",
              "      <th>1</th>\n",
              "      <td>L****</td>\n",
              "      <td>Cewek</td>\n",
              "      <td>5</td>\n",
              "      <td>5</td>\n",
              "      <td>3</td>\n",
              "      <td>2</td>\n",
              "      <td>2</td>\n",
              "    </tr>\n",
              "    <tr>\n",
              "      <th>2</th>\n",
              "      <td>Y***********</td>\n",
              "      <td>Cowok</td>\n",
              "      <td>4</td>\n",
              "      <td>3</td>\n",
              "      <td>4</td>\n",
              "      <td>4</td>\n",
              "      <td>4</td>\n",
              "    </tr>\n",
              "    <tr>\n",
              "      <th>3</th>\n",
              "      <td>a***</td>\n",
              "      <td>Cowok</td>\n",
              "      <td>5</td>\n",
              "      <td>5</td>\n",
              "      <td>5</td>\n",
              "      <td>2</td>\n",
              "      <td>3</td>\n",
              "    </tr>\n",
              "    <tr>\n",
              "      <th>4</th>\n",
              "      <td>B****</td>\n",
              "      <td>Cowok</td>\n",
              "      <td>5</td>\n",
              "      <td>5</td>\n",
              "      <td>5</td>\n",
              "      <td>2</td>\n",
              "      <td>4</td>\n",
              "    </tr>\n",
              "  </tbody>\n",
              "</table>\n",
              "</div>"
            ],
            "text/plain": [
              "              name gender  qt  touch  words  gift  service\n",
              "0  A**************  Cowok   5      5      4     1        3\n",
              "1            L****  Cewek   5      5      3     2        2\n",
              "2     Y***********  Cowok   4      3      4     4        4\n",
              "3             a***  Cowok   5      5      5     2        3\n",
              "4            B****  Cowok   5      5      5     2        4"
            ]
          },
          "metadata": {
            "tags": []
          },
          "execution_count": 10
        }
      ]
    },
    {
      "cell_type": "markdown",
      "metadata": {
        "id": "QeOLC7irqDsX"
      },
      "source": [
        "Disini saya menetapkan \"0\" untuk Cowok dan \"1\" untuk Cewek."
      ]
    },
    {
      "cell_type": "code",
      "metadata": {
        "id": "loCmqkt0CDFm"
      },
      "source": [
        "df['gender'] = df['gender'].apply(lambda x: 0 if x == 'Cowok' else 1)"
      ],
      "execution_count": 11,
      "outputs": []
    },
    {
      "cell_type": "code",
      "metadata": {
        "id": "mimT1df8CP6B"
      },
      "source": [
        "m_df = df[df['gender'] == 0]\n",
        "f_df = df[df['gender'] == 1]"
      ],
      "execution_count": 12,
      "outputs": []
    },
    {
      "cell_type": "code",
      "metadata": {
        "id": "E80mZBI9CeaY"
      },
      "source": [
        "m_X = m_df.drop(['name', 'gender'], axis=1)\n",
        "f_X = m_df.drop(['name', 'gender'], axis=1)"
      ],
      "execution_count": 13,
      "outputs": []
    },
    {
      "cell_type": "markdown",
      "metadata": {
        "id": "CqxbCToaDWuL"
      },
      "source": [
        "# Model Development"
      ]
    },
    {
      "cell_type": "markdown",
      "metadata": {
        "id": "cmQiw4Eac8vz"
      },
      "source": [
        "Percobaan pertama untuk laki-laki dan perempuan (Sesuai di Youtube)"
      ]
    },
    {
      "cell_type": "code",
      "metadata": {
        "id": "lAPWja-bDYi1"
      },
      "source": [
        "m_nbrs = NearestNeighbors(n_neighbors=5).fit(m_X)\n",
        "f_nbrs = NearestNeighbors(n_neighbors=5).fit(f_X)"
      ],
      "execution_count": 14,
      "outputs": []
    },
    {
      "cell_type": "code",
      "metadata": {
        "id": "Hs0o9sXURiDy"
      },
      "source": [
        "X = df.drop(['name', 'gender'], axis=1)"
      ],
      "execution_count": 15,
      "outputs": []
    },
    {
      "cell_type": "code",
      "metadata": {
        "id": "7gml2GrhRYTN"
      },
      "source": [
        "test = X[df['name'] == 'i****'].values"
      ],
      "execution_count": 16,
      "outputs": []
    },
    {
      "cell_type": "code",
      "metadata": {
        "id": "YPtNPMGiZKOe"
      },
      "source": [
        "_, idx = f_nbrs.kneighbors(test)"
      ],
      "execution_count": 17,
      "outputs": []
    },
    {
      "cell_type": "code",
      "metadata": {
        "id": "Ujf6mlN3ZSL6",
        "outputId": "4b83f55c-0e70-4164-c936-6c53c21e02d6",
        "colab": {
          "base_uri": "https://localhost:8080/"
        }
      },
      "source": [
        "idx"
      ],
      "execution_count": 18,
      "outputs": [
        {
          "output_type": "execute_result",
          "data": {
            "text/plain": [
              "array([[41, 77,  7, 74, 71]])"
            ]
          },
          "metadata": {
            "tags": []
          },
          "execution_count": 18
        }
      ]
    },
    {
      "cell_type": "markdown",
      "metadata": {
        "id": "H8Kpkn0U_juO"
      },
      "source": [
        "Setelah melakukan perintah-perintah diatas, saya mendapatkan hasil yang kemungkinan paling cocok untuk peserta dengan nama \"i****\", adalah sebagai berikut,"
      ]
    },
    {
      "cell_type": "code",
      "metadata": {
        "id": "3pl5jhKeR7Et",
        "outputId": "d98584d0-221a-4857-aa72-a00c79625495",
        "colab": {
          "base_uri": "https://localhost:8080/"
        }
      },
      "source": [
        "m_df.iloc[idx[0]]['name']"
      ],
      "execution_count": 19,
      "outputs": [
        {
          "output_type": "execute_result",
          "data": {
            "text/plain": [
              "51                  i****\n",
              "96              A********\n",
              "8     R******************\n",
              "92              D********\n",
              "89                   D***\n",
              "Name: name, dtype: object"
            ]
          },
          "metadata": {
            "tags": []
          },
          "execution_count": 19
        }
      ]
    },
    {
      "cell_type": "markdown",
      "metadata": {
        "id": "Jy5THuqZc8Kj"
      },
      "source": [
        "Percobaan kedua untuk laki-laki dan laki-laki"
      ]
    },
    {
      "cell_type": "code",
      "metadata": {
        "id": "t5D3Tt_Sc6Se"
      },
      "source": [
        "m_nbrs = NearestNeighbors(n_neighbors=5).fit(m_X)\n",
        "f_nbrs = NearestNeighbors(n_neighbors=5).fit(f_X)"
      ],
      "execution_count": 20,
      "outputs": []
    },
    {
      "cell_type": "code",
      "metadata": {
        "id": "Qk-QxASfc6Sm"
      },
      "source": [
        "X = df.drop(['name', 'gender'], axis=1)"
      ],
      "execution_count": 32,
      "outputs": []
    },
    {
      "cell_type": "code",
      "metadata": {
        "id": "A_PqSBlRc6St"
      },
      "source": [
        "test = X[df['name'] == 'A*'].values"
      ],
      "execution_count": 33,
      "outputs": []
    },
    {
      "cell_type": "code",
      "metadata": {
        "id": "S7usUjXBc6Sy"
      },
      "source": [
        "_, idx = f_nbrs.kneighbors(test)"
      ],
      "execution_count": 34,
      "outputs": []
    },
    {
      "cell_type": "code",
      "metadata": {
        "id": "Y-vx_OAUc6S2",
        "outputId": "cd5d9eb1-60ac-4683-bc3b-1f9eb2804aad",
        "colab": {
          "base_uri": "https://localhost:8080/"
        }
      },
      "source": [
        "idx"
      ],
      "execution_count": 35,
      "outputs": [
        {
          "output_type": "execute_result",
          "data": {
            "text/plain": [
              "array([[57, 14, 52,  1, 39]])"
            ]
          },
          "metadata": {
            "tags": []
          },
          "execution_count": 35
        }
      ]
    },
    {
      "cell_type": "markdown",
      "metadata": {
        "id": "yvtto6Q6AXho"
      },
      "source": [
        "Setelah melakukan perintah-perintah diatas, saya mendapatkan hasil yang kemungkinan paling cocok untuk peserta dengan nama \"A\", adalah sebagai berikut,"
      ]
    },
    {
      "cell_type": "code",
      "metadata": {
        "id": "G6Q3hKEtc6S7",
        "outputId": "14041d43-e68b-42cc-d90b-fb84e92d94b6",
        "colab": {
          "base_uri": "https://localhost:8080/"
        }
      },
      "source": [
        "m_df.iloc[idx[0]]['name']"
      ],
      "execution_count": 38,
      "outputs": [
        {
          "output_type": "execute_result",
          "data": {
            "text/plain": [
              "74             R****\n",
              "15                A*\n",
              "66              a***\n",
              "2       Y***********\n",
              "48    R*************\n",
              "Name: name, dtype: object"
            ]
          },
          "metadata": {
            "tags": []
          },
          "execution_count": 38
        }
      ]
    },
    {
      "cell_type": "markdown",
      "metadata": {
        "id": "cFzdjAnjEhv5"
      },
      "source": [
        "Dari Model Development diatas, dilakukan berbagai percobaan untuk mendapatkan kemungkinan yang paling cocok antara 1 data dengan data yang lain, dalam kasus jenis kelamin/gender yang diujikan diatas, maka diberlakukan pengujian dengan mengecek nilai dari variabel yang ada, misalnya untuk data dengan nilai qt, touch, words, gift, dan service yang tinggi, akan diusahakan untuk berpasangan dengan data yang memiliki nilai qt, touch, words, gift, dan service yang tinggi juga."
      ]
    },
    {
      "cell_type": "markdown",
      "metadata": {
        "id": "J8e0x1S0vZrI"
      },
      "source": [
        "# Statistik Data"
      ]
    },
    {
      "cell_type": "markdown",
      "metadata": {
        "id": "jtMTIkrlFkRQ"
      },
      "source": [
        "Berikut adalah statistik data dari dataset Take Me Out yang telah dikumpulkan pada event-2 DSC ITB."
      ]
    },
    {
      "cell_type": "code",
      "metadata": {
        "id": "-AiV-2I_vZbl",
        "outputId": "bafeb1fd-726e-49af-d51d-2dac1756f1ff",
        "colab": {
          "base_uri": "https://localhost:8080/",
          "height": 300
        }
      },
      "source": [
        "df.describe()"
      ],
      "execution_count": 29,
      "outputs": [
        {
          "output_type": "execute_result",
          "data": {
            "text/html": [
              "<div>\n",
              "<style scoped>\n",
              "    .dataframe tbody tr th:only-of-type {\n",
              "        vertical-align: middle;\n",
              "    }\n",
              "\n",
              "    .dataframe tbody tr th {\n",
              "        vertical-align: top;\n",
              "    }\n",
              "\n",
              "    .dataframe thead th {\n",
              "        text-align: right;\n",
              "    }\n",
              "</style>\n",
              "<table border=\"1\" class=\"dataframe\">\n",
              "  <thead>\n",
              "    <tr style=\"text-align: right;\">\n",
              "      <th></th>\n",
              "      <th>gender</th>\n",
              "      <th>qt</th>\n",
              "      <th>touch</th>\n",
              "      <th>words</th>\n",
              "      <th>gift</th>\n",
              "      <th>service</th>\n",
              "    </tr>\n",
              "  </thead>\n",
              "  <tbody>\n",
              "    <tr>\n",
              "      <th>count</th>\n",
              "      <td>101.000000</td>\n",
              "      <td>101.000000</td>\n",
              "      <td>101.000000</td>\n",
              "      <td>101.000000</td>\n",
              "      <td>101.000000</td>\n",
              "      <td>101.000000</td>\n",
              "    </tr>\n",
              "    <tr>\n",
              "      <th>mean</th>\n",
              "      <td>0.198020</td>\n",
              "      <td>4.099010</td>\n",
              "      <td>3.168317</td>\n",
              "      <td>3.722772</td>\n",
              "      <td>2.732673</td>\n",
              "      <td>3.752475</td>\n",
              "    </tr>\n",
              "    <tr>\n",
              "      <th>std</th>\n",
              "      <td>0.400495</td>\n",
              "      <td>1.212476</td>\n",
              "      <td>1.334686</td>\n",
              "      <td>1.209287</td>\n",
              "      <td>1.325829</td>\n",
              "      <td>1.143730</td>\n",
              "    </tr>\n",
              "    <tr>\n",
              "      <th>min</th>\n",
              "      <td>0.000000</td>\n",
              "      <td>1.000000</td>\n",
              "      <td>1.000000</td>\n",
              "      <td>1.000000</td>\n",
              "      <td>1.000000</td>\n",
              "      <td>1.000000</td>\n",
              "    </tr>\n",
              "    <tr>\n",
              "      <th>25%</th>\n",
              "      <td>0.000000</td>\n",
              "      <td>4.000000</td>\n",
              "      <td>2.000000</td>\n",
              "      <td>3.000000</td>\n",
              "      <td>2.000000</td>\n",
              "      <td>3.000000</td>\n",
              "    </tr>\n",
              "    <tr>\n",
              "      <th>50%</th>\n",
              "      <td>0.000000</td>\n",
              "      <td>5.000000</td>\n",
              "      <td>3.000000</td>\n",
              "      <td>4.000000</td>\n",
              "      <td>3.000000</td>\n",
              "      <td>4.000000</td>\n",
              "    </tr>\n",
              "    <tr>\n",
              "      <th>75%</th>\n",
              "      <td>0.000000</td>\n",
              "      <td>5.000000</td>\n",
              "      <td>4.000000</td>\n",
              "      <td>5.000000</td>\n",
              "      <td>4.000000</td>\n",
              "      <td>5.000000</td>\n",
              "    </tr>\n",
              "    <tr>\n",
              "      <th>max</th>\n",
              "      <td>1.000000</td>\n",
              "      <td>5.000000</td>\n",
              "      <td>5.000000</td>\n",
              "      <td>5.000000</td>\n",
              "      <td>5.000000</td>\n",
              "      <td>5.000000</td>\n",
              "    </tr>\n",
              "  </tbody>\n",
              "</table>\n",
              "</div>"
            ],
            "text/plain": [
              "           gender          qt       touch       words        gift     service\n",
              "count  101.000000  101.000000  101.000000  101.000000  101.000000  101.000000\n",
              "mean     0.198020    4.099010    3.168317    3.722772    2.732673    3.752475\n",
              "std      0.400495    1.212476    1.334686    1.209287    1.325829    1.143730\n",
              "min      0.000000    1.000000    1.000000    1.000000    1.000000    1.000000\n",
              "25%      0.000000    4.000000    2.000000    3.000000    2.000000    3.000000\n",
              "50%      0.000000    5.000000    3.000000    4.000000    3.000000    4.000000\n",
              "75%      0.000000    5.000000    4.000000    5.000000    4.000000    5.000000\n",
              "max      1.000000    5.000000    5.000000    5.000000    5.000000    5.000000"
            ]
          },
          "metadata": {
            "tags": []
          },
          "execution_count": 29
        }
      ]
    },
    {
      "cell_type": "code",
      "metadata": {
        "id": "GRnl6FPCfkSQ"
      },
      "source": [
        "pickle.dump(m_nbrs, open('/content/m_model.pickle', 'wb'))\n",
        "pickle.dump(f_nbrs, open('/content/f_model.pickle', 'wb'))"
      ],
      "execution_count": 30,
      "outputs": []
    },
    {
      "cell_type": "code",
      "metadata": {
        "id": "xqll0A6uhPDv"
      },
      "source": [
        "df.to_csv('/content/data.csv', index=False)"
      ],
      "execution_count": 31,
      "outputs": []
    }
  ]
}
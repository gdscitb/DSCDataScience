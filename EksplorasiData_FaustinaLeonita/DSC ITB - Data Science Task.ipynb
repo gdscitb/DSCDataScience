{
 "cells": [
  {
   "cell_type": "code",
   "execution_count": 166,
   "metadata": {},
   "outputs": [],
   "source": [
    "#### Name : Faustina Leonita\n",
    "#### Major : Petroleum Engineering\n",
    "#### University : Universitas Pertamina\n",
    "#### Tanggal Pengerjaan Tugas : 13 November 2020"
   ]
  },
  {
   "cell_type": "code",
   "execution_count": 150,
   "metadata": {},
   "outputs": [],
   "source": [
    "import pandas as pd"
   ]
  },
  {
   "cell_type": "code",
   "execution_count": 151,
   "metadata": {},
   "outputs": [],
   "source": [
    "df = pd.read_csv(\"D:/DOCUMENTS/ORGANIZATION/GDSC ITB/DSCDataScience/takemeout.csv\").fillna(0)"
   ]
  },
  {
   "cell_type": "code",
   "execution_count": 152,
   "metadata": {},
   "outputs": [
    {
     "data": {
      "text/html": [
       "<div>\n",
       "<style scoped>\n",
       "    .dataframe tbody tr th:only-of-type {\n",
       "        vertical-align: middle;\n",
       "    }\n",
       "\n",
       "    .dataframe tbody tr th {\n",
       "        vertical-align: top;\n",
       "    }\n",
       "\n",
       "    .dataframe thead th {\n",
       "        text-align: right;\n",
       "    }\n",
       "</style>\n",
       "<table border=\"1\" class=\"dataframe\">\n",
       "  <thead>\n",
       "    <tr style=\"text-align: right;\">\n",
       "      <th></th>\n",
       "      <th>Timestamp</th>\n",
       "      <th>Siapa nama kamu?</th>\n",
       "      <th>Cewek atau cowok nih?</th>\n",
       "      <th>Seberapa penting quality time bareng calon pacar untuk kamu?</th>\n",
       "      <th>Seberapa penting physical touch sama calon pacar untuk kamu?</th>\n",
       "      <th>Seberapa penting word of affirmation dari calon pacar untuk kamu?</th>\n",
       "      <th>Seberapa penting dapet kado dari calon pacar untuk kamu?</th>\n",
       "      <th>Seberapa penting bantuan dari calon pacar untuk kamu?</th>\n",
       "    </tr>\n",
       "  </thead>\n",
       "  <tbody>\n",
       "    <tr>\n",
       "      <th>0</th>\n",
       "      <td>2020/10/31 3:39:25 PM GMT+7</td>\n",
       "      <td>A**************</td>\n",
       "      <td>Cowok</td>\n",
       "      <td>5</td>\n",
       "      <td>5</td>\n",
       "      <td>4</td>\n",
       "      <td>1</td>\n",
       "      <td>3</td>\n",
       "    </tr>\n",
       "    <tr>\n",
       "      <th>1</th>\n",
       "      <td>2020/10/31 3:39:36 PM GMT+7</td>\n",
       "      <td>L****</td>\n",
       "      <td>Cewek</td>\n",
       "      <td>5</td>\n",
       "      <td>5</td>\n",
       "      <td>3</td>\n",
       "      <td>2</td>\n",
       "      <td>2</td>\n",
       "    </tr>\n",
       "    <tr>\n",
       "      <th>2</th>\n",
       "      <td>2020/10/31 3:39:38 PM GMT+7</td>\n",
       "      <td>Y***********</td>\n",
       "      <td>Cowok</td>\n",
       "      <td>4</td>\n",
       "      <td>3</td>\n",
       "      <td>4</td>\n",
       "      <td>4</td>\n",
       "      <td>4</td>\n",
       "    </tr>\n",
       "    <tr>\n",
       "      <th>3</th>\n",
       "      <td>2020/10/31 3:39:42 PM GMT+7</td>\n",
       "      <td>a***</td>\n",
       "      <td>Cowok</td>\n",
       "      <td>5</td>\n",
       "      <td>5</td>\n",
       "      <td>5</td>\n",
       "      <td>2</td>\n",
       "      <td>3</td>\n",
       "    </tr>\n",
       "    <tr>\n",
       "      <th>4</th>\n",
       "      <td>2020/10/31 3:39:43 PM GMT+7</td>\n",
       "      <td>B****</td>\n",
       "      <td>Cowok</td>\n",
       "      <td>5</td>\n",
       "      <td>5</td>\n",
       "      <td>5</td>\n",
       "      <td>2</td>\n",
       "      <td>4</td>\n",
       "    </tr>\n",
       "  </tbody>\n",
       "</table>\n",
       "</div>"
      ],
      "text/plain": [
       "                     Timestamp Siapa nama kamu? Cewek atau cowok nih?  \\\n",
       "0  2020/10/31 3:39:25 PM GMT+7  A**************                 Cowok   \n",
       "1  2020/10/31 3:39:36 PM GMT+7            L****                 Cewek   \n",
       "2  2020/10/31 3:39:38 PM GMT+7     Y***********                 Cowok   \n",
       "3  2020/10/31 3:39:42 PM GMT+7             a***                 Cowok   \n",
       "4  2020/10/31 3:39:43 PM GMT+7            B****                 Cowok   \n",
       "\n",
       "   Seberapa penting quality time bareng calon pacar untuk kamu?  \\\n",
       "0                                                  5              \n",
       "1                                                  5              \n",
       "2                                                  4              \n",
       "3                                                  5              \n",
       "4                                                  5              \n",
       "\n",
       "   Seberapa penting physical touch sama calon pacar untuk kamu?  \\\n",
       "0                                                  5              \n",
       "1                                                  5              \n",
       "2                                                  3              \n",
       "3                                                  5              \n",
       "4                                                  5              \n",
       "\n",
       "   Seberapa penting word of affirmation dari calon pacar untuk kamu?  \\\n",
       "0                                                  4                   \n",
       "1                                                  3                   \n",
       "2                                                  4                   \n",
       "3                                                  5                   \n",
       "4                                                  5                   \n",
       "\n",
       "   Seberapa penting dapet kado dari calon pacar untuk kamu?  \\\n",
       "0                                                  1          \n",
       "1                                                  2          \n",
       "2                                                  4          \n",
       "3                                                  2          \n",
       "4                                                  2          \n",
       "\n",
       "   Seberapa penting bantuan dari calon pacar untuk kamu?  \n",
       "0                                                  3      \n",
       "1                                                  2      \n",
       "2                                                  4      \n",
       "3                                                  3      \n",
       "4                                                  4      "
      ]
     },
     "execution_count": 152,
     "metadata": {},
     "output_type": "execute_result"
    }
   ],
   "source": [
    "df.head()"
   ]
  },
  {
   "cell_type": "markdown",
   "metadata": {},
   "source": [
    "Disini, saya akan melampirkan file takemeout.csv dengan meng-import library pandas. Di kolom atas terdapat fillna(0), yang artinya jika datanya berupa NaN, maka code tersebut akan otomatis merubah tulisan NaN menjadi 0"
   ]
  },
  {
   "cell_type": "markdown",
   "metadata": {},
   "source": [
    "# Data Preprocessing"
   ]
  },
  {
   "cell_type": "code",
   "execution_count": 153,
   "metadata": {},
   "outputs": [],
   "source": [
    "df = df.iloc[:, 1:]"
   ]
  },
  {
   "cell_type": "code",
   "execution_count": 154,
   "metadata": {},
   "outputs": [
    {
     "data": {
      "text/html": [
       "<div>\n",
       "<style scoped>\n",
       "    .dataframe tbody tr th:only-of-type {\n",
       "        vertical-align: middle;\n",
       "    }\n",
       "\n",
       "    .dataframe tbody tr th {\n",
       "        vertical-align: top;\n",
       "    }\n",
       "\n",
       "    .dataframe thead th {\n",
       "        text-align: right;\n",
       "    }\n",
       "</style>\n",
       "<table border=\"1\" class=\"dataframe\">\n",
       "  <thead>\n",
       "    <tr style=\"text-align: right;\">\n",
       "      <th></th>\n",
       "      <th>Siapa nama kamu?</th>\n",
       "      <th>Cewek atau cowok nih?</th>\n",
       "      <th>Seberapa penting quality time bareng calon pacar untuk kamu?</th>\n",
       "      <th>Seberapa penting physical touch sama calon pacar untuk kamu?</th>\n",
       "      <th>Seberapa penting word of affirmation dari calon pacar untuk kamu?</th>\n",
       "      <th>Seberapa penting dapet kado dari calon pacar untuk kamu?</th>\n",
       "      <th>Seberapa penting bantuan dari calon pacar untuk kamu?</th>\n",
       "    </tr>\n",
       "  </thead>\n",
       "  <tbody>\n",
       "    <tr>\n",
       "      <th>0</th>\n",
       "      <td>A**************</td>\n",
       "      <td>Cowok</td>\n",
       "      <td>5</td>\n",
       "      <td>5</td>\n",
       "      <td>4</td>\n",
       "      <td>1</td>\n",
       "      <td>3</td>\n",
       "    </tr>\n",
       "    <tr>\n",
       "      <th>1</th>\n",
       "      <td>L****</td>\n",
       "      <td>Cewek</td>\n",
       "      <td>5</td>\n",
       "      <td>5</td>\n",
       "      <td>3</td>\n",
       "      <td>2</td>\n",
       "      <td>2</td>\n",
       "    </tr>\n",
       "    <tr>\n",
       "      <th>2</th>\n",
       "      <td>Y***********</td>\n",
       "      <td>Cowok</td>\n",
       "      <td>4</td>\n",
       "      <td>3</td>\n",
       "      <td>4</td>\n",
       "      <td>4</td>\n",
       "      <td>4</td>\n",
       "    </tr>\n",
       "    <tr>\n",
       "      <th>3</th>\n",
       "      <td>a***</td>\n",
       "      <td>Cowok</td>\n",
       "      <td>5</td>\n",
       "      <td>5</td>\n",
       "      <td>5</td>\n",
       "      <td>2</td>\n",
       "      <td>3</td>\n",
       "    </tr>\n",
       "    <tr>\n",
       "      <th>4</th>\n",
       "      <td>B****</td>\n",
       "      <td>Cowok</td>\n",
       "      <td>5</td>\n",
       "      <td>5</td>\n",
       "      <td>5</td>\n",
       "      <td>2</td>\n",
       "      <td>4</td>\n",
       "    </tr>\n",
       "  </tbody>\n",
       "</table>\n",
       "</div>"
      ],
      "text/plain": [
       "  Siapa nama kamu? Cewek atau cowok nih?  \\\n",
       "0  A**************                 Cowok   \n",
       "1            L****                 Cewek   \n",
       "2     Y***********                 Cowok   \n",
       "3             a***                 Cowok   \n",
       "4            B****                 Cowok   \n",
       "\n",
       "   Seberapa penting quality time bareng calon pacar untuk kamu?  \\\n",
       "0                                                  5              \n",
       "1                                                  5              \n",
       "2                                                  4              \n",
       "3                                                  5              \n",
       "4                                                  5              \n",
       "\n",
       "   Seberapa penting physical touch sama calon pacar untuk kamu?  \\\n",
       "0                                                  5              \n",
       "1                                                  5              \n",
       "2                                                  3              \n",
       "3                                                  5              \n",
       "4                                                  5              \n",
       "\n",
       "   Seberapa penting word of affirmation dari calon pacar untuk kamu?  \\\n",
       "0                                                  4                   \n",
       "1                                                  3                   \n",
       "2                                                  4                   \n",
       "3                                                  5                   \n",
       "4                                                  5                   \n",
       "\n",
       "   Seberapa penting dapet kado dari calon pacar untuk kamu?  \\\n",
       "0                                                  1          \n",
       "1                                                  2          \n",
       "2                                                  4          \n",
       "3                                                  2          \n",
       "4                                                  2          \n",
       "\n",
       "   Seberapa penting bantuan dari calon pacar untuk kamu?  \n",
       "0                                                  3      \n",
       "1                                                  2      \n",
       "2                                                  4      \n",
       "3                                                  3      \n",
       "4                                                  4      "
      ]
     },
     "execution_count": 154,
     "metadata": {},
     "output_type": "execute_result"
    }
   ],
   "source": [
    "df.head()"
   ]
  },
  {
   "cell_type": "markdown",
   "metadata": {},
   "source": [
    "Pada codingan diatas, saya melampirkan kolom dari nama, gender, quality time, physical touch, words of affirmation, gift, dan help. Sedangkan kolom timestamp tidak ditampilkan"
   ]
  },
  {
   "cell_type": "code",
   "execution_count": 155,
   "metadata": {},
   "outputs": [],
   "source": [
    "df.rename(columns={\"Siapa nama kamu?\":\"Name\", \"Cewek atau cowok nih?\":\"Gender\", \"Seberapa penting quality time bareng calon pacar untuk kamu?\":\"Quality Time\", \"Seberapa penting physical touch sama calon pacar untuk kamu?\":\"Physical Touch\", \"Seberapa penting word of affirmation dari calon pacar untuk kamu?\":\"Words of Affirmation\", \"Seberapa penting dapet kado dari calon pacar untuk kamu?\":\"Gift\", \"Seberapa penting bantuan dari calon pacar untuk kamu?\":\"Help\"}, inplace=True)"
   ]
  },
  {
   "cell_type": "code",
   "execution_count": 156,
   "metadata": {},
   "outputs": [
    {
     "data": {
      "text/html": [
       "<div>\n",
       "<style scoped>\n",
       "    .dataframe tbody tr th:only-of-type {\n",
       "        vertical-align: middle;\n",
       "    }\n",
       "\n",
       "    .dataframe tbody tr th {\n",
       "        vertical-align: top;\n",
       "    }\n",
       "\n",
       "    .dataframe thead th {\n",
       "        text-align: right;\n",
       "    }\n",
       "</style>\n",
       "<table border=\"1\" class=\"dataframe\">\n",
       "  <thead>\n",
       "    <tr style=\"text-align: right;\">\n",
       "      <th></th>\n",
       "      <th>Name</th>\n",
       "      <th>Gender</th>\n",
       "      <th>Quality Time</th>\n",
       "      <th>Physical Touch</th>\n",
       "      <th>Words of Affirmation</th>\n",
       "      <th>Gift</th>\n",
       "      <th>Help</th>\n",
       "    </tr>\n",
       "  </thead>\n",
       "  <tbody>\n",
       "    <tr>\n",
       "      <th>0</th>\n",
       "      <td>A**************</td>\n",
       "      <td>Cowok</td>\n",
       "      <td>5</td>\n",
       "      <td>5</td>\n",
       "      <td>4</td>\n",
       "      <td>1</td>\n",
       "      <td>3</td>\n",
       "    </tr>\n",
       "    <tr>\n",
       "      <th>1</th>\n",
       "      <td>L****</td>\n",
       "      <td>Cewek</td>\n",
       "      <td>5</td>\n",
       "      <td>5</td>\n",
       "      <td>3</td>\n",
       "      <td>2</td>\n",
       "      <td>2</td>\n",
       "    </tr>\n",
       "    <tr>\n",
       "      <th>2</th>\n",
       "      <td>Y***********</td>\n",
       "      <td>Cowok</td>\n",
       "      <td>4</td>\n",
       "      <td>3</td>\n",
       "      <td>4</td>\n",
       "      <td>4</td>\n",
       "      <td>4</td>\n",
       "    </tr>\n",
       "    <tr>\n",
       "      <th>3</th>\n",
       "      <td>a***</td>\n",
       "      <td>Cowok</td>\n",
       "      <td>5</td>\n",
       "      <td>5</td>\n",
       "      <td>5</td>\n",
       "      <td>2</td>\n",
       "      <td>3</td>\n",
       "    </tr>\n",
       "    <tr>\n",
       "      <th>4</th>\n",
       "      <td>B****</td>\n",
       "      <td>Cowok</td>\n",
       "      <td>5</td>\n",
       "      <td>5</td>\n",
       "      <td>5</td>\n",
       "      <td>2</td>\n",
       "      <td>4</td>\n",
       "    </tr>\n",
       "  </tbody>\n",
       "</table>\n",
       "</div>"
      ],
      "text/plain": [
       "              Name Gender  Quality Time  Physical Touch  Words of Affirmation  \\\n",
       "0  A**************  Cowok             5               5                     4   \n",
       "1            L****  Cewek             5               5                     3   \n",
       "2     Y***********  Cowok             4               3                     4   \n",
       "3             a***  Cowok             5               5                     5   \n",
       "4            B****  Cowok             5               5                     5   \n",
       "\n",
       "   Gift  Help  \n",
       "0     1     3  \n",
       "1     2     2  \n",
       "2     4     4  \n",
       "3     2     3  \n",
       "4     2     4  "
      ]
     },
     "execution_count": 156,
     "metadata": {},
     "output_type": "execute_result"
    }
   ],
   "source": [
    "df.head()"
   ]
  },
  {
   "cell_type": "markdown",
   "metadata": {},
   "source": [
    "Pada codingan diatas, saya mengganti nama kolom yang tertera dalam file csv menjadi nama yang telah saya ganti dan tertera dalam tabel"
   ]
  },
  {
   "cell_type": "code",
   "execution_count": 157,
   "metadata": {},
   "outputs": [],
   "source": [
    "df['Gender'] = df['Gender'].apply(lambda x:0 if x == \"Cowok\" else 1)"
   ]
  },
  {
   "cell_type": "code",
   "execution_count": 158,
   "metadata": {},
   "outputs": [],
   "source": [
    "m_df = df[df['Gender'] == 0]\n",
    "fm_df = df[df['Gender'] == 1]"
   ]
  },
  {
   "cell_type": "code",
   "execution_count": 168,
   "metadata": {},
   "outputs": [
    {
     "data": {
      "text/html": [
       "<div>\n",
       "<style scoped>\n",
       "    .dataframe tbody tr th:only-of-type {\n",
       "        vertical-align: middle;\n",
       "    }\n",
       "\n",
       "    .dataframe tbody tr th {\n",
       "        vertical-align: top;\n",
       "    }\n",
       "\n",
       "    .dataframe thead th {\n",
       "        text-align: right;\n",
       "    }\n",
       "</style>\n",
       "<table border=\"1\" class=\"dataframe\">\n",
       "  <thead>\n",
       "    <tr style=\"text-align: right;\">\n",
       "      <th></th>\n",
       "      <th>Name</th>\n",
       "      <th>Gender</th>\n",
       "      <th>Quality Time</th>\n",
       "      <th>Physical Touch</th>\n",
       "      <th>Words of Affirmation</th>\n",
       "      <th>Gift</th>\n",
       "      <th>Help</th>\n",
       "    </tr>\n",
       "  </thead>\n",
       "  <tbody>\n",
       "    <tr>\n",
       "      <th>0</th>\n",
       "      <td>A**************</td>\n",
       "      <td>0</td>\n",
       "      <td>5</td>\n",
       "      <td>5</td>\n",
       "      <td>4</td>\n",
       "      <td>1</td>\n",
       "      <td>3</td>\n",
       "    </tr>\n",
       "    <tr>\n",
       "      <th>1</th>\n",
       "      <td>L****</td>\n",
       "      <td>1</td>\n",
       "      <td>5</td>\n",
       "      <td>5</td>\n",
       "      <td>3</td>\n",
       "      <td>2</td>\n",
       "      <td>2</td>\n",
       "    </tr>\n",
       "    <tr>\n",
       "      <th>2</th>\n",
       "      <td>Y***********</td>\n",
       "      <td>0</td>\n",
       "      <td>4</td>\n",
       "      <td>3</td>\n",
       "      <td>4</td>\n",
       "      <td>4</td>\n",
       "      <td>4</td>\n",
       "    </tr>\n",
       "    <tr>\n",
       "      <th>3</th>\n",
       "      <td>a***</td>\n",
       "      <td>0</td>\n",
       "      <td>5</td>\n",
       "      <td>5</td>\n",
       "      <td>5</td>\n",
       "      <td>2</td>\n",
       "      <td>3</td>\n",
       "    </tr>\n",
       "    <tr>\n",
       "      <th>4</th>\n",
       "      <td>B****</td>\n",
       "      <td>0</td>\n",
       "      <td>5</td>\n",
       "      <td>5</td>\n",
       "      <td>5</td>\n",
       "      <td>2</td>\n",
       "      <td>4</td>\n",
       "    </tr>\n",
       "  </tbody>\n",
       "</table>\n",
       "</div>"
      ],
      "text/plain": [
       "              Name  Gender  Quality Time  Physical Touch  \\\n",
       "0  A**************       0             5               5   \n",
       "1            L****       1             5               5   \n",
       "2     Y***********       0             4               3   \n",
       "3             a***       0             5               5   \n",
       "4            B****       0             5               5   \n",
       "\n",
       "   Words of Affirmation  Gift  Help  \n",
       "0                     4     1     3  \n",
       "1                     3     2     2  \n",
       "2                     4     4     4  \n",
       "3                     5     2     3  \n",
       "4                     5     2     4  "
      ]
     },
     "execution_count": 168,
     "metadata": {},
     "output_type": "execute_result"
    }
   ],
   "source": [
    "df.head()"
   ]
  },
  {
   "cell_type": "markdown",
   "metadata": {},
   "source": [
    "Dalam codingan diatas, saya mencoba merubah jenis kelamin dengan membedakan gender cowok dan cewek"
   ]
  },
  {
   "cell_type": "markdown",
   "metadata": {},
   "source": [
    "# Data Processing"
   ]
  },
  {
   "cell_type": "code",
   "execution_count": 160,
   "metadata": {},
   "outputs": [
    {
     "data": {
      "text/html": [
       "<div>\n",
       "<style scoped>\n",
       "    .dataframe tbody tr th:only-of-type {\n",
       "        vertical-align: middle;\n",
       "    }\n",
       "\n",
       "    .dataframe tbody tr th {\n",
       "        vertical-align: top;\n",
       "    }\n",
       "\n",
       "    .dataframe thead th {\n",
       "        text-align: right;\n",
       "    }\n",
       "</style>\n",
       "<table border=\"1\" class=\"dataframe\">\n",
       "  <thead>\n",
       "    <tr style=\"text-align: right;\">\n",
       "      <th></th>\n",
       "      <th>Gender</th>\n",
       "      <th>Quality Time</th>\n",
       "      <th>Physical Touch</th>\n",
       "      <th>Words of Affirmation</th>\n",
       "      <th>Gift</th>\n",
       "      <th>Help</th>\n",
       "    </tr>\n",
       "  </thead>\n",
       "  <tbody>\n",
       "    <tr>\n",
       "      <th>count</th>\n",
       "      <td>101.000000</td>\n",
       "      <td>101.000000</td>\n",
       "      <td>101.000000</td>\n",
       "      <td>101.000000</td>\n",
       "      <td>101.000000</td>\n",
       "      <td>101.000000</td>\n",
       "    </tr>\n",
       "    <tr>\n",
       "      <th>mean</th>\n",
       "      <td>0.198020</td>\n",
       "      <td>4.099010</td>\n",
       "      <td>3.168317</td>\n",
       "      <td>3.722772</td>\n",
       "      <td>2.732673</td>\n",
       "      <td>3.752475</td>\n",
       "    </tr>\n",
       "    <tr>\n",
       "      <th>std</th>\n",
       "      <td>0.400495</td>\n",
       "      <td>1.212476</td>\n",
       "      <td>1.334686</td>\n",
       "      <td>1.209287</td>\n",
       "      <td>1.325829</td>\n",
       "      <td>1.143730</td>\n",
       "    </tr>\n",
       "    <tr>\n",
       "      <th>min</th>\n",
       "      <td>0.000000</td>\n",
       "      <td>1.000000</td>\n",
       "      <td>1.000000</td>\n",
       "      <td>1.000000</td>\n",
       "      <td>1.000000</td>\n",
       "      <td>1.000000</td>\n",
       "    </tr>\n",
       "    <tr>\n",
       "      <th>25%</th>\n",
       "      <td>0.000000</td>\n",
       "      <td>4.000000</td>\n",
       "      <td>2.000000</td>\n",
       "      <td>3.000000</td>\n",
       "      <td>2.000000</td>\n",
       "      <td>3.000000</td>\n",
       "    </tr>\n",
       "    <tr>\n",
       "      <th>50%</th>\n",
       "      <td>0.000000</td>\n",
       "      <td>5.000000</td>\n",
       "      <td>3.000000</td>\n",
       "      <td>4.000000</td>\n",
       "      <td>3.000000</td>\n",
       "      <td>4.000000</td>\n",
       "    </tr>\n",
       "    <tr>\n",
       "      <th>75%</th>\n",
       "      <td>0.000000</td>\n",
       "      <td>5.000000</td>\n",
       "      <td>4.000000</td>\n",
       "      <td>5.000000</td>\n",
       "      <td>4.000000</td>\n",
       "      <td>5.000000</td>\n",
       "    </tr>\n",
       "    <tr>\n",
       "      <th>max</th>\n",
       "      <td>1.000000</td>\n",
       "      <td>5.000000</td>\n",
       "      <td>5.000000</td>\n",
       "      <td>5.000000</td>\n",
       "      <td>5.000000</td>\n",
       "      <td>5.000000</td>\n",
       "    </tr>\n",
       "  </tbody>\n",
       "</table>\n",
       "</div>"
      ],
      "text/plain": [
       "           Gender  Quality Time  Physical Touch  Words of Affirmation  \\\n",
       "count  101.000000    101.000000      101.000000            101.000000   \n",
       "mean     0.198020      4.099010        3.168317              3.722772   \n",
       "std      0.400495      1.212476        1.334686              1.209287   \n",
       "min      0.000000      1.000000        1.000000              1.000000   \n",
       "25%      0.000000      4.000000        2.000000              3.000000   \n",
       "50%      0.000000      5.000000        3.000000              4.000000   \n",
       "75%      0.000000      5.000000        4.000000              5.000000   \n",
       "max      1.000000      5.000000        5.000000              5.000000   \n",
       "\n",
       "             Gift        Help  \n",
       "count  101.000000  101.000000  \n",
       "mean     2.732673    3.752475  \n",
       "std      1.325829    1.143730  \n",
       "min      1.000000    1.000000  \n",
       "25%      2.000000    3.000000  \n",
       "50%      3.000000    4.000000  \n",
       "75%      4.000000    5.000000  \n",
       "max      5.000000    5.000000  "
      ]
     },
     "execution_count": 160,
     "metadata": {},
     "output_type": "execute_result"
    }
   ],
   "source": [
    "df.describe()"
   ]
  },
  {
   "cell_type": "markdown",
   "metadata": {},
   "source": [
    "Dari codingan tersebut, saya mendapatkan nilai total penjumlahan dari gender, quality time, physical touch, words of affirmation, gift, dan help dengan total dari keseluruhan data yang telah diisi di formnya terdapat 101 orang yang telah mengisi form tersebut. Kemudian dari tabel tersebut, didapat hasil dari mean (rata-rata), standar deviasi (STD), nilai minimal dan maksimal, Q1 (kuartil 1) dan Q3 (kuartil 3), dan juga Q2 (kuartil 2) yang juga merupakan median dari data csv"
   ]
  },
  {
   "cell_type": "code",
   "execution_count": 161,
   "metadata": {},
   "outputs": [
    {
     "data": {
      "text/plain": [
       "-0.14374661623537008"
      ]
     },
     "execution_count": 161,
     "metadata": {},
     "output_type": "execute_result"
    }
   ],
   "source": [
    "df[\"Quality Time\"].corr(df[\"Gender\"])"
   ]
  },
  {
   "cell_type": "code",
   "execution_count": 162,
   "metadata": {},
   "outputs": [
    {
     "data": {
      "text/plain": [
       "-0.1939319896761031"
      ]
     },
     "execution_count": 162,
     "metadata": {},
     "output_type": "execute_result"
    }
   ],
   "source": [
    "df[\"Physical Touch\"].corr(df[\"Gender\"])"
   ]
  },
  {
   "cell_type": "code",
   "execution_count": 163,
   "metadata": {},
   "outputs": [
    {
     "data": {
      "text/plain": [
       "-0.17458628177857227"
      ]
     },
     "execution_count": 163,
     "metadata": {},
     "output_type": "execute_result"
    }
   ],
   "source": [
    "df[\"Words of Affirmation\"].corr(df[\"Gender\"])"
   ]
  },
  {
   "cell_type": "code",
   "execution_count": 164,
   "metadata": {},
   "outputs": [
    {
     "data": {
      "text/plain": [
       "-0.012306606673224151"
      ]
     },
     "execution_count": 164,
     "metadata": {},
     "output_type": "execute_result"
    }
   ],
   "source": [
    "df[\"Gift\"].corr(df[\"Gender\"])"
   ]
  },
  {
   "cell_type": "code",
   "execution_count": 165,
   "metadata": {},
   "outputs": [
    {
     "data": {
      "text/plain": [
       "-0.022912056706065307"
      ]
     },
     "execution_count": 165,
     "metadata": {},
     "output_type": "execute_result"
    }
   ],
   "source": [
    "df[\"Help\"].corr(df[\"Gender\"])"
   ]
  },
  {
   "cell_type": "markdown",
   "metadata": {},
   "source": [
    "Dari codingan tersebut, saya mencoba mencari koefisien korelasi. Lalu, saya membandingkan antara gender dengan physical touch, words of affirmation, quality time, help, dan gift dengan secara satu-satu. Dari hasil tersebut dapat disimpulkan bahwa korelasi gender dengan physical touch, gift, help, dan quality time, dengan hasil yang telah didapat semuanya mendekati 0. Artinya semakin korelasi tersebut mendekati 0, maka perbandingan antara 2 kolom tersebut tidak ada korelasinya "
   ]
  },
  {
   "cell_type": "markdown",
   "metadata": {},
   "source": [
    "Sumber dataset : takemeout.csv"
   ]
  }
 ],
 "metadata": {
  "kernelspec": {
   "display_name": "Python 3",
   "language": "python",
   "name": "python3"
  },
  "language_info": {
   "codemirror_mode": {
    "name": "ipython",
    "version": 3
   },
   "file_extension": ".py",
   "mimetype": "text/x-python",
   "name": "python",
   "nbconvert_exporter": "python",
   "pygments_lexer": "ipython3",
   "version": "3.7.6"
  }
 },
 "nbformat": 4,
 "nbformat_minor": 4
}

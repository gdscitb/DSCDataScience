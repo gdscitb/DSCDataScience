{
  "nbformat": 4,
  "nbformat_minor": 0,
  "metadata": {
    "colab": {
      "name": "DSC_2_DataScience.ipynb",
      "provenance": [],
      "collapsed_sections": [
        "sipwt4tltQlN",
        "Y-ohGvHWu5PV",
        "-4fbKgfm5Huz",
        "nlZlDi0XjmFd"
      ],
      "authorship_tag": "ABX9TyNatSKVQ6l3avoAkLeJjPsr",
      "include_colab_link": true
    },
    "kernelspec": {
      "display_name": "Python 3",
      "name": "python3"
    }
  },
  "cells": [
    {
      "cell_type": "markdown",
      "metadata": {
        "id": "view-in-github",
        "colab_type": "text"
      },
      "source": [
        "<a href=\"https://colab.research.google.com/github/alifiarahmah/DSCDataScience/blob/main/EksplorasiData_AlifiaRahmah/DSC_2_DataScience.ipynb\" target=\"_parent\"><img src=\"https://colab.research.google.com/assets/colab-badge.svg\" alt=\"Open In Colab\"/></a>"
      ]
    },
    {
      "cell_type": "markdown",
      "metadata": {
        "id": "_2yQP0aaupex"
      },
      "source": [
        "# Tugas Event #2 DSC - Solving Real-World Problems with Data Science\n",
        "Nama: Alifia Rahmah<br>\n",
        "NIM: 16520309"
      ]
    },
    {
      "cell_type": "markdown",
      "metadata": {
        "id": "RmdCvt8QvcQP"
      },
      "source": [
        "### Import module Pandas, NumPy, dan PyPlot"
      ]
    },
    {
      "cell_type": "code",
      "metadata": {
        "id": "KGCZww2remjr"
      },
      "source": [
        "import pandas as pd\n",
        "import numpy as np\n",
        "import matplotlib.pyplot as plt"
      ],
      "execution_count": 1,
      "outputs": []
    },
    {
      "cell_type": "markdown",
      "metadata": {
        "id": "sipwt4tltQlN"
      },
      "source": [
        "# \\#1 - Data Preparation"
      ]
    },
    {
      "cell_type": "markdown",
      "metadata": {
        "id": "Y-ohGvHWu5PV"
      },
      "source": [
        "## Data Collecting\n",
        "Untuk tugas ini, saya mengambil dataset dari Kaggle, dengan judul \"dfies on Netflix, Prime Video, Hulu and Disney+\" oleh Ruchi Bhatia.<br>\n",
        "[Sumber](https://www.kaggle.com/ruchi798/dfies-on-netflix-prime-video-hulu-and-disney)"
      ]
    },
    {
      "cell_type": "code",
      "metadata": {
        "id": "yWnYbAI8ep7B"
      },
      "source": [
        "df = pd.read_csv(\"movies.csv\")"
      ],
      "execution_count": 2,
      "outputs": []
    },
    {
      "cell_type": "markdown",
      "metadata": {
        "id": "-4fbKgfm5Huz"
      },
      "source": [
        "# \\#2 - Data Preprocessing"
      ]
    },
    {
      "cell_type": "markdown",
      "metadata": {
        "id": "qliEHWpl5y4n"
      },
      "source": [
        "##Data Cleaning"
      ]
    },
    {
      "cell_type": "code",
      "metadata": {
        "id": "pNZKKcu5uUoX"
      },
      "source": [
        "# menghapus kolom Unnamed:0 dan kolom Type karena sepertinya tidak penting\n",
        "del df['Unnamed: 0']\n",
        "del df['Type']"
      ],
      "execution_count": 3,
      "outputs": []
    },
    {
      "cell_type": "code",
      "metadata": {
        "id": "pZbuFKkgvpgZ"
      },
      "source": [
        "# rename kolom\n",
        "df.columns = ['id', 'title', 'year', 'age', 'imdb', 'rotten', 'netflix', 'hulu', 'prime', 'disney', 'directors', 'genres', 'country', 'lang', 'time']"
      ],
      "execution_count": 4,
      "outputs": []
    },
    {
      "cell_type": "code",
      "metadata": {
        "id": "iXbFTXShqT6a"
      },
      "source": [
        "# hapus last string '+' di age dan '%' di kolom 'rotten'\n",
        "df['age'] = df['age'].str[:-1]\n",
        "df['rotten'] = df['rotten'].str[:-1]"
      ],
      "execution_count": 5,
      "outputs": []
    },
    {
      "cell_type": "code",
      "metadata": {
        "id": "0Fhsic1erqj2"
      },
      "source": [
        "# jadiin imdb dan rotten numeric\n",
        "df['imdb'] = pd.to_numeric(df['imdb'])\n",
        "df['rotten'] = pd.to_numeric(df['rotten'])"
      ],
      "execution_count": 6,
      "outputs": []
    },
    {
      "cell_type": "code",
      "metadata": {
        "id": "li4P2TcICbeP",
        "outputId": "510a1bdc-77c6-4b6d-b0c6-d9ea461de196",
        "colab": {
          "base_uri": "https://localhost:8080/",
          "height": 411
        }
      },
      "source": [
        "df.head()"
      ],
      "execution_count": 7,
      "outputs": [
        {
          "output_type": "execute_result",
          "data": {
            "text/html": [
              "<div>\n",
              "<style scoped>\n",
              "    .dataframe tbody tr th:only-of-type {\n",
              "        vertical-align: middle;\n",
              "    }\n",
              "\n",
              "    .dataframe tbody tr th {\n",
              "        vertical-align: top;\n",
              "    }\n",
              "\n",
              "    .dataframe thead th {\n",
              "        text-align: right;\n",
              "    }\n",
              "</style>\n",
              "<table border=\"1\" class=\"dataframe\">\n",
              "  <thead>\n",
              "    <tr style=\"text-align: right;\">\n",
              "      <th></th>\n",
              "      <th>id</th>\n",
              "      <th>title</th>\n",
              "      <th>year</th>\n",
              "      <th>age</th>\n",
              "      <th>imdb</th>\n",
              "      <th>rotten</th>\n",
              "      <th>netflix</th>\n",
              "      <th>hulu</th>\n",
              "      <th>prime</th>\n",
              "      <th>disney</th>\n",
              "      <th>directors</th>\n",
              "      <th>genres</th>\n",
              "      <th>country</th>\n",
              "      <th>lang</th>\n",
              "      <th>time</th>\n",
              "    </tr>\n",
              "  </thead>\n",
              "  <tbody>\n",
              "    <tr>\n",
              "      <th>0</th>\n",
              "      <td>1</td>\n",
              "      <td>Inception</td>\n",
              "      <td>2010</td>\n",
              "      <td>13</td>\n",
              "      <td>8.8</td>\n",
              "      <td>87.0</td>\n",
              "      <td>1</td>\n",
              "      <td>0</td>\n",
              "      <td>0</td>\n",
              "      <td>0</td>\n",
              "      <td>Christopher Nolan</td>\n",
              "      <td>Action,Adventure,Sci-Fi,Thriller</td>\n",
              "      <td>United States,United Kingdom</td>\n",
              "      <td>English,Japanese,French</td>\n",
              "      <td>148.0</td>\n",
              "    </tr>\n",
              "    <tr>\n",
              "      <th>1</th>\n",
              "      <td>2</td>\n",
              "      <td>The Matrix</td>\n",
              "      <td>1999</td>\n",
              "      <td>18</td>\n",
              "      <td>8.7</td>\n",
              "      <td>87.0</td>\n",
              "      <td>1</td>\n",
              "      <td>0</td>\n",
              "      <td>0</td>\n",
              "      <td>0</td>\n",
              "      <td>Lana Wachowski,Lilly Wachowski</td>\n",
              "      <td>Action,Sci-Fi</td>\n",
              "      <td>United States</td>\n",
              "      <td>English</td>\n",
              "      <td>136.0</td>\n",
              "    </tr>\n",
              "    <tr>\n",
              "      <th>2</th>\n",
              "      <td>3</td>\n",
              "      <td>Avengers: Infinity War</td>\n",
              "      <td>2018</td>\n",
              "      <td>13</td>\n",
              "      <td>8.5</td>\n",
              "      <td>84.0</td>\n",
              "      <td>1</td>\n",
              "      <td>0</td>\n",
              "      <td>0</td>\n",
              "      <td>0</td>\n",
              "      <td>Anthony Russo,Joe Russo</td>\n",
              "      <td>Action,Adventure,Sci-Fi</td>\n",
              "      <td>United States</td>\n",
              "      <td>English</td>\n",
              "      <td>149.0</td>\n",
              "    </tr>\n",
              "    <tr>\n",
              "      <th>3</th>\n",
              "      <td>4</td>\n",
              "      <td>Back to the Future</td>\n",
              "      <td>1985</td>\n",
              "      <td>7</td>\n",
              "      <td>8.5</td>\n",
              "      <td>96.0</td>\n",
              "      <td>1</td>\n",
              "      <td>0</td>\n",
              "      <td>0</td>\n",
              "      <td>0</td>\n",
              "      <td>Robert Zemeckis</td>\n",
              "      <td>Adventure,Comedy,Sci-Fi</td>\n",
              "      <td>United States</td>\n",
              "      <td>English</td>\n",
              "      <td>116.0</td>\n",
              "    </tr>\n",
              "    <tr>\n",
              "      <th>4</th>\n",
              "      <td>5</td>\n",
              "      <td>The Good, the Bad and the Ugly</td>\n",
              "      <td>1966</td>\n",
              "      <td>18</td>\n",
              "      <td>8.8</td>\n",
              "      <td>97.0</td>\n",
              "      <td>1</td>\n",
              "      <td>0</td>\n",
              "      <td>1</td>\n",
              "      <td>0</td>\n",
              "      <td>Sergio Leone</td>\n",
              "      <td>Western</td>\n",
              "      <td>Italy,Spain,West Germany</td>\n",
              "      <td>Italian</td>\n",
              "      <td>161.0</td>\n",
              "    </tr>\n",
              "  </tbody>\n",
              "</table>\n",
              "</div>"
            ],
            "text/plain": [
              "   id                           title  ...                     lang   time\n",
              "0   1                       Inception  ...  English,Japanese,French  148.0\n",
              "1   2                      The Matrix  ...                  English  136.0\n",
              "2   3          Avengers: Infinity War  ...                  English  149.0\n",
              "3   4              Back to the Future  ...                  English  116.0\n",
              "4   5  The Good, the Bad and the Ugly  ...                  Italian  161.0\n",
              "\n",
              "[5 rows x 15 columns]"
            ]
          },
          "metadata": {
            "tags": []
          },
          "execution_count": 7
        }
      ]
    },
    {
      "cell_type": "markdown",
      "metadata": {
        "id": "3Sxhpvf0JQUr"
      },
      "source": [
        "# \\#3 - Data Observation"
      ]
    },
    {
      "cell_type": "markdown",
      "metadata": {
        "id": "nlZlDi0XjmFd"
      },
      "source": [
        "###Observasi kolom 'year'"
      ]
    },
    {
      "cell_type": "code",
      "metadata": {
        "id": "kTTee2KHjqLj",
        "outputId": "dee51ed8-719e-4588-b018-621badb3be18",
        "colab": {
          "base_uri": "https://localhost:8080/"
        }
      },
      "source": [
        "# Mendaftar kemunculan tiap tahun pada data\n",
        "df['year'].value_counts()"
      ],
      "execution_count": 103,
      "outputs": [
        {
          "output_type": "execute_result",
          "data": {
            "text/plain": [
              "2017    1401\n",
              "2018    1285\n",
              "2016    1206\n",
              "2015    1065\n",
              "2014     986\n",
              "        ... \n",
              "1924       1\n",
              "1912       1\n",
              "1916       1\n",
              "1917       1\n",
              "1902       1\n",
              "Name: year, Length: 109, dtype: int64"
            ]
          },
          "metadata": {
            "tags": []
          },
          "execution_count": 103
        }
      ]
    },
    {
      "cell_type": "code",
      "metadata": {
        "id": "KLj4htXXOFFq",
        "outputId": "b049a767-b658-4b58-9276-70f170cb6bc3",
        "colab": {
          "base_uri": "https://localhost:8080/"
        }
      },
      "source": [
        "print((df['year'].value_counts()).head()) # Tahun paling banyak film rilis + frekuensinya"
      ],
      "execution_count": 105,
      "outputs": [
        {
          "output_type": "stream",
          "text": [
            "2017    1401\n",
            "2018    1285\n",
            "2016    1206\n",
            "2015    1065\n",
            "2014     986\n",
            "Name: year, dtype: int64\n"
          ],
          "name": "stdout"
        }
      ]
    },
    {
      "cell_type": "code",
      "metadata": {
        "id": "e1NWH05BNzw_",
        "outputId": "f68c0d9b-42dd-4589-e53a-a121dc73b566",
        "colab": {
          "base_uri": "https://localhost:8080/"
        }
      },
      "source": [
        "# Ada berapa film yang rilis pada tahun terbaru\n",
        "print(df.pivot_table(index=['year'],aggfunc='size').tail(1))\n",
        "\n",
        "# Salah satu judul film yang rilis pada tahun tsb\n",
        "imax = df['year'].idxmax()\n",
        "print(df[imax:imax+1])"
      ],
      "execution_count": 112,
      "outputs": [
        {
          "output_type": "stream",
          "text": [
            "year\n",
            "2020    147\n",
            "dtype: int64\n",
            "    id                              title  year  ...        country     lang  time\n",
            "65  66  To All the Boys I've Loved Before  2020  ...  United States  English  99.0\n",
            "\n",
            "[1 rows x 15 columns]\n"
          ],
          "name": "stdout"
        }
      ]
    },
    {
      "cell_type": "code",
      "metadata": {
        "id": "qtrXbw-7o1KX",
        "outputId": "022ecb8e-aa1b-4f87-a9bb-0433da2d1f85",
        "colab": {
          "base_uri": "https://localhost:8080/"
        }
      },
      "source": [
        "# Ada berapa film yang rilis pada tahun oldest\n",
        "print(df.pivot_table(index=['year'],aggfunc='size').head(1))\n",
        "\n",
        "# Cari judul film yang rilis pada tahun tsb\n",
        "imin = df['year'].idxmin()\n",
        "print(df[imin:imin+1])"
      ],
      "execution_count": 107,
      "outputs": [
        {
          "output_type": "stream",
          "text": [
            "year\n",
            "1902    1\n",
            "dtype: int64\n",
            "4467\n",
            "        id               title  year  ... country         lang  time\n",
            "4467  4468  A Trip to the Moon  1902  ...  France  None,French  13.0\n",
            "\n",
            "[1 rows x 15 columns]\n"
          ],
          "name": "stdout"
        }
      ]
    },
    {
      "cell_type": "markdown",
      "metadata": {
        "id": "LRWDwXgpmS4x"
      },
      "source": [
        "###Observasi kolom 'age'"
      ]
    },
    {
      "cell_type": "code",
      "metadata": {
        "id": "4-FjRjRvpGqc",
        "outputId": "647e99e1-c75a-4092-ca70-f09484f660a3",
        "colab": {
          "base_uri": "https://localhost:8080/"
        }
      },
      "source": [
        "# DataFrame film bikin tabel frekuensi kemunculan variasi film dengan umur segitu dengan pivot table\n",
        "age_freq = df.pivot_table(index=['age'],aggfunc='size')\n",
        "print(age_freq.head())"
      ],
      "execution_count": 26,
      "outputs": [
        {
          "output_type": "stream",
          "text": [
            "age\n",
            "13    1255\n",
            "16     320\n",
            "18    3474\n",
            "7     1462\n",
            "al     843\n",
            "dtype: int64\n"
          ],
          "name": "stdout"
        }
      ]
    },
    {
      "cell_type": "code",
      "metadata": {
        "id": "aFrEY1VgsBEU",
        "outputId": "7c87b49c-a589-4c00-da38-6ad06a3f1eed",
        "colab": {
          "base_uri": "https://localhost:8080/"
        }
      },
      "source": [
        "# judul film yang aman untuk semua umur\n",
        "ageall = df.loc[df['age'] == 'al']['title']\n",
        "print(ageall)"
      ],
      "execution_count": 113,
      "outputs": [
        {
          "output_type": "stream",
          "text": [
            "54       Willy Wonka & the Chocolate Factory\n",
            "91                                    Tarzan\n",
            "125                The Princess and the Frog\n",
            "133                                   Barfi!\n",
            "151                                   Swades\n",
            "                        ...                 \n",
            "16722                        Secrets of Life\n",
            "16726           Richie Rich's Christmas Wish\n",
            "16727        The Jungle Book: Mowgli's Story\n",
            "16737                        The Bears and I\n",
            "16738           Whispers: An Elephant's Tale\n",
            "Name: title, Length: 843, dtype: object\n"
          ],
          "name": "stdout"
        }
      ]
    },
    {
      "cell_type": "code",
      "metadata": {
        "id": "NwWej6EvJpnT",
        "outputId": "1e98c167-5a78-4aeb-b67f-eec0ec4f7830",
        "colab": {
          "base_uri": "https://localhost:8080/"
        }
      },
      "source": [
        "# judul film yang aman untuk anak sampai 7 tahun\n",
        "age7 = df.loc[df['age'] == '7']['title'].append(ageall)\n",
        "print(age7)"
      ],
      "execution_count": 118,
      "outputs": [
        {
          "output_type": "stream",
          "text": [
            "3                       Back to the Future\n",
            "5        Spider-Man: Into the Spider-Verse\n",
            "8                  Raiders of the Lost Ark\n",
            "14         Monty Python and the Holy Grail\n",
            "17                           Groundhog Day\n",
            "                       ...                \n",
            "16722                      Secrets of Life\n",
            "16726         Richie Rich's Christmas Wish\n",
            "16727      The Jungle Book: Mowgli's Story\n",
            "16737                      The Bears and I\n",
            "16738         Whispers: An Elephant's Tale\n",
            "Name: title, Length: 2305, dtype: object\n"
          ],
          "name": "stdout"
        }
      ]
    },
    {
      "cell_type": "code",
      "metadata": {
        "id": "yHenIE5CIbcD",
        "outputId": "288633b6-4805-42dc-f72e-419a87382eca",
        "colab": {
          "base_uri": "https://localhost:8080/"
        }
      },
      "source": [
        "# judul film yang aman untuk anak sampai 13 tahun\n",
        "age13 = df.loc[df['age'] == '13']['title'].append(age7)\n",
        "print(age13)"
      ],
      "execution_count": 119,
      "outputs": [
        {
          "output_type": "stream",
          "text": [
            "0                                 Inception\n",
            "2                    Avengers: Infinity War\n",
            "11                                 3 Idiots\n",
            "15             Once Upon a Time in the West\n",
            "16       Indiana Jones and the Last Crusade\n",
            "                        ...                \n",
            "16722                       Secrets of Life\n",
            "16726          Richie Rich's Christmas Wish\n",
            "16727       The Jungle Book: Mowgli's Story\n",
            "16737                       The Bears and I\n",
            "16738          Whispers: An Elephant's Tale\n",
            "Name: title, Length: 3560, dtype: object\n"
          ],
          "name": "stdout"
        }
      ]
    },
    {
      "cell_type": "code",
      "metadata": {
        "id": "qZwvr5h8IcjT",
        "outputId": "ffc6ab45-37a0-43f1-8c32-c68eec894ff6",
        "colab": {
          "base_uri": "https://localhost:8080/"
        }
      },
      "source": [
        "# judul film yang aman untuk anak sampai 16 tahun\n",
        "age16 = df.loc[df['age'] == '16']['title'].append(age13)\n",
        "print(age16)"
      ],
      "execution_count": 120,
      "outputs": [
        {
          "output_type": "stream",
          "text": [
            "234                     American Factory\n",
            "246                      The Wolf's Call\n",
            "249                    The White Helmets\n",
            "280                The Edge of Democracy\n",
            "332                          Sour Grapes\n",
            "                      ...               \n",
            "16722                    Secrets of Life\n",
            "16726       Richie Rich's Christmas Wish\n",
            "16727    The Jungle Book: Mowgli's Story\n",
            "16737                    The Bears and I\n",
            "16738       Whispers: An Elephant's Tale\n",
            "Name: title, Length: 3880, dtype: object\n"
          ],
          "name": "stdout"
        }
      ]
    },
    {
      "cell_type": "code",
      "metadata": {
        "id": "eHTMRv-dKM_R",
        "outputId": "2fd61257-838e-43d8-bb56-78b208710271",
        "colab": {
          "base_uri": "https://localhost:8080/"
        }
      },
      "source": [
        "# judul film yang aman untuk anak sampai 18 tahun... ya semuanya\n",
        "age18 = df\n",
        "print(age18)"
      ],
      "execution_count": 115,
      "outputs": [
        {
          "output_type": "stream",
          "text": [
            "          id                           title  ...                     lang   time\n",
            "0          1                       Inception  ...  English,Japanese,French  148.0\n",
            "1          2                      The Matrix  ...                  English  136.0\n",
            "2          3          Avengers: Infinity War  ...                  English  149.0\n",
            "3          4              Back to the Future  ...                  English  116.0\n",
            "4          5  The Good, the Bad and the Ugly  ...                  Italian  161.0\n",
            "...      ...                             ...  ...                      ...    ...\n",
            "16739  16740       The Ghosts of Buxley Hall  ...                  English  120.0\n",
            "16740  16741                  The Poof Point  ...                  English   90.0\n",
            "16741  16742           Sharks of Lost Island  ...                  English    NaN\n",
            "16742  16743              Man Among Cheetahs  ...                  English    NaN\n",
            "16743  16744                In Beaver Valley  ...                  English   32.0\n",
            "\n",
            "[16744 rows x 15 columns]\n"
          ],
          "name": "stdout"
        }
      ]
    },
    {
      "cell_type": "markdown",
      "metadata": {
        "id": "vLPmluY6LS6q"
      },
      "source": [
        "\n",
        "###Observasi kolom 'imdb' dan 'rotten'"
      ]
    },
    {
      "cell_type": "markdown",
      "metadata": {
        "id": "MSPdBCgeSbz2"
      },
      "source": [
        "imdb"
      ]
    },
    {
      "cell_type": "code",
      "metadata": {
        "id": "3Heoj1IwLfsq"
      },
      "source": [
        "rate_imdb_max = df['imdb'].max()\n",
        "rate_imdb_min = df[df['imdb'] != 0]['imdb'].min()\n",
        "rate_imdb_avg = round(df['imdb'].mean(),2)"
      ],
      "execution_count": 132,
      "outputs": []
    },
    {
      "cell_type": "code",
      "metadata": {
        "id": "dREYlV05QzvP"
      },
      "source": [
        "print(rate_imdb_max)\n",
        "df.loc[df['imdb'] == rate_imdb_max]['title'] # film dengan rating imdb terbesar"
      ],
      "execution_count": null,
      "outputs": []
    },
    {
      "cell_type": "code",
      "metadata": {
        "id": "_KHeEmLFQ03o"
      },
      "source": [
        "print(rate_imdb_min)\n",
        "df.loc[df['imdb'] == rate_imdb_min]['title'] # film dengan rating imdb terkecil (kecuali 0 karena 0 diasumsikan unrated)"
      ],
      "execution_count": null,
      "outputs": []
    },
    {
      "cell_type": "markdown",
      "metadata": {
        "id": "vHg_4XqWScxH"
      },
      "source": [
        "rotten"
      ]
    },
    {
      "cell_type": "code",
      "metadata": {
        "id": "D-JBmmvnSdhn",
        "outputId": "acc1d4b2-d43a-4ee7-814a-96430d3c9df0",
        "colab": {
          "base_uri": "https://localhost:8080/"
        }
      },
      "source": [
        "rate_rt_max = df['rotten'].max()\n",
        "rate_rt_min = df[df['rotten'] != 0]['rotten'].min()\n",
        "rate_rt_avg = round(df['rotten'].mean(),2)\n",
        "print(rate_rt_avg)"
      ],
      "execution_count": 133,
      "outputs": [
        {
          "output_type": "stream",
          "text": [
            "65.43\n"
          ],
          "name": "stdout"
        }
      ]
    },
    {
      "cell_type": "code",
      "metadata": {
        "id": "E8EiNIQsSjS9",
        "outputId": "1b152a80-bdd5-45da-e621-089d56872fc6",
        "colab": {
          "base_uri": "https://localhost:8080/"
        }
      },
      "source": [
        "print(rate_rt_max)\n",
        "df.loc[df['rotten'] == rate_rt_max]['title'].head() # film dengan rating rotten terbesar (.head() biar yang keliatan 5 aja)"
      ],
      "execution_count": 125,
      "outputs": [
        {
          "output_type": "stream",
          "text": [
            "100.0\n"
          ],
          "name": "stdout"
        },
        {
          "output_type": "execute_result",
          "data": {
            "text/plain": [
              "11                                   3 Idiots\n",
              "89                              The Dawn Wall\n",
              "126                                Bad Genius\n",
              "141    Bill Burr: I'm Sorry You Feel That Way\n",
              "148                                The Square\n",
              "Name: title, dtype: object"
            ]
          },
          "metadata": {
            "tags": []
          },
          "execution_count": 125
        }
      ]
    },
    {
      "cell_type": "code",
      "metadata": {
        "id": "e91ed9CWSlnT",
        "outputId": "f86a19d0-08d3-42c1-adcc-0345e2e59f4d",
        "colab": {
          "base_uri": "https://localhost:8080/"
        }
      },
      "source": [
        "print(rate_rt_min)\n",
        "df.loc[df['rotten'] == rate_rt_min]['title'] # film dengan rating rotten terkecil (kecuali 0 karena 0 diasumsikan unrated)"
      ],
      "execution_count": 126,
      "outputs": [
        {
          "output_type": "stream",
          "text": [
            "2.0\n"
          ],
          "name": "stdout"
        },
        {
          "output_type": "execute_result",
          "data": {
            "text/plain": [
              "4208                 Getaway\n",
              "4257                    Nina\n",
              "6938      Strange Wilderness\n",
              "8133    Kickin' It Old Skool\n",
              "Name: title, dtype: object"
            ]
          },
          "metadata": {
            "tags": []
          },
          "execution_count": 126
        }
      ]
    },
    {
      "cell_type": "markdown",
      "metadata": {
        "id": "5Zy9rkOqTGqI"
      },
      "source": [
        "korelasi imdb dan rotten"
      ]
    },
    {
      "cell_type": "code",
      "metadata": {
        "id": "9CwDK2dxTNw9",
        "outputId": "c6a32bc3-bf5b-4e41-bb1d-047805b24d39",
        "colab": {
          "base_uri": "https://localhost:8080/"
        }
      },
      "source": [
        "df['imdb'].corr(df['rotten'])  # semakin dekat dengan 1, semakin 2 kolom berbanding lurus"
      ],
      "execution_count": 127,
      "outputs": [
        {
          "output_type": "execute_result",
          "data": {
            "text/plain": [
              "0.6163204883344218"
            ]
          },
          "metadata": {
            "tags": []
          },
          "execution_count": 127
        }
      ]
    },
    {
      "cell_type": "markdown",
      "metadata": {
        "id": "STPEQ2XemYWB"
      },
      "source": [
        "###Observasi kolom 'netflix', 'hulu', 'prime', 'disney'"
      ]
    },
    {
      "cell_type": "code",
      "metadata": {
        "id": "b4uK6XiaC1zE",
        "outputId": "3f9b3cb0-10de-4489-8f53-fe41056fc409",
        "colab": {
          "base_uri": "https://localhost:8080/"
        }
      },
      "source": [
        "# Tabel frekuensi layanan streaming\n",
        "stream = []\n",
        "\n",
        "# banyak film dari Netflix\n",
        "stream.append(['Netflix', ((df['netflix'] == 1).sum())])\n",
        "# banyak film dari Hulu\n",
        "stream.append(['Hulu', ((df['hulu'] == 1).sum())])\n",
        "# banyak film dari Prime\n",
        "stream.append(['Prime', ((df['prime'] == 1).sum())])\n",
        "# banyak film dari Disney+\n",
        "stream.append(['Disney+', ((df['disney'] == 1).sum())])\n",
        "\n",
        "stream = pd.DataFrame(data=stream)\n",
        "\n",
        "print(stream)"
      ],
      "execution_count": 77,
      "outputs": [
        {
          "output_type": "stream",
          "text": [
            "         0      1\n",
            "0  Netflix   3560\n",
            "1     Hulu    903\n",
            "2    Prime  12354\n",
            "3  Disney+    564\n"
          ],
          "name": "stdout"
        }
      ]
    },
    {
      "cell_type": "code",
      "metadata": {
        "id": "R7ns6bv7UIJW",
        "outputId": "40113896-ae03-40b1-e31e-d708ded3eb16",
        "colab": {
          "base_uri": "https://localhost:8080/",
          "height": 298
        }
      },
      "source": [
        "stream.plot(kind=\"barh\", x=0, y=1, title=\"Persediaan Film dari layanan streaming\")"
      ],
      "execution_count": 85,
      "outputs": [
        {
          "output_type": "execute_result",
          "data": {
            "text/plain": [
              "<matplotlib.axes._subplots.AxesSubplot at 0x7f88000683c8>"
            ]
          },
          "metadata": {
            "tags": []
          },
          "execution_count": 85
        },
        {
          "output_type": "display_data",
          "data": {
            "image/png": "[encoded data removed]",
            "text/plain": [
              "<Figure size 432x288 with 1 Axes>"
            ]
          },
          "metadata": {
            "tags": [],
            "needs_background": "light"
          }
        }
      ]
    },
    {
      "cell_type": "code",
      "metadata": {
        "id": "pf4vnvEdV5ww"
      },
      "source": [
        ""
      ],
      "execution_count": null,
      "outputs": []
    },
    {
      "cell_type": "markdown",
      "metadata": {
        "id": "-2tS_V0CV6Ka"
      },
      "source": [
        "###Observasi kolom 'time'"
      ]
    },
    {
      "cell_type": "code",
      "metadata": {
        "id": "2RH3X2ZdWJ31"
      },
      "source": [
        "max_time = df['time'].max()             # durasi film terlama\n",
        "min_time = df['time'].min()             # durasi film tersingkat\n",
        "avg_time = round(df['time'].mean(),2)   # rata-rata durasi film"
      ],
      "execution_count": 100,
      "outputs": []
    },
    {
      "cell_type": "code",
      "metadata": {
        "id": "0EudAD35XH1n",
        "outputId": "068940ed-783d-4f43-d684-60a3bf9159a9",
        "colab": {
          "base_uri": "https://localhost:8080/",
          "height": 80
        }
      },
      "source": [
        "df.loc[df['time'] == max_time] # film dengan durasi terlama"
      ],
      "execution_count": 101,
      "outputs": [
        {
          "output_type": "execute_result",
          "data": {
            "text/html": [
              "<div>\n",
              "<style scoped>\n",
              "    .dataframe tbody tr th:only-of-type {\n",
              "        vertical-align: middle;\n",
              "    }\n",
              "\n",
              "    .dataframe tbody tr th {\n",
              "        vertical-align: top;\n",
              "    }\n",
              "\n",
              "    .dataframe thead th {\n",
              "        text-align: right;\n",
              "    }\n",
              "</style>\n",
              "<table border=\"1\" class=\"dataframe\">\n",
              "  <thead>\n",
              "    <tr style=\"text-align: right;\">\n",
              "      <th></th>\n",
              "      <th>id</th>\n",
              "      <th>title</th>\n",
              "      <th>year</th>\n",
              "      <th>age</th>\n",
              "      <th>imdb</th>\n",
              "      <th>rotten</th>\n",
              "      <th>netflix</th>\n",
              "      <th>hulu</th>\n",
              "      <th>prime</th>\n",
              "      <th>disney</th>\n",
              "      <th>directors</th>\n",
              "      <th>genres</th>\n",
              "      <th>country</th>\n",
              "      <th>lang</th>\n",
              "      <th>time</th>\n",
              "    </tr>\n",
              "  </thead>\n",
              "  <tbody>\n",
              "    <tr>\n",
              "      <th>13179</th>\n",
              "      <td>13180</td>\n",
              "      <td>Colorado</td>\n",
              "      <td>1940</td>\n",
              "      <td>al</td>\n",
              "      <td>5.9</td>\n",
              "      <td>NaN</td>\n",
              "      <td>0</td>\n",
              "      <td>0</td>\n",
              "      <td>1</td>\n",
              "      <td>0</td>\n",
              "      <td>NaN</td>\n",
              "      <td>Action,Adventure,Drama,Romance,Western</td>\n",
              "      <td>United States</td>\n",
              "      <td>English</td>\n",
              "      <td>1256.0</td>\n",
              "    </tr>\n",
              "  </tbody>\n",
              "</table>\n",
              "</div>"
            ],
            "text/plain": [
              "          id     title  year  ...        country     lang    time\n",
              "13179  13180  Colorado  1940  ...  United States  English  1256.0\n",
              "\n",
              "[1 rows x 15 columns]"
            ]
          },
          "metadata": {
            "tags": []
          },
          "execution_count": 101
        }
      ]
    },
    {
      "cell_type": "code",
      "metadata": {
        "id": "mNstVaeAXpYR",
        "outputId": "572e217c-1bfb-4b9b-8dad-efecf29e6cde",
        "colab": {
          "base_uri": "https://localhost:8080/",
          "height": 80
        }
      },
      "source": [
        "df.loc[df['time'] == min_time] # film dengan durasi tersingkat"
      ],
      "execution_count": 102,
      "outputs": [
        {
          "output_type": "execute_result",
          "data": {
            "text/html": [
              "<div>\n",
              "<style scoped>\n",
              "    .dataframe tbody tr th:only-of-type {\n",
              "        vertical-align: middle;\n",
              "    }\n",
              "\n",
              "    .dataframe tbody tr th {\n",
              "        vertical-align: top;\n",
              "    }\n",
              "\n",
              "    .dataframe thead th {\n",
              "        text-align: right;\n",
              "    }\n",
              "</style>\n",
              "<table border=\"1\" class=\"dataframe\">\n",
              "  <thead>\n",
              "    <tr style=\"text-align: right;\">\n",
              "      <th></th>\n",
              "      <th>id</th>\n",
              "      <th>title</th>\n",
              "      <th>year</th>\n",
              "      <th>age</th>\n",
              "      <th>imdb</th>\n",
              "      <th>rotten</th>\n",
              "      <th>netflix</th>\n",
              "      <th>hulu</th>\n",
              "      <th>prime</th>\n",
              "      <th>disney</th>\n",
              "      <th>directors</th>\n",
              "      <th>genres</th>\n",
              "      <th>country</th>\n",
              "      <th>lang</th>\n",
              "      <th>time</th>\n",
              "    </tr>\n",
              "  </thead>\n",
              "  <tbody>\n",
              "    <tr>\n",
              "      <th>2626</th>\n",
              "      <td>2627</td>\n",
              "      <td>Liefling The Movie</td>\n",
              "      <td>2010</td>\n",
              "      <td>NaN</td>\n",
              "      <td>6.3</td>\n",
              "      <td>NaN</td>\n",
              "      <td>1</td>\n",
              "      <td>0</td>\n",
              "      <td>0</td>\n",
              "      <td>0</td>\n",
              "      <td>Kendrick Hew</td>\n",
              "      <td>Short,Thriller</td>\n",
              "      <td>Canada</td>\n",
              "      <td>English</td>\n",
              "      <td>1.0</td>\n",
              "    </tr>\n",
              "  </tbody>\n",
              "</table>\n",
              "</div>"
            ],
            "text/plain": [
              "        id               title  year  ... country     lang  time\n",
              "2626  2627  Liefling The Movie  2010  ...  Canada  English   1.0\n",
              "\n",
              "[1 rows x 15 columns]"
            ]
          },
          "metadata": {
            "tags": []
          },
          "execution_count": 102
        }
      ]
    },
    {
      "cell_type": "code",
      "metadata": {
        "id": "iqAXqvifgDfP",
        "outputId": "0163b78b-70ba-4b7b-dd5f-b3e1012d64c2",
        "colab": {
          "base_uri": "https://localhost:8080/"
        }
      },
      "source": [
        "print(avg_time)"
      ],
      "execution_count": 134,
      "outputs": [
        {
          "output_type": "stream",
          "text": [
            "93.41\n"
          ],
          "name": "stdout"
        }
      ]
    },
    {
      "cell_type": "markdown",
      "metadata": {
        "id": "X-OSAGHNLUh2"
      },
      "source": [
        "#Insight"
      ]
    },
    {
      "cell_type": "markdown",
      "metadata": {
        "id": "UaLpHhtsYXTT"
      },
      "source": [
        "##Informasi seputar tahun rilis film\n",
        "Dari hasil observasi kolom 'year'.\n",
        "1. Tahun 2017 merupakan tahun banyak film rilis, yaitu sebesar 1401 film. diikuti tahun 2018 sebanyak 1285 film, 2016 sebanyak 1206 film, 2015 sebanyak 1065 film, dan 2014 sebanyak 986 film.\n",
        "Range tahun 2014-2018 dapat disimpulkan menjadi masa produktif dalam pembuatan film.\n",
        "2. Pada tahun terbaru pembuatan film (di dataset ini), yaitu tahun 2020, terdapat 147 film yang rilis. salah satunya \"*To All the Boys I've Loved Before*\".\n",
        "3. Film tertua yang terekam di dataset ini merupakan film keluaran 1902, dengan judul \"*A Trip to the Moon*\".\n",
        "\n",
        "##Informasi seputar tentang umur aman menonton film\n",
        "Dari hasil observasi kolom 'age'.<br>\n",
        "Rentang umur tertentu dikatakan aman untuk menonton film jika umur tersebut masuk dalam keterangan batas umur pada label film, atau berada di atas keterangan batas umur pada label film tersebut.<br>\n",
        "Berdasarkan tabel frekuensi yang telah dibuat pada bagian \"Observasi kolom 'year'\", didapatkan:\n",
        "1. Terdapat 843 film yang dapat ditonton semua umur, termasuk anak di bawah 7 tahun.\n",
        "2. Terdapat 2305 film yang dapat ditonton hingga usia di bawah 13 tahun.\n",
        "3. Terdapat 3880 film yang dapat ditonton hingga usia di bawah 18 tahun.\n",
        "4. Terdapat 3474 film yang hanya dapat ditonton usia 18 tahun ke atas.\n",
        "\n",
        "##Informasi seputar rating film\n",
        "Dari hasil observasi kolom 'imdb' dan 'rotten'.\n",
        "1. Rating IMDB terbesar yang diraih pada dataset ini adalah 9.3, yang diraih oleh \"*My Next Guest with David Letterman and Shah Rukh Khan*\", \"*Love on a Leash*\", \"*Square One*\", \"*Steven Banks: Home Entertainment Center*\", \"*Down, But Not Out!*\", dan \"*Bounty*\".\n",
        "2. Rating IMDB terkecil yang diraih pada dataset ini adalah 1.0, yang diraih oleh \"*Justin Bieber: Rise to Fame*\" dan \"*Justin Bieber: Always Believing*\". Rating IMDB terkecil ini tidak termasuk rating 0, dikarenakan rating 0 dapat diasumsikan belum mendapat rating (*unrated*).\n",
        "3. Rata-rata rating IMDB yang diraih pada dataset ini adalah 5.9\n",
        "4. Rating RottenTomatoes terbesar yang diraih pada dataset ini adalah 100%, yang diraih oleh \"*3 Idiots*\", \"*The Dawn Wall*\", \"*Bad Genius*\", \"*Bill Burr: I'm Sorry You Feel That Way*\", dan \"*The Square*\".\n",
        "5. Rating RottenTomatoes terkecil yang diraih pada dataset ini adalah 2%, yang diraih oleh \"*Getaway*\", \"*Nina*\", \"*Strange Wilderness*\", dan \"*Kickin' It Old Skool*\". tidak termasuk rating 0, dikarenakan rating 0 dapat diasumsikan belum mendapat rating (unrated).\n",
        "6. Rata-rata rating RottenTomatoes yang diraih pada dataset ini adalah 65.43%\n",
        "7. Koefisien korelasi antara rating IMDB dan RottenTomatoes sebesar 0.616. karena angka ini mendekat ke 1, dapat dibilang rating IMDB suatu film sebagian besar berbanding lurus dengan rating RottenTomatoes dari film tersebut.\n",
        "\n",
        "##Informasi seputar layanan streaming film\n",
        "Dari hasil observasi kolom 'netflix', 'hulu', 'prime', 'disney'.<br>\n",
        "Dari visualisasi data dalam bentuk bar, dapat diketahui film paling banyak terdapat pada Prime Video dengan persediaan film mencapai 12354, diikuti Netflix dengan persediaan film mencapai 3560. Lalu sisanya Hulu dengan persediaan mencapai 903 film, dan Disney+, yang memiliki persediaan film paling sedikit berdasar dataset ini, dengan persediaan mencapai 564 film.\n",
        "##Informasi seputar durasi film\n",
        "Dari hasil observasi kolom 'time'\n",
        "1. Durasi terlama film pada dataset ini, yaitu selama 1256 menit (sekitar 20.93 jam), terdapat pada film \"*Colorado*\".\n",
        "2. Durasi tersingkat film pada dataset ini, yaitu selama 1 menit, terdapat pada film \"*Liefling The Movie*\".\n",
        "3. Rata-rata durasi film berlangsung adalah sebesra 93.41 menit, atau sekitar 1.6 jam."
      ]
    }
  ]
}
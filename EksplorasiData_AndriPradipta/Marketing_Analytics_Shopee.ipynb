{
  "nbformat": 4,
  "nbformat_minor": 0,
  "metadata": {
    "colab": {
      "name": "Marketing Analytics Shopee.ipynb",
      "provenance": [],
      "collapsed_sections": []
    },
    "kernelspec": {
      "name": "python3",
      "display_name": "Python 3"
    }
  },
  "cells": [
    {
      "cell_type": "code",
      "metadata": {
        "id": "yEkbgv0oTI_0"
      },
      "source": [
        "import pandas as pd\n",
        "import seaborn as sns\n",
        "import matplotlib.pyplot as plt\n",
        "import numpy as np"
      ],
      "execution_count": null,
      "outputs": []
    },
    {
      "cell_type": "code",
      "metadata": {
        "id": "lCwk_QM_TU46",
        "outputId": "69b2623c-2666-45c0-cf1c-f7872e0280f3",
        "colab": {
          "base_uri": "https://localhost:8080/",
          "height": 309
        }
      },
      "source": [
        "train = pd.read_csv('train.csv')\n",
        "train.head()"
      ],
      "execution_count": null,
      "outputs": [
        {
          "output_type": "execute_result",
          "data": {
            "text/html": [
              "<div>\n",
              "<style scoped>\n",
              "    .dataframe tbody tr th:only-of-type {\n",
              "        vertical-align: middle;\n",
              "    }\n",
              "\n",
              "    .dataframe tbody tr th {\n",
              "        vertical-align: top;\n",
              "    }\n",
              "\n",
              "    .dataframe thead th {\n",
              "        text-align: right;\n",
              "    }\n",
              "</style>\n",
              "<table border=\"1\" class=\"dataframe\">\n",
              "  <thead>\n",
              "    <tr style=\"text-align: right;\">\n",
              "      <th></th>\n",
              "      <th>country_code</th>\n",
              "      <th>grass_date</th>\n",
              "      <th>user_id</th>\n",
              "      <th>subject_line_length</th>\n",
              "      <th>last_open_day</th>\n",
              "      <th>last_login_day</th>\n",
              "      <th>last_checkout_day</th>\n",
              "      <th>open_count_last_10_days</th>\n",
              "      <th>open_count_last_30_days</th>\n",
              "      <th>open_count_last_60_days</th>\n",
              "      <th>login_count_last_10_days</th>\n",
              "      <th>login_count_last_30_days</th>\n",
              "      <th>login_count_last_60_days</th>\n",
              "      <th>checkout_count_last_10_days</th>\n",
              "      <th>checkout_count_last_30_days</th>\n",
              "      <th>checkout_count_last_60_days</th>\n",
              "      <th>open_flag</th>\n",
              "      <th>row_id</th>\n",
              "    </tr>\n",
              "  </thead>\n",
              "  <tbody>\n",
              "    <tr>\n",
              "      <th>0</th>\n",
              "      <td>4</td>\n",
              "      <td>2019-07-16 00:00:00+08:00</td>\n",
              "      <td>43</td>\n",
              "      <td>44</td>\n",
              "      <td>19</td>\n",
              "      <td>6</td>\n",
              "      <td>18</td>\n",
              "      <td>0</td>\n",
              "      <td>2</td>\n",
              "      <td>4</td>\n",
              "      <td>12</td>\n",
              "      <td>43</td>\n",
              "      <td>99</td>\n",
              "      <td>0</td>\n",
              "      <td>5</td>\n",
              "      <td>10</td>\n",
              "      <td>0</td>\n",
              "      <td>0</td>\n",
              "    </tr>\n",
              "    <tr>\n",
              "      <th>1</th>\n",
              "      <td>4</td>\n",
              "      <td>2019-07-16 00:00:00+08:00</td>\n",
              "      <td>102</td>\n",
              "      <td>44</td>\n",
              "      <td>9</td>\n",
              "      <td>4</td>\n",
              "      <td>8</td>\n",
              "      <td>2</td>\n",
              "      <td>9</td>\n",
              "      <td>17</td>\n",
              "      <td>18</td>\n",
              "      <td>48</td>\n",
              "      <td>90</td>\n",
              "      <td>1</td>\n",
              "      <td>1</td>\n",
              "      <td>4</td>\n",
              "      <td>1</td>\n",
              "      <td>1</td>\n",
              "    </tr>\n",
              "    <tr>\n",
              "      <th>2</th>\n",
              "      <td>6</td>\n",
              "      <td>2019-07-16 00:00:00+08:00</td>\n",
              "      <td>177</td>\n",
              "      <td>49</td>\n",
              "      <td>14</td>\n",
              "      <td>5</td>\n",
              "      <td>5</td>\n",
              "      <td>0</td>\n",
              "      <td>4</td>\n",
              "      <td>12</td>\n",
              "      <td>24</td>\n",
              "      <td>69</td>\n",
              "      <td>119</td>\n",
              "      <td>5</td>\n",
              "      <td>19</td>\n",
              "      <td>27</td>\n",
              "      <td>0</td>\n",
              "      <td>2</td>\n",
              "    </tr>\n",
              "    <tr>\n",
              "      <th>3</th>\n",
              "      <td>1</td>\n",
              "      <td>2019-07-16 00:00:00+08:00</td>\n",
              "      <td>184</td>\n",
              "      <td>49</td>\n",
              "      <td>49</td>\n",
              "      <td>9</td>\n",
              "      <td>53</td>\n",
              "      <td>0</td>\n",
              "      <td>0</td>\n",
              "      <td>1</td>\n",
              "      <td>9</td>\n",
              "      <td>23</td>\n",
              "      <td>69</td>\n",
              "      <td>1</td>\n",
              "      <td>3</td>\n",
              "      <td>6</td>\n",
              "      <td>0</td>\n",
              "      <td>3</td>\n",
              "    </tr>\n",
              "    <tr>\n",
              "      <th>4</th>\n",
              "      <td>6</td>\n",
              "      <td>2019-07-16 00:00:00+08:00</td>\n",
              "      <td>221</td>\n",
              "      <td>49</td>\n",
              "      <td>227</td>\n",
              "      <td>6</td>\n",
              "      <td>221</td>\n",
              "      <td>0</td>\n",
              "      <td>0</td>\n",
              "      <td>0</td>\n",
              "      <td>2</td>\n",
              "      <td>5</td>\n",
              "      <td>5</td>\n",
              "      <td>0</td>\n",
              "      <td>0</td>\n",
              "      <td>0</td>\n",
              "      <td>0</td>\n",
              "      <td>4</td>\n",
              "    </tr>\n",
              "  </tbody>\n",
              "</table>\n",
              "</div>"
            ],
            "text/plain": [
              "   country_code                 grass_date  ...  open_flag  row_id\n",
              "0             4  2019-07-16 00:00:00+08:00  ...          0       0\n",
              "1             4  2019-07-16 00:00:00+08:00  ...          1       1\n",
              "2             6  2019-07-16 00:00:00+08:00  ...          0       2\n",
              "3             1  2019-07-16 00:00:00+08:00  ...          0       3\n",
              "4             6  2019-07-16 00:00:00+08:00  ...          0       4\n",
              "\n",
              "[5 rows x 18 columns]"
            ]
          },
          "metadata": {
            "tags": []
          },
          "execution_count": 126
        }
      ]
    },
    {
      "cell_type": "code",
      "metadata": {
        "id": "eJzAwSCoZ1xK",
        "outputId": "1abeec0e-3cc4-424e-98e5-97a8ac27ad1a",
        "colab": {
          "base_uri": "https://localhost:8080/",
          "height": 309
        }
      },
      "source": [
        "test = pd.read_csv('test.csv')\n",
        "test.head()"
      ],
      "execution_count": null,
      "outputs": [
        {
          "output_type": "execute_result",
          "data": {
            "text/html": [
              "<div>\n",
              "<style scoped>\n",
              "    .dataframe tbody tr th:only-of-type {\n",
              "        vertical-align: middle;\n",
              "    }\n",
              "\n",
              "    .dataframe tbody tr th {\n",
              "        vertical-align: top;\n",
              "    }\n",
              "\n",
              "    .dataframe thead th {\n",
              "        text-align: right;\n",
              "    }\n",
              "</style>\n",
              "<table border=\"1\" class=\"dataframe\">\n",
              "  <thead>\n",
              "    <tr style=\"text-align: right;\">\n",
              "      <th></th>\n",
              "      <th>country_code</th>\n",
              "      <th>grass_date</th>\n",
              "      <th>user_id</th>\n",
              "      <th>subject_line_length</th>\n",
              "      <th>last_open_day</th>\n",
              "      <th>last_login_day</th>\n",
              "      <th>last_checkout_day</th>\n",
              "      <th>open_count_last_10_days</th>\n",
              "      <th>open_count_last_30_days</th>\n",
              "      <th>open_count_last_60_days</th>\n",
              "      <th>login_count_last_10_days</th>\n",
              "      <th>login_count_last_30_days</th>\n",
              "      <th>login_count_last_60_days</th>\n",
              "      <th>checkout_count_last_10_days</th>\n",
              "      <th>checkout_count_last_30_days</th>\n",
              "      <th>checkout_count_last_60_days</th>\n",
              "      <th>row_id</th>\n",
              "    </tr>\n",
              "  </thead>\n",
              "  <tbody>\n",
              "    <tr>\n",
              "      <th>0</th>\n",
              "      <td>6</td>\n",
              "      <td>2019-09-03 00:00:00+08:00</td>\n",
              "      <td>0</td>\n",
              "      <td>35</td>\n",
              "      <td>27</td>\n",
              "      <td>2</td>\n",
              "      <td>13</td>\n",
              "      <td>2</td>\n",
              "      <td>3</td>\n",
              "      <td>4</td>\n",
              "      <td>10</td>\n",
              "      <td>34</td>\n",
              "      <td>134</td>\n",
              "      <td>0</td>\n",
              "      <td>6</td>\n",
              "      <td>18</td>\n",
              "      <td>0</td>\n",
              "    </tr>\n",
              "    <tr>\n",
              "      <th>1</th>\n",
              "      <td>6</td>\n",
              "      <td>2019-09-03 00:00:00+08:00</td>\n",
              "      <td>130</td>\n",
              "      <td>35</td>\n",
              "      <td>7</td>\n",
              "      <td>5</td>\n",
              "      <td>383</td>\n",
              "      <td>1</td>\n",
              "      <td>1</td>\n",
              "      <td>1</td>\n",
              "      <td>5</td>\n",
              "      <td>5</td>\n",
              "      <td>5</td>\n",
              "      <td>0</td>\n",
              "      <td>0</td>\n",
              "      <td>0</td>\n",
              "      <td>1</td>\n",
              "    </tr>\n",
              "    <tr>\n",
              "      <th>2</th>\n",
              "      <td>5</td>\n",
              "      <td>2019-09-03 00:00:00+08:00</td>\n",
              "      <td>150</td>\n",
              "      <td>25</td>\n",
              "      <td>34</td>\n",
              "      <td>1</td>\n",
              "      <td>3</td>\n",
              "      <td>0</td>\n",
              "      <td>0</td>\n",
              "      <td>0</td>\n",
              "      <td>13</td>\n",
              "      <td>19</td>\n",
              "      <td>38</td>\n",
              "      <td>2</td>\n",
              "      <td>2</td>\n",
              "      <td>2</td>\n",
              "      <td>2</td>\n",
              "    </tr>\n",
              "    <tr>\n",
              "      <th>3</th>\n",
              "      <td>1</td>\n",
              "      <td>2019-09-03 00:00:00+08:00</td>\n",
              "      <td>181</td>\n",
              "      <td>36</td>\n",
              "      <td>63</td>\n",
              "      <td>5</td>\n",
              "      <td>5</td>\n",
              "      <td>0</td>\n",
              "      <td>0</td>\n",
              "      <td>0</td>\n",
              "      <td>43</td>\n",
              "      <td>110</td>\n",
              "      <td>173</td>\n",
              "      <td>2</td>\n",
              "      <td>5</td>\n",
              "      <td>5</td>\n",
              "      <td>3</td>\n",
              "    </tr>\n",
              "    <tr>\n",
              "      <th>4</th>\n",
              "      <td>5</td>\n",
              "      <td>2019-09-03 00:00:00+08:00</td>\n",
              "      <td>192</td>\n",
              "      <td>23</td>\n",
              "      <td>6</td>\n",
              "      <td>5</td>\n",
              "      <td>54</td>\n",
              "      <td>0</td>\n",
              "      <td>0</td>\n",
              "      <td>0</td>\n",
              "      <td>4</td>\n",
              "      <td>12</td>\n",
              "      <td>39</td>\n",
              "      <td>0</td>\n",
              "      <td>0</td>\n",
              "      <td>2</td>\n",
              "      <td>4</td>\n",
              "    </tr>\n",
              "  </tbody>\n",
              "</table>\n",
              "</div>"
            ],
            "text/plain": [
              "   country_code                 grass_date  ...  checkout_count_last_60_days  row_id\n",
              "0             6  2019-09-03 00:00:00+08:00  ...                           18       0\n",
              "1             6  2019-09-03 00:00:00+08:00  ...                            0       1\n",
              "2             5  2019-09-03 00:00:00+08:00  ...                            2       2\n",
              "3             1  2019-09-03 00:00:00+08:00  ...                            5       3\n",
              "4             5  2019-09-03 00:00:00+08:00  ...                            2       4\n",
              "\n",
              "[5 rows x 17 columns]"
            ]
          },
          "metadata": {
            "tags": []
          },
          "execution_count": 127
        }
      ]
    },
    {
      "cell_type": "code",
      "metadata": {
        "id": "pgAl3C9DTYWo",
        "outputId": "1211135a-4d25-4fae-e278-e98040f4e269",
        "colab": {
          "base_uri": "https://localhost:8080/"
        }
      },
      "source": [
        "train.info()"
      ],
      "execution_count": null,
      "outputs": [
        {
          "output_type": "stream",
          "text": [
            "<class 'pandas.core.frame.DataFrame'>\n",
            "RangeIndex: 73539 entries, 0 to 73538\n",
            "Data columns (total 18 columns):\n",
            " #   Column                       Non-Null Count  Dtype \n",
            "---  ------                       --------------  ----- \n",
            " 0   country_code                 73539 non-null  int64 \n",
            " 1   grass_date                   73539 non-null  object\n",
            " 2   user_id                      73539 non-null  int64 \n",
            " 3   subject_line_length          73539 non-null  int64 \n",
            " 4   last_open_day                73539 non-null  object\n",
            " 5   last_login_day               73539 non-null  object\n",
            " 6   last_checkout_day            73539 non-null  object\n",
            " 7   open_count_last_10_days      73539 non-null  int64 \n",
            " 8   open_count_last_30_days      73539 non-null  int64 \n",
            " 9   open_count_last_60_days      73539 non-null  int64 \n",
            " 10  login_count_last_10_days     73539 non-null  int64 \n",
            " 11  login_count_last_30_days     73539 non-null  int64 \n",
            " 12  login_count_last_60_days     73539 non-null  int64 \n",
            " 13  checkout_count_last_10_days  73539 non-null  int64 \n",
            " 14  checkout_count_last_30_days  73539 non-null  int64 \n",
            " 15  checkout_count_last_60_days  73539 non-null  int64 \n",
            " 16  open_flag                    73539 non-null  int64 \n",
            " 17  row_id                       73539 non-null  int64 \n",
            "dtypes: int64(14), object(4)\n",
            "memory usage: 10.1+ MB\n"
          ],
          "name": "stdout"
        }
      ]
    },
    {
      "cell_type": "code",
      "metadata": {
        "id": "WYrIdntHTaOa",
        "outputId": "067933ba-7b6a-4c97-ca4d-fdd787894bec",
        "colab": {
          "base_uri": "https://localhost:8080/",
          "height": 309
        }
      },
      "source": [
        "#train = train.set_index(train['row_id'])\n",
        "train.drop('row_id', axis=1, inplace=True)\n",
        "train.head()"
      ],
      "execution_count": null,
      "outputs": [
        {
          "output_type": "execute_result",
          "data": {
            "text/html": [
              "<div>\n",
              "<style scoped>\n",
              "    .dataframe tbody tr th:only-of-type {\n",
              "        vertical-align: middle;\n",
              "    }\n",
              "\n",
              "    .dataframe tbody tr th {\n",
              "        vertical-align: top;\n",
              "    }\n",
              "\n",
              "    .dataframe thead th {\n",
              "        text-align: right;\n",
              "    }\n",
              "</style>\n",
              "<table border=\"1\" class=\"dataframe\">\n",
              "  <thead>\n",
              "    <tr style=\"text-align: right;\">\n",
              "      <th></th>\n",
              "      <th>country_code</th>\n",
              "      <th>grass_date</th>\n",
              "      <th>user_id</th>\n",
              "      <th>subject_line_length</th>\n",
              "      <th>last_open_day</th>\n",
              "      <th>last_login_day</th>\n",
              "      <th>last_checkout_day</th>\n",
              "      <th>open_count_last_10_days</th>\n",
              "      <th>open_count_last_30_days</th>\n",
              "      <th>open_count_last_60_days</th>\n",
              "      <th>login_count_last_10_days</th>\n",
              "      <th>login_count_last_30_days</th>\n",
              "      <th>login_count_last_60_days</th>\n",
              "      <th>checkout_count_last_10_days</th>\n",
              "      <th>checkout_count_last_30_days</th>\n",
              "      <th>checkout_count_last_60_days</th>\n",
              "      <th>open_flag</th>\n",
              "    </tr>\n",
              "  </thead>\n",
              "  <tbody>\n",
              "    <tr>\n",
              "      <th>0</th>\n",
              "      <td>4</td>\n",
              "      <td>2019-07-16 00:00:00+08:00</td>\n",
              "      <td>43</td>\n",
              "      <td>44</td>\n",
              "      <td>19</td>\n",
              "      <td>6</td>\n",
              "      <td>18</td>\n",
              "      <td>0</td>\n",
              "      <td>2</td>\n",
              "      <td>4</td>\n",
              "      <td>12</td>\n",
              "      <td>43</td>\n",
              "      <td>99</td>\n",
              "      <td>0</td>\n",
              "      <td>5</td>\n",
              "      <td>10</td>\n",
              "      <td>0</td>\n",
              "    </tr>\n",
              "    <tr>\n",
              "      <th>1</th>\n",
              "      <td>4</td>\n",
              "      <td>2019-07-16 00:00:00+08:00</td>\n",
              "      <td>102</td>\n",
              "      <td>44</td>\n",
              "      <td>9</td>\n",
              "      <td>4</td>\n",
              "      <td>8</td>\n",
              "      <td>2</td>\n",
              "      <td>9</td>\n",
              "      <td>17</td>\n",
              "      <td>18</td>\n",
              "      <td>48</td>\n",
              "      <td>90</td>\n",
              "      <td>1</td>\n",
              "      <td>1</td>\n",
              "      <td>4</td>\n",
              "      <td>1</td>\n",
              "    </tr>\n",
              "    <tr>\n",
              "      <th>2</th>\n",
              "      <td>6</td>\n",
              "      <td>2019-07-16 00:00:00+08:00</td>\n",
              "      <td>177</td>\n",
              "      <td>49</td>\n",
              "      <td>14</td>\n",
              "      <td>5</td>\n",
              "      <td>5</td>\n",
              "      <td>0</td>\n",
              "      <td>4</td>\n",
              "      <td>12</td>\n",
              "      <td>24</td>\n",
              "      <td>69</td>\n",
              "      <td>119</td>\n",
              "      <td>5</td>\n",
              "      <td>19</td>\n",
              "      <td>27</td>\n",
              "      <td>0</td>\n",
              "    </tr>\n",
              "    <tr>\n",
              "      <th>3</th>\n",
              "      <td>1</td>\n",
              "      <td>2019-07-16 00:00:00+08:00</td>\n",
              "      <td>184</td>\n",
              "      <td>49</td>\n",
              "      <td>49</td>\n",
              "      <td>9</td>\n",
              "      <td>53</td>\n",
              "      <td>0</td>\n",
              "      <td>0</td>\n",
              "      <td>1</td>\n",
              "      <td>9</td>\n",
              "      <td>23</td>\n",
              "      <td>69</td>\n",
              "      <td>1</td>\n",
              "      <td>3</td>\n",
              "      <td>6</td>\n",
              "      <td>0</td>\n",
              "    </tr>\n",
              "    <tr>\n",
              "      <th>4</th>\n",
              "      <td>6</td>\n",
              "      <td>2019-07-16 00:00:00+08:00</td>\n",
              "      <td>221</td>\n",
              "      <td>49</td>\n",
              "      <td>227</td>\n",
              "      <td>6</td>\n",
              "      <td>221</td>\n",
              "      <td>0</td>\n",
              "      <td>0</td>\n",
              "      <td>0</td>\n",
              "      <td>2</td>\n",
              "      <td>5</td>\n",
              "      <td>5</td>\n",
              "      <td>0</td>\n",
              "      <td>0</td>\n",
              "      <td>0</td>\n",
              "      <td>0</td>\n",
              "    </tr>\n",
              "  </tbody>\n",
              "</table>\n",
              "</div>"
            ],
            "text/plain": [
              "   country_code  ... open_flag\n",
              "0             4  ...         0\n",
              "1             4  ...         1\n",
              "2             6  ...         0\n",
              "3             1  ...         0\n",
              "4             6  ...         0\n",
              "\n",
              "[5 rows x 17 columns]"
            ]
          },
          "metadata": {
            "tags": []
          },
          "execution_count": 130
        }
      ]
    },
    {
      "cell_type": "code",
      "metadata": {
        "id": "MAbcVJheaJbm",
        "outputId": "f041d0f9-f8aa-4744-a523-27e320f913f5",
        "colab": {
          "base_uri": "https://localhost:8080/",
          "height": 222
        }
      },
      "source": [
        "#test = test.set_index(test['row_id'])\n",
        "#test.drop('row_id', axis=1, inplace=True)\n",
        "test.drop('grass_date', axis=1, inplace=True)\n",
        "test.head()"
      ],
      "execution_count": null,
      "outputs": [
        {
          "output_type": "execute_result",
          "data": {
            "text/html": [
              "<div>\n",
              "<style scoped>\n",
              "    .dataframe tbody tr th:only-of-type {\n",
              "        vertical-align: middle;\n",
              "    }\n",
              "\n",
              "    .dataframe tbody tr th {\n",
              "        vertical-align: top;\n",
              "    }\n",
              "\n",
              "    .dataframe thead th {\n",
              "        text-align: right;\n",
              "    }\n",
              "</style>\n",
              "<table border=\"1\" class=\"dataframe\">\n",
              "  <thead>\n",
              "    <tr style=\"text-align: right;\">\n",
              "      <th></th>\n",
              "      <th>country_code</th>\n",
              "      <th>user_id</th>\n",
              "      <th>subject_line_length</th>\n",
              "      <th>last_open_day</th>\n",
              "      <th>last_login_day</th>\n",
              "      <th>last_checkout_day</th>\n",
              "      <th>open_count_last_10_days</th>\n",
              "      <th>open_count_last_30_days</th>\n",
              "      <th>open_count_last_60_days</th>\n",
              "      <th>login_count_last_10_days</th>\n",
              "      <th>login_count_last_30_days</th>\n",
              "      <th>login_count_last_60_days</th>\n",
              "      <th>checkout_count_last_10_days</th>\n",
              "      <th>checkout_count_last_30_days</th>\n",
              "      <th>checkout_count_last_60_days</th>\n",
              "      <th>row_id</th>\n",
              "    </tr>\n",
              "  </thead>\n",
              "  <tbody>\n",
              "    <tr>\n",
              "      <th>0</th>\n",
              "      <td>6</td>\n",
              "      <td>0</td>\n",
              "      <td>35</td>\n",
              "      <td>27</td>\n",
              "      <td>2</td>\n",
              "      <td>13</td>\n",
              "      <td>2</td>\n",
              "      <td>3</td>\n",
              "      <td>4</td>\n",
              "      <td>10</td>\n",
              "      <td>34</td>\n",
              "      <td>134</td>\n",
              "      <td>0</td>\n",
              "      <td>6</td>\n",
              "      <td>18</td>\n",
              "      <td>0</td>\n",
              "    </tr>\n",
              "    <tr>\n",
              "      <th>1</th>\n",
              "      <td>6</td>\n",
              "      <td>130</td>\n",
              "      <td>35</td>\n",
              "      <td>7</td>\n",
              "      <td>5</td>\n",
              "      <td>383</td>\n",
              "      <td>1</td>\n",
              "      <td>1</td>\n",
              "      <td>1</td>\n",
              "      <td>5</td>\n",
              "      <td>5</td>\n",
              "      <td>5</td>\n",
              "      <td>0</td>\n",
              "      <td>0</td>\n",
              "      <td>0</td>\n",
              "      <td>1</td>\n",
              "    </tr>\n",
              "    <tr>\n",
              "      <th>2</th>\n",
              "      <td>5</td>\n",
              "      <td>150</td>\n",
              "      <td>25</td>\n",
              "      <td>34</td>\n",
              "      <td>1</td>\n",
              "      <td>3</td>\n",
              "      <td>0</td>\n",
              "      <td>0</td>\n",
              "      <td>0</td>\n",
              "      <td>13</td>\n",
              "      <td>19</td>\n",
              "      <td>38</td>\n",
              "      <td>2</td>\n",
              "      <td>2</td>\n",
              "      <td>2</td>\n",
              "      <td>2</td>\n",
              "    </tr>\n",
              "    <tr>\n",
              "      <th>3</th>\n",
              "      <td>1</td>\n",
              "      <td>181</td>\n",
              "      <td>36</td>\n",
              "      <td>63</td>\n",
              "      <td>5</td>\n",
              "      <td>5</td>\n",
              "      <td>0</td>\n",
              "      <td>0</td>\n",
              "      <td>0</td>\n",
              "      <td>43</td>\n",
              "      <td>110</td>\n",
              "      <td>173</td>\n",
              "      <td>2</td>\n",
              "      <td>5</td>\n",
              "      <td>5</td>\n",
              "      <td>3</td>\n",
              "    </tr>\n",
              "    <tr>\n",
              "      <th>4</th>\n",
              "      <td>5</td>\n",
              "      <td>192</td>\n",
              "      <td>23</td>\n",
              "      <td>6</td>\n",
              "      <td>5</td>\n",
              "      <td>54</td>\n",
              "      <td>0</td>\n",
              "      <td>0</td>\n",
              "      <td>0</td>\n",
              "      <td>4</td>\n",
              "      <td>12</td>\n",
              "      <td>39</td>\n",
              "      <td>0</td>\n",
              "      <td>0</td>\n",
              "      <td>2</td>\n",
              "      <td>4</td>\n",
              "    </tr>\n",
              "  </tbody>\n",
              "</table>\n",
              "</div>"
            ],
            "text/plain": [
              "   country_code  user_id  ...  checkout_count_last_60_days row_id\n",
              "0             6        0  ...                           18      0\n",
              "1             6      130  ...                            0      1\n",
              "2             5      150  ...                            2      2\n",
              "3             1      181  ...                            5      3\n",
              "4             5      192  ...                            2      4\n",
              "\n",
              "[5 rows x 16 columns]"
            ]
          },
          "metadata": {
            "tags": []
          },
          "execution_count": 131
        }
      ]
    },
    {
      "cell_type": "code",
      "metadata": {
        "id": "tQuFTgbbaS1W"
      },
      "source": [
        "test = test.drop(['user_id','country_code','subject_line_length'],axis=1)"
      ],
      "execution_count": null,
      "outputs": []
    },
    {
      "cell_type": "code",
      "metadata": {
        "id": "Eov5UXIZTcU8"
      },
      "source": [
        "train = train.drop(['user_id','country_code','subject_line_length'],axis=1)"
      ],
      "execution_count": null,
      "outputs": []
    },
    {
      "cell_type": "code",
      "metadata": {
        "id": "Om_mad9DaiQx"
      },
      "source": [
        "test['last_open_day'] = test['last_open_day'].replace(['Never open'],'0')\n",
        "test['last_login_day'] = test['last_login_day'].replace(['Never login'],'0')\n",
        "test['last_checkout_day'] = test['last_checkout_day'].replace(['Never checkout'],'0')"
      ],
      "execution_count": null,
      "outputs": []
    },
    {
      "cell_type": "code",
      "metadata": {
        "id": "ZYxETkPuTeDX"
      },
      "source": [
        "train['last_open_day'] = train['last_open_day'].replace(['Never open'],'0')\n",
        "train['last_login_day'] = train['last_login_day'].replace(['Never login'],'0')\n",
        "train['last_checkout_day'] = train['last_checkout_day'].replace(['Never checkout'],'0')"
      ],
      "execution_count": null,
      "outputs": []
    },
    {
      "cell_type": "code",
      "metadata": {
        "id": "wFz90uBXann5",
        "outputId": "fbd1accb-faba-4402-dfa3-e2f70da65a34",
        "colab": {
          "base_uri": "https://localhost:8080/"
        }
      },
      "source": [
        "test[\"last_open_day\"] = test[\"last_checkout_day\"].astype(str).astype(int)\n",
        "test[\"last_login_day\"] = test[\"last_checkout_day\"].astype(str).astype(int)\n",
        "test[\"last_checkout_day\"] = test[\"last_checkout_day\"].astype(str).astype(int)\n",
        "print(test.dtypes)"
      ],
      "execution_count": null,
      "outputs": [
        {
          "output_type": "stream",
          "text": [
            "last_open_day                  int64\n",
            "last_login_day                 int64\n",
            "last_checkout_day              int64\n",
            "open_count_last_10_days        int64\n",
            "open_count_last_30_days        int64\n",
            "open_count_last_60_days        int64\n",
            "login_count_last_10_days       int64\n",
            "login_count_last_30_days       int64\n",
            "login_count_last_60_days       int64\n",
            "checkout_count_last_10_days    int64\n",
            "checkout_count_last_30_days    int64\n",
            "checkout_count_last_60_days    int64\n",
            "row_id                         int64\n",
            "dtype: object\n"
          ],
          "name": "stdout"
        }
      ]
    },
    {
      "cell_type": "code",
      "metadata": {
        "id": "qcSpkiQcTgBp",
        "outputId": "de6cf775-c1fa-4145-fb54-3712801d872b",
        "colab": {
          "base_uri": "https://localhost:8080/"
        }
      },
      "source": [
        "train[\"last_open_day\"] = train[\"last_checkout_day\"].astype(str).astype(int)\n",
        "train[\"last_login_day\"] = train[\"last_checkout_day\"].astype(str).astype(int)\n",
        "train[\"last_checkout_day\"] = train[\"last_checkout_day\"].astype(str).astype(int)\n",
        "print(train.dtypes)"
      ],
      "execution_count": null,
      "outputs": [
        {
          "output_type": "stream",
          "text": [
            "grass_date                     object\n",
            "last_open_day                   int64\n",
            "last_login_day                  int64\n",
            "last_checkout_day               int64\n",
            "open_count_last_10_days         int64\n",
            "open_count_last_30_days         int64\n",
            "open_count_last_60_days         int64\n",
            "login_count_last_10_days        int64\n",
            "login_count_last_30_days        int64\n",
            "login_count_last_60_days        int64\n",
            "checkout_count_last_10_days     int64\n",
            "checkout_count_last_30_days     int64\n",
            "checkout_count_last_60_days     int64\n",
            "open_flag                       int64\n",
            "dtype: object\n"
          ],
          "name": "stdout"
        }
      ]
    },
    {
      "cell_type": "code",
      "metadata": {
        "id": "khnEyVOVTigM",
        "outputId": "272bd37d-0a65-4386-9cdc-b246ee162dd1",
        "colab": {
          "base_uri": "https://localhost:8080/",
          "height": 461
        }
      },
      "source": [
        "sns.heatmap(data=train.corr(),annot=True)\n",
        "fig = plt.gcf()\n",
        "fig.set_size_inches(15,5)"
      ],
      "execution_count": null,
      "outputs": [
        {
          "output_type": "display_data",
          "data": {
            "image/png": "[encoded data removed]",
            "text/plain": [
              "<Figure size 1080x360 with 2 Axes>"
            ]
          },
          "metadata": {
            "tags": [],
            "needs_background": "light"
          }
        }
      ]
    },
    {
      "cell_type": "code",
      "metadata": {
        "id": "NBiUbVAOUjNL",
        "outputId": "0d9547c1-77b0-46e6-c537-54d0b1c654ad",
        "colab": {
          "base_uri": "https://localhost:8080/",
          "height": 314
        }
      },
      "source": [
        "train.describe()"
      ],
      "execution_count": null,
      "outputs": [
        {
          "output_type": "execute_result",
          "data": {
            "text/html": [
              "<div>\n",
              "<style scoped>\n",
              "    .dataframe tbody tr th:only-of-type {\n",
              "        vertical-align: middle;\n",
              "    }\n",
              "\n",
              "    .dataframe tbody tr th {\n",
              "        vertical-align: top;\n",
              "    }\n",
              "\n",
              "    .dataframe thead th {\n",
              "        text-align: right;\n",
              "    }\n",
              "</style>\n",
              "<table border=\"1\" class=\"dataframe\">\n",
              "  <thead>\n",
              "    <tr style=\"text-align: right;\">\n",
              "      <th></th>\n",
              "      <th>last_open_day</th>\n",
              "      <th>last_login_day</th>\n",
              "      <th>last_checkout_day</th>\n",
              "      <th>open_count_last_10_days</th>\n",
              "      <th>open_count_last_30_days</th>\n",
              "      <th>open_count_last_60_days</th>\n",
              "      <th>login_count_last_10_days</th>\n",
              "      <th>login_count_last_30_days</th>\n",
              "      <th>login_count_last_60_days</th>\n",
              "      <th>checkout_count_last_10_days</th>\n",
              "      <th>checkout_count_last_30_days</th>\n",
              "      <th>checkout_count_last_60_days</th>\n",
              "      <th>open_flag</th>\n",
              "    </tr>\n",
              "  </thead>\n",
              "  <tbody>\n",
              "    <tr>\n",
              "      <th>count</th>\n",
              "      <td>73539.000000</td>\n",
              "      <td>73539.000000</td>\n",
              "      <td>73539.000000</td>\n",
              "      <td>73539.000000</td>\n",
              "      <td>73539.000000</td>\n",
              "      <td>73539.000000</td>\n",
              "      <td>73539.000000</td>\n",
              "      <td>73539.000000</td>\n",
              "      <td>73539.000000</td>\n",
              "      <td>73539.000000</td>\n",
              "      <td>73539.000000</td>\n",
              "      <td>73539.000000</td>\n",
              "      <td>73539.000000</td>\n",
              "    </tr>\n",
              "    <tr>\n",
              "      <th>mean</th>\n",
              "      <td>56.716191</td>\n",
              "      <td>56.716191</td>\n",
              "      <td>56.716191</td>\n",
              "      <td>0.911829</td>\n",
              "      <td>2.780457</td>\n",
              "      <td>5.019364</td>\n",
              "      <td>8.382287</td>\n",
              "      <td>25.284053</td>\n",
              "      <td>49.010430</td>\n",
              "      <td>0.909898</td>\n",
              "      <td>2.796040</td>\n",
              "      <td>5.420960</td>\n",
              "      <td>0.155781</td>\n",
              "    </tr>\n",
              "    <tr>\n",
              "      <th>std</th>\n",
              "      <td>117.721606</td>\n",
              "      <td>117.721606</td>\n",
              "      <td>117.721606</td>\n",
              "      <td>1.754052</td>\n",
              "      <td>4.570239</td>\n",
              "      <td>7.902313</td>\n",
              "      <td>13.424436</td>\n",
              "      <td>37.853189</td>\n",
              "      <td>71.819327</td>\n",
              "      <td>2.887416</td>\n",
              "      <td>7.686064</td>\n",
              "      <td>13.980182</td>\n",
              "      <td>0.362650</td>\n",
              "    </tr>\n",
              "    <tr>\n",
              "      <th>min</th>\n",
              "      <td>0.000000</td>\n",
              "      <td>0.000000</td>\n",
              "      <td>0.000000</td>\n",
              "      <td>0.000000</td>\n",
              "      <td>0.000000</td>\n",
              "      <td>0.000000</td>\n",
              "      <td>0.000000</td>\n",
              "      <td>0.000000</td>\n",
              "      <td>0.000000</td>\n",
              "      <td>0.000000</td>\n",
              "      <td>0.000000</td>\n",
              "      <td>0.000000</td>\n",
              "      <td>0.000000</td>\n",
              "    </tr>\n",
              "    <tr>\n",
              "      <th>25%</th>\n",
              "      <td>1.000000</td>\n",
              "      <td>1.000000</td>\n",
              "      <td>1.000000</td>\n",
              "      <td>0.000000</td>\n",
              "      <td>0.000000</td>\n",
              "      <td>0.000000</td>\n",
              "      <td>0.000000</td>\n",
              "      <td>1.000000</td>\n",
              "      <td>3.000000</td>\n",
              "      <td>0.000000</td>\n",
              "      <td>0.000000</td>\n",
              "      <td>0.000000</td>\n",
              "      <td>0.000000</td>\n",
              "    </tr>\n",
              "    <tr>\n",
              "      <th>50%</th>\n",
              "      <td>12.000000</td>\n",
              "      <td>12.000000</td>\n",
              "      <td>12.000000</td>\n",
              "      <td>0.000000</td>\n",
              "      <td>1.000000</td>\n",
              "      <td>2.000000</td>\n",
              "      <td>3.000000</td>\n",
              "      <td>11.000000</td>\n",
              "      <td>22.000000</td>\n",
              "      <td>0.000000</td>\n",
              "      <td>0.000000</td>\n",
              "      <td>1.000000</td>\n",
              "      <td>0.000000</td>\n",
              "    </tr>\n",
              "    <tr>\n",
              "      <th>75%</th>\n",
              "      <td>51.000000</td>\n",
              "      <td>51.000000</td>\n",
              "      <td>51.000000</td>\n",
              "      <td>1.000000</td>\n",
              "      <td>3.000000</td>\n",
              "      <td>6.000000</td>\n",
              "      <td>12.000000</td>\n",
              "      <td>35.000000</td>\n",
              "      <td>69.000000</td>\n",
              "      <td>1.000000</td>\n",
              "      <td>3.000000</td>\n",
              "      <td>6.000000</td>\n",
              "      <td>0.000000</td>\n",
              "    </tr>\n",
              "    <tr>\n",
              "      <th>max</th>\n",
              "      <td>1445.000000</td>\n",
              "      <td>1445.000000</td>\n",
              "      <td>1445.000000</td>\n",
              "      <td>31.000000</td>\n",
              "      <td>92.000000</td>\n",
              "      <td>135.000000</td>\n",
              "      <td>254.000000</td>\n",
              "      <td>735.000000</td>\n",
              "      <td>1260.000000</td>\n",
              "      <td>157.000000</td>\n",
              "      <td>531.000000</td>\n",
              "      <td>783.000000</td>\n",
              "      <td>1.000000</td>\n",
              "    </tr>\n",
              "  </tbody>\n",
              "</table>\n",
              "</div>"
            ],
            "text/plain": [
              "       last_open_day  last_login_day  ...  checkout_count_last_60_days     open_flag\n",
              "count   73539.000000    73539.000000  ...                 73539.000000  73539.000000\n",
              "mean       56.716191       56.716191  ...                     5.420960      0.155781\n",
              "std       117.721606      117.721606  ...                    13.980182      0.362650\n",
              "min         0.000000        0.000000  ...                     0.000000      0.000000\n",
              "25%         1.000000        1.000000  ...                     0.000000      0.000000\n",
              "50%        12.000000       12.000000  ...                     1.000000      0.000000\n",
              "75%        51.000000       51.000000  ...                     6.000000      0.000000\n",
              "max      1445.000000     1445.000000  ...                   783.000000      1.000000\n",
              "\n",
              "[8 rows x 13 columns]"
            ]
          },
          "metadata": {
            "tags": []
          },
          "execution_count": 139
        }
      ]
    },
    {
      "cell_type": "code",
      "metadata": {
        "id": "4asHkM3jUlNB",
        "outputId": "1734b452-8549-426b-b2d5-9988e48af3fd",
        "colab": {
          "base_uri": "https://localhost:8080/",
          "height": 297
        }
      },
      "source": [
        "sns.countplot(data=train,x='open_flag')\n",
        "plt.tight_layout()"
      ],
      "execution_count": null,
      "outputs": [
        {
          "output_type": "display_data",
          "data": {
            "image/png": "[encoded data removed]",
            "text/plain": [
              "<Figure size 432x288 with 1 Axes>"
            ]
          },
          "metadata": {
            "tags": [],
            "needs_background": "light"
          }
        }
      ]
    },
    {
      "cell_type": "code",
      "metadata": {
        "id": "TFIYkR2NWNhH"
      },
      "source": [
        "# X = data feature\n",
        "x_train = train.drop(['last_open_day', 'last_login_day',\n",
        "       'last_checkout_day', 'login_count_last_10_days',\n",
        "       'login_count_last_30_days', 'login_count_last_60_days',\n",
        "       'checkout_count_last_10_days', 'checkout_count_last_30_days',\n",
        "       'checkout_count_last_60_days','open_flag','grass_date'],axis=1)\n",
        "y_train = train['open_flag']\n",
        "x_test = test[['open_count_last_10_days','open_count_last_30_days','open_count_last_60_days']]\n",
        "# y = data target\n",
        "#Y = train['open_flag']"
      ],
      "execution_count": null,
      "outputs": []
    },
    {
      "cell_type": "code",
      "metadata": {
        "id": "_iyiVqVh1IWD",
        "outputId": "1cb23520-ef00-472b-8d8b-c632780c7512",
        "colab": {
          "base_uri": "https://localhost:8080/",
          "height": 202
        }
      },
      "source": [
        "x_test.head()"
      ],
      "execution_count": null,
      "outputs": [
        {
          "output_type": "execute_result",
          "data": {
            "text/html": [
              "<div>\n",
              "<style scoped>\n",
              "    .dataframe tbody tr th:only-of-type {\n",
              "        vertical-align: middle;\n",
              "    }\n",
              "\n",
              "    .dataframe tbody tr th {\n",
              "        vertical-align: top;\n",
              "    }\n",
              "\n",
              "    .dataframe thead th {\n",
              "        text-align: right;\n",
              "    }\n",
              "</style>\n",
              "<table border=\"1\" class=\"dataframe\">\n",
              "  <thead>\n",
              "    <tr style=\"text-align: right;\">\n",
              "      <th></th>\n",
              "      <th>open_count_last_10_days</th>\n",
              "      <th>open_count_last_30_days</th>\n",
              "      <th>open_count_last_60_days</th>\n",
              "    </tr>\n",
              "  </thead>\n",
              "  <tbody>\n",
              "    <tr>\n",
              "      <th>0</th>\n",
              "      <td>2</td>\n",
              "      <td>3</td>\n",
              "      <td>4</td>\n",
              "    </tr>\n",
              "    <tr>\n",
              "      <th>1</th>\n",
              "      <td>1</td>\n",
              "      <td>1</td>\n",
              "      <td>1</td>\n",
              "    </tr>\n",
              "    <tr>\n",
              "      <th>2</th>\n",
              "      <td>0</td>\n",
              "      <td>0</td>\n",
              "      <td>0</td>\n",
              "    </tr>\n",
              "    <tr>\n",
              "      <th>3</th>\n",
              "      <td>0</td>\n",
              "      <td>0</td>\n",
              "      <td>0</td>\n",
              "    </tr>\n",
              "    <tr>\n",
              "      <th>4</th>\n",
              "      <td>0</td>\n",
              "      <td>0</td>\n",
              "      <td>0</td>\n",
              "    </tr>\n",
              "  </tbody>\n",
              "</table>\n",
              "</div>"
            ],
            "text/plain": [
              "   open_count_last_10_days  open_count_last_30_days  open_count_last_60_days\n",
              "0                        2                        3                        4\n",
              "1                        1                        1                        1\n",
              "2                        0                        0                        0\n",
              "3                        0                        0                        0\n",
              "4                        0                        0                        0"
            ]
          },
          "metadata": {
            "tags": []
          },
          "execution_count": 143
        }
      ]
    },
    {
      "cell_type": "code",
      "metadata": {
        "id": "PpQXlfN9yl20"
      },
      "source": [
        "y_train.fillna(train['open_flag'].mean(), inplace=True)\n",
        "x_train['open_count_last_10_days'].fillna(train['open_count_last_10_days'].mean(), inplace=True)\n",
        "x_train['open_count_last_30_days'].fillna(train['open_count_last_30_days'].mean(), inplace=True)\n",
        "x_train['open_count_last_60_days'].fillna(train['open_count_last_60_days'].mean(), inplace=True)"
      ],
      "execution_count": null,
      "outputs": []
    },
    {
      "cell_type": "code",
      "metadata": {
        "id": "nDRnG7ElfwYF",
        "outputId": "0a01c1d9-6617-4b89-9fc7-d29cb898e14a",
        "colab": {
          "base_uri": "https://localhost:8080/"
        }
      },
      "source": [
        "x_train.shape"
      ],
      "execution_count": null,
      "outputs": [
        {
          "output_type": "execute_result",
          "data": {
            "text/plain": [
              "(54466, 3)"
            ]
          },
          "metadata": {
            "tags": []
          },
          "execution_count": 51
        }
      ]
    },
    {
      "cell_type": "code",
      "metadata": {
        "id": "S2HIHgsqzFWp",
        "outputId": "6e8cc7fb-257a-4775-8728-fa6170913241",
        "colab": {
          "base_uri": "https://localhost:8080/"
        }
      },
      "source": [
        "# count the empty values in each column\n",
        "y_train.isna().sum()"
      ],
      "execution_count": null,
      "outputs": [
        {
          "output_type": "execute_result",
          "data": {
            "text/plain": [
              "0"
            ]
          },
          "metadata": {
            "tags": []
          },
          "execution_count": 53
        }
      ]
    },
    {
      "cell_type": "code",
      "metadata": {
        "id": "snlztvXP9OIT"
      },
      "source": [
        "from sklearn.linear_model import LogisticRegression\n",
        "from sklearn.svm import SVC, LinearSVC\n",
        "from sklearn.ensemble import RandomForestClassifier\n",
        "from sklearn.neighbors import KNeighborsClassifier\n",
        "from sklearn.naive_bayes import GaussianNB\n",
        "from sklearn.linear_model import Perceptron\n",
        "from sklearn.linear_model import SGDClassifier\n",
        "from sklearn.tree import DecisionTreeClassifier"
      ],
      "execution_count": null,
      "outputs": []
    },
    {
      "cell_type": "code",
      "metadata": {
        "id": "l3Qfiukw_iB9",
        "outputId": "66e3fd50-8704-4faa-9cf7-2bbd27fe0138",
        "colab": {
          "base_uri": "https://localhost:8080/"
        }
      },
      "source": [
        "logreg = LogisticRegression()\n",
        "logreg.fit(x_train, y_train)\n",
        "Y_pred = logreg.predict(x_test)\n",
        "acc_log = round(logreg.score(x_train, y_train) * 100, 2)\n",
        "acc_log"
      ],
      "execution_count": null,
      "outputs": [
        {
          "output_type": "execute_result",
          "data": {
            "text/plain": [
              "87.52"
            ]
          },
          "metadata": {
            "tags": []
          },
          "execution_count": 147
        }
      ]
    },
    {
      "cell_type": "code",
      "metadata": {
        "id": "YJmcJg2E_tBB",
        "outputId": "10531c9f-de90-4262-fb23-490d9a846280",
        "colab": {
          "base_uri": "https://localhost:8080/"
        }
      },
      "source": [
        "svc = SVC()\n",
        "svc.fit(x_train, y_train)\n",
        "Y_pred = svc.predict(x_test)\n",
        "acc_svc = round(svc.score(x_train, y_train) * 100, 2)\n",
        "acc_svc"
      ],
      "execution_count": null,
      "outputs": [
        {
          "output_type": "execute_result",
          "data": {
            "text/plain": [
              "87.61"
            ]
          },
          "metadata": {
            "tags": []
          },
          "execution_count": 148
        }
      ]
    },
    {
      "cell_type": "code",
      "metadata": {
        "id": "PmAaNVzd_0a3",
        "outputId": "86e87b05-8a8e-420f-8924-62a2d15a9abf",
        "colab": {
          "base_uri": "https://localhost:8080/"
        }
      },
      "source": [
        "knn = KNeighborsClassifier(n_neighbors = 3)\n",
        "knn.fit(x_train, y_train)\n",
        "Y_pred = knn.predict(x_test)\n",
        "acc_knn = round(knn.score(x_train, y_train) * 100, 2)\n",
        "acc_knn"
      ],
      "execution_count": null,
      "outputs": [
        {
          "output_type": "execute_result",
          "data": {
            "text/plain": [
              "86.84"
            ]
          },
          "metadata": {
            "tags": []
          },
          "execution_count": 149
        }
      ]
    },
    {
      "cell_type": "code",
      "metadata": {
        "id": "rst2caVBf3PD",
        "outputId": "c1429908-bf53-4fa0-9c5f-9aca838f389c",
        "colab": {
          "base_uri": "https://localhost:8080/"
        }
      },
      "source": [
        "random_forest = RandomForestClassifier(n_estimators=100)\n",
        "random_forest.fit(x_train, y_train)\n",
        "y_pred = random_forest.predict(x_test)\n",
        "acc_rf = round(random_forest.score(x_train,y_train)*100,2)\n",
        "acc_rf"
      ],
      "execution_count": null,
      "outputs": [
        {
          "output_type": "execute_result",
          "data": {
            "text/plain": [
              "88.84"
            ]
          },
          "metadata": {
            "tags": []
          },
          "execution_count": 150
        }
      ]
    },
    {
      "cell_type": "code",
      "metadata": {
        "id": "NE5O4nJMg191",
        "outputId": "20a0249c-82ef-4307-ab2b-0cf5d7fb270d",
        "colab": {
          "base_uri": "https://localhost:8080/"
        }
      },
      "source": [
        "decision_tree = DecisionTreeClassifier()\n",
        "decision_tree.fit(x_train, y_train)\n",
        "Y_pred = decision_tree.predict(x_test)\n",
        "acc_decision_tree = round(decision_tree.score(x_train, y_train) * 100, 2)\n",
        "acc_decision_tree"
      ],
      "execution_count": null,
      "outputs": [
        {
          "output_type": "execute_result",
          "data": {
            "text/plain": [
              "88.84"
            ]
          },
          "metadata": {
            "tags": []
          },
          "execution_count": 151
        }
      ]
    },
    {
      "cell_type": "code",
      "metadata": {
        "id": "GzawfimaBeU6",
        "outputId": "a029a901-9e9f-416e-9c70-8dbd4da73741",
        "colab": {
          "base_uri": "https://localhost:8080/",
          "height": 202
        }
      },
      "source": [
        "models = pd.DataFrame({\n",
        "    'Model': ['Logistic Regression', 'Support Vector Machines', 'KNN',  \n",
        "              'Random Forest','Decision Tree'],\n",
        "    'Score': [acc_log, acc_svc, acc_knn,  \n",
        "              acc_rf, acc_decision_tree]})\n",
        "models.sort_values(by='Score', ascending=False)"
      ],
      "execution_count": null,
      "outputs": [
        {
          "output_type": "execute_result",
          "data": {
            "text/html": [
              "<div>\n",
              "<style scoped>\n",
              "    .dataframe tbody tr th:only-of-type {\n",
              "        vertical-align: middle;\n",
              "    }\n",
              "\n",
              "    .dataframe tbody tr th {\n",
              "        vertical-align: top;\n",
              "    }\n",
              "\n",
              "    .dataframe thead th {\n",
              "        text-align: right;\n",
              "    }\n",
              "</style>\n",
              "<table border=\"1\" class=\"dataframe\">\n",
              "  <thead>\n",
              "    <tr style=\"text-align: right;\">\n",
              "      <th></th>\n",
              "      <th>Model</th>\n",
              "      <th>Score</th>\n",
              "    </tr>\n",
              "  </thead>\n",
              "  <tbody>\n",
              "    <tr>\n",
              "      <th>3</th>\n",
              "      <td>Random Forest</td>\n",
              "      <td>88.84</td>\n",
              "    </tr>\n",
              "    <tr>\n",
              "      <th>4</th>\n",
              "      <td>Decision Tree</td>\n",
              "      <td>88.84</td>\n",
              "    </tr>\n",
              "    <tr>\n",
              "      <th>1</th>\n",
              "      <td>Support Vector Machines</td>\n",
              "      <td>87.61</td>\n",
              "    </tr>\n",
              "    <tr>\n",
              "      <th>0</th>\n",
              "      <td>Logistic Regression</td>\n",
              "      <td>87.52</td>\n",
              "    </tr>\n",
              "    <tr>\n",
              "      <th>2</th>\n",
              "      <td>KNN</td>\n",
              "      <td>86.84</td>\n",
              "    </tr>\n",
              "  </tbody>\n",
              "</table>\n",
              "</div>"
            ],
            "text/plain": [
              "                     Model  Score\n",
              "3            Random Forest  88.84\n",
              "4            Decision Tree  88.84\n",
              "1  Support Vector Machines  87.61\n",
              "0      Logistic Regression  87.52\n",
              "2                      KNN  86.84"
            ]
          },
          "metadata": {
            "tags": []
          },
          "execution_count": 152
        }
      ]
    },
    {
      "cell_type": "code",
      "metadata": {
        "id": "wVmfTQW-ZhLT",
        "outputId": "15a8cb12-4e12-49ff-b745-600aaed62934",
        "colab": {
          "base_uri": "https://localhost:8080/",
          "height": 202
        }
      },
      "source": [
        "submission = pd.DataFrame({\n",
        "        \"raw_id\": test[\"row_id\"],\n",
        "        \"pred\": y_pred\n",
        "    })\n",
        "submission.head()\n",
        "#submission.to_excel('/content/submission.xlsx')"
      ],
      "execution_count": null,
      "outputs": [
        {
          "output_type": "execute_result",
          "data": {
            "text/html": [
              "<div>\n",
              "<style scoped>\n",
              "    .dataframe tbody tr th:only-of-type {\n",
              "        vertical-align: middle;\n",
              "    }\n",
              "\n",
              "    .dataframe tbody tr th {\n",
              "        vertical-align: top;\n",
              "    }\n",
              "\n",
              "    .dataframe thead th {\n",
              "        text-align: right;\n",
              "    }\n",
              "</style>\n",
              "<table border=\"1\" class=\"dataframe\">\n",
              "  <thead>\n",
              "    <tr style=\"text-align: right;\">\n",
              "      <th></th>\n",
              "      <th>raw_id</th>\n",
              "      <th>pred</th>\n",
              "    </tr>\n",
              "  </thead>\n",
              "  <tbody>\n",
              "    <tr>\n",
              "      <th>0</th>\n",
              "      <td>0</td>\n",
              "      <td>0</td>\n",
              "    </tr>\n",
              "    <tr>\n",
              "      <th>1</th>\n",
              "      <td>1</td>\n",
              "      <td>0</td>\n",
              "    </tr>\n",
              "    <tr>\n",
              "      <th>2</th>\n",
              "      <td>2</td>\n",
              "      <td>0</td>\n",
              "    </tr>\n",
              "    <tr>\n",
              "      <th>3</th>\n",
              "      <td>3</td>\n",
              "      <td>0</td>\n",
              "    </tr>\n",
              "    <tr>\n",
              "      <th>4</th>\n",
              "      <td>4</td>\n",
              "      <td>0</td>\n",
              "    </tr>\n",
              "  </tbody>\n",
              "</table>\n",
              "</div>"
            ],
            "text/plain": [
              "   raw_id  pred\n",
              "0       0     0\n",
              "1       1     0\n",
              "2       2     0\n",
              "3       3     0\n",
              "4       4     0"
            ]
          },
          "metadata": {
            "tags": []
          },
          "execution_count": 162
        }
      ]
    },
    {
      "cell_type": "code",
      "metadata": {
        "id": "5rZHthO4iZFd",
        "outputId": "92180b1e-3c64-47a0-b4fa-6b7d12e8a266",
        "colab": {
          "base_uri": "https://localhost:8080/",
          "height": 297
        }
      },
      "source": [
        "sns.countplot(data=submission,x='pred')\n",
        "plt.tight_layout()"
      ],
      "execution_count": null,
      "outputs": [
        {
          "output_type": "display_data",
          "data": {
            "image/png": "[encoded data removed]",
            "text/plain": [
              "<Figure size 432x288 with 1 Axes>"
            ]
          },
          "metadata": {
            "tags": [],
            "needs_background": "light"
          }
        }
      ]
    },
    {
      "cell_type": "code",
      "metadata": {
        "id": "ntt0p0tWJQyH",
        "outputId": "3ed036c6-9dd5-49b4-cb61-d981d4a7b4a4",
        "colab": {
          "base_uri": "https://localhost:8080/"
        }
      },
      "source": [
        "submission['pred'].value_counts()"
      ],
      "execution_count": null,
      "outputs": [
        {
          "output_type": "execute_result",
          "data": {
            "text/plain": [
              "0    51751\n",
              "1     4219\n",
              "Name: pred, dtype: int64"
            ]
          },
          "metadata": {
            "tags": []
          },
          "execution_count": 165
        }
      ]
    },
    {
      "cell_type": "code",
      "metadata": {
        "id": "OahZQCx5KCip"
      },
      "source": [
        ""
      ],
      "execution_count": null,
      "outputs": []
    }
  ]
}
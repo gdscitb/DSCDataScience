{
  "nbformat": 4,
  "nbformat_minor": 0,
  "metadata": {
    "colab": {
      "name": "Tugas1GDSCITB.ipynb",
      "provenance": [],
      "collapsed_sections": []
    },
    "kernelspec": {
      "name": "python3",
      "display_name": "Python 3"
    }
  },
  "cells": [
    {
      "cell_type": "markdown",
      "metadata": {
        "id": "_iA3wYqFqffe"
      },
      "source": [
        "**TUGAS 1 GDSCITB**\n",
        "\n",
        "Nama: Aldion Sumampouw\n",
        "\n",
        "Nim: 1815015193 \n",
        "\n",
        "Asal Universitas : Universitas Mulawarman\n",
        "\n",
        "Tanggal mulai pengerjaan tugas : Selasa, 10 November 2020\n",
        "\n",
        "Sumber Dataset : tips.csv (Seaborn dataset -> https://bit.ly/35je1BO)\n"
      ]
    },
    {
      "cell_type": "markdown",
      "metadata": {
        "id": "xDfU65I95Nw5"
      },
      "source": [
        "#**Library yang digunakan**\n"
      ]
    },
    {
      "cell_type": "code",
      "metadata": {
        "id": "VTyQH18tqekV"
      },
      "source": [
        "import pandas as pd\n",
        "import numpy as np\n",
        "import matplotlib.pyplot as plt\n",
        "from scipy.stats import pearsonr"
      ],
      "execution_count": 6,
      "outputs": []
    },
    {
      "cell_type": "markdown",
      "metadata": {
        "id": "-mQJta-19x6E"
      },
      "source": [
        "#**Load Dataset & Dataset Information**"
      ]
    },
    {
      "cell_type": "code",
      "metadata": {
        "id": "JuTQw70q9k61"
      },
      "source": [
        "df = pd.read_csv('/content/tips.csv')"
      ],
      "execution_count": 7,
      "outputs": []
    },
    {
      "cell_type": "markdown",
      "metadata": {
        "id": "7Zur41wlCjvy"
      },
      "source": [
        "**Dataset Information**"
      ]
    },
    {
      "cell_type": "code",
      "metadata": {
        "id": "hzDOFOHnCmdD",
        "outputId": "7977073c-eb07-45d9-e16c-6eefb8042315",
        "colab": {
          "base_uri": "https://localhost:8080/"
        }
      },
      "source": [
        "df.info()"
      ],
      "execution_count": 8,
      "outputs": [
        {
          "output_type": "stream",
          "text": [
            "<class 'pandas.core.frame.DataFrame'>\n",
            "RangeIndex: 244 entries, 0 to 243\n",
            "Data columns (total 7 columns):\n",
            " #   Column      Non-Null Count  Dtype  \n",
            "---  ------      --------------  -----  \n",
            " 0   total_bill  244 non-null    float64\n",
            " 1   tip         244 non-null    float64\n",
            " 2   sex         244 non-null    object \n",
            " 3   smoker      244 non-null    object \n",
            " 4   day         244 non-null    object \n",
            " 5   time        244 non-null    object \n",
            " 6   size        244 non-null    int64  \n",
            "dtypes: float64(2), int64(1), object(4)\n",
            "memory usage: 13.5+ KB\n"
          ],
          "name": "stdout"
        }
      ]
    },
    {
      "cell_type": "markdown",
      "metadata": {
        "id": "_RnnFfhdO6es"
      },
      "source": [
        "Dikarenakan tidak ada yang memiliki nilai kosong maka tidak dilakukan \n",
        "penghapusan kolom ataupun pengisian nilai."
      ]
    },
    {
      "cell_type": "code",
      "metadata": {
        "id": "TNyfZfFxF7dF",
        "outputId": "c7f96811-def3-4985-ea89-5ab0958a7a93",
        "colab": {
          "base_uri": "https://localhost:8080/",
          "height": 204
        }
      },
      "source": [
        "df.head()"
      ],
      "execution_count": 9,
      "outputs": [
        {
          "output_type": "execute_result",
          "data": {
            "text/html": [
              "<div>\n",
              "<style scoped>\n",
              "    .dataframe tbody tr th:only-of-type {\n",
              "        vertical-align: middle;\n",
              "    }\n",
              "\n",
              "    .dataframe tbody tr th {\n",
              "        vertical-align: top;\n",
              "    }\n",
              "\n",
              "    .dataframe thead th {\n",
              "        text-align: right;\n",
              "    }\n",
              "</style>\n",
              "<table border=\"1\" class=\"dataframe\">\n",
              "  <thead>\n",
              "    <tr style=\"text-align: right;\">\n",
              "      <th></th>\n",
              "      <th>total_bill</th>\n",
              "      <th>tip</th>\n",
              "      <th>sex</th>\n",
              "      <th>smoker</th>\n",
              "      <th>day</th>\n",
              "      <th>time</th>\n",
              "      <th>size</th>\n",
              "    </tr>\n",
              "  </thead>\n",
              "  <tbody>\n",
              "    <tr>\n",
              "      <th>0</th>\n",
              "      <td>16.99</td>\n",
              "      <td>1.01</td>\n",
              "      <td>Female</td>\n",
              "      <td>No</td>\n",
              "      <td>Sun</td>\n",
              "      <td>Dinner</td>\n",
              "      <td>2</td>\n",
              "    </tr>\n",
              "    <tr>\n",
              "      <th>1</th>\n",
              "      <td>10.34</td>\n",
              "      <td>1.66</td>\n",
              "      <td>Male</td>\n",
              "      <td>No</td>\n",
              "      <td>Sun</td>\n",
              "      <td>Dinner</td>\n",
              "      <td>3</td>\n",
              "    </tr>\n",
              "    <tr>\n",
              "      <th>2</th>\n",
              "      <td>21.01</td>\n",
              "      <td>3.50</td>\n",
              "      <td>Male</td>\n",
              "      <td>No</td>\n",
              "      <td>Sun</td>\n",
              "      <td>Dinner</td>\n",
              "      <td>3</td>\n",
              "    </tr>\n",
              "    <tr>\n",
              "      <th>3</th>\n",
              "      <td>23.68</td>\n",
              "      <td>3.31</td>\n",
              "      <td>Male</td>\n",
              "      <td>No</td>\n",
              "      <td>Sun</td>\n",
              "      <td>Dinner</td>\n",
              "      <td>2</td>\n",
              "    </tr>\n",
              "    <tr>\n",
              "      <th>4</th>\n",
              "      <td>24.59</td>\n",
              "      <td>3.61</td>\n",
              "      <td>Female</td>\n",
              "      <td>No</td>\n",
              "      <td>Sun</td>\n",
              "      <td>Dinner</td>\n",
              "      <td>4</td>\n",
              "    </tr>\n",
              "  </tbody>\n",
              "</table>\n",
              "</div>"
            ],
            "text/plain": [
              "   total_bill   tip     sex smoker  day    time  size\n",
              "0       16.99  1.01  Female     No  Sun  Dinner     2\n",
              "1       10.34  1.66    Male     No  Sun  Dinner     3\n",
              "2       21.01  3.50    Male     No  Sun  Dinner     3\n",
              "3       23.68  3.31    Male     No  Sun  Dinner     2\n",
              "4       24.59  3.61  Female     No  Sun  Dinner     4"
            ]
          },
          "metadata": {
            "tags": []
          },
          "execution_count": 9
        }
      ]
    },
    {
      "cell_type": "code",
      "metadata": {
        "id": "I7R0eQIeC-Av",
        "outputId": "ec445b08-94e2-4c1e-fbe7-266b39ccc34a",
        "colab": {
          "base_uri": "https://localhost:8080/",
          "height": 297
        }
      },
      "source": [
        "df.describe()"
      ],
      "execution_count": 10,
      "outputs": [
        {
          "output_type": "execute_result",
          "data": {
            "text/html": [
              "<div>\n",
              "<style scoped>\n",
              "    .dataframe tbody tr th:only-of-type {\n",
              "        vertical-align: middle;\n",
              "    }\n",
              "\n",
              "    .dataframe tbody tr th {\n",
              "        vertical-align: top;\n",
              "    }\n",
              "\n",
              "    .dataframe thead th {\n",
              "        text-align: right;\n",
              "    }\n",
              "</style>\n",
              "<table border=\"1\" class=\"dataframe\">\n",
              "  <thead>\n",
              "    <tr style=\"text-align: right;\">\n",
              "      <th></th>\n",
              "      <th>total_bill</th>\n",
              "      <th>tip</th>\n",
              "      <th>size</th>\n",
              "    </tr>\n",
              "  </thead>\n",
              "  <tbody>\n",
              "    <tr>\n",
              "      <th>count</th>\n",
              "      <td>244.000000</td>\n",
              "      <td>244.000000</td>\n",
              "      <td>244.000000</td>\n",
              "    </tr>\n",
              "    <tr>\n",
              "      <th>mean</th>\n",
              "      <td>19.785943</td>\n",
              "      <td>2.998279</td>\n",
              "      <td>2.569672</td>\n",
              "    </tr>\n",
              "    <tr>\n",
              "      <th>std</th>\n",
              "      <td>8.902412</td>\n",
              "      <td>1.383638</td>\n",
              "      <td>0.951100</td>\n",
              "    </tr>\n",
              "    <tr>\n",
              "      <th>min</th>\n",
              "      <td>3.070000</td>\n",
              "      <td>1.000000</td>\n",
              "      <td>1.000000</td>\n",
              "    </tr>\n",
              "    <tr>\n",
              "      <th>25%</th>\n",
              "      <td>13.347500</td>\n",
              "      <td>2.000000</td>\n",
              "      <td>2.000000</td>\n",
              "    </tr>\n",
              "    <tr>\n",
              "      <th>50%</th>\n",
              "      <td>17.795000</td>\n",
              "      <td>2.900000</td>\n",
              "      <td>2.000000</td>\n",
              "    </tr>\n",
              "    <tr>\n",
              "      <th>75%</th>\n",
              "      <td>24.127500</td>\n",
              "      <td>3.562500</td>\n",
              "      <td>3.000000</td>\n",
              "    </tr>\n",
              "    <tr>\n",
              "      <th>max</th>\n",
              "      <td>50.810000</td>\n",
              "      <td>10.000000</td>\n",
              "      <td>6.000000</td>\n",
              "    </tr>\n",
              "  </tbody>\n",
              "</table>\n",
              "</div>"
            ],
            "text/plain": [
              "       total_bill         tip        size\n",
              "count  244.000000  244.000000  244.000000\n",
              "mean    19.785943    2.998279    2.569672\n",
              "std      8.902412    1.383638    0.951100\n",
              "min      3.070000    1.000000    1.000000\n",
              "25%     13.347500    2.000000    2.000000\n",
              "50%     17.795000    2.900000    2.000000\n",
              "75%     24.127500    3.562500    3.000000\n",
              "max     50.810000   10.000000    6.000000"
            ]
          },
          "metadata": {
            "tags": []
          },
          "execution_count": 10
        }
      ]
    },
    {
      "cell_type": "markdown",
      "metadata": {
        "id": "2uzQOGwFGBRR"
      },
      "source": [
        "#**Data Preparation** \n",
        "**Delete & Renaming Column**\n",
        "\n",
        "\n"
      ]
    },
    {
      "cell_type": "code",
      "metadata": {
        "id": "ggZKYAOUGDSk"
      },
      "source": [
        "df.columns=['Total bill','Tip','Gender','Smoking','Day','Time','Costumer']\n",
        "df = df.drop(columns='Smoking')"
      ],
      "execution_count": 11,
      "outputs": []
    },
    {
      "cell_type": "markdown",
      "metadata": {
        "id": "GugoatTjRD2F"
      },
      "source": [
        "**Assign Value to Gender Column**"
      ]
    },
    {
      "cell_type": "code",
      "metadata": {
        "id": "Cbo3pg8FHepY"
      },
      "source": [
        "df['Gender'] = df['Gender'].apply(lambda x:0 if x == 'Female' else 1)"
      ],
      "execution_count": 12,
      "outputs": []
    },
    {
      "cell_type": "markdown",
      "metadata": {
        "id": "SdqfICdpPKRQ"
      },
      "source": [
        "Penggantian nilai bagi kolom gender dan smoking."
      ]
    },
    {
      "cell_type": "code",
      "metadata": {
        "id": "rCPr-ogGHNtU",
        "outputId": "10d5fd53-576e-4177-fd6b-30117cd9aa14",
        "colab": {
          "base_uri": "https://localhost:8080/",
          "height": 204
        }
      },
      "source": [
        "df.head()"
      ],
      "execution_count": 13,
      "outputs": [
        {
          "output_type": "execute_result",
          "data": {
            "text/html": [
              "<div>\n",
              "<style scoped>\n",
              "    .dataframe tbody tr th:only-of-type {\n",
              "        vertical-align: middle;\n",
              "    }\n",
              "\n",
              "    .dataframe tbody tr th {\n",
              "        vertical-align: top;\n",
              "    }\n",
              "\n",
              "    .dataframe thead th {\n",
              "        text-align: right;\n",
              "    }\n",
              "</style>\n",
              "<table border=\"1\" class=\"dataframe\">\n",
              "  <thead>\n",
              "    <tr style=\"text-align: right;\">\n",
              "      <th></th>\n",
              "      <th>Total bill</th>\n",
              "      <th>Tip</th>\n",
              "      <th>Gender</th>\n",
              "      <th>Day</th>\n",
              "      <th>Time</th>\n",
              "      <th>Costumer</th>\n",
              "    </tr>\n",
              "  </thead>\n",
              "  <tbody>\n",
              "    <tr>\n",
              "      <th>0</th>\n",
              "      <td>16.99</td>\n",
              "      <td>1.01</td>\n",
              "      <td>0</td>\n",
              "      <td>Sun</td>\n",
              "      <td>Dinner</td>\n",
              "      <td>2</td>\n",
              "    </tr>\n",
              "    <tr>\n",
              "      <th>1</th>\n",
              "      <td>10.34</td>\n",
              "      <td>1.66</td>\n",
              "      <td>1</td>\n",
              "      <td>Sun</td>\n",
              "      <td>Dinner</td>\n",
              "      <td>3</td>\n",
              "    </tr>\n",
              "    <tr>\n",
              "      <th>2</th>\n",
              "      <td>21.01</td>\n",
              "      <td>3.50</td>\n",
              "      <td>1</td>\n",
              "      <td>Sun</td>\n",
              "      <td>Dinner</td>\n",
              "      <td>3</td>\n",
              "    </tr>\n",
              "    <tr>\n",
              "      <th>3</th>\n",
              "      <td>23.68</td>\n",
              "      <td>3.31</td>\n",
              "      <td>1</td>\n",
              "      <td>Sun</td>\n",
              "      <td>Dinner</td>\n",
              "      <td>2</td>\n",
              "    </tr>\n",
              "    <tr>\n",
              "      <th>4</th>\n",
              "      <td>24.59</td>\n",
              "      <td>3.61</td>\n",
              "      <td>0</td>\n",
              "      <td>Sun</td>\n",
              "      <td>Dinner</td>\n",
              "      <td>4</td>\n",
              "    </tr>\n",
              "  </tbody>\n",
              "</table>\n",
              "</div>"
            ],
            "text/plain": [
              "   Total bill   Tip  Gender  Day    Time  Costumer\n",
              "0       16.99  1.01       0  Sun  Dinner         2\n",
              "1       10.34  1.66       1  Sun  Dinner         3\n",
              "2       21.01  3.50       1  Sun  Dinner         3\n",
              "3       23.68  3.31       1  Sun  Dinner         2\n",
              "4       24.59  3.61       0  Sun  Dinner         4"
            ]
          },
          "metadata": {
            "tags": []
          },
          "execution_count": 13
        }
      ]
    },
    {
      "cell_type": "markdown",
      "metadata": {
        "id": "zNQUZ5wARfOY"
      },
      "source": [
        "#**Data Processing**"
      ]
    },
    {
      "cell_type": "code",
      "metadata": {
        "id": "R4RrkRnpRqB8",
        "outputId": "4cfeccd4-6844-4fba-96bc-5f9d31da8e81",
        "colab": {
          "base_uri": "https://localhost:8080/"
        }
      },
      "source": [
        "#Perhitungan total bill dan total costumer dari dataset\n",
        "total_bill_sum = df['Total bill'].sum()\n",
        "total_tips = df['Tip'].sum()\n",
        "\n",
        "#membagi dataset berdasarkan gender pengunjung\n",
        "df_costumer_male = df[df['Gender']==1]\n",
        "df_costumer_female = df[df['Gender']==0]\n",
        "\n",
        "#nilai tip minimum dan maksimum\n",
        "Tipmin = df['Tip'].min()\n",
        "Tipmax = df['Tip'].max()\n",
        "print(\"Tip minimum yang diberikan pelanggan ialah sebesar %d$\" %(Tipmin))\n",
        "print(\"Tip maximum yang diberikan pelanggan ialah sebesar %d$\" %(Tipmax))"
      ],
      "execution_count": 14,
      "outputs": [
        {
          "output_type": "stream",
          "text": [
            "Tip minimum yang diberikan pelanggan ialah sebesar 1$\n",
            "Tip maximum yang diberikan pelanggan ialah sebesar 10$\n"
          ],
          "name": "stdout"
        }
      ]
    },
    {
      "cell_type": "code",
      "metadata": {
        "id": "0AlkKWwlgKjp"
      },
      "source": [
        "#Perhitungan rata-rata\n",
        "average_tip = []\n",
        "average_tip.append(df['Tip'].mean())\n",
        "average_tip.append(df_costumer_male['Tip'].mean())\n",
        "average_tip.append(df_costumer_female['Tip'].mean())\n",
        "\n",
        "average_costumer = []\n",
        "average_costumer.append(round(df['Costumer'].mean()))\n",
        "average_costumer.append(round(df_costumer_male['Costumer'].mean()))\n",
        "average_costumer.append(round(df_costumer_female['Costumer'].mean()))\n",
        "\n",
        "average_total_bill = []\n",
        "average_total_bill.append(df['Total bill'].mean())\n",
        "average_total_bill.append(df_costumer_male['Total bill'].mean())\n",
        "average_total_bill.append(df_costumer_female['Total bill'].mean())\n",
        "\n",
        "costumer = []\n",
        "costumer.append(df['Costumer'].sum()) \n",
        "costumer.append(df_costumer_male['Costumer'].sum())\n",
        "costumer.append(df_costumer_female['Costumer'].sum())\n",
        "\n",
        "day_sun = df[df['Day']=='Sun']\n",
        "day_sat = df[df['Day']=='Sat']\n",
        "day_fri = df[df['Day']=='Fri']\n",
        "day_thur = df[df['Day']=='Thur']\n",
        "\n",
        "day_visitor = []\n",
        "day_visitor.append((day_sun['Costumer']).sum())\n",
        "day_visitor.append((day_sat['Costumer']).sum())\n",
        "day_visitor.append((day_fri['Costumer']).sum())\n",
        "day_visitor.append((day_thur['Costumer']).sum())\n",
        "\n",
        "dinner_time = df[df['Time']=='Dinner']\n",
        "lunch_time = df[df['Time']=='Lunch']\n",
        "\n",
        "time_visit = []\n",
        "time_visit.append((dinner_time['Time']).count())\n",
        "time_visit.append((lunch_time['Time']).count())\n"
      ],
      "execution_count": 15,
      "outputs": []
    },
    {
      "cell_type": "markdown",
      "metadata": {
        "id": "XSk8-IuHi1qc"
      },
      "source": [
        "# **Chart**"
      ]
    },
    {
      "cell_type": "code",
      "metadata": {
        "id": "of-Uf-JKt8bx",
        "outputId": "b48aa925-4707-4db6-f6c2-41cbcbbe5697",
        "colab": {
          "base_uri": "https://localhost:8080/",
          "height": 281
        }
      },
      "source": [
        "objects = ('Laki-Laki', 'Perempuan')\n",
        "y_pos = np.arange(len(objects))\n",
        "performance = [costumer[1],costumer[2]]\n",
        "\n",
        "plt.bar(y_pos, performance, align='center', alpha=0.5)\n",
        "plt.xticks(y_pos, objects)\n",
        "plt.ylabel('Jumlah pengunjung')\n",
        "plt.title('Pengunjung restoran')\n",
        "plt.show()"
      ],
      "execution_count": 16,
      "outputs": [
        {
          "output_type": "display_data",
          "data": {
            "image/png": "[encoded data removed]",
            "text/plain": [
              "<Figure size 432x288 with 1 Axes>"
            ]
          },
          "metadata": {
            "tags": [],
            "needs_background": "light"
          }
        }
      ]
    },
    {
      "cell_type": "markdown",
      "metadata": {
        "id": "-B0cy29XXX_Z"
      },
      "source": [
        "Kebanyakan pengunjung ialah laki-laki"
      ]
    },
    {
      "cell_type": "code",
      "metadata": {
        "id": "Q5pE3kKpvN2A",
        "outputId": "50470623-cf86-4f95-d0bb-16974380b8b9",
        "colab": {
          "base_uri": "https://localhost:8080/",
          "height": 281
        }
      },
      "source": [
        "objects = ('Laki-Laki', 'Perempuan')\n",
        "y_pos = np.arange(len(objects))\n",
        "performance = [average_total_bill[1],average_total_bill[2]]\n",
        "\n",
        "plt.bar(y_pos, performance, align='center', alpha=0.5)\n",
        "plt.xticks(y_pos, objects)\n",
        "plt.ylabel('Jumlah bill')\n",
        "plt.title('Rata-rata bill permeja')\n",
        "plt.show()"
      ],
      "execution_count": 17,
      "outputs": [
        {
          "output_type": "display_data",
          "data": {
            "image/png": "[encoded data removed]",
            "text/plain": [
              "<Figure size 432x288 with 1 Axes>"
            ]
          },
          "metadata": {
            "tags": [],
            "needs_background": "light"
          }
        }
      ]
    },
    {
      "cell_type": "markdown",
      "metadata": {
        "id": "ABqRvqRX9vDy"
      },
      "source": [
        "Bill meja laki-laki lebih tinggi dibanding meja perempuan"
      ]
    },
    {
      "cell_type": "code",
      "metadata": {
        "id": "nQ4nxl6Mvh_J",
        "outputId": "70a78396-ca0c-4e03-fbdf-a3007511e6cb",
        "colab": {
          "base_uri": "https://localhost:8080/",
          "height": 281
        }
      },
      "source": [
        "objects = ('Laki-Laki', 'Perempuan')\n",
        "y_pos = np.arange(len(objects))\n",
        "performance = [average_costumer[1],average_costumer[2]]\n",
        "\n",
        "plt.bar(y_pos, performance, align='center', alpha=0.5)\n",
        "plt.xticks(y_pos, objects)\n",
        "plt.ylabel('Jumlah orang')\n",
        "plt.title('Rata-rata pengunjung disetiap meja')\n",
        "plt.show()"
      ],
      "execution_count": 18,
      "outputs": [
        {
          "output_type": "display_data",
          "data": {
            "image/png": "[encoded data removed]",
            "text/plain": [
              "<Figure size 432x288 with 1 Axes>"
            ]
          },
          "metadata": {
            "tags": [],
            "needs_background": "light"
          }
        }
      ]
    },
    {
      "cell_type": "markdown",
      "metadata": {
        "id": "iY6xOzEk9ohZ"
      },
      "source": [
        "Rata-rata pengunjung pria datang ber 3 sedangkan perempuan berdua"
      ]
    },
    {
      "cell_type": "code",
      "metadata": {
        "id": "TXWaohmsWFs-",
        "outputId": "6cf88de3-becb-4fd3-b82b-8bf9e80fd2f3",
        "colab": {
          "base_uri": "https://localhost:8080/",
          "height": 281
        }
      },
      "source": [
        "objects = ('Dinner', 'Lunch')\n",
        "y_pos = np.arange(len(objects))\n",
        "performance = [time_visit[0],time_visit[1]]\n",
        "\n",
        "plt.bar(y_pos, performance, align='center', alpha=0.5)\n",
        "plt.xticks(y_pos, objects)\n",
        "plt.ylabel('Jumlah kunjungan')\n",
        "plt.title('Jumlah kunjungan berdasarkan waktu')\n",
        "plt.show()"
      ],
      "execution_count": 19,
      "outputs": [
        {
          "output_type": "display_data",
          "data": {
            "image/png": "[encoded data removed]",
            "text/plain": [
              "<Figure size 432x288 with 1 Axes>"
            ]
          },
          "metadata": {
            "tags": [],
            "needs_background": "light"
          }
        }
      ]
    },
    {
      "cell_type": "markdown",
      "metadata": {
        "id": "uUou3HPYXpLv"
      },
      "source": [
        "Pengunjung lebih memilih makan malam direstoran ini dibandingkan makan siang."
      ]
    },
    {
      "cell_type": "code",
      "metadata": {
        "id": "d5thvf4qzANY",
        "outputId": "63130a2c-ce4b-482b-8afa-02eda044f0fb",
        "colab": {
          "base_uri": "https://localhost:8080/",
          "height": 264
        }
      },
      "source": [
        "labels = df['Day'].unique()\n",
        "sizes = [day_visitor[0],day_visitor[1],day_visitor[2],day_visitor[3]]\n",
        "plt.pie(sizes, labels=labels, autopct='%1.1f%%',shadow=True, startangle=90)\n",
        "plt.title('Perbandingan pengunjung perhari')\n",
        "plt.show()\n"
      ],
      "execution_count": 20,
      "outputs": [
        {
          "output_type": "display_data",
          "data": {
            "image/png": "[encoded data removed]",
            "text/plain": [
              "<Figure size 432x288 with 1 Axes>"
            ]
          },
          "metadata": {
            "tags": []
          }
        }
      ]
    },
    {
      "cell_type": "markdown",
      "metadata": {
        "id": "jW8dGL-JXgbE"
      },
      "source": [
        "Pengunjung pada hari sabtu dan minggu lebih banyak dibandingkan hari jumat dan kamis"
      ]
    },
    {
      "cell_type": "markdown",
      "metadata": {
        "id": "RX19naqvQJNm"
      },
      "source": [
        "#**Korelasi nilai**"
      ]
    },
    {
      "cell_type": "markdown",
      "metadata": {
        "id": "rwZUFhw8QOZm"
      },
      "source": [
        "Pearson correlation"
      ]
    },
    {
      "cell_type": "code",
      "metadata": {
        "id": "Ymzk1rOSQNpM",
        "outputId": "8315d172-e724-4ff7-cecb-986e1591bd06",
        "colab": {
          "base_uri": "https://localhost:8080/",
          "height": 313
        }
      },
      "source": [
        "corr, _ = pearsonr(df['Total bill'],df['Tip'])\n",
        "print('Nilai Korelasi Pearsons : %.3f' % corr)\n",
        "plt.scatter(df['Total bill'],df['Tip'])\n",
        "plt.title('Scatter Plot Korelasi Pearson Product Moment (r)')\n",
        "plt.xlabel('Total bill (X)')\n",
        "plt.ylabel('tip (Y)')\n",
        "plt.show()"
      ],
      "execution_count": 21,
      "outputs": [
        {
          "output_type": "stream",
          "text": [
            "Nilai Korelasi Pearsons : 0.676\n"
          ],
          "name": "stdout"
        },
        {
          "output_type": "display_data",
          "data": {
            "image/png": "[encoded data removed]",
            "text/plain": [
              "<Figure size 432x288 with 1 Axes>"
            ]
          },
          "metadata": {
            "tags": [],
            "needs_background": "light"
          }
        }
      ]
    },
    {
      "cell_type": "markdown",
      "metadata": {
        "id": "nM7EjYLUYrKE"
      },
      "source": [
        "Jumlah pelanggan memiliki korelasi positif yang kuat terhadap total bayar"
      ]
    },
    {
      "cell_type": "markdown",
      "metadata": {
        "id": "ixs_RenN97tr"
      },
      "source": [
        "# Insight"
      ]
    },
    {
      "cell_type": "markdown",
      "metadata": {
        "id": "cTg1TzTb9-6T"
      },
      "source": [
        "Dari pemrosesan data yang dilakukan dapat disimpulkan bahwa\n",
        "\n",
        "\n",
        "1.   Total bill memiliki pengaruh terhadap tip yang diberikan\n",
        "2.   Pengunjung lebih banyak berjenis kelamin laki-laki\n",
        "3.   Hari yang sibuk ialah hari sabtu dan hari minggu\n",
        "4.   Pengunjung lebih memilih untuk makan malam dibanding makan siang direstoran ini\n",
        "\n"
      ]
    }
  ]
}
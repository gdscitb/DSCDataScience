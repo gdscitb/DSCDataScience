{
  "nbformat": 4,
  "nbformat_minor": 0,
  "metadata": {
    "colab": {
      "name": "Analisis Data Tingkat Kebahagiaan di dunia tahun 2019.ipynb",
      "provenance": [],
      "collapsed_sections": []
    },
    "kernelspec": {
      "name": "python3",
      "display_name": "Python 3"
    }
  },
  "cells": [
    {
      "cell_type": "markdown",
      "metadata": {
        "id": "M-ndVx5YRe3P"
      },
      "source": [
        "Analisis Data Tingkat Kebahagiaan di Dunia tahun 2019\n",
        "\n",
        "Nama: Muhammad Rizaldy\n",
        "\n",
        "NIM: 10119040\n",
        "\n",
        "Universitas: ITB\n",
        "\n",
        "Tanggal mulai pengerjaan: 11 November 2020\n",
        "\n",
        "Sumber dataset: https://www.kaggle.com/unsdsn/world-happiness?select=2019.csv"
      ]
    },
    {
      "cell_type": "markdown",
      "metadata": {
        "id": "AML-rSm_ds91"
      },
      "source": [
        "Dari dataset yang telah diperoleh, kita ingin mengetahui bagaimana variabel - variabel yang ada memengaruhi tingkat kebahagiaan di suatu negara. Oleh karena itu, kita akan menggunakan model *multiple linear regression* untuk memprediksi hal tersebut."
      ]
    },
    {
      "cell_type": "markdown",
      "metadata": {
        "id": "DUkIpCS1SMgJ"
      },
      "source": [
        "Data Preparation"
      ]
    },
    {
      "cell_type": "code",
      "metadata": {
        "id": "b1fb4R2j0XaG"
      },
      "source": [
        "# Import library yang dibutuhkan\n",
        "import pandas as pd\n",
        "import matplotlib.pyplot as plt\n",
        "import seaborn as sns\n",
        "from sklearn.linear_model import LinearRegression\n",
        "from sklearn.model_selection import train_test_split\n"
      ],
      "execution_count": 28,
      "outputs": []
    },
    {
      "cell_type": "code",
      "metadata": {
        "id": "RD56sHqRe3tq"
      },
      "source": [
        "# Upload dataset\n",
        "from google.colab import files\n",
        "data = files.upload()"
      ],
      "execution_count": null,
      "outputs": []
    },
    {
      "cell_type": "code",
      "metadata": {
        "id": "hPxCTqC71VNP"
      },
      "source": [
        "# Import dataset\n",
        "df = pd.read_csv('Tingkat kebahagiaan dunia 2019.csv')"
      ],
      "execution_count": 29,
      "outputs": []
    },
    {
      "cell_type": "code",
      "metadata": {
        "id": "9SSARwMv1cYp",
        "outputId": "915fcda4-b416-440b-dba2-e308552bb680",
        "colab": {
          "base_uri": "https://localhost:8080/",
          "height": 215
        }
      },
      "source": [
        "df.head()"
      ],
      "execution_count": 30,
      "outputs": [
        {
          "output_type": "execute_result",
          "data": {
            "text/html": [
              "<div>\n",
              "<style scoped>\n",
              "    .dataframe tbody tr th:only-of-type {\n",
              "        vertical-align: middle;\n",
              "    }\n",
              "\n",
              "    .dataframe tbody tr th {\n",
              "        vertical-align: top;\n",
              "    }\n",
              "\n",
              "    .dataframe thead th {\n",
              "        text-align: right;\n",
              "    }\n",
              "</style>\n",
              "<table border=\"1\" class=\"dataframe\">\n",
              "  <thead>\n",
              "    <tr style=\"text-align: right;\">\n",
              "      <th></th>\n",
              "      <th>Overall rank</th>\n",
              "      <th>Country or region</th>\n",
              "      <th>Score</th>\n",
              "      <th>GDP per capita</th>\n",
              "      <th>Social support</th>\n",
              "      <th>Healthy life expectancy</th>\n",
              "      <th>Freedom to make life choices</th>\n",
              "      <th>Generosity</th>\n",
              "      <th>Perceptions of corruption</th>\n",
              "    </tr>\n",
              "  </thead>\n",
              "  <tbody>\n",
              "    <tr>\n",
              "      <th>0</th>\n",
              "      <td>1</td>\n",
              "      <td>Finland</td>\n",
              "      <td>7.769</td>\n",
              "      <td>1.340</td>\n",
              "      <td>1.587</td>\n",
              "      <td>0.986</td>\n",
              "      <td>0.596</td>\n",
              "      <td>0.153</td>\n",
              "      <td>0.393</td>\n",
              "    </tr>\n",
              "    <tr>\n",
              "      <th>1</th>\n",
              "      <td>2</td>\n",
              "      <td>Denmark</td>\n",
              "      <td>7.600</td>\n",
              "      <td>1.383</td>\n",
              "      <td>1.573</td>\n",
              "      <td>0.996</td>\n",
              "      <td>0.592</td>\n",
              "      <td>0.252</td>\n",
              "      <td>0.410</td>\n",
              "    </tr>\n",
              "    <tr>\n",
              "      <th>2</th>\n",
              "      <td>3</td>\n",
              "      <td>Norway</td>\n",
              "      <td>7.554</td>\n",
              "      <td>1.488</td>\n",
              "      <td>1.582</td>\n",
              "      <td>1.028</td>\n",
              "      <td>0.603</td>\n",
              "      <td>0.271</td>\n",
              "      <td>0.341</td>\n",
              "    </tr>\n",
              "    <tr>\n",
              "      <th>3</th>\n",
              "      <td>4</td>\n",
              "      <td>Iceland</td>\n",
              "      <td>7.494</td>\n",
              "      <td>1.380</td>\n",
              "      <td>1.624</td>\n",
              "      <td>1.026</td>\n",
              "      <td>0.591</td>\n",
              "      <td>0.354</td>\n",
              "      <td>0.118</td>\n",
              "    </tr>\n",
              "    <tr>\n",
              "      <th>4</th>\n",
              "      <td>5</td>\n",
              "      <td>Netherlands</td>\n",
              "      <td>7.488</td>\n",
              "      <td>1.396</td>\n",
              "      <td>1.522</td>\n",
              "      <td>0.999</td>\n",
              "      <td>0.557</td>\n",
              "      <td>0.322</td>\n",
              "      <td>0.298</td>\n",
              "    </tr>\n",
              "  </tbody>\n",
              "</table>\n",
              "</div>"
            ],
            "text/plain": [
              "   Overall rank Country or region  ...  Generosity  Perceptions of corruption\n",
              "0             1           Finland  ...       0.153                      0.393\n",
              "1             2           Denmark  ...       0.252                      0.410\n",
              "2             3            Norway  ...       0.271                      0.341\n",
              "3             4           Iceland  ...       0.354                      0.118\n",
              "4             5       Netherlands  ...       0.322                      0.298\n",
              "\n",
              "[5 rows x 9 columns]"
            ]
          },
          "metadata": {
            "tags": []
          },
          "execution_count": 30
        }
      ]
    },
    {
      "cell_type": "markdown",
      "metadata": {
        "id": "5gSOwGKGcVYY"
      },
      "source": [
        "Data Preprocessing"
      ]
    },
    {
      "cell_type": "code",
      "metadata": {
        "id": "e9IjrN7w1yYK"
      },
      "source": [
        "# Mengganti label kolom pada data yang digunakan agar lebih mudah di analisis\n",
        "df.columns = ['rank', 'country', 'score', 'GDP', 'social_support', 'healthy', 'freedom', 'generosity', 'POC']"
      ],
      "execution_count": 31,
      "outputs": []
    },
    {
      "cell_type": "code",
      "metadata": {
        "id": "BJWYhNSmYNmP"
      },
      "source": [
        "# Menghilangkan kolom rank karena tidak akan diperlukan\n",
        "df = df.drop(columns='rank')"
      ],
      "execution_count": 32,
      "outputs": []
    },
    {
      "cell_type": "code",
      "metadata": {
        "id": "DyHYNJHU2TEK",
        "outputId": "43b4c165-07c5-4897-871b-4667cc1f1dd7",
        "colab": {
          "base_uri": "https://localhost:8080/",
          "height": 198
        }
      },
      "source": [
        "df.head()"
      ],
      "execution_count": 15,
      "outputs": [
        {
          "output_type": "execute_result",
          "data": {
            "text/html": [
              "<div>\n",
              "<style scoped>\n",
              "    .dataframe tbody tr th:only-of-type {\n",
              "        vertical-align: middle;\n",
              "    }\n",
              "\n",
              "    .dataframe tbody tr th {\n",
              "        vertical-align: top;\n",
              "    }\n",
              "\n",
              "    .dataframe thead th {\n",
              "        text-align: right;\n",
              "    }\n",
              "</style>\n",
              "<table border=\"1\" class=\"dataframe\">\n",
              "  <thead>\n",
              "    <tr style=\"text-align: right;\">\n",
              "      <th></th>\n",
              "      <th>country</th>\n",
              "      <th>score</th>\n",
              "      <th>GDP</th>\n",
              "      <th>social_support</th>\n",
              "      <th>healthy</th>\n",
              "      <th>freedom</th>\n",
              "      <th>generosity</th>\n",
              "      <th>POC</th>\n",
              "    </tr>\n",
              "  </thead>\n",
              "  <tbody>\n",
              "    <tr>\n",
              "      <th>0</th>\n",
              "      <td>Finland</td>\n",
              "      <td>7.769</td>\n",
              "      <td>1.340</td>\n",
              "      <td>1.587</td>\n",
              "      <td>0.986</td>\n",
              "      <td>0.596</td>\n",
              "      <td>0.153</td>\n",
              "      <td>0.393</td>\n",
              "    </tr>\n",
              "    <tr>\n",
              "      <th>1</th>\n",
              "      <td>Denmark</td>\n",
              "      <td>7.600</td>\n",
              "      <td>1.383</td>\n",
              "      <td>1.573</td>\n",
              "      <td>0.996</td>\n",
              "      <td>0.592</td>\n",
              "      <td>0.252</td>\n",
              "      <td>0.410</td>\n",
              "    </tr>\n",
              "    <tr>\n",
              "      <th>2</th>\n",
              "      <td>Norway</td>\n",
              "      <td>7.554</td>\n",
              "      <td>1.488</td>\n",
              "      <td>1.582</td>\n",
              "      <td>1.028</td>\n",
              "      <td>0.603</td>\n",
              "      <td>0.271</td>\n",
              "      <td>0.341</td>\n",
              "    </tr>\n",
              "    <tr>\n",
              "      <th>3</th>\n",
              "      <td>Iceland</td>\n",
              "      <td>7.494</td>\n",
              "      <td>1.380</td>\n",
              "      <td>1.624</td>\n",
              "      <td>1.026</td>\n",
              "      <td>0.591</td>\n",
              "      <td>0.354</td>\n",
              "      <td>0.118</td>\n",
              "    </tr>\n",
              "    <tr>\n",
              "      <th>4</th>\n",
              "      <td>Netherlands</td>\n",
              "      <td>7.488</td>\n",
              "      <td>1.396</td>\n",
              "      <td>1.522</td>\n",
              "      <td>0.999</td>\n",
              "      <td>0.557</td>\n",
              "      <td>0.322</td>\n",
              "      <td>0.298</td>\n",
              "    </tr>\n",
              "  </tbody>\n",
              "</table>\n",
              "</div>"
            ],
            "text/plain": [
              "       country  score    GDP  ...  freedom  generosity    POC\n",
              "0      Finland  7.769  1.340  ...    0.596       0.153  0.393\n",
              "1      Denmark  7.600  1.383  ...    0.592       0.252  0.410\n",
              "2       Norway  7.554  1.488  ...    0.603       0.271  0.341\n",
              "3      Iceland  7.494  1.380  ...    0.591       0.354  0.118\n",
              "4  Netherlands  7.488  1.396  ...    0.557       0.322  0.298\n",
              "\n",
              "[5 rows x 8 columns]"
            ]
          },
          "metadata": {
            "tags": []
          },
          "execution_count": 15
        }
      ]
    },
    {
      "cell_type": "code",
      "metadata": {
        "id": "_i3GZyRnTFvn",
        "outputId": "0f3283c2-adad-4f5e-92c9-cbc13fb9ee6f",
        "colab": {
          "base_uri": "https://localhost:8080/"
        }
      },
      "source": [
        "# Ingin mengetahui apakah ada data NaN atau kosong\n",
        "df.isnull().sum()"
      ],
      "execution_count": 33,
      "outputs": [
        {
          "output_type": "execute_result",
          "data": {
            "text/plain": [
              "country           0\n",
              "score             0\n",
              "GDP               0\n",
              "social_support    0\n",
              "healthy           0\n",
              "freedom           0\n",
              "generosity        0\n",
              "POC               0\n",
              "dtype: int64"
            ]
          },
          "metadata": {
            "tags": []
          },
          "execution_count": 33
        }
      ]
    },
    {
      "cell_type": "markdown",
      "metadata": {
        "id": "gw1-apDXhbIO"
      },
      "source": [
        "Exploratory Data"
      ]
    },
    {
      "cell_type": "code",
      "metadata": {
        "id": "E1DZwZW53_kE",
        "outputId": "88214ddd-9cc5-4120-aba3-b4c0bf1524bd",
        "colab": {
          "base_uri": "https://localhost:8080/",
          "height": 288
        }
      },
      "source": [
        "# Ingin mengetahui statistik dasar pada data\n",
        "df.describe()"
      ],
      "execution_count": 34,
      "outputs": [
        {
          "output_type": "execute_result",
          "data": {
            "text/html": [
              "<div>\n",
              "<style scoped>\n",
              "    .dataframe tbody tr th:only-of-type {\n",
              "        vertical-align: middle;\n",
              "    }\n",
              "\n",
              "    .dataframe tbody tr th {\n",
              "        vertical-align: top;\n",
              "    }\n",
              "\n",
              "    .dataframe thead th {\n",
              "        text-align: right;\n",
              "    }\n",
              "</style>\n",
              "<table border=\"1\" class=\"dataframe\">\n",
              "  <thead>\n",
              "    <tr style=\"text-align: right;\">\n",
              "      <th></th>\n",
              "      <th>score</th>\n",
              "      <th>GDP</th>\n",
              "      <th>social_support</th>\n",
              "      <th>healthy</th>\n",
              "      <th>freedom</th>\n",
              "      <th>generosity</th>\n",
              "      <th>POC</th>\n",
              "    </tr>\n",
              "  </thead>\n",
              "  <tbody>\n",
              "    <tr>\n",
              "      <th>count</th>\n",
              "      <td>156.000000</td>\n",
              "      <td>156.000000</td>\n",
              "      <td>156.000000</td>\n",
              "      <td>156.000000</td>\n",
              "      <td>156.000000</td>\n",
              "      <td>156.000000</td>\n",
              "      <td>156.000000</td>\n",
              "    </tr>\n",
              "    <tr>\n",
              "      <th>mean</th>\n",
              "      <td>5.407096</td>\n",
              "      <td>0.905147</td>\n",
              "      <td>1.208814</td>\n",
              "      <td>0.725244</td>\n",
              "      <td>0.392571</td>\n",
              "      <td>0.184846</td>\n",
              "      <td>0.110603</td>\n",
              "    </tr>\n",
              "    <tr>\n",
              "      <th>std</th>\n",
              "      <td>1.113120</td>\n",
              "      <td>0.398389</td>\n",
              "      <td>0.299191</td>\n",
              "      <td>0.242124</td>\n",
              "      <td>0.143289</td>\n",
              "      <td>0.095254</td>\n",
              "      <td>0.094538</td>\n",
              "    </tr>\n",
              "    <tr>\n",
              "      <th>min</th>\n",
              "      <td>2.853000</td>\n",
              "      <td>0.000000</td>\n",
              "      <td>0.000000</td>\n",
              "      <td>0.000000</td>\n",
              "      <td>0.000000</td>\n",
              "      <td>0.000000</td>\n",
              "      <td>0.000000</td>\n",
              "    </tr>\n",
              "    <tr>\n",
              "      <th>25%</th>\n",
              "      <td>4.544500</td>\n",
              "      <td>0.602750</td>\n",
              "      <td>1.055750</td>\n",
              "      <td>0.547750</td>\n",
              "      <td>0.308000</td>\n",
              "      <td>0.108750</td>\n",
              "      <td>0.047000</td>\n",
              "    </tr>\n",
              "    <tr>\n",
              "      <th>50%</th>\n",
              "      <td>5.379500</td>\n",
              "      <td>0.960000</td>\n",
              "      <td>1.271500</td>\n",
              "      <td>0.789000</td>\n",
              "      <td>0.417000</td>\n",
              "      <td>0.177500</td>\n",
              "      <td>0.085500</td>\n",
              "    </tr>\n",
              "    <tr>\n",
              "      <th>75%</th>\n",
              "      <td>6.184500</td>\n",
              "      <td>1.232500</td>\n",
              "      <td>1.452500</td>\n",
              "      <td>0.881750</td>\n",
              "      <td>0.507250</td>\n",
              "      <td>0.248250</td>\n",
              "      <td>0.141250</td>\n",
              "    </tr>\n",
              "    <tr>\n",
              "      <th>max</th>\n",
              "      <td>7.769000</td>\n",
              "      <td>1.684000</td>\n",
              "      <td>1.624000</td>\n",
              "      <td>1.141000</td>\n",
              "      <td>0.631000</td>\n",
              "      <td>0.566000</td>\n",
              "      <td>0.453000</td>\n",
              "    </tr>\n",
              "  </tbody>\n",
              "</table>\n",
              "</div>"
            ],
            "text/plain": [
              "            score         GDP  ...  generosity         POC\n",
              "count  156.000000  156.000000  ...  156.000000  156.000000\n",
              "mean     5.407096    0.905147  ...    0.184846    0.110603\n",
              "std      1.113120    0.398389  ...    0.095254    0.094538\n",
              "min      2.853000    0.000000  ...    0.000000    0.000000\n",
              "25%      4.544500    0.602750  ...    0.108750    0.047000\n",
              "50%      5.379500    0.960000  ...    0.177500    0.085500\n",
              "75%      6.184500    1.232500  ...    0.248250    0.141250\n",
              "max      7.769000    1.684000  ...    0.566000    0.453000\n",
              "\n",
              "[8 rows x 7 columns]"
            ]
          },
          "metadata": {
            "tags": []
          },
          "execution_count": 34
        }
      ]
    },
    {
      "cell_type": "code",
      "metadata": {
        "id": "EU3jvKPrOctd",
        "outputId": "0a6180fa-6237-41e6-e9e0-a5c8c9518b78",
        "colab": {
          "base_uri": "https://localhost:8080/",
          "height": 78
        }
      },
      "source": [
        "# Ingin mengetahui posisi Indonesia\n",
        "dfind = df[(df.country==\"Indonesia\")]\n",
        "dfind"
      ],
      "execution_count": 35,
      "outputs": [
        {
          "output_type": "execute_result",
          "data": {
            "text/html": [
              "<div>\n",
              "<style scoped>\n",
              "    .dataframe tbody tr th:only-of-type {\n",
              "        vertical-align: middle;\n",
              "    }\n",
              "\n",
              "    .dataframe tbody tr th {\n",
              "        vertical-align: top;\n",
              "    }\n",
              "\n",
              "    .dataframe thead th {\n",
              "        text-align: right;\n",
              "    }\n",
              "</style>\n",
              "<table border=\"1\" class=\"dataframe\">\n",
              "  <thead>\n",
              "    <tr style=\"text-align: right;\">\n",
              "      <th></th>\n",
              "      <th>country</th>\n",
              "      <th>score</th>\n",
              "      <th>GDP</th>\n",
              "      <th>social_support</th>\n",
              "      <th>healthy</th>\n",
              "      <th>freedom</th>\n",
              "      <th>generosity</th>\n",
              "      <th>POC</th>\n",
              "    </tr>\n",
              "  </thead>\n",
              "  <tbody>\n",
              "    <tr>\n",
              "      <th>91</th>\n",
              "      <td>Indonesia</td>\n",
              "      <td>5.192</td>\n",
              "      <td>0.931</td>\n",
              "      <td>1.203</td>\n",
              "      <td>0.66</td>\n",
              "      <td>0.491</td>\n",
              "      <td>0.498</td>\n",
              "      <td>0.028</td>\n",
              "    </tr>\n",
              "  </tbody>\n",
              "</table>\n",
              "</div>"
            ],
            "text/plain": [
              "      country  score    GDP  ...  freedom  generosity    POC\n",
              "91  Indonesia  5.192  0.931  ...    0.491       0.498  0.028\n",
              "\n",
              "[1 rows x 8 columns]"
            ]
          },
          "metadata": {
            "tags": []
          },
          "execution_count": 35
        }
      ]
    },
    {
      "cell_type": "markdown",
      "metadata": {
        "id": "OactuSjLiEWG"
      },
      "source": [
        "Berdasarkan score yang Indonesia peroleh, yaitu 5.192, tingkat kebahagiaan di Indonesia masih berada di bawah rata-rata negara-negara di dunia."
      ]
    },
    {
      "cell_type": "code",
      "metadata": {
        "id": "dv8xrnOcidPe",
        "outputId": "3f99babd-7746-49bc-a521-4e392d997ede",
        "colab": {
          "base_uri": "https://localhost:8080/",
          "height": 269
        }
      },
      "source": [
        "# Melihat sebaran data pada score tiap negara\n",
        "plt.boxplot(df['score'])\n",
        "plt.show()"
      ],
      "execution_count": 47,
      "outputs": [
        {
          "output_type": "display_data",
          "data": {
            "image/png": "[encoded data removed]",
            "text/plain": [
              "<Figure size 432x288 with 1 Axes>"
            ]
          },
          "metadata": {
            "tags": [],
            "needs_background": "light"
          }
        }
      ]
    },
    {
      "cell_type": "code",
      "metadata": {
        "id": "_3mWWPXsl1DJ",
        "outputId": "e59d4785-023d-44b8-8789-47e7ad18d6ba",
        "colab": {
          "base_uri": "https://localhost:8080/",
          "height": 283
        }
      },
      "source": [
        "f = plt.figure(figsize=(10,4))\n",
        "f.add_subplot(1,2,1)\n",
        "df['score'].plot(kind='kde')"
      ],
      "execution_count": 66,
      "outputs": [
        {
          "output_type": "execute_result",
          "data": {
            "text/plain": [
              "<matplotlib.axes._subplots.AxesSubplot at 0x7face8cc2e10>"
            ]
          },
          "metadata": {
            "tags": []
          },
          "execution_count": 66
        },
        {
          "output_type": "display_data",
          "data": {
            "image/png": "[encoded data removed]",
            "text/plain": [
              "<Figure size 720x288 with 1 Axes>"
            ]
          },
          "metadata": {
            "tags": [],
            "needs_background": "light"
          }
        }
      ]
    },
    {
      "cell_type": "markdown",
      "metadata": {
        "id": "1XjR-EnymtIO"
      },
      "source": [
        "Berdasarkan hasil plotting yang kita peroleh, nilai score berdistribusi normal. Sebagian besar data score terletak di rentang 4 s.d. 6 dan data juga tidak memiliki pencilan. "
      ]
    },
    {
      "cell_type": "code",
      "metadata": {
        "id": "0SMIXUJIiCWs",
        "outputId": "57596bfa-3730-42b2-81c0-5ff87f7c6d06",
        "colab": {
          "base_uri": "https://localhost:8080/",
          "height": 267
        }
      },
      "source": [
        "# Melihat sebaran data pada GDP tiap negara\n",
        "plt.boxplot(df['GDP'])\n",
        "plt.show()"
      ],
      "execution_count": 62,
      "outputs": [
        {
          "output_type": "display_data",
          "data": {
            "image/png": "[encoded data removed]",
            "text/plain": [
              "<Figure size 432x288 with 1 Axes>"
            ]
          },
          "metadata": {
            "tags": [],
            "needs_background": "light"
          }
        }
      ]
    },
    {
      "cell_type": "code",
      "metadata": {
        "id": "OW5aPrVOoKac",
        "outputId": "6b477315-ef84-4be0-8bf6-3ec7a2e0fd11",
        "colab": {
          "base_uri": "https://localhost:8080/",
          "height": 283
        }
      },
      "source": [
        "f = plt.figure(figsize=(10,4))\n",
        "f.add_subplot(1,2,1)\n",
        "df['GDP'].plot(kind='hist')"
      ],
      "execution_count": 71,
      "outputs": [
        {
          "output_type": "execute_result",
          "data": {
            "text/plain": [
              "<matplotlib.axes._subplots.AxesSubplot at 0x7face8aa5128>"
            ]
          },
          "metadata": {
            "tags": []
          },
          "execution_count": 71
        },
        {
          "output_type": "display_data",
          "data": {
            "image/png": "[encoded data removed]",
            "text/plain": [
              "<Figure size 720x288 with 1 Axes>"
            ]
          },
          "metadata": {
            "tags": [],
            "needs_background": "light"
          }
        }
      ]
    },
    {
      "cell_type": "markdown",
      "metadata": {
        "id": "clhT1FIEo4tr"
      },
      "source": [
        "Berdasarkan hasil plotting yang kita peroleh, GDP di negara dunia memiliki persebaran yang menceng kiri . Sebagian besar GDP terletak di rentang 1 s.d. 1.25 dan data juga tidak memiliki pencilan."
      ]
    },
    {
      "cell_type": "code",
      "metadata": {
        "id": "hTDsoqk5pbfn",
        "outputId": "706e9da6-9980-4010-adb3-509a65423e23",
        "colab": {
          "base_uri": "https://localhost:8080/",
          "height": 265
        }
      },
      "source": [
        "# Melihat sebaran data pada social_support tiap negara\n",
        "plt.boxplot(df['social_support'])\n",
        "plt.show()"
      ],
      "execution_count": 72,
      "outputs": [
        {
          "output_type": "display_data",
          "data": {
            "image/png": "[encoded data removed]",
            "text/plain": [
              "<Figure size 432x288 with 1 Axes>"
            ]
          },
          "metadata": {
            "tags": [],
            "needs_background": "light"
          }
        }
      ]
    },
    {
      "cell_type": "code",
      "metadata": {
        "id": "lzVKG-LMpmKa",
        "outputId": "0fbe184c-c705-4749-858d-b7b4bffd0f4c",
        "colab": {
          "base_uri": "https://localhost:8080/",
          "height": 283
        }
      },
      "source": [
        "f = plt.figure(figsize=(10,4))\n",
        "f.add_subplot(1,2,1)\n",
        "df['social_support'].plot(kind='hist')"
      ],
      "execution_count": 75,
      "outputs": [
        {
          "output_type": "execute_result",
          "data": {
            "text/plain": [
              "<matplotlib.axes._subplots.AxesSubplot at 0x7face8a68b70>"
            ]
          },
          "metadata": {
            "tags": []
          },
          "execution_count": 75
        },
        {
          "output_type": "display_data",
          "data": {
            "image/png": "[encoded data removed]",
            "text/plain": [
              "<Figure size 720x288 with 1 Axes>"
            ]
          },
          "metadata": {
            "tags": [],
            "needs_background": "light"
          }
        }
      ]
    },
    {
      "cell_type": "markdown",
      "metadata": {
        "id": "A18AvB2cp3va"
      },
      "source": [
        "Berdasarkan hasil plotting yang kita peroleh, kepedulian sosial di negara dunia memiliki persebaran yang menceng kiri . Sebagian besar kepedulian sosial terletak di rentang 1.25 s.d. 1.50 dan data memiliki pencilan bawah."
      ]
    },
    {
      "cell_type": "code",
      "metadata": {
        "id": "w-2AMfM5qTfD",
        "outputId": "01eb9702-9172-495b-ab1e-a07e695e0620",
        "colab": {
          "base_uri": "https://localhost:8080/",
          "height": 265
        }
      },
      "source": [
        "# Melihat sebaran data pada healthy tiap negara\n",
        "plt.boxplot(df['healthy'])\n",
        "plt.show()"
      ],
      "execution_count": 76,
      "outputs": [
        {
          "output_type": "display_data",
          "data": {
            "image/png": "[encoded data removed]",
            "text/plain": [
              "<Figure size 432x288 with 1 Axes>"
            ]
          },
          "metadata": {
            "tags": [],
            "needs_background": "light"
          }
        }
      ]
    },
    {
      "cell_type": "code",
      "metadata": {
        "id": "5QxQtmlrqgpj",
        "outputId": "d6233913-7552-47e6-b6cf-f6cb27cd31d4",
        "colab": {
          "base_uri": "https://localhost:8080/",
          "height": 283
        }
      },
      "source": [
        "f = plt.figure(figsize=(10,4))\n",
        "f.add_subplot(1,2,1)\n",
        "df['healthy'].plot(kind='hist')"
      ],
      "execution_count": 78,
      "outputs": [
        {
          "output_type": "execute_result",
          "data": {
            "text/plain": [
              "<matplotlib.axes._subplots.AxesSubplot at 0x7face9510908>"
            ]
          },
          "metadata": {
            "tags": []
          },
          "execution_count": 78
        },
        {
          "output_type": "display_data",
          "data": {
            "image/png": "[encoded data removed]",
            "text/plain": [
              "<Figure size 720x288 with 1 Axes>"
            ]
          },
          "metadata": {
            "tags": [],
            "needs_background": "light"
          }
        }
      ]
    },
    {
      "cell_type": "markdown",
      "metadata": {
        "id": "N7I4EBZ0rALL"
      },
      "source": [
        "Berdasarkan hasil plotting yang kita peroleh, tingkat kesehatan di negara dunia memiliki persebaran yang menceng kiri . Sebagian besar social_support terletak di rentang 0.8 s.d. 1.0 dan data memiliki pencilan bawah."
      ]
    },
    {
      "cell_type": "code",
      "metadata": {
        "id": "hqjvzvgnrJOC",
        "outputId": "5ffd03fc-5bff-4dc6-eeaa-07519b1048b7",
        "colab": {
          "base_uri": "https://localhost:8080/",
          "height": 265
        }
      },
      "source": [
        "# Melihat sebaran data pada healthy tiap negara\n",
        "plt.boxplot(df['freedom'])\n",
        "plt.show()"
      ],
      "execution_count": 79,
      "outputs": [
        {
          "output_type": "display_data",
          "data": {
            "image/png": "[encoded data removed]",
            "text/plain": [
              "<Figure size 432x288 with 1 Axes>"
            ]
          },
          "metadata": {
            "tags": [],
            "needs_background": "light"
          }
        }
      ]
    },
    {
      "cell_type": "code",
      "metadata": {
        "id": "Kfxqh2Q7ro75",
        "outputId": "da096315-405a-4bfb-87a2-6e30e20cb87e",
        "colab": {
          "base_uri": "https://localhost:8080/",
          "height": 285
        }
      },
      "source": [
        "f = plt.figure(figsize=(10,4))\n",
        "f.add_subplot(1,2,1)\n",
        "df['freedom'].plot(kind='hist')"
      ],
      "execution_count": 80,
      "outputs": [
        {
          "output_type": "execute_result",
          "data": {
            "text/plain": [
              "<matplotlib.axes._subplots.AxesSubplot at 0x7face89079b0>"
            ]
          },
          "metadata": {
            "tags": []
          },
          "execution_count": 80
        },
        {
          "output_type": "display_data",
          "data": {
            "image/png": "[encoded data removed]",
            "text/plain": [
              "<Figure size 720x288 with 1 Axes>"
            ]
          },
          "metadata": {
            "tags": [],
            "needs_background": "light"
          }
        }
      ]
    },
    {
      "cell_type": "markdown",
      "metadata": {
        "id": "D5iXGGJTryiA"
      },
      "source": [
        "Berdasarkan hasil plotting yang kita peroleh, tingkat kebebasan dalam menjalani kehidupan di negara dunia memiliki persebaran yang menceng kiri . Sebagian besar tingkat kebebasan dalam menjalani kehidupan terletak di rentang 0.40 s.d. 0.55 dan data memiliki pencilan bawah, artinya ada negara yang memiliki tingkat kebebasan jauh di bawah negara-negara lainnya."
      ]
    },
    {
      "cell_type": "code",
      "metadata": {
        "id": "zo4rWDYisUCZ",
        "outputId": "e4e07378-11ef-49e9-bfa7-280e9751d00b",
        "colab": {
          "base_uri": "https://localhost:8080/",
          "height": 265
        }
      },
      "source": [
        "# Melihat sebaran data pada generosity tiap negara\n",
        "plt.boxplot(df['generosity'])\n",
        "plt.show()"
      ],
      "execution_count": 81,
      "outputs": [
        {
          "output_type": "display_data",
          "data": {
            "image/png": "[encoded data removed]",
            "text/plain": [
              "<Figure size 432x288 with 1 Axes>"
            ]
          },
          "metadata": {
            "tags": [],
            "needs_background": "light"
          }
        }
      ]
    },
    {
      "cell_type": "code",
      "metadata": {
        "id": "ySAknDLJsv2v",
        "outputId": "9739cd91-a1e8-4e87-8680-ecc34179fdd2",
        "colab": {
          "base_uri": "https://localhost:8080/",
          "height": 283
        }
      },
      "source": [
        "f = plt.figure(figsize=(10,4))\n",
        "f.add_subplot(1,2,1)\n",
        "df['generosity'].plot(kind='hist')"
      ],
      "execution_count": 82,
      "outputs": [
        {
          "output_type": "execute_result",
          "data": {
            "text/plain": [
              "<matplotlib.axes._subplots.AxesSubplot at 0x7face8768f28>"
            ]
          },
          "metadata": {
            "tags": []
          },
          "execution_count": 82
        },
        {
          "output_type": "display_data",
          "data": {
            "image/png": "[encoded data removed]",
            "text/plain": [
              "<Figure size 720x288 with 1 Axes>"
            ]
          },
          "metadata": {
            "tags": [],
            "needs_background": "light"
          }
        }
      ]
    },
    {
      "cell_type": "markdown",
      "metadata": {
        "id": "kLIQmMWHsrgL"
      },
      "source": [
        "Berdasarkan hasil plotting yang kita peroleh, tingkat kedermawanan di negara dunia memiliki persebaran yang menceng kanan . Sebagian besar tingkat kedermawanan terletak di rentang 0.1 s.d. 0.3 dan data memiliki pencilan atas, artinya ada negara yang memiliki tingkat kedermawanan jauh di atas negara-negara lainnya."
      ]
    },
    {
      "cell_type": "code",
      "metadata": {
        "id": "detik2hTtUJ0",
        "outputId": "1feb22d4-0b01-4073-bc6b-ee5130883e71",
        "colab": {
          "base_uri": "https://localhost:8080/",
          "height": 265
        }
      },
      "source": [
        "# Melihat sebaran data pada POC tiap negara\n",
        "plt.boxplot(df['POC'])\n",
        "plt.show()"
      ],
      "execution_count": 83,
      "outputs": [
        {
          "output_type": "display_data",
          "data": {
            "image/png": "[encoded data removed]",
            "text/plain": [
              "<Figure size 432x288 with 1 Axes>"
            ]
          },
          "metadata": {
            "tags": [],
            "needs_background": "light"
          }
        }
      ]
    },
    {
      "cell_type": "code",
      "metadata": {
        "id": "SZ8_OGmGtgDB",
        "outputId": "316db59d-0911-4025-a5d7-bf1806a8d6b6",
        "colab": {
          "base_uri": "https://localhost:8080/",
          "height": 283
        }
      },
      "source": [
        "f = plt.figure(figsize=(10,4))\n",
        "f.add_subplot(1,2,1)\n",
        "df['POC'].plot(kind='hist')"
      ],
      "execution_count": 84,
      "outputs": [
        {
          "output_type": "execute_result",
          "data": {
            "text/plain": [
              "<matplotlib.axes._subplots.AxesSubplot at 0x7face86b8860>"
            ]
          },
          "metadata": {
            "tags": []
          },
          "execution_count": 84
        },
        {
          "output_type": "display_data",
          "data": {
            "image/png": "[encoded data removed]",
            "text/plain": [
              "<Figure size 720x288 with 1 Axes>"
            ]
          },
          "metadata": {
            "tags": [],
            "needs_background": "light"
          }
        }
      ]
    },
    {
      "cell_type": "markdown",
      "metadata": {
        "id": "LpEOMMdTtpY3"
      },
      "source": [
        "Berdasarkan hasil plotting yang kita peroleh, pandangan masyarakat terhadap korupsi di negara dunia memiliki persebaran yang menceng kanan . Sebagian besar tingkat persepsi tentang korupsi terletak di rentang 0.0 s.d. 0.1 dan data memiliki pencilan atas, artinya ada negara yang masyarakatnya memiliki persepsi korupsi jauh di atas negara-negara lainnya."
      ]
    },
    {
      "cell_type": "markdown",
      "metadata": {
        "id": "zqHST0ANuAlR"
      },
      "source": [
        "Model Development"
      ]
    },
    {
      "cell_type": "code",
      "metadata": {
        "id": "6v5uYwKYugzH",
        "outputId": "93a726fa-1c2f-4f68-c23e-7d82d41662fc",
        "colab": {
          "base_uri": "https://localhost:8080/",
          "height": 186
        }
      },
      "source": [
        "# Ingin mengetahui nilai korelasi dari independent variable(GDP, social_support, healthy, freedom, generosity, POC) dan dependent variable(score).\n",
        "df.corr().style.background_gradient().set_precision(2)"
      ],
      "execution_count": 87,
      "outputs": [
        {
          "output_type": "execute_result",
          "data": {
            "text/html": [
              "<style  type=\"text/css\" >\n",
              "#T_73d1b53c_275f_11eb_8c96_0242ac1c0002row0_col0,#T_73d1b53c_275f_11eb_8c96_0242ac1c0002row1_col1,#T_73d1b53c_275f_11eb_8c96_0242ac1c0002row2_col2,#T_73d1b53c_275f_11eb_8c96_0242ac1c0002row3_col3,#T_73d1b53c_275f_11eb_8c96_0242ac1c0002row4_col4,#T_73d1b53c_275f_11eb_8c96_0242ac1c0002row5_col5,#T_73d1b53c_275f_11eb_8c96_0242ac1c0002row6_col6{\n",
              "            background-color:  #023858;\n",
              "            color:  #f1f1f1;\n",
              "        }#T_73d1b53c_275f_11eb_8c96_0242ac1c0002row0_col1{\n",
              "            background-color:  #05659f;\n",
              "            color:  #f1f1f1;\n",
              "        }#T_73d1b53c_275f_11eb_8c96_0242ac1c0002row0_col2,#T_73d1b53c_275f_11eb_8c96_0242ac1c0002row0_col3{\n",
              "            background-color:  #0569a5;\n",
              "            color:  #f1f1f1;\n",
              "        }#T_73d1b53c_275f_11eb_8c96_0242ac1c0002row0_col4,#T_73d1b53c_275f_11eb_8c96_0242ac1c0002row4_col3{\n",
              "            background-color:  #99b8d8;\n",
              "            color:  #000000;\n",
              "        }#T_73d1b53c_275f_11eb_8c96_0242ac1c0002row0_col5,#T_73d1b53c_275f_11eb_8c96_0242ac1c0002row1_col6{\n",
              "            background-color:  #e8e4f0;\n",
              "            color:  #000000;\n",
              "        }#T_73d1b53c_275f_11eb_8c96_0242ac1c0002row0_col6{\n",
              "            background-color:  #d1d2e6;\n",
              "            color:  #000000;\n",
              "        }#T_73d1b53c_275f_11eb_8c96_0242ac1c0002row1_col0{\n",
              "            background-color:  #056ba9;\n",
              "            color:  #f1f1f1;\n",
              "        }#T_73d1b53c_275f_11eb_8c96_0242ac1c0002row1_col2{\n",
              "            background-color:  #056dab;\n",
              "            color:  #f1f1f1;\n",
              "        }#T_73d1b53c_275f_11eb_8c96_0242ac1c0002row1_col3{\n",
              "            background-color:  #046096;\n",
              "            color:  #f1f1f1;\n",
              "        }#T_73d1b53c_275f_11eb_8c96_0242ac1c0002row1_col4{\n",
              "            background-color:  #e7e3f0;\n",
              "            color:  #000000;\n",
              "        }#T_73d1b53c_275f_11eb_8c96_0242ac1c0002row1_col5,#T_73d1b53c_275f_11eb_8c96_0242ac1c0002row2_col6,#T_73d1b53c_275f_11eb_8c96_0242ac1c0002row5_col0,#T_73d1b53c_275f_11eb_8c96_0242ac1c0002row5_col1,#T_73d1b53c_275f_11eb_8c96_0242ac1c0002row5_col2,#T_73d1b53c_275f_11eb_8c96_0242ac1c0002row5_col3,#T_73d1b53c_275f_11eb_8c96_0242ac1c0002row5_col4{\n",
              "            background-color:  #fff7fb;\n",
              "            color:  #000000;\n",
              "        }#T_73d1b53c_275f_11eb_8c96_0242ac1c0002row2_col0{\n",
              "            background-color:  #056ead;\n",
              "            color:  #f1f1f1;\n",
              "        }#T_73d1b53c_275f_11eb_8c96_0242ac1c0002row2_col1{\n",
              "            background-color:  #056caa;\n",
              "            color:  #f1f1f1;\n",
              "        }#T_73d1b53c_275f_11eb_8c96_0242ac1c0002row2_col3{\n",
              "            background-color:  #0d75b3;\n",
              "            color:  #f1f1f1;\n",
              "        }#T_73d1b53c_275f_11eb_8c96_0242ac1c0002row2_col4{\n",
              "            background-color:  #d2d2e7;\n",
              "            color:  #000000;\n",
              "        }#T_73d1b53c_275f_11eb_8c96_0242ac1c0002row2_col5{\n",
              "            background-color:  #fbf3f9;\n",
              "            color:  #000000;\n",
              "        }#T_73d1b53c_275f_11eb_8c96_0242ac1c0002row3_col0{\n",
              "            background-color:  #056dac;\n",
              "            color:  #f1f1f1;\n",
              "        }#T_73d1b53c_275f_11eb_8c96_0242ac1c0002row3_col1{\n",
              "            background-color:  #045f95;\n",
              "            color:  #f1f1f1;\n",
              "        }#T_73d1b53c_275f_11eb_8c96_0242ac1c0002row3_col2{\n",
              "            background-color:  #0c74b2;\n",
              "            color:  #f1f1f1;\n",
              "        }#T_73d1b53c_275f_11eb_8c96_0242ac1c0002row3_col4{\n",
              "            background-color:  #e3e0ee;\n",
              "            color:  #000000;\n",
              "        }#T_73d1b53c_275f_11eb_8c96_0242ac1c0002row3_col5{\n",
              "            background-color:  #f8f1f8;\n",
              "            color:  #000000;\n",
              "        }#T_73d1b53c_275f_11eb_8c96_0242ac1c0002row3_col6{\n",
              "            background-color:  #e9e5f1;\n",
              "            color:  #000000;\n",
              "        }#T_73d1b53c_275f_11eb_8c96_0242ac1c0002row4_col0{\n",
              "            background-color:  #65a3cb;\n",
              "            color:  #000000;\n",
              "        }#T_73d1b53c_275f_11eb_8c96_0242ac1c0002row4_col1{\n",
              "            background-color:  #93b5d6;\n",
              "            color:  #000000;\n",
              "        }#T_73d1b53c_275f_11eb_8c96_0242ac1c0002row4_col2{\n",
              "            background-color:  #7eadd1;\n",
              "            color:  #000000;\n",
              "        }#T_73d1b53c_275f_11eb_8c96_0242ac1c0002row4_col5{\n",
              "            background-color:  #b8c6e0;\n",
              "            color:  #000000;\n",
              "        }#T_73d1b53c_275f_11eb_8c96_0242ac1c0002row4_col6,#T_73d1b53c_275f_11eb_8c96_0242ac1c0002row6_col3{\n",
              "            background-color:  #bbc7e0;\n",
              "            color:  #000000;\n",
              "        }#T_73d1b53c_275f_11eb_8c96_0242ac1c0002row5_col6{\n",
              "            background-color:  #e0deed;\n",
              "            color:  #000000;\n",
              "        }#T_73d1b53c_275f_11eb_8c96_0242ac1c0002row6_col0{\n",
              "            background-color:  #b4c4df;\n",
              "            color:  #000000;\n",
              "        }#T_73d1b53c_275f_11eb_8c96_0242ac1c0002row6_col1{\n",
              "            background-color:  #afc1dd;\n",
              "            color:  #000000;\n",
              "        }#T_73d1b53c_275f_11eb_8c96_0242ac1c0002row6_col2{\n",
              "            background-color:  #d7d6e9;\n",
              "            color:  #000000;\n",
              "        }#T_73d1b53c_275f_11eb_8c96_0242ac1c0002row6_col4{\n",
              "            background-color:  #d4d4e8;\n",
              "            color:  #000000;\n",
              "        }#T_73d1b53c_275f_11eb_8c96_0242ac1c0002row6_col5{\n",
              "            background-color:  #a5bddb;\n",
              "            color:  #000000;\n",
              "        }</style><table id=\"T_73d1b53c_275f_11eb_8c96_0242ac1c0002\" ><thead>    <tr>        <th class=\"blank level0\" ></th>        <th class=\"col_heading level0 col0\" >score</th>        <th class=\"col_heading level0 col1\" >GDP</th>        <th class=\"col_heading level0 col2\" >social_support</th>        <th class=\"col_heading level0 col3\" >healthy</th>        <th class=\"col_heading level0 col4\" >freedom</th>        <th class=\"col_heading level0 col5\" >generosity</th>        <th class=\"col_heading level0 col6\" >POC</th>    </tr></thead><tbody>\n",
              "                <tr>\n",
              "                        <th id=\"T_73d1b53c_275f_11eb_8c96_0242ac1c0002level0_row0\" class=\"row_heading level0 row0\" >score</th>\n",
              "                        <td id=\"T_73d1b53c_275f_11eb_8c96_0242ac1c0002row0_col0\" class=\"data row0 col0\" >1.00</td>\n",
              "                        <td id=\"T_73d1b53c_275f_11eb_8c96_0242ac1c0002row0_col1\" class=\"data row0 col1\" >0.79</td>\n",
              "                        <td id=\"T_73d1b53c_275f_11eb_8c96_0242ac1c0002row0_col2\" class=\"data row0 col2\" >0.78</td>\n",
              "                        <td id=\"T_73d1b53c_275f_11eb_8c96_0242ac1c0002row0_col3\" class=\"data row0 col3\" >0.78</td>\n",
              "                        <td id=\"T_73d1b53c_275f_11eb_8c96_0242ac1c0002row0_col4\" class=\"data row0 col4\" >0.57</td>\n",
              "                        <td id=\"T_73d1b53c_275f_11eb_8c96_0242ac1c0002row0_col5\" class=\"data row0 col5\" >0.08</td>\n",
              "                        <td id=\"T_73d1b53c_275f_11eb_8c96_0242ac1c0002row0_col6\" class=\"data row0 col6\" >0.39</td>\n",
              "            </tr>\n",
              "            <tr>\n",
              "                        <th id=\"T_73d1b53c_275f_11eb_8c96_0242ac1c0002level0_row1\" class=\"row_heading level0 row1\" >GDP</th>\n",
              "                        <td id=\"T_73d1b53c_275f_11eb_8c96_0242ac1c0002row1_col0\" class=\"data row1 col0\" >0.79</td>\n",
              "                        <td id=\"T_73d1b53c_275f_11eb_8c96_0242ac1c0002row1_col1\" class=\"data row1 col1\" >1.00</td>\n",
              "                        <td id=\"T_73d1b53c_275f_11eb_8c96_0242ac1c0002row1_col2\" class=\"data row1 col2\" >0.75</td>\n",
              "                        <td id=\"T_73d1b53c_275f_11eb_8c96_0242ac1c0002row1_col3\" class=\"data row1 col3\" >0.84</td>\n",
              "                        <td id=\"T_73d1b53c_275f_11eb_8c96_0242ac1c0002row1_col4\" class=\"data row1 col4\" >0.38</td>\n",
              "                        <td id=\"T_73d1b53c_275f_11eb_8c96_0242ac1c0002row1_col5\" class=\"data row1 col5\" >-0.08</td>\n",
              "                        <td id=\"T_73d1b53c_275f_11eb_8c96_0242ac1c0002row1_col6\" class=\"data row1 col6\" >0.30</td>\n",
              "            </tr>\n",
              "            <tr>\n",
              "                        <th id=\"T_73d1b53c_275f_11eb_8c96_0242ac1c0002level0_row2\" class=\"row_heading level0 row2\" >social_support</th>\n",
              "                        <td id=\"T_73d1b53c_275f_11eb_8c96_0242ac1c0002row2_col0\" class=\"data row2 col0\" >0.78</td>\n",
              "                        <td id=\"T_73d1b53c_275f_11eb_8c96_0242ac1c0002row2_col1\" class=\"data row2 col1\" >0.75</td>\n",
              "                        <td id=\"T_73d1b53c_275f_11eb_8c96_0242ac1c0002row2_col2\" class=\"data row2 col2\" >1.00</td>\n",
              "                        <td id=\"T_73d1b53c_275f_11eb_8c96_0242ac1c0002row2_col3\" class=\"data row2 col3\" >0.72</td>\n",
              "                        <td id=\"T_73d1b53c_275f_11eb_8c96_0242ac1c0002row2_col4\" class=\"data row2 col4\" >0.45</td>\n",
              "                        <td id=\"T_73d1b53c_275f_11eb_8c96_0242ac1c0002row2_col5\" class=\"data row2 col5\" >-0.05</td>\n",
              "                        <td id=\"T_73d1b53c_275f_11eb_8c96_0242ac1c0002row2_col6\" class=\"data row2 col6\" >0.18</td>\n",
              "            </tr>\n",
              "            <tr>\n",
              "                        <th id=\"T_73d1b53c_275f_11eb_8c96_0242ac1c0002level0_row3\" class=\"row_heading level0 row3\" >healthy</th>\n",
              "                        <td id=\"T_73d1b53c_275f_11eb_8c96_0242ac1c0002row3_col0\" class=\"data row3 col0\" >0.78</td>\n",
              "                        <td id=\"T_73d1b53c_275f_11eb_8c96_0242ac1c0002row3_col1\" class=\"data row3 col1\" >0.84</td>\n",
              "                        <td id=\"T_73d1b53c_275f_11eb_8c96_0242ac1c0002row3_col2\" class=\"data row3 col2\" >0.72</td>\n",
              "                        <td id=\"T_73d1b53c_275f_11eb_8c96_0242ac1c0002row3_col3\" class=\"data row3 col3\" >1.00</td>\n",
              "                        <td id=\"T_73d1b53c_275f_11eb_8c96_0242ac1c0002row3_col4\" class=\"data row3 col4\" >0.39</td>\n",
              "                        <td id=\"T_73d1b53c_275f_11eb_8c96_0242ac1c0002row3_col5\" class=\"data row3 col5\" >-0.03</td>\n",
              "                        <td id=\"T_73d1b53c_275f_11eb_8c96_0242ac1c0002row3_col6\" class=\"data row3 col6\" >0.30</td>\n",
              "            </tr>\n",
              "            <tr>\n",
              "                        <th id=\"T_73d1b53c_275f_11eb_8c96_0242ac1c0002level0_row4\" class=\"row_heading level0 row4\" >freedom</th>\n",
              "                        <td id=\"T_73d1b53c_275f_11eb_8c96_0242ac1c0002row4_col0\" class=\"data row4 col0\" >0.57</td>\n",
              "                        <td id=\"T_73d1b53c_275f_11eb_8c96_0242ac1c0002row4_col1\" class=\"data row4 col1\" >0.38</td>\n",
              "                        <td id=\"T_73d1b53c_275f_11eb_8c96_0242ac1c0002row4_col2\" class=\"data row4 col2\" >0.45</td>\n",
              "                        <td id=\"T_73d1b53c_275f_11eb_8c96_0242ac1c0002row4_col3\" class=\"data row4 col3\" >0.39</td>\n",
              "                        <td id=\"T_73d1b53c_275f_11eb_8c96_0242ac1c0002row4_col4\" class=\"data row4 col4\" >1.00</td>\n",
              "                        <td id=\"T_73d1b53c_275f_11eb_8c96_0242ac1c0002row4_col5\" class=\"data row4 col5\" >0.27</td>\n",
              "                        <td id=\"T_73d1b53c_275f_11eb_8c96_0242ac1c0002row4_col6\" class=\"data row4 col6\" >0.44</td>\n",
              "            </tr>\n",
              "            <tr>\n",
              "                        <th id=\"T_73d1b53c_275f_11eb_8c96_0242ac1c0002level0_row5\" class=\"row_heading level0 row5\" >generosity</th>\n",
              "                        <td id=\"T_73d1b53c_275f_11eb_8c96_0242ac1c0002row5_col0\" class=\"data row5 col0\" >0.08</td>\n",
              "                        <td id=\"T_73d1b53c_275f_11eb_8c96_0242ac1c0002row5_col1\" class=\"data row5 col1\" >-0.08</td>\n",
              "                        <td id=\"T_73d1b53c_275f_11eb_8c96_0242ac1c0002row5_col2\" class=\"data row5 col2\" >-0.05</td>\n",
              "                        <td id=\"T_73d1b53c_275f_11eb_8c96_0242ac1c0002row5_col3\" class=\"data row5 col3\" >-0.03</td>\n",
              "                        <td id=\"T_73d1b53c_275f_11eb_8c96_0242ac1c0002row5_col4\" class=\"data row5 col4\" >0.27</td>\n",
              "                        <td id=\"T_73d1b53c_275f_11eb_8c96_0242ac1c0002row5_col5\" class=\"data row5 col5\" >1.00</td>\n",
              "                        <td id=\"T_73d1b53c_275f_11eb_8c96_0242ac1c0002row5_col6\" class=\"data row5 col6\" >0.33</td>\n",
              "            </tr>\n",
              "            <tr>\n",
              "                        <th id=\"T_73d1b53c_275f_11eb_8c96_0242ac1c0002level0_row6\" class=\"row_heading level0 row6\" >POC</th>\n",
              "                        <td id=\"T_73d1b53c_275f_11eb_8c96_0242ac1c0002row6_col0\" class=\"data row6 col0\" >0.39</td>\n",
              "                        <td id=\"T_73d1b53c_275f_11eb_8c96_0242ac1c0002row6_col1\" class=\"data row6 col1\" >0.30</td>\n",
              "                        <td id=\"T_73d1b53c_275f_11eb_8c96_0242ac1c0002row6_col2\" class=\"data row6 col2\" >0.18</td>\n",
              "                        <td id=\"T_73d1b53c_275f_11eb_8c96_0242ac1c0002row6_col3\" class=\"data row6 col3\" >0.30</td>\n",
              "                        <td id=\"T_73d1b53c_275f_11eb_8c96_0242ac1c0002row6_col4\" class=\"data row6 col4\" >0.44</td>\n",
              "                        <td id=\"T_73d1b53c_275f_11eb_8c96_0242ac1c0002row6_col5\" class=\"data row6 col5\" >0.33</td>\n",
              "                        <td id=\"T_73d1b53c_275f_11eb_8c96_0242ac1c0002row6_col6\" class=\"data row6 col6\" >1.00</td>\n",
              "            </tr>\n",
              "    </tbody></table>"
            ],
            "text/plain": [
              "<pandas.io.formats.style.Styler at 0x7facf96cc048>"
            ]
          },
          "metadata": {
            "tags": []
          },
          "execution_count": 87
        }
      ]
    },
    {
      "cell_type": "markdown",
      "metadata": {
        "id": "BXYZe_OfvESC"
      },
      "source": [
        "Berdasarkan hasil tersebut, variabel independen yang sangat memengaruhi tingkat kebahagiaan di dunia adalah GDP, kepedulian sosial di tengah masyarakat, dan tingkat kesehatan."
      ]
    },
    {
      "cell_type": "markdown",
      "metadata": {
        "id": "5m8t38D0xN0K"
      },
      "source": [
        "Model yang akan kita buat:\n",
        "\n",
        "y = ax1 + bx2 + cx3 + dx4 + ex5 + fx6 + g, dengan\n",
        "\n",
        "y = score\n",
        "\n",
        "x1 = GDP\n",
        "\n",
        "x2 = social_support\n",
        "\n",
        "x3 = healthy\n",
        "\n",
        "x4 = freedom\n",
        "\n",
        "x5 = generosity\n",
        "\n",
        "x6 = POC\n",
        "\n",
        "a, b, c, d, e, f = koefisien variabel dari variabel independen\n",
        "\n",
        "g = intercept"
      ]
    },
    {
      "cell_type": "code",
      "metadata": {
        "id": "PJUMgobrwFH3",
        "outputId": "61bbf38d-0c85-4225-e319-972dd8ece066",
        "colab": {
          "base_uri": "https://localhost:8080/"
        }
      },
      "source": [
        "# Membuat variabel dependen dan independen\n",
        "x = df.drop(columns=['score', 'country'])\n",
        "y = df['score']\n",
        "\n",
        "# Split data menjadi train dan test\n",
        "x_train, x_test, y_train, y_test = train_test_split(x, y, test_size=0.2, random_state=4)\n",
        "\n",
        "# Membuat model\n",
        "linreg = LinearRegression()\n",
        "\n",
        "# Train model yang sudah kita buat\n",
        "linreg.fit(x_train, y_train)\n",
        "\n",
        "# Menentukan koefisien masing-masing variabel independen dan juga intercept\n",
        "print(linreg.coef_)\n",
        "print(linreg.intercept_)"
      ],
      "execution_count": 112,
      "outputs": [
        {
          "output_type": "stream",
          "text": [
            "[0.78142355 1.23215094 0.99457128 1.06803218 0.85070043 1.05100088]\n",
            "1.7433922570762408\n"
          ],
          "name": "stdout"
        }
      ]
    },
    {
      "cell_type": "markdown",
      "metadata": {
        "id": "i86usSsU09OP"
      },
      "source": [
        "Berdasarkan hasil multiple linear regression kita peroleh persamaan:\n",
        "\n",
        "y = 0.78142355x1 + 1.23215094x2 + 0.99457128x3 + 1.06803218x4 + 0.85070043x5 + 1.05100088x6 + 1.7433922570762408"
      ]
    },
    {
      "cell_type": "code",
      "metadata": {
        "id": "Qx3BdUTC1pXG",
        "outputId": "88011d37-70c7-4315-9f11-baf78e83e2a6",
        "colab": {
          "base_uri": "https://localhost:8080/"
        }
      },
      "source": [
        "# Menentukan akurasi skor dari model yang telah dibuat\n",
        "linreg.score(x_test, y_test)"
      ],
      "execution_count": 114,
      "outputs": [
        {
          "output_type": "execute_result",
          "data": {
            "text/plain": [
              "0.7268007752619288"
            ]
          },
          "metadata": {
            "tags": []
          },
          "execution_count": 114
        }
      ]
    },
    {
      "cell_type": "markdown",
      "metadata": {
        "id": "Dij324yb14Co"
      },
      "source": [
        "Model kita memiliki score 72%"
      ]
    },
    {
      "cell_type": "code",
      "metadata": {
        "id": "mIuMV_wZ2C_U",
        "outputId": "746c1451-f1a7-4669-f3eb-5589261e3ebb",
        "colab": {
          "base_uri": "https://localhost:8080/"
        }
      },
      "source": [
        "# Mencoba memprediksi tingkat kebahagiaan\n",
        "linreg.predict([[1.25, 1.25, 1, 0.8, 0.1, 0.3]])"
      ],
      "execution_count": 118,
      "outputs": [
        {
          "output_type": "execute_result",
          "data": {
            "text/plain": [
              "array([6.5097277])"
            ]
          },
          "metadata": {
            "tags": []
          },
          "execution_count": 118
        }
      ]
    },
    {
      "cell_type": "markdown",
      "metadata": {
        "id": "Fgav4IRw2-gC"
      },
      "source": [
        "Dari hasil prediksi model multiple linear regression, kita memperoleh prediksi tingkat kebahagiaan sebesar 6.5."
      ]
    }
  ]
}
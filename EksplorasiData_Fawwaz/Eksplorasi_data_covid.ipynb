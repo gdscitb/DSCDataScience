{
  "nbformat": 4,
  "nbformat_minor": 0,
  "metadata": {
    "colab": {
      "name": "Eksplorasi_data_covid.ipynb",
      "provenance": [],
      "toc_visible": true
    },
    "kernelspec": {
      "name": "python3",
      "display_name": "Python 3"
    }
  },
  "cells": [
    {
      "cell_type": "code",
      "metadata": {
        "id": "ItJ4dXsfSuXJ"
      },
      "source": [
        "#Nama:Fawwaz Anugrah Wiradhika Dharmasatya\n",
        "#NIM:16520059\n",
        "#Universitas:Institut Teknologi Bandung(ITB)\n",
        "#Tanggal mulai:15 November 2020\n",
        "#Sumber dataset:respons_covid.csv"
      ],
      "execution_count": null,
      "outputs": []
    },
    {
      "cell_type": "markdown",
      "metadata": {
        "id": "Gl7Mb3FdYyhT"
      },
      "source": [
        "#Problem Framing\n",
        "#Menganalisis data kegiatan dan risiko terpapar covid dan menampilkan hasil analisisnya"
      ]
    },
    {
      "cell_type": "markdown",
      "metadata": {
        "id": "_Z5rsbEuY8qF"
      },
      "source": [
        "#Data Cleaning"
      ]
    },
    {
      "cell_type": "code",
      "metadata": {
        "id": "5UppxoteZWMj"
      },
      "source": [
        "import pandas as pd\n",
        "from sklearn.neighbors import NearestNeighbors\n",
        "import pickle\n",
        "import numpy as np"
      ],
      "execution_count": 163,
      "outputs": []
    },
    {
      "cell_type": "code",
      "metadata": {
        "id": "rPbeYu7_ZYRD",
        "outputId": "7607de9d-3730-4e03-9b08-cc2edf152c02",
        "colab": {
          "base_uri": "https://localhost:8080/",
          "height": 767
        }
      },
      "source": [
        "df = pd.read_csv(\"/content/respons_covid.csv\")\n",
        "df.head()"
      ],
      "execution_count": 150,
      "outputs": [
        {
          "output_type": "execute_result",
          "data": {
            "text/html": [
              "<div>\n",
              "<style scoped>\n",
              "    .dataframe tbody tr th:only-of-type {\n",
              "        vertical-align: middle;\n",
              "    }\n",
              "\n",
              "    .dataframe tbody tr th {\n",
              "        vertical-align: top;\n",
              "    }\n",
              "\n",
              "    .dataframe thead th {\n",
              "        text-align: right;\n",
              "    }\n",
              "</style>\n",
              "<table border=\"1\" class=\"dataframe\">\n",
              "  <thead>\n",
              "    <tr style=\"text-align: right;\">\n",
              "      <th></th>\n",
              "      <th>1. Apakah anda pernah bertemu pasien positif Covid-19 (berada dalam satu ruangan yang sama/kontak dalam jarak 1 meter)?</th>\n",
              "      <th>2. Apakah Anda tinggal di zona merah?</th>\n",
              "      <th>3. Apakah Anda pernah melakukan perjalanan ke luar negri?</th>\n",
              "      <th>4. Seberapa sering Anda pergi ke luar rumah?</th>\n",
              "      <th>5. Jarak terjauh yang Anda tempuh ketika bepergian?</th>\n",
              "      <th>6. Apakah Anda berpergian kemana-mana menggunakan transportasi umum (transportasi online, angkot, bus, taksi, kereta)?</th>\n",
              "      <th>7. Apakah Anda memakai masker setiap kali bertemu dengan orang lain?</th>\n",
              "      <th>8. Jenis masker apa yang biasa Anda gunakan?</th>\n",
              "      <th>9. Apakah Anda berjabat tangan dengan orang lain?</th>\n",
              "      <th>10. Apakah Anda menyentuh benda yang juga disentuh oleh orang lain?</th>\n",
              "      <th>11. Dengan apa Anda biasa membersihkan tangan?</th>\n",
              "      <th>12. Apakah Anda segera mandi dan keramas setelah berpergian dari luar rumah?</th>\n",
              "      <th>13. Apakah Anda menjaga jarak 1,5 meter dengan orang lain ketika belanja, bekerja atau pergi ke tempat ibadah?</th>\n",
              "      <th>14. Seberapa sering Anda makan di luar rumah (warung, cafe atau restoran)?</th>\n",
              "      <th>15. Apakah Anda membeli makanan dari luar rumah untuk dibawa pulang?</th>\n",
              "      <th>16. Apakah Anda memanaskan makanan yang dibeli di luar terlebih dahulu sebelum dikonsumsi?</th>\n",
              "      <th>17. Apakah Anda membersihkan/menjemur terlebih dahulu paket yang Anda terima?</th>\n",
              "      <th>18. Apakah Anda tinggal di lingkungan padat penduduk?</th>\n",
              "      <th>19. Bagaimana kondisi tempat tinggal Anda</th>\n",
              "      <th>20. Bagaimana aktivitas Anda sehari-hari?</th>\n",
              "      <th>21. Apakah Anda terkena cahaya matahari minimal 15 menit (berjemur)?</th>\n",
              "      <th>22. Apakah Anda berjalan kaki/berolahraga minimal 30 menit setiap hari?</th>\n",
              "      <th>23. Apakah Anda mengonsumsi vitamin/suplemen penambah imun?</th>\n",
              "      <th>24. Berapa lamakah waktu tidur Anda?</th>\n",
              "      <th>25. Berapakah usia Anda?</th>\n",
              "      <th>26. Apakah ada riwayat penyakit yang Anda miliki?</th>\n",
              "    </tr>\n",
              "  </thead>\n",
              "  <tbody>\n",
              "    <tr>\n",
              "      <th>0</th>\n",
              "      <td>Tidak/Tidak Tahu</td>\n",
              "      <td>Ya</td>\n",
              "      <td>Tidak</td>\n",
              "      <td>1-3 kali dalam seminggu</td>\n",
              "      <td>Luar kota</td>\n",
              "      <td>Tidak</td>\n",
              "      <td>Ya</td>\n",
              "      <td>Masker bedah</td>\n",
              "      <td>Ya</td>\n",
              "      <td>Ya</td>\n",
              "      <td>Air mengalir + sabun</td>\n",
              "      <td>Tidak</td>\n",
              "      <td>Tidak</td>\n",
              "      <td>Kadang-kadang</td>\n",
              "      <td>Ya</td>\n",
              "      <td>Ya</td>\n",
              "      <td>Tidak</td>\n",
              "      <td>Tidak</td>\n",
              "      <td>Ruangan tertutup dengan AC</td>\n",
              "      <td>Di luar rumah dengan intensitas bertemu orang ...</td>\n",
              "      <td>Tidak</td>\n",
              "      <td>Ya</td>\n",
              "      <td>Ya</td>\n",
              "      <td>3-4 jam</td>\n",
              "      <td>19-45 tahun</td>\n",
              "      <td>Tidak ada/Selain yang di atas</td>\n",
              "    </tr>\n",
              "    <tr>\n",
              "      <th>1</th>\n",
              "      <td>Tidak/Tidak Tahu</td>\n",
              "      <td>Ya</td>\n",
              "      <td>Tidak</td>\n",
              "      <td>1-3 kali dalam seminggu</td>\n",
              "      <td>Kurang dari 500 meter</td>\n",
              "      <td>Tidak</td>\n",
              "      <td>Ya</td>\n",
              "      <td>Masker bedah</td>\n",
              "      <td>Tidak</td>\n",
              "      <td>Tidak</td>\n",
              "      <td>Air mengalir + sabun</td>\n",
              "      <td>Ya</td>\n",
              "      <td>Ya</td>\n",
              "      <td>Tidak pernah</td>\n",
              "      <td>Tidak</td>\n",
              "      <td>Tidak</td>\n",
              "      <td>Ya</td>\n",
              "      <td>Tidak</td>\n",
              "      <td>Ruangan dengan sirkulasi udara yang baik</td>\n",
              "      <td>Di dalam rumah/WFH</td>\n",
              "      <td>Ya</td>\n",
              "      <td>Tidak</td>\n",
              "      <td>Ya</td>\n",
              "      <td>7-8 jam</td>\n",
              "      <td>19-45 tahun</td>\n",
              "      <td>Tidak ada/Selain yang di atas</td>\n",
              "    </tr>\n",
              "    <tr>\n",
              "      <th>2</th>\n",
              "      <td>Ya</td>\n",
              "      <td>Ya</td>\n",
              "      <td>Tidak</td>\n",
              "      <td>Tidak pernah</td>\n",
              "      <td>Kurang dari 500 meter</td>\n",
              "      <td>Ya</td>\n",
              "      <td>Ya</td>\n",
              "      <td>Masker bedah</td>\n",
              "      <td>Tidak</td>\n",
              "      <td>Ya</td>\n",
              "      <td>Air mengalir + sabun</td>\n",
              "      <td>Ya</td>\n",
              "      <td>Ya</td>\n",
              "      <td>Kadang-kadang</td>\n",
              "      <td>Ya</td>\n",
              "      <td>Tidak</td>\n",
              "      <td>Ya</td>\n",
              "      <td>Ya</td>\n",
              "      <td>Ruangan dengan sirkulasi udara yang baik</td>\n",
              "      <td>Di dalam rumah/WFH</td>\n",
              "      <td>Ya</td>\n",
              "      <td>Tidak</td>\n",
              "      <td>Ya</td>\n",
              "      <td>5-6 jam</td>\n",
              "      <td>19-45 tahun</td>\n",
              "      <td>Tidak ada/Selain yang di atas</td>\n",
              "    </tr>\n",
              "    <tr>\n",
              "      <th>3</th>\n",
              "      <td>NaN</td>\n",
              "      <td>NaN</td>\n",
              "      <td>NaN</td>\n",
              "      <td>NaN</td>\n",
              "      <td>NaN</td>\n",
              "      <td>NaN</td>\n",
              "      <td>NaN</td>\n",
              "      <td>NaN</td>\n",
              "      <td>NaN</td>\n",
              "      <td>NaN</td>\n",
              "      <td>NaN</td>\n",
              "      <td>NaN</td>\n",
              "      <td>NaN</td>\n",
              "      <td>NaN</td>\n",
              "      <td>NaN</td>\n",
              "      <td>NaN</td>\n",
              "      <td>NaN</td>\n",
              "      <td>NaN</td>\n",
              "      <td>NaN</td>\n",
              "      <td>NaN</td>\n",
              "      <td>NaN</td>\n",
              "      <td>NaN</td>\n",
              "      <td>NaN</td>\n",
              "      <td>NaN</td>\n",
              "      <td>NaN</td>\n",
              "      <td>NaN</td>\n",
              "    </tr>\n",
              "    <tr>\n",
              "      <th>4</th>\n",
              "      <td>Tidak/Tidak Tahu</td>\n",
              "      <td>Ya</td>\n",
              "      <td>Tidak</td>\n",
              "      <td>4-6 kali dalam seminggu</td>\n",
              "      <td>Luar provinsi</td>\n",
              "      <td>Ya</td>\n",
              "      <td>Ya</td>\n",
              "      <td>Masker kain</td>\n",
              "      <td>Tidak</td>\n",
              "      <td>Ya</td>\n",
              "      <td>Hand sanitizer beralkohol minimal 70%</td>\n",
              "      <td>Ya</td>\n",
              "      <td>Ya</td>\n",
              "      <td>Kadang-kadang</td>\n",
              "      <td>Tidak</td>\n",
              "      <td>Tidak</td>\n",
              "      <td>Ya</td>\n",
              "      <td>Ya</td>\n",
              "      <td>Ruangan dengan sirkulasi udara yang baik</td>\n",
              "      <td>Di dalam rumah/WFH</td>\n",
              "      <td>Tidak</td>\n",
              "      <td>Tidak</td>\n",
              "      <td>Tidak</td>\n",
              "      <td>5-6 jam</td>\n",
              "      <td>19-45 tahun</td>\n",
              "      <td>Tidak ada/Selain yang di atas</td>\n",
              "    </tr>\n",
              "  </tbody>\n",
              "</table>\n",
              "</div>"
            ],
            "text/plain": [
              "  1. Apakah anda pernah bertemu pasien positif Covid-19 (berada dalam satu ruangan yang sama/kontak dalam jarak 1 meter)?  ... 26. Apakah ada riwayat penyakit yang Anda miliki?\n",
              "0                                   Tidak/Tidak Tahu                                                                       ...                     Tidak ada/Selain yang di atas\n",
              "1                                   Tidak/Tidak Tahu                                                                       ...                     Tidak ada/Selain yang di atas\n",
              "2                                                 Ya                                                                       ...                     Tidak ada/Selain yang di atas\n",
              "3                                                NaN                                                                       ...                                               NaN\n",
              "4                                   Tidak/Tidak Tahu                                                                       ...                     Tidak ada/Selain yang di atas\n",
              "\n",
              "[5 rows x 26 columns]"
            ]
          },
          "metadata": {
            "tags": []
          },
          "execution_count": 150
        }
      ]
    },
    {
      "cell_type": "code",
      "metadata": {
        "id": "3bezzSM5Zomr"
      },
      "source": [
        "df.columns = ['contact','red_zone','oversea','frec_go','farthest_dist','public_transport','mask','mask_type','handshake','touch','wash_hand','take_bath','social_distancing','eat_outside_frec','eat_outside','heat_first','jemur_paket','crowded_neighborhood','neighborhood_condition','daily_activity','sunbathing','sport_jogging','eat_vitamin','sleep_time','age_range','disease_track']"
      ],
      "execution_count": 151,
      "outputs": []
    },
    {
      "cell_type": "code",
      "metadata": {
        "id": "HStaLNkte1Ks"
      },
      "source": [
        "#Nama kolomnya diperpendek biar gampang"
      ],
      "execution_count": null,
      "outputs": []
    },
    {
      "cell_type": "code",
      "metadata": {
        "id": "kFoNe33ScXGs",
        "outputId": "070ad2f1-bc91-44ab-be63-a2e8ebea6b5f",
        "colab": {
          "base_uri": "https://localhost:8080/",
          "height": 401
        }
      },
      "source": [
        "df.head()"
      ],
      "execution_count": 152,
      "outputs": [
        {
          "output_type": "execute_result",
          "data": {
            "text/html": [
              "<div>\n",
              "<style scoped>\n",
              "    .dataframe tbody tr th:only-of-type {\n",
              "        vertical-align: middle;\n",
              "    }\n",
              "\n",
              "    .dataframe tbody tr th {\n",
              "        vertical-align: top;\n",
              "    }\n",
              "\n",
              "    .dataframe thead th {\n",
              "        text-align: right;\n",
              "    }\n",
              "</style>\n",
              "<table border=\"1\" class=\"dataframe\">\n",
              "  <thead>\n",
              "    <tr style=\"text-align: right;\">\n",
              "      <th></th>\n",
              "      <th>contact</th>\n",
              "      <th>red_zone</th>\n",
              "      <th>oversea</th>\n",
              "      <th>frec_go</th>\n",
              "      <th>farthest_dist</th>\n",
              "      <th>public_transport</th>\n",
              "      <th>mask</th>\n",
              "      <th>mask_type</th>\n",
              "      <th>handshake</th>\n",
              "      <th>touch</th>\n",
              "      <th>wash_hand</th>\n",
              "      <th>take_bath</th>\n",
              "      <th>social_distancing</th>\n",
              "      <th>eat_outside_frec</th>\n",
              "      <th>eat_outside</th>\n",
              "      <th>heat_first</th>\n",
              "      <th>jemur_paket</th>\n",
              "      <th>crowded_neighborhood</th>\n",
              "      <th>neighborhood_condition</th>\n",
              "      <th>daily_activity</th>\n",
              "      <th>sunbathing</th>\n",
              "      <th>sport_jogging</th>\n",
              "      <th>eat_vitamin</th>\n",
              "      <th>sleep_time</th>\n",
              "      <th>age_range</th>\n",
              "      <th>disease_track</th>\n",
              "    </tr>\n",
              "  </thead>\n",
              "  <tbody>\n",
              "    <tr>\n",
              "      <th>0</th>\n",
              "      <td>Tidak/Tidak Tahu</td>\n",
              "      <td>Ya</td>\n",
              "      <td>Tidak</td>\n",
              "      <td>1-3 kali dalam seminggu</td>\n",
              "      <td>Luar kota</td>\n",
              "      <td>Tidak</td>\n",
              "      <td>Ya</td>\n",
              "      <td>Masker bedah</td>\n",
              "      <td>Ya</td>\n",
              "      <td>Ya</td>\n",
              "      <td>Air mengalir + sabun</td>\n",
              "      <td>Tidak</td>\n",
              "      <td>Tidak</td>\n",
              "      <td>Kadang-kadang</td>\n",
              "      <td>Ya</td>\n",
              "      <td>Ya</td>\n",
              "      <td>Tidak</td>\n",
              "      <td>Tidak</td>\n",
              "      <td>Ruangan tertutup dengan AC</td>\n",
              "      <td>Di luar rumah dengan intensitas bertemu orang ...</td>\n",
              "      <td>Tidak</td>\n",
              "      <td>Ya</td>\n",
              "      <td>Ya</td>\n",
              "      <td>3-4 jam</td>\n",
              "      <td>19-45 tahun</td>\n",
              "      <td>Tidak ada/Selain yang di atas</td>\n",
              "    </tr>\n",
              "    <tr>\n",
              "      <th>1</th>\n",
              "      <td>Tidak/Tidak Tahu</td>\n",
              "      <td>Ya</td>\n",
              "      <td>Tidak</td>\n",
              "      <td>1-3 kali dalam seminggu</td>\n",
              "      <td>Kurang dari 500 meter</td>\n",
              "      <td>Tidak</td>\n",
              "      <td>Ya</td>\n",
              "      <td>Masker bedah</td>\n",
              "      <td>Tidak</td>\n",
              "      <td>Tidak</td>\n",
              "      <td>Air mengalir + sabun</td>\n",
              "      <td>Ya</td>\n",
              "      <td>Ya</td>\n",
              "      <td>Tidak pernah</td>\n",
              "      <td>Tidak</td>\n",
              "      <td>Tidak</td>\n",
              "      <td>Ya</td>\n",
              "      <td>Tidak</td>\n",
              "      <td>Ruangan dengan sirkulasi udara yang baik</td>\n",
              "      <td>Di dalam rumah/WFH</td>\n",
              "      <td>Ya</td>\n",
              "      <td>Tidak</td>\n",
              "      <td>Ya</td>\n",
              "      <td>7-8 jam</td>\n",
              "      <td>19-45 tahun</td>\n",
              "      <td>Tidak ada/Selain yang di atas</td>\n",
              "    </tr>\n",
              "    <tr>\n",
              "      <th>2</th>\n",
              "      <td>Ya</td>\n",
              "      <td>Ya</td>\n",
              "      <td>Tidak</td>\n",
              "      <td>Tidak pernah</td>\n",
              "      <td>Kurang dari 500 meter</td>\n",
              "      <td>Ya</td>\n",
              "      <td>Ya</td>\n",
              "      <td>Masker bedah</td>\n",
              "      <td>Tidak</td>\n",
              "      <td>Ya</td>\n",
              "      <td>Air mengalir + sabun</td>\n",
              "      <td>Ya</td>\n",
              "      <td>Ya</td>\n",
              "      <td>Kadang-kadang</td>\n",
              "      <td>Ya</td>\n",
              "      <td>Tidak</td>\n",
              "      <td>Ya</td>\n",
              "      <td>Ya</td>\n",
              "      <td>Ruangan dengan sirkulasi udara yang baik</td>\n",
              "      <td>Di dalam rumah/WFH</td>\n",
              "      <td>Ya</td>\n",
              "      <td>Tidak</td>\n",
              "      <td>Ya</td>\n",
              "      <td>5-6 jam</td>\n",
              "      <td>19-45 tahun</td>\n",
              "      <td>Tidak ada/Selain yang di atas</td>\n",
              "    </tr>\n",
              "    <tr>\n",
              "      <th>3</th>\n",
              "      <td>NaN</td>\n",
              "      <td>NaN</td>\n",
              "      <td>NaN</td>\n",
              "      <td>NaN</td>\n",
              "      <td>NaN</td>\n",
              "      <td>NaN</td>\n",
              "      <td>NaN</td>\n",
              "      <td>NaN</td>\n",
              "      <td>NaN</td>\n",
              "      <td>NaN</td>\n",
              "      <td>NaN</td>\n",
              "      <td>NaN</td>\n",
              "      <td>NaN</td>\n",
              "      <td>NaN</td>\n",
              "      <td>NaN</td>\n",
              "      <td>NaN</td>\n",
              "      <td>NaN</td>\n",
              "      <td>NaN</td>\n",
              "      <td>NaN</td>\n",
              "      <td>NaN</td>\n",
              "      <td>NaN</td>\n",
              "      <td>NaN</td>\n",
              "      <td>NaN</td>\n",
              "      <td>NaN</td>\n",
              "      <td>NaN</td>\n",
              "      <td>NaN</td>\n",
              "    </tr>\n",
              "    <tr>\n",
              "      <th>4</th>\n",
              "      <td>Tidak/Tidak Tahu</td>\n",
              "      <td>Ya</td>\n",
              "      <td>Tidak</td>\n",
              "      <td>4-6 kali dalam seminggu</td>\n",
              "      <td>Luar provinsi</td>\n",
              "      <td>Ya</td>\n",
              "      <td>Ya</td>\n",
              "      <td>Masker kain</td>\n",
              "      <td>Tidak</td>\n",
              "      <td>Ya</td>\n",
              "      <td>Hand sanitizer beralkohol minimal 70%</td>\n",
              "      <td>Ya</td>\n",
              "      <td>Ya</td>\n",
              "      <td>Kadang-kadang</td>\n",
              "      <td>Tidak</td>\n",
              "      <td>Tidak</td>\n",
              "      <td>Ya</td>\n",
              "      <td>Ya</td>\n",
              "      <td>Ruangan dengan sirkulasi udara yang baik</td>\n",
              "      <td>Di dalam rumah/WFH</td>\n",
              "      <td>Tidak</td>\n",
              "      <td>Tidak</td>\n",
              "      <td>Tidak</td>\n",
              "      <td>5-6 jam</td>\n",
              "      <td>19-45 tahun</td>\n",
              "      <td>Tidak ada/Selain yang di atas</td>\n",
              "    </tr>\n",
              "  </tbody>\n",
              "</table>\n",
              "</div>"
            ],
            "text/plain": [
              "            contact red_zone  ...    age_range                  disease_track\n",
              "0  Tidak/Tidak Tahu       Ya  ...  19-45 tahun  Tidak ada/Selain yang di atas\n",
              "1  Tidak/Tidak Tahu       Ya  ...  19-45 tahun  Tidak ada/Selain yang di atas\n",
              "2                Ya       Ya  ...  19-45 tahun  Tidak ada/Selain yang di atas\n",
              "3               NaN      NaN  ...          NaN                            NaN\n",
              "4  Tidak/Tidak Tahu       Ya  ...  19-45 tahun  Tidak ada/Selain yang di atas\n",
              "\n",
              "[5 rows x 26 columns]"
            ]
          },
          "metadata": {
            "tags": []
          },
          "execution_count": 152
        }
      ]
    },
    {
      "cell_type": "markdown",
      "metadata": {
        "id": "jTvQE9ome9sh"
      },
      "source": [
        "#Data Preprocessing"
      ]
    },
    {
      "cell_type": "code",
      "metadata": {
        "id": "UHiiASlTe-05"
      },
      "source": [
        "#Konversi string jadi angka biar gampang"
      ],
      "execution_count": 153,
      "outputs": []
    },
    {
      "cell_type": "code",
      "metadata": {
        "id": "PzmlD0cPfGr6"
      },
      "source": [
        "df['contact']= df['contact'].apply(lambda x:1 if x=='Ya' else 0)\n",
        "df['red_zone']= df['red_zone'].apply(lambda x:1 if x=='Ya' else 0)\n",
        "df['oversea']= df['oversea'].apply(lambda x:1 if x=='Ya' else 0)\n",
        "df['frec_go']= df['frec_go'].apply(lambda x:4 if x=='Setiap hari' else (3 if x=='4-6 kali dalam seminggu' else (2 if x=='1-3 kali dalam seminggu' else (1 if x=='Kurang dari seminggu sekali' else 0))))\n",
        "df['farthest_dist']= df['farthest_dist'].apply(lambda x:4 if x=='Luar negri' else (3 if x=='Luar pulau' else (2 if x=='Luar provinsi' else (1 if x=='Luar kota' else 0))))\n",
        "df['public_transport']= df['public_transport'].apply(lambda x:1 if x=='Ya' else 0)\n",
        "df['mask']= df['mask'].apply(lambda x:0 if x=='Ya' else 1)\n",
        "df['mask_type']= df['mask_type'].apply(lambda x:0 if x=='Masker bedah' else (1 if x=='Masker N95' else (2 if x=='Masker kain' else (3 if x=='Tidak pakai masker' else 4))))\n",
        "df['handshake']= df['handshake'].apply(lambda x:1 if x=='Ya' else 0)\n",
        "df['touch']= df['touch'].apply(lambda x:1 if x=='Ya' else 0)\n",
        "df['wash_hand']= df['wash_hand'].apply(lambda x:0 if x=='Air mengalir + sabun' else (1 if x=='Hand sanitizer beralkohol minimal 70%' else (2 if x=='Tisu basah beralkohol minimal 70%' else 3)))\n",
        "df['take_bath']= df['take_bath'].apply(lambda x:0 if x=='Ya' else 1)\n",
        "df['social_distancing']= df['social_distancing'].apply(lambda x:0 if x=='Ya' else 1)\n",
        "df['eat_outside_frec']= df['eat_outside_frec'].apply(lambda x:2 if x=='Setiap saat' else (1 if x=='Kadang-kadang' else 0))\n",
        "df['eat_outside']= df['eat_outside'].apply(lambda x:1 if x=='Ya' else 0)\n",
        "df['heat_first']= df['heat_first'].apply(lambda x:0 if x=='Ya' else 1)\n",
        "df['jemur_paket']= df['jemur_paket'].apply(lambda x:0 if x=='Ya' else 1)\n",
        "df['crowded_neighborhood']= df['crowded_neighborhood'].apply(lambda x:1 if x=='Ya' else 0)\n",
        "df['neighborhood_condition']= df['neighborhood_condition'].apply(lambda x:1 if x=='Ruangan tertutup dengan AC' else 0)\n",
        "df['daily_activity']= df['daily_activity'].apply(lambda x:2 if x=='Di luar rumah dengan intensitas bertemu orang lain yang tinggi' else (1 if x=='Di luar rumah dengan intensitas bertemu orang lain yang rendah' else 0))\n",
        "df['sunbathing']= df['sunbathing'].apply(lambda x:0 if x=='Ya' else 1)\n",
        "df['sport_jogging']= df['sport_jogging'].apply(lambda x:0 if x=='Ya' else 1)\n",
        "df['eat_vitamin']= df['eat_vitamin'].apply(lambda x:0 if x=='Ya' else 1)\n",
        "df['sleep_time']= df['sleep_time'].apply(lambda x:4 if x=='Kurang dari 3 jam' else (3 if x=='3-4 jam' else (2 if x=='5-6 jam' else (1 if x=='7-8 jam' else 0))))\n",
        "df['age_range']= df['age_range'].apply(lambda x:0 if x=='Di bawah 19 tahun' else (1 if x=='19-45 tahun' else (2 if x=='46-65 tahun' else 3)))\n",
        "df['disease_track']= df['disease_track'].apply(lambda x:5 if x=='Gangguan pernapasan kronis' else (4 if x=='Penyakit kardiovaskular ( penyakit jantung koroner, gagal jantung, stroke, dan hipertensi)' else (3 if x=='Diabetes' else (2 if x=='Kanker' else (1 if x=='Penyakit ginjal' else 0)))))"
      ],
      "execution_count": 154,
      "outputs": []
    },
    {
      "cell_type": "code",
      "metadata": {
        "id": "zZ7lr_zTfSg7",
        "outputId": "f059e87a-cfac-4098-f5da-f1d7c6be37ce",
        "colab": {
          "base_uri": "https://localhost:8080/",
          "height": 217
        }
      },
      "source": [
        "df.head()"
      ],
      "execution_count": 155,
      "outputs": [
        {
          "output_type": "execute_result",
          "data": {
            "text/html": [
              "<div>\n",
              "<style scoped>\n",
              "    .dataframe tbody tr th:only-of-type {\n",
              "        vertical-align: middle;\n",
              "    }\n",
              "\n",
              "    .dataframe tbody tr th {\n",
              "        vertical-align: top;\n",
              "    }\n",
              "\n",
              "    .dataframe thead th {\n",
              "        text-align: right;\n",
              "    }\n",
              "</style>\n",
              "<table border=\"1\" class=\"dataframe\">\n",
              "  <thead>\n",
              "    <tr style=\"text-align: right;\">\n",
              "      <th></th>\n",
              "      <th>contact</th>\n",
              "      <th>red_zone</th>\n",
              "      <th>oversea</th>\n",
              "      <th>frec_go</th>\n",
              "      <th>farthest_dist</th>\n",
              "      <th>public_transport</th>\n",
              "      <th>mask</th>\n",
              "      <th>mask_type</th>\n",
              "      <th>handshake</th>\n",
              "      <th>touch</th>\n",
              "      <th>wash_hand</th>\n",
              "      <th>take_bath</th>\n",
              "      <th>social_distancing</th>\n",
              "      <th>eat_outside_frec</th>\n",
              "      <th>eat_outside</th>\n",
              "      <th>heat_first</th>\n",
              "      <th>jemur_paket</th>\n",
              "      <th>crowded_neighborhood</th>\n",
              "      <th>neighborhood_condition</th>\n",
              "      <th>daily_activity</th>\n",
              "      <th>sunbathing</th>\n",
              "      <th>sport_jogging</th>\n",
              "      <th>eat_vitamin</th>\n",
              "      <th>sleep_time</th>\n",
              "      <th>age_range</th>\n",
              "      <th>disease_track</th>\n",
              "    </tr>\n",
              "  </thead>\n",
              "  <tbody>\n",
              "    <tr>\n",
              "      <th>0</th>\n",
              "      <td>0</td>\n",
              "      <td>1</td>\n",
              "      <td>0</td>\n",
              "      <td>2</td>\n",
              "      <td>1</td>\n",
              "      <td>0</td>\n",
              "      <td>0</td>\n",
              "      <td>0</td>\n",
              "      <td>1</td>\n",
              "      <td>1</td>\n",
              "      <td>0</td>\n",
              "      <td>1</td>\n",
              "      <td>1</td>\n",
              "      <td>1</td>\n",
              "      <td>1</td>\n",
              "      <td>0</td>\n",
              "      <td>1</td>\n",
              "      <td>0</td>\n",
              "      <td>1</td>\n",
              "      <td>1</td>\n",
              "      <td>1</td>\n",
              "      <td>0</td>\n",
              "      <td>0</td>\n",
              "      <td>3</td>\n",
              "      <td>1</td>\n",
              "      <td>0</td>\n",
              "    </tr>\n",
              "    <tr>\n",
              "      <th>1</th>\n",
              "      <td>0</td>\n",
              "      <td>1</td>\n",
              "      <td>0</td>\n",
              "      <td>2</td>\n",
              "      <td>0</td>\n",
              "      <td>0</td>\n",
              "      <td>0</td>\n",
              "      <td>0</td>\n",
              "      <td>0</td>\n",
              "      <td>0</td>\n",
              "      <td>0</td>\n",
              "      <td>0</td>\n",
              "      <td>0</td>\n",
              "      <td>0</td>\n",
              "      <td>0</td>\n",
              "      <td>1</td>\n",
              "      <td>0</td>\n",
              "      <td>0</td>\n",
              "      <td>0</td>\n",
              "      <td>0</td>\n",
              "      <td>0</td>\n",
              "      <td>1</td>\n",
              "      <td>0</td>\n",
              "      <td>1</td>\n",
              "      <td>1</td>\n",
              "      <td>0</td>\n",
              "    </tr>\n",
              "    <tr>\n",
              "      <th>2</th>\n",
              "      <td>1</td>\n",
              "      <td>1</td>\n",
              "      <td>0</td>\n",
              "      <td>0</td>\n",
              "      <td>0</td>\n",
              "      <td>1</td>\n",
              "      <td>0</td>\n",
              "      <td>0</td>\n",
              "      <td>0</td>\n",
              "      <td>1</td>\n",
              "      <td>0</td>\n",
              "      <td>0</td>\n",
              "      <td>0</td>\n",
              "      <td>1</td>\n",
              "      <td>1</td>\n",
              "      <td>1</td>\n",
              "      <td>0</td>\n",
              "      <td>1</td>\n",
              "      <td>0</td>\n",
              "      <td>0</td>\n",
              "      <td>0</td>\n",
              "      <td>1</td>\n",
              "      <td>0</td>\n",
              "      <td>2</td>\n",
              "      <td>1</td>\n",
              "      <td>0</td>\n",
              "    </tr>\n",
              "    <tr>\n",
              "      <th>3</th>\n",
              "      <td>0</td>\n",
              "      <td>0</td>\n",
              "      <td>0</td>\n",
              "      <td>0</td>\n",
              "      <td>0</td>\n",
              "      <td>0</td>\n",
              "      <td>1</td>\n",
              "      <td>4</td>\n",
              "      <td>0</td>\n",
              "      <td>0</td>\n",
              "      <td>3</td>\n",
              "      <td>1</td>\n",
              "      <td>1</td>\n",
              "      <td>0</td>\n",
              "      <td>0</td>\n",
              "      <td>1</td>\n",
              "      <td>1</td>\n",
              "      <td>0</td>\n",
              "      <td>0</td>\n",
              "      <td>0</td>\n",
              "      <td>1</td>\n",
              "      <td>1</td>\n",
              "      <td>1</td>\n",
              "      <td>0</td>\n",
              "      <td>3</td>\n",
              "      <td>0</td>\n",
              "    </tr>\n",
              "    <tr>\n",
              "      <th>4</th>\n",
              "      <td>0</td>\n",
              "      <td>1</td>\n",
              "      <td>0</td>\n",
              "      <td>3</td>\n",
              "      <td>2</td>\n",
              "      <td>1</td>\n",
              "      <td>0</td>\n",
              "      <td>2</td>\n",
              "      <td>0</td>\n",
              "      <td>1</td>\n",
              "      <td>1</td>\n",
              "      <td>0</td>\n",
              "      <td>0</td>\n",
              "      <td>1</td>\n",
              "      <td>0</td>\n",
              "      <td>1</td>\n",
              "      <td>0</td>\n",
              "      <td>1</td>\n",
              "      <td>0</td>\n",
              "      <td>0</td>\n",
              "      <td>1</td>\n",
              "      <td>1</td>\n",
              "      <td>1</td>\n",
              "      <td>2</td>\n",
              "      <td>1</td>\n",
              "      <td>0</td>\n",
              "    </tr>\n",
              "  </tbody>\n",
              "</table>\n",
              "</div>"
            ],
            "text/plain": [
              "   contact  red_zone  oversea  ...  sleep_time  age_range  disease_track\n",
              "0        0         1        0  ...           3          1              0\n",
              "1        0         1        0  ...           1          1              0\n",
              "2        1         1        0  ...           2          1              0\n",
              "3        0         0        0  ...           0          3              0\n",
              "4        0         1        0  ...           2          1              0\n",
              "\n",
              "[5 rows x 26 columns]"
            ]
          },
          "metadata": {
            "tags": []
          },
          "execution_count": 155
        }
      ]
    },
    {
      "cell_type": "markdown",
      "metadata": {
        "id": "qWbqcT8b1XCJ"
      },
      "source": [
        "#Model Development"
      ]
    },
    {
      "cell_type": "code",
      "metadata": {
        "id": "iC178cjx1Yk3"
      },
      "source": [
        "df['sum'] = df.sum(axis=1) #Membuat kolom untuk menghitung jumlah nilai tiap orang"
      ],
      "execution_count": 156,
      "outputs": []
    },
    {
      "cell_type": "code",
      "metadata": {
        "id": "395EgX6i2w8j",
        "outputId": "a90801bc-1cf0-426b-a31f-5b7a4b78311b",
        "colab": {
          "base_uri": "https://localhost:8080/",
          "height": 217
        }
      },
      "source": [
        "df.head()"
      ],
      "execution_count": 157,
      "outputs": [
        {
          "output_type": "execute_result",
          "data": {
            "text/html": [
              "<div>\n",
              "<style scoped>\n",
              "    .dataframe tbody tr th:only-of-type {\n",
              "        vertical-align: middle;\n",
              "    }\n",
              "\n",
              "    .dataframe tbody tr th {\n",
              "        vertical-align: top;\n",
              "    }\n",
              "\n",
              "    .dataframe thead th {\n",
              "        text-align: right;\n",
              "    }\n",
              "</style>\n",
              "<table border=\"1\" class=\"dataframe\">\n",
              "  <thead>\n",
              "    <tr style=\"text-align: right;\">\n",
              "      <th></th>\n",
              "      <th>contact</th>\n",
              "      <th>red_zone</th>\n",
              "      <th>oversea</th>\n",
              "      <th>frec_go</th>\n",
              "      <th>farthest_dist</th>\n",
              "      <th>public_transport</th>\n",
              "      <th>mask</th>\n",
              "      <th>mask_type</th>\n",
              "      <th>handshake</th>\n",
              "      <th>touch</th>\n",
              "      <th>wash_hand</th>\n",
              "      <th>take_bath</th>\n",
              "      <th>social_distancing</th>\n",
              "      <th>eat_outside_frec</th>\n",
              "      <th>eat_outside</th>\n",
              "      <th>heat_first</th>\n",
              "      <th>jemur_paket</th>\n",
              "      <th>crowded_neighborhood</th>\n",
              "      <th>neighborhood_condition</th>\n",
              "      <th>daily_activity</th>\n",
              "      <th>sunbathing</th>\n",
              "      <th>sport_jogging</th>\n",
              "      <th>eat_vitamin</th>\n",
              "      <th>sleep_time</th>\n",
              "      <th>age_range</th>\n",
              "      <th>disease_track</th>\n",
              "      <th>sum</th>\n",
              "    </tr>\n",
              "  </thead>\n",
              "  <tbody>\n",
              "    <tr>\n",
              "      <th>0</th>\n",
              "      <td>0</td>\n",
              "      <td>1</td>\n",
              "      <td>0</td>\n",
              "      <td>2</td>\n",
              "      <td>1</td>\n",
              "      <td>0</td>\n",
              "      <td>0</td>\n",
              "      <td>0</td>\n",
              "      <td>1</td>\n",
              "      <td>1</td>\n",
              "      <td>0</td>\n",
              "      <td>1</td>\n",
              "      <td>1</td>\n",
              "      <td>1</td>\n",
              "      <td>1</td>\n",
              "      <td>0</td>\n",
              "      <td>1</td>\n",
              "      <td>0</td>\n",
              "      <td>1</td>\n",
              "      <td>1</td>\n",
              "      <td>1</td>\n",
              "      <td>0</td>\n",
              "      <td>0</td>\n",
              "      <td>3</td>\n",
              "      <td>1</td>\n",
              "      <td>0</td>\n",
              "      <td>18</td>\n",
              "    </tr>\n",
              "    <tr>\n",
              "      <th>1</th>\n",
              "      <td>0</td>\n",
              "      <td>1</td>\n",
              "      <td>0</td>\n",
              "      <td>2</td>\n",
              "      <td>0</td>\n",
              "      <td>0</td>\n",
              "      <td>0</td>\n",
              "      <td>0</td>\n",
              "      <td>0</td>\n",
              "      <td>0</td>\n",
              "      <td>0</td>\n",
              "      <td>0</td>\n",
              "      <td>0</td>\n",
              "      <td>0</td>\n",
              "      <td>0</td>\n",
              "      <td>1</td>\n",
              "      <td>0</td>\n",
              "      <td>0</td>\n",
              "      <td>0</td>\n",
              "      <td>0</td>\n",
              "      <td>0</td>\n",
              "      <td>1</td>\n",
              "      <td>0</td>\n",
              "      <td>1</td>\n",
              "      <td>1</td>\n",
              "      <td>0</td>\n",
              "      <td>7</td>\n",
              "    </tr>\n",
              "    <tr>\n",
              "      <th>2</th>\n",
              "      <td>1</td>\n",
              "      <td>1</td>\n",
              "      <td>0</td>\n",
              "      <td>0</td>\n",
              "      <td>0</td>\n",
              "      <td>1</td>\n",
              "      <td>0</td>\n",
              "      <td>0</td>\n",
              "      <td>0</td>\n",
              "      <td>1</td>\n",
              "      <td>0</td>\n",
              "      <td>0</td>\n",
              "      <td>0</td>\n",
              "      <td>1</td>\n",
              "      <td>1</td>\n",
              "      <td>1</td>\n",
              "      <td>0</td>\n",
              "      <td>1</td>\n",
              "      <td>0</td>\n",
              "      <td>0</td>\n",
              "      <td>0</td>\n",
              "      <td>1</td>\n",
              "      <td>0</td>\n",
              "      <td>2</td>\n",
              "      <td>1</td>\n",
              "      <td>0</td>\n",
              "      <td>12</td>\n",
              "    </tr>\n",
              "    <tr>\n",
              "      <th>3</th>\n",
              "      <td>0</td>\n",
              "      <td>0</td>\n",
              "      <td>0</td>\n",
              "      <td>0</td>\n",
              "      <td>0</td>\n",
              "      <td>0</td>\n",
              "      <td>1</td>\n",
              "      <td>4</td>\n",
              "      <td>0</td>\n",
              "      <td>0</td>\n",
              "      <td>3</td>\n",
              "      <td>1</td>\n",
              "      <td>1</td>\n",
              "      <td>0</td>\n",
              "      <td>0</td>\n",
              "      <td>1</td>\n",
              "      <td>1</td>\n",
              "      <td>0</td>\n",
              "      <td>0</td>\n",
              "      <td>0</td>\n",
              "      <td>1</td>\n",
              "      <td>1</td>\n",
              "      <td>1</td>\n",
              "      <td>0</td>\n",
              "      <td>3</td>\n",
              "      <td>0</td>\n",
              "      <td>18</td>\n",
              "    </tr>\n",
              "    <tr>\n",
              "      <th>4</th>\n",
              "      <td>0</td>\n",
              "      <td>1</td>\n",
              "      <td>0</td>\n",
              "      <td>3</td>\n",
              "      <td>2</td>\n",
              "      <td>1</td>\n",
              "      <td>0</td>\n",
              "      <td>2</td>\n",
              "      <td>0</td>\n",
              "      <td>1</td>\n",
              "      <td>1</td>\n",
              "      <td>0</td>\n",
              "      <td>0</td>\n",
              "      <td>1</td>\n",
              "      <td>0</td>\n",
              "      <td>1</td>\n",
              "      <td>0</td>\n",
              "      <td>1</td>\n",
              "      <td>0</td>\n",
              "      <td>0</td>\n",
              "      <td>1</td>\n",
              "      <td>1</td>\n",
              "      <td>1</td>\n",
              "      <td>2</td>\n",
              "      <td>1</td>\n",
              "      <td>0</td>\n",
              "      <td>20</td>\n",
              "    </tr>\n",
              "  </tbody>\n",
              "</table>\n",
              "</div>"
            ],
            "text/plain": [
              "   contact  red_zone  oversea  ...  age_range  disease_track  sum\n",
              "0        0         1        0  ...          1              0   18\n",
              "1        0         1        0  ...          1              0    7\n",
              "2        1         1        0  ...          1              0   12\n",
              "3        0         0        0  ...          3              0   18\n",
              "4        0         1        0  ...          1              0   20\n",
              "\n",
              "[5 rows x 27 columns]"
            ]
          },
          "metadata": {
            "tags": []
          },
          "execution_count": 157
        }
      ]
    },
    {
      "cell_type": "code",
      "metadata": {
        "id": "Yf0zVAKz3lVG"
      },
      "source": [
        "#Nilai skor maksnya 48\n",
        "#0-15 Risiko rendah\n",
        "#16-31 Risiko sedang\n",
        "#32-48 Risiko tinggi"
      ],
      "execution_count": null,
      "outputs": []
    },
    {
      "cell_type": "code",
      "metadata": {
        "id": "POaK2co73xut"
      },
      "source": [
        "conditions = [\n",
        "    (df['sum'] >=0) & (df['sum'] <16),\n",
        "    (df['sum'] >=16) & (df['sum'] <32),\n",
        "    (df['sum'] >=32)]\n",
        "risiko = ['Rendah', 'Sedang', 'Tinggi']\n",
        "df['risk'] = np.select(conditions, risiko)"
      ],
      "execution_count": 164,
      "outputs": []
    },
    {
      "cell_type": "code",
      "metadata": {
        "id": "M3XaxGDN4uCQ",
        "outputId": "5c28f743-9c8f-4341-ffe7-ee2f4dd1dd93",
        "colab": {
          "base_uri": "https://localhost:8080/",
          "height": 217
        }
      },
      "source": [
        "df.head()"
      ],
      "execution_count": 165,
      "outputs": [
        {
          "output_type": "execute_result",
          "data": {
            "text/html": [
              "<div>\n",
              "<style scoped>\n",
              "    .dataframe tbody tr th:only-of-type {\n",
              "        vertical-align: middle;\n",
              "    }\n",
              "\n",
              "    .dataframe tbody tr th {\n",
              "        vertical-align: top;\n",
              "    }\n",
              "\n",
              "    .dataframe thead th {\n",
              "        text-align: right;\n",
              "    }\n",
              "</style>\n",
              "<table border=\"1\" class=\"dataframe\">\n",
              "  <thead>\n",
              "    <tr style=\"text-align: right;\">\n",
              "      <th></th>\n",
              "      <th>contact</th>\n",
              "      <th>red_zone</th>\n",
              "      <th>oversea</th>\n",
              "      <th>frec_go</th>\n",
              "      <th>farthest_dist</th>\n",
              "      <th>public_transport</th>\n",
              "      <th>mask</th>\n",
              "      <th>mask_type</th>\n",
              "      <th>handshake</th>\n",
              "      <th>touch</th>\n",
              "      <th>wash_hand</th>\n",
              "      <th>take_bath</th>\n",
              "      <th>social_distancing</th>\n",
              "      <th>eat_outside_frec</th>\n",
              "      <th>eat_outside</th>\n",
              "      <th>heat_first</th>\n",
              "      <th>jemur_paket</th>\n",
              "      <th>crowded_neighborhood</th>\n",
              "      <th>neighborhood_condition</th>\n",
              "      <th>daily_activity</th>\n",
              "      <th>sunbathing</th>\n",
              "      <th>sport_jogging</th>\n",
              "      <th>eat_vitamin</th>\n",
              "      <th>sleep_time</th>\n",
              "      <th>age_range</th>\n",
              "      <th>disease_track</th>\n",
              "      <th>sum</th>\n",
              "      <th>risk</th>\n",
              "    </tr>\n",
              "  </thead>\n",
              "  <tbody>\n",
              "    <tr>\n",
              "      <th>0</th>\n",
              "      <td>0</td>\n",
              "      <td>1</td>\n",
              "      <td>0</td>\n",
              "      <td>2</td>\n",
              "      <td>1</td>\n",
              "      <td>0</td>\n",
              "      <td>0</td>\n",
              "      <td>0</td>\n",
              "      <td>1</td>\n",
              "      <td>1</td>\n",
              "      <td>0</td>\n",
              "      <td>1</td>\n",
              "      <td>1</td>\n",
              "      <td>1</td>\n",
              "      <td>1</td>\n",
              "      <td>0</td>\n",
              "      <td>1</td>\n",
              "      <td>0</td>\n",
              "      <td>1</td>\n",
              "      <td>1</td>\n",
              "      <td>1</td>\n",
              "      <td>0</td>\n",
              "      <td>0</td>\n",
              "      <td>3</td>\n",
              "      <td>1</td>\n",
              "      <td>0</td>\n",
              "      <td>18</td>\n",
              "      <td>Sedang</td>\n",
              "    </tr>\n",
              "    <tr>\n",
              "      <th>1</th>\n",
              "      <td>0</td>\n",
              "      <td>1</td>\n",
              "      <td>0</td>\n",
              "      <td>2</td>\n",
              "      <td>0</td>\n",
              "      <td>0</td>\n",
              "      <td>0</td>\n",
              "      <td>0</td>\n",
              "      <td>0</td>\n",
              "      <td>0</td>\n",
              "      <td>0</td>\n",
              "      <td>0</td>\n",
              "      <td>0</td>\n",
              "      <td>0</td>\n",
              "      <td>0</td>\n",
              "      <td>1</td>\n",
              "      <td>0</td>\n",
              "      <td>0</td>\n",
              "      <td>0</td>\n",
              "      <td>0</td>\n",
              "      <td>0</td>\n",
              "      <td>1</td>\n",
              "      <td>0</td>\n",
              "      <td>1</td>\n",
              "      <td>1</td>\n",
              "      <td>0</td>\n",
              "      <td>7</td>\n",
              "      <td>Rendah</td>\n",
              "    </tr>\n",
              "    <tr>\n",
              "      <th>2</th>\n",
              "      <td>1</td>\n",
              "      <td>1</td>\n",
              "      <td>0</td>\n",
              "      <td>0</td>\n",
              "      <td>0</td>\n",
              "      <td>1</td>\n",
              "      <td>0</td>\n",
              "      <td>0</td>\n",
              "      <td>0</td>\n",
              "      <td>1</td>\n",
              "      <td>0</td>\n",
              "      <td>0</td>\n",
              "      <td>0</td>\n",
              "      <td>1</td>\n",
              "      <td>1</td>\n",
              "      <td>1</td>\n",
              "      <td>0</td>\n",
              "      <td>1</td>\n",
              "      <td>0</td>\n",
              "      <td>0</td>\n",
              "      <td>0</td>\n",
              "      <td>1</td>\n",
              "      <td>0</td>\n",
              "      <td>2</td>\n",
              "      <td>1</td>\n",
              "      <td>0</td>\n",
              "      <td>12</td>\n",
              "      <td>Rendah</td>\n",
              "    </tr>\n",
              "    <tr>\n",
              "      <th>3</th>\n",
              "      <td>0</td>\n",
              "      <td>0</td>\n",
              "      <td>0</td>\n",
              "      <td>0</td>\n",
              "      <td>0</td>\n",
              "      <td>0</td>\n",
              "      <td>1</td>\n",
              "      <td>4</td>\n",
              "      <td>0</td>\n",
              "      <td>0</td>\n",
              "      <td>3</td>\n",
              "      <td>1</td>\n",
              "      <td>1</td>\n",
              "      <td>0</td>\n",
              "      <td>0</td>\n",
              "      <td>1</td>\n",
              "      <td>1</td>\n",
              "      <td>0</td>\n",
              "      <td>0</td>\n",
              "      <td>0</td>\n",
              "      <td>1</td>\n",
              "      <td>1</td>\n",
              "      <td>1</td>\n",
              "      <td>0</td>\n",
              "      <td>3</td>\n",
              "      <td>0</td>\n",
              "      <td>18</td>\n",
              "      <td>Sedang</td>\n",
              "    </tr>\n",
              "    <tr>\n",
              "      <th>4</th>\n",
              "      <td>0</td>\n",
              "      <td>1</td>\n",
              "      <td>0</td>\n",
              "      <td>3</td>\n",
              "      <td>2</td>\n",
              "      <td>1</td>\n",
              "      <td>0</td>\n",
              "      <td>2</td>\n",
              "      <td>0</td>\n",
              "      <td>1</td>\n",
              "      <td>1</td>\n",
              "      <td>0</td>\n",
              "      <td>0</td>\n",
              "      <td>1</td>\n",
              "      <td>0</td>\n",
              "      <td>1</td>\n",
              "      <td>0</td>\n",
              "      <td>1</td>\n",
              "      <td>0</td>\n",
              "      <td>0</td>\n",
              "      <td>1</td>\n",
              "      <td>1</td>\n",
              "      <td>1</td>\n",
              "      <td>2</td>\n",
              "      <td>1</td>\n",
              "      <td>0</td>\n",
              "      <td>20</td>\n",
              "      <td>Sedang</td>\n",
              "    </tr>\n",
              "  </tbody>\n",
              "</table>\n",
              "</div>"
            ],
            "text/plain": [
              "   contact  red_zone  oversea  frec_go  ...  age_range  disease_track  sum    risk\n",
              "0        0         1        0        2  ...          1              0   18  Sedang\n",
              "1        0         1        0        2  ...          1              0    7  Rendah\n",
              "2        1         1        0        0  ...          1              0   12  Rendah\n",
              "3        0         0        0        0  ...          3              0   18  Sedang\n",
              "4        0         1        0        3  ...          1              0   20  Sedang\n",
              "\n",
              "[5 rows x 28 columns]"
            ]
          },
          "metadata": {
            "tags": []
          },
          "execution_count": 165
        }
      ]
    },
    {
      "cell_type": "markdown",
      "metadata": {
        "id": "NNJcbiWL9-Xt"
      },
      "source": [
        "#Presentation"
      ]
    },
    {
      "cell_type": "code",
      "metadata": {
        "id": "eGVMc--D9__8"
      },
      "source": [
        "#Mencari orang dengan risiko terendah"
      ],
      "execution_count": null,
      "outputs": []
    },
    {
      "cell_type": "code",
      "metadata": {
        "id": "xoSsnFTU-KSs",
        "outputId": "7c0da27b-a0c9-449c-b4ee-8ed7307f0e18",
        "colab": {
          "base_uri": "https://localhost:8080/"
        }
      },
      "source": [
        "df['sum'].idxmin()"
      ],
      "execution_count": 166,
      "outputs": [
        {
          "output_type": "execute_result",
          "data": {
            "text/plain": [
              "1"
            ]
          },
          "metadata": {
            "tags": []
          },
          "execution_count": 166
        }
      ]
    },
    {
      "cell_type": "code",
      "metadata": {
        "id": "n6Zf16gi-RPl",
        "outputId": "77a08054-a829-4f7f-e040-cb9b64618b19",
        "colab": {
          "base_uri": "https://localhost:8080/"
        }
      },
      "source": [
        "print(df['sum'][1])"
      ],
      "execution_count": 168,
      "outputs": [
        {
          "output_type": "stream",
          "text": [
            "7\n"
          ],
          "name": "stdout"
        }
      ]
    },
    {
      "cell_type": "code",
      "metadata": {
        "id": "hZ76kS-l-bvL"
      },
      "source": [
        "#Nilai risiko terkecil adalah 7 yg diperoleh orang kedua(karena indeksnya dimulai dari 0)"
      ],
      "execution_count": null,
      "outputs": []
    },
    {
      "cell_type": "code",
      "metadata": {
        "id": "ltbSbeka-3WV"
      },
      "source": [
        "#Mencari orang dengan risiko tertinggi"
      ],
      "execution_count": null,
      "outputs": []
    },
    {
      "cell_type": "code",
      "metadata": {
        "id": "wccxll3i-5lm",
        "outputId": "79650a35-deed-4291-e779-09a20f05b106",
        "colab": {
          "base_uri": "https://localhost:8080/"
        }
      },
      "source": [
        "df['sum'].idxmax()"
      ],
      "execution_count": 169,
      "outputs": [
        {
          "output_type": "execute_result",
          "data": {
            "text/plain": [
              "14"
            ]
          },
          "metadata": {
            "tags": []
          },
          "execution_count": 169
        }
      ]
    },
    {
      "cell_type": "code",
      "metadata": {
        "id": "bv885mEw_AZO",
        "outputId": "84bb7372-f708-4d61-e336-537c3ba104d9",
        "colab": {
          "base_uri": "https://localhost:8080/"
        }
      },
      "source": [
        "print(df['sum'][14])"
      ],
      "execution_count": 170,
      "outputs": [
        {
          "output_type": "stream",
          "text": [
            "25\n"
          ],
          "name": "stdout"
        }
      ]
    },
    {
      "cell_type": "code",
      "metadata": {
        "id": "IQnLHvMo_Dt0"
      },
      "source": [
        "#Nilai risiko terbesar adalah 25 yg diperoleh orang ke-15(karena indeksnya dimulai dari 0)"
      ],
      "execution_count": null,
      "outputs": []
    },
    {
      "cell_type": "code",
      "metadata": {
        "id": "IpXipSz6_MZb"
      },
      "source": [
        "#Rata-rata skor akhir"
      ],
      "execution_count": null,
      "outputs": []
    },
    {
      "cell_type": "code",
      "metadata": {
        "id": "r9ySj4Hb_N3s",
        "outputId": "8a30fb9e-1828-463d-c25d-34f296d89a66",
        "colab": {
          "base_uri": "https://localhost:8080/"
        }
      },
      "source": [
        "df['sum'].mean()"
      ],
      "execution_count": 171,
      "outputs": [
        {
          "output_type": "execute_result",
          "data": {
            "text/plain": [
              "17.38235294117647"
            ]
          },
          "metadata": {
            "tags": []
          },
          "execution_count": 171
        }
      ]
    },
    {
      "cell_type": "code",
      "metadata": {
        "id": "pfhqeprI_VbE"
      },
      "source": [
        "#Rata-rata skor respondens adalah 17.38 yang masuk risiko sedang"
      ],
      "execution_count": null,
      "outputs": []
    },
    {
      "cell_type": "code",
      "metadata": {
        "id": "GHKrqTWG_11b"
      },
      "source": [
        "#Insight baru"
      ],
      "execution_count": null,
      "outputs": []
    },
    {
      "cell_type": "code",
      "metadata": {
        "id": "1bAJ9klrAE0L"
      },
      "source": [
        "#1.Semakin tinggi nilai sum,semakin berisiko terpapar COVID-19"
      ],
      "execution_count": null,
      "outputs": []
    },
    {
      "cell_type": "code",
      "metadata": {
        "id": "VTdm1NMN_3bE"
      },
      "source": [
        "#2.Kebanyakan respondens memiliki risiko sedang terpapar Covid-19"
      ],
      "execution_count": null,
      "outputs": []
    },
    {
      "cell_type": "markdown",
      "metadata": {
        "id": "8nWOQgPKAd35"
      },
      "source": [
        "#Model Deployment"
      ]
    },
    {
      "cell_type": "code",
      "metadata": {
        "id": "8MSBpu0yAhoD"
      },
      "source": [
        "pickle.dump(df,open('/content/analisis_risiko.pickle','wb'))"
      ],
      "execution_count": 172,
      "outputs": []
    },
    {
      "cell_type": "code",
      "metadata": {
        "id": "ONlBtSpRAk6o"
      },
      "source": [
        "df.to_csv(\"/content/hasil_analisis.csv\",index=False)"
      ],
      "execution_count": 173,
      "outputs": []
    },
    {
      "cell_type": "code",
      "metadata": {
        "id": "kZ56UctNA1AM"
      },
      "source": [
        "#Hasil analisis berupa 2 kolom terakhir pada tabel di hasil_analisis.csv"
      ],
      "execution_count": null,
      "outputs": []
    }
  ]
}
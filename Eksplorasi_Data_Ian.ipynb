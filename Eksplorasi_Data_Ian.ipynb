{
  "nbformat": 4,
  "nbformat_minor": 0,
  "metadata": {
    "colab": {
      "name": "Eksplorasi_Data_Ian.ipynb",
      "provenance": []
    },
    "kernelspec": {
      "name": "python3",
      "display_name": "Python 3"
    }
  },
  "cells": [
    {
      "cell_type": "markdown",
      "metadata": {
        "id": "XIPU5sEOe0Md"
      },
      "source": [
        "Nama : Ian Sebastian\n",
        "\n",
        "NIM : 10118024\n",
        "\n",
        "Asal : Institut Teknologi Bandung\n",
        "\n",
        "Sumber Dataset : TakeMeOut\n",
        "\n",
        "Tugas Google DSC ITB Data Science -- Data Exploration\n"
      ]
    },
    {
      "cell_type": "markdown",
      "metadata": {
        "id": "ND_LvpS3m8sx"
      },
      "source": [
        "## Preliminary Actions"
      ]
    },
    {
      "cell_type": "markdown",
      "metadata": {
        "id": "WQgLv3U0fBvP"
      },
      "source": [
        "### Importing Necessary Libraries"
      ]
    },
    {
      "cell_type": "code",
      "metadata": {
        "id": "1yayxsSfcp4Z"
      },
      "source": [
        "import numpy as np\n",
        "import pandas as pd\n",
        "import matplotlib.pyplot as plt\n",
        "import seaborn as sns"
      ],
      "execution_count": null,
      "outputs": []
    },
    {
      "cell_type": "markdown",
      "metadata": {
        "id": "IgALb0O9fNE9"
      },
      "source": [
        "### Importing Dataset"
      ]
    },
    {
      "cell_type": "code",
      "metadata": {
        "id": "SQYSvRhYecdR"
      },
      "source": [
        "data_src = 'https://raw.githubusercontent.com/iansebastian59/DSCDataScience/main/takemeout.csv'\n",
        "df = pd.read_csv(data_src)"
      ],
      "execution_count": null,
      "outputs": []
    },
    {
      "cell_type": "markdown",
      "metadata": {
        "id": "WIgVXynHfz1B"
      },
      "source": [
        "### Viewing the Dataset"
      ]
    },
    {
      "cell_type": "code",
      "metadata": {
        "id": "dpzsl4q3fnvA"
      },
      "source": [
        "df.head(4)"
      ],
      "execution_count": null,
      "outputs": []
    },
    {
      "cell_type": "markdown",
      "metadata": {
        "id": "HbkHp6WDie7Z"
      },
      "source": [
        "### View Column Names"
      ]
    },
    {
      "cell_type": "code",
      "metadata": {
        "id": "qAc0VOwEfx5L"
      },
      "source": [
        "# Get current column names\n",
        "print(df.columns)"
      ],
      "execution_count": null,
      "outputs": []
    },
    {
      "cell_type": "markdown",
      "metadata": {
        "id": "xjmnwDp8il-n"
      },
      "source": [
        "### Examine dataset datatype"
      ]
    },
    {
      "cell_type": "code",
      "metadata": {
        "id": "qdDqJdbUih-k"
      },
      "source": [
        "print(df.info())"
      ],
      "execution_count": null,
      "outputs": []
    },
    {
      "cell_type": "markdown",
      "metadata": {
        "id": "bEiXIdr8i0UE"
      },
      "source": [
        "### Examine Data Distribution"
      ]
    },
    {
      "cell_type": "code",
      "metadata": {
        "id": "Ot0JLI-KiyS9"
      },
      "source": [
        "print(df.describe())\n",
        "print(df.describe(include='object'))"
      ],
      "execution_count": null,
      "outputs": []
    },
    {
      "cell_type": "markdown",
      "metadata": {
        "id": "H6WC4LiVjppz"
      },
      "source": [
        "### Takeaways:\n",
        "\n",
        "In **bold** are actionable insights.\n",
        "\n",
        "General:\n",
        "- **Column names are way too long**\n",
        "- No null data, no need to treat\n",
        "\n",
        "Numerical Columns\n",
        "- No anomalous values\n",
        "\n",
        "Datetime Columns\n",
        "- '**'Timestamp' has not been converted to datetime format**\n",
        "\n",
        "Categorical Columns\n",
        "- 'Gender' has only 2 values : 'Cowok' and 'Cewek', as expected.\n",
        "- **'Name' doesn't really have important insight since everything is censored.**"
      ]
    },
    {
      "cell_type": "markdown",
      "metadata": {
        "id": "O17r2r4Pf4_P"
      },
      "source": [
        "## Data Cleaning\n"
      ]
    },
    {
      "cell_type": "markdown",
      "metadata": {
        "id": "yZ-8dyDwgAHj"
      },
      "source": [
        "### 1. Modify Column Names\n",
        "\n",
        "Try to improve readability and verbosity."
      ]
    },
    {
      "cell_type": "markdown",
      "metadata": {
        "id": "TUQk6g3dgZKJ"
      },
      "source": [
        "Original column name -- New column name\n",
        "- *Timestamp* -- timestamp\n",
        "- *Siapa nama kamu* : name\n",
        "- *Cewek atau cowok nih?* -- gender\n",
        "- *Seberapa penting quality time bareng calon pacar untuk kamu?* -- quality_time\n",
        "- *Seberapa penting physical touch sama calon pacar untuk kamu?* -- phys_touch\n",
        "- *Seberapa penting word of affirmation dari calon pacar untuk kamu?* -- affirmation\n",
        "- *Seberapa penting dapet kado dari calon pacar untuk kamu?* -- gift\n",
        "- *Seberapa penting bantuan dari calon pacar untuk kamu?* -- help"
      ]
    },
    {
      "cell_type": "code",
      "metadata": {
        "id": "gDTiBOpLgX_6"
      },
      "source": [
        "# Change column names\n",
        "new_colnames = ['Timestamp', 'name', 'gender', 'quality_time', 'phys_touch', 'affirmation', 'gift', 'help']\n",
        "df.columns = new_colnames"
      ],
      "execution_count": null,
      "outputs": []
    },
    {
      "cell_type": "code",
      "metadata": {
        "id": "N0e6f6Gmh1h3"
      },
      "source": [
        "# see new column names:\n",
        "df.head(3)"
      ],
      "execution_count": null,
      "outputs": []
    },
    {
      "cell_type": "markdown",
      "metadata": {
        "id": "Bhn7ABoMkh_1"
      },
      "source": [
        "### 2. Drop Non-insightful Data\n",
        "\n",
        "We'll drop the `name` column since everything is censored so no information can be extracted."
      ]
    },
    {
      "cell_type": "code",
      "metadata": {
        "id": "fRoRvLRKiEHq"
      },
      "source": [
        "df = df[['Timestamp',  'gender', 'quality_time', 'phys_touch', 'affirmation', 'gift', 'help']]\n",
        "df.head(3)"
      ],
      "execution_count": null,
      "outputs": []
    },
    {
      "cell_type": "markdown",
      "metadata": {
        "id": "97KPGBpGlp-f"
      },
      "source": [
        "### 3. Convert Datetime Column\n",
        "\n",
        "We'll do this with pandas `to_datetime` method."
      ]
    },
    {
      "cell_type": "code",
      "metadata": {
        "id": "cc1wzMDBlFrM"
      },
      "source": [
        "df['Timestamp'] = pd.to_datetime(df['Timestamp'])\n",
        "print(\"Datatype of Timestamp: \", df['Timestamp'].dtype)"
      ],
      "execution_count": null,
      "outputs": []
    },
    {
      "cell_type": "markdown",
      "metadata": {
        "id": "ljwYgZG8qewW"
      },
      "source": [
        "### 4. Convert Numerics to Categorical"
      ]
    },
    {
      "cell_type": "code",
      "metadata": {
        "id": "pNxTOu82qjy1"
      },
      "source": [
        "num_cols = ['quality_time', 'phys_touch', 'affirmation', 'gift', 'help']\n",
        "\n",
        "df[num_cols] = df[num_cols].astype(\"int64\")"
      ],
      "execution_count": null,
      "outputs": []
    },
    {
      "cell_type": "code",
      "metadata": {
        "id": "XMTrVWFYrjIi"
      },
      "source": [
        "print(df.info())"
      ],
      "execution_count": null,
      "outputs": []
    },
    {
      "cell_type": "code",
      "metadata": {
        "id": "kXjGhRjarorD"
      },
      "source": [
        "df.describe(include=\"object\")"
      ],
      "execution_count": null,
      "outputs": []
    },
    {
      "cell_type": "markdown",
      "metadata": {
        "id": "jJNDdHKdmSIS"
      },
      "source": [
        "## Data Exploration"
      ]
    },
    {
      "cell_type": "markdown",
      "metadata": {
        "id": "zKMZtKVxnEIV"
      },
      "source": [
        "### Descriptive Statistics"
      ]
    },
    {
      "cell_type": "code",
      "metadata": {
        "id": "Egf26bV-nTUj"
      },
      "source": [
        "# Categorical Data\n",
        "print(df.describe(include=\"object\"))"
      ],
      "execution_count": null,
      "outputs": []
    },
    {
      "cell_type": "markdown",
      "metadata": {
        "id": "bDNk6qfqooy6"
      },
      "source": [
        "### Visualization"
      ]
    },
    {
      "cell_type": "code",
      "metadata": {
        "id": "lgqj2vKLnewz"
      },
      "source": [
        "%matplotlib inline\n",
        "sns.set_style(\"ticks\")\n",
        "\n",
        "cols = ['gender', 'quality_time', 'phys_touch',\t'affirmation', 'gift', 'help']\n",
        "\n",
        "fig, axs = plt.subplots(2, 3, figsize=(10, 10))\n",
        "\n",
        "axs = axs.ravel()\n",
        "\n",
        "for (i, col) in enumerate(cols):\n",
        "    sns.countplot(ax = axs[i+1], x=col, data=df)\n",
        "    axs[i].set_xlabel(col)\n",
        "\n",
        "_ = plt.tight_layout()\n"
      ],
      "execution_count": null,
      "outputs": []
    },
    {
      "cell_type": "code",
      "metadata": {
        "id": "uI5ydNxGx0WX"
      },
      "source": [
        "%matplotlib inline\n",
        "_ = sns.catplot(data=df, x=\"quality_time\", kind=\"count\", col=\"gender\")"
      ],
      "execution_count": null,
      "outputs": []
    },
    {
      "cell_type": "code",
      "metadata": {
        "id": "cZSuexV-qFWI"
      },
      "source": [
        "%matplotlib inline\n",
        "_ = sns.catplot(data=df, x=\"phys_touch\", kind=\"count\", col=\"gender\")"
      ],
      "execution_count": null,
      "outputs": []
    },
    {
      "cell_type": "code",
      "metadata": {
        "id": "00dpuvfgy4MY"
      },
      "source": [
        "%matplotlib inline\n",
        "_ = sns.catplot(data=df, x=\"affirmation\", kind=\"count\", col=\"gender\")"
      ],
      "execution_count": null,
      "outputs": []
    },
    {
      "cell_type": "code",
      "metadata": {
        "id": "RQMFReatzY4w"
      },
      "source": [
        "%matplotlib inline\n",
        "_ = sns.catplot(data=df, x=\"gift\", kind=\"count\", col=\"gender\")"
      ],
      "execution_count": null,
      "outputs": []
    },
    {
      "cell_type": "code",
      "metadata": {
        "id": "hKumcewQzfDI"
      },
      "source": [
        "%matplotlib inline\n",
        "_ = sns.catplot(data=df, x=\"help\", kind=\"count\", col=\"gender\")"
      ],
      "execution_count": null,
      "outputs": []
    },
    {
      "cell_type": "markdown",
      "metadata": {
        "id": "2oV8ztTiznJL"
      },
      "source": [
        "### Insights:\n",
        "- Lelaki:\n",
        "    - Menghargai hadiah\n",
        "    - Tidak terlalu menghargai quality time\n",
        "    - Menghargai ketika dibantu partner\n",
        "- Perempuan:\n",
        "    - Menghargai ketika dibantu partner\n",
        "    - Menyukai physical touch"
      ]
    },
    {
      "cell_type": "code",
      "metadata": {
        "id": "InRd9ckvzj0w"
      },
      "source": [
        ""
      ],
      "execution_count": null,
      "outputs": []
    }
  ]
}
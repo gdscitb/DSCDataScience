{
  "nbformat": 4,
  "nbformat_minor": 0,
  "metadata": {
    "colab": {
      "name": "jodohtehgakemana.ipynb",
      "provenance": [],
      "collapsed_sections": []
    },
    "kernelspec": {
      "name": "python3",
      "display_name": "Python 3"
    }
  },
  "cells": [
    {
      "cell_type": "markdown",
      "metadata": {
        "id": "hteWu4qWUBWG"
      },
      "source": [
        "# **Tugas Event 2 - Solving Real-World Problems with Data Science**\n",
        "\n",
        "\n"
      ]
    },
    {
      "cell_type": "markdown",
      "metadata": {
        "id": "C2ybGThsVYMa"
      },
      "source": [
        " **Identitas :**\n",
        "*   Nama        : Muhammad Farhan Haris Rosidi \n",
        "*   NIM         : 24060120140104\n",
        "*   Universitas : Universitas Diponegoro \n",
        "*   Waktu Pengerjaan : 12 November 2020 \n",
        "*   Sumber Dataset : responjomblo.csv (informatika undip angkatan 2020 dan alumni SMAN 58 JKT)\n",
        "\n",
        "\n",
        "\n"
      ]
    },
    {
      "cell_type": "markdown",
      "metadata": {
        "id": "VEmi_UorVo5W"
      },
      "source": [
        "# 1. DATA OBSERVATION "
      ]
    },
    {
      "cell_type": "code",
      "metadata": {
        "id": "GoBRGjObYOrh",
        "outputId": "10cdb67c-ff6e-42f6-dd67-16ee051ee261",
        "colab": {
          "base_uri": "https://localhost:8080/",
          "height": 498
        }
      },
      "source": [
        "# import library panda dan Nearest Neightbors dari sklearn\n",
        "import pandas as pd\n",
        "from sklearn.neighbors import NearestNeighbors\n",
        "import numpy as np\n",
        "\n",
        "# membaca file csv\n",
        "df = pd.read_csv('/content/sample_data/responjomblo.csv')\n",
        "# menampilan data csv (headnya saja)\n",
        "df.head()"
      ],
      "execution_count": 178,
      "outputs": [
        {
          "output_type": "execute_result",
          "data": {
            "text/html": [
              "<div>\n",
              "<style scoped>\n",
              "    .dataframe tbody tr th:only-of-type {\n",
              "        vertical-align: middle;\n",
              "    }\n",
              "\n",
              "    .dataframe tbody tr th {\n",
              "        vertical-align: top;\n",
              "    }\n",
              "\n",
              "    .dataframe thead th {\n",
              "        text-align: right;\n",
              "    }\n",
              "</style>\n",
              "<table border=\"1\" class=\"dataframe\">\n",
              "  <thead>\n",
              "    <tr style=\"text-align: right;\">\n",
              "      <th></th>\n",
              "      <th>Timestamp</th>\n",
              "      <th>Nama (Jika malu, boleh kok pake nama samaran)  :</th>\n",
              "      <th>Jenis Kelamin kamu ?</th>\n",
              "      <th>Menurut kamu, seberapa penting quality time bareng calon pasanganmu/pasanganmu ?</th>\n",
              "      <th>Menurut kamu , seberapa penting physical touch dengan calon pasanganmu/pasanganmu  ?</th>\n",
              "      <th>Menurut kamu , seberapa penting word affirmation dari pasanganmu/pasanganmu  ?</th>\n",
              "      <th>Menurut kamu, seberapa penting dapet kado dari calon pasanganmu/pasanganmu</th>\n",
              "    </tr>\n",
              "  </thead>\n",
              "  <tbody>\n",
              "    <tr>\n",
              "      <th>0</th>\n",
              "      <td>2020/11/09 9:26:07 AM GMT+7</td>\n",
              "      <td>Aubrey</td>\n",
              "      <td>Perempuan</td>\n",
              "      <td>5</td>\n",
              "      <td>4</td>\n",
              "      <td>4</td>\n",
              "      <td>2</td>\n",
              "    </tr>\n",
              "    <tr>\n",
              "      <th>1</th>\n",
              "      <td>2020/11/09 9:26:32 AM GMT+7</td>\n",
              "      <td>Fellia</td>\n",
              "      <td>Perempuan</td>\n",
              "      <td>1</td>\n",
              "      <td>1</td>\n",
              "      <td>1</td>\n",
              "      <td>1</td>\n",
              "    </tr>\n",
              "    <tr>\n",
              "      <th>2</th>\n",
              "      <td>2020/11/09 9:26:49 AM GMT+7</td>\n",
              "      <td>p</td>\n",
              "      <td>Laki-laki</td>\n",
              "      <td>5</td>\n",
              "      <td>4</td>\n",
              "      <td>5</td>\n",
              "      <td>3</td>\n",
              "    </tr>\n",
              "    <tr>\n",
              "      <th>3</th>\n",
              "      <td>2020/11/09 9:27:19 AM GMT+7</td>\n",
              "      <td>SS</td>\n",
              "      <td>Laki-laki</td>\n",
              "      <td>5</td>\n",
              "      <td>4</td>\n",
              "      <td>4</td>\n",
              "      <td>4</td>\n",
              "    </tr>\n",
              "    <tr>\n",
              "      <th>4</th>\n",
              "      <td>2020/11/09 9:28:15 AM GMT+7</td>\n",
              "      <td>NaN</td>\n",
              "      <td>Laki-laki</td>\n",
              "      <td>5</td>\n",
              "      <td>3</td>\n",
              "      <td>5</td>\n",
              "      <td>3</td>\n",
              "    </tr>\n",
              "  </tbody>\n",
              "</table>\n",
              "</div>"
            ],
            "text/plain": [
              "                     Timestamp  ... Menurut kamu, seberapa penting dapet kado dari calon pasanganmu/pasanganmu \n",
              "0  2020/11/09 9:26:07 AM GMT+7  ...                                                  2                         \n",
              "1  2020/11/09 9:26:32 AM GMT+7  ...                                                  1                         \n",
              "2  2020/11/09 9:26:49 AM GMT+7  ...                                                  3                         \n",
              "3  2020/11/09 9:27:19 AM GMT+7  ...                                                  4                         \n",
              "4  2020/11/09 9:28:15 AM GMT+7  ...                                                  3                         \n",
              "\n",
              "[5 rows x 7 columns]"
            ]
          },
          "metadata": {
            "tags": []
          },
          "execution_count": 178
        }
      ]
    },
    {
      "cell_type": "markdown",
      "metadata": {
        "id": "R-GDI83rhiGZ"
      },
      "source": [
        "# 2. DATA PREPARATION"
      ]
    },
    {
      "cell_type": "markdown",
      "metadata": {
        "id": "Pekhj07pjQCb"
      },
      "source": [
        "Untuk data preparation kali ini, saya merapikan data dengan men-delete kolom Timestamp karena tidak dibutuhkan dan mengganti nama untuk masing masing kolom agar mudah untuk dipanggil."
      ]
    },
    {
      "cell_type": "code",
      "metadata": {
        "id": "YEMV-QCehs-U",
        "outputId": "41931f7a-5e50-4299-a0f1-979e2e065aac",
        "colab": {
          "base_uri": "https://localhost:8080/",
          "height": 246
        }
      },
      "source": [
        "# Menghapus kolom timestamp karena tidak dibutuhkan.\n",
        "df = df.iloc[:, 1:]\n",
        "df.head()"
      ],
      "execution_count": 179,
      "outputs": [
        {
          "output_type": "execute_result",
          "data": {
            "text/html": [
              "<div>\n",
              "<style scoped>\n",
              "    .dataframe tbody tr th:only-of-type {\n",
              "        vertical-align: middle;\n",
              "    }\n",
              "\n",
              "    .dataframe tbody tr th {\n",
              "        vertical-align: top;\n",
              "    }\n",
              "\n",
              "    .dataframe thead th {\n",
              "        text-align: right;\n",
              "    }\n",
              "</style>\n",
              "<table border=\"1\" class=\"dataframe\">\n",
              "  <thead>\n",
              "    <tr style=\"text-align: right;\">\n",
              "      <th></th>\n",
              "      <th>Nama (Jika malu, boleh kok pake nama samaran)  :</th>\n",
              "      <th>Jenis Kelamin kamu ?</th>\n",
              "      <th>Menurut kamu, seberapa penting quality time bareng calon pasanganmu/pasanganmu ?</th>\n",
              "      <th>Menurut kamu , seberapa penting physical touch dengan calon pasanganmu/pasanganmu  ?</th>\n",
              "      <th>Menurut kamu , seberapa penting word affirmation dari pasanganmu/pasanganmu  ?</th>\n",
              "      <th>Menurut kamu, seberapa penting dapet kado dari calon pasanganmu/pasanganmu</th>\n",
              "    </tr>\n",
              "  </thead>\n",
              "  <tbody>\n",
              "    <tr>\n",
              "      <th>0</th>\n",
              "      <td>Aubrey</td>\n",
              "      <td>Perempuan</td>\n",
              "      <td>5</td>\n",
              "      <td>4</td>\n",
              "      <td>4</td>\n",
              "      <td>2</td>\n",
              "    </tr>\n",
              "    <tr>\n",
              "      <th>1</th>\n",
              "      <td>Fellia</td>\n",
              "      <td>Perempuan</td>\n",
              "      <td>1</td>\n",
              "      <td>1</td>\n",
              "      <td>1</td>\n",
              "      <td>1</td>\n",
              "    </tr>\n",
              "    <tr>\n",
              "      <th>2</th>\n",
              "      <td>p</td>\n",
              "      <td>Laki-laki</td>\n",
              "      <td>5</td>\n",
              "      <td>4</td>\n",
              "      <td>5</td>\n",
              "      <td>3</td>\n",
              "    </tr>\n",
              "    <tr>\n",
              "      <th>3</th>\n",
              "      <td>SS</td>\n",
              "      <td>Laki-laki</td>\n",
              "      <td>5</td>\n",
              "      <td>4</td>\n",
              "      <td>4</td>\n",
              "      <td>4</td>\n",
              "    </tr>\n",
              "    <tr>\n",
              "      <th>4</th>\n",
              "      <td>NaN</td>\n",
              "      <td>Laki-laki</td>\n",
              "      <td>5</td>\n",
              "      <td>3</td>\n",
              "      <td>5</td>\n",
              "      <td>3</td>\n",
              "    </tr>\n",
              "  </tbody>\n",
              "</table>\n",
              "</div>"
            ],
            "text/plain": [
              "  Nama (Jika malu, boleh kok pake nama samaran)  :  ... Menurut kamu, seberapa penting dapet kado dari calon pasanganmu/pasanganmu \n",
              "0                                           Aubrey  ...                                                  2                         \n",
              "1                                           Fellia  ...                                                  1                         \n",
              "2                                                p  ...                                                  3                         \n",
              "3                                               SS  ...                                                  4                         \n",
              "4                                              NaN  ...                                                  3                         \n",
              "\n",
              "[5 rows x 6 columns]"
            ]
          },
          "metadata": {
            "tags": []
          },
          "execution_count": 179
        }
      ]
    },
    {
      "cell_type": "code",
      "metadata": {
        "id": "A5cJbycFvWrC",
        "outputId": "06be6d05-4e27-420a-ea54-862451ccfa2b",
        "colab": {
          "base_uri": "https://localhost:8080/",
          "height": 195
        }
      },
      "source": [
        "# Rename kolom supaya mudah dipanggil \n",
        "df.columns = ['nama','gender','quality','touch','word','gift']\n",
        "df.head()"
      ],
      "execution_count": 180,
      "outputs": [
        {
          "output_type": "execute_result",
          "data": {
            "text/html": [
              "<div>\n",
              "<style scoped>\n",
              "    .dataframe tbody tr th:only-of-type {\n",
              "        vertical-align: middle;\n",
              "    }\n",
              "\n",
              "    .dataframe tbody tr th {\n",
              "        vertical-align: top;\n",
              "    }\n",
              "\n",
              "    .dataframe thead th {\n",
              "        text-align: right;\n",
              "    }\n",
              "</style>\n",
              "<table border=\"1\" class=\"dataframe\">\n",
              "  <thead>\n",
              "    <tr style=\"text-align: right;\">\n",
              "      <th></th>\n",
              "      <th>nama</th>\n",
              "      <th>gender</th>\n",
              "      <th>quality</th>\n",
              "      <th>touch</th>\n",
              "      <th>word</th>\n",
              "      <th>gift</th>\n",
              "    </tr>\n",
              "  </thead>\n",
              "  <tbody>\n",
              "    <tr>\n",
              "      <th>0</th>\n",
              "      <td>Aubrey</td>\n",
              "      <td>Perempuan</td>\n",
              "      <td>5</td>\n",
              "      <td>4</td>\n",
              "      <td>4</td>\n",
              "      <td>2</td>\n",
              "    </tr>\n",
              "    <tr>\n",
              "      <th>1</th>\n",
              "      <td>Fellia</td>\n",
              "      <td>Perempuan</td>\n",
              "      <td>1</td>\n",
              "      <td>1</td>\n",
              "      <td>1</td>\n",
              "      <td>1</td>\n",
              "    </tr>\n",
              "    <tr>\n",
              "      <th>2</th>\n",
              "      <td>p</td>\n",
              "      <td>Laki-laki</td>\n",
              "      <td>5</td>\n",
              "      <td>4</td>\n",
              "      <td>5</td>\n",
              "      <td>3</td>\n",
              "    </tr>\n",
              "    <tr>\n",
              "      <th>3</th>\n",
              "      <td>SS</td>\n",
              "      <td>Laki-laki</td>\n",
              "      <td>5</td>\n",
              "      <td>4</td>\n",
              "      <td>4</td>\n",
              "      <td>4</td>\n",
              "    </tr>\n",
              "    <tr>\n",
              "      <th>4</th>\n",
              "      <td>NaN</td>\n",
              "      <td>Laki-laki</td>\n",
              "      <td>5</td>\n",
              "      <td>3</td>\n",
              "      <td>5</td>\n",
              "      <td>3</td>\n",
              "    </tr>\n",
              "  </tbody>\n",
              "</table>\n",
              "</div>"
            ],
            "text/plain": [
              "     nama     gender  quality  touch  word  gift\n",
              "0  Aubrey  Perempuan        5      4     4     2\n",
              "1  Fellia  Perempuan        1      1     1     1\n",
              "2       p  Laki-laki        5      4     5     3\n",
              "3      SS  Laki-laki        5      4     4     4\n",
              "4     NaN  Laki-laki        5      3     5     3"
            ]
          },
          "metadata": {
            "tags": []
          },
          "execution_count": 180
        }
      ]
    },
    {
      "cell_type": "code",
      "metadata": {
        "id": "LZcgdhOzwKaJ"
      },
      "source": [
        "# Mengklasifikasi jenis kelamin laki-laki dan perempuan\n",
        "df['gender'] = df['gender'].apply(lambda x:0 if x == 'Laki-laki' else 1)"
      ],
      "execution_count": 181,
      "outputs": []
    },
    {
      "cell_type": "code",
      "metadata": {
        "id": "s5ZK7TsFw2tx"
      },
      "source": [
        "m_df = df[df['gender'] == 0]\n",
        "f_df = df[df['gender'] == 1]"
      ],
      "execution_count": 182,
      "outputs": []
    },
    {
      "cell_type": "markdown",
      "metadata": {
        "id": "eAUVhvVhRrgQ"
      },
      "source": [
        "# *3. DATA DEVELOPMENT*"
      ]
    },
    {
      "cell_type": "code",
      "metadata": {
        "id": "lSK1jXoSTZtU"
      },
      "source": [
        "# memisahkan nama berdasarkan gender\n",
        "m_X = m_df.drop(['nama','gender'], axis=1)\n",
        "f_X = f_df.drop(['nama','gender'], axis=1)"
      ],
      "execution_count": 183,
      "outputs": []
    },
    {
      "cell_type": "code",
      "metadata": {
        "id": "gIlAiOYURyZh"
      },
      "source": [
        "m_nbrs = NearestNeighbors(n_neighbors=2).fit(f_X)\n",
        "f_nbrs = NearestNeighbors(n_neighbors=2).fit(m_X)"
      ],
      "execution_count": 184,
      "outputs": []
    },
    {
      "cell_type": "code",
      "metadata": {
        "id": "KF8APCShTz-2"
      },
      "source": [
        "X = df.drop(['nama','gender'], axis = 1)"
      ],
      "execution_count": 185,
      "outputs": []
    },
    {
      "cell_type": "code",
      "metadata": {
        "id": "0-dl8Ru56X3x",
        "outputId": "a6f2837d-0795-4a8c-f195-f25f70fa3077",
        "colab": {
          "base_uri": "https://localhost:8080/"
        }
      },
      "source": [
        "test = X[df['nama'] == 'Fellia'].values\n",
        "_, idx = f_nbrs.kneighbors(test)\n",
        "m_df.iloc[idx[0]]['nama']"
      ],
      "execution_count": 186,
      "outputs": [
        {
          "output_type": "execute_result",
          "data": {
            "text/plain": [
              "25    Ucep\n",
              "84    Weze\n",
              "Name: nama, dtype: object"
            ]
          },
          "metadata": {
            "tags": []
          },
          "execution_count": 186
        }
      ]
    },
    {
      "cell_type": "markdown",
      "metadata": {
        "id": "UkaC4sDtCdz6"
      },
      "source": [
        "Kesimpulan dari percobaan tersebut adalah Fellia cocok dengan Ucep dan Weze"
      ]
    },
    {
      "cell_type": "markdown",
      "metadata": {
        "id": "NyiuG19ByAIO"
      },
      "source": [
        "**Statistik & Data Analisis** "
      ]
    },
    {
      "cell_type": "markdown",
      "metadata": {
        "id": "SloV1xl87aXV"
      },
      "source": [
        "*Statistik dasar \"jodohditangantuhan\" terdiri dari grafik dan juga tabelnya.* "
      ]
    },
    {
      "cell_type": "code",
      "metadata": {
        "id": "wwxYq_UFyRJh",
        "outputId": "b0fb4c80-a21a-4802-fafe-4d5af848ca03",
        "colab": {
          "base_uri": "https://localhost:8080/",
          "height": 284
        }
      },
      "source": [
        "df.describe()"
      ],
      "execution_count": 75,
      "outputs": [
        {
          "output_type": "execute_result",
          "data": {
            "text/html": [
              "<div>\n",
              "<style scoped>\n",
              "    .dataframe tbody tr th:only-of-type {\n",
              "        vertical-align: middle;\n",
              "    }\n",
              "\n",
              "    .dataframe tbody tr th {\n",
              "        vertical-align: top;\n",
              "    }\n",
              "\n",
              "    .dataframe thead th {\n",
              "        text-align: right;\n",
              "    }\n",
              "</style>\n",
              "<table border=\"1\" class=\"dataframe\">\n",
              "  <thead>\n",
              "    <tr style=\"text-align: right;\">\n",
              "      <th></th>\n",
              "      <th>gender</th>\n",
              "      <th>quality</th>\n",
              "      <th>touch</th>\n",
              "      <th>word</th>\n",
              "      <th>gift</th>\n",
              "    </tr>\n",
              "  </thead>\n",
              "  <tbody>\n",
              "    <tr>\n",
              "      <th>count</th>\n",
              "      <td>86.000000</td>\n",
              "      <td>86.000000</td>\n",
              "      <td>86.000000</td>\n",
              "      <td>86.000000</td>\n",
              "      <td>86.000000</td>\n",
              "    </tr>\n",
              "    <tr>\n",
              "      <th>mean</th>\n",
              "      <td>0.534884</td>\n",
              "      <td>4.313953</td>\n",
              "      <td>3.372093</td>\n",
              "      <td>3.906977</td>\n",
              "      <td>2.988372</td>\n",
              "    </tr>\n",
              "    <tr>\n",
              "      <th>std</th>\n",
              "      <td>0.501707</td>\n",
              "      <td>0.923696</td>\n",
              "      <td>1.158564</td>\n",
              "      <td>1.112791</td>\n",
              "      <td>1.132350</td>\n",
              "    </tr>\n",
              "    <tr>\n",
              "      <th>min</th>\n",
              "      <td>0.000000</td>\n",
              "      <td>1.000000</td>\n",
              "      <td>1.000000</td>\n",
              "      <td>1.000000</td>\n",
              "      <td>1.000000</td>\n",
              "    </tr>\n",
              "    <tr>\n",
              "      <th>25%</th>\n",
              "      <td>0.000000</td>\n",
              "      <td>4.000000</td>\n",
              "      <td>3.000000</td>\n",
              "      <td>3.000000</td>\n",
              "      <td>2.000000</td>\n",
              "    </tr>\n",
              "    <tr>\n",
              "      <th>50%</th>\n",
              "      <td>1.000000</td>\n",
              "      <td>5.000000</td>\n",
              "      <td>3.000000</td>\n",
              "      <td>4.000000</td>\n",
              "      <td>3.000000</td>\n",
              "    </tr>\n",
              "    <tr>\n",
              "      <th>75%</th>\n",
              "      <td>1.000000</td>\n",
              "      <td>5.000000</td>\n",
              "      <td>4.000000</td>\n",
              "      <td>5.000000</td>\n",
              "      <td>4.000000</td>\n",
              "    </tr>\n",
              "    <tr>\n",
              "      <th>max</th>\n",
              "      <td>1.000000</td>\n",
              "      <td>5.000000</td>\n",
              "      <td>5.000000</td>\n",
              "      <td>5.000000</td>\n",
              "      <td>5.000000</td>\n",
              "    </tr>\n",
              "  </tbody>\n",
              "</table>\n",
              "</div>"
            ],
            "text/plain": [
              "          gender    quality      touch       word       gift\n",
              "count  86.000000  86.000000  86.000000  86.000000  86.000000\n",
              "mean    0.534884   4.313953   3.372093   3.906977   2.988372\n",
              "std     0.501707   0.923696   1.158564   1.112791   1.132350\n",
              "min     0.000000   1.000000   1.000000   1.000000   1.000000\n",
              "25%     0.000000   4.000000   3.000000   3.000000   2.000000\n",
              "50%     1.000000   5.000000   3.000000   4.000000   3.000000\n",
              "75%     1.000000   5.000000   4.000000   5.000000   4.000000\n",
              "max     1.000000   5.000000   5.000000   5.000000   5.000000"
            ]
          },
          "metadata": {
            "tags": []
          },
          "execution_count": 75
        }
      ]
    },
    {
      "cell_type": "markdown",
      "metadata": {
        "id": "VFYePOYlQXNb"
      },
      "source": [
        "GRAFIK RATA-RATA"
      ]
    },
    {
      "cell_type": "code",
      "metadata": {
        "id": "7rOO5KC_8giZ",
        "outputId": "ed64d17c-8a31-41db-9b70-43502a40af47",
        "colab": {
          "base_uri": "https://localhost:8080/",
          "height": 369
        }
      },
      "source": [
        "# Mengimport matplotlib untuk menampilkan grafik\n",
        "import matplotlib.pyplot as plt\n",
        "\n",
        "#menentukan nilai axis (x) dan kordinat (y) untuk statistik dasar \n",
        "x_ax = ['quality','touch','word','gift']\n",
        "y_ax = [df.quality.mean(), df.touch.mean(), df.word.mean(), df.gift.mean()]\n",
        "y_m = [m_df.quality.mean(), m_df.touch.mean(), m_df.word.mean(), m_df.gift.mean()]\n",
        "y_f = [f_df.quality.mean(), f_df.touch.mean(), f_df.word.mean(), f_df.gift.mean()]\n",
        "\n",
        "# Menentukan komposisi dari grafik \n",
        "fig = plt.figure()\n",
        "ax = fig.add_axes([0,0,1,1])\n",
        "ax.set_title(\"Rata-rata Feature Data untuk Laki-laki dan Perempuan\")\n",
        "\n",
        "plt.plot(x_ax, y_ax, label='Umum')\n",
        "plt.plot(x_ax, y_m, label='Laki-laki')\n",
        "plt.plot(x_ax, y_f, label='perempuan ')\n",
        "\n",
        "ax.legend()"
      ],
      "execution_count": 170,
      "outputs": [
        {
          "output_type": "execute_result",
          "data": {
            "text/plain": [
              "<matplotlib.legend.Legend at 0x7f1d221c5ac8>"
            ]
          },
          "metadata": {
            "tags": []
          },
          "execution_count": 170
        },
        {
          "output_type": "display_data",
          "data": {
            "image/png": "[encoded data removed]",
            "text/plain": [
              "<Figure size 432x288 with 1 Axes>"
            ]
          },
          "metadata": {
            "tags": [],
            "needs_background": "light"
          }
        }
      ]
    },
    {
      "cell_type": "markdown",
      "metadata": {
        "id": "PC5u_hieCvJK"
      },
      "source": [
        "Insight : \n",
        "1. Perempuan lebih perduli mengenai word affirmation dibanding pria\n",
        "2. Baik laki-laki maupun perempuan keduanya sama sama mementingkan quality time dengan calon pasangan/pasangan\n",
        "3. Berdasarkan dataset saya, perempuan lebih ingin diberi dibanding laki-laki\n",
        "\n",
        "\n",
        "\n",
        "\n"
      ]
    }
  ]
}
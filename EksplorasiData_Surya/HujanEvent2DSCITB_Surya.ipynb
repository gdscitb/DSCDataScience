{
  "nbformat": 4,
  "nbformat_minor": 0,
  "metadata": {
    "colab": {
      "name": "HujanEvent2DSCITB_Surya.ipynb",
      "provenance": []
    },
    "kernelspec": {
      "name": "python3",
      "display_name": "Python 3"
    }
  },
  "cells": [
    {
      "cell_type": "markdown",
      "metadata": {
        "id": "tdmHD4wqBxvF"
      },
      "source": [
        "# Tugas Event #2 - Solving Real-World Problems with Data Science\n",
        "\n",
        "2113181065 - Surya Harahap | Universitas Sangga Buana Bandung\n",
        "\n",
        "- Tanggal Mulai  : 13 November 2020\n",
        "- Sumber (Matakuliah Data Mining)"
      ]
    },
    {
      "cell_type": "markdown",
      "metadata": {
        "id": "EsG3lTdbDQwu"
      },
      "source": [
        "# Tahapan\n",
        "Dataset berisi 5 kolom label yang terdapat berisi apakah sunspot akan mempengaruhi hujan dan melihat pada minggu keberapa saja yang mengalami anomali data dan sebagainya."
      ]
    },
    {
      "cell_type": "markdown",
      "metadata": {
        "id": "flqgjj5FxE_N"
      },
      "source": [
        "Pertama import library pandas dan mengubah file exel menjadi sebuah dataframe."
      ]
    },
    {
      "cell_type": "code",
      "metadata": {
        "id": "jXZqs0-Dve2E"
      },
      "source": [
        "import pandas as pd\n",
        "\n",
        "df = pd.read_excel('Surya.xlsx')"
      ],
      "execution_count": 9,
      "outputs": []
    },
    {
      "cell_type": "code",
      "metadata": {
        "id": "74L4qvEmxk8e",
        "outputId": "db4748eb-9b6f-4f5a-801b-a53115a3bae6",
        "colab": {
          "base_uri": "https://localhost:8080/",
          "height": 204
        }
      },
      "source": [
        "# menampilkan 5 baris teraras \n",
        "df.head()"
      ],
      "execution_count": 10,
      "outputs": [
        {
          "output_type": "execute_result",
          "data": {
            "text/html": [
              "<div>\n",
              "<style scoped>\n",
              "    .dataframe tbody tr th:only-of-type {\n",
              "        vertical-align: middle;\n",
              "    }\n",
              "\n",
              "    .dataframe tbody tr th {\n",
              "        vertical-align: top;\n",
              "    }\n",
              "\n",
              "    .dataframe thead th {\n",
              "        text-align: right;\n",
              "    }\n",
              "</style>\n",
              "<table border=\"1\" class=\"dataframe\">\n",
              "  <thead>\n",
              "    <tr style=\"text-align: right;\">\n",
              "      <th></th>\n",
              "      <th>minggu ke</th>\n",
              "      <th>hujan</th>\n",
              "      <th>sunspot</th>\n",
              "      <th>kosmik</th>\n",
              "      <th>soi</th>\n",
              "      <th>iod</th>\n",
              "    </tr>\n",
              "  </thead>\n",
              "  <tbody>\n",
              "    <tr>\n",
              "      <th>0</th>\n",
              "      <td>1</td>\n",
              "      <td>6,67</td>\n",
              "      <td>61,17</td>\n",
              "      <td>1868203,5</td>\n",
              "      <td>10,27</td>\n",
              "      <td>-0,0351564</td>\n",
              "    </tr>\n",
              "    <tr>\n",
              "      <th>1</th>\n",
              "      <td>2</td>\n",
              "      <td>15,43</td>\n",
              "      <td>45,14</td>\n",
              "      <td>1785459</td>\n",
              "      <td>9,99</td>\n",
              "      <td>-0,312826</td>\n",
              "    </tr>\n",
              "    <tr>\n",
              "      <th>2</th>\n",
              "      <td>3</td>\n",
              "      <td>2,71</td>\n",
              "      <td>95,29</td>\n",
              "      <td>1842437</td>\n",
              "      <td>18,02</td>\n",
              "      <td>-0,502122</td>\n",
              "    </tr>\n",
              "    <tr>\n",
              "      <th>3</th>\n",
              "      <td>4</td>\n",
              "      <td>3,71</td>\n",
              "      <td>66,57</td>\n",
              "      <td>1826204,29</td>\n",
              "      <td>24,34</td>\n",
              "      <td>-0,158204</td>\n",
              "    </tr>\n",
              "    <tr>\n",
              "      <th>4</th>\n",
              "      <td>5</td>\n",
              "      <td>1,86</td>\n",
              "      <td>25,57</td>\n",
              "      <td>1851700,14</td>\n",
              "      <td>7,97</td>\n",
              "      <td>-0,26236</td>\n",
              "    </tr>\n",
              "  </tbody>\n",
              "</table>\n",
              "</div>"
            ],
            "text/plain": [
              "   minggu ke  hujan sunspot      kosmik    soi         iod\n",
              "0          1   6,67   61,17   1868203,5  10,27  -0,0351564\n",
              "1          2  15,43   45,14     1785459   9,99   -0,312826\n",
              "2          3   2,71   95,29     1842437  18,02   -0,502122\n",
              "3          4   3,71   66,57  1826204,29  24,34   -0,158204\n",
              "4          5   1,86   25,57  1851700,14   7,97    -0,26236"
            ]
          },
          "metadata": {
            "tags": []
          },
          "execution_count": 10
        }
      ]
    },
    {
      "cell_type": "markdown",
      "metadata": {
        "id": "x2lt_LSpyTME"
      },
      "source": [
        "Selanjutnya, kita akan mengecek apakah terdapat nilai-nilai yang hilang pada dataset dan terdapat atribut yang bukan merupakan berisi bilangan numerik."
      ]
    },
    {
      "cell_type": "code",
      "metadata": {
        "id": "F5k3uvQFx6i0",
        "outputId": "44be6962-c82f-491c-a937-e7c8b6f284dd",
        "colab": {
          "base_uri": "https://localhost:8080/"
        }
      },
      "source": [
        "df.info()"
      ],
      "execution_count": 11,
      "outputs": [
        {
          "output_type": "stream",
          "text": [
            "<class 'pandas.core.frame.DataFrame'>\n",
            "RangeIndex: 795 entries, 0 to 794\n",
            "Data columns (total 6 columns):\n",
            " #   Column     Non-Null Count  Dtype \n",
            "---  ------     --------------  ----- \n",
            " 0   minggu ke  795 non-null    int64 \n",
            " 1   hujan      795 non-null    object\n",
            " 2   sunspot    795 non-null    object\n",
            " 3   kosmik     795 non-null    object\n",
            " 4   soi        795 non-null    object\n",
            " 5   iod        795 non-null    object\n",
            "dtypes: int64(1), object(5)\n",
            "memory usage: 37.4+ KB\n"
          ],
          "name": "stdout"
        }
      ]
    },
    {
      "cell_type": "markdown",
      "metadata": {
        "id": "XWgqXqqhzKgD"
      },
      "source": [
        "Output dari fungsi info() menunjukkan bahwa semua atribut nilainya lengkap, dan juga nilai nilai dari setiap kolom memiliki tipe data int64 dan object.\n",
        "\n",
        "Pada tahap ini data sudah bisa dipakai untuk pelatihan model"
      ]
    },
    {
      "cell_type": "code",
      "metadata": {
        "id": "3cq4yypoz2D9"
      },
      "source": [
        "# memisahkan atribut pada dataset dan menyimpannya pada sebuah variabel\n",
        "X = df[df.columns[:5]]\n",
        "\n",
        "# memisahkan label pada dataset dan menyimpannya pada sebuah variabel\n",
        "y = df['hujan']"
      ],
      "execution_count": 12,
      "outputs": []
    },
    {
      "cell_type": "code",
      "metadata": {
        "id": "_FqZ3WMY_bEv"
      },
      "source": [
        "from sklearn.preprocessing import StandardScaler\n",
        " \n",
        "# standarisasi nilai-nilai dari dataset\n",
        "scaler = StandardScaler()\n",
        "scaler.fit(X)\n",
        "X = scaler.transform(X)"
      ],
      "execution_count": null,
      "outputs": []
    },
    {
      "cell_type": "markdown",
      "metadata": {
        "id": "WmGCsSjaBn_0"
      },
      "source": [
        "Masih tahap pembelajaran dan pengembangan kedepannya akan melakukan Pull Request"
      ]
    },
    {
      "cell_type": "markdown",
      "metadata": {
        "id": "SAakO95SBvZN"
      },
      "source": [
        ""
      ]
    }
  ]
}
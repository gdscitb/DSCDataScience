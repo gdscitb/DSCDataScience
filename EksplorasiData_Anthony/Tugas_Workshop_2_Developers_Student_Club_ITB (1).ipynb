{
  "nbformat": 4,
  "nbformat_minor": 0,
  "metadata": {
    "kernelspec": {
      "display_name": "Python 3",
      "language": "python",
      "name": "python3"
    },
    "language_info": {
      "codemirror_mode": {
        "name": "ipython",
        "version": 3
      },
      "file_extension": ".py",
      "mimetype": "text/x-python",
      "name": "python",
      "nbconvert_exporter": "python",
      "pygments_lexer": "ipython3",
      "version": "3.8.4"
    },
    "colab": {
      "name": "Tugas Workshop 2 Developers Student Club ITB.ipynb",
      "provenance": []
    }
  },
  "cells": [
    {
      "cell_type": "code",
      "metadata": {
        "id": "7gyN38gtFE8R"
      },
      "source": [
        "#Nama: Anthony\n",
        "#NIM: 10119038\n",
        "#Jurusan: Matematika\n",
        "#Asal Universitas: ITB\n",
        "#Tanggal mulai pengerjaan tugas: Minggu, 15 November 2020\n",
        "\n",
        "#Sumber dataset: https://lfd.itb.ac.id/ diakses pada Desember 2019\n",
        "#Keterangan dataset: Nilai Praktikum Fisika Dasar IA 2019 (tidak termasuk kelas Internasional)\n",
        "#ukuran file 208 KB\n",
        "\n",
        "#Penjelasan kolom:\n",
        "#NIM : Nim mahasiswa yg bersangkutan (kategorikal-ordinal)\n",
        "#nama : Nama mahasiswa yg bersangkutan (kategorikal-nominal)\n",
        "#kelas : kelas fisika mahasiswa yg bersangkutan (kategorikal-ordinal)\n",
        "#fak : fakultas mahasiswa (kategorikal-nominal)\n",
        "#shift : shift praktikum lab fisika dasar (kategorikal-ordinal)\n",
        "#nilai_1 : nilai mahasiswa pada percobaan pertama/modul pertama (kuantitatif-kontinu)\n",
        "#nilai_2 : nilai mahasiswa pada percobaan kedua (kuantitatif-kontinu)\n",
        "#nilai_3 : nilai mahasiswa pada percobaan ketiga (kuantitatif-kontinu)\n",
        "#nilai_4 : nilai mahasiswa pada percobaan keempat (kuantitatif-kontinu)\n",
        "#average : nilai rata-rata praktikum fisika mahasiswa (kuantitatif-kontinu)\n",
        "\n",
        "#Data yang tersedia pada website berupa format pdf\n",
        "#Saya menggunakan bantuan aplikasi pdf to excel untuk mengubah format data\n",
        "#Kemudian data dibersihkan menggunakan excel power query\n",
        "#(menghilangkan data yang gagal terbaca oleh aplikasi, mahasiswa yang nilainya 0 semua)"
      ],
      "execution_count": 56,
      "outputs": []
    },
    {
      "cell_type": "code",
      "metadata": {
        "id": "NVXb2cxkFE8l",
        "outputId": "ce9ce54f-ab7b-438c-a727-7304e4ae5dfc",
        "colab": {
          "base_uri": "https://localhost:8080/",
          "height": 406
        }
      },
      "source": [
        "import pandas as pd\n",
        "cols=[\"NIM\",\"nama\",\"kelas\",\"fak\",\"shift\",\"nilai_1\",\"nilai_2\",\"nilai_3\",\"nilai_4\",\"average\"]\n",
        "df=pd.read_csv(\"Nilai LFD clean.csv\", sep=';',usecols=cols)\n",
        "df"
      ],
      "execution_count": 70,
      "outputs": [
        {
          "output_type": "execute_result",
          "data": {
            "text/html": [
              "<div>\n",
              "<style scoped>\n",
              "    .dataframe tbody tr th:only-of-type {\n",
              "        vertical-align: middle;\n",
              "    }\n",
              "\n",
              "    .dataframe tbody tr th {\n",
              "        vertical-align: top;\n",
              "    }\n",
              "\n",
              "    .dataframe thead th {\n",
              "        text-align: right;\n",
              "    }\n",
              "</style>\n",
              "<table border=\"1\" class=\"dataframe\">\n",
              "  <thead>\n",
              "    <tr style=\"text-align: right;\">\n",
              "      <th></th>\n",
              "      <th>NIM</th>\n",
              "      <th>nama</th>\n",
              "      <th>kelas</th>\n",
              "      <th>fak</th>\n",
              "      <th>shift</th>\n",
              "      <th>nilai_1</th>\n",
              "      <th>nilai_2</th>\n",
              "      <th>nilai_3</th>\n",
              "      <th>nilai_4</th>\n",
              "      <th>average</th>\n",
              "    </tr>\n",
              "  </thead>\n",
              "  <tbody>\n",
              "    <tr>\n",
              "      <th>0</th>\n",
              "      <td>16019001</td>\n",
              "      <td>Tiara Andrina Pratista</td>\n",
              "      <td>K01A</td>\n",
              "      <td>FMIPA</td>\n",
              "      <td>211</td>\n",
              "      <td>85</td>\n",
              "      <td>80</td>\n",
              "      <td>80</td>\n",
              "      <td>85</td>\n",
              "      <td>82.50</td>\n",
              "    </tr>\n",
              "    <tr>\n",
              "      <th>1</th>\n",
              "      <td>16019002</td>\n",
              "      <td>Dzikra Dhiyaa Rofa</td>\n",
              "      <td>K02A</td>\n",
              "      <td>FMIPA</td>\n",
              "      <td>211</td>\n",
              "      <td>80</td>\n",
              "      <td>75</td>\n",
              "      <td>80</td>\n",
              "      <td>85</td>\n",
              "      <td>80.00</td>\n",
              "    </tr>\n",
              "    <tr>\n",
              "      <th>2</th>\n",
              "      <td>16019003</td>\n",
              "      <td>Azizah Novia Yussanti</td>\n",
              "      <td>K03A</td>\n",
              "      <td>FMIPA</td>\n",
              "      <td>211</td>\n",
              "      <td>80</td>\n",
              "      <td>80</td>\n",
              "      <td>80</td>\n",
              "      <td>85</td>\n",
              "      <td>81.25</td>\n",
              "    </tr>\n",
              "    <tr>\n",
              "      <th>3</th>\n",
              "      <td>16019004</td>\n",
              "      <td>Qoid Abrori Syakuro</td>\n",
              "      <td>K04A</td>\n",
              "      <td>FMIPA</td>\n",
              "      <td>211</td>\n",
              "      <td>75</td>\n",
              "      <td>80</td>\n",
              "      <td>75</td>\n",
              "      <td>85</td>\n",
              "      <td>78.75</td>\n",
              "    </tr>\n",
              "    <tr>\n",
              "      <th>4</th>\n",
              "      <td>16019005</td>\n",
              "      <td>Cindy Aprilia Chandra</td>\n",
              "      <td>K05A</td>\n",
              "      <td>FMIPA</td>\n",
              "      <td>211</td>\n",
              "      <td>75</td>\n",
              "      <td>80</td>\n",
              "      <td>80</td>\n",
              "      <td>85</td>\n",
              "      <td>80.00</td>\n",
              "    </tr>\n",
              "    <tr>\n",
              "      <th>...</th>\n",
              "      <td>...</td>\n",
              "      <td>...</td>\n",
              "      <td>...</td>\n",
              "      <td>...</td>\n",
              "      <td>...</td>\n",
              "      <td>...</td>\n",
              "      <td>...</td>\n",
              "      <td>...</td>\n",
              "      <td>...</td>\n",
              "      <td>...</td>\n",
              "    </tr>\n",
              "    <tr>\n",
              "      <th>3250</th>\n",
              "      <td>19919227</td>\n",
              "      <td>Aquila Jidapa</td>\n",
              "      <td>K10B</td>\n",
              "      <td>SAPPK</td>\n",
              "      <td>222</td>\n",
              "      <td>85</td>\n",
              "      <td>85</td>\n",
              "      <td>80</td>\n",
              "      <td>70</td>\n",
              "      <td>80.00</td>\n",
              "    </tr>\n",
              "    <tr>\n",
              "      <th>3251</th>\n",
              "      <td>19919228</td>\n",
              "      <td>Nurunissa Devanti Waluyo</td>\n",
              "      <td>K11B</td>\n",
              "      <td>SAPPK</td>\n",
              "      <td>222</td>\n",
              "      <td>75</td>\n",
              "      <td>85</td>\n",
              "      <td>80</td>\n",
              "      <td>75</td>\n",
              "      <td>78.75</td>\n",
              "    </tr>\n",
              "    <tr>\n",
              "      <th>3252</th>\n",
              "      <td>19919229</td>\n",
              "      <td>Wynona Ariella</td>\n",
              "      <td>K09B</td>\n",
              "      <td>SAPPK</td>\n",
              "      <td>222</td>\n",
              "      <td>85</td>\n",
              "      <td>85</td>\n",
              "      <td>80</td>\n",
              "      <td>75</td>\n",
              "      <td>81.25</td>\n",
              "    </tr>\n",
              "    <tr>\n",
              "      <th>3253</th>\n",
              "      <td>19919230</td>\n",
              "      <td>Yacinta Mutiara H S</td>\n",
              "      <td>K10B</td>\n",
              "      <td>SAPPK</td>\n",
              "      <td>222</td>\n",
              "      <td>85</td>\n",
              "      <td>85</td>\n",
              "      <td>80</td>\n",
              "      <td>85</td>\n",
              "      <td>83.75</td>\n",
              "    </tr>\n",
              "    <tr>\n",
              "      <th>3254</th>\n",
              "      <td>19919231</td>\n",
              "      <td>Reinara Swasti Joelianto</td>\n",
              "      <td>K11B</td>\n",
              "      <td>SAPPK</td>\n",
              "      <td>222</td>\n",
              "      <td>60</td>\n",
              "      <td>85</td>\n",
              "      <td>80</td>\n",
              "      <td>75</td>\n",
              "      <td>75.00</td>\n",
              "    </tr>\n",
              "  </tbody>\n",
              "</table>\n",
              "<p>3255 rows × 10 columns</p>\n",
              "</div>"
            ],
            "text/plain": [
              "           NIM                      nama kelas  ... nilai_3  nilai_4  average\n",
              "0     16019001    Tiara Andrina Pratista  K01A  ...      80       85    82.50\n",
              "1     16019002        Dzikra Dhiyaa Rofa  K02A  ...      80       85    80.00\n",
              "2     16019003     Azizah Novia Yussanti  K03A  ...      80       85    81.25\n",
              "3     16019004       Qoid Abrori Syakuro  K04A  ...      75       85    78.75\n",
              "4     16019005     Cindy Aprilia Chandra  K05A  ...      80       85    80.00\n",
              "...        ...                       ...   ...  ...     ...      ...      ...\n",
              "3250  19919227             Aquila Jidapa  K10B  ...      80       70    80.00\n",
              "3251  19919228  Nurunissa Devanti Waluyo  K11B  ...      80       75    78.75\n",
              "3252  19919229            Wynona Ariella  K09B  ...      80       75    81.25\n",
              "3253  19919230       Yacinta Mutiara H S  K10B  ...      80       85    83.75\n",
              "3254  19919231  Reinara Swasti Joelianto  K11B  ...      80       75    75.00\n",
              "\n",
              "[3255 rows x 10 columns]"
            ]
          },
          "metadata": {
            "tags": []
          },
          "execution_count": 70
        }
      ]
    },
    {
      "cell_type": "code",
      "metadata": {
        "id": "9iC45yhoFE8v",
        "outputId": "cadd2725-a99a-410d-a76c-dbede4fb202f",
        "colab": {
          "base_uri": "https://localhost:8080/",
          "height": 287
        }
      },
      "source": [
        "stats_nilai=df.describe().drop([\"NIM\",\"shift\"],axis=1)\n",
        "stats_nilai"
      ],
      "execution_count": 71,
      "outputs": [
        {
          "output_type": "execute_result",
          "data": {
            "text/html": [
              "<div>\n",
              "<style scoped>\n",
              "    .dataframe tbody tr th:only-of-type {\n",
              "        vertical-align: middle;\n",
              "    }\n",
              "\n",
              "    .dataframe tbody tr th {\n",
              "        vertical-align: top;\n",
              "    }\n",
              "\n",
              "    .dataframe thead th {\n",
              "        text-align: right;\n",
              "    }\n",
              "</style>\n",
              "<table border=\"1\" class=\"dataframe\">\n",
              "  <thead>\n",
              "    <tr style=\"text-align: right;\">\n",
              "      <th></th>\n",
              "      <th>nilai_1</th>\n",
              "      <th>nilai_2</th>\n",
              "      <th>nilai_3</th>\n",
              "      <th>nilai_4</th>\n",
              "      <th>average</th>\n",
              "    </tr>\n",
              "  </thead>\n",
              "  <tbody>\n",
              "    <tr>\n",
              "      <th>count</th>\n",
              "      <td>3255.000000</td>\n",
              "      <td>3255.000000</td>\n",
              "      <td>3255.000000</td>\n",
              "      <td>3255.000000</td>\n",
              "      <td>3255.000000</td>\n",
              "    </tr>\n",
              "    <tr>\n",
              "      <th>mean</th>\n",
              "      <td>76.579109</td>\n",
              "      <td>79.297696</td>\n",
              "      <td>79.496160</td>\n",
              "      <td>79.600614</td>\n",
              "      <td>78.743395</td>\n",
              "    </tr>\n",
              "    <tr>\n",
              "      <th>std</th>\n",
              "      <td>8.584219</td>\n",
              "      <td>9.057464</td>\n",
              "      <td>9.692153</td>\n",
              "      <td>11.090381</td>\n",
              "      <td>6.087159</td>\n",
              "    </tr>\n",
              "    <tr>\n",
              "      <th>min</th>\n",
              "      <td>0.000000</td>\n",
              "      <td>0.000000</td>\n",
              "      <td>0.000000</td>\n",
              "      <td>0.000000</td>\n",
              "      <td>16.250000</td>\n",
              "    </tr>\n",
              "    <tr>\n",
              "      <th>25%</th>\n",
              "      <td>75.000000</td>\n",
              "      <td>80.000000</td>\n",
              "      <td>80.000000</td>\n",
              "      <td>80.000000</td>\n",
              "      <td>77.500000</td>\n",
              "    </tr>\n",
              "    <tr>\n",
              "      <th>50%</th>\n",
              "      <td>80.000000</td>\n",
              "      <td>80.000000</td>\n",
              "      <td>80.000000</td>\n",
              "      <td>80.000000</td>\n",
              "      <td>80.000000</td>\n",
              "    </tr>\n",
              "    <tr>\n",
              "      <th>75%</th>\n",
              "      <td>80.000000</td>\n",
              "      <td>85.000000</td>\n",
              "      <td>85.000000</td>\n",
              "      <td>85.000000</td>\n",
              "      <td>82.500000</td>\n",
              "    </tr>\n",
              "    <tr>\n",
              "      <th>max</th>\n",
              "      <td>85.000000</td>\n",
              "      <td>89.000000</td>\n",
              "      <td>85.000000</td>\n",
              "      <td>85.000000</td>\n",
              "      <td>85.000000</td>\n",
              "    </tr>\n",
              "  </tbody>\n",
              "</table>\n",
              "</div>"
            ],
            "text/plain": [
              "           nilai_1      nilai_2      nilai_3      nilai_4      average\n",
              "count  3255.000000  3255.000000  3255.000000  3255.000000  3255.000000\n",
              "mean     76.579109    79.297696    79.496160    79.600614    78.743395\n",
              "std       8.584219     9.057464     9.692153    11.090381     6.087159\n",
              "min       0.000000     0.000000     0.000000     0.000000    16.250000\n",
              "25%      75.000000    80.000000    80.000000    80.000000    77.500000\n",
              "50%      80.000000    80.000000    80.000000    80.000000    80.000000\n",
              "75%      80.000000    85.000000    85.000000    85.000000    82.500000\n",
              "max      85.000000    89.000000    85.000000    85.000000    85.000000"
            ]
          },
          "metadata": {
            "tags": []
          },
          "execution_count": 71
        }
      ]
    },
    {
      "cell_type": "code",
      "metadata": {
        "id": "GswxD1tnFE84",
        "outputId": "d3933696-fd7c-4256-a9de-6d5fd5ebafdb",
        "colab": {
          "base_uri": "https://localhost:8080/"
        }
      },
      "source": [
        "#Rata-rata per fakultas\n",
        "list_fak=set(df[\"fak\"])\n",
        "for i in list_fak:\n",
        "    temp_df=df[df[\"fak\"]==i]\n",
        "    temp_stats=temp_df.describe().drop([\"NIM\",\"shift\"],axis=1)\n",
        "    print(\"Summary fakultas\",i)\n",
        "    print(\"Range kelas :\",end='')\n",
        "    print((set(temp_df[\"kelas\"])))\n",
        "    print(\"Range shift :\",end='')\n",
        "    print((set(temp_df[\"shift\"])))\n",
        "    print(temp_stats)\n",
        "    print()"
      ],
      "execution_count": 72,
      "outputs": [
        {
          "output_type": "stream",
          "text": [
            "Summary fakultas SF\n",
            "Range kelas :{'K03B', 'K02B', 'K04B', 'K01B'}\n",
            "Range shift :{331, 311}\n",
            "          nilai_1     nilai_2     nilai_3     nilai_4     average\n",
            "count  159.000000  159.000000  159.000000  159.000000  159.000000\n",
            "mean    76.383648   78.050314   78.805031   77.641509   77.720126\n",
            "std      6.262000   10.371455    8.759427   10.430774    6.512729\n",
            "min     50.000000    0.000000    0.000000    0.000000   17.500000\n",
            "25%     75.000000   80.000000   77.500000   75.000000   76.250000\n",
            "50%     80.000000   80.000000   80.000000   80.000000   78.750000\n",
            "75%     80.000000   80.000000   85.000000   80.000000   80.000000\n",
            "max     85.000000   85.000000   85.000000   85.000000   85.000000\n",
            "\n",
            "Summary fakultas FMIPA\n",
            "Range kelas :{'K06A', 'K05A', 'K02A', 'K03A', 'K04A', 'K01A'}\n",
            "Range shift :{232, 211, 221, 231}\n",
            "          nilai_1     nilai_2     nilai_3     nilai_4     average\n",
            "count  432.000000  432.000000  432.000000  432.000000  432.000000\n",
            "mean    76.666667   79.490741   80.324074   80.208333   79.172454\n",
            "std      9.277871    6.801454    6.614094    9.306741    4.788394\n",
            "min      0.000000    0.000000    0.000000    0.000000   51.250000\n",
            "25%     75.000000   80.000000   80.000000   80.000000   77.500000\n",
            "50%     80.000000   80.000000   80.000000   80.000000   80.000000\n",
            "75%     80.000000   85.000000   85.000000   85.000000   82.500000\n",
            "max     85.000000   85.000000   85.000000   85.000000   85.000000\n",
            "\n",
            "Summary fakultas FTSL\n",
            "Range kelas :{'K22A', 'K40A', 'K24A', 'K21A', 'K25A', 'K23A'}\n",
            "Range shift :{112, 122, 131, 132}\n",
            "          nilai_1     nilai_2     nilai_3     nilai_4     average\n",
            "count  453.000000  453.000000  453.000000  453.000000  453.000000\n",
            "mean    76.843267   79.216336   78.443709   78.785872   78.322296\n",
            "std      7.805131    8.439897   10.441346   12.469629    6.165907\n",
            "min      0.000000    0.000000    0.000000    0.000000   37.500000\n",
            "25%     75.000000   80.000000   75.000000   80.000000   77.500000\n",
            "50%     80.000000   80.000000   80.000000   80.000000   80.000000\n",
            "75%     80.000000   85.000000   85.000000   85.000000   81.250000\n",
            "max     85.000000   85.000000   85.000000   85.000000   85.000000\n",
            "\n",
            "Summary fakultas FTI\n",
            "Range kelas :{'K30A', 'K29A', 'K27A', 'K28A', 'K26A'}\n",
            "Range shift :{432, 411, 421, 431}\n",
            "          nilai_1     nilai_2     nilai_3     nilai_4     average\n",
            "count  445.000000  445.000000  445.000000  445.000000  445.000000\n",
            "mean    76.078652   79.146067   80.078652   79.898876   78.800562\n",
            "std      8.579549    9.223880    8.969700   10.241504    5.998684\n",
            "min      0.000000    0.000000    0.000000    0.000000   20.000000\n",
            "25%     75.000000   75.000000   80.000000   80.000000   77.500000\n",
            "50%     80.000000   80.000000   80.000000   80.000000   80.000000\n",
            "75%     80.000000   85.000000   85.000000   85.000000   82.500000\n",
            "max     85.000000   85.000000   85.000000   85.000000   85.000000\n",
            "\n",
            "Summary fakultas FTTM\n",
            "Range kelas :{'K13A', 'K14A', 'K12A', 'K11A'}\n",
            "Range shift :{121, 131, 111}\n",
            "          nilai_1     nilai_2     nilai_3     nilai_4     average\n",
            "count  343.000000  343.000000  343.000000  343.000000  343.000000\n",
            "mean    75.451895   78.367347   78.717201   79.008746   77.886297\n",
            "std      9.319689   12.645147   11.733589   11.580253    7.219803\n",
            "min      0.000000    0.000000    0.000000    0.000000   16.250000\n",
            "25%     75.000000   80.000000   80.000000   80.000000   76.250000\n",
            "50%     75.000000   80.000000   80.000000   80.000000   80.000000\n",
            "75%     80.000000   85.000000   85.000000   85.000000   82.500000\n",
            "max     85.000000   85.000000   85.000000   85.000000   85.000000\n",
            "\n",
            "Summary fakultas FITB\n",
            "Range kelas :{'K09A', 'K08A', 'K10A', 'K07A'}\n",
            "Range shift :{212, 222}\n",
            "          nilai_1     nilai_2     nilai_3     nilai_4     average\n",
            "count  287.000000  287.000000  287.000000  287.000000  287.000000\n",
            "mean    77.630662   79.547038   78.641115   79.094077   78.728223\n",
            "std      6.726123    8.638245   11.769944   13.531168    5.691340\n",
            "min     50.000000    0.000000    0.000000    0.000000   55.000000\n",
            "25%     75.000000   80.000000   80.000000   80.000000   77.500000\n",
            "50%     80.000000   80.000000   80.000000   80.000000   80.000000\n",
            "75%     80.000000   85.000000   85.000000   85.000000   82.500000\n",
            "max     85.000000   85.000000   85.000000   85.000000   85.000000\n",
            "\n",
            "Summary fakultas SAPPK\n",
            "Range kelas :{'K10B', 'K11B', 'K09B'}\n",
            "Range shift :{232, 222, 231}\n",
            "          nilai_1     nilai_2     nilai_3     nilai_4     average\n",
            "count  180.000000  180.000000  180.000000  180.000000  180.000000\n",
            "mean    75.583333   78.805556   78.666667   79.333333   78.097222\n",
            "std      9.561255    9.920971   10.916135    9.893285    7.582709\n",
            "min      0.000000    0.000000    0.000000    0.000000   17.500000\n",
            "25%     75.000000   75.000000   75.000000   80.000000   77.500000\n",
            "50%     75.000000   80.000000   80.000000   80.000000   79.375000\n",
            "75%     80.000000   85.000000   85.000000   85.000000   81.250000\n",
            "max     85.000000   85.000000   85.000000   85.000000   85.000000\n",
            "\n",
            "Summary fakultas STEI\n",
            "Range kelas :{'K20A', 'K19A', 'K16A', 'K18A', 'K15A', 'K17A'}\n",
            "Range shift :{312, 322, 331, 332}\n",
            "          nilai_1     nilai_2     nilai_3     nilai_4     average\n",
            "count  522.000000  522.000000  522.000000  522.000000  522.000000\n",
            "mean    77.203065   79.626437   80.603448   80.747126   79.545019\n",
            "std      9.331440    8.149533    7.742858    9.263536    5.239823\n",
            "min      0.000000    0.000000    0.000000    0.000000   47.500000\n",
            "25%     75.000000   80.000000   80.000000   80.000000   78.750000\n",
            "50%     80.000000   80.000000   80.000000   80.000000   81.250000\n",
            "75%     80.000000   85.000000   85.000000   85.000000   82.500000\n",
            "max     85.000000   85.000000   85.000000   85.000000   85.000000\n",
            "\n",
            "Summary fakultas FTMD\n",
            "Range kelas :{'K08B', 'K05B', 'K06B', 'K07B'}\n",
            "Range shift :{432, 412, 422}\n",
            "          nilai_1     nilai_2     nilai_3     nilai_4     average\n",
            "count  298.000000  298.000000  298.000000  298.000000  298.000000\n",
            "mean    76.476510   79.647651   79.496644   79.479866   78.775168\n",
            "std      9.284203    9.372214   11.300084   13.013122    6.841105\n",
            "min      0.000000    0.000000    0.000000    0.000000   32.500000\n",
            "25%     75.000000   80.000000   80.000000   80.000000   77.500000\n",
            "50%     80.000000   80.000000   80.000000   80.000000   80.000000\n",
            "75%     80.000000   85.000000   85.000000   85.000000   82.500000\n",
            "max     85.000000   85.000000   85.000000   85.000000   85.000000\n",
            "\n",
            "Summary fakultas SITH-Sains\n",
            "Range kelas :{'K03B', 'K02B', 'K04B', 'K01B'}\n",
            "Range shift :{321}\n",
            "          nilai_1     nilai_2     nilai_3     nilai_4     average\n",
            "count  136.000000  136.000000  136.000000  136.000000  136.000000\n",
            "mean    77.058824   81.352941   79.889706   80.477941   79.694853\n",
            "std      6.069675    5.713570    8.723466   10.884557    5.528268\n",
            "min     55.000000   50.000000    0.000000    0.000000   31.250000\n",
            "25%     75.000000   80.000000   80.000000   80.000000   78.750000\n",
            "50%     80.000000   80.000000   80.000000   80.000000   80.000000\n",
            "75%     80.000000   85.000000   85.000000   85.000000   82.500000\n",
            "max     85.000000   89.000000   85.000000   85.000000   85.000000\n",
            "\n"
          ],
          "name": "stdout"
        }
      ]
    },
    {
      "cell_type": "code",
      "metadata": {
        "id": "cgmJoX44FE8_",
        "outputId": "c97cb7bb-7cf5-4c42-ee01-0061ae7b7867",
        "colab": {
          "base_uri": "https://localhost:8080/",
          "height": 298
        }
      },
      "source": [
        "#Visualisasi Data\n",
        "import matplotlib.pyplot as plt\n",
        "import seaborn as sns\n",
        "plt.title(\"Boxplot Nilai Praktikum Fidas 1A 2019\")\n",
        "df.boxplot(['nilai_1','nilai_2','nilai_3','nilai_4',\"average\"], figsize=(16, 16))"
      ],
      "execution_count": 73,
      "outputs": [
        {
          "output_type": "execute_result",
          "data": {
            "text/plain": [
              "<matplotlib.axes._subplots.AxesSubplot at 0x7f563386d8d0>"
            ]
          },
          "metadata": {
            "tags": []
          },
          "execution_count": 73
        },
        {
          "output_type": "display_data",
          "data": {
            "image/png": "[encoded data removed]",
            "text/plain": [
              "<Figure size 432x288 with 1 Axes>"
            ]
          },
          "metadata": {
            "tags": [],
            "needs_background": "light"
          }
        }
      ]
    },
    {
      "cell_type": "code",
      "metadata": {
        "id": "Ssi1GLXCFE9G",
        "outputId": "46d173a8-d46e-4464-8d0e-aec30924a091",
        "colab": {
          "base_uri": "https://localhost:8080/",
          "height": 281
        }
      },
      "source": [
        "# Insight: Akan diuji apakah waktu praktikum fisika dasar (pagi,siang,sore) \n",
        "# yang dapat dilihat dari kode shift (digit ke dua) berpengaruh dengan\n",
        "# nilai rata-rata praktikum mahasiswa.\n",
        "# Untuk menguji hal tersebut, digunakan hipotesis berikut tingkat signifikansi 5%\n",
        "# H0: Waktu praktikum tidak mempengaruhi rata-rata nilai rata-rata praktikum mahasiswa (miu_1=miu_2=miu_3)\n",
        "# H1: Waktu praktikum mempengaruhi rata-rata nilai rata-rata praktikum mahasiswa \n",
        "\n",
        "# Mengubah kode shift menjadi 1 untuk pagi, 2 untuk siang, 3 untuk sore\n",
        "df[\"shift\"]=df[\"shift\"].transform(lambda x:str(x)[1])\n",
        "\n",
        "# Membuat list nilai per waktu\n",
        "pagi=df[df[\"shift\"]==\"1\"][\"average\"]\n",
        "siang=df[df[\"shift\"]==\"2\"][\"average\"]\n",
        "sore=df[df[\"shift\"]==\"3\"][\"average\"]\n",
        "\n",
        "# Membuat dataframe nilai per waktu\n",
        "dat={}\n",
        "dat[\"pagi\"]=pagi\n",
        "dat[\"siang\"]=siang\n",
        "dat[\"sore\"]=sore\n",
        "dat=pd.DataFrame(dat)\n",
        "\n",
        "# Visualisasi data nilai rata-rata per waktu\n",
        "plt.title(\"Boxplot Nilai rata-rata Praktikum Fidas 1A 2019 berdasarkan waktu\")\n",
        "ax = sns.boxplot(data=dat)\n",
        "plt.show()"
      ],
      "execution_count": 74,
      "outputs": [
        {
          "output_type": "display_data",
          "data": {
            "image/png": "[encoded data removed]",
            "text/plain": [
              "<Figure size 432x288 with 1 Axes>"
            ]
          },
          "metadata": {
            "tags": [],
            "needs_background": "light"
          }
        }
      ]
    },
    {
      "cell_type": "code",
      "metadata": {
        "id": "L-o74LPaLF4r",
        "outputId": "d6775c30-c984-4bf7-a9a9-c1a10ad42329",
        "colab": {
          "base_uri": "https://localhost:8080/",
          "height": 808
        }
      },
      "source": [
        "plt.hist(pagi,bins=55)\n",
        "plt.gca().set(title='Histogram nilai shift pagi', ylabel='Frequency');\n",
        "plt.show()\n",
        "plt.hist(siang,bins=55)\n",
        "plt.gca().set(title='Histogram nilai shift siang', ylabel='Frequency');\n",
        "plt.show()\n",
        "plt.hist(sore,bins=55)\n",
        "plt.gca().set(title='Histogram nilai shift sore', ylabel='Frequency');\n",
        "plt.show()"
      ],
      "execution_count": 75,
      "outputs": [
        {
          "output_type": "display_data",
          "data": {
            "image/png": "[encoded data removed]",
            "text/plain": [
              "<Figure size 432x288 with 1 Axes>"
            ]
          },
          "metadata": {
            "tags": [],
            "needs_background": "light"
          }
        },
        {
          "output_type": "display_data",
          "data": {
            "image/png": "[encoded data removed]",
            "text/plain": [
              "<Figure size 432x288 with 1 Axes>"
            ]
          },
          "metadata": {
            "tags": [],
            "needs_background": "light"
          }
        },
        {
          "output_type": "display_data",
          "data": {
            "image/png": "[encoded data removed]",
            "text/plain": [
              "<Figure size 432x288 with 1 Axes>"
            ]
          },
          "metadata": {
            "tags": [],
            "needs_background": "light"
          }
        }
      ]
    },
    {
      "cell_type": "code",
      "metadata": {
        "id": "dZinkbqiJwXK",
        "outputId": "446cf7d5-0843-49f6-d17d-048d4a0d7ae3",
        "colab": {
          "base_uri": "https://localhost:8080/"
        }
      },
      "source": [
        "# Pertama, kita coba menggunakan anova\n",
        "# Asumsi yang harus dipenuhi data agar anova bisa terjadi\n",
        "# 1. Populasi yang akan diuji berdistribusi normal\n",
        "# Uji normalitas\n",
        "from scipy import stats\n",
        "print(\"Uji Normalitas shift pagi\",stats.normaltest(pagi))\n",
        "print(\"Uji Normalitas shift siang\",stats.normaltest(siang))\n",
        "print(\"Uji Normalitas shift sore\",stats.normaltest(sore))\n",
        "print(\"Karena p-value semuanya sangat kecil, maka data dianggap tidak terdistribusi normal\")"
      ],
      "execution_count": 77,
      "outputs": [
        {
          "output_type": "stream",
          "text": [
            "Uji Normalitas shift pagi NormaltestResult(statistic=694.8861941978914, pvalue=1.2805016857764595e-151)\n",
            "Uji Normalitas shift siang NormaltestResult(statistic=1092.4407114580795, pvalue=6.018851157854266e-238)\n",
            "Uji Normalitas shift sore NormaltestResult(statistic=1116.938844639783, pvalue=2.8827804938693235e-243)\n",
            "Karena p-value semuanya sangat kecil, maka data dianggap tidak terdistribusi normal\n"
          ],
          "name": "stdout"
        }
      ]
    },
    {
      "cell_type": "code",
      "metadata": {
        "id": "pA-yZymxJiZW",
        "outputId": "acbb4dbd-1c2d-4ee4-e8f8-c23b4769009f",
        "colab": {
          "base_uri": "https://localhost:8080/",
          "height": 287
        }
      },
      "source": [
        "# 2. Variansi dari populasi tersebut sama\n",
        "anova_stats=dat.describe()\n",
        "anova_stats\n",
        "# Dapat dilihat bahwa variansi tiap populasi berbeda\n",
        "\n",
        "# 3. Populasi tidak berhubungan satu dengan yang lainnya (saling bebas)\n",
        "# Data diasumsikan memenuhi syarat ini\n",
        "\n",
        "# Karena data tidak memnuhi syarat 1 dan 2, maka ANOVA tidak dapat digunakan. \n"
      ],
      "execution_count": 78,
      "outputs": [
        {
          "output_type": "execute_result",
          "data": {
            "text/html": [
              "<div>\n",
              "<style scoped>\n",
              "    .dataframe tbody tr th:only-of-type {\n",
              "        vertical-align: middle;\n",
              "    }\n",
              "\n",
              "    .dataframe tbody tr th {\n",
              "        vertical-align: top;\n",
              "    }\n",
              "\n",
              "    .dataframe thead th {\n",
              "        text-align: right;\n",
              "    }\n",
              "</style>\n",
              "<table border=\"1\" class=\"dataframe\">\n",
              "  <thead>\n",
              "    <tr style=\"text-align: right;\">\n",
              "      <th></th>\n",
              "      <th>pagi</th>\n",
              "      <th>siang</th>\n",
              "      <th>sore</th>\n",
              "    </tr>\n",
              "  </thead>\n",
              "  <tbody>\n",
              "    <tr>\n",
              "      <th>count</th>\n",
              "      <td>1083.000000</td>\n",
              "      <td>1074.000000</td>\n",
              "      <td>1098.000000</td>\n",
              "    </tr>\n",
              "    <tr>\n",
              "      <th>mean</th>\n",
              "      <td>77.545014</td>\n",
              "      <td>79.741387</td>\n",
              "      <td>78.949226</td>\n",
              "    </tr>\n",
              "    <tr>\n",
              "      <th>std</th>\n",
              "      <td>6.923674</td>\n",
              "      <td>4.966639</td>\n",
              "      <td>6.005485</td>\n",
              "    </tr>\n",
              "    <tr>\n",
              "      <th>min</th>\n",
              "      <td>17.500000</td>\n",
              "      <td>21.250000</td>\n",
              "      <td>16.250000</td>\n",
              "    </tr>\n",
              "    <tr>\n",
              "      <th>25%</th>\n",
              "      <td>76.250000</td>\n",
              "      <td>78.750000</td>\n",
              "      <td>77.500000</td>\n",
              "    </tr>\n",
              "    <tr>\n",
              "      <th>50%</th>\n",
              "      <td>80.000000</td>\n",
              "      <td>81.250000</td>\n",
              "      <td>80.000000</td>\n",
              "    </tr>\n",
              "    <tr>\n",
              "      <th>75%</th>\n",
              "      <td>81.250000</td>\n",
              "      <td>82.500000</td>\n",
              "      <td>82.500000</td>\n",
              "    </tr>\n",
              "    <tr>\n",
              "      <th>max</th>\n",
              "      <td>85.000000</td>\n",
              "      <td>85.000000</td>\n",
              "      <td>85.000000</td>\n",
              "    </tr>\n",
              "  </tbody>\n",
              "</table>\n",
              "</div>"
            ],
            "text/plain": [
              "              pagi        siang         sore\n",
              "count  1083.000000  1074.000000  1098.000000\n",
              "mean     77.545014    79.741387    78.949226\n",
              "std       6.923674     4.966639     6.005485\n",
              "min      17.500000    21.250000    16.250000\n",
              "25%      76.250000    78.750000    77.500000\n",
              "50%      80.000000    81.250000    80.000000\n",
              "75%      81.250000    82.500000    82.500000\n",
              "max      85.000000    85.000000    85.000000"
            ]
          },
          "metadata": {
            "tags": []
          },
          "execution_count": 78
        }
      ]
    },
    {
      "cell_type": "code",
      "metadata": {
        "id": "WuPsmG04N2lS",
        "outputId": "cf2a922c-9b3a-402b-a598-ac30c43716c0",
        "colab": {
          "base_uri": "https://localhost:8080/"
        }
      },
      "source": [
        "# Sebagai gantinya, akan digunakan Kruskal-Wallis H-test (uji non parametrik pengganti ANOVA one way)\n",
        "# Untuk menguji hal tersebut, digunakan hipotesis berikut tingkat signifikansi 5%\n",
        "# H0: Waktu praktikum tidak mempengaruhi median nilai rata-rata praktikum mahasiswa / distribusi sampel sama semua\n",
        "# H1: Waktu praktikum mempengaruhi median nilai rata-rata praktikum mahasiswa / distribusi sampel ada yang berbeda\n",
        "\n",
        "from scipy.stats import kruskal\n",
        "stat, p = kruskal(pagi, siang, sore)\n",
        "print('Statistics=%.3f, p=%f' % (stat, p))\n",
        "\n",
        "# interpretasi hasil\n",
        "alpha = 0.05\n",
        "if p > alpha:\n",
        "\tprint('Distribusi nilai per shift sama (H0 gagal ditolak)')\n",
        "else:\n",
        "\tprint('Distribusi nilai per shift berbeda (H0 ditolak)')"
      ],
      "execution_count": 79,
      "outputs": [
        {
          "output_type": "stream",
          "text": [
            "Statistics=86.024, p=0.000000\n",
            "Distribusi nilai per shift berbeda (H0 ditolak)\n"
          ],
          "name": "stdout"
        }
      ]
    },
    {
      "cell_type": "code",
      "metadata": {
        "id": "wSNaAcSKPSm1",
        "outputId": "311bc9ce-cf31-4cbc-db17-c486391c4924",
        "colab": {
          "base_uri": "https://localhost:8080/"
        }
      },
      "source": [
        "# Karena distribusi nilai per shift berbeda, maka akan digunakan Mann-Whitney U Test untuk menguji kesamaan 2 distribusi nilai per shift\n",
        "from scipy.stats import mannwhitneyu\n",
        "def check(data1,data2,alpha=0.05):\n",
        "  stat, p = mannwhitneyu(data1, data2)\n",
        "  print('Statistics=%.3f, p=%f' % (stat, p))\n",
        "  # interpret\n",
        "  if p > alpha:\n",
        "\t  print('Distribusi nilai per shift sama (H0 gagal ditolak)')\n",
        "  else:\n",
        "\t  print('Distribusi nilai per shift berbeda (H0 ditolak)')\n",
        "# 1. Pagi dan siang\n",
        "print(\"Mann-Whiteney U Test untuk pagi dan siang\")\n",
        "check(pagi,siang)\n",
        "# 2. Pagi dan sore\n",
        "print(\"Mann-Whiteney U Test untuk pagi dan sore\")\n",
        "check(pagi,sore)\n",
        "# 3. Sore dan siang\n",
        "print(\"Mann-Whiteney U Test untuk sore dan siang\")\n",
        "check(sore,siang)"
      ],
      "execution_count": 80,
      "outputs": [
        {
          "output_type": "stream",
          "text": [
            "Mann-Whiteney U Test untuk pagi dan siang\n",
            "Statistics=449819.000, p=0.000000\n",
            "Distribusi nilai per shift berbeda (H0 ditolak)\n",
            "Mann-Whiteney U Test untuk pagi dan sore\n",
            "Statistics=515851.000, p=0.000000\n",
            "Distribusi nilai per shift berbeda (H0 ditolak)\n",
            "Mann-Whiteney U Test untuk sore dan siang\n",
            "Statistics=531432.500, p=0.000029\n",
            "Distribusi nilai per shift berbeda (H0 ditolak)\n"
          ],
          "name": "stdout"
        }
      ]
    },
    {
      "cell_type": "code",
      "metadata": {
        "id": "IT6I8s8jRAPz"
      },
      "source": [
        "#Kesimpulan: Waktu praktikum fisika dasar ITB (pagi,siang,sore) mempengaruhi distribusi nilai rata-rata praktikum mahasiswa ."
      ],
      "execution_count": null,
      "outputs": []
    }
  ]
}
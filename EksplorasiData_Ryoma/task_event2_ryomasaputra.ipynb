{
 "cells": [
  {
   "cell_type": "code",
   "execution_count": 1,
   "metadata": {},
   "outputs": [],
   "source": [
    "# Nama: Anak Agung Ryoma Saputra\n",
    "# NIM: 16520381\n",
    "# Asal Universitas: Institut Teknologi Bandung\n",
    "# Tanggal: 15 Oktober 2020\n",
    "# Sumber data set: takemeout"
   ]
  },
  {
   "cell_type": "code",
   "execution_count": 2,
   "metadata": {},
   "outputs": [],
   "source": [
    "import pandas as pd\n",
    "from sklearn.neighbors import NearestNeighbors\n",
    "import pickle\n",
    "df = pd.read_csv(\"C:\\\\Users\\\\ryoma\\\\Downloads\\\\takemeout.csv\")"
   ]
  },
  {
   "cell_type": "code",
   "execution_count": 3,
   "metadata": {
    "scrolled": true
   },
   "outputs": [
    {
     "data": {
      "text/html": [
       "<div>\n",
       "<style scoped>\n",
       "    .dataframe tbody tr th:only-of-type {\n",
       "        vertical-align: middle;\n",
       "    }\n",
       "\n",
       "    .dataframe tbody tr th {\n",
       "        vertical-align: top;\n",
       "    }\n",
       "\n",
       "    .dataframe thead th {\n",
       "        text-align: right;\n",
       "    }\n",
       "</style>\n",
       "<table border=\"1\" class=\"dataframe\">\n",
       "  <thead>\n",
       "    <tr style=\"text-align: right;\">\n",
       "      <th></th>\n",
       "      <th>Timestamp</th>\n",
       "      <th>Siapa nama kamu?</th>\n",
       "      <th>Cewek atau cowok nih?</th>\n",
       "      <th>Seberapa penting quality time bareng calon pacar untuk kamu?</th>\n",
       "      <th>Seberapa penting physical touch sama calon pacar untuk kamu?</th>\n",
       "      <th>Seberapa penting word of affirmation dari calon pacar untuk kamu?</th>\n",
       "      <th>Seberapa penting dapet kado dari calon pacar untuk kamu?</th>\n",
       "      <th>Seberapa penting bantuan dari calon pacar untuk kamu?</th>\n",
       "    </tr>\n",
       "  </thead>\n",
       "  <tbody>\n",
       "    <tr>\n",
       "      <th>0</th>\n",
       "      <td>2020/10/31 3:39:25 PM GMT+7</td>\n",
       "      <td>A**************</td>\n",
       "      <td>Cowok</td>\n",
       "      <td>5</td>\n",
       "      <td>5</td>\n",
       "      <td>4</td>\n",
       "      <td>1</td>\n",
       "      <td>3</td>\n",
       "    </tr>\n",
       "    <tr>\n",
       "      <th>1</th>\n",
       "      <td>2020/10/31 3:39:36 PM GMT+7</td>\n",
       "      <td>L****</td>\n",
       "      <td>Cewek</td>\n",
       "      <td>5</td>\n",
       "      <td>5</td>\n",
       "      <td>3</td>\n",
       "      <td>2</td>\n",
       "      <td>2</td>\n",
       "    </tr>\n",
       "    <tr>\n",
       "      <th>2</th>\n",
       "      <td>2020/10/31 3:39:38 PM GMT+7</td>\n",
       "      <td>Y***********</td>\n",
       "      <td>Cowok</td>\n",
       "      <td>4</td>\n",
       "      <td>3</td>\n",
       "      <td>4</td>\n",
       "      <td>4</td>\n",
       "      <td>4</td>\n",
       "    </tr>\n",
       "    <tr>\n",
       "      <th>3</th>\n",
       "      <td>2020/10/31 3:39:42 PM GMT+7</td>\n",
       "      <td>a***</td>\n",
       "      <td>Cowok</td>\n",
       "      <td>5</td>\n",
       "      <td>5</td>\n",
       "      <td>5</td>\n",
       "      <td>2</td>\n",
       "      <td>3</td>\n",
       "    </tr>\n",
       "    <tr>\n",
       "      <th>4</th>\n",
       "      <td>2020/10/31 3:39:43 PM GMT+7</td>\n",
       "      <td>B****</td>\n",
       "      <td>Cowok</td>\n",
       "      <td>5</td>\n",
       "      <td>5</td>\n",
       "      <td>5</td>\n",
       "      <td>2</td>\n",
       "      <td>4</td>\n",
       "    </tr>\n",
       "  </tbody>\n",
       "</table>\n",
       "</div>"
      ],
      "text/plain": [
       "                     Timestamp Siapa nama kamu? Cewek atau cowok nih?  \\\n",
       "0  2020/10/31 3:39:25 PM GMT+7  A**************                 Cowok   \n",
       "1  2020/10/31 3:39:36 PM GMT+7            L****                 Cewek   \n",
       "2  2020/10/31 3:39:38 PM GMT+7     Y***********                 Cowok   \n",
       "3  2020/10/31 3:39:42 PM GMT+7             a***                 Cowok   \n",
       "4  2020/10/31 3:39:43 PM GMT+7            B****                 Cowok   \n",
       "\n",
       "   Seberapa penting quality time bareng calon pacar untuk kamu?  \\\n",
       "0                                                  5              \n",
       "1                                                  5              \n",
       "2                                                  4              \n",
       "3                                                  5              \n",
       "4                                                  5              \n",
       "\n",
       "   Seberapa penting physical touch sama calon pacar untuk kamu?  \\\n",
       "0                                                  5              \n",
       "1                                                  5              \n",
       "2                                                  3              \n",
       "3                                                  5              \n",
       "4                                                  5              \n",
       "\n",
       "   Seberapa penting word of affirmation dari calon pacar untuk kamu?  \\\n",
       "0                                                  4                   \n",
       "1                                                  3                   \n",
       "2                                                  4                   \n",
       "3                                                  5                   \n",
       "4                                                  5                   \n",
       "\n",
       "   Seberapa penting dapet kado dari calon pacar untuk kamu?  \\\n",
       "0                                                  1          \n",
       "1                                                  2          \n",
       "2                                                  4          \n",
       "3                                                  2          \n",
       "4                                                  2          \n",
       "\n",
       "   Seberapa penting bantuan dari calon pacar untuk kamu?  \n",
       "0                                                  3      \n",
       "1                                                  2      \n",
       "2                                                  4      \n",
       "3                                                  3      \n",
       "4                                                  4      "
      ]
     },
     "execution_count": 3,
     "metadata": {},
     "output_type": "execute_result"
    }
   ],
   "source": [
    "df.head()"
   ]
  },
  {
   "cell_type": "markdown",
   "metadata": {},
   "source": [
    "# Data Preprocessing"
   ]
  },
  {
   "cell_type": "code",
   "execution_count": 4,
   "metadata": {},
   "outputs": [],
   "source": [
    "df = df.iloc[:, 1:]"
   ]
  },
  {
   "cell_type": "code",
   "execution_count": 5,
   "metadata": {},
   "outputs": [
    {
     "data": {
      "text/html": [
       "<div>\n",
       "<style scoped>\n",
       "    .dataframe tbody tr th:only-of-type {\n",
       "        vertical-align: middle;\n",
       "    }\n",
       "\n",
       "    .dataframe tbody tr th {\n",
       "        vertical-align: top;\n",
       "    }\n",
       "\n",
       "    .dataframe thead th {\n",
       "        text-align: right;\n",
       "    }\n",
       "</style>\n",
       "<table border=\"1\" class=\"dataframe\">\n",
       "  <thead>\n",
       "    <tr style=\"text-align: right;\">\n",
       "      <th></th>\n",
       "      <th>Siapa nama kamu?</th>\n",
       "      <th>Cewek atau cowok nih?</th>\n",
       "      <th>Seberapa penting quality time bareng calon pacar untuk kamu?</th>\n",
       "      <th>Seberapa penting physical touch sama calon pacar untuk kamu?</th>\n",
       "      <th>Seberapa penting word of affirmation dari calon pacar untuk kamu?</th>\n",
       "      <th>Seberapa penting dapet kado dari calon pacar untuk kamu?</th>\n",
       "      <th>Seberapa penting bantuan dari calon pacar untuk kamu?</th>\n",
       "    </tr>\n",
       "  </thead>\n",
       "  <tbody>\n",
       "    <tr>\n",
       "      <th>0</th>\n",
       "      <td>A**************</td>\n",
       "      <td>Cowok</td>\n",
       "      <td>5</td>\n",
       "      <td>5</td>\n",
       "      <td>4</td>\n",
       "      <td>1</td>\n",
       "      <td>3</td>\n",
       "    </tr>\n",
       "    <tr>\n",
       "      <th>1</th>\n",
       "      <td>L****</td>\n",
       "      <td>Cewek</td>\n",
       "      <td>5</td>\n",
       "      <td>5</td>\n",
       "      <td>3</td>\n",
       "      <td>2</td>\n",
       "      <td>2</td>\n",
       "    </tr>\n",
       "    <tr>\n",
       "      <th>2</th>\n",
       "      <td>Y***********</td>\n",
       "      <td>Cowok</td>\n",
       "      <td>4</td>\n",
       "      <td>3</td>\n",
       "      <td>4</td>\n",
       "      <td>4</td>\n",
       "      <td>4</td>\n",
       "    </tr>\n",
       "    <tr>\n",
       "      <th>3</th>\n",
       "      <td>a***</td>\n",
       "      <td>Cowok</td>\n",
       "      <td>5</td>\n",
       "      <td>5</td>\n",
       "      <td>5</td>\n",
       "      <td>2</td>\n",
       "      <td>3</td>\n",
       "    </tr>\n",
       "    <tr>\n",
       "      <th>4</th>\n",
       "      <td>B****</td>\n",
       "      <td>Cowok</td>\n",
       "      <td>5</td>\n",
       "      <td>5</td>\n",
       "      <td>5</td>\n",
       "      <td>2</td>\n",
       "      <td>4</td>\n",
       "    </tr>\n",
       "  </tbody>\n",
       "</table>\n",
       "</div>"
      ],
      "text/plain": [
       "  Siapa nama kamu? Cewek atau cowok nih?  \\\n",
       "0  A**************                 Cowok   \n",
       "1            L****                 Cewek   \n",
       "2     Y***********                 Cowok   \n",
       "3             a***                 Cowok   \n",
       "4            B****                 Cowok   \n",
       "\n",
       "   Seberapa penting quality time bareng calon pacar untuk kamu?  \\\n",
       "0                                                  5              \n",
       "1                                                  5              \n",
       "2                                                  4              \n",
       "3                                                  5              \n",
       "4                                                  5              \n",
       "\n",
       "   Seberapa penting physical touch sama calon pacar untuk kamu?  \\\n",
       "0                                                  5              \n",
       "1                                                  5              \n",
       "2                                                  3              \n",
       "3                                                  5              \n",
       "4                                                  5              \n",
       "\n",
       "   Seberapa penting word of affirmation dari calon pacar untuk kamu?  \\\n",
       "0                                                  4                   \n",
       "1                                                  3                   \n",
       "2                                                  4                   \n",
       "3                                                  5                   \n",
       "4                                                  5                   \n",
       "\n",
       "   Seberapa penting dapet kado dari calon pacar untuk kamu?  \\\n",
       "0                                                  1          \n",
       "1                                                  2          \n",
       "2                                                  4          \n",
       "3                                                  2          \n",
       "4                                                  2          \n",
       "\n",
       "   Seberapa penting bantuan dari calon pacar untuk kamu?  \n",
       "0                                                  3      \n",
       "1                                                  2      \n",
       "2                                                  4      \n",
       "3                                                  3      \n",
       "4                                                  4      "
      ]
     },
     "execution_count": 5,
     "metadata": {},
     "output_type": "execute_result"
    }
   ],
   "source": [
    "df.head()"
   ]
  },
  {
   "cell_type": "code",
   "execution_count": 6,
   "metadata": {},
   "outputs": [],
   "source": [
    "df.columns = [\"nama\", \"gender\", \"kualitas\", \"fisik\", \"kata\", \"kado\", \"bantuan\"]"
   ]
  },
  {
   "cell_type": "code",
   "execution_count": 7,
   "metadata": {},
   "outputs": [
    {
     "data": {
      "text/html": [
       "<div>\n",
       "<style scoped>\n",
       "    .dataframe tbody tr th:only-of-type {\n",
       "        vertical-align: middle;\n",
       "    }\n",
       "\n",
       "    .dataframe tbody tr th {\n",
       "        vertical-align: top;\n",
       "    }\n",
       "\n",
       "    .dataframe thead th {\n",
       "        text-align: right;\n",
       "    }\n",
       "</style>\n",
       "<table border=\"1\" class=\"dataframe\">\n",
       "  <thead>\n",
       "    <tr style=\"text-align: right;\">\n",
       "      <th></th>\n",
       "      <th>nama</th>\n",
       "      <th>gender</th>\n",
       "      <th>kualitas</th>\n",
       "      <th>fisik</th>\n",
       "      <th>kata</th>\n",
       "      <th>kado</th>\n",
       "      <th>bantuan</th>\n",
       "    </tr>\n",
       "  </thead>\n",
       "  <tbody>\n",
       "    <tr>\n",
       "      <th>0</th>\n",
       "      <td>A**************</td>\n",
       "      <td>Cowok</td>\n",
       "      <td>5</td>\n",
       "      <td>5</td>\n",
       "      <td>4</td>\n",
       "      <td>1</td>\n",
       "      <td>3</td>\n",
       "    </tr>\n",
       "    <tr>\n",
       "      <th>1</th>\n",
       "      <td>L****</td>\n",
       "      <td>Cewek</td>\n",
       "      <td>5</td>\n",
       "      <td>5</td>\n",
       "      <td>3</td>\n",
       "      <td>2</td>\n",
       "      <td>2</td>\n",
       "    </tr>\n",
       "    <tr>\n",
       "      <th>2</th>\n",
       "      <td>Y***********</td>\n",
       "      <td>Cowok</td>\n",
       "      <td>4</td>\n",
       "      <td>3</td>\n",
       "      <td>4</td>\n",
       "      <td>4</td>\n",
       "      <td>4</td>\n",
       "    </tr>\n",
       "    <tr>\n",
       "      <th>3</th>\n",
       "      <td>a***</td>\n",
       "      <td>Cowok</td>\n",
       "      <td>5</td>\n",
       "      <td>5</td>\n",
       "      <td>5</td>\n",
       "      <td>2</td>\n",
       "      <td>3</td>\n",
       "    </tr>\n",
       "    <tr>\n",
       "      <th>4</th>\n",
       "      <td>B****</td>\n",
       "      <td>Cowok</td>\n",
       "      <td>5</td>\n",
       "      <td>5</td>\n",
       "      <td>5</td>\n",
       "      <td>2</td>\n",
       "      <td>4</td>\n",
       "    </tr>\n",
       "  </tbody>\n",
       "</table>\n",
       "</div>"
      ],
      "text/plain": [
       "              nama gender  kualitas  fisik  kata  kado  bantuan\n",
       "0  A**************  Cowok         5      5     4     1        3\n",
       "1            L****  Cewek         5      5     3     2        2\n",
       "2     Y***********  Cowok         4      3     4     4        4\n",
       "3             a***  Cowok         5      5     5     2        3\n",
       "4            B****  Cowok         5      5     5     2        4"
      ]
     },
     "execution_count": 7,
     "metadata": {},
     "output_type": "execute_result"
    }
   ],
   "source": [
    "df.head()"
   ]
  },
  {
   "cell_type": "code",
   "execution_count": 8,
   "metadata": {},
   "outputs": [],
   "source": [
    "df[\"gender\"] = df[\"gender\"].apply(lambda x: 0 if x == \"Cowok\" else 1)"
   ]
  },
  {
   "cell_type": "code",
   "execution_count": 9,
   "metadata": {},
   "outputs": [
    {
     "data": {
      "text/html": [
       "<div>\n",
       "<style scoped>\n",
       "    .dataframe tbody tr th:only-of-type {\n",
       "        vertical-align: middle;\n",
       "    }\n",
       "\n",
       "    .dataframe tbody tr th {\n",
       "        vertical-align: top;\n",
       "    }\n",
       "\n",
       "    .dataframe thead th {\n",
       "        text-align: right;\n",
       "    }\n",
       "</style>\n",
       "<table border=\"1\" class=\"dataframe\">\n",
       "  <thead>\n",
       "    <tr style=\"text-align: right;\">\n",
       "      <th></th>\n",
       "      <th>nama</th>\n",
       "      <th>gender</th>\n",
       "      <th>kualitas</th>\n",
       "      <th>fisik</th>\n",
       "      <th>kata</th>\n",
       "      <th>kado</th>\n",
       "      <th>bantuan</th>\n",
       "    </tr>\n",
       "  </thead>\n",
       "  <tbody>\n",
       "    <tr>\n",
       "      <th>0</th>\n",
       "      <td>A**************</td>\n",
       "      <td>0</td>\n",
       "      <td>5</td>\n",
       "      <td>5</td>\n",
       "      <td>4</td>\n",
       "      <td>1</td>\n",
       "      <td>3</td>\n",
       "    </tr>\n",
       "    <tr>\n",
       "      <th>1</th>\n",
       "      <td>L****</td>\n",
       "      <td>1</td>\n",
       "      <td>5</td>\n",
       "      <td>5</td>\n",
       "      <td>3</td>\n",
       "      <td>2</td>\n",
       "      <td>2</td>\n",
       "    </tr>\n",
       "    <tr>\n",
       "      <th>2</th>\n",
       "      <td>Y***********</td>\n",
       "      <td>0</td>\n",
       "      <td>4</td>\n",
       "      <td>3</td>\n",
       "      <td>4</td>\n",
       "      <td>4</td>\n",
       "      <td>4</td>\n",
       "    </tr>\n",
       "    <tr>\n",
       "      <th>3</th>\n",
       "      <td>a***</td>\n",
       "      <td>0</td>\n",
       "      <td>5</td>\n",
       "      <td>5</td>\n",
       "      <td>5</td>\n",
       "      <td>2</td>\n",
       "      <td>3</td>\n",
       "    </tr>\n",
       "    <tr>\n",
       "      <th>4</th>\n",
       "      <td>B****</td>\n",
       "      <td>0</td>\n",
       "      <td>5</td>\n",
       "      <td>5</td>\n",
       "      <td>5</td>\n",
       "      <td>2</td>\n",
       "      <td>4</td>\n",
       "    </tr>\n",
       "  </tbody>\n",
       "</table>\n",
       "</div>"
      ],
      "text/plain": [
       "              nama  gender  kualitas  fisik  kata  kado  bantuan\n",
       "0  A**************       0         5      5     4     1        3\n",
       "1            L****       1         5      5     3     2        2\n",
       "2     Y***********       0         4      3     4     4        4\n",
       "3             a***       0         5      5     5     2        3\n",
       "4            B****       0         5      5     5     2        4"
      ]
     },
     "execution_count": 9,
     "metadata": {},
     "output_type": "execute_result"
    }
   ],
   "source": [
    "df.head()"
   ]
  },
  {
   "cell_type": "code",
   "execution_count": 10,
   "metadata": {},
   "outputs": [],
   "source": [
    "m_df = df[df[\"gender\"] == 0]\n",
    "f_df = df[df[\"gender\"] == 1]"
   ]
  },
  {
   "cell_type": "code",
   "execution_count": 11,
   "metadata": {},
   "outputs": [],
   "source": [
    "m_X = m_df.drop([\"nama\",\"gender\"], axis=1)\n",
    "f_X = f_df.drop([\"nama\",\"gender\"], axis=1)"
   ]
  },
  {
   "cell_type": "markdown",
   "metadata": {},
   "source": [
    "# Model Development"
   ]
  },
  {
   "cell_type": "code",
   "execution_count": 12,
   "metadata": {},
   "outputs": [],
   "source": [
    "m_nbrs = NearestNeighbors(n_neighbors=5).fit(m_X)\n",
    "f_nbrs = NearestNeighbors(n_neighbors=5).fit(f_X)"
   ]
  },
  {
   "cell_type": "code",
   "execution_count": 13,
   "metadata": {},
   "outputs": [],
   "source": [
    "X = df.drop([\"nama\", \"gender\"], axis=1)"
   ]
  },
  {
   "cell_type": "code",
   "execution_count": 14,
   "metadata": {},
   "outputs": [
    {
     "data": {
      "text/html": [
       "<div>\n",
       "<style scoped>\n",
       "    .dataframe tbody tr th:only-of-type {\n",
       "        vertical-align: middle;\n",
       "    }\n",
       "\n",
       "    .dataframe tbody tr th {\n",
       "        vertical-align: top;\n",
       "    }\n",
       "\n",
       "    .dataframe thead th {\n",
       "        text-align: right;\n",
       "    }\n",
       "</style>\n",
       "<table border=\"1\" class=\"dataframe\">\n",
       "  <thead>\n",
       "    <tr style=\"text-align: right;\">\n",
       "      <th></th>\n",
       "      <th>nama</th>\n",
       "      <th>gender</th>\n",
       "      <th>kualitas</th>\n",
       "      <th>fisik</th>\n",
       "      <th>kata</th>\n",
       "      <th>kado</th>\n",
       "      <th>bantuan</th>\n",
       "    </tr>\n",
       "  </thead>\n",
       "  <tbody>\n",
       "    <tr>\n",
       "      <th>16</th>\n",
       "      <td>M***********************</td>\n",
       "      <td>0</td>\n",
       "      <td>1</td>\n",
       "      <td>1</td>\n",
       "      <td>1</td>\n",
       "      <td>1</td>\n",
       "      <td>1</td>\n",
       "    </tr>\n",
       "  </tbody>\n",
       "</table>\n",
       "</div>"
      ],
      "text/plain": [
       "                        nama  gender  kualitas  fisik  kata  kado  bantuan\n",
       "16  M***********************       0         1      1     1     1        1"
      ]
     },
     "execution_count": 14,
     "metadata": {},
     "output_type": "execute_result"
    }
   ],
   "source": [
    "df.sample(1)"
   ]
  },
  {
   "cell_type": "code",
   "execution_count": 15,
   "metadata": {},
   "outputs": [],
   "source": [
    "test = X[df[\"nama\"] == \"A\"].values"
   ]
  },
  {
   "cell_type": "code",
   "execution_count": 16,
   "metadata": {},
   "outputs": [],
   "source": [
    "_, idx = f_nbrs.kneighbors(test)"
   ]
  },
  {
   "cell_type": "code",
   "execution_count": 17,
   "metadata": {},
   "outputs": [
    {
     "data": {
      "text/plain": [
       "array([[17, 18,  0, 19, 16]], dtype=int64)"
      ]
     },
     "execution_count": 17,
     "metadata": {},
     "output_type": "execute_result"
    }
   ],
   "source": [
    "idx"
   ]
  },
  {
   "cell_type": "code",
   "execution_count": 18,
   "metadata": {},
   "outputs": [
    {
     "data": {
      "text/plain": [
       "79    a*********************************************...\n",
       "93                                              F******\n",
       "1                                                 L****\n",
       "97                                        K************\n",
       "73                                                 R***\n",
       "Name: nama, dtype: object"
      ]
     },
     "execution_count": 18,
     "metadata": {},
     "output_type": "execute_result"
    }
   ],
   "source": [
    "f_df.iloc[idx[0]][\"nama\"]"
   ]
  },
  {
   "cell_type": "code",
   "execution_count": 22,
   "metadata": {},
   "outputs": [
    {
     "ename": "SyntaxError",
     "evalue": "(unicode error) 'unicodeescape' codec can't decode bytes in position 2-3: truncated \\UXXXXXXXX escape (<ipython-input-22-86679559b905>, line 1)",
     "output_type": "error",
     "traceback": [
      "\u001b[1;36m  File \u001b[1;32m\"<ipython-input-22-86679559b905>\"\u001b[1;36m, line \u001b[1;32m1\u001b[0m\n\u001b[1;33m    pickle.dump(m_nbrs, open(\"C:\\Users\\ryoma\\Downloads\", \"wb\"))\u001b[0m\n\u001b[1;37m                             ^\u001b[0m\n\u001b[1;31mSyntaxError\u001b[0m\u001b[1;31m:\u001b[0m (unicode error) 'unicodeescape' codec can't decode bytes in position 2-3: truncated \\UXXXXXXXX escape\n"
     ]
    }
   ],
   "source": [
    "pickle.dump(m_nbrs, open(\"C:\\Users\\ryoma\\Downloads\", \"wb\"))\n",
    "pickle.dump(f_nbrs, open(\"C:\\Users\\ryoma\\Downloads\", \"wb\"))\n",
    "dv.to_cav(\"C:\\Users\\ryoma\\Downloads\", index=False)"
   ]
  },
  {
   "cell_type": "markdown",
   "metadata": {},
   "source": [
    "# Statistik Dasar Data & Insight Baru"
   ]
  },
  {
   "cell_type": "code",
   "execution_count": 23,
   "metadata": {},
   "outputs": [
    {
     "data": {
      "text/html": [
       "<div>\n",
       "<style scoped>\n",
       "    .dataframe tbody tr th:only-of-type {\n",
       "        vertical-align: middle;\n",
       "    }\n",
       "\n",
       "    .dataframe tbody tr th {\n",
       "        vertical-align: top;\n",
       "    }\n",
       "\n",
       "    .dataframe thead th {\n",
       "        text-align: right;\n",
       "    }\n",
       "</style>\n",
       "<table border=\"1\" class=\"dataframe\">\n",
       "  <thead>\n",
       "    <tr style=\"text-align: right;\">\n",
       "      <th></th>\n",
       "      <th>gender</th>\n",
       "      <th>kualitas</th>\n",
       "      <th>fisik</th>\n",
       "      <th>kata</th>\n",
       "      <th>kado</th>\n",
       "      <th>bantuan</th>\n",
       "    </tr>\n",
       "  </thead>\n",
       "  <tbody>\n",
       "    <tr>\n",
       "      <th>count</th>\n",
       "      <td>101.000000</td>\n",
       "      <td>101.000000</td>\n",
       "      <td>101.000000</td>\n",
       "      <td>101.000000</td>\n",
       "      <td>101.000000</td>\n",
       "      <td>101.000000</td>\n",
       "    </tr>\n",
       "    <tr>\n",
       "      <th>mean</th>\n",
       "      <td>0.198020</td>\n",
       "      <td>4.099010</td>\n",
       "      <td>3.168317</td>\n",
       "      <td>3.722772</td>\n",
       "      <td>2.732673</td>\n",
       "      <td>3.752475</td>\n",
       "    </tr>\n",
       "    <tr>\n",
       "      <th>std</th>\n",
       "      <td>0.400495</td>\n",
       "      <td>1.212476</td>\n",
       "      <td>1.334686</td>\n",
       "      <td>1.209287</td>\n",
       "      <td>1.325829</td>\n",
       "      <td>1.143730</td>\n",
       "    </tr>\n",
       "    <tr>\n",
       "      <th>min</th>\n",
       "      <td>0.000000</td>\n",
       "      <td>1.000000</td>\n",
       "      <td>1.000000</td>\n",
       "      <td>1.000000</td>\n",
       "      <td>1.000000</td>\n",
       "      <td>1.000000</td>\n",
       "    </tr>\n",
       "    <tr>\n",
       "      <th>25%</th>\n",
       "      <td>0.000000</td>\n",
       "      <td>4.000000</td>\n",
       "      <td>2.000000</td>\n",
       "      <td>3.000000</td>\n",
       "      <td>2.000000</td>\n",
       "      <td>3.000000</td>\n",
       "    </tr>\n",
       "    <tr>\n",
       "      <th>50%</th>\n",
       "      <td>0.000000</td>\n",
       "      <td>5.000000</td>\n",
       "      <td>3.000000</td>\n",
       "      <td>4.000000</td>\n",
       "      <td>3.000000</td>\n",
       "      <td>4.000000</td>\n",
       "    </tr>\n",
       "    <tr>\n",
       "      <th>75%</th>\n",
       "      <td>0.000000</td>\n",
       "      <td>5.000000</td>\n",
       "      <td>4.000000</td>\n",
       "      <td>5.000000</td>\n",
       "      <td>4.000000</td>\n",
       "      <td>5.000000</td>\n",
       "    </tr>\n",
       "    <tr>\n",
       "      <th>max</th>\n",
       "      <td>1.000000</td>\n",
       "      <td>5.000000</td>\n",
       "      <td>5.000000</td>\n",
       "      <td>5.000000</td>\n",
       "      <td>5.000000</td>\n",
       "      <td>5.000000</td>\n",
       "    </tr>\n",
       "  </tbody>\n",
       "</table>\n",
       "</div>"
      ],
      "text/plain": [
       "           gender    kualitas       fisik        kata        kado     bantuan\n",
       "count  101.000000  101.000000  101.000000  101.000000  101.000000  101.000000\n",
       "mean     0.198020    4.099010    3.168317    3.722772    2.732673    3.752475\n",
       "std      0.400495    1.212476    1.334686    1.209287    1.325829    1.143730\n",
       "min      0.000000    1.000000    1.000000    1.000000    1.000000    1.000000\n",
       "25%      0.000000    4.000000    2.000000    3.000000    2.000000    3.000000\n",
       "50%      0.000000    5.000000    3.000000    4.000000    3.000000    4.000000\n",
       "75%      0.000000    5.000000    4.000000    5.000000    4.000000    5.000000\n",
       "max      1.000000    5.000000    5.000000    5.000000    5.000000    5.000000"
      ]
     },
     "execution_count": 23,
     "metadata": {},
     "output_type": "execute_result"
    }
   ],
   "source": [
    "df.describe()"
   ]
  },
  {
   "cell_type": "code",
   "execution_count": 27,
   "metadata": {},
   "outputs": [
    {
     "name": "stdout",
     "output_type": "stream",
     "text": [
      "Dari data didapat rata-rata gender adalah 0.198020\n",
      "Dari data didapat rata-rata kualitas adalah 4.099010\n",
      "Dari data didapat rata-rata fisik adalah 3.168317\n",
      "Dari data didapat rata-rata kata adalah 3.722772\n",
      "Dari data didapat rata-rat kado adalah 2.732673\n",
      "Dari data didapat rata-rata bantuan adalah 3.752475\n"
     ]
    }
   ],
   "source": [
    "print(\"Dari data didapat rata-rata gender adalah 0.198020\")\n",
    "print(\"Dari data didapat rata-rata kualitas adalah 4.099010\")\n",
    "print(\"Dari data didapat rata-rata fisik adalah 3.168317\")\n",
    "print(\"Dari data didapat rata-rata kata adalah 3.722772\")\n",
    "print(\"Dari data didapat rata-rat kado adalah 2.732673\")\n",
    "print(\"Dari data didapat rata-rata bantuan adalah 3.752475\")"
   ]
  },
  {
   "cell_type": "code",
   "execution_count": null,
   "metadata": {},
   "outputs": [],
   "source": [
    "print(\"Insight baru yang didapat yaitu:\")\n",
    "print(\"1. Ternyata rata-rata orang dalam memilih pasangan memprioritaskan dengan urutan: quality time, bantuan, word affirmation, kontak fisik, dan paling terakhir kado dari calon pacar mereka.\")\n",
    "print(\"2. Di DSC ITB ini kebanyakan orangnya laki-laki dengan rasio laki-laki banding perempuan adalah 4 banding 1\")"
   ]
  }
 ],
 "metadata": {
  "kernelspec": {
   "display_name": "Python 3",
   "language": "python",
   "name": "python3"
  },
  "language_info": {
   "codemirror_mode": {
    "name": "ipython",
    "version": 3
   },
   "file_extension": ".py",
   "mimetype": "text/x-python",
   "name": "python",
   "nbconvert_exporter": "python",
   "pygments_lexer": "ipython3",
   "version": "3.8.3"
  }
 },
 "nbformat": 4,
 "nbformat_minor": 4
}

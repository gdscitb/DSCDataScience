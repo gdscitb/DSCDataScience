{
  "nbformat": 4,
  "nbformat_minor": 0,
  "metadata": {
    "colab": {
      "name": "Task Event #2.ipynb",
      "provenance": []
    },
    "kernelspec": {
      "name": "python3",
      "display_name": "Python 3"
    }
  },
  "cells": [
    {
      "cell_type": "markdown",
      "metadata": {
        "id": "5lxMpgDD02jv"
      },
      "source": [
        "# Data Preparation"
      ]
    },
    {
      "cell_type": "code",
      "metadata": {
        "id": "7eUKWbsSFxfH"
      },
      "source": [
        "import pandas as pd\n",
        "import numpy as np\n",
        "from sklearn.neighbors import NearestNeighbors\n",
        "import matplotlib.pyplot as plt"
      ],
      "execution_count": 172,
      "outputs": []
    },
    {
      "cell_type": "code",
      "metadata": {
        "id": "Sl5EhVaqGPZo",
        "outputId": "68602d49-26b4-47b6-d5ad-bf5744c5d7e8",
        "colab": {
          "base_uri": "https://localhost:8080/",
          "height": 527
        }
      },
      "source": [
        "df = pd.read_csv(\"takemeout.csv\")\n",
        "df.head()"
      ],
      "execution_count": 173,
      "outputs": [
        {
          "output_type": "execute_result",
          "data": {
            "text/html": [
              "<div>\n",
              "<style scoped>\n",
              "    .dataframe tbody tr th:only-of-type {\n",
              "        vertical-align: middle;\n",
              "    }\n",
              "\n",
              "    .dataframe tbody tr th {\n",
              "        vertical-align: top;\n",
              "    }\n",
              "\n",
              "    .dataframe thead th {\n",
              "        text-align: right;\n",
              "    }\n",
              "</style>\n",
              "<table border=\"1\" class=\"dataframe\">\n",
              "  <thead>\n",
              "    <tr style=\"text-align: right;\">\n",
              "      <th></th>\n",
              "      <th>Timestamp</th>\n",
              "      <th>Siapa nama kamu?</th>\n",
              "      <th>Cewek atau cowok nih?</th>\n",
              "      <th>Seberapa penting quality time bareng calon pacar untuk kamu?</th>\n",
              "      <th>Seberapa penting physical touch sama calon pacar untuk kamu?</th>\n",
              "      <th>Seberapa penting word of affirmation dari calon pacar untuk kamu?</th>\n",
              "      <th>Seberapa penting dapet kado dari calon pacar untuk kamu?</th>\n",
              "      <th>Seberapa penting bantuan dari calon pacar untuk kamu?</th>\n",
              "    </tr>\n",
              "  </thead>\n",
              "  <tbody>\n",
              "    <tr>\n",
              "      <th>0</th>\n",
              "      <td>2020/10/31 3:39:25 PM GMT+7</td>\n",
              "      <td>A**************</td>\n",
              "      <td>Cowok</td>\n",
              "      <td>5</td>\n",
              "      <td>5</td>\n",
              "      <td>4</td>\n",
              "      <td>1</td>\n",
              "      <td>3</td>\n",
              "    </tr>\n",
              "    <tr>\n",
              "      <th>1</th>\n",
              "      <td>2020/10/31 3:39:36 PM GMT+7</td>\n",
              "      <td>L****</td>\n",
              "      <td>Cewek</td>\n",
              "      <td>5</td>\n",
              "      <td>5</td>\n",
              "      <td>3</td>\n",
              "      <td>2</td>\n",
              "      <td>2</td>\n",
              "    </tr>\n",
              "    <tr>\n",
              "      <th>2</th>\n",
              "      <td>2020/10/31 3:39:38 PM GMT+7</td>\n",
              "      <td>Y***********</td>\n",
              "      <td>Cowok</td>\n",
              "      <td>4</td>\n",
              "      <td>3</td>\n",
              "      <td>4</td>\n",
              "      <td>4</td>\n",
              "      <td>4</td>\n",
              "    </tr>\n",
              "    <tr>\n",
              "      <th>3</th>\n",
              "      <td>2020/10/31 3:39:42 PM GMT+7</td>\n",
              "      <td>a***</td>\n",
              "      <td>Cowok</td>\n",
              "      <td>5</td>\n",
              "      <td>5</td>\n",
              "      <td>5</td>\n",
              "      <td>2</td>\n",
              "      <td>3</td>\n",
              "    </tr>\n",
              "    <tr>\n",
              "      <th>4</th>\n",
              "      <td>2020/10/31 3:39:43 PM GMT+7</td>\n",
              "      <td>B****</td>\n",
              "      <td>Cowok</td>\n",
              "      <td>5</td>\n",
              "      <td>5</td>\n",
              "      <td>5</td>\n",
              "      <td>2</td>\n",
              "      <td>4</td>\n",
              "    </tr>\n",
              "  </tbody>\n",
              "</table>\n",
              "</div>"
            ],
            "text/plain": [
              "                     Timestamp  ... Seberapa penting bantuan dari calon pacar untuk kamu?\n",
              "0  2020/10/31 3:39:25 PM GMT+7  ...                                                  3   \n",
              "1  2020/10/31 3:39:36 PM GMT+7  ...                                                  2   \n",
              "2  2020/10/31 3:39:38 PM GMT+7  ...                                                  4   \n",
              "3  2020/10/31 3:39:42 PM GMT+7  ...                                                  3   \n",
              "4  2020/10/31 3:39:43 PM GMT+7  ...                                                  4   \n",
              "\n",
              "[5 rows x 8 columns]"
            ]
          },
          "metadata": {
            "tags": []
          },
          "execution_count": 173
        }
      ]
    },
    {
      "cell_type": "code",
      "metadata": {
        "id": "lHN38qKgIkrb",
        "outputId": "6d7014b3-ef3e-4e4a-d216-4b3b36397228",
        "colab": {
          "base_uri": "https://localhost:8080/",
          "height": 204
        }
      },
      "source": [
        "df.drop(\"Timestamp\", axis=1, inplace=True)\n",
        "df.columns = [\"nama\", \"gender\", \"time\", \"touch\", \"word\", \"gift\", \"service\"]\n",
        "df.head()"
      ],
      "execution_count": 174,
      "outputs": [
        {
          "output_type": "execute_result",
          "data": {
            "text/html": [
              "<div>\n",
              "<style scoped>\n",
              "    .dataframe tbody tr th:only-of-type {\n",
              "        vertical-align: middle;\n",
              "    }\n",
              "\n",
              "    .dataframe tbody tr th {\n",
              "        vertical-align: top;\n",
              "    }\n",
              "\n",
              "    .dataframe thead th {\n",
              "        text-align: right;\n",
              "    }\n",
              "</style>\n",
              "<table border=\"1\" class=\"dataframe\">\n",
              "  <thead>\n",
              "    <tr style=\"text-align: right;\">\n",
              "      <th></th>\n",
              "      <th>nama</th>\n",
              "      <th>gender</th>\n",
              "      <th>time</th>\n",
              "      <th>touch</th>\n",
              "      <th>word</th>\n",
              "      <th>gift</th>\n",
              "      <th>service</th>\n",
              "    </tr>\n",
              "  </thead>\n",
              "  <tbody>\n",
              "    <tr>\n",
              "      <th>0</th>\n",
              "      <td>A**************</td>\n",
              "      <td>Cowok</td>\n",
              "      <td>5</td>\n",
              "      <td>5</td>\n",
              "      <td>4</td>\n",
              "      <td>1</td>\n",
              "      <td>3</td>\n",
              "    </tr>\n",
              "    <tr>\n",
              "      <th>1</th>\n",
              "      <td>L****</td>\n",
              "      <td>Cewek</td>\n",
              "      <td>5</td>\n",
              "      <td>5</td>\n",
              "      <td>3</td>\n",
              "      <td>2</td>\n",
              "      <td>2</td>\n",
              "    </tr>\n",
              "    <tr>\n",
              "      <th>2</th>\n",
              "      <td>Y***********</td>\n",
              "      <td>Cowok</td>\n",
              "      <td>4</td>\n",
              "      <td>3</td>\n",
              "      <td>4</td>\n",
              "      <td>4</td>\n",
              "      <td>4</td>\n",
              "    </tr>\n",
              "    <tr>\n",
              "      <th>3</th>\n",
              "      <td>a***</td>\n",
              "      <td>Cowok</td>\n",
              "      <td>5</td>\n",
              "      <td>5</td>\n",
              "      <td>5</td>\n",
              "      <td>2</td>\n",
              "      <td>3</td>\n",
              "    </tr>\n",
              "    <tr>\n",
              "      <th>4</th>\n",
              "      <td>B****</td>\n",
              "      <td>Cowok</td>\n",
              "      <td>5</td>\n",
              "      <td>5</td>\n",
              "      <td>5</td>\n",
              "      <td>2</td>\n",
              "      <td>4</td>\n",
              "    </tr>\n",
              "  </tbody>\n",
              "</table>\n",
              "</div>"
            ],
            "text/plain": [
              "              nama gender  time  touch  word  gift  service\n",
              "0  A**************  Cowok     5      5     4     1        3\n",
              "1            L****  Cewek     5      5     3     2        2\n",
              "2     Y***********  Cowok     4      3     4     4        4\n",
              "3             a***  Cowok     5      5     5     2        3\n",
              "4            B****  Cowok     5      5     5     2        4"
            ]
          },
          "metadata": {
            "tags": []
          },
          "execution_count": 174
        }
      ]
    },
    {
      "cell_type": "code",
      "metadata": {
        "id": "HJCw5rWN1nBj",
        "outputId": "f354d1ef-cdfe-44ef-b7b7-e80a03c4b890",
        "colab": {
          "base_uri": "https://localhost:8080/"
        }
      },
      "source": [
        "# Cek apakah ada yang bernilai null\n",
        "df.info()"
      ],
      "execution_count": 175,
      "outputs": [
        {
          "output_type": "stream",
          "text": [
            "<class 'pandas.core.frame.DataFrame'>\n",
            "RangeIndex: 101 entries, 0 to 100\n",
            "Data columns (total 7 columns):\n",
            " #   Column   Non-Null Count  Dtype \n",
            "---  ------   --------------  ----- \n",
            " 0   nama     101 non-null    object\n",
            " 1   gender   101 non-null    object\n",
            " 2   time     101 non-null    int64 \n",
            " 3   touch    101 non-null    int64 \n",
            " 4   word     101 non-null    int64 \n",
            " 5   gift     101 non-null    int64 \n",
            " 6   service  101 non-null    int64 \n",
            "dtypes: int64(5), object(2)\n",
            "memory usage: 5.6+ KB\n"
          ],
          "name": "stdout"
        }
      ]
    },
    {
      "cell_type": "code",
      "metadata": {
        "id": "qeocDs_W2C8r",
        "outputId": "88db5758-5743-4888-c027-13141ba99b1d",
        "colab": {
          "base_uri": "https://localhost:8080/"
        }
      },
      "source": [
        "# Cek apakah semua data sudah di range 1 - 5\n",
        "for col in df.columns[2: ]:\n",
        "  print(set(df[col].values))"
      ],
      "execution_count": 176,
      "outputs": [
        {
          "output_type": "stream",
          "text": [
            "{1, 2, 3, 4, 5}\n",
            "{1, 2, 3, 4, 5}\n",
            "{1, 2, 3, 4, 5}\n",
            "{1, 2, 3, 4, 5}\n",
            "{1, 2, 3, 4, 5}\n"
          ],
          "name": "stdout"
        }
      ]
    },
    {
      "cell_type": "code",
      "metadata": {
        "id": "aKUAuYfA2eb1",
        "outputId": "e635094e-a196-4134-b16f-bee3390b2837",
        "colab": {
          "base_uri": "https://localhost:8080/"
        }
      },
      "source": [
        "# Cek apakah semua gender sudah benar\n",
        "print(set(df[\"gender\"]))"
      ],
      "execution_count": 177,
      "outputs": [
        {
          "output_type": "stream",
          "text": [
            "{'Cewek', 'Cowok'}\n"
          ],
          "name": "stdout"
        }
      ]
    },
    {
      "cell_type": "markdown",
      "metadata": {
        "id": "JO8dq9q-1uR5"
      },
      "source": [
        "Sampai di sini, tidak ditemukan datum yang menyalahi aturan. Data bersih."
      ]
    },
    {
      "cell_type": "markdown",
      "metadata": {
        "id": "Dy5aeCDz3Ksx"
      },
      "source": [
        "# Analisis"
      ]
    },
    {
      "cell_type": "code",
      "metadata": {
        "id": "EumM9kTGTOtl",
        "outputId": "580f66cf-54c3-40c1-a51b-3acdedb2be12",
        "colab": {
          "base_uri": "https://localhost:8080/",
          "height": 297
        }
      },
      "source": [
        "df.describe()"
      ],
      "execution_count": 178,
      "outputs": [
        {
          "output_type": "execute_result",
          "data": {
            "text/html": [
              "<div>\n",
              "<style scoped>\n",
              "    .dataframe tbody tr th:only-of-type {\n",
              "        vertical-align: middle;\n",
              "    }\n",
              "\n",
              "    .dataframe tbody tr th {\n",
              "        vertical-align: top;\n",
              "    }\n",
              "\n",
              "    .dataframe thead th {\n",
              "        text-align: right;\n",
              "    }\n",
              "</style>\n",
              "<table border=\"1\" class=\"dataframe\">\n",
              "  <thead>\n",
              "    <tr style=\"text-align: right;\">\n",
              "      <th></th>\n",
              "      <th>time</th>\n",
              "      <th>touch</th>\n",
              "      <th>word</th>\n",
              "      <th>gift</th>\n",
              "      <th>service</th>\n",
              "    </tr>\n",
              "  </thead>\n",
              "  <tbody>\n",
              "    <tr>\n",
              "      <th>count</th>\n",
              "      <td>101.000000</td>\n",
              "      <td>101.000000</td>\n",
              "      <td>101.000000</td>\n",
              "      <td>101.000000</td>\n",
              "      <td>101.000000</td>\n",
              "    </tr>\n",
              "    <tr>\n",
              "      <th>mean</th>\n",
              "      <td>4.099010</td>\n",
              "      <td>3.168317</td>\n",
              "      <td>3.722772</td>\n",
              "      <td>2.732673</td>\n",
              "      <td>3.752475</td>\n",
              "    </tr>\n",
              "    <tr>\n",
              "      <th>std</th>\n",
              "      <td>1.212476</td>\n",
              "      <td>1.334686</td>\n",
              "      <td>1.209287</td>\n",
              "      <td>1.325829</td>\n",
              "      <td>1.143730</td>\n",
              "    </tr>\n",
              "    <tr>\n",
              "      <th>min</th>\n",
              "      <td>1.000000</td>\n",
              "      <td>1.000000</td>\n",
              "      <td>1.000000</td>\n",
              "      <td>1.000000</td>\n",
              "      <td>1.000000</td>\n",
              "    </tr>\n",
              "    <tr>\n",
              "      <th>25%</th>\n",
              "      <td>4.000000</td>\n",
              "      <td>2.000000</td>\n",
              "      <td>3.000000</td>\n",
              "      <td>2.000000</td>\n",
              "      <td>3.000000</td>\n",
              "    </tr>\n",
              "    <tr>\n",
              "      <th>50%</th>\n",
              "      <td>5.000000</td>\n",
              "      <td>3.000000</td>\n",
              "      <td>4.000000</td>\n",
              "      <td>3.000000</td>\n",
              "      <td>4.000000</td>\n",
              "    </tr>\n",
              "    <tr>\n",
              "      <th>75%</th>\n",
              "      <td>5.000000</td>\n",
              "      <td>4.000000</td>\n",
              "      <td>5.000000</td>\n",
              "      <td>4.000000</td>\n",
              "      <td>5.000000</td>\n",
              "    </tr>\n",
              "    <tr>\n",
              "      <th>max</th>\n",
              "      <td>5.000000</td>\n",
              "      <td>5.000000</td>\n",
              "      <td>5.000000</td>\n",
              "      <td>5.000000</td>\n",
              "      <td>5.000000</td>\n",
              "    </tr>\n",
              "  </tbody>\n",
              "</table>\n",
              "</div>"
            ],
            "text/plain": [
              "             time       touch        word        gift     service\n",
              "count  101.000000  101.000000  101.000000  101.000000  101.000000\n",
              "mean     4.099010    3.168317    3.722772    2.732673    3.752475\n",
              "std      1.212476    1.334686    1.209287    1.325829    1.143730\n",
              "min      1.000000    1.000000    1.000000    1.000000    1.000000\n",
              "25%      4.000000    2.000000    3.000000    2.000000    3.000000\n",
              "50%      5.000000    3.000000    4.000000    3.000000    4.000000\n",
              "75%      5.000000    4.000000    5.000000    4.000000    5.000000\n",
              "max      5.000000    5.000000    5.000000    5.000000    5.000000"
            ]
          },
          "metadata": {
            "tags": []
          },
          "execution_count": 178
        }
      ]
    },
    {
      "cell_type": "markdown",
      "metadata": {
        "id": "bb6_CTzW3Q51"
      },
      "source": [
        "Nilai min dan max tiap kolom sama, yaitu 1 dan 5, menunjukkan ketertarikan pada masing-masing *love language* sangat bervariasi. Nilai rataan paling tinggi terdapat pada *quality time*.\n",
        "\n",
        "---------------------------------------------------\n",
        "Untuk proporsi nilai masing-masing *love language*:"
      ]
    },
    {
      "cell_type": "code",
      "metadata": {
        "id": "Fve_yqVnT4FU",
        "outputId": "06eba6cb-583c-44f8-9862-f92b8b00d64f",
        "colab": {
          "base_uri": "https://localhost:8080/",
          "height": 1000
        }
      },
      "source": [
        "def freqpie(col):\n",
        "  timefreq = df[col].value_counts(sort=False)\n",
        "  plt.pie(timefreq.values, labels=timefreq.index, autopct=\"%1.1f%%\")\n",
        "  plt.title(col)\n",
        "  plt.show()\n",
        "\n",
        "for col in df.columns[2: ]:\n",
        "  freqpie(col)"
      ],
      "execution_count": 179,
      "outputs": [
        {
          "output_type": "display_data",
          "data": {
            "image/png": "[encoded data removed]",
            "text/plain": [
              "<Figure size 432x288 with 1 Axes>"
            ]
          },
          "metadata": {
            "tags": []
          }
        },
        {
          "output_type": "display_data",
          "data": {
            "image/png": "[encoded data removed]",
            "text/plain": [
              "<Figure size 432x288 with 1 Axes>"
            ]
          },
          "metadata": {
            "tags": []
          }
        },
        {
          "output_type": "display_data",
          "data": {
            "image/png": "[encoded data removed]",
            "text/plain": [
              "<Figure size 432x288 with 1 Axes>"
            ]
          },
          "metadata": {
            "tags": []
          }
        },
        {
          "output_type": "display_data",
          "data": {
            "image/png": "[encoded data removed]",
            "text/plain": [
              "<Figure size 432x288 with 1 Axes>"
            ]
          },
          "metadata": {
            "tags": []
          }
        },
        {
          "output_type": "display_data",
          "data": {
            "image/png": "[encoded data removed]",
            "text/plain": [
              "<Figure size 432x288 with 1 Axes>"
            ]
          },
          "metadata": {
            "tags": []
          }
        }
      ]
    },
    {
      "cell_type": "markdown",
      "metadata": {
        "id": "zovOTVNZ4SAW"
      },
      "source": [
        "Pada **time**, **word**, dan **service**, ditemukan peserta yang memberi nilai 4 - 5 sebanyak lebih dari 50%\n",
        "\n",
        "Sedangkan, pada **touch** dan **gift**, peserta yang memberi nilai 4 - 5 ada kurang dari 50%."
      ]
    },
    {
      "cell_type": "code",
      "metadata": {
        "id": "Q-EOM3MBegbZ",
        "outputId": "3a111613-0b1d-458b-953d-0d3ddb4928ed",
        "colab": {
          "base_uri": "https://localhost:8080/"
        }
      },
      "source": [
        "cols = df.columns[2:]\n",
        "for i in range(len(cols)):\n",
        "  for j in range(i+1, len(cols)):\n",
        "    print(f\"Correlation of {cols[i]} and {cols[j]}:\", end=\" \")\n",
        "    print(df[cols[i]].corr(df[cols[j]]))"
      ],
      "execution_count": 180,
      "outputs": [
        {
          "output_type": "stream",
          "text": [
            "Correlation of time and touch: 0.49013196975066076\n",
            "Correlation of time and word: 0.6668265409012857\n",
            "Correlation of time and gift: 0.4645200251285621\n",
            "Correlation of time and service: 0.4360946576784655\n",
            "Correlation of touch and word: 0.5806182058418959\n",
            "Correlation of touch and gift: 0.42691037459138176\n",
            "Correlation of touch and service: 0.1913365823137339\n",
            "Correlation of word and gift: 0.4460455997814289\n",
            "Correlation of word and service: 0.4993809161468291\n",
            "Correlation of gift and service: 0.43733350714314334\n"
          ],
          "name": "stdout"
        }
      ]
    },
    {
      "cell_type": "markdown",
      "metadata": {
        "id": "s3M-LmMB5X1m"
      },
      "source": [
        "Tidak ditemukan kecenderungan yang signifikan antara penilaian-penilaian *Love language*. Di antara itu, yang paling punya korelasi adalah **time** dan **word** (korelasi positif)."
      ]
    },
    {
      "cell_type": "code",
      "metadata": {
        "id": "BXPfZZvfMnrf"
      },
      "source": [
        "# Mengganti kolom gender menjadi numerik\n",
        "df[\"gender\"] = df[\"gender\"].apply(lambda x: 0 if x==\"Cowok\" else 1)\n",
        "# Tabel menurut gender\n",
        "male = df[df[\"gender\"] == 0]\n",
        "female = df[df[\"gender\"] == 1]"
      ],
      "execution_count": 181,
      "outputs": []
    },
    {
      "cell_type": "markdown",
      "metadata": {
        "id": "yXrdxS0A-iCe"
      },
      "source": [
        "Sekarang akan dicari tahu bagaimana kemiripan antar entri-entri di data dengan menghitung *Euclidean Distance*. Apabila ada lelaki yang memiliki euclidean distance ke setiap wanita yang kurang dari rata-rata, kita dapat mengatakan lelaki itu kemungkinan tidak akan mendapatkan pasangannya di antara wanita-wanita ini."
      ]
    },
    {
      "cell_type": "code",
      "metadata": {
        "id": "qEatsgO2g5D1",
        "outputId": "14704b9e-8bfd-49b4-c310-208cc4abe9b2",
        "colab": {
          "base_uri": "https://localhost:8080/",
          "height": 265
        }
      },
      "source": [
        "def eudist(i, j):\n",
        "  # menentukan euclidean distance antar entri i dan j\n",
        "  # i dan j index pada df, i index si pria, j index si wanita\n",
        "  x = male.loc[i, \"time\":\"service\"]\n",
        "  y = female.loc[j, \"time\":\"service\"]\n",
        "  return np.linalg.norm(x-y)\n",
        "\n",
        "nummale = len(male)\n",
        "numfemale = len(female)\n",
        "dists = np.zeros(nummale*numfemale)\n",
        "# Mengisi array dists dengan eudist dari semua pasangan (i, j)\n",
        "for i in range(nummale):\n",
        "  for j in range(numfemale):\n",
        "    dists[numfemale*i + j] = eudist(male.index[i], female.index[j])\n",
        "\n",
        "plt.hist(dists)\n",
        "plt.show()"
      ],
      "execution_count": 182,
      "outputs": [
        {
          "output_type": "display_data",
          "data": {
            "image/png": "[encoded data removed]",
            "text/plain": [
              "<Figure size 432x288 with 1 Axes>"
            ]
          },
          "metadata": {
            "tags": [],
            "needs_background": "light"
          }
        }
      ]
    },
    {
      "cell_type": "markdown",
      "metadata": {
        "id": "AYQWAVJRALTq"
      },
      "source": [
        "Terlihat bahwa distribusi dari semua Distance yang mungkin pada data menceng ke kanan. Maka daripada menggunakan mean, kita anggap pemusatan data ada di sekitar median."
      ]
    },
    {
      "cell_type": "code",
      "metadata": {
        "id": "IfjPCHNrr00y",
        "outputId": "e848683a-bc4f-48aa-fd73-4f4e6d1d132a",
        "colab": {
          "base_uri": "https://localhost:8080/"
        }
      },
      "source": [
        "stddist = np.median(dists)\n",
        "print(stddist)"
      ],
      "execution_count": 183,
      "outputs": [
        {
          "output_type": "stream",
          "text": [
            "3.4641016151377544\n"
          ],
          "name": "stdout"
        }
      ]
    },
    {
      "cell_type": "code",
      "metadata": {
        "id": "Lj-3ot1QsH-J",
        "outputId": "389c71fd-0a9c-432e-b964-8ea73b69c887",
        "colab": {
          "base_uri": "https://localhost:8080/"
        }
      },
      "source": [
        "jombs4ever = []\n",
        "for c in range(nummale):\n",
        "  for r in range(numfemale*c, numfemale*(c+1)):\n",
        "    if dists[r] < stddist:\n",
        "      break\n",
        "  else:\n",
        "    jombs4ever.append(male.index[c])\n",
        "\n",
        "print(jombs4ever)\n",
        "print(male.loc[male.index == jombs4ever[0], \"nama\"])"
      ],
      "execution_count": 184,
      "outputs": [
        {
          "output_type": "stream",
          "text": [
            "[94]\n",
            "94    B***\n",
            "Name: nama, dtype: object\n"
          ],
          "name": "stdout"
        }
      ]
    },
    {
      "cell_type": "markdown",
      "metadata": {
        "id": "k2xez1pUAkfS"
      },
      "source": [
        "Didapatlah hanya satu orang (bernama B\\*\\*\\*) yang *highly unlikely* untuk mendapat pasangan di antara wanita-wanita di sini."
      ]
    },
    {
      "cell_type": "markdown",
      "metadata": {
        "id": "64fhDE17BLHD"
      },
      "source": [
        "# Model"
      ]
    },
    {
      "cell_type": "code",
      "metadata": {
        "id": "8aIqBpDfN88u"
      },
      "source": [
        "# Karena jumlah wanita jauh lebih sedikit daripadi lelaki,\n",
        "# berikan rekomendasi lebih sedikit pada masing-masing lelaki\n",
        "m_nbrs = NearestNeighbors(n_neighbors=5).fit(\n",
        "    male.drop([\"nama\", \"gender\"], axis=1))\n",
        "f_nbrs = NearestNeighbors(n_neighbors=2).fit(\n",
        "    female.drop([\"nama\", \"gender\"], axis=1))"
      ],
      "execution_count": 185,
      "outputs": []
    },
    {
      "cell_type": "code",
      "metadata": {
        "id": "88N7btJwRam_",
        "outputId": "b52b3272-7afd-4a6c-8966-9cf012b437bc",
        "colab": {
          "base_uri": "https://localhost:8080/",
          "height": 128
        }
      },
      "source": [
        "# Misal ingin diketahui yang paling cocok dengan lelaki bernama i****\n",
        "# Indexnya di df adalah 51\n",
        "apart, ind = f_nbrs.kneighbors(male.loc[male.index==51, \"time\":\"service\"],\n",
        "                  return_distance=True)\n",
        "\n",
        "# Euclidean Distance ke si wanita\n",
        "print(apart)\n",
        "\n",
        "# Nama dari wanita yang cocok itu:\n",
        "df[df.index.isin(ind[0])]"
      ],
      "execution_count": 186,
      "outputs": [
        {
          "output_type": "stream",
          "text": [
            "[[2.44948974 2.64575131]]\n"
          ],
          "name": "stdout"
        },
        {
          "output_type": "execute_result",
          "data": {
            "text/html": [
              "<div>\n",
              "<style scoped>\n",
              "    .dataframe tbody tr th:only-of-type {\n",
              "        vertical-align: middle;\n",
              "    }\n",
              "\n",
              "    .dataframe tbody tr th {\n",
              "        vertical-align: top;\n",
              "    }\n",
              "\n",
              "    .dataframe thead th {\n",
              "        text-align: right;\n",
              "    }\n",
              "</style>\n",
              "<table border=\"1\" class=\"dataframe\">\n",
              "  <thead>\n",
              "    <tr style=\"text-align: right;\">\n",
              "      <th></th>\n",
              "      <th>nama</th>\n",
              "      <th>gender</th>\n",
              "      <th>time</th>\n",
              "      <th>touch</th>\n",
              "      <th>word</th>\n",
              "      <th>gift</th>\n",
              "      <th>service</th>\n",
              "    </tr>\n",
              "  </thead>\n",
              "  <tbody>\n",
              "    <tr>\n",
              "      <th>2</th>\n",
              "      <td>Y***********</td>\n",
              "      <td>0</td>\n",
              "      <td>4</td>\n",
              "      <td>3</td>\n",
              "      <td>4</td>\n",
              "      <td>4</td>\n",
              "      <td>4</td>\n",
              "    </tr>\n",
              "    <tr>\n",
              "      <th>15</th>\n",
              "      <td>A*</td>\n",
              "      <td>0</td>\n",
              "      <td>4</td>\n",
              "      <td>3</td>\n",
              "      <td>5</td>\n",
              "      <td>4</td>\n",
              "      <td>4</td>\n",
              "    </tr>\n",
              "  </tbody>\n",
              "</table>\n",
              "</div>"
            ],
            "text/plain": [
              "            nama  gender  time  touch  word  gift  service\n",
              "2   Y***********       0     4      3     4     4        4\n",
              "15            A*       0     4      3     5     4        4"
            ]
          },
          "metadata": {
            "tags": []
          },
          "execution_count": 186
        }
      ]
    }
  ]
}
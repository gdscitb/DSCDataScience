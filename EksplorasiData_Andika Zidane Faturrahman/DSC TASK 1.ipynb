{
 "cells": [
  {
   "cell_type": "markdown",
   "metadata": {},
   "source": [
    "# DSC DATA SCIENCE TASK\n",
    "\n",
    "Nama : Andika Zidane Faturrahman\n",
    "\n",
    "NIM  : 10119111\n",
    "\n",
    "Asal universitas : ITB\n",
    "\n",
    "Dataset : TakeMeOut\n",
    "\n",
    "Tanggal mulai pengerjaan : Minggu, 8 November 2020"
   ]
  },
  {
   "cell_type": "markdown",
   "metadata": {},
   "source": [
    "## Data Observation"
   ]
  },
  {
   "cell_type": "code",
   "execution_count": 12,
   "metadata": {},
   "outputs": [
    {
     "data": {
      "text/html": [
       "<div>\n",
       "<style scoped>\n",
       "    .dataframe tbody tr th:only-of-type {\n",
       "        vertical-align: middle;\n",
       "    }\n",
       "\n",
       "    .dataframe tbody tr th {\n",
       "        vertical-align: top;\n",
       "    }\n",
       "\n",
       "    .dataframe thead th {\n",
       "        text-align: right;\n",
       "    }\n",
       "</style>\n",
       "<table border=\"1\" class=\"dataframe\">\n",
       "  <thead>\n",
       "    <tr style=\"text-align: right;\">\n",
       "      <th></th>\n",
       "      <th>Timestamp</th>\n",
       "      <th>Siapa nama kamu?</th>\n",
       "      <th>Cewek atau cowok nih?</th>\n",
       "      <th>Seberapa penting quality time bareng calon pacar untuk kamu?</th>\n",
       "      <th>Seberapa penting physical touch sama calon pacar untuk kamu?</th>\n",
       "      <th>Seberapa penting word of affirmation dari calon pacar untuk kamu?</th>\n",
       "      <th>Seberapa penting dapet kado dari calon pacar untuk kamu?</th>\n",
       "      <th>Seberapa penting bantuan dari calon pacar untuk kamu?</th>\n",
       "    </tr>\n",
       "  </thead>\n",
       "  <tbody>\n",
       "    <tr>\n",
       "      <th>0</th>\n",
       "      <td>2020/10/31 3:39:25 PM GMT+7</td>\n",
       "      <td>A**************</td>\n",
       "      <td>Cowok</td>\n",
       "      <td>5</td>\n",
       "      <td>5</td>\n",
       "      <td>4</td>\n",
       "      <td>1</td>\n",
       "      <td>3</td>\n",
       "    </tr>\n",
       "    <tr>\n",
       "      <th>1</th>\n",
       "      <td>2020/10/31 3:39:36 PM GMT+7</td>\n",
       "      <td>L****</td>\n",
       "      <td>Cewek</td>\n",
       "      <td>5</td>\n",
       "      <td>5</td>\n",
       "      <td>3</td>\n",
       "      <td>2</td>\n",
       "      <td>2</td>\n",
       "    </tr>\n",
       "    <tr>\n",
       "      <th>2</th>\n",
       "      <td>2020/10/31 3:39:38 PM GMT+7</td>\n",
       "      <td>Y***********</td>\n",
       "      <td>Cowok</td>\n",
       "      <td>4</td>\n",
       "      <td>3</td>\n",
       "      <td>4</td>\n",
       "      <td>4</td>\n",
       "      <td>4</td>\n",
       "    </tr>\n",
       "    <tr>\n",
       "      <th>3</th>\n",
       "      <td>2020/10/31 3:39:42 PM GMT+7</td>\n",
       "      <td>a***</td>\n",
       "      <td>Cowok</td>\n",
       "      <td>5</td>\n",
       "      <td>5</td>\n",
       "      <td>5</td>\n",
       "      <td>2</td>\n",
       "      <td>3</td>\n",
       "    </tr>\n",
       "    <tr>\n",
       "      <th>4</th>\n",
       "      <td>2020/10/31 3:39:43 PM GMT+7</td>\n",
       "      <td>B****</td>\n",
       "      <td>Cowok</td>\n",
       "      <td>5</td>\n",
       "      <td>5</td>\n",
       "      <td>5</td>\n",
       "      <td>2</td>\n",
       "      <td>4</td>\n",
       "    </tr>\n",
       "    <tr>\n",
       "      <th>...</th>\n",
       "      <td>...</td>\n",
       "      <td>...</td>\n",
       "      <td>...</td>\n",
       "      <td>...</td>\n",
       "      <td>...</td>\n",
       "      <td>...</td>\n",
       "      <td>...</td>\n",
       "      <td>...</td>\n",
       "    </tr>\n",
       "    <tr>\n",
       "      <th>96</th>\n",
       "      <td>2020/10/31 3:42:57 PM GMT+7</td>\n",
       "      <td>A********</td>\n",
       "      <td>Cowok</td>\n",
       "      <td>5</td>\n",
       "      <td>1</td>\n",
       "      <td>4</td>\n",
       "      <td>2</td>\n",
       "      <td>3</td>\n",
       "    </tr>\n",
       "    <tr>\n",
       "      <th>97</th>\n",
       "      <td>2020/10/31 3:43:02 PM GMT+7</td>\n",
       "      <td>K************</td>\n",
       "      <td>Cewek</td>\n",
       "      <td>4</td>\n",
       "      <td>5</td>\n",
       "      <td>4</td>\n",
       "      <td>4</td>\n",
       "      <td>3</td>\n",
       "    </tr>\n",
       "    <tr>\n",
       "      <th>98</th>\n",
       "      <td>2020/10/31 3:43:04 PM GMT+7</td>\n",
       "      <td>M*</td>\n",
       "      <td>Cowok</td>\n",
       "      <td>5</td>\n",
       "      <td>5</td>\n",
       "      <td>5</td>\n",
       "      <td>5</td>\n",
       "      <td>4</td>\n",
       "    </tr>\n",
       "    <tr>\n",
       "      <th>99</th>\n",
       "      <td>2020/10/31 3:43:11 PM GMT+7</td>\n",
       "      <td>K********************</td>\n",
       "      <td>Cowok</td>\n",
       "      <td>1</td>\n",
       "      <td>1</td>\n",
       "      <td>1</td>\n",
       "      <td>1</td>\n",
       "      <td>1</td>\n",
       "    </tr>\n",
       "    <tr>\n",
       "      <th>100</th>\n",
       "      <td>2020/10/31 3:43:22 PM GMT+7</td>\n",
       "      <td>B***********</td>\n",
       "      <td>Cowok</td>\n",
       "      <td>5</td>\n",
       "      <td>5</td>\n",
       "      <td>5</td>\n",
       "      <td>5</td>\n",
       "      <td>4</td>\n",
       "    </tr>\n",
       "  </tbody>\n",
       "</table>\n",
       "<p>101 rows × 8 columns</p>\n",
       "</div>"
      ],
      "text/plain": [
       "                       Timestamp       Siapa nama kamu? Cewek atau cowok nih?  \\\n",
       "0    2020/10/31 3:39:25 PM GMT+7        A**************                 Cowok   \n",
       "1    2020/10/31 3:39:36 PM GMT+7                  L****                 Cewek   \n",
       "2    2020/10/31 3:39:38 PM GMT+7           Y***********                 Cowok   \n",
       "3    2020/10/31 3:39:42 PM GMT+7                   a***                 Cowok   \n",
       "4    2020/10/31 3:39:43 PM GMT+7                  B****                 Cowok   \n",
       "..                           ...                    ...                   ...   \n",
       "96   2020/10/31 3:42:57 PM GMT+7              A********                 Cowok   \n",
       "97   2020/10/31 3:43:02 PM GMT+7          K************                 Cewek   \n",
       "98   2020/10/31 3:43:04 PM GMT+7                     M*                 Cowok   \n",
       "99   2020/10/31 3:43:11 PM GMT+7  K********************                 Cowok   \n",
       "100  2020/10/31 3:43:22 PM GMT+7           B***********                 Cowok   \n",
       "\n",
       "     Seberapa penting quality time bareng calon pacar untuk kamu?  \\\n",
       "0                                                    5              \n",
       "1                                                    5              \n",
       "2                                                    4              \n",
       "3                                                    5              \n",
       "4                                                    5              \n",
       "..                                                 ...              \n",
       "96                                                   5              \n",
       "97                                                   4              \n",
       "98                                                   5              \n",
       "99                                                   1              \n",
       "100                                                  5              \n",
       "\n",
       "     Seberapa penting physical touch sama calon pacar untuk kamu?  \\\n",
       "0                                                    5              \n",
       "1                                                    5              \n",
       "2                                                    3              \n",
       "3                                                    5              \n",
       "4                                                    5              \n",
       "..                                                 ...              \n",
       "96                                                   1              \n",
       "97                                                   5              \n",
       "98                                                   5              \n",
       "99                                                   1              \n",
       "100                                                  5              \n",
       "\n",
       "     Seberapa penting word of affirmation dari calon pacar untuk kamu?  \\\n",
       "0                                                    4                   \n",
       "1                                                    3                   \n",
       "2                                                    4                   \n",
       "3                                                    5                   \n",
       "4                                                    5                   \n",
       "..                                                 ...                   \n",
       "96                                                   4                   \n",
       "97                                                   4                   \n",
       "98                                                   5                   \n",
       "99                                                   1                   \n",
       "100                                                  5                   \n",
       "\n",
       "     Seberapa penting dapet kado dari calon pacar untuk kamu?  \\\n",
       "0                                                    1          \n",
       "1                                                    2          \n",
       "2                                                    4          \n",
       "3                                                    2          \n",
       "4                                                    2          \n",
       "..                                                 ...          \n",
       "96                                                   2          \n",
       "97                                                   4          \n",
       "98                                                   5          \n",
       "99                                                   1          \n",
       "100                                                  5          \n",
       "\n",
       "     Seberapa penting bantuan dari calon pacar untuk kamu?  \n",
       "0                                                    3      \n",
       "1                                                    2      \n",
       "2                                                    4      \n",
       "3                                                    3      \n",
       "4                                                    4      \n",
       "..                                                 ...      \n",
       "96                                                   3      \n",
       "97                                                   3      \n",
       "98                                                   4      \n",
       "99                                                   1      \n",
       "100                                                  4      \n",
       "\n",
       "[101 rows x 8 columns]"
      ]
     },
     "execution_count": 12,
     "metadata": {},
     "output_type": "execute_result"
    }
   ],
   "source": [
    "import pandas as pd\n",
    "import matplotlib.pyplot as plt\n",
    "import seaborn as sns\n",
    "import numpy as np\n",
    "\n",
    "df = pd.read_csv(\"takemeout.csv\")\n",
    "df"
   ]
  },
  {
   "cell_type": "markdown",
   "metadata": {},
   "source": [
    "Data \"takemeout.csv\" ini memiliki 101 baris dan 8 kolom dengan kolom pertama berisi timestamp yaitu waktu responden mensubmit formnya lalu kolom ke-2 yaitu nama responden, kolom ke-3 mengenai gender responden dan kolom ke-4 sampai kolom ke-8 berisi linear scale dari 0-5 mengenai seberapa penting quality time bareng calon pacar, seberapa penting physical touch sama calon pacar, seberapa penting word of affirmation, seberapa penting mendapat kado dan seberapa penting bantuan dari calon pacar untukmu"
   ]
  },
  {
   "cell_type": "code",
   "execution_count": 3,
   "metadata": {},
   "outputs": [
    {
     "data": {
      "text/html": [
       "<div>\n",
       "<style scoped>\n",
       "    .dataframe tbody tr th:only-of-type {\n",
       "        vertical-align: middle;\n",
       "    }\n",
       "\n",
       "    .dataframe tbody tr th {\n",
       "        vertical-align: top;\n",
       "    }\n",
       "\n",
       "    .dataframe thead th {\n",
       "        text-align: right;\n",
       "    }\n",
       "</style>\n",
       "<table border=\"1\" class=\"dataframe\">\n",
       "  <thead>\n",
       "    <tr style=\"text-align: right;\">\n",
       "      <th></th>\n",
       "      <th>Timestamp</th>\n",
       "      <th>Siapa nama kamu?</th>\n",
       "      <th>Cewek atau cowok nih?</th>\n",
       "      <th>Seberapa penting quality time bareng calon pacar untuk kamu?</th>\n",
       "      <th>Seberapa penting physical touch sama calon pacar untuk kamu?</th>\n",
       "      <th>Seberapa penting word of affirmation dari calon pacar untuk kamu?</th>\n",
       "      <th>Seberapa penting dapet kado dari calon pacar untuk kamu?</th>\n",
       "      <th>Seberapa penting bantuan dari calon pacar untuk kamu?</th>\n",
       "    </tr>\n",
       "  </thead>\n",
       "  <tbody>\n",
       "    <tr>\n",
       "      <th>0</th>\n",
       "      <td>2020/10/31 3:39:25 PM GMT+7</td>\n",
       "      <td>A**************</td>\n",
       "      <td>Cowok</td>\n",
       "      <td>5</td>\n",
       "      <td>5</td>\n",
       "      <td>4</td>\n",
       "      <td>1</td>\n",
       "      <td>3</td>\n",
       "    </tr>\n",
       "    <tr>\n",
       "      <th>1</th>\n",
       "      <td>2020/10/31 3:39:36 PM GMT+7</td>\n",
       "      <td>L****</td>\n",
       "      <td>Cewek</td>\n",
       "      <td>5</td>\n",
       "      <td>5</td>\n",
       "      <td>3</td>\n",
       "      <td>2</td>\n",
       "      <td>2</td>\n",
       "    </tr>\n",
       "    <tr>\n",
       "      <th>2</th>\n",
       "      <td>2020/10/31 3:39:38 PM GMT+7</td>\n",
       "      <td>Y***********</td>\n",
       "      <td>Cowok</td>\n",
       "      <td>4</td>\n",
       "      <td>3</td>\n",
       "      <td>4</td>\n",
       "      <td>4</td>\n",
       "      <td>4</td>\n",
       "    </tr>\n",
       "    <tr>\n",
       "      <th>3</th>\n",
       "      <td>2020/10/31 3:39:42 PM GMT+7</td>\n",
       "      <td>a***</td>\n",
       "      <td>Cowok</td>\n",
       "      <td>5</td>\n",
       "      <td>5</td>\n",
       "      <td>5</td>\n",
       "      <td>2</td>\n",
       "      <td>3</td>\n",
       "    </tr>\n",
       "    <tr>\n",
       "      <th>4</th>\n",
       "      <td>2020/10/31 3:39:43 PM GMT+7</td>\n",
       "      <td>B****</td>\n",
       "      <td>Cowok</td>\n",
       "      <td>5</td>\n",
       "      <td>5</td>\n",
       "      <td>5</td>\n",
       "      <td>2</td>\n",
       "      <td>4</td>\n",
       "    </tr>\n",
       "  </tbody>\n",
       "</table>\n",
       "</div>"
      ],
      "text/plain": [
       "                     Timestamp Siapa nama kamu? Cewek atau cowok nih?  \\\n",
       "0  2020/10/31 3:39:25 PM GMT+7  A**************                 Cowok   \n",
       "1  2020/10/31 3:39:36 PM GMT+7            L****                 Cewek   \n",
       "2  2020/10/31 3:39:38 PM GMT+7     Y***********                 Cowok   \n",
       "3  2020/10/31 3:39:42 PM GMT+7             a***                 Cowok   \n",
       "4  2020/10/31 3:39:43 PM GMT+7            B****                 Cowok   \n",
       "\n",
       "   Seberapa penting quality time bareng calon pacar untuk kamu?  \\\n",
       "0                                                  5              \n",
       "1                                                  5              \n",
       "2                                                  4              \n",
       "3                                                  5              \n",
       "4                                                  5              \n",
       "\n",
       "   Seberapa penting physical touch sama calon pacar untuk kamu?  \\\n",
       "0                                                  5              \n",
       "1                                                  5              \n",
       "2                                                  3              \n",
       "3                                                  5              \n",
       "4                                                  5              \n",
       "\n",
       "   Seberapa penting word of affirmation dari calon pacar untuk kamu?  \\\n",
       "0                                                  4                   \n",
       "1                                                  3                   \n",
       "2                                                  4                   \n",
       "3                                                  5                   \n",
       "4                                                  5                   \n",
       "\n",
       "   Seberapa penting dapet kado dari calon pacar untuk kamu?  \\\n",
       "0                                                  1          \n",
       "1                                                  2          \n",
       "2                                                  4          \n",
       "3                                                  2          \n",
       "4                                                  2          \n",
       "\n",
       "   Seberapa penting bantuan dari calon pacar untuk kamu?  \n",
       "0                                                  3      \n",
       "1                                                  2      \n",
       "2                                                  4      \n",
       "3                                                  3      \n",
       "4                                                  4      "
      ]
     },
     "execution_count": 3,
     "metadata": {},
     "output_type": "execute_result"
    }
   ],
   "source": [
    "# Melihat 5 baris teratas dari data\n",
    "df.head()"
   ]
  },
  {
   "cell_type": "code",
   "execution_count": 4,
   "metadata": {},
   "outputs": [
    {
     "name": "stdout",
     "output_type": "stream",
     "text": [
      "<class 'pandas.core.frame.DataFrame'>\n",
      "RangeIndex: 101 entries, 0 to 100\n",
      "Data columns (total 8 columns):\n",
      " #   Column                                                             Non-Null Count  Dtype \n",
      "---  ------                                                             --------------  ----- \n",
      " 0   Timestamp                                                          101 non-null    object\n",
      " 1   Siapa nama kamu?                                                   101 non-null    object\n",
      " 2   Cewek atau cowok nih?                                              101 non-null    object\n",
      " 3   Seberapa penting quality time bareng calon pacar untuk kamu?       101 non-null    int64 \n",
      " 4   Seberapa penting physical touch sama calon pacar untuk kamu?       101 non-null    int64 \n",
      " 5   Seberapa penting word of affirmation dari calon pacar untuk kamu?  101 non-null    int64 \n",
      " 6   Seberapa penting dapet kado dari calon pacar untuk kamu?           101 non-null    int64 \n",
      " 7   Seberapa penting bantuan dari calon pacar untuk kamu?              101 non-null    int64 \n",
      "dtypes: int64(5), object(3)\n",
      "memory usage: 6.4+ KB\n"
     ]
    }
   ],
   "source": [
    "# Melihat informasi data kita mulai dari jumlah data, tipe data, memori yang digunakan dll.\n",
    "df.info()\n",
    "\n",
    "# Data ini memiliki 101 entri dengan indeks dari 0 sampai 100 ada 7 kolom dan pada kolom 0-2 kita sedang mengamati jenis data berupa string dan kolom 3-7 adalah data berjenis integer"
   ]
  },
  {
   "cell_type": "markdown",
   "metadata": {},
   "source": [
    "## Data Cleaning"
   ]
  },
  {
   "cell_type": "code",
   "execution_count": 5,
   "metadata": {},
   "outputs": [
    {
     "data": {
      "text/plain": [
       "Timestamp                                                            0\n",
       "Siapa nama kamu?                                                     0\n",
       "Cewek atau cowok nih?                                                0\n",
       "Seberapa penting quality time bareng calon pacar untuk kamu?         0\n",
       "Seberapa penting physical touch sama calon pacar untuk kamu?         0\n",
       "Seberapa penting word of affirmation dari calon pacar untuk kamu?    0\n",
       "Seberapa penting dapet kado dari calon pacar untuk kamu?             0\n",
       "Seberapa penting bantuan dari calon pacar untuk kamu?                0\n",
       "dtype: int64"
      ]
     },
     "execution_count": 5,
     "metadata": {},
     "output_type": "execute_result"
    }
   ],
   "source": [
    "#Mencari dan menangani missing values.\n",
    "\n",
    "df.isnull().sum()\n",
    "\n",
    "# tidak ada data dengan missing values"
   ]
  },
  {
   "cell_type": "code",
   "execution_count": 8,
   "metadata": {},
   "outputs": [],
   "source": [
    "df1 = df.drop(['Timestamp','Siapa nama kamu?'],axis = 1)\n",
    "df1.columns = ['Gender','Quality Time','Physical Touch','Word of Affirmation','Dapat Hadiah','Bantuan']"
   ]
  },
  {
   "cell_type": "code",
   "execution_count": 15,
   "metadata": {},
   "outputs": [
    {
     "data": {
      "text/html": [
       "<div>\n",
       "<style scoped>\n",
       "    .dataframe tbody tr th:only-of-type {\n",
       "        vertical-align: middle;\n",
       "    }\n",
       "\n",
       "    .dataframe tbody tr th {\n",
       "        vertical-align: top;\n",
       "    }\n",
       "\n",
       "    .dataframe thead th {\n",
       "        text-align: right;\n",
       "    }\n",
       "</style>\n",
       "<table border=\"1\" class=\"dataframe\">\n",
       "  <thead>\n",
       "    <tr style=\"text-align: right;\">\n",
       "      <th></th>\n",
       "      <th>Gender</th>\n",
       "      <th>Quality Time</th>\n",
       "      <th>Physical Touch</th>\n",
       "      <th>Word of Affirmation</th>\n",
       "      <th>Dapat Hadiah</th>\n",
       "      <th>Bantuan</th>\n",
       "    </tr>\n",
       "  </thead>\n",
       "  <tbody>\n",
       "    <tr>\n",
       "      <th>0</th>\n",
       "      <td>Cowok</td>\n",
       "      <td>5</td>\n",
       "      <td>5</td>\n",
       "      <td>4</td>\n",
       "      <td>1</td>\n",
       "      <td>3</td>\n",
       "    </tr>\n",
       "    <tr>\n",
       "      <th>1</th>\n",
       "      <td>Cewek</td>\n",
       "      <td>5</td>\n",
       "      <td>5</td>\n",
       "      <td>3</td>\n",
       "      <td>2</td>\n",
       "      <td>2</td>\n",
       "    </tr>\n",
       "    <tr>\n",
       "      <th>2</th>\n",
       "      <td>Cowok</td>\n",
       "      <td>4</td>\n",
       "      <td>3</td>\n",
       "      <td>4</td>\n",
       "      <td>4</td>\n",
       "      <td>4</td>\n",
       "    </tr>\n",
       "    <tr>\n",
       "      <th>3</th>\n",
       "      <td>Cowok</td>\n",
       "      <td>5</td>\n",
       "      <td>5</td>\n",
       "      <td>5</td>\n",
       "      <td>2</td>\n",
       "      <td>3</td>\n",
       "    </tr>\n",
       "    <tr>\n",
       "      <th>4</th>\n",
       "      <td>Cowok</td>\n",
       "      <td>5</td>\n",
       "      <td>5</td>\n",
       "      <td>5</td>\n",
       "      <td>2</td>\n",
       "      <td>4</td>\n",
       "    </tr>\n",
       "    <tr>\n",
       "      <th>...</th>\n",
       "      <td>...</td>\n",
       "      <td>...</td>\n",
       "      <td>...</td>\n",
       "      <td>...</td>\n",
       "      <td>...</td>\n",
       "      <td>...</td>\n",
       "    </tr>\n",
       "    <tr>\n",
       "      <th>96</th>\n",
       "      <td>Cowok</td>\n",
       "      <td>5</td>\n",
       "      <td>1</td>\n",
       "      <td>4</td>\n",
       "      <td>2</td>\n",
       "      <td>3</td>\n",
       "    </tr>\n",
       "    <tr>\n",
       "      <th>97</th>\n",
       "      <td>Cewek</td>\n",
       "      <td>4</td>\n",
       "      <td>5</td>\n",
       "      <td>4</td>\n",
       "      <td>4</td>\n",
       "      <td>3</td>\n",
       "    </tr>\n",
       "    <tr>\n",
       "      <th>98</th>\n",
       "      <td>Cowok</td>\n",
       "      <td>5</td>\n",
       "      <td>5</td>\n",
       "      <td>5</td>\n",
       "      <td>5</td>\n",
       "      <td>4</td>\n",
       "    </tr>\n",
       "    <tr>\n",
       "      <th>99</th>\n",
       "      <td>Cowok</td>\n",
       "      <td>1</td>\n",
       "      <td>1</td>\n",
       "      <td>1</td>\n",
       "      <td>1</td>\n",
       "      <td>1</td>\n",
       "    </tr>\n",
       "    <tr>\n",
       "      <th>100</th>\n",
       "      <td>Cowok</td>\n",
       "      <td>5</td>\n",
       "      <td>5</td>\n",
       "      <td>5</td>\n",
       "      <td>5</td>\n",
       "      <td>4</td>\n",
       "    </tr>\n",
       "  </tbody>\n",
       "</table>\n",
       "<p>101 rows × 6 columns</p>\n",
       "</div>"
      ],
      "text/plain": [
       "    Gender  Quality Time  Physical Touch  Word of Affirmation  Dapat Hadiah  \\\n",
       "0    Cowok             5               5                    4             1   \n",
       "1    Cewek             5               5                    3             2   \n",
       "2    Cowok             4               3                    4             4   \n",
       "3    Cowok             5               5                    5             2   \n",
       "4    Cowok             5               5                    5             2   \n",
       "..     ...           ...             ...                  ...           ...   \n",
       "96   Cowok             5               1                    4             2   \n",
       "97   Cewek             4               5                    4             4   \n",
       "98   Cowok             5               5                    5             5   \n",
       "99   Cowok             1               1                    1             1   \n",
       "100  Cowok             5               5                    5             5   \n",
       "\n",
       "     Bantuan  \n",
       "0          3  \n",
       "1          2  \n",
       "2          4  \n",
       "3          3  \n",
       "4          4  \n",
       "..       ...  \n",
       "96         3  \n",
       "97         3  \n",
       "98         4  \n",
       "99         1  \n",
       "100        4  \n",
       "\n",
       "[101 rows x 6 columns]"
      ]
     },
     "execution_count": 15,
     "metadata": {},
     "output_type": "execute_result"
    }
   ],
   "source": [
    "df1"
   ]
  },
  {
   "cell_type": "markdown",
   "metadata": {},
   "source": [
    "### Analisis Gender"
   ]
  },
  {
   "cell_type": "code",
   "execution_count": 20,
   "metadata": {},
   "outputs": [
    {
     "data": {
      "text/html": [
       "<div>\n",
       "<style scoped>\n",
       "    .dataframe tbody tr th:only-of-type {\n",
       "        vertical-align: middle;\n",
       "    }\n",
       "\n",
       "    .dataframe tbody tr th {\n",
       "        vertical-align: top;\n",
       "    }\n",
       "\n",
       "    .dataframe thead th {\n",
       "        text-align: right;\n",
       "    }\n",
       "</style>\n",
       "<table border=\"1\" class=\"dataframe\">\n",
       "  <thead>\n",
       "    <tr style=\"text-align: right;\">\n",
       "      <th></th>\n",
       "      <th>Gender</th>\n",
       "    </tr>\n",
       "  </thead>\n",
       "  <tbody>\n",
       "    <tr>\n",
       "      <th>Cowok</th>\n",
       "      <td>81</td>\n",
       "    </tr>\n",
       "    <tr>\n",
       "      <th>Cewek</th>\n",
       "      <td>20</td>\n",
       "    </tr>\n",
       "  </tbody>\n",
       "</table>\n",
       "</div>"
      ],
      "text/plain": [
       "       Gender\n",
       "Cowok      81\n",
       "Cewek      20"
      ]
     },
     "execution_count": 20,
     "metadata": {},
     "output_type": "execute_result"
    }
   ],
   "source": [
    "a = df1['Gender'].value_counts().rename_axis('Gender').reset_index(name='Jumlah Responden')\n",
    "df1['Gender'].value_counts().to_frame()"
   ]
  },
  {
   "cell_type": "code",
   "execution_count": 29,
   "metadata": {},
   "outputs": [
    {
     "data": {
      "text/plain": [
       "<matplotlib.axes._subplots.AxesSubplot at 0x24cfbea2340>"
      ]
     },
     "execution_count": 29,
     "metadata": {},
     "output_type": "execute_result"
    },
    {
     "data": {
      "image/png": "[encoded data removed]",
      "text/plain": [
       "<Figure size 432x360 with 1 Axes>"
      ]
     },
     "metadata": {
      "needs_background": "light"
     },
     "output_type": "display_data"
    }
   ],
   "source": [
    "plt.figure(figsize=(6,5))\n",
    "plt.title('Gender Responden')\n",
    "sns.barplot(x='Gender',y='Jumlah Responden',data = a)"
   ]
  },
  {
   "cell_type": "code",
   "execution_count": 37,
   "metadata": {},
   "outputs": [
    {
     "data": {
      "text/plain": [
       "<matplotlib.axes._subplots.AxesSubplot at 0x24cfb8ea190>"
      ]
     },
     "execution_count": 37,
     "metadata": {},
     "output_type": "execute_result"
    },
    {
     "data": {
      "image/png": "[encoded data removed]",
      "text/plain": [
       "<Figure size 432x288 with 1 Axes>"
      ]
     },
     "metadata": {
      "needs_background": "light"
     },
     "output_type": "display_data"
    }
   ],
   "source": [
    "from scipy.stats import norm\n",
    "sns.distplot(df1['Gender'].value_counts(),fit = norm)"
   ]
  },
  {
   "cell_type": "markdown",
   "metadata": {},
   "source": [
    "Bisa dilihat bahwa jumlah responden laki-laki lebih banyak daripada perempuan yang bisa jadi berarti laki-laki cenderung lebih banyak yang menjomblo daripada perempuan. Pada grafik distribusi, kita amati bahwa terdapat dua puncak yang menandakan dua populasi yang berbeda dalam gender (laki-laki atau perempuan)"
   ]
  },
  {
   "cell_type": "markdown",
   "metadata": {},
   "source": [
    "### Analisis Preferensi Responden Terhadap Quality Time bersama Calon Pacar"
   ]
  },
  {
   "cell_type": "code",
   "execution_count": 39,
   "metadata": {},
   "outputs": [
    {
     "data": {
      "text/html": [
       "<div>\n",
       "<style scoped>\n",
       "    .dataframe tbody tr th:only-of-type {\n",
       "        vertical-align: middle;\n",
       "    }\n",
       "\n",
       "    .dataframe tbody tr th {\n",
       "        vertical-align: top;\n",
       "    }\n",
       "\n",
       "    .dataframe thead th {\n",
       "        text-align: right;\n",
       "    }\n",
       "</style>\n",
       "<table border=\"1\" class=\"dataframe\">\n",
       "  <thead>\n",
       "    <tr style=\"text-align: right;\">\n",
       "      <th></th>\n",
       "      <th>Kategori</th>\n",
       "      <th>Penjelasan</th>\n",
       "    </tr>\n",
       "  </thead>\n",
       "  <tbody>\n",
       "    <tr>\n",
       "      <th>0</th>\n",
       "      <td>1</td>\n",
       "      <td>Tidak penting</td>\n",
       "    </tr>\n",
       "    <tr>\n",
       "      <th>1</th>\n",
       "      <td>2</td>\n",
       "      <td>Kurang penting</td>\n",
       "    </tr>\n",
       "    <tr>\n",
       "      <th>2</th>\n",
       "      <td>3</td>\n",
       "      <td>Biasa</td>\n",
       "    </tr>\n",
       "    <tr>\n",
       "      <th>3</th>\n",
       "      <td>4</td>\n",
       "      <td>Lebih penting</td>\n",
       "    </tr>\n",
       "    <tr>\n",
       "      <th>4</th>\n",
       "      <td>5</td>\n",
       "      <td>Sangat penting</td>\n",
       "    </tr>\n",
       "  </tbody>\n",
       "</table>\n",
       "</div>"
      ],
      "text/plain": [
       "  Kategori      Penjelasan\n",
       "0        1   Tidak penting\n",
       "1        2  Kurang penting\n",
       "2        3           Biasa\n",
       "3        4   Lebih penting\n",
       "4        5  Sangat penting"
      ]
     },
     "execution_count": 39,
     "metadata": {},
     "output_type": "execute_result"
    }
   ],
   "source": [
    "dic_quality_time = {\n",
    "    'Kategori': [str(i) for i in range(1,6)],\n",
    "    'Penjelasan':['Tidak penting','Kurang penting','Biasa','Lebih penting','Sangat penting']\n",
    "}\n",
    "df_dic_quality_time = pd.DataFrame(dic_quality_time)\n",
    "df_dic_quality_time"
   ]
  },
  {
   "cell_type": "code",
   "execution_count": 25,
   "metadata": {},
   "outputs": [
    {
     "data": {
      "text/html": [
       "<div>\n",
       "<style scoped>\n",
       "    .dataframe tbody tr th:only-of-type {\n",
       "        vertical-align: middle;\n",
       "    }\n",
       "\n",
       "    .dataframe tbody tr th {\n",
       "        vertical-align: top;\n",
       "    }\n",
       "\n",
       "    .dataframe thead th {\n",
       "        text-align: right;\n",
       "    }\n",
       "</style>\n",
       "<table border=\"1\" class=\"dataframe\">\n",
       "  <thead>\n",
       "    <tr style=\"text-align: right;\">\n",
       "      <th></th>\n",
       "      <th>Quality Time</th>\n",
       "    </tr>\n",
       "  </thead>\n",
       "  <tbody>\n",
       "    <tr>\n",
       "      <th>5</th>\n",
       "      <td>51</td>\n",
       "    </tr>\n",
       "    <tr>\n",
       "      <th>4</th>\n",
       "      <td>28</td>\n",
       "    </tr>\n",
       "    <tr>\n",
       "      <th>3</th>\n",
       "      <td>12</td>\n",
       "    </tr>\n",
       "    <tr>\n",
       "      <th>1</th>\n",
       "      <td>9</td>\n",
       "    </tr>\n",
       "    <tr>\n",
       "      <th>2</th>\n",
       "      <td>1</td>\n",
       "    </tr>\n",
       "  </tbody>\n",
       "</table>\n",
       "</div>"
      ],
      "text/plain": [
       "   Quality Time\n",
       "5            51\n",
       "4            28\n",
       "3            12\n",
       "1             9\n",
       "2             1"
      ]
     },
     "execution_count": 25,
     "metadata": {},
     "output_type": "execute_result"
    }
   ],
   "source": [
    "b = df1['Quality Time'].value_counts().rename_axis('Preferensi Responden').reset_index(name='Jumlah Responden')\n",
    "df1['Quality Time'].value_counts().to_frame()"
   ]
  },
  {
   "cell_type": "code",
   "execution_count": 26,
   "metadata": {},
   "outputs": [
    {
     "data": {
      "text/plain": [
       "<matplotlib.axes._subplots.AxesSubplot at 0x24cfbc4e340>"
      ]
     },
     "execution_count": 26,
     "metadata": {},
     "output_type": "execute_result"
    },
    {
     "data": {
      "image/png": "[encoded data removed]",
      "text/plain": [
       "<Figure size 432x360 with 1 Axes>"
      ]
     },
     "metadata": {
      "needs_background": "light"
     },
     "output_type": "display_data"
    }
   ],
   "source": [
    "plt.figure(figsize=(6,5))\n",
    "plt.title('Seberapa Penting Quality Time Bareng Calon Pacar untuk Kamu?')\n",
    "sns.barplot(x='Preferensi Responden',y='Jumlah Responden',data = b)"
   ]
  },
  {
   "cell_type": "code",
   "execution_count": 38,
   "metadata": {},
   "outputs": [
    {
     "data": {
      "text/plain": [
       "<matplotlib.axes._subplots.AxesSubplot at 0x24cfbac9070>"
      ]
     },
     "execution_count": 38,
     "metadata": {},
     "output_type": "execute_result"
    },
    {
     "data": {
      "image/png": "[encoded data removed]",
      "text/plain": [
       "<Figure size 432x288 with 1 Axes>"
      ]
     },
     "metadata": {
      "needs_background": "light"
     },
     "output_type": "display_data"
    }
   ],
   "source": [
    "sns.distplot(df1['Quality Time'].value_counts(),fit = norm)"
   ]
  },
  {
   "cell_type": "markdown",
   "metadata": {},
   "source": [
    "Bisa kita amati bahwa kebanyakan responden cenderung merasa bahwa quality time bersama calon pacar sangat penting dan hanya sedikit responden yang merasa bahwa quality time itu kurang penting. Dari grafik distribusi bisa kita lihat bahwa distribusi data cenderung menceng kiri menandakan bahwa responden yang merasa quality time itu penting lebih tinggi daripada yang merasa bahwa quality time itu kurang penting"
   ]
  },
  {
   "cell_type": "markdown",
   "metadata": {},
   "source": [
    "### Analisis Preferensi Responden Terhadap Physical Touch Bersama Pacar"
   ]
  },
  {
   "cell_type": "code",
   "execution_count": 40,
   "metadata": {},
   "outputs": [
    {
     "data": {
      "text/html": [
       "<div>\n",
       "<style scoped>\n",
       "    .dataframe tbody tr th:only-of-type {\n",
       "        vertical-align: middle;\n",
       "    }\n",
       "\n",
       "    .dataframe tbody tr th {\n",
       "        vertical-align: top;\n",
       "    }\n",
       "\n",
       "    .dataframe thead th {\n",
       "        text-align: right;\n",
       "    }\n",
       "</style>\n",
       "<table border=\"1\" class=\"dataframe\">\n",
       "  <thead>\n",
       "    <tr style=\"text-align: right;\">\n",
       "      <th></th>\n",
       "      <th>Kategori</th>\n",
       "      <th>Penjelasan</th>\n",
       "    </tr>\n",
       "  </thead>\n",
       "  <tbody>\n",
       "    <tr>\n",
       "      <th>0</th>\n",
       "      <td>1</td>\n",
       "      <td>Tidak penting</td>\n",
       "    </tr>\n",
       "    <tr>\n",
       "      <th>1</th>\n",
       "      <td>2</td>\n",
       "      <td>Kurang penting</td>\n",
       "    </tr>\n",
       "    <tr>\n",
       "      <th>2</th>\n",
       "      <td>3</td>\n",
       "      <td>Biasa</td>\n",
       "    </tr>\n",
       "    <tr>\n",
       "      <th>3</th>\n",
       "      <td>4</td>\n",
       "      <td>Lebih penting</td>\n",
       "    </tr>\n",
       "    <tr>\n",
       "      <th>4</th>\n",
       "      <td>5</td>\n",
       "      <td>Sangat penting</td>\n",
       "    </tr>\n",
       "  </tbody>\n",
       "</table>\n",
       "</div>"
      ],
      "text/plain": [
       "  Kategori      Penjelasan\n",
       "0        1   Tidak penting\n",
       "1        2  Kurang penting\n",
       "2        3           Biasa\n",
       "3        4   Lebih penting\n",
       "4        5  Sangat penting"
      ]
     },
     "execution_count": 40,
     "metadata": {},
     "output_type": "execute_result"
    }
   ],
   "source": [
    "dic_preferensi = {\n",
    "    'Kategori': [str(i) for i in range(1,6)],\n",
    "    'Penjelasan':['Tidak penting','Kurang penting','Biasa','Lebih penting','Sangat penting']\n",
    "}\n",
    "df_dic_preferensi = pd.DataFrame(dic_preferensi)\n",
    "df_dic_preferensi"
   ]
  },
  {
   "cell_type": "code",
   "execution_count": 41,
   "metadata": {},
   "outputs": [
    {
     "data": {
      "text/html": [
       "<div>\n",
       "<style scoped>\n",
       "    .dataframe tbody tr th:only-of-type {\n",
       "        vertical-align: middle;\n",
       "    }\n",
       "\n",
       "    .dataframe tbody tr th {\n",
       "        vertical-align: top;\n",
       "    }\n",
       "\n",
       "    .dataframe thead th {\n",
       "        text-align: right;\n",
       "    }\n",
       "</style>\n",
       "<table border=\"1\" class=\"dataframe\">\n",
       "  <thead>\n",
       "    <tr style=\"text-align: right;\">\n",
       "      <th></th>\n",
       "      <th>Physical Touch</th>\n",
       "    </tr>\n",
       "  </thead>\n",
       "  <tbody>\n",
       "    <tr>\n",
       "      <th>3</th>\n",
       "      <td>34</td>\n",
       "    </tr>\n",
       "    <tr>\n",
       "      <th>5</th>\n",
       "      <td>22</td>\n",
       "    </tr>\n",
       "    <tr>\n",
       "      <th>4</th>\n",
       "      <td>17</td>\n",
       "    </tr>\n",
       "    <tr>\n",
       "      <th>1</th>\n",
       "      <td>16</td>\n",
       "    </tr>\n",
       "    <tr>\n",
       "      <th>2</th>\n",
       "      <td>12</td>\n",
       "    </tr>\n",
       "  </tbody>\n",
       "</table>\n",
       "</div>"
      ],
      "text/plain": [
       "   Physical Touch\n",
       "3              34\n",
       "5              22\n",
       "4              17\n",
       "1              16\n",
       "2              12"
      ]
     },
     "execution_count": 41,
     "metadata": {},
     "output_type": "execute_result"
    }
   ],
   "source": [
    "c = df1['Physical Touch'].value_counts().rename_axis('Preferensi Responden').reset_index(name='Jumlah Responden')\n",
    "df1['Physical Touch'].value_counts().to_frame()"
   ]
  },
  {
   "cell_type": "code",
   "execution_count": 43,
   "metadata": {},
   "outputs": [
    {
     "data": {
      "text/plain": [
       "<matplotlib.axes._subplots.AxesSubplot at 0x24cfbbb59d0>"
      ]
     },
     "execution_count": 43,
     "metadata": {},
     "output_type": "execute_result"
    },
    {
     "data": {
      "image/png": "[encoded data removed]",
      "text/plain": [
       "<Figure size 432x360 with 1 Axes>"
      ]
     },
     "metadata": {
      "needs_background": "light"
     },
     "output_type": "display_data"
    }
   ],
   "source": [
    "plt.figure(figsize=(6,5))\n",
    "plt.title('Seberapa Penting Physical Touch Sama Calon Pacar Untuk Kamu?')\n",
    "sns.barplot(x='Preferensi Responden',y='Jumlah Responden',data = c)"
   ]
  },
  {
   "cell_type": "code",
   "execution_count": 44,
   "metadata": {},
   "outputs": [
    {
     "data": {
      "text/plain": [
       "<matplotlib.axes._subplots.AxesSubplot at 0x24cfbeeeb50>"
      ]
     },
     "execution_count": 44,
     "metadata": {},
     "output_type": "execute_result"
    },
    {
     "data": {
      "image/png": "[encoded data removed]",
      "text/plain": [
       "<Figure size 432x288 with 1 Axes>"
      ]
     },
     "metadata": {
      "needs_background": "light"
     },
     "output_type": "display_data"
    }
   ],
   "source": [
    "sns.distplot(df1['Physical Touch'].value_counts(),fit = norm)"
   ]
  },
  {
   "cell_type": "markdown",
   "metadata": {},
   "source": [
    "Bisa kita amati bahwa responden cenderung memilih physical touch dengan calon pacar adalah sesuatu yang biasa saja. Pada grafik distribusi bisa kita lihat bahwa data cenderung menceng kiri meskipun sebaran responden yang merasa physical touch kurang penting dan yang merasa penting hampir sama"
   ]
  },
  {
   "cell_type": "markdown",
   "metadata": {},
   "source": [
    "### Analisis Preferensi Responden Terhadap Words of Affirmation dari Calon Pacar"
   ]
  },
  {
   "cell_type": "code",
   "execution_count": 45,
   "metadata": {},
   "outputs": [
    {
     "data": {
      "text/html": [
       "<div>\n",
       "<style scoped>\n",
       "    .dataframe tbody tr th:only-of-type {\n",
       "        vertical-align: middle;\n",
       "    }\n",
       "\n",
       "    .dataframe tbody tr th {\n",
       "        vertical-align: top;\n",
       "    }\n",
       "\n",
       "    .dataframe thead th {\n",
       "        text-align: right;\n",
       "    }\n",
       "</style>\n",
       "<table border=\"1\" class=\"dataframe\">\n",
       "  <thead>\n",
       "    <tr style=\"text-align: right;\">\n",
       "      <th></th>\n",
       "      <th>Kategori</th>\n",
       "      <th>Penjelasan</th>\n",
       "    </tr>\n",
       "  </thead>\n",
       "  <tbody>\n",
       "    <tr>\n",
       "      <th>0</th>\n",
       "      <td>1</td>\n",
       "      <td>Tidak penting</td>\n",
       "    </tr>\n",
       "    <tr>\n",
       "      <th>1</th>\n",
       "      <td>2</td>\n",
       "      <td>Kurang penting</td>\n",
       "    </tr>\n",
       "    <tr>\n",
       "      <th>2</th>\n",
       "      <td>3</td>\n",
       "      <td>Biasa</td>\n",
       "    </tr>\n",
       "    <tr>\n",
       "      <th>3</th>\n",
       "      <td>4</td>\n",
       "      <td>Lebih penting</td>\n",
       "    </tr>\n",
       "    <tr>\n",
       "      <th>4</th>\n",
       "      <td>5</td>\n",
       "      <td>Sangat penting</td>\n",
       "    </tr>\n",
       "  </tbody>\n",
       "</table>\n",
       "</div>"
      ],
      "text/plain": [
       "  Kategori      Penjelasan\n",
       "0        1   Tidak penting\n",
       "1        2  Kurang penting\n",
       "2        3           Biasa\n",
       "3        4   Lebih penting\n",
       "4        5  Sangat penting"
      ]
     },
     "execution_count": 45,
     "metadata": {},
     "output_type": "execute_result"
    }
   ],
   "source": [
    "dic_preferensi = {\n",
    "    'Kategori': [str(i) for i in range(1,6)],\n",
    "    'Penjelasan':['Tidak penting','Kurang penting','Biasa','Lebih penting','Sangat penting']\n",
    "}\n",
    "df_dic_preferensi = pd.DataFrame(dic_preferensi)\n",
    "df_dic_preferensi"
   ]
  },
  {
   "cell_type": "code",
   "execution_count": 46,
   "metadata": {},
   "outputs": [
    {
     "data": {
      "text/html": [
       "<div>\n",
       "<style scoped>\n",
       "    .dataframe tbody tr th:only-of-type {\n",
       "        vertical-align: middle;\n",
       "    }\n",
       "\n",
       "    .dataframe tbody tr th {\n",
       "        vertical-align: top;\n",
       "    }\n",
       "\n",
       "    .dataframe thead th {\n",
       "        text-align: right;\n",
       "    }\n",
       "</style>\n",
       "<table border=\"1\" class=\"dataframe\">\n",
       "  <thead>\n",
       "    <tr style=\"text-align: right;\">\n",
       "      <th></th>\n",
       "      <th>Word of Affirmation</th>\n",
       "    </tr>\n",
       "  </thead>\n",
       "  <tbody>\n",
       "    <tr>\n",
       "      <th>4</th>\n",
       "      <td>34</td>\n",
       "    </tr>\n",
       "    <tr>\n",
       "      <th>5</th>\n",
       "      <td>31</td>\n",
       "    </tr>\n",
       "    <tr>\n",
       "      <th>3</th>\n",
       "      <td>22</td>\n",
       "    </tr>\n",
       "    <tr>\n",
       "      <th>1</th>\n",
       "      <td>9</td>\n",
       "    </tr>\n",
       "    <tr>\n",
       "      <th>2</th>\n",
       "      <td>5</td>\n",
       "    </tr>\n",
       "  </tbody>\n",
       "</table>\n",
       "</div>"
      ],
      "text/plain": [
       "   Word of Affirmation\n",
       "4                   34\n",
       "5                   31\n",
       "3                   22\n",
       "1                    9\n",
       "2                    5"
      ]
     },
     "execution_count": 46,
     "metadata": {},
     "output_type": "execute_result"
    }
   ],
   "source": [
    "d = df1['Word of Affirmation'].value_counts().rename_axis('Preferensi Responden').reset_index(name='Jumlah Responden')\n",
    "df1['Word of Affirmation'].value_counts().to_frame()"
   ]
  },
  {
   "cell_type": "code",
   "execution_count": 47,
   "metadata": {},
   "outputs": [
    {
     "data": {
      "text/plain": [
       "<matplotlib.axes._subplots.AxesSubplot at 0x24cfbf55490>"
      ]
     },
     "execution_count": 47,
     "metadata": {},
     "output_type": "execute_result"
    },
    {
     "data": {
      "image/png": "[encoded data removed]",
      "text/plain": [
       "<Figure size 432x360 with 1 Axes>"
      ]
     },
     "metadata": {
      "needs_background": "light"
     },
     "output_type": "display_data"
    }
   ],
   "source": [
    "plt.figure(figsize=(6,5))\n",
    "plt.title('Seberapa Penting Word of Affirmation dari Calon Pacar Untuk Kamu?')\n",
    "sns.barplot(x='Preferensi Responden',y='Jumlah Responden',data = d)"
   ]
  },
  {
   "cell_type": "code",
   "execution_count": 48,
   "metadata": {},
   "outputs": [
    {
     "data": {
      "text/plain": [
       "<matplotlib.axes._subplots.AxesSubplot at 0x24cfb825820>"
      ]
     },
     "execution_count": 48,
     "metadata": {},
     "output_type": "execute_result"
    },
    {
     "data": {
      "image/png": "[encoded data removed]",
      "text/plain": [
       "<Figure size 432x288 with 1 Axes>"
      ]
     },
     "metadata": {
      "needs_background": "light"
     },
     "output_type": "display_data"
    }
   ],
   "source": [
    "sns.distplot(df1['Word of Affirmation'].value_counts(),fit = norm)"
   ]
  },
  {
   "cell_type": "markdown",
   "metadata": {},
   "source": [
    "Sebagian besar responden cenderung merasa bahwa word of affirmation dari calon pacar lebih penting sementara hanya sedikit dari responden yang merasa bahwa word of affirmation dari calon pacar kurang penting. Dari grafik distribusi bisa kita amati bahwa distribusi data cenderung menceng kiri yang berarti bahwa responden yang merasa word of affirmation itu penting lebih banyak daripada responden yang merasa word of affirmation itu kurang penting."
   ]
  },
  {
   "cell_type": "markdown",
   "metadata": {},
   "source": [
    "### Analisis Preferensi Responden Terhadap Kado dari Calon Pacar"
   ]
  },
  {
   "cell_type": "code",
   "execution_count": 49,
   "metadata": {},
   "outputs": [
    {
     "data": {
      "text/html": [
       "<div>\n",
       "<style scoped>\n",
       "    .dataframe tbody tr th:only-of-type {\n",
       "        vertical-align: middle;\n",
       "    }\n",
       "\n",
       "    .dataframe tbody tr th {\n",
       "        vertical-align: top;\n",
       "    }\n",
       "\n",
       "    .dataframe thead th {\n",
       "        text-align: right;\n",
       "    }\n",
       "</style>\n",
       "<table border=\"1\" class=\"dataframe\">\n",
       "  <thead>\n",
       "    <tr style=\"text-align: right;\">\n",
       "      <th></th>\n",
       "      <th>Kategori</th>\n",
       "      <th>Penjelasan</th>\n",
       "    </tr>\n",
       "  </thead>\n",
       "  <tbody>\n",
       "    <tr>\n",
       "      <th>0</th>\n",
       "      <td>1</td>\n",
       "      <td>Tidak penting</td>\n",
       "    </tr>\n",
       "    <tr>\n",
       "      <th>1</th>\n",
       "      <td>2</td>\n",
       "      <td>Kurang penting</td>\n",
       "    </tr>\n",
       "    <tr>\n",
       "      <th>2</th>\n",
       "      <td>3</td>\n",
       "      <td>Biasa</td>\n",
       "    </tr>\n",
       "    <tr>\n",
       "      <th>3</th>\n",
       "      <td>4</td>\n",
       "      <td>Lebih penting</td>\n",
       "    </tr>\n",
       "    <tr>\n",
       "      <th>4</th>\n",
       "      <td>5</td>\n",
       "      <td>Sangat penting</td>\n",
       "    </tr>\n",
       "  </tbody>\n",
       "</table>\n",
       "</div>"
      ],
      "text/plain": [
       "  Kategori      Penjelasan\n",
       "0        1   Tidak penting\n",
       "1        2  Kurang penting\n",
       "2        3           Biasa\n",
       "3        4   Lebih penting\n",
       "4        5  Sangat penting"
      ]
     },
     "execution_count": 49,
     "metadata": {},
     "output_type": "execute_result"
    }
   ],
   "source": [
    "dic_preferensi = {\n",
    "    'Kategori': [str(i) for i in range(1,6)],\n",
    "    'Penjelasan':['Tidak penting','Kurang penting','Biasa','Lebih penting','Sangat penting']\n",
    "}\n",
    "df_dic_preferensi = pd.DataFrame(dic_preferensi)\n",
    "df_dic_preferensi"
   ]
  },
  {
   "cell_type": "code",
   "execution_count": 58,
   "metadata": {},
   "outputs": [
    {
     "data": {
      "text/html": [
       "<div>\n",
       "<style scoped>\n",
       "    .dataframe tbody tr th:only-of-type {\n",
       "        vertical-align: middle;\n",
       "    }\n",
       "\n",
       "    .dataframe tbody tr th {\n",
       "        vertical-align: top;\n",
       "    }\n",
       "\n",
       "    .dataframe thead th {\n",
       "        text-align: right;\n",
       "    }\n",
       "</style>\n",
       "<table border=\"1\" class=\"dataframe\">\n",
       "  <thead>\n",
       "    <tr style=\"text-align: right;\">\n",
       "      <th></th>\n",
       "      <th>Dapat Hadiah</th>\n",
       "    </tr>\n",
       "  </thead>\n",
       "  <tbody>\n",
       "    <tr>\n",
       "      <th>3</th>\n",
       "      <td>29</td>\n",
       "    </tr>\n",
       "    <tr>\n",
       "      <th>1</th>\n",
       "      <td>23</td>\n",
       "    </tr>\n",
       "    <tr>\n",
       "      <th>2</th>\n",
       "      <td>22</td>\n",
       "    </tr>\n",
       "    <tr>\n",
       "      <th>5</th>\n",
       "      <td>14</td>\n",
       "    </tr>\n",
       "    <tr>\n",
       "      <th>4</th>\n",
       "      <td>13</td>\n",
       "    </tr>\n",
       "  </tbody>\n",
       "</table>\n",
       "</div>"
      ],
      "text/plain": [
       "   Dapat Hadiah\n",
       "3            29\n",
       "1            23\n",
       "2            22\n",
       "5            14\n",
       "4            13"
      ]
     },
     "execution_count": 58,
     "metadata": {},
     "output_type": "execute_result"
    }
   ],
   "source": [
    "e = df1['Dapat Hadiah'].value_counts().rename_axis('Preferensi Responden').reset_index(name='Jumlah Responden')\n",
    "df1['Dapat Hadiah'].value_counts().to_frame()"
   ]
  },
  {
   "cell_type": "code",
   "execution_count": 59,
   "metadata": {},
   "outputs": [
    {
     "data": {
      "text/plain": [
       "<matplotlib.axes._subplots.AxesSubplot at 0x24cfd0e38e0>"
      ]
     },
     "execution_count": 59,
     "metadata": {},
     "output_type": "execute_result"
    },
    {
     "data": {
      "image/png": "[encoded data removed]",
      "text/plain": [
       "<Figure size 432x360 with 1 Axes>"
      ]
     },
     "metadata": {
      "needs_background": "light"
     },
     "output_type": "display_data"
    }
   ],
   "source": [
    "plt.figure(figsize=(6,5))\n",
    "plt.title('Seberapa Penting Dapat Kado dari Calon Pacar Untuk Kamu?')\n",
    "sns.barplot(x='Preferensi Responden',y='Jumlah Responden',data = e)"
   ]
  },
  {
   "cell_type": "code",
   "execution_count": 54,
   "metadata": {},
   "outputs": [
    {
     "data": {
      "text/plain": [
       "<matplotlib.axes._subplots.AxesSubplot at 0x24cfd02db50>"
      ]
     },
     "execution_count": 54,
     "metadata": {},
     "output_type": "execute_result"
    },
    {
     "data": {
      "image/png": "[encoded data removed]",
      "text/plain": [
       "<Figure size 432x288 with 1 Axes>"
      ]
     },
     "metadata": {
      "needs_background": "light"
     },
     "output_type": "display_data"
    }
   ],
   "source": [
    "sns.distplot(df1['Dapat Hadiah'].value_counts(),fit = norm)"
   ]
  },
  {
   "cell_type": "markdown",
   "metadata": {},
   "source": [
    "Sebagian besar responden cenderung merasa bahwa mendapat kado dari calon pacar tidak penting sementara paling sedikit dari responden yang merasa bahwa mendapat kado dari calon pacar sangat penting. Dari grafik distribusi bisa kita amati bahwa distribusi data cenderung menceng kanan yang berarti bahwa responden yang merasa diberikan kado dari pacar itu kurang penting lebih banyak daripada responden yang merasa diberikan kado itu lebih penting."
   ]
  },
  {
   "cell_type": "markdown",
   "metadata": {},
   "source": [
    "### Analisis Preferensi Responden Terhadap Bantuan dari Calon Pacar"
   ]
  },
  {
   "cell_type": "code",
   "execution_count": 55,
   "metadata": {},
   "outputs": [
    {
     "data": {
      "text/html": [
       "<div>\n",
       "<style scoped>\n",
       "    .dataframe tbody tr th:only-of-type {\n",
       "        vertical-align: middle;\n",
       "    }\n",
       "\n",
       "    .dataframe tbody tr th {\n",
       "        vertical-align: top;\n",
       "    }\n",
       "\n",
       "    .dataframe thead th {\n",
       "        text-align: right;\n",
       "    }\n",
       "</style>\n",
       "<table border=\"1\" class=\"dataframe\">\n",
       "  <thead>\n",
       "    <tr style=\"text-align: right;\">\n",
       "      <th></th>\n",
       "      <th>Kategori</th>\n",
       "      <th>Penjelasan</th>\n",
       "    </tr>\n",
       "  </thead>\n",
       "  <tbody>\n",
       "    <tr>\n",
       "      <th>0</th>\n",
       "      <td>1</td>\n",
       "      <td>Tidak penting</td>\n",
       "    </tr>\n",
       "    <tr>\n",
       "      <th>1</th>\n",
       "      <td>2</td>\n",
       "      <td>Kurang penting</td>\n",
       "    </tr>\n",
       "    <tr>\n",
       "      <th>2</th>\n",
       "      <td>3</td>\n",
       "      <td>Biasa</td>\n",
       "    </tr>\n",
       "    <tr>\n",
       "      <th>3</th>\n",
       "      <td>4</td>\n",
       "      <td>Lebih penting</td>\n",
       "    </tr>\n",
       "    <tr>\n",
       "      <th>4</th>\n",
       "      <td>5</td>\n",
       "      <td>Sangat penting</td>\n",
       "    </tr>\n",
       "  </tbody>\n",
       "</table>\n",
       "</div>"
      ],
      "text/plain": [
       "  Kategori      Penjelasan\n",
       "0        1   Tidak penting\n",
       "1        2  Kurang penting\n",
       "2        3           Biasa\n",
       "3        4   Lebih penting\n",
       "4        5  Sangat penting"
      ]
     },
     "execution_count": 55,
     "metadata": {},
     "output_type": "execute_result"
    }
   ],
   "source": [
    "dic_preferensi = {\n",
    "    'Kategori': [str(i) for i in range(1,6)],\n",
    "    'Penjelasan':['Tidak penting','Kurang penting','Biasa','Lebih penting','Sangat penting']\n",
    "}\n",
    "df_dic_preferensi = pd.DataFrame(dic_preferensi)\n",
    "df_dic_preferensi"
   ]
  },
  {
   "cell_type": "code",
   "execution_count": 56,
   "metadata": {},
   "outputs": [
    {
     "data": {
      "text/html": [
       "<div>\n",
       "<style scoped>\n",
       "    .dataframe tbody tr th:only-of-type {\n",
       "        vertical-align: middle;\n",
       "    }\n",
       "\n",
       "    .dataframe tbody tr th {\n",
       "        vertical-align: top;\n",
       "    }\n",
       "\n",
       "    .dataframe thead th {\n",
       "        text-align: right;\n",
       "    }\n",
       "</style>\n",
       "<table border=\"1\" class=\"dataframe\">\n",
       "  <thead>\n",
       "    <tr style=\"text-align: right;\">\n",
       "      <th></th>\n",
       "      <th>Bantuan</th>\n",
       "    </tr>\n",
       "  </thead>\n",
       "  <tbody>\n",
       "    <tr>\n",
       "      <th>4</th>\n",
       "      <td>35</td>\n",
       "    </tr>\n",
       "    <tr>\n",
       "      <th>5</th>\n",
       "      <td>30</td>\n",
       "    </tr>\n",
       "    <tr>\n",
       "      <th>3</th>\n",
       "      <td>24</td>\n",
       "    </tr>\n",
       "    <tr>\n",
       "      <th>1</th>\n",
       "      <td>7</td>\n",
       "    </tr>\n",
       "    <tr>\n",
       "      <th>2</th>\n",
       "      <td>5</td>\n",
       "    </tr>\n",
       "  </tbody>\n",
       "</table>\n",
       "</div>"
      ],
      "text/plain": [
       "   Bantuan\n",
       "4       35\n",
       "5       30\n",
       "3       24\n",
       "1        7\n",
       "2        5"
      ]
     },
     "execution_count": 56,
     "metadata": {},
     "output_type": "execute_result"
    }
   ],
   "source": [
    "f = df1['Bantuan'].value_counts().rename_axis('Preferensi Responden').reset_index(name='Jumlah Responden')\n",
    "df1['Bantuan'].value_counts().to_frame()"
   ]
  },
  {
   "cell_type": "code",
   "execution_count": 60,
   "metadata": {},
   "outputs": [
    {
     "data": {
      "text/plain": [
       "<matplotlib.axes._subplots.AxesSubplot at 0x24cfd12c790>"
      ]
     },
     "execution_count": 60,
     "metadata": {},
     "output_type": "execute_result"
    },
    {
     "data": {
      "image/png": "[encoded data removed]",
      "text/plain": [
       "<Figure size 432x360 with 1 Axes>"
      ]
     },
     "metadata": {
      "needs_background": "light"
     },
     "output_type": "display_data"
    }
   ],
   "source": [
    "plt.figure(figsize=(6,5))\n",
    "plt.title('Seberapa Penting Bantuan dari Calon Pacar Untuk Kamu??')\n",
    "sns.barplot(x='Preferensi Responden',y='Jumlah Responden',data = f)"
   ]
  },
  {
   "cell_type": "code",
   "execution_count": 61,
   "metadata": {},
   "outputs": [
    {
     "data": {
      "text/plain": [
       "<matplotlib.axes._subplots.AxesSubplot at 0x24cfd1b1970>"
      ]
     },
     "execution_count": 61,
     "metadata": {},
     "output_type": "execute_result"
    },
    {
     "data": {
      "image/png": "[encoded data removed]",
      "text/plain": [
       "<Figure size 432x288 with 1 Axes>"
      ]
     },
     "metadata": {
      "needs_background": "light"
     },
     "output_type": "display_data"
    }
   ],
   "source": [
    "sns.distplot(df1['Bantuan'].value_counts(),fit = norm)"
   ]
  },
  {
   "cell_type": "markdown",
   "metadata": {},
   "source": [
    "Sebagian besar responden cenderung merasa bahwa mendapat bantuan dari calon pacar lebih penting sementara paling sedikit dari responden yang merasa bahwa mendapat bantuan dari calon pacar kurang penting. Dari grafik distribusi bisa kita amati bahwa distribusi data cenderung menceng kiri yang berarti bahwa responden yang merasa diberikan bantuan dari pacar itu lebih penting lebih banyak daripada responden yang merasa diberikan bantuan itu kurang penting."
   ]
  },
  {
   "cell_type": "markdown",
   "metadata": {},
   "source": [
    "## Exploratory Data Analysis"
   ]
  },
  {
   "cell_type": "code",
   "execution_count": 62,
   "metadata": {},
   "outputs": [],
   "source": [
    "df2 = df1.drop(['Gender'],axis=1)"
   ]
  },
  {
   "cell_type": "code",
   "execution_count": 63,
   "metadata": {},
   "outputs": [
    {
     "data": {
      "text/html": [
       "<div>\n",
       "<style scoped>\n",
       "    .dataframe tbody tr th:only-of-type {\n",
       "        vertical-align: middle;\n",
       "    }\n",
       "\n",
       "    .dataframe tbody tr th {\n",
       "        vertical-align: top;\n",
       "    }\n",
       "\n",
       "    .dataframe thead th {\n",
       "        text-align: right;\n",
       "    }\n",
       "</style>\n",
       "<table border=\"1\" class=\"dataframe\">\n",
       "  <thead>\n",
       "    <tr style=\"text-align: right;\">\n",
       "      <th></th>\n",
       "      <th>Quality Time</th>\n",
       "      <th>Physical Touch</th>\n",
       "      <th>Word of Affirmation</th>\n",
       "      <th>Dapat Hadiah</th>\n",
       "      <th>Bantuan</th>\n",
       "    </tr>\n",
       "  </thead>\n",
       "  <tbody>\n",
       "    <tr>\n",
       "      <th>0</th>\n",
       "      <td>5</td>\n",
       "      <td>5</td>\n",
       "      <td>4</td>\n",
       "      <td>1</td>\n",
       "      <td>3</td>\n",
       "    </tr>\n",
       "    <tr>\n",
       "      <th>1</th>\n",
       "      <td>5</td>\n",
       "      <td>5</td>\n",
       "      <td>3</td>\n",
       "      <td>2</td>\n",
       "      <td>2</td>\n",
       "    </tr>\n",
       "    <tr>\n",
       "      <th>2</th>\n",
       "      <td>4</td>\n",
       "      <td>3</td>\n",
       "      <td>4</td>\n",
       "      <td>4</td>\n",
       "      <td>4</td>\n",
       "    </tr>\n",
       "    <tr>\n",
       "      <th>3</th>\n",
       "      <td>5</td>\n",
       "      <td>5</td>\n",
       "      <td>5</td>\n",
       "      <td>2</td>\n",
       "      <td>3</td>\n",
       "    </tr>\n",
       "    <tr>\n",
       "      <th>4</th>\n",
       "      <td>5</td>\n",
       "      <td>5</td>\n",
       "      <td>5</td>\n",
       "      <td>2</td>\n",
       "      <td>4</td>\n",
       "    </tr>\n",
       "    <tr>\n",
       "      <th>...</th>\n",
       "      <td>...</td>\n",
       "      <td>...</td>\n",
       "      <td>...</td>\n",
       "      <td>...</td>\n",
       "      <td>...</td>\n",
       "    </tr>\n",
       "    <tr>\n",
       "      <th>96</th>\n",
       "      <td>5</td>\n",
       "      <td>1</td>\n",
       "      <td>4</td>\n",
       "      <td>2</td>\n",
       "      <td>3</td>\n",
       "    </tr>\n",
       "    <tr>\n",
       "      <th>97</th>\n",
       "      <td>4</td>\n",
       "      <td>5</td>\n",
       "      <td>4</td>\n",
       "      <td>4</td>\n",
       "      <td>3</td>\n",
       "    </tr>\n",
       "    <tr>\n",
       "      <th>98</th>\n",
       "      <td>5</td>\n",
       "      <td>5</td>\n",
       "      <td>5</td>\n",
       "      <td>5</td>\n",
       "      <td>4</td>\n",
       "    </tr>\n",
       "    <tr>\n",
       "      <th>99</th>\n",
       "      <td>1</td>\n",
       "      <td>1</td>\n",
       "      <td>1</td>\n",
       "      <td>1</td>\n",
       "      <td>1</td>\n",
       "    </tr>\n",
       "    <tr>\n",
       "      <th>100</th>\n",
       "      <td>5</td>\n",
       "      <td>5</td>\n",
       "      <td>5</td>\n",
       "      <td>5</td>\n",
       "      <td>4</td>\n",
       "    </tr>\n",
       "  </tbody>\n",
       "</table>\n",
       "<p>101 rows × 5 columns</p>\n",
       "</div>"
      ],
      "text/plain": [
       "     Quality Time  Physical Touch  Word of Affirmation  Dapat Hadiah  Bantuan\n",
       "0               5               5                    4             1        3\n",
       "1               5               5                    3             2        2\n",
       "2               4               3                    4             4        4\n",
       "3               5               5                    5             2        3\n",
       "4               5               5                    5             2        4\n",
       "..            ...             ...                  ...           ...      ...\n",
       "96              5               1                    4             2        3\n",
       "97              4               5                    4             4        3\n",
       "98              5               5                    5             5        4\n",
       "99              1               1                    1             1        1\n",
       "100             5               5                    5             5        4\n",
       "\n",
       "[101 rows x 5 columns]"
      ]
     },
     "execution_count": 63,
     "metadata": {},
     "output_type": "execute_result"
    }
   ],
   "source": [
    "df2"
   ]
  },
  {
   "cell_type": "code",
   "execution_count": 70,
   "metadata": {},
   "outputs": [
    {
     "data": {
      "text/html": [
       "<div>\n",
       "<style scoped>\n",
       "    .dataframe tbody tr th:only-of-type {\n",
       "        vertical-align: middle;\n",
       "    }\n",
       "\n",
       "    .dataframe tbody tr th {\n",
       "        vertical-align: top;\n",
       "    }\n",
       "\n",
       "    .dataframe thead th {\n",
       "        text-align: right;\n",
       "    }\n",
       "</style>\n",
       "<table border=\"1\" class=\"dataframe\">\n",
       "  <thead>\n",
       "    <tr style=\"text-align: right;\">\n",
       "      <th></th>\n",
       "      <th>Quality Time</th>\n",
       "      <th>Physical Touch</th>\n",
       "      <th>Word of Affirmation</th>\n",
       "      <th>Dapat Hadiah</th>\n",
       "      <th>Bantuan</th>\n",
       "    </tr>\n",
       "  </thead>\n",
       "  <tbody>\n",
       "    <tr>\n",
       "      <th>count</th>\n",
       "      <td>101.000000</td>\n",
       "      <td>101.000000</td>\n",
       "      <td>101.000000</td>\n",
       "      <td>101.000000</td>\n",
       "      <td>101.000000</td>\n",
       "    </tr>\n",
       "    <tr>\n",
       "      <th>mean</th>\n",
       "      <td>4.099010</td>\n",
       "      <td>3.168317</td>\n",
       "      <td>3.722772</td>\n",
       "      <td>2.732673</td>\n",
       "      <td>3.752475</td>\n",
       "    </tr>\n",
       "    <tr>\n",
       "      <th>std</th>\n",
       "      <td>1.212476</td>\n",
       "      <td>1.334686</td>\n",
       "      <td>1.209287</td>\n",
       "      <td>1.325829</td>\n",
       "      <td>1.143730</td>\n",
       "    </tr>\n",
       "    <tr>\n",
       "      <th>min</th>\n",
       "      <td>1.000000</td>\n",
       "      <td>1.000000</td>\n",
       "      <td>1.000000</td>\n",
       "      <td>1.000000</td>\n",
       "      <td>1.000000</td>\n",
       "    </tr>\n",
       "    <tr>\n",
       "      <th>25%</th>\n",
       "      <td>4.000000</td>\n",
       "      <td>2.000000</td>\n",
       "      <td>3.000000</td>\n",
       "      <td>2.000000</td>\n",
       "      <td>3.000000</td>\n",
       "    </tr>\n",
       "    <tr>\n",
       "      <th>50%</th>\n",
       "      <td>5.000000</td>\n",
       "      <td>3.000000</td>\n",
       "      <td>4.000000</td>\n",
       "      <td>3.000000</td>\n",
       "      <td>4.000000</td>\n",
       "    </tr>\n",
       "    <tr>\n",
       "      <th>75%</th>\n",
       "      <td>5.000000</td>\n",
       "      <td>4.000000</td>\n",
       "      <td>5.000000</td>\n",
       "      <td>4.000000</td>\n",
       "      <td>5.000000</td>\n",
       "    </tr>\n",
       "    <tr>\n",
       "      <th>max</th>\n",
       "      <td>5.000000</td>\n",
       "      <td>5.000000</td>\n",
       "      <td>5.000000</td>\n",
       "      <td>5.000000</td>\n",
       "      <td>5.000000</td>\n",
       "    </tr>\n",
       "  </tbody>\n",
       "</table>\n",
       "</div>"
      ],
      "text/plain": [
       "       Quality Time  Physical Touch  Word of Affirmation  Dapat Hadiah  \\\n",
       "count    101.000000      101.000000           101.000000    101.000000   \n",
       "mean       4.099010        3.168317             3.722772      2.732673   \n",
       "std        1.212476        1.334686             1.209287      1.325829   \n",
       "min        1.000000        1.000000             1.000000      1.000000   \n",
       "25%        4.000000        2.000000             3.000000      2.000000   \n",
       "50%        5.000000        3.000000             4.000000      3.000000   \n",
       "75%        5.000000        4.000000             5.000000      4.000000   \n",
       "max        5.000000        5.000000             5.000000      5.000000   \n",
       "\n",
       "          Bantuan  \n",
       "count  101.000000  \n",
       "mean     3.752475  \n",
       "std      1.143730  \n",
       "min      1.000000  \n",
       "25%      3.000000  \n",
       "50%      4.000000  \n",
       "75%      5.000000  \n",
       "max      5.000000  "
      ]
     },
     "execution_count": 70,
     "metadata": {},
     "output_type": "execute_result"
    }
   ],
   "source": [
    "df2.describe()"
   ]
  },
  {
   "cell_type": "markdown",
   "metadata": {},
   "source": [
    "Disini kita dapat melihat statistika deskriptif dari data yang kita peroleh melingkupi (mean, quartil 1-3, (25,50,75%), standar deviasi, nilai maksimum dan minimum)."
   ]
  },
  {
   "cell_type": "code",
   "execution_count": 64,
   "metadata": {},
   "outputs": [
    {
     "data": {
      "text/html": [
       "<div>\n",
       "<style scoped>\n",
       "    .dataframe tbody tr th:only-of-type {\n",
       "        vertical-align: middle;\n",
       "    }\n",
       "\n",
       "    .dataframe tbody tr th {\n",
       "        vertical-align: top;\n",
       "    }\n",
       "\n",
       "    .dataframe thead th {\n",
       "        text-align: right;\n",
       "    }\n",
       "</style>\n",
       "<table border=\"1\" class=\"dataframe\">\n",
       "  <thead>\n",
       "    <tr style=\"text-align: right;\">\n",
       "      <th></th>\n",
       "      <th>Quality Time</th>\n",
       "      <th>Physical Touch</th>\n",
       "      <th>Word of Affirmation</th>\n",
       "      <th>Dapat Hadiah</th>\n",
       "      <th>Bantuan</th>\n",
       "    </tr>\n",
       "  </thead>\n",
       "  <tbody>\n",
       "    <tr>\n",
       "      <th>Quality Time</th>\n",
       "      <td>1.000000</td>\n",
       "      <td>0.490132</td>\n",
       "      <td>0.666827</td>\n",
       "      <td>0.464520</td>\n",
       "      <td>0.436095</td>\n",
       "    </tr>\n",
       "    <tr>\n",
       "      <th>Physical Touch</th>\n",
       "      <td>0.490132</td>\n",
       "      <td>1.000000</td>\n",
       "      <td>0.580618</td>\n",
       "      <td>0.426910</td>\n",
       "      <td>0.191337</td>\n",
       "    </tr>\n",
       "    <tr>\n",
       "      <th>Word of Affirmation</th>\n",
       "      <td>0.666827</td>\n",
       "      <td>0.580618</td>\n",
       "      <td>1.000000</td>\n",
       "      <td>0.446046</td>\n",
       "      <td>0.499381</td>\n",
       "    </tr>\n",
       "    <tr>\n",
       "      <th>Dapat Hadiah</th>\n",
       "      <td>0.464520</td>\n",
       "      <td>0.426910</td>\n",
       "      <td>0.446046</td>\n",
       "      <td>1.000000</td>\n",
       "      <td>0.437334</td>\n",
       "    </tr>\n",
       "    <tr>\n",
       "      <th>Bantuan</th>\n",
       "      <td>0.436095</td>\n",
       "      <td>0.191337</td>\n",
       "      <td>0.499381</td>\n",
       "      <td>0.437334</td>\n",
       "      <td>1.000000</td>\n",
       "    </tr>\n",
       "  </tbody>\n",
       "</table>\n",
       "</div>"
      ],
      "text/plain": [
       "                     Quality Time  Physical Touch  Word of Affirmation  \\\n",
       "Quality Time             1.000000        0.490132             0.666827   \n",
       "Physical Touch           0.490132        1.000000             0.580618   \n",
       "Word of Affirmation      0.666827        0.580618             1.000000   \n",
       "Dapat Hadiah             0.464520        0.426910             0.446046   \n",
       "Bantuan                  0.436095        0.191337             0.499381   \n",
       "\n",
       "                     Dapat Hadiah   Bantuan  \n",
       "Quality Time             0.464520  0.436095  \n",
       "Physical Touch           0.426910  0.191337  \n",
       "Word of Affirmation      0.446046  0.499381  \n",
       "Dapat Hadiah             1.000000  0.437334  \n",
       "Bantuan                  0.437334  1.000000  "
      ]
     },
     "execution_count": 64,
     "metadata": {},
     "output_type": "execute_result"
    }
   ],
   "source": [
    "df2.corr()"
   ]
  },
  {
   "cell_type": "code",
   "execution_count": 69,
   "metadata": {},
   "outputs": [
    {
     "data": {
      "text/plain": [
       "<matplotlib.axes._subplots.AxesSubplot at 0x24cfd17d820>"
      ]
     },
     "execution_count": 69,
     "metadata": {},
     "output_type": "execute_result"
    },
    {
     "data": {
      "image/png": "[encoded data removed]",
      "text/plain": [
       "<Figure size 720x360 with 2 Axes>"
      ]
     },
     "metadata": {
      "needs_background": "light"
     },
     "output_type": "display_data"
    }
   ],
   "source": [
    "plt.figure(figsize=(10,5))\n",
    "sns.heatmap(df2.corr(),annot = True)"
   ]
  },
  {
   "cell_type": "markdown",
   "metadata": {},
   "source": [
    "Bisa kita amati bahwa variabel 'quality time' cenderung berkorelasi positif dengan variabel 'word of affirmation', lalu variabel 'physical touch' cenderung berkorelasi positif dengan 'word of affirmation' dan cenderung tidak berkorelasi dengan variabel 'bantuan'. Lalu untuk variabel 'dapat hadiah' cenderung berkorelasi positif dengan 'quality time' meskipun tidak terlalu signifikan dan variabel 'bantuan' cenderung berkorelasi positif dengan variabel 'word of affirmation'."
   ]
  },
  {
   "cell_type": "code",
   "execution_count": null,
   "metadata": {},
   "outputs": [],
   "source": []
  }
 ],
 "metadata": {
  "kernelspec": {
   "display_name": "Python 3",
   "language": "python",
   "name": "python3"
  },
  "language_info": {
   "codemirror_mode": {
    "name": "ipython",
    "version": 3
   },
   "file_extension": ".py",
   "mimetype": "text/x-python",
   "name": "python",
   "nbconvert_exporter": "python",
   "pygments_lexer": "ipython3",
   "version": "3.8.3"
  }
 },
 "nbformat": 4,
 "nbformat_minor": 4
}

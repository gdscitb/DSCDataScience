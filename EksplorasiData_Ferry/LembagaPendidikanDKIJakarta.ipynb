{
  "nbformat": 4,
  "nbformat_minor": 0,
  "metadata": {
    "colab": {
      "name": "LembagaPendidikanDKIJakarta.ipynb",
      "provenance": [],
      "collapsed_sections": [],
      "toc_visible": true
    },
    "kernelspec": {
      "name": "python3",
      "display_name": "Python 3"
    }
  },
  "cells": [
    {
      "cell_type": "markdown",
      "metadata": {
        "id": "zReMTRNUUC3Q"
      },
      "source": [
        "# Ignasius Ferry Priguna - 16520243 - ITB"
      ]
    },
    {
      "cell_type": "markdown",
      "metadata": {
        "id": "N1Bx14QZUQt0"
      },
      "source": [
        "# Tanggal mulai pengerjaan : 11 November 2020"
      ]
    },
    {
      "cell_type": "markdown",
      "metadata": {
        "id": "C3dQUFUYz8rO"
      },
      "source": [
        "# Sumber Dataset : https://data.jakarta.go.id/dataset/data-status-akreditasi-satuan-pendidikan"
      ]
    },
    {
      "cell_type": "code",
      "metadata": {
        "id": "1ZS6Iv4tW5xF"
      },
      "source": [
        "# Import Library\n",
        "import pandas as pd\n",
        "import matplotlib.pyplot as plt"
      ],
      "execution_count": 102,
      "outputs": []
    },
    {
      "cell_type": "code",
      "metadata": {
        "id": "BgBhkg7RXSJZ"
      },
      "source": [
        "# Read dataset\n",
        "data = pd.read_csv(\"/content/dataset_akreditasi_LP_DKI_Jakarta.csv\")"
      ],
      "execution_count": 103,
      "outputs": []
    },
    {
      "cell_type": "markdown",
      "metadata": {
        "id": "F2Wit7p6YBhv"
      },
      "source": [
        "# Data Preprocessing"
      ]
    },
    {
      "cell_type": "markdown",
      "metadata": {
        "id": "8Fp4wOyv187q"
      },
      "source": [
        "### Data Cleaning"
      ]
    },
    {
      "cell_type": "code",
      "metadata": {
        "id": "J1rl5AiJX-zn"
      },
      "source": [
        "# Menghapus kolom alamat\n",
        "data = data.iloc[:, [1, 2, 4, 5]]"
      ],
      "execution_count": 104,
      "outputs": []
    },
    {
      "cell_type": "code",
      "metadata": {
        "id": "pBUOwDoFYWEo"
      },
      "source": [
        "# Menghapus data lembaga pendidikan yang tidak lengkap (tidak ada keterangan akreditasi atau kecamatan)\n",
        "data = data.drop(data[pd.isna(data.akreditasi)].index)\n",
        "data = data.drop(data[pd.isna(data.kecamatan)].index)"
      ],
      "execution_count": 105,
      "outputs": []
    },
    {
      "cell_type": "code",
      "metadata": {
        "id": "dOxUfFBxM5X5"
      },
      "source": [
        "# Menghilangkan spasi yang tidak diinginkan pada kolom kecamatan\n",
        "def removeUnwantedSpace(st):\n",
        "  for i in range(len(st) - 2):\n",
        "    if st[i] == \" \" and st[i+2] == \" \":\n",
        "      return st.replace(\" \", \"\")\n",
        "  return st\n",
        "data[\"kecamatan\"] = data['kecamatan'].apply(removeUnwantedSpace)"
      ],
      "execution_count": 106,
      "outputs": []
    },
    {
      "cell_type": "markdown",
      "metadata": {
        "id": "F6vGr3ZAWe2U"
      },
      "source": [
        "### Data Preparation"
      ]
    },
    {
      "cell_type": "code",
      "metadata": {
        "id": "4ZJkyfGRb4At"
      },
      "source": [
        "data_scoring = data"
      ],
      "execution_count": 107,
      "outputs": []
    },
    {
      "cell_type": "code",
      "metadata": {
        "id": "3WUFzjgI6QmG"
      },
      "source": [
        "# Mengkonversi data akreditasi dari bentuk huruf menjadi angka\n",
        "def letterToScore(letter):\n",
        "  if letter == \"A\":\n",
        "    return 3\n",
        "  elif letter == \"B\":\n",
        "    return 2\n",
        "  elif letter == \"C\":\n",
        "    return 1\n",
        "\n",
        "data_scoring = data.drop(data[data.akreditasi == \"Tidak Terakreditasi\"].index)\n",
        "data_scoring[\"akreditasi\"] = data_scoring[\"akreditasi\"].apply(letterToScore)"
      ],
      "execution_count": 108,
      "outputs": []
    },
    {
      "cell_type": "markdown",
      "metadata": {
        "id": "QNlHbE1oRvMi"
      },
      "source": [
        "# Model Development"
      ]
    },
    {
      "cell_type": "code",
      "metadata": {
        "id": "ae6siXltRxiq"
      },
      "source": [
        "data_scoring_kecamatan = data_scoring.iloc[:, [1, 3]]"
      ],
      "execution_count": 110,
      "outputs": []
    },
    {
      "cell_type": "markdown",
      "metadata": {
        "id": "JvaxRjvuppBc"
      },
      "source": [
        "### Data Akreditasi Per Kecamatan di DKI Jakarta"
      ]
    },
    {
      "cell_type": "code",
      "metadata": {
        "id": "4dZ5wn57pvld",
        "outputId": "66fd6298-5a4e-4649-ff6e-204a64711520",
        "colab": {
          "base_uri": "https://localhost:8080/",
          "height": 193
        }
      },
      "source": [
        "kecamatan_akred_dict = {}\n",
        "for ind in data.index: \n",
        "    if data['kecamatan'][ind] not in kecamatan_akred_dict:\n",
        "      kecamatan_akred_dict[data['kecamatan'][ind]] = [0, 0, 0, 0]\n",
        "    if data['akreditasi'][ind] == \"A\":\n",
        "      kecamatan_akred_dict[data['kecamatan'][ind]][0] += 1\n",
        "    elif data['akreditasi'][ind] == \"B\":\n",
        "      kecamatan_akred_dict[data['kecamatan'][ind]][1] += 1\n",
        "    elif data['akreditasi'][ind] == \"C\":\n",
        "      kecamatan_akred_dict[data['kecamatan'][ind]][2] += 1\n",
        "    elif data['akreditasi'][ind] == \"Tidak Terakreditasi\":\n",
        "      kecamatan_akred_dict[data['kecamatan'][ind]][3] += 1\n",
        "kecamatan_akred_data = pd.DataFrame.from_dict(kecamatan_akred_dict, orient = 'index', columns = ['A', 'B', 'C', 'Tidak Terakreditasi'])\n",
        "kecamatan_akred_data.head()"
      ],
      "execution_count": 111,
      "outputs": [
        {
          "output_type": "execute_result",
          "data": {
            "text/html": [
              "<div>\n",
              "<style scoped>\n",
              "    .dataframe tbody tr th:only-of-type {\n",
              "        vertical-align: middle;\n",
              "    }\n",
              "\n",
              "    .dataframe tbody tr th {\n",
              "        vertical-align: top;\n",
              "    }\n",
              "\n",
              "    .dataframe thead th {\n",
              "        text-align: right;\n",
              "    }\n",
              "</style>\n",
              "<table border=\"1\" class=\"dataframe\">\n",
              "  <thead>\n",
              "    <tr style=\"text-align: right;\">\n",
              "      <th></th>\n",
              "      <th>A</th>\n",
              "      <th>B</th>\n",
              "      <th>C</th>\n",
              "      <th>Tidak Terakreditasi</th>\n",
              "    </tr>\n",
              "  </thead>\n",
              "  <tbody>\n",
              "    <tr>\n",
              "      <th>Kebayoran Lama</th>\n",
              "      <td>116</td>\n",
              "      <td>48</td>\n",
              "      <td>3</td>\n",
              "      <td>86</td>\n",
              "    </tr>\n",
              "    <tr>\n",
              "      <th>Grogol Petamburan</th>\n",
              "      <td>98</td>\n",
              "      <td>47</td>\n",
              "      <td>3</td>\n",
              "      <td>30</td>\n",
              "    </tr>\n",
              "    <tr>\n",
              "      <th>Setia Budi</th>\n",
              "      <td>41</td>\n",
              "      <td>35</td>\n",
              "      <td>2</td>\n",
              "      <td>4</td>\n",
              "    </tr>\n",
              "    <tr>\n",
              "      <th>Cengkareng</th>\n",
              "      <td>148</td>\n",
              "      <td>101</td>\n",
              "      <td>4</td>\n",
              "      <td>76</td>\n",
              "    </tr>\n",
              "    <tr>\n",
              "      <th>Jagakarsa</th>\n",
              "      <td>112</td>\n",
              "      <td>44</td>\n",
              "      <td>1</td>\n",
              "      <td>62</td>\n",
              "    </tr>\n",
              "  </tbody>\n",
              "</table>\n",
              "</div>"
            ],
            "text/plain": [
              "                     A    B  C  Tidak Terakreditasi\n",
              "Kebayoran Lama     116   48  3                   86\n",
              "Grogol Petamburan   98   47  3                   30\n",
              "Setia Budi          41   35  2                    4\n",
              "Cengkareng         148  101  4                   76\n",
              "Jagakarsa          112   44  1                   62"
            ]
          },
          "metadata": {
            "tags": []
          },
          "execution_count": 111
        }
      ]
    },
    {
      "cell_type": "markdown",
      "metadata": {
        "id": "8JkWcgixluye"
      },
      "source": [
        "### Data Kecamatan Berdasarkan Poin Akreditasi ( A : 3, B : 2, C : 1)"
      ]
    },
    {
      "cell_type": "code",
      "metadata": {
        "id": "2C8C3v8pckIq"
      },
      "source": [
        "kecamatan_poin_dict = {}\n",
        "for ind in data_scoring_kecamatan.index: \n",
        "    if data_scoring_kecamatan['kecamatan'][ind] not in kecamatan_poin_dict:\n",
        "      kecamatan_poin_dict[data_scoring_kecamatan['kecamatan'][ind]] = data_scoring_kecamatan['akreditasi'][ind]\n",
        "    else:\n",
        "      kecamatan_poin_dict[data_scoring_kecamatan['kecamatan'][ind]] += data_scoring_kecamatan['akreditasi'][ind]\n",
        "kecamatan_poin_data = pd.DataFrame.from_dict(kecamatan_poin_dict, orient = 'index', columns = [\"Total Poin\"])"
      ],
      "execution_count": 112,
      "outputs": []
    },
    {
      "cell_type": "markdown",
      "metadata": {
        "id": "kxkh76Xill-w"
      },
      "source": [
        "### Data Kecamatan Berdasarkan Jumlah Lembaga Pendidikan Terakreditasi"
      ]
    },
    {
      "cell_type": "code",
      "metadata": {
        "id": "g2YTVJvwlLYB",
        "outputId": "f21417fa-8088-4c21-f66d-b678821e92d8",
        "colab": {
          "base_uri": "https://localhost:8080/",
          "height": 193
        }
      },
      "source": [
        "kecamatan_jumlah_dict = {}\n",
        "for ind in data_scoring_kecamatan.index: \n",
        "    if data_scoring_kecamatan['kecamatan'][ind] not in kecamatan_jumlah_dict:\n",
        "      kecamatan_jumlah_dict[data_scoring_kecamatan['kecamatan'][ind]] = 1\n",
        "    else:\n",
        "      kecamatan_jumlah_dict[data_scoring_kecamatan['kecamatan'][ind]] += 1\n",
        "kecamatan_jumlah_data = pd.DataFrame.from_dict(kecamatan_jumlah_dict, orient = 'index', columns = [\"Jumlah Lembaga Pendidikan Terakreditasi\"])\n",
        "kecamatan_jumlah_data.head()"
      ],
      "execution_count": 113,
      "outputs": [
        {
          "output_type": "execute_result",
          "data": {
            "text/html": [
              "<div>\n",
              "<style scoped>\n",
              "    .dataframe tbody tr th:only-of-type {\n",
              "        vertical-align: middle;\n",
              "    }\n",
              "\n",
              "    .dataframe tbody tr th {\n",
              "        vertical-align: top;\n",
              "    }\n",
              "\n",
              "    .dataframe thead th {\n",
              "        text-align: right;\n",
              "    }\n",
              "</style>\n",
              "<table border=\"1\" class=\"dataframe\">\n",
              "  <thead>\n",
              "    <tr style=\"text-align: right;\">\n",
              "      <th></th>\n",
              "      <th>Jumlah Lembaga Pendidikan Terakreditasi</th>\n",
              "    </tr>\n",
              "  </thead>\n",
              "  <tbody>\n",
              "    <tr>\n",
              "      <th>Kebayoran Lama</th>\n",
              "      <td>167</td>\n",
              "    </tr>\n",
              "    <tr>\n",
              "      <th>Pulo Gadung</th>\n",
              "      <td>198</td>\n",
              "    </tr>\n",
              "    <tr>\n",
              "      <th>Senen</th>\n",
              "      <td>84</td>\n",
              "    </tr>\n",
              "    <tr>\n",
              "      <th>Kebayoran Baru</th>\n",
              "      <td>116</td>\n",
              "    </tr>\n",
              "    <tr>\n",
              "      <th>Jagakarsa</th>\n",
              "      <td>157</td>\n",
              "    </tr>\n",
              "  </tbody>\n",
              "</table>\n",
              "</div>"
            ],
            "text/plain": [
              "                Jumlah Lembaga Pendidikan Terakreditasi\n",
              "Kebayoran Lama                                      167\n",
              "Pulo Gadung                                         198\n",
              "Senen                                                84\n",
              "Kebayoran Baru                                      116\n",
              "Jagakarsa                                           157"
            ]
          },
          "metadata": {
            "tags": []
          },
          "execution_count": 113
        }
      ]
    },
    {
      "cell_type": "markdown",
      "metadata": {
        "id": "uvdSgcHTXaCL"
      },
      "source": [
        "### Data Kecamatan Berdasarkan Jumlah Lembaga Pendidikan"
      ]
    },
    {
      "cell_type": "code",
      "metadata": {
        "id": "KjGGfpjbXgwM",
        "outputId": "4dbfffe4-dd71-460b-8291-b7b121cabfee",
        "colab": {
          "base_uri": "https://localhost:8080/",
          "height": 193
        }
      },
      "source": [
        "kecamatan_jumlaht_dict = {}\n",
        "for ind in data_scoring_kecamatan.index: \n",
        "  kecamatan_jumlaht_dict[data['kecamatan'][ind]] = sum(kecamatan_akred_dict[data['kecamatan'][ind]])\n",
        "kecamatan_jumlaht_data = pd.DataFrame.from_dict(kecamatan_jumlaht_dict, orient = 'index', columns = [\"Jumlah Lembaga Pendidikan\"])\n",
        "kecamatan_jumlaht_data.head()"
      ],
      "execution_count": 114,
      "outputs": [
        {
          "output_type": "execute_result",
          "data": {
            "text/html": [
              "<div>\n",
              "<style scoped>\n",
              "    .dataframe tbody tr th:only-of-type {\n",
              "        vertical-align: middle;\n",
              "    }\n",
              "\n",
              "    .dataframe tbody tr th {\n",
              "        vertical-align: top;\n",
              "    }\n",
              "\n",
              "    .dataframe thead th {\n",
              "        text-align: right;\n",
              "    }\n",
              "</style>\n",
              "<table border=\"1\" class=\"dataframe\">\n",
              "  <thead>\n",
              "    <tr style=\"text-align: right;\">\n",
              "      <th></th>\n",
              "      <th>Jumlah Lembaga Pendidikan</th>\n",
              "    </tr>\n",
              "  </thead>\n",
              "  <tbody>\n",
              "    <tr>\n",
              "      <th>Kebayoran Lama</th>\n",
              "      <td>253</td>\n",
              "    </tr>\n",
              "    <tr>\n",
              "      <th>Pulo Gadung</th>\n",
              "      <td>221</td>\n",
              "    </tr>\n",
              "    <tr>\n",
              "      <th>Senen</th>\n",
              "      <td>92</td>\n",
              "    </tr>\n",
              "    <tr>\n",
              "      <th>Kebayoran Baru</th>\n",
              "      <td>135</td>\n",
              "    </tr>\n",
              "    <tr>\n",
              "      <th>Jagakarsa</th>\n",
              "      <td>219</td>\n",
              "    </tr>\n",
              "  </tbody>\n",
              "</table>\n",
              "</div>"
            ],
            "text/plain": [
              "                Jumlah Lembaga Pendidikan\n",
              "Kebayoran Lama                        253\n",
              "Pulo Gadung                           221\n",
              "Senen                                  92\n",
              "Kebayoran Baru                        135\n",
              "Jagakarsa                             219"
            ]
          },
          "metadata": {
            "tags": []
          },
          "execution_count": 114
        }
      ]
    },
    {
      "cell_type": "markdown",
      "metadata": {
        "id": "Br1DT6NZmAKw"
      },
      "source": [
        "### Data Kecamatan Berdasarkan Jumlah Lembaga Pendidikan Berakreditasi A"
      ]
    },
    {
      "cell_type": "code",
      "metadata": {
        "id": "C4vD8_YBmVgw",
        "outputId": "d647d973-4410-4970-a8d2-7af803cfe312",
        "colab": {
          "base_uri": "https://localhost:8080/",
          "height": 193
        }
      },
      "source": [
        "kecamatan_jumlah_A_dict = {}\n",
        "for ind in data_scoring_kecamatan.index: \n",
        "    if data_scoring_kecamatan['kecamatan'][ind] not in kecamatan_jumlah_A_dict:\n",
        "      kecamatan_jumlah_A_dict[data_scoring_kecamatan['kecamatan'][ind]] = 0\n",
        "    if data_scoring_kecamatan['kecamatan'][ind] in kecamatan_jumlah_A_dict and data_scoring_kecamatan['akreditasi'][ind] == 3:\n",
        "      kecamatan_jumlah_A_dict[data_scoring_kecamatan['kecamatan'][ind]] += 1\n",
        "kecamatan_jumlah_A_data = pd.DataFrame.from_dict(kecamatan_jumlah_A_dict, orient = 'index', columns = [\"Jumlah Lembaga Pendidikan Berakreditasi A\"])\n",
        "kecamatan_jumlah_A_data.head()"
      ],
      "execution_count": 115,
      "outputs": [
        {
          "output_type": "execute_result",
          "data": {
            "text/html": [
              "<div>\n",
              "<style scoped>\n",
              "    .dataframe tbody tr th:only-of-type {\n",
              "        vertical-align: middle;\n",
              "    }\n",
              "\n",
              "    .dataframe tbody tr th {\n",
              "        vertical-align: top;\n",
              "    }\n",
              "\n",
              "    .dataframe thead th {\n",
              "        text-align: right;\n",
              "    }\n",
              "</style>\n",
              "<table border=\"1\" class=\"dataframe\">\n",
              "  <thead>\n",
              "    <tr style=\"text-align: right;\">\n",
              "      <th></th>\n",
              "      <th>Jumlah Lembaga Pendidikan Berakreditasi A</th>\n",
              "    </tr>\n",
              "  </thead>\n",
              "  <tbody>\n",
              "    <tr>\n",
              "      <th>Kebayoran Lama</th>\n",
              "      <td>116</td>\n",
              "    </tr>\n",
              "    <tr>\n",
              "      <th>Pulo Gadung</th>\n",
              "      <td>103</td>\n",
              "    </tr>\n",
              "    <tr>\n",
              "      <th>Senen</th>\n",
              "      <td>51</td>\n",
              "    </tr>\n",
              "    <tr>\n",
              "      <th>Kebayoran Baru</th>\n",
              "      <td>90</td>\n",
              "    </tr>\n",
              "    <tr>\n",
              "      <th>Jagakarsa</th>\n",
              "      <td>112</td>\n",
              "    </tr>\n",
              "  </tbody>\n",
              "</table>\n",
              "</div>"
            ],
            "text/plain": [
              "                Jumlah Lembaga Pendidikan Berakreditasi A\n",
              "Kebayoran Lama                                        116\n",
              "Pulo Gadung                                           103\n",
              "Senen                                                  51\n",
              "Kebayoran Baru                                         90\n",
              "Jagakarsa                                             112"
            ]
          },
          "metadata": {
            "tags": []
          },
          "execution_count": 115
        }
      ]
    },
    {
      "cell_type": "markdown",
      "metadata": {
        "id": "YDstgcVapIBL"
      },
      "source": [
        "### Data Kecamatan Berdasarkan Rata-Rata Poin"
      ]
    },
    {
      "cell_type": "code",
      "metadata": {
        "id": "ByhI9PF2pPTE",
        "outputId": "b3d4514b-5e7a-4a47-d3e6-92ae093b848a",
        "colab": {
          "base_uri": "https://localhost:8080/",
          "height": 193
        }
      },
      "source": [
        "kecamatan_avg_dict = {}\n",
        "for ind in data_scoring_kecamatan.index: \n",
        "  avg = kecamatan_poin_dict[data_scoring_kecamatan['kecamatan'][ind]] / kecamatan_jumlah_dict[data_scoring_kecamatan['kecamatan'][ind]]\n",
        "  if avg == 3:\n",
        "    kecamatan_avg_dict[data_scoring_kecamatan['kecamatan'][ind]] = [\"A\", avg]\n",
        "  elif avg > 2:\n",
        "    kecamatan_avg_dict[data_scoring_kecamatan['kecamatan'][ind]] = [\"A-B\", avg]\n",
        "  elif avg == 2:\n",
        "    kecamatan_avg_dict[data_scoring_kecamatan['kecamatan'][ind]] = [\"B\", avg]\n",
        "  elif avg > 1:\n",
        "    kecamatan_avg_dict[data_scoring_kecamatan['kecamatan'][ind]] = [\"B-C\", avg]\n",
        "  else:\n",
        "    kecamatan_avg_dict[data_scoring_kecamatan['kecamatan'][ind]] = [\"C\", avg]\n",
        "kecamatan_avg_data = pd.DataFrame.from_dict(kecamatan_avg_dict, orient = 'index', columns = [\"Rentang Akreditasi\", \"Rata-rata Poin\"])\n",
        "kecamatan_avg_data.head()"
      ],
      "execution_count": 116,
      "outputs": [
        {
          "output_type": "execute_result",
          "data": {
            "text/html": [
              "<div>\n",
              "<style scoped>\n",
              "    .dataframe tbody tr th:only-of-type {\n",
              "        vertical-align: middle;\n",
              "    }\n",
              "\n",
              "    .dataframe tbody tr th {\n",
              "        vertical-align: top;\n",
              "    }\n",
              "\n",
              "    .dataframe thead th {\n",
              "        text-align: right;\n",
              "    }\n",
              "</style>\n",
              "<table border=\"1\" class=\"dataframe\">\n",
              "  <thead>\n",
              "    <tr style=\"text-align: right;\">\n",
              "      <th></th>\n",
              "      <th>Rentang Akreditasi</th>\n",
              "      <th>Rata-rata Poin</th>\n",
              "    </tr>\n",
              "  </thead>\n",
              "  <tbody>\n",
              "    <tr>\n",
              "      <th>Kebayoran Lama</th>\n",
              "      <td>A-B</td>\n",
              "      <td>2.676647</td>\n",
              "    </tr>\n",
              "    <tr>\n",
              "      <th>Pulo Gadung</th>\n",
              "      <td>A-B</td>\n",
              "      <td>2.459596</td>\n",
              "    </tr>\n",
              "    <tr>\n",
              "      <th>Senen</th>\n",
              "      <td>A-B</td>\n",
              "      <td>2.559524</td>\n",
              "    </tr>\n",
              "    <tr>\n",
              "      <th>Kebayoran Baru</th>\n",
              "      <td>A-B</td>\n",
              "      <td>2.758621</td>\n",
              "    </tr>\n",
              "    <tr>\n",
              "      <th>Jagakarsa</th>\n",
              "      <td>A-B</td>\n",
              "      <td>2.707006</td>\n",
              "    </tr>\n",
              "  </tbody>\n",
              "</table>\n",
              "</div>"
            ],
            "text/plain": [
              "               Rentang Akreditasi  Rata-rata Poin\n",
              "Kebayoran Lama                A-B        2.676647\n",
              "Pulo Gadung                   A-B        2.459596\n",
              "Senen                         A-B        2.559524\n",
              "Kebayoran Baru                A-B        2.758621\n",
              "Jagakarsa                     A-B        2.707006"
            ]
          },
          "metadata": {
            "tags": []
          },
          "execution_count": 116
        }
      ]
    },
    {
      "cell_type": "markdown",
      "metadata": {
        "id": "Mi1R0WS5Q2yN"
      },
      "source": [
        "# Data Persentase Lembaga Pendidikan berakreditasi A"
      ]
    },
    {
      "cell_type": "code",
      "metadata": {
        "id": "FEh7BM7YQ1pg",
        "outputId": "5d3462ae-8649-4abe-e353-1d95799a28d6",
        "colab": {
          "base_uri": "https://localhost:8080/",
          "height": 193
        }
      },
      "source": [
        "kecamatan_pct_dict = {}\n",
        "for ind in data_scoring_kecamatan.index: \n",
        "  pct = kecamatan_jumlah_A_dict[data_scoring_kecamatan['kecamatan'][ind]] / kecamatan_jumlaht_dict[data_scoring_kecamatan['kecamatan'][ind]] * 100\n",
        "  kecamatan_pct_dict[data_scoring_kecamatan['kecamatan'][ind]] = pct\n",
        "kecamatan_pct_data = pd.DataFrame.from_dict(kecamatan_pct_dict, orient = 'index', columns = [\"Persentase Akreditasi A\"])\n",
        "kecamatan_pct_data.head()"
      ],
      "execution_count": 117,
      "outputs": [
        {
          "output_type": "execute_result",
          "data": {
            "text/html": [
              "<div>\n",
              "<style scoped>\n",
              "    .dataframe tbody tr th:only-of-type {\n",
              "        vertical-align: middle;\n",
              "    }\n",
              "\n",
              "    .dataframe tbody tr th {\n",
              "        vertical-align: top;\n",
              "    }\n",
              "\n",
              "    .dataframe thead th {\n",
              "        text-align: right;\n",
              "    }\n",
              "</style>\n",
              "<table border=\"1\" class=\"dataframe\">\n",
              "  <thead>\n",
              "    <tr style=\"text-align: right;\">\n",
              "      <th></th>\n",
              "      <th>Persentase Akreditasi A</th>\n",
              "    </tr>\n",
              "  </thead>\n",
              "  <tbody>\n",
              "    <tr>\n",
              "      <th>Kebayoran Lama</th>\n",
              "      <td>45.849802</td>\n",
              "    </tr>\n",
              "    <tr>\n",
              "      <th>Pulo Gadung</th>\n",
              "      <td>46.606335</td>\n",
              "    </tr>\n",
              "    <tr>\n",
              "      <th>Senen</th>\n",
              "      <td>55.434783</td>\n",
              "    </tr>\n",
              "    <tr>\n",
              "      <th>Kebayoran Baru</th>\n",
              "      <td>66.666667</td>\n",
              "    </tr>\n",
              "    <tr>\n",
              "      <th>Jagakarsa</th>\n",
              "      <td>51.141553</td>\n",
              "    </tr>\n",
              "  </tbody>\n",
              "</table>\n",
              "</div>"
            ],
            "text/plain": [
              "                Persentase Akreditasi A\n",
              "Kebayoran Lama                45.849802\n",
              "Pulo Gadung                   46.606335\n",
              "Senen                         55.434783\n",
              "Kebayoran Baru                66.666667\n",
              "Jagakarsa                     51.141553"
            ]
          },
          "metadata": {
            "tags": []
          },
          "execution_count": 117
        }
      ]
    },
    {
      "cell_type": "markdown",
      "metadata": {
        "id": "pVZLcQ_Y2Zci"
      },
      "source": [
        "# Presentation (Dalam Bentuk Grafik dan Data yang sudah Diproses)"
      ]
    },
    {
      "cell_type": "markdown",
      "metadata": {
        "id": "RcSYSb6ufHHB"
      },
      "source": [
        "### Grafik Jumlah Lembaga Pendidikan"
      ]
    },
    {
      "cell_type": "code",
      "metadata": {
        "id": "lmB98pBN2kYO",
        "outputId": "2245c8d5-3a24-4b39-8785-e027e73aeba8",
        "colab": {
          "base_uri": "https://localhost:8080/",
          "height": 374
        }
      },
      "source": [
        "x = kecamatan_jumlaht_data.index\n",
        "y = kecamatan_jumlaht_data[\"Jumlah Lembaga Pendidikan\"]\n",
        "\n",
        "plt.figure(figsize=(20, 3))\n",
        "plt.xticks(rotation='vertical')\n",
        "plt.title(\"Grafik Jumlah Lembaga Pendidikan\", fontsize = 20)\n",
        "plt.xlabel(\"Nama Kecamatan\", fontsize=15)\n",
        "plt.ylabel(\"Jumlah Lembaga Pendidikan\", fontsize=15)\n",
        "\n",
        "plt.bar(x,y)\n",
        "plt.show()"
      ],
      "execution_count": 118,
      "outputs": [
        {
          "output_type": "display_data",
          "data": {
            "image/png": "[encoded data removed]",
            "text/plain": [
              "<Figure size 1440x216 with 1 Axes>"
            ]
          },
          "metadata": {
            "tags": [],
            "needs_background": "light"
          }
        }
      ]
    },
    {
      "cell_type": "markdown",
      "metadata": {
        "id": "HqJbKLQcfNGT"
      },
      "source": [
        "### Grafik Rata-Rata Poin Akreditasi"
      ]
    },
    {
      "cell_type": "code",
      "metadata": {
        "id": "KVcl2Ar7fdMF",
        "outputId": "9ec789e5-c0b2-49f9-f078-7edb4069858a",
        "colab": {
          "base_uri": "https://localhost:8080/",
          "height": 370
        }
      },
      "source": [
        "x = kecamatan_avg_data.index\n",
        "y = kecamatan_avg_data[\"Rata-rata Poin\"]\n",
        "\n",
        "plt.figure(figsize=(20, 3))\n",
        "plt.xticks(rotation='vertical')\n",
        "plt.title(\"Grafik Rata-Rata Poin Akreditasi\", fontsize = 20)\n",
        "plt.xlabel(\"Nama Kecamatan\", fontsize=15)\n",
        "plt.ylabel(\"Rata-rata Poin\", fontsize=15)\n",
        "plt.gca().set_ylim([2,3])\n",
        "\n",
        "plt.bar(x,y)\n",
        "plt.show()"
      ],
      "execution_count": 119,
      "outputs": [
        {
          "output_type": "display_data",
          "data": {
            "image/png": "[encoded data removed]",
            "text/plain": [
              "<Figure size 1440x216 with 1 Axes>"
            ]
          },
          "metadata": {
            "tags": [],
            "needs_background": "light"
          }
        }
      ]
    },
    {
      "cell_type": "markdown",
      "metadata": {
        "id": "oAbNIND3kzu4"
      },
      "source": [
        "### Grafik Persentase Lembaga Pendidikan Berakreditasi A"
      ]
    },
    {
      "cell_type": "code",
      "metadata": {
        "id": "DuDCdMXakp6V",
        "outputId": "439ad8bb-a58c-4217-d13f-528dd8b39303",
        "colab": {
          "base_uri": "https://localhost:8080/",
          "height": 370
        }
      },
      "source": [
        "x = kecamatan_pct_data.index\n",
        "y = kecamatan_pct_data[\"Persentase Akreditasi A\"]\n",
        "\n",
        "plt.figure(figsize=(20, 3))\n",
        "plt.xticks(rotation='vertical')\n",
        "plt.title(\"Grafik Persentase Lembaga Pendidikan Berakreditasi A\", fontsize = 20)\n",
        "plt.xlabel(\"Nama Kecamatan\", fontsize=15)\n",
        "plt.ylabel(\"Persentase Akreditasi A\", fontsize=15)\n",
        "plt.gca().set_ylim([0,100])\n",
        "\n",
        "plt.bar(x,y)\n",
        "plt.show()"
      ],
      "execution_count": 120,
      "outputs": [
        {
          "output_type": "display_data",
          "data": {
            "image/png": "[encoded data removed]",
            "text/plain": [
              "<Figure size 1440x216 with 1 Axes>"
            ]
          },
          "metadata": {
            "tags": [],
            "needs_background": "light"
          }
        }
      ]
    },
    {
      "cell_type": "markdown",
      "metadata": {
        "id": "JhtFlBz2nvQG"
      },
      "source": [
        "### Ringkasan Data"
      ]
    },
    {
      "cell_type": "code",
      "metadata": {
        "id": "tSdirWHZ44Y1",
        "outputId": "25312a49-ef2e-4e84-cf66-52b39207e40c",
        "colab": {
          "base_uri": "https://localhost:8080/",
          "height": 1000
        }
      },
      "source": [
        "result = pd.concat([kecamatan_akred_data, kecamatan_jumlaht_data, kecamatan_pct_data, kecamatan_avg_data], axis = 1)\n",
        "result\n"
      ],
      "execution_count": 121,
      "outputs": [
        {
          "output_type": "execute_result",
          "data": {
            "text/html": [
              "<div>\n",
              "<style scoped>\n",
              "    .dataframe tbody tr th:only-of-type {\n",
              "        vertical-align: middle;\n",
              "    }\n",
              "\n",
              "    .dataframe tbody tr th {\n",
              "        vertical-align: top;\n",
              "    }\n",
              "\n",
              "    .dataframe thead th {\n",
              "        text-align: right;\n",
              "    }\n",
              "</style>\n",
              "<table border=\"1\" class=\"dataframe\">\n",
              "  <thead>\n",
              "    <tr style=\"text-align: right;\">\n",
              "      <th></th>\n",
              "      <th>A</th>\n",
              "      <th>B</th>\n",
              "      <th>C</th>\n",
              "      <th>Tidak Terakreditasi</th>\n",
              "      <th>Jumlah Lembaga Pendidikan</th>\n",
              "      <th>Persentase Akreditasi A</th>\n",
              "      <th>Rentang Akreditasi</th>\n",
              "      <th>Rata-rata Poin</th>\n",
              "    </tr>\n",
              "  </thead>\n",
              "  <tbody>\n",
              "    <tr>\n",
              "      <th>Kebayoran Lama</th>\n",
              "      <td>116</td>\n",
              "      <td>48</td>\n",
              "      <td>3</td>\n",
              "      <td>86</td>\n",
              "      <td>253</td>\n",
              "      <td>45.849802</td>\n",
              "      <td>A-B</td>\n",
              "      <td>2.676647</td>\n",
              "    </tr>\n",
              "    <tr>\n",
              "      <th>Grogol Petamburan</th>\n",
              "      <td>98</td>\n",
              "      <td>47</td>\n",
              "      <td>3</td>\n",
              "      <td>30</td>\n",
              "      <td>178</td>\n",
              "      <td>55.056180</td>\n",
              "      <td>A-B</td>\n",
              "      <td>2.641892</td>\n",
              "    </tr>\n",
              "    <tr>\n",
              "      <th>Setia Budi</th>\n",
              "      <td>41</td>\n",
              "      <td>35</td>\n",
              "      <td>2</td>\n",
              "      <td>4</td>\n",
              "      <td>82</td>\n",
              "      <td>50.000000</td>\n",
              "      <td>A-B</td>\n",
              "      <td>2.500000</td>\n",
              "    </tr>\n",
              "    <tr>\n",
              "      <th>Cengkareng</th>\n",
              "      <td>148</td>\n",
              "      <td>101</td>\n",
              "      <td>4</td>\n",
              "      <td>76</td>\n",
              "      <td>329</td>\n",
              "      <td>44.984802</td>\n",
              "      <td>A-B</td>\n",
              "      <td>2.569170</td>\n",
              "    </tr>\n",
              "    <tr>\n",
              "      <th>Jagakarsa</th>\n",
              "      <td>112</td>\n",
              "      <td>44</td>\n",
              "      <td>1</td>\n",
              "      <td>62</td>\n",
              "      <td>219</td>\n",
              "      <td>51.141553</td>\n",
              "      <td>A-B</td>\n",
              "      <td>2.707006</td>\n",
              "    </tr>\n",
              "    <tr>\n",
              "      <th>Pulo Gadung</th>\n",
              "      <td>103</td>\n",
              "      <td>83</td>\n",
              "      <td>12</td>\n",
              "      <td>23</td>\n",
              "      <td>221</td>\n",
              "      <td>46.606335</td>\n",
              "      <td>A-B</td>\n",
              "      <td>2.459596</td>\n",
              "    </tr>\n",
              "    <tr>\n",
              "      <th>Penjaringan</th>\n",
              "      <td>112</td>\n",
              "      <td>28</td>\n",
              "      <td>3</td>\n",
              "      <td>28</td>\n",
              "      <td>171</td>\n",
              "      <td>65.497076</td>\n",
              "      <td>A-B</td>\n",
              "      <td>2.762238</td>\n",
              "    </tr>\n",
              "    <tr>\n",
              "      <th>Senen</th>\n",
              "      <td>51</td>\n",
              "      <td>29</td>\n",
              "      <td>4</td>\n",
              "      <td>8</td>\n",
              "      <td>92</td>\n",
              "      <td>55.434783</td>\n",
              "      <td>A-B</td>\n",
              "      <td>2.559524</td>\n",
              "    </tr>\n",
              "    <tr>\n",
              "      <th>Pasar Minggu</th>\n",
              "      <td>118</td>\n",
              "      <td>33</td>\n",
              "      <td>1</td>\n",
              "      <td>31</td>\n",
              "      <td>183</td>\n",
              "      <td>64.480874</td>\n",
              "      <td>A-B</td>\n",
              "      <td>2.769737</td>\n",
              "    </tr>\n",
              "    <tr>\n",
              "      <th>Kebayoran Baru</th>\n",
              "      <td>90</td>\n",
              "      <td>24</td>\n",
              "      <td>2</td>\n",
              "      <td>19</td>\n",
              "      <td>135</td>\n",
              "      <td>66.666667</td>\n",
              "      <td>A-B</td>\n",
              "      <td>2.758621</td>\n",
              "    </tr>\n",
              "    <tr>\n",
              "      <th>Jatinegara</th>\n",
              "      <td>96</td>\n",
              "      <td>63</td>\n",
              "      <td>2</td>\n",
              "      <td>39</td>\n",
              "      <td>200</td>\n",
              "      <td>48.000000</td>\n",
              "      <td>A-B</td>\n",
              "      <td>2.583851</td>\n",
              "    </tr>\n",
              "    <tr>\n",
              "      <th>Sawah Besar</th>\n",
              "      <td>53</td>\n",
              "      <td>29</td>\n",
              "      <td>2</td>\n",
              "      <td>9</td>\n",
              "      <td>93</td>\n",
              "      <td>56.989247</td>\n",
              "      <td>A-B</td>\n",
              "      <td>2.607143</td>\n",
              "    </tr>\n",
              "    <tr>\n",
              "      <th>Makasar</th>\n",
              "      <td>88</td>\n",
              "      <td>35</td>\n",
              "      <td>6</td>\n",
              "      <td>13</td>\n",
              "      <td>142</td>\n",
              "      <td>61.971831</td>\n",
              "      <td>A-B</td>\n",
              "      <td>2.635659</td>\n",
              "    </tr>\n",
              "    <tr>\n",
              "      <th>Tebet</th>\n",
              "      <td>75</td>\n",
              "      <td>40</td>\n",
              "      <td>3</td>\n",
              "      <td>32</td>\n",
              "      <td>150</td>\n",
              "      <td>50.000000</td>\n",
              "      <td>A-B</td>\n",
              "      <td>2.610169</td>\n",
              "    </tr>\n",
              "    <tr>\n",
              "      <th>Pademangan</th>\n",
              "      <td>43</td>\n",
              "      <td>16</td>\n",
              "      <td>3</td>\n",
              "      <td>9</td>\n",
              "      <td>71</td>\n",
              "      <td>60.563380</td>\n",
              "      <td>A-B</td>\n",
              "      <td>2.645161</td>\n",
              "    </tr>\n",
              "    <tr>\n",
              "      <th>Cipayung</th>\n",
              "      <td>74</td>\n",
              "      <td>46</td>\n",
              "      <td>8</td>\n",
              "      <td>45</td>\n",
              "      <td>173</td>\n",
              "      <td>42.774566</td>\n",
              "      <td>A-B</td>\n",
              "      <td>2.515625</td>\n",
              "    </tr>\n",
              "    <tr>\n",
              "      <th>Kelapa Gading</th>\n",
              "      <td>82</td>\n",
              "      <td>19</td>\n",
              "      <td>0</td>\n",
              "      <td>41</td>\n",
              "      <td>142</td>\n",
              "      <td>57.746479</td>\n",
              "      <td>A-B</td>\n",
              "      <td>2.811881</td>\n",
              "    </tr>\n",
              "    <tr>\n",
              "      <th>Mampang Prapatan</th>\n",
              "      <td>53</td>\n",
              "      <td>17</td>\n",
              "      <td>2</td>\n",
              "      <td>17</td>\n",
              "      <td>89</td>\n",
              "      <td>59.550562</td>\n",
              "      <td>A-B</td>\n",
              "      <td>2.708333</td>\n",
              "    </tr>\n",
              "    <tr>\n",
              "      <th>Kalideres</th>\n",
              "      <td>145</td>\n",
              "      <td>71</td>\n",
              "      <td>2</td>\n",
              "      <td>88</td>\n",
              "      <td>306</td>\n",
              "      <td>47.385621</td>\n",
              "      <td>A-B</td>\n",
              "      <td>2.655963</td>\n",
              "    </tr>\n",
              "    <tr>\n",
              "      <th>Pancoran</th>\n",
              "      <td>39</td>\n",
              "      <td>23</td>\n",
              "      <td>1</td>\n",
              "      <td>17</td>\n",
              "      <td>80</td>\n",
              "      <td>48.750000</td>\n",
              "      <td>A-B</td>\n",
              "      <td>2.603175</td>\n",
              "    </tr>\n",
              "    <tr>\n",
              "      <th>Duren Sawit</th>\n",
              "      <td>160</td>\n",
              "      <td>51</td>\n",
              "      <td>4</td>\n",
              "      <td>100</td>\n",
              "      <td>315</td>\n",
              "      <td>50.793651</td>\n",
              "      <td>A-B</td>\n",
              "      <td>2.725581</td>\n",
              "    </tr>\n",
              "    <tr>\n",
              "      <th>Kramat Jati</th>\n",
              "      <td>85</td>\n",
              "      <td>55</td>\n",
              "      <td>3</td>\n",
              "      <td>45</td>\n",
              "      <td>188</td>\n",
              "      <td>45.212766</td>\n",
              "      <td>A-B</td>\n",
              "      <td>2.573427</td>\n",
              "    </tr>\n",
              "    <tr>\n",
              "      <th>Pesanggrahan</th>\n",
              "      <td>83</td>\n",
              "      <td>33</td>\n",
              "      <td>2</td>\n",
              "      <td>29</td>\n",
              "      <td>147</td>\n",
              "      <td>56.462585</td>\n",
              "      <td>A-B</td>\n",
              "      <td>2.686441</td>\n",
              "    </tr>\n",
              "    <tr>\n",
              "      <th>Cilandak</th>\n",
              "      <td>128</td>\n",
              "      <td>29</td>\n",
              "      <td>0</td>\n",
              "      <td>34</td>\n",
              "      <td>191</td>\n",
              "      <td>67.015707</td>\n",
              "      <td>A-B</td>\n",
              "      <td>2.815287</td>\n",
              "    </tr>\n",
              "    <tr>\n",
              "      <th>Koja</th>\n",
              "      <td>76</td>\n",
              "      <td>63</td>\n",
              "      <td>7</td>\n",
              "      <td>14</td>\n",
              "      <td>160</td>\n",
              "      <td>47.500000</td>\n",
              "      <td>A-B</td>\n",
              "      <td>2.472603</td>\n",
              "    </tr>\n",
              "    <tr>\n",
              "      <th>Kemayoran</th>\n",
              "      <td>87</td>\n",
              "      <td>52</td>\n",
              "      <td>4</td>\n",
              "      <td>35</td>\n",
              "      <td>178</td>\n",
              "      <td>48.876404</td>\n",
              "      <td>A-B</td>\n",
              "      <td>2.580420</td>\n",
              "    </tr>\n",
              "    <tr>\n",
              "      <th>Cakung</th>\n",
              "      <td>116</td>\n",
              "      <td>66</td>\n",
              "      <td>3</td>\n",
              "      <td>84</td>\n",
              "      <td>269</td>\n",
              "      <td>43.122677</td>\n",
              "      <td>A-B</td>\n",
              "      <td>2.610811</td>\n",
              "    </tr>\n",
              "    <tr>\n",
              "      <th>Cilincing</th>\n",
              "      <td>81</td>\n",
              "      <td>78</td>\n",
              "      <td>7</td>\n",
              "      <td>48</td>\n",
              "      <td>214</td>\n",
              "      <td>37.850467</td>\n",
              "      <td>A-B</td>\n",
              "      <td>2.445783</td>\n",
              "    </tr>\n",
              "    <tr>\n",
              "      <th>Kembangan</th>\n",
              "      <td>129</td>\n",
              "      <td>25</td>\n",
              "      <td>5</td>\n",
              "      <td>55</td>\n",
              "      <td>214</td>\n",
              "      <td>60.280374</td>\n",
              "      <td>A-B</td>\n",
              "      <td>2.779874</td>\n",
              "    </tr>\n",
              "    <tr>\n",
              "      <th>Kebon Jeruk</th>\n",
              "      <td>136</td>\n",
              "      <td>32</td>\n",
              "      <td>0</td>\n",
              "      <td>32</td>\n",
              "      <td>200</td>\n",
              "      <td>68.000000</td>\n",
              "      <td>A-B</td>\n",
              "      <td>2.809524</td>\n",
              "    </tr>\n",
              "    <tr>\n",
              "      <th>Cempaka Putih</th>\n",
              "      <td>34</td>\n",
              "      <td>32</td>\n",
              "      <td>3</td>\n",
              "      <td>12</td>\n",
              "      <td>81</td>\n",
              "      <td>41.975309</td>\n",
              "      <td>A-B</td>\n",
              "      <td>2.449275</td>\n",
              "    </tr>\n",
              "    <tr>\n",
              "      <th>Pasar Rebo</th>\n",
              "      <td>85</td>\n",
              "      <td>32</td>\n",
              "      <td>3</td>\n",
              "      <td>25</td>\n",
              "      <td>145</td>\n",
              "      <td>58.620690</td>\n",
              "      <td>A-B</td>\n",
              "      <td>2.683333</td>\n",
              "    </tr>\n",
              "    <tr>\n",
              "      <th>Matraman</th>\n",
              "      <td>55</td>\n",
              "      <td>49</td>\n",
              "      <td>3</td>\n",
              "      <td>17</td>\n",
              "      <td>124</td>\n",
              "      <td>44.354839</td>\n",
              "      <td>A-B</td>\n",
              "      <td>2.485981</td>\n",
              "    </tr>\n",
              "    <tr>\n",
              "      <th>Tanjung Priok</th>\n",
              "      <td>127</td>\n",
              "      <td>84</td>\n",
              "      <td>5</td>\n",
              "      <td>36</td>\n",
              "      <td>252</td>\n",
              "      <td>50.396825</td>\n",
              "      <td>A-B</td>\n",
              "      <td>2.564815</td>\n",
              "    </tr>\n",
              "    <tr>\n",
              "      <th>Tambora</th>\n",
              "      <td>71</td>\n",
              "      <td>57</td>\n",
              "      <td>3</td>\n",
              "      <td>21</td>\n",
              "      <td>152</td>\n",
              "      <td>46.710526</td>\n",
              "      <td>A-B</td>\n",
              "      <td>2.519084</td>\n",
              "    </tr>\n",
              "    <tr>\n",
              "      <th>Tanah Abang</th>\n",
              "      <td>50</td>\n",
              "      <td>33</td>\n",
              "      <td>5</td>\n",
              "      <td>5</td>\n",
              "      <td>93</td>\n",
              "      <td>53.763441</td>\n",
              "      <td>A-B</td>\n",
              "      <td>2.511364</td>\n",
              "    </tr>\n",
              "    <tr>\n",
              "      <th>Ciracas</th>\n",
              "      <td>88</td>\n",
              "      <td>36</td>\n",
              "      <td>1</td>\n",
              "      <td>44</td>\n",
              "      <td>169</td>\n",
              "      <td>52.071006</td>\n",
              "      <td>A-B</td>\n",
              "      <td>2.696000</td>\n",
              "    </tr>\n",
              "    <tr>\n",
              "      <th>Gambir</th>\n",
              "      <td>53</td>\n",
              "      <td>26</td>\n",
              "      <td>2</td>\n",
              "      <td>7</td>\n",
              "      <td>88</td>\n",
              "      <td>60.227273</td>\n",
              "      <td>A-B</td>\n",
              "      <td>2.629630</td>\n",
              "    </tr>\n",
              "    <tr>\n",
              "      <th>Menteng</th>\n",
              "      <td>45</td>\n",
              "      <td>23</td>\n",
              "      <td>3</td>\n",
              "      <td>13</td>\n",
              "      <td>84</td>\n",
              "      <td>53.571429</td>\n",
              "      <td>A-B</td>\n",
              "      <td>2.591549</td>\n",
              "    </tr>\n",
              "    <tr>\n",
              "      <th>Johar Baru</th>\n",
              "      <td>27</td>\n",
              "      <td>36</td>\n",
              "      <td>6</td>\n",
              "      <td>7</td>\n",
              "      <td>76</td>\n",
              "      <td>35.526316</td>\n",
              "      <td>A-B</td>\n",
              "      <td>2.304348</td>\n",
              "    </tr>\n",
              "    <tr>\n",
              "      <th>Palmerah</th>\n",
              "      <td>62</td>\n",
              "      <td>37</td>\n",
              "      <td>4</td>\n",
              "      <td>17</td>\n",
              "      <td>120</td>\n",
              "      <td>51.666667</td>\n",
              "      <td>A-B</td>\n",
              "      <td>2.563107</td>\n",
              "    </tr>\n",
              "    <tr>\n",
              "      <th>Taman Sari</th>\n",
              "      <td>53</td>\n",
              "      <td>38</td>\n",
              "      <td>6</td>\n",
              "      <td>4</td>\n",
              "      <td>101</td>\n",
              "      <td>52.475248</td>\n",
              "      <td>A-B</td>\n",
              "      <td>2.484536</td>\n",
              "    </tr>\n",
              "    <tr>\n",
              "      <th>Kepulauan Seribu Utara</th>\n",
              "      <td>6</td>\n",
              "      <td>5</td>\n",
              "      <td>1</td>\n",
              "      <td>4</td>\n",
              "      <td>16</td>\n",
              "      <td>37.500000</td>\n",
              "      <td>A-B</td>\n",
              "      <td>2.416667</td>\n",
              "    </tr>\n",
              "    <tr>\n",
              "      <th>Kepulauan Seribu Selatan</th>\n",
              "      <td>7</td>\n",
              "      <td>5</td>\n",
              "      <td>0</td>\n",
              "      <td>5</td>\n",
              "      <td>17</td>\n",
              "      <td>41.176471</td>\n",
              "      <td>A-B</td>\n",
              "      <td>2.583333</td>\n",
              "    </tr>\n",
              "  </tbody>\n",
              "</table>\n",
              "</div>"
            ],
            "text/plain": [
              "                            A    B  ...  Rentang Akreditasi  Rata-rata Poin\n",
              "Kebayoran Lama            116   48  ...                 A-B        2.676647\n",
              "Grogol Petamburan          98   47  ...                 A-B        2.641892\n",
              "Setia Budi                 41   35  ...                 A-B        2.500000\n",
              "Cengkareng                148  101  ...                 A-B        2.569170\n",
              "Jagakarsa                 112   44  ...                 A-B        2.707006\n",
              "Pulo Gadung               103   83  ...                 A-B        2.459596\n",
              "Penjaringan               112   28  ...                 A-B        2.762238\n",
              "Senen                      51   29  ...                 A-B        2.559524\n",
              "Pasar Minggu              118   33  ...                 A-B        2.769737\n",
              "Kebayoran Baru             90   24  ...                 A-B        2.758621\n",
              "Jatinegara                 96   63  ...                 A-B        2.583851\n",
              "Sawah Besar                53   29  ...                 A-B        2.607143\n",
              "Makasar                    88   35  ...                 A-B        2.635659\n",
              "Tebet                      75   40  ...                 A-B        2.610169\n",
              "Pademangan                 43   16  ...                 A-B        2.645161\n",
              "Cipayung                   74   46  ...                 A-B        2.515625\n",
              "Kelapa Gading              82   19  ...                 A-B        2.811881\n",
              "Mampang Prapatan           53   17  ...                 A-B        2.708333\n",
              "Kalideres                 145   71  ...                 A-B        2.655963\n",
              "Pancoran                   39   23  ...                 A-B        2.603175\n",
              "Duren Sawit               160   51  ...                 A-B        2.725581\n",
              "Kramat Jati                85   55  ...                 A-B        2.573427\n",
              "Pesanggrahan               83   33  ...                 A-B        2.686441\n",
              "Cilandak                  128   29  ...                 A-B        2.815287\n",
              "Koja                       76   63  ...                 A-B        2.472603\n",
              "Kemayoran                  87   52  ...                 A-B        2.580420\n",
              "Cakung                    116   66  ...                 A-B        2.610811\n",
              "Cilincing                  81   78  ...                 A-B        2.445783\n",
              "Kembangan                 129   25  ...                 A-B        2.779874\n",
              "Kebon Jeruk               136   32  ...                 A-B        2.809524\n",
              "Cempaka Putih              34   32  ...                 A-B        2.449275\n",
              "Pasar Rebo                 85   32  ...                 A-B        2.683333\n",
              "Matraman                   55   49  ...                 A-B        2.485981\n",
              "Tanjung Priok             127   84  ...                 A-B        2.564815\n",
              "Tambora                    71   57  ...                 A-B        2.519084\n",
              "Tanah Abang                50   33  ...                 A-B        2.511364\n",
              "Ciracas                    88   36  ...                 A-B        2.696000\n",
              "Gambir                     53   26  ...                 A-B        2.629630\n",
              "Menteng                    45   23  ...                 A-B        2.591549\n",
              "Johar Baru                 27   36  ...                 A-B        2.304348\n",
              "Palmerah                   62   37  ...                 A-B        2.563107\n",
              "Taman Sari                 53   38  ...                 A-B        2.484536\n",
              "Kepulauan Seribu Utara      6    5  ...                 A-B        2.416667\n",
              "Kepulauan Seribu Selatan    7    5  ...                 A-B        2.583333\n",
              "\n",
              "[44 rows x 8 columns]"
            ]
          },
          "metadata": {
            "tags": []
          },
          "execution_count": 121
        }
      ]
    },
    {
      "cell_type": "markdown",
      "metadata": {
        "id": "smNKCyUPoDpx"
      },
      "source": [
        "## Statistik Data"
      ]
    },
    {
      "cell_type": "markdown",
      "metadata": {
        "id": "rPTi5OKcoKIZ"
      },
      "source": [
        "### Rata-rata Data"
      ]
    },
    {
      "cell_type": "code",
      "metadata": {
        "id": "jxSP_ek8oPfG",
        "outputId": "561abf4e-1efd-4386-b679-9827111cc739",
        "colab": {
          "base_uri": "https://localhost:8080/"
        }
      },
      "source": [
        "print(\"Rata-rata jumlah lembaga pendidikan per Kecamatan:\" + str(sum(kecamatan_jumlaht_dict.values()) // 44))\n",
        "avgsum = 0\n",
        "for i in kecamatan_avg_dict.values():\n",
        "  avgsum += i[1]\n",
        "print(\"Rata-rata poin akreditasi lembaga pendidikan per Kecamatan:\" + str(avgsum / 44))\n",
        "print(\"Rata-rata persentase lembaga pendidikan berakreditasi A:\" + str(sum(kecamatan_pct_dict.values()) / 44))"
      ],
      "execution_count": 124,
      "outputs": [
        {
          "output_type": "stream",
          "text": [
            "Rata-rata jumlah lembaga pendidikan per Kecamatan:156\n",
            "Rata-rata poin akreditasi lembaga pendidikan per Kecamatan:2.6082764208376124\n",
            "Rata-rata persentase lembaga pendidikan berakreditasi A:51.922736962237714\n"
          ],
          "name": "stdout"
        }
      ]
    },
    {
      "cell_type": "markdown",
      "metadata": {
        "id": "UIzcA8Yfup5A"
      },
      "source": [
        "### Min Max Data"
      ]
    },
    {
      "cell_type": "code",
      "metadata": {
        "id": "FB9O6nbMuuoo",
        "outputId": "0ac2d794-471c-440a-c7a0-b34ce44f5226",
        "colab": {
          "base_uri": "https://localhost:8080/"
        }
      },
      "source": [
        "print(\"Minimum jumlah lembaga pendidikan per Kecamatan:\" + str(result['Jumlah Lembaga Pendidikan'].min()))\n",
        "print(\"Maksimum jumlah lembaga pendidikan per Kecamatan:\" + str(result['Jumlah Lembaga Pendidikan'].max()))\n",
        "print()\n",
        "print(\"Minimum Rata-rata Poin akreditasi lembaga pendidikan per Kecamatan:\" + str(result['Rata-rata Poin'].min()))\n",
        "print(\"Maksimum Rata-rata Poin akreditasi lembaga pendidikan per Kecamatan:\" + str(result['Rata-rata Poin'].max()))\n",
        "print()\n",
        "print(\"Minimum persentase lembaga pendidikan berakreditasi A:\" + str(result['Persentase Akreditasi A'].min()))\n",
        "print(\"Maksimum persentase lembaga pendidikan berakreditasi A:\" + str(result['Persentase Akreditasi A'].max()))"
      ],
      "execution_count": 125,
      "outputs": [
        {
          "output_type": "stream",
          "text": [
            "Minimum jumlah lembaga pendidikan per Kecamatan:16\n",
            "Maksimum jumlah lembaga pendidikan per Kecamatan:329\n",
            "\n",
            "Minimum Rata-rata Poin akreditasi lembaga pendidikan per Kecamatan:2.3043478260869565\n",
            "Maksimum Rata-rata Poin akreditasi lembaga pendidikan per Kecamatan:2.8152866242038215\n",
            "\n",
            "Minimum persentase lembaga pendidikan berakreditasi A:35.526315789473685\n",
            "Maksimum persentase lembaga pendidikan berakreditasi A:68.0\n"
          ],
          "name": "stdout"
        }
      ]
    },
    {
      "cell_type": "markdown",
      "metadata": {
        "id": "iXyrmPxoy3Ms"
      },
      "source": [
        "Insight yang didapat dari analisis data:\n",
        "\n",
        "\n",
        "*   Seluruh Kecamatan di DKI Jakarta sudah memiliki beberapa lembaga pendidikan berakreditasi A.\n",
        "*   Rata-rata lembaga pendidikan di DKI Jakarta memiliki akreditasi A atau B.\n",
        "*   Rata-rata setiap Kecamatan di DKI Jakarta memiliki 156 lembaga pendidikan\n",
        "*   Rata-rata poin akreditasi lembaga pendidikan setiap Kecamatan di DKI Jakarta adalah 2,608\n",
        "*   Rata-rata persentase lembaga pendidikan berakreditasi A di setiap Kecamatan di DKI Jakarta adalah 51,923%\n",
        "*   Cengkareng menyediakan pilihan lembaga pendidikan terbanyak yaitu sebanyak 329 lembaga.\n",
        "*   Cilandak memiliki rata-rata poin akreditasi lembaga pendidikan tertinggi yaitu 2.815\n",
        "*   Kebon Jeruk memiliki persentase lembaga pendidikan berakreditasi A tertinggi yaitu 68%\n",
        "\n",
        "\n",
        "\n"
      ]
    }
  ]
}
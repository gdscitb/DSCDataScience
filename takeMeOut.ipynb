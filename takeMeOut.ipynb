{
  "nbformat": 4,
  "nbformat_minor": 0,
  "metadata": {
    "colab": {
      "name": "takeMeOut.ipynb",
      "provenance": [],
      "collapsed_sections": [],
      "toc_visible": true
    },
    "kernelspec": {
      "name": "python3",
      "display_name": "Python 3"
    }
  },
  "cells": [
    {
      "cell_type": "markdown",
      "metadata": {
        "id": "KRmNgyYucjKW"
      },
      "source": [
        "##**Jason Kanggara / 16520214 / Institut Teknologi Bandung**\n",
        "- Tanggal Pengerjaan : 9 November 2020\n",
        "- sumber: TakeMeOut"
      ]
    },
    {
      "cell_type": "code",
      "metadata": {
        "id": "H_fTrNYucLyI"
      },
      "source": [
        "import pandas as pd\n",
        "from sklearn.neighbors import NearestNeighbors"
      ],
      "execution_count": 39,
      "outputs": []
    },
    {
      "cell_type": "markdown",
      "metadata": {
        "id": "AROABxTpIAU2"
      },
      "source": [
        "# Data Preperation"
      ]
    },
    {
      "cell_type": "code",
      "metadata": {
        "id": "827ZTJz9LFHV"
      },
      "source": [
        "df = pd.read_csv('/content/takemeout.csv')"
      ],
      "execution_count": 8,
      "outputs": []
    },
    {
      "cell_type": "code",
      "metadata": {
        "id": "VRJtp4FiLOrz",
        "outputId": "9be9c9f5-e9ce-4242-e2e0-515a7c44d89e",
        "colab": {
          "base_uri": "https://localhost:8080/",
          "height": 527
        }
      },
      "source": [
        "df.head()"
      ],
      "execution_count": 9,
      "outputs": [
        {
          "output_type": "execute_result",
          "data": {
            "text/html": [
              "<div>\n",
              "<style scoped>\n",
              "    .dataframe tbody tr th:only-of-type {\n",
              "        vertical-align: middle;\n",
              "    }\n",
              "\n",
              "    .dataframe tbody tr th {\n",
              "        vertical-align: top;\n",
              "    }\n",
              "\n",
              "    .dataframe thead th {\n",
              "        text-align: right;\n",
              "    }\n",
              "</style>\n",
              "<table border=\"1\" class=\"dataframe\">\n",
              "  <thead>\n",
              "    <tr style=\"text-align: right;\">\n",
              "      <th></th>\n",
              "      <th>Timestamp</th>\n",
              "      <th>Siapa nama kamu?</th>\n",
              "      <th>Cewek atau cowok nih?</th>\n",
              "      <th>Seberapa penting quality time bareng calon pacar untuk kamu?</th>\n",
              "      <th>Seberapa penting physical touch sama calon pacar untuk kamu?</th>\n",
              "      <th>Seberapa penting word of affirmation dari calon pacar untuk kamu?</th>\n",
              "      <th>Seberapa penting dapet kado dari calon pacar untuk kamu?</th>\n",
              "      <th>Seberapa penting bantuan dari calon pacar untuk kamu?</th>\n",
              "    </tr>\n",
              "  </thead>\n",
              "  <tbody>\n",
              "    <tr>\n",
              "      <th>0</th>\n",
              "      <td>2020/10/31 3:39:25 PM GMT+7</td>\n",
              "      <td>A**************</td>\n",
              "      <td>Cowok</td>\n",
              "      <td>5</td>\n",
              "      <td>5</td>\n",
              "      <td>4</td>\n",
              "      <td>1</td>\n",
              "      <td>3</td>\n",
              "    </tr>\n",
              "    <tr>\n",
              "      <th>1</th>\n",
              "      <td>2020/10/31 3:39:36 PM GMT+7</td>\n",
              "      <td>L****</td>\n",
              "      <td>Cewek</td>\n",
              "      <td>5</td>\n",
              "      <td>5</td>\n",
              "      <td>3</td>\n",
              "      <td>2</td>\n",
              "      <td>2</td>\n",
              "    </tr>\n",
              "    <tr>\n",
              "      <th>2</th>\n",
              "      <td>2020/10/31 3:39:38 PM GMT+7</td>\n",
              "      <td>Y***********</td>\n",
              "      <td>Cowok</td>\n",
              "      <td>4</td>\n",
              "      <td>3</td>\n",
              "      <td>4</td>\n",
              "      <td>4</td>\n",
              "      <td>4</td>\n",
              "    </tr>\n",
              "    <tr>\n",
              "      <th>3</th>\n",
              "      <td>2020/10/31 3:39:42 PM GMT+7</td>\n",
              "      <td>a***</td>\n",
              "      <td>Cowok</td>\n",
              "      <td>5</td>\n",
              "      <td>5</td>\n",
              "      <td>5</td>\n",
              "      <td>2</td>\n",
              "      <td>3</td>\n",
              "    </tr>\n",
              "    <tr>\n",
              "      <th>4</th>\n",
              "      <td>2020/10/31 3:39:43 PM GMT+7</td>\n",
              "      <td>B****</td>\n",
              "      <td>Cowok</td>\n",
              "      <td>5</td>\n",
              "      <td>5</td>\n",
              "      <td>5</td>\n",
              "      <td>2</td>\n",
              "      <td>4</td>\n",
              "    </tr>\n",
              "  </tbody>\n",
              "</table>\n",
              "</div>"
            ],
            "text/plain": [
              "                     Timestamp  ... Seberapa penting bantuan dari calon pacar untuk kamu?\n",
              "0  2020/10/31 3:39:25 PM GMT+7  ...                                                  3   \n",
              "1  2020/10/31 3:39:36 PM GMT+7  ...                                                  2   \n",
              "2  2020/10/31 3:39:38 PM GMT+7  ...                                                  4   \n",
              "3  2020/10/31 3:39:42 PM GMT+7  ...                                                  3   \n",
              "4  2020/10/31 3:39:43 PM GMT+7  ...                                                  4   \n",
              "\n",
              "[5 rows x 8 columns]"
            ]
          },
          "metadata": {
            "tags": []
          },
          "execution_count": 9
        }
      ]
    },
    {
      "cell_type": "markdown",
      "metadata": {
        "id": "ZVi--eElMVW1"
      },
      "source": [
        "# Data Preprocessing"
      ]
    },
    {
      "cell_type": "code",
      "metadata": {
        "id": "pYQmqWqSMZZ-"
      },
      "source": [
        "df = df.iloc[:, 1:]"
      ],
      "execution_count": 10,
      "outputs": []
    },
    {
      "cell_type": "code",
      "metadata": {
        "id": "1crHxquFMrNS",
        "outputId": "09c09bdb-886f-459d-9cf7-d49b405e9c4b",
        "colab": {
          "base_uri": "https://localhost:8080/",
          "height": 255
        }
      },
      "source": [
        "df.head()"
      ],
      "execution_count": 11,
      "outputs": [
        {
          "output_type": "execute_result",
          "data": {
            "text/html": [
              "<div>\n",
              "<style scoped>\n",
              "    .dataframe tbody tr th:only-of-type {\n",
              "        vertical-align: middle;\n",
              "    }\n",
              "\n",
              "    .dataframe tbody tr th {\n",
              "        vertical-align: top;\n",
              "    }\n",
              "\n",
              "    .dataframe thead th {\n",
              "        text-align: right;\n",
              "    }\n",
              "</style>\n",
              "<table border=\"1\" class=\"dataframe\">\n",
              "  <thead>\n",
              "    <tr style=\"text-align: right;\">\n",
              "      <th></th>\n",
              "      <th>Siapa nama kamu?</th>\n",
              "      <th>Cewek atau cowok nih?</th>\n",
              "      <th>Seberapa penting quality time bareng calon pacar untuk kamu?</th>\n",
              "      <th>Seberapa penting physical touch sama calon pacar untuk kamu?</th>\n",
              "      <th>Seberapa penting word of affirmation dari calon pacar untuk kamu?</th>\n",
              "      <th>Seberapa penting dapet kado dari calon pacar untuk kamu?</th>\n",
              "      <th>Seberapa penting bantuan dari calon pacar untuk kamu?</th>\n",
              "    </tr>\n",
              "  </thead>\n",
              "  <tbody>\n",
              "    <tr>\n",
              "      <th>0</th>\n",
              "      <td>A**************</td>\n",
              "      <td>Cowok</td>\n",
              "      <td>5</td>\n",
              "      <td>5</td>\n",
              "      <td>4</td>\n",
              "      <td>1</td>\n",
              "      <td>3</td>\n",
              "    </tr>\n",
              "    <tr>\n",
              "      <th>1</th>\n",
              "      <td>L****</td>\n",
              "      <td>Cewek</td>\n",
              "      <td>5</td>\n",
              "      <td>5</td>\n",
              "      <td>3</td>\n",
              "      <td>2</td>\n",
              "      <td>2</td>\n",
              "    </tr>\n",
              "    <tr>\n",
              "      <th>2</th>\n",
              "      <td>Y***********</td>\n",
              "      <td>Cowok</td>\n",
              "      <td>4</td>\n",
              "      <td>3</td>\n",
              "      <td>4</td>\n",
              "      <td>4</td>\n",
              "      <td>4</td>\n",
              "    </tr>\n",
              "    <tr>\n",
              "      <th>3</th>\n",
              "      <td>a***</td>\n",
              "      <td>Cowok</td>\n",
              "      <td>5</td>\n",
              "      <td>5</td>\n",
              "      <td>5</td>\n",
              "      <td>2</td>\n",
              "      <td>3</td>\n",
              "    </tr>\n",
              "    <tr>\n",
              "      <th>4</th>\n",
              "      <td>B****</td>\n",
              "      <td>Cowok</td>\n",
              "      <td>5</td>\n",
              "      <td>5</td>\n",
              "      <td>5</td>\n",
              "      <td>2</td>\n",
              "      <td>4</td>\n",
              "    </tr>\n",
              "  </tbody>\n",
              "</table>\n",
              "</div>"
            ],
            "text/plain": [
              "  Siapa nama kamu?  ... Seberapa penting bantuan dari calon pacar untuk kamu?\n",
              "0  A**************  ...                                                  3   \n",
              "1            L****  ...                                                  2   \n",
              "2     Y***********  ...                                                  4   \n",
              "3             a***  ...                                                  3   \n",
              "4            B****  ...                                                  4   \n",
              "\n",
              "[5 rows x 7 columns]"
            ]
          },
          "metadata": {
            "tags": []
          },
          "execution_count": 11
        }
      ]
    },
    {
      "cell_type": "code",
      "metadata": {
        "id": "vhrgrq-vM0UZ"
      },
      "source": [
        "df.columns = ['nama', 'gender', 'qualityTime', 'physicalTouch', 'wordAffirmation', 'kado', 'bantuan']"
      ],
      "execution_count": 12,
      "outputs": []
    },
    {
      "cell_type": "code",
      "metadata": {
        "id": "iPSckNCzNLHq",
        "outputId": "fb224454-98a4-43ed-9b49-dabf91a3fb88",
        "colab": {
          "base_uri": "https://localhost:8080/",
          "height": 204
        }
      },
      "source": [
        "df.head()"
      ],
      "execution_count": 13,
      "outputs": [
        {
          "output_type": "execute_result",
          "data": {
            "text/html": [
              "<div>\n",
              "<style scoped>\n",
              "    .dataframe tbody tr th:only-of-type {\n",
              "        vertical-align: middle;\n",
              "    }\n",
              "\n",
              "    .dataframe tbody tr th {\n",
              "        vertical-align: top;\n",
              "    }\n",
              "\n",
              "    .dataframe thead th {\n",
              "        text-align: right;\n",
              "    }\n",
              "</style>\n",
              "<table border=\"1\" class=\"dataframe\">\n",
              "  <thead>\n",
              "    <tr style=\"text-align: right;\">\n",
              "      <th></th>\n",
              "      <th>nama</th>\n",
              "      <th>gender</th>\n",
              "      <th>qualityTime</th>\n",
              "      <th>physicalTouch</th>\n",
              "      <th>wordAffirmation</th>\n",
              "      <th>kado</th>\n",
              "      <th>bantuan</th>\n",
              "    </tr>\n",
              "  </thead>\n",
              "  <tbody>\n",
              "    <tr>\n",
              "      <th>0</th>\n",
              "      <td>A**************</td>\n",
              "      <td>Cowok</td>\n",
              "      <td>5</td>\n",
              "      <td>5</td>\n",
              "      <td>4</td>\n",
              "      <td>1</td>\n",
              "      <td>3</td>\n",
              "    </tr>\n",
              "    <tr>\n",
              "      <th>1</th>\n",
              "      <td>L****</td>\n",
              "      <td>Cewek</td>\n",
              "      <td>5</td>\n",
              "      <td>5</td>\n",
              "      <td>3</td>\n",
              "      <td>2</td>\n",
              "      <td>2</td>\n",
              "    </tr>\n",
              "    <tr>\n",
              "      <th>2</th>\n",
              "      <td>Y***********</td>\n",
              "      <td>Cowok</td>\n",
              "      <td>4</td>\n",
              "      <td>3</td>\n",
              "      <td>4</td>\n",
              "      <td>4</td>\n",
              "      <td>4</td>\n",
              "    </tr>\n",
              "    <tr>\n",
              "      <th>3</th>\n",
              "      <td>a***</td>\n",
              "      <td>Cowok</td>\n",
              "      <td>5</td>\n",
              "      <td>5</td>\n",
              "      <td>5</td>\n",
              "      <td>2</td>\n",
              "      <td>3</td>\n",
              "    </tr>\n",
              "    <tr>\n",
              "      <th>4</th>\n",
              "      <td>B****</td>\n",
              "      <td>Cowok</td>\n",
              "      <td>5</td>\n",
              "      <td>5</td>\n",
              "      <td>5</td>\n",
              "      <td>2</td>\n",
              "      <td>4</td>\n",
              "    </tr>\n",
              "  </tbody>\n",
              "</table>\n",
              "</div>"
            ],
            "text/plain": [
              "              nama gender  qualityTime  ...  wordAffirmation  kado  bantuan\n",
              "0  A**************  Cowok            5  ...                4     1        3\n",
              "1            L****  Cewek            5  ...                3     2        2\n",
              "2     Y***********  Cowok            4  ...                4     4        4\n",
              "3             a***  Cowok            5  ...                5     2        3\n",
              "4            B****  Cowok            5  ...                5     2        4\n",
              "\n",
              "[5 rows x 7 columns]"
            ]
          },
          "metadata": {
            "tags": []
          },
          "execution_count": 13
        }
      ]
    },
    {
      "cell_type": "code",
      "metadata": {
        "id": "XScunOHXNsFi"
      },
      "source": [
        "df['gender'] = df['gender'].apply(lambda x: 0 if x == 'Cowok' else 1)"
      ],
      "execution_count": 14,
      "outputs": []
    },
    {
      "cell_type": "code",
      "metadata": {
        "id": "YyA44CKGOLU2",
        "outputId": "39b9e2ff-089b-4ce6-e4f2-08f1170d3c14",
        "colab": {
          "base_uri": "https://localhost:8080/",
          "height": 204
        }
      },
      "source": [
        "df.head()"
      ],
      "execution_count": 15,
      "outputs": [
        {
          "output_type": "execute_result",
          "data": {
            "text/html": [
              "<div>\n",
              "<style scoped>\n",
              "    .dataframe tbody tr th:only-of-type {\n",
              "        vertical-align: middle;\n",
              "    }\n",
              "\n",
              "    .dataframe tbody tr th {\n",
              "        vertical-align: top;\n",
              "    }\n",
              "\n",
              "    .dataframe thead th {\n",
              "        text-align: right;\n",
              "    }\n",
              "</style>\n",
              "<table border=\"1\" class=\"dataframe\">\n",
              "  <thead>\n",
              "    <tr style=\"text-align: right;\">\n",
              "      <th></th>\n",
              "      <th>nama</th>\n",
              "      <th>gender</th>\n",
              "      <th>qualityTime</th>\n",
              "      <th>physicalTouch</th>\n",
              "      <th>wordAffirmation</th>\n",
              "      <th>kado</th>\n",
              "      <th>bantuan</th>\n",
              "    </tr>\n",
              "  </thead>\n",
              "  <tbody>\n",
              "    <tr>\n",
              "      <th>0</th>\n",
              "      <td>A**************</td>\n",
              "      <td>0</td>\n",
              "      <td>5</td>\n",
              "      <td>5</td>\n",
              "      <td>4</td>\n",
              "      <td>1</td>\n",
              "      <td>3</td>\n",
              "    </tr>\n",
              "    <tr>\n",
              "      <th>1</th>\n",
              "      <td>L****</td>\n",
              "      <td>1</td>\n",
              "      <td>5</td>\n",
              "      <td>5</td>\n",
              "      <td>3</td>\n",
              "      <td>2</td>\n",
              "      <td>2</td>\n",
              "    </tr>\n",
              "    <tr>\n",
              "      <th>2</th>\n",
              "      <td>Y***********</td>\n",
              "      <td>0</td>\n",
              "      <td>4</td>\n",
              "      <td>3</td>\n",
              "      <td>4</td>\n",
              "      <td>4</td>\n",
              "      <td>4</td>\n",
              "    </tr>\n",
              "    <tr>\n",
              "      <th>3</th>\n",
              "      <td>a***</td>\n",
              "      <td>0</td>\n",
              "      <td>5</td>\n",
              "      <td>5</td>\n",
              "      <td>5</td>\n",
              "      <td>2</td>\n",
              "      <td>3</td>\n",
              "    </tr>\n",
              "    <tr>\n",
              "      <th>4</th>\n",
              "      <td>B****</td>\n",
              "      <td>0</td>\n",
              "      <td>5</td>\n",
              "      <td>5</td>\n",
              "      <td>5</td>\n",
              "      <td>2</td>\n",
              "      <td>4</td>\n",
              "    </tr>\n",
              "  </tbody>\n",
              "</table>\n",
              "</div>"
            ],
            "text/plain": [
              "              nama  gender  qualityTime  ...  wordAffirmation  kado  bantuan\n",
              "0  A**************       0            5  ...                4     1        3\n",
              "1            L****       1            5  ...                3     2        2\n",
              "2     Y***********       0            4  ...                4     4        4\n",
              "3             a***       0            5  ...                5     2        3\n",
              "4            B****       0            5  ...                5     2        4\n",
              "\n",
              "[5 rows x 7 columns]"
            ]
          },
          "metadata": {
            "tags": []
          },
          "execution_count": 15
        }
      ]
    },
    {
      "cell_type": "code",
      "metadata": {
        "id": "FQoZAcYSOYn7"
      },
      "source": [
        "m_df = df[df['gender'] == 0]\n",
        "f_df = df[df['gender'] == 1]"
      ],
      "execution_count": 16,
      "outputs": []
    },
    {
      "cell_type": "code",
      "metadata": {
        "id": "-ZPZKMZDOoKx"
      },
      "source": [
        "m_X = m_df.drop(['nama', 'gender'], axis = 1)\n",
        "f_X = f_df.drop(['nama', 'gender'], axis = 1)"
      ],
      "execution_count": 17,
      "outputs": []
    },
    {
      "cell_type": "markdown",
      "metadata": {
        "id": "3L7vSqsJTLSP"
      },
      "source": [
        "# Model Development"
      ]
    },
    {
      "cell_type": "code",
      "metadata": {
        "id": "R1cWBDmMQPqc"
      },
      "source": [
        "m_nbrs = NearestNeighbors(n_neighbors=5).fit(m_X)\n",
        "f_nbrs = NearestNeighbors(n_neighbors=5).fit(f_X)"
      ],
      "execution_count": 18,
      "outputs": []
    },
    {
      "cell_type": "code",
      "metadata": {
        "id": "a1Zf285STfjO"
      },
      "source": [
        "X = df.drop(['nama', 'gender'], axis = 1)"
      ],
      "execution_count": 19,
      "outputs": []
    },
    {
      "cell_type": "code",
      "metadata": {
        "id": "1kIKK3VGTsqT"
      },
      "source": [
        "test = X[df['nama'] == 'R****'].values"
      ],
      "execution_count": 20,
      "outputs": []
    },
    {
      "cell_type": "code",
      "metadata": {
        "id": "Bz0n5mBgUtJc"
      },
      "source": [
        "_, idx = f_nbrs.kneighbors(test)"
      ],
      "execution_count": 21,
      "outputs": []
    },
    {
      "cell_type": "code",
      "metadata": {
        "id": "aaFjIHgiVTVw",
        "outputId": "9276e28b-8025-4dab-abf6-1d7c13f7dca1",
        "colab": {
          "base_uri": "https://localhost:8080/"
        }
      },
      "source": [
        "idx"
      ],
      "execution_count": 22,
      "outputs": [
        {
          "output_type": "execute_result",
          "data": {
            "text/plain": [
              "array([[ 2,  5,  0, 15,  6],\n",
              "       [14,  9,  3, 18,  1],\n",
              "       [18,  9, 16, 14,  3],\n",
              "       [19,  0, 18, 17, 16]])"
            ]
          },
          "metadata": {
            "tags": []
          },
          "execution_count": 22
        }
      ]
    },
    {
      "cell_type": "code",
      "metadata": {
        "id": "pTDK7pdJVUPA",
        "outputId": "ad4fbd89-8f30-4223-c2b0-8aeffe2b3783",
        "colab": {
          "base_uri": "https://localhost:8080/"
        }
      },
      "source": [
        "f_df.iloc[idx[0]]['nama']"
      ],
      "execution_count": 23,
      "outputs": [
        {
          "output_type": "execute_result",
          "data": {
            "text/plain": [
              "20    F*************\n",
              "27             v****\n",
              "1              L****\n",
              "72            N*****\n",
              "33              H***\n",
              "Name: nama, dtype: object"
            ]
          },
          "metadata": {
            "tags": []
          },
          "execution_count": 23
        }
      ]
    },
    {
      "cell_type": "markdown",
      "metadata": {
        "id": "Ur8G3l4To8W5"
      },
      "source": [
        "# Presentation\n",
        "- Pertama melakukan data cleaning sehingga data lebih mudah terbaca dan tidak ada informasi informasi yang tidak kita inginkan\n",
        "- Lalu mencari/mengambil salah satu individu sebagai testing untuk mencari siapa saja yang cocok dengan dia sesuai dengan setiap bagian data yang dimilikinya."
      ]
    },
    {
      "cell_type": "markdown",
      "metadata": {
        "id": "oK8Q-apCpw30"
      },
      "source": [
        "## Insight\n",
        "Untuk materi ini saya baru bisa mengikuti hands on yang dilakukan dengan youtube dan data yang telah diberikan oleh pemateri. Karena kurangnya belajar saya sehingga masih belum dapat mengaplikasikan hal hal baru kedalam data ini. Akan tetapi, dengan diberikannya tugas ini saya lebih mengeksplor banyak mengenai data science, seperti apa saja tahapan yang perlu dilakukan dalam proses menganilisis data seperti data cleaning, data preprocessing, data observation, dan model developement. Saya juga mulai mengerti cara melakukan analisis data dengan jupyter notebook (Google Colab). Selain itu, saya juga mendapatkan banyak hal baru yang dapat digunakan untuk mengolah data, seperti penggunaan bahasa R, library library untuk analisis data, misalnya matplotlib, numpy, seaborn, pandas. Karena kurang latihan saya masih kurang bisa untuk menambah fitur baru kedalam projek analisis data ini. Terima kasih"
      ]
    }
  ]
}
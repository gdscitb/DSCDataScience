{
 "cells": [
  {
   "cell_type": "markdown",
   "metadata": {},
   "source": [
    "# \"Take Me Out\" : A Further Analysis"
   ]
  },
  {
   "cell_type": "markdown",
   "metadata": {},
   "source": [
    "Em​ma​nuella Pra​mudita Ru​manti (16520296)\n",
    "\n",
    "Institut Teknologi Bandung\n",
    "\n",
    "\n",
    "Dataset source: TakeMeOut\n",
    "\n",
    "I started working on this on: 15 November 2020"
   ]
  },
  {
   "cell_type": "code",
   "execution_count": 128,
   "metadata": {},
   "outputs": [],
   "source": [
    "# import libraries\n",
    "import pandas as pd\n",
    "import collections\n",
    "\n",
    "# import TakeMeOut dataset\n",
    "init_df = pd.read_csv('takemeout.csv')"
   ]
  },
  {
   "cell_type": "markdown",
   "metadata": {},
   "source": [
    "## Data Preprocessing\n",
    "\n",
    "### Overview"
   ]
  },
  {
   "cell_type": "code",
   "execution_count": 129,
   "metadata": {},
   "outputs": [
    {
     "name": "stdout",
     "output_type": "stream",
     "text": [
      "                     Timestamp Siapa nama kamu? Cewek atau cowok nih?  \\\n",
      "0  2020/10/31 3:39:25 PM GMT+7  A**************                 Cowok   \n",
      "1  2020/10/31 3:39:36 PM GMT+7            L****                 Cewek   \n",
      "2  2020/10/31 3:39:38 PM GMT+7     Y***********                 Cowok   \n",
      "\n",
      "   Seberapa penting quality time bareng calon pacar untuk kamu?  \\\n",
      "0                                                  5              \n",
      "1                                                  5              \n",
      "2                                                  4              \n",
      "\n",
      "   Seberapa penting physical touch sama calon pacar untuk kamu?  \\\n",
      "0                                                  5              \n",
      "1                                                  5              \n",
      "2                                                  3              \n",
      "\n",
      "   Seberapa penting word of affirmation dari calon pacar untuk kamu?  \\\n",
      "0                                                  4                   \n",
      "1                                                  3                   \n",
      "2                                                  4                   \n",
      "\n",
      "   Seberapa penting dapet kado dari calon pacar untuk kamu?  \\\n",
      "0                                                  1          \n",
      "1                                                  2          \n",
      "2                                                  4          \n",
      "\n",
      "   Seberapa penting bantuan dari calon pacar untuk kamu?  \n",
      "0                                                  3      \n",
      "1                                                  2      \n",
      "2                                                  4      \n"
     ]
    }
   ],
   "source": [
    "# print the first three items to get an overview\n",
    "print(init_df.head(3))"
   ]
  },
  {
   "cell_type": "markdown",
   "metadata": {},
   "source": [
    "### Indexing\n",
    "\n",
    "To simplify things, column name lengths are reduced via renaming."
   ]
  },
  {
   "cell_type": "code",
   "execution_count": 146,
   "metadata": {},
   "outputs": [
    {
     "name": "stdout",
     "output_type": "stream",
     "text": [
      "                     timestamp             nama gender  quality time  \\\n",
      "0  2020/10/31 3:39:25 PM GMT+7  A**************  Cowok             5   \n",
      "1  2020/10/31 3:39:36 PM GMT+7            L****  Cewek             5   \n",
      "2  2020/10/31 3:39:38 PM GMT+7     Y***********  Cowok             4   \n",
      "3  2020/10/31 3:39:42 PM GMT+7             a***  Cowok             5   \n",
      "4  2020/10/31 3:39:43 PM GMT+7            B****  Cowok             5   \n",
      "\n",
      "   physical touch  affirmation  gifting  service  \n",
      "0               5            4        1        3  \n",
      "1               5            3        2        2  \n",
      "2               3            4        4        4  \n",
      "3               5            5        2        3  \n",
      "4               5            5        2        4  \n"
     ]
    }
   ],
   "source": [
    "df = init_df.rename(columns={'Timestamp' : 'timestamp',\n",
    "                             'Siapa nama kamu?' : 'nama',\n",
    "                             'Cewek atau cowok nih?' : 'gender',\n",
    "                             'Seberapa penting quality time bareng calon pacar untuk kamu?' : 'quality time',\n",
    "                             'Seberapa penting physical touch sama calon pacar untuk kamu?' : 'physical touch',\n",
    "                             'Seberapa penting word of affirmation dari calon pacar untuk kamu?' : 'affirmation',\n",
    "                             'Seberapa penting dapet kado dari calon pacar untuk kamu?' : 'gifting',\n",
    "                             'Seberapa penting bantuan dari calon pacar untuk kamu?' : 'service'})\n",
    "\n",
    "print(df.head())"
   ]
  },
  {
   "cell_type": "markdown",
   "metadata": {},
   "source": [
    "### Cleaning\n",
    "\n",
    "Since the data for the timestamps, they are removed."
   ]
  },
  {
   "cell_type": "code",
   "execution_count": 147,
   "metadata": {},
   "outputs": [
    {
     "name": "stdout",
     "output_type": "stream",
     "text": [
      "              nama gender  quality time  physical touch  affirmation  gifting  \\\n",
      "0  A**************  Cowok             5               5            4        1   \n",
      "1            L****  Cewek             5               5            3        2   \n",
      "2     Y***********  Cowok             4               3            4        4   \n",
      "3             a***  Cowok             5               5            5        2   \n",
      "4            B****  Cowok             5               5            5        2   \n",
      "\n",
      "   service  \n",
      "0        3  \n",
      "1        2  \n",
      "2        4  \n",
      "3        3  \n",
      "4        4  \n"
     ]
    }
   ],
   "source": [
    "df = df.drop(['timestamp'], axis = 1)\n",
    "\n",
    "print(df.head())"
   ]
  },
  {
   "cell_type": "markdown",
   "metadata": {},
   "source": [
    "## Data Observation\n",
    "\n",
    "### Statistics\n",
    "\n",
    "Statistics from the quantitative data (related to love language preference) from the dataset, at a glance."
   ]
  },
  {
   "cell_type": "code",
   "execution_count": 69,
   "metadata": {},
   "outputs": [
    {
     "name": "stdout",
     "output_type": "stream",
     "text": [
      "       quality time  physical touch  affirmation     gifting     service\n",
      "count    101.000000      101.000000   101.000000  101.000000  101.000000\n",
      "mean       4.099010        3.168317     3.722772    2.732673    3.752475\n",
      "std        1.212476        1.334686     1.209287    1.325829    1.143730\n",
      "min        1.000000        1.000000     1.000000    1.000000    1.000000\n",
      "25%        4.000000        2.000000     3.000000    2.000000    3.000000\n",
      "50%        5.000000        3.000000     4.000000    3.000000    4.000000\n",
      "75%        5.000000        4.000000     5.000000    4.000000    5.000000\n",
      "max        5.000000        5.000000     5.000000    5.000000    5.000000\n"
     ]
    }
   ],
   "source": [
    "print(df.describe())"
   ]
  },
  {
   "cell_type": "markdown",
   "metadata": {},
   "source": [
    "* **Quality time** has the **highest average** score.\n",
    "* **Physical touch** has the **highest standard deviation**.\n",
    "\n",
    "### Gender Ratio"
   ]
  },
  {
   "cell_type": "code",
   "execution_count": 151,
   "metadata": {},
   "outputs": [
    {
     "name": "stdout",
     "output_type": "stream",
     "text": [
      "Cowok    81\n",
      "Cewek    20\n",
      "Name: gender, dtype: int64\n",
      "The male:female ratio is 4.05:1\n"
     ]
    }
   ],
   "source": [
    "print(df['gender'].value_counts())\n",
    "\n",
    "print('The male:female ratio is '+ str(len(df[df['gender'] == 'Cowok'])/len(df[df['gender'] == 'Cewek'])) + ':1')"
   ]
  },
  {
   "cell_type": "markdown",
   "metadata": {},
   "source": [
    "## Data Analysis\n",
    "\n",
    "### Five Stars\n",
    "The number of people who gave a score of 5."
   ]
  },
  {
   "cell_type": "code",
   "execution_count": 161,
   "metadata": {},
   "outputs": [
    {
     "name": "stdout",
     "output_type": "stream",
     "text": [
      "quality time : 51\n",
      "physical touch : 22\n",
      "affirmation : 31\n",
      "gifting : 14\n",
      "service : 30\n",
      "people who gave a 5 for at least one of the love languages : 73 ( 72.28 % )\n",
      "people who did not give a 5 at all : 28\n"
     ]
    }
   ],
   "source": [
    "for i in range(2, 7):\n",
    "    print(df.iloc[:, i].name, ':', len(df[df.iloc[:, i] == 5]))\n",
    "    \n",
    "bintang5 = df[(df['quality time'] == 5) | (df['physical touch'] == 5) | (df['affirmation'] == 5) | (df['gifting'] == 5) | (df['service'] == 5)]\n",
    "\n",
    "print('people who gave a 5 for at least one of the love languages :', len(bintang5), '(', round(len(bintang5)/len(df)*100, 2), '% )')\n",
    "print('people who did not give a 5 at all :', len(df) - len(bintang5))"
   ]
  },
  {
   "cell_type": "markdown",
   "metadata": {},
   "source": [
    "* **Quality time** received the **most 5's**, followed by affirmation.\n",
    "* **Gifting** the **least** amount of 5's\n",
    "\n",
    "### One Star"
   ]
  },
  {
   "cell_type": "code",
   "execution_count": 164,
   "metadata": {},
   "outputs": [
    {
     "name": "stdout",
     "output_type": "stream",
     "text": [
      "quality time : 9\n",
      "physical touch : 16\n",
      "affirmation : 9\n",
      "gifting : 23\n",
      "service : 7\n",
      "people who gave a score 1 for at least one of the love languages : 28\n",
      "people who did not give a 1 at all : 73\n"
     ]
    }
   ],
   "source": [
    "for i in range(2, 7):\n",
    "    print(df.iloc[:, i].name, ':', len(df[df.iloc[:, i] == 1]))\n",
    "    \n",
    "bintang1 = df[(df['quality time'] == 1) | (df['physical touch'] == 1) | (df['affirmation'] == 1) | (df['gifting'] == 1) | (df['service'] == 1)]\n",
    "\n",
    "print('people who gave a score 1 for at least one of the love languages :', len(bintang1))\n",
    "print('people who did not give a 1 at all :', len(df) - len(bintang1))"
   ]
  },
  {
   "cell_type": "markdown",
   "metadata": {},
   "source": [
    "* **Gifting** earned the **most 1's**, followed by physical touch.\n",
    "\n",
    "### Relation to Gender"
   ]
  },
  {
   "cell_type": "code",
   "execution_count": 156,
   "metadata": {},
   "outputs": [
    {
     "name": "stdout",
     "output_type": "stream",
     "text": [
      "Percentage of women who gave at least one score of 5 : 65.0 %\n",
      "Percentage of men who gave at least one score of 5 : 74.1 %\n"
     ]
    }
   ],
   "source": [
    "f_bintang5 = len(bintang5[bintang5['gender'] == 'Cewek'])/len(df[df['gender'] == 'Cewek'])\n",
    "m_bintang5 = len(bintang5[bintang5['gender'] == 'Cowok'])/len(df[df['gender'] == 'Cowok'])\n",
    "\n",
    "print('Percentage of women who gave at least one score of 5 :', round(f_bintang5, 3) * 100, '%')\n",
    "print('Percentage of men who gave at least one score of 5 :', round(m_bintang5, 3) * 100, '%')"
   ]
  },
  {
   "cell_type": "code",
   "execution_count": 157,
   "metadata": {},
   "outputs": [
    {
     "name": "stdout",
     "output_type": "stream",
     "text": [
      "Percentage of women who gave at least one score of 1 : 40.0 %\n",
      "Percentage of men who gave at least one score of 1 : 24.7 %\n"
     ]
    }
   ],
   "source": [
    "f_bintang1 = len(bintang1[bintang1['gender'] == 'Cewek'])/len(df[df['gender'] == 'Cewek'])\n",
    "m_bintang1 = len(bintang1[bintang1['gender'] == 'Cowok'])/len(df[df['gender'] == 'Cowok'])\n",
    "\n",
    "print('Percentage of women who gave at least one score of 1 :', round(f_bintang1, 3) * 100, '%')\n",
    "print('Percentage of men who gave at least one score of 1 :', round(m_bintang1, 3) * 100, '%')"
   ]
  },
  {
   "cell_type": "markdown",
   "metadata": {},
   "source": [
    "* Percentage-wise\n",
    "    * **more men** gave **5's**\n",
    "    * **more women** gave **1's**\n",
    "    * for **both genders**, the **majority** gave at least one 5 \n",
    "    \n",
    "### Love Languages by Popularity\n",
    "Popularity defined as the total sum of its scores."
   ]
  },
  {
   "cell_type": "code",
   "execution_count": 159,
   "metadata": {},
   "outputs": [
    {
     "name": "stdout",
     "output_type": "stream",
     "text": [
      "Total scores for women, in descending order:\n",
      "quality time : 75\n",
      "physical touch : 53\n",
      "affirmation : 66\n",
      "gifting : 54\n",
      "service : 74\n",
      "\n",
      "\n",
      "Total scores for men, in descending order:\n",
      "quality time : 339\n",
      "physical touch : 267\n",
      "affirmation : 310\n",
      "gifting : 222\n",
      "service : 305\n"
     ]
    }
   ],
   "source": [
    "f_sum = collections.OrderedDict({\n",
    "    'quality time': df[df['gender'] == 'Cewek']['quality time'].sum(),\n",
    "    'physical touch': df[df['gender'] == 'Cewek']['physical touch'].sum(),\n",
    "    'affirmation': df[df['gender'] == 'Cewek']['affirmation'].sum(),\n",
    "    'gifting': df[df['gender'] == 'Cewek']['gifting'].sum(),\n",
    "    'service': df[df['gender'] == 'Cewek']['service'].sum()\n",
    "})\n",
    "\n",
    "print('Total scores for women, in descending order:')\n",
    "for k in f_sum:\n",
    "    print(k, ':', f_sum[k])\n",
    "    \n",
    "print('\\n')\n",
    "\n",
    "m_sum = collections.OrderedDict({\n",
    "    'quality time': df[df['gender'] == 'Cowok']['quality time'].sum(),\n",
    "    'physical touch': df[df['gender'] == 'Cowok']['physical touch'].sum(),\n",
    "    'affirmation': df[df['gender'] == 'Cowok']['affirmation'].sum(),\n",
    "    'gifting': df[df['gender'] == 'Cowok']['gifting'].sum(),\n",
    "    'service': df[df['gender'] == 'Cowok']['service'].sum()\n",
    "})\n",
    "\n",
    "print('Total scores for men, in descending order:')\n",
    "for k in m_sum:\n",
    "    print(k, ':', m_sum[k])"
   ]
  },
  {
   "cell_type": "markdown",
   "metadata": {},
   "source": [
    "* The **rankings** are **exactly the same** for both men and women.\n",
    "* The rankings are as follows:\n",
    "    1. quality time\n",
    "    2. physical touch\n",
    "    3. affirmation\n",
    "    4. gifting\n",
    "    5. service\n",
    "    \n",
    "    \n",
    "## Conclusion\n",
    "\n",
    "* The male:female ratio for the respondents in this dataset is 4:1.\n",
    "* The majority of the respondents (72%) gave at least one of the five love languages a score of 5/5\n",
    "* Quality time received the most 5's\n",
    "* Gifting received the least 5's\n",
    "* Percentage-wise, more men (74%) gave at least one 5 compared to women (65%)\n",
    "* Percentage-wise, more women (40%) gave at least one 1 compared to men (25%)\n",
    "* The rankings of love languages by popularity are exactly the same for both men and women\n",
    "    1. quality time\n",
    "    2. physical touch\n",
    "    3. affirmation\n",
    "    4. gifting\n",
    "    5. service"
   ]
  }
 ],
 "metadata": {
  "kernelspec": {
   "display_name": "Python 3",
   "language": "python",
   "name": "python3"
  },
  "language_info": {
   "codemirror_mode": {
    "name": "ipython",
    "version": 3
   },
   "file_extension": ".py",
   "mimetype": "text/x-python",
   "name": "python",
   "nbconvert_exporter": "python",
   "pygments_lexer": "ipython3",
   "version": "3.7.3"
  }
 },
 "nbformat": 4,
 "nbformat_minor": 2
}

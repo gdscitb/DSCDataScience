{
  "nbformat": 4,
  "nbformat_minor": 0,
  "metadata": {
    "colab": {
      "name": "RemajaMadiunHangout.ipynb",
      "provenance": [],
      "collapsed_sections": []
    },
    "kernelspec": {
      "name": "python3",
      "display_name": "Python 3"
    }
  },
  "cells": [
    {
      "cell_type": "markdown",
      "metadata": {
        "id": "AJRCPGnqvXPv"
      },
      "source": [
        "#**Profil**"
      ]
    },
    {
      "cell_type": "markdown",
      "metadata": {
        "id": "sL4hRpgLtyPs"
      },
      "source": [
        "Nama: Nur Muhammad Ainul Yaqin</br>\n",
        "NRP: 5025201011</br>\n",
        "Departemen: Teknik Informatika 2020</br>\n",
        "Institusi: Institut Teknologi Sepuluh Nopember</br>\n",
        "Tanggal pengambilan data: 15 Nopember 2020</br>\n",
        "Tanggal mulai pengerjaan: 15 Nopember 2020</br>\n",
        "Dataset yang digunakan: [Tipe Hangout Remaja](https://drive.google.com/file/d/1wFkPvfwH4zTTQ5L3Rjr8PIilSU4XVp3e/view?usp=sharing)\n"
      ]
    },
    {
      "cell_type": "code",
      "metadata": {
        "id": "GhCAFhGQVUaI"
      },
      "source": [
        "import pandas as pd\n",
        "import os\n",
        "import matplotlib.pyplot as plt\n",
        "%matplotlib inline"
      ],
      "execution_count": 153,
      "outputs": []
    },
    {
      "cell_type": "code",
      "metadata": {
        "id": "cJLua-YWywj6"
      },
      "source": [
        "df=pd.read_csv('/content/drive/My Drive/Colab Notebooks/Tipe_Hangout.csv')"
      ],
      "execution_count": 154,
      "outputs": []
    },
    {
      "cell_type": "code",
      "metadata": {
        "id": "TGS_X88l0D39",
        "outputId": "c341dd79-73a7-4fd4-9fc2-a73ecd6d804b",
        "colab": {
          "base_uri": "https://localhost:8080/",
          "height": 391
        }
      },
      "source": [
        "df.head()"
      ],
      "execution_count": 155,
      "outputs": [
        {
          "output_type": "execute_result",
          "data": {
            "text/html": [
              "<div>\n",
              "<style scoped>\n",
              "    .dataframe tbody tr th:only-of-type {\n",
              "        vertical-align: middle;\n",
              "    }\n",
              "\n",
              "    .dataframe tbody tr th {\n",
              "        vertical-align: top;\n",
              "    }\n",
              "\n",
              "    .dataframe thead th {\n",
              "        text-align: right;\n",
              "    }\n",
              "</style>\n",
              "<table border=\"1\" class=\"dataframe\">\n",
              "  <thead>\n",
              "    <tr style=\"text-align: right;\">\n",
              "      <th></th>\n",
              "      <th>Timestamp</th>\n",
              "      <th>Nama</th>\n",
              "      <th>Umur</th>\n",
              "      <th>Jenis kelamin</th>\n",
              "      <th>Lokasi tempat tinggal Anda saat ini (Contoh: Kota Madiun, maka ditulis Madiun, dan diawali huruf kapital)</th>\n",
              "      <th>Bersama siapa Anda lebih senang bergaul?</th>\n",
              "      <th>Kegiatan yang paling disukai ketika bergaul/hangout</th>\n",
              "      <th>Apakah bagimu saling follow (mutual) di media sosial itu penting?</th>\n",
              "    </tr>\n",
              "  </thead>\n",
              "  <tbody>\n",
              "    <tr>\n",
              "      <th>0</th>\n",
              "      <td>11/15/2020 12:46:19</td>\n",
              "      <td>Aldi</td>\n",
              "      <td>18</td>\n",
              "      <td>Laki-laki</td>\n",
              "      <td>Madiun</td>\n",
              "      <td>Laki-laki</td>\n",
              "      <td>Nongkrong sambil nugas</td>\n",
              "      <td>Ya</td>\n",
              "    </tr>\n",
              "    <tr>\n",
              "      <th>1</th>\n",
              "      <td>11/15/2020 12:47:15</td>\n",
              "      <td>Alifka</td>\n",
              "      <td>17</td>\n",
              "      <td>Perempuan</td>\n",
              "      <td>Ponorogo</td>\n",
              "      <td>Laki-laki dan perempuan</td>\n",
              "      <td>Nongkrong santai, termasuk julid</td>\n",
              "      <td>Ya</td>\n",
              "    </tr>\n",
              "    <tr>\n",
              "      <th>2</th>\n",
              "      <td>11/15/2020 12:47:36</td>\n",
              "      <td>Akbar Rezy Hanara Setiyawan</td>\n",
              "      <td>18</td>\n",
              "      <td>Laki-laki</td>\n",
              "      <td>Madiun</td>\n",
              "      <td>Laki-laki dan perempuan</td>\n",
              "      <td>Nongkrong sambil nugas</td>\n",
              "      <td>Tidak</td>\n",
              "    </tr>\n",
              "    <tr>\n",
              "      <th>3</th>\n",
              "      <td>11/15/2020 12:47:41</td>\n",
              "      <td>Maudhy Ferari</td>\n",
              "      <td>19</td>\n",
              "      <td>Perempuan</td>\n",
              "      <td>Madiun</td>\n",
              "      <td>Laki-laki dan perempuan</td>\n",
              "      <td>Nongkrong sambil nugas</td>\n",
              "      <td>Ya</td>\n",
              "    </tr>\n",
              "    <tr>\n",
              "      <th>4</th>\n",
              "      <td>11/15/2020 12:47:46</td>\n",
              "      <td>Insan Dienuari</td>\n",
              "      <td>18</td>\n",
              "      <td>Perempuan</td>\n",
              "      <td>Pilangbango</td>\n",
              "      <td>Laki-laki dan perempuan</td>\n",
              "      <td>Food hunting</td>\n",
              "      <td>Ya</td>\n",
              "    </tr>\n",
              "  </tbody>\n",
              "</table>\n",
              "</div>"
            ],
            "text/plain": [
              "             Timestamp  ... Apakah bagimu saling follow (mutual) di media sosial itu penting?\n",
              "0  11/15/2020 12:46:19  ...                                                 Ya               \n",
              "1  11/15/2020 12:47:15  ...                                                 Ya               \n",
              "2  11/15/2020 12:47:36  ...                                              Tidak               \n",
              "3  11/15/2020 12:47:41  ...                                                 Ya               \n",
              "4  11/15/2020 12:47:46  ...                                                 Ya               \n",
              "\n",
              "[5 rows x 8 columns]"
            ]
          },
          "metadata": {
            "tags": []
          },
          "execution_count": 155
        }
      ]
    },
    {
      "cell_type": "markdown",
      "metadata": {
        "id": "WMi7Z0IdvlT-"
      },
      "source": [
        "#**Data Preprocessing**"
      ]
    },
    {
      "cell_type": "code",
      "metadata": {
        "id": "t-Xb_21uxYHQ"
      },
      "source": [
        "df=df.iloc[:,1:]"
      ],
      "execution_count": 156,
      "outputs": []
    },
    {
      "cell_type": "code",
      "metadata": {
        "id": "L228j00n2DzS",
        "outputId": "6c0a0504-c2d2-480d-95c5-36c410721e2c",
        "colab": {
          "base_uri": "https://localhost:8080/",
          "height": 374
        }
      },
      "source": [
        "df.head()"
      ],
      "execution_count": 157,
      "outputs": [
        {
          "output_type": "execute_result",
          "data": {
            "text/html": [
              "<div>\n",
              "<style scoped>\n",
              "    .dataframe tbody tr th:only-of-type {\n",
              "        vertical-align: middle;\n",
              "    }\n",
              "\n",
              "    .dataframe tbody tr th {\n",
              "        vertical-align: top;\n",
              "    }\n",
              "\n",
              "    .dataframe thead th {\n",
              "        text-align: right;\n",
              "    }\n",
              "</style>\n",
              "<table border=\"1\" class=\"dataframe\">\n",
              "  <thead>\n",
              "    <tr style=\"text-align: right;\">\n",
              "      <th></th>\n",
              "      <th>Nama</th>\n",
              "      <th>Umur</th>\n",
              "      <th>Jenis kelamin</th>\n",
              "      <th>Lokasi tempat tinggal Anda saat ini (Contoh: Kota Madiun, maka ditulis Madiun, dan diawali huruf kapital)</th>\n",
              "      <th>Bersama siapa Anda lebih senang bergaul?</th>\n",
              "      <th>Kegiatan yang paling disukai ketika bergaul/hangout</th>\n",
              "      <th>Apakah bagimu saling follow (mutual) di media sosial itu penting?</th>\n",
              "    </tr>\n",
              "  </thead>\n",
              "  <tbody>\n",
              "    <tr>\n",
              "      <th>0</th>\n",
              "      <td>Aldi</td>\n",
              "      <td>18</td>\n",
              "      <td>Laki-laki</td>\n",
              "      <td>Madiun</td>\n",
              "      <td>Laki-laki</td>\n",
              "      <td>Nongkrong sambil nugas</td>\n",
              "      <td>Ya</td>\n",
              "    </tr>\n",
              "    <tr>\n",
              "      <th>1</th>\n",
              "      <td>Alifka</td>\n",
              "      <td>17</td>\n",
              "      <td>Perempuan</td>\n",
              "      <td>Ponorogo</td>\n",
              "      <td>Laki-laki dan perempuan</td>\n",
              "      <td>Nongkrong santai, termasuk julid</td>\n",
              "      <td>Ya</td>\n",
              "    </tr>\n",
              "    <tr>\n",
              "      <th>2</th>\n",
              "      <td>Akbar Rezy Hanara Setiyawan</td>\n",
              "      <td>18</td>\n",
              "      <td>Laki-laki</td>\n",
              "      <td>Madiun</td>\n",
              "      <td>Laki-laki dan perempuan</td>\n",
              "      <td>Nongkrong sambil nugas</td>\n",
              "      <td>Tidak</td>\n",
              "    </tr>\n",
              "    <tr>\n",
              "      <th>3</th>\n",
              "      <td>Maudhy Ferari</td>\n",
              "      <td>19</td>\n",
              "      <td>Perempuan</td>\n",
              "      <td>Madiun</td>\n",
              "      <td>Laki-laki dan perempuan</td>\n",
              "      <td>Nongkrong sambil nugas</td>\n",
              "      <td>Ya</td>\n",
              "    </tr>\n",
              "    <tr>\n",
              "      <th>4</th>\n",
              "      <td>Insan Dienuari</td>\n",
              "      <td>18</td>\n",
              "      <td>Perempuan</td>\n",
              "      <td>Pilangbango</td>\n",
              "      <td>Laki-laki dan perempuan</td>\n",
              "      <td>Food hunting</td>\n",
              "      <td>Ya</td>\n",
              "    </tr>\n",
              "  </tbody>\n",
              "</table>\n",
              "</div>"
            ],
            "text/plain": [
              "                         Nama   ...  Apakah bagimu saling follow (mutual) di media sosial itu penting?\n",
              "0                         Aldi  ...                                                 Ya                \n",
              "1                       Alifka  ...                                                 Ya                \n",
              "2  Akbar Rezy Hanara Setiyawan  ...                                              Tidak                \n",
              "3                Maudhy Ferari  ...                                                 Ya                \n",
              "4               Insan Dienuari  ...                                                 Ya                \n",
              "\n",
              "[5 rows x 7 columns]"
            ]
          },
          "metadata": {
            "tags": []
          },
          "execution_count": 157
        }
      ]
    },
    {
      "cell_type": "code",
      "metadata": {
        "id": "jfvVcZi52WBr"
      },
      "source": [
        "df.columns = ['nama', 'umur', 'gender', 'lokasi', 'genderteman', 'kegiatan', 'mutual' ]"
      ],
      "execution_count": 158,
      "outputs": []
    },
    {
      "cell_type": "code",
      "metadata": {
        "id": "Z-q70m-32yxA",
        "outputId": "72524cd2-c633-418f-b87d-64082dae310c",
        "colab": {
          "base_uri": "https://localhost:8080/",
          "height": 204
        }
      },
      "source": [
        "df.head()"
      ],
      "execution_count": 159,
      "outputs": [
        {
          "output_type": "execute_result",
          "data": {
            "text/html": [
              "<div>\n",
              "<style scoped>\n",
              "    .dataframe tbody tr th:only-of-type {\n",
              "        vertical-align: middle;\n",
              "    }\n",
              "\n",
              "    .dataframe tbody tr th {\n",
              "        vertical-align: top;\n",
              "    }\n",
              "\n",
              "    .dataframe thead th {\n",
              "        text-align: right;\n",
              "    }\n",
              "</style>\n",
              "<table border=\"1\" class=\"dataframe\">\n",
              "  <thead>\n",
              "    <tr style=\"text-align: right;\">\n",
              "      <th></th>\n",
              "      <th>nama</th>\n",
              "      <th>umur</th>\n",
              "      <th>gender</th>\n",
              "      <th>lokasi</th>\n",
              "      <th>genderteman</th>\n",
              "      <th>kegiatan</th>\n",
              "      <th>mutual</th>\n",
              "    </tr>\n",
              "  </thead>\n",
              "  <tbody>\n",
              "    <tr>\n",
              "      <th>0</th>\n",
              "      <td>Aldi</td>\n",
              "      <td>18</td>\n",
              "      <td>Laki-laki</td>\n",
              "      <td>Madiun</td>\n",
              "      <td>Laki-laki</td>\n",
              "      <td>Nongkrong sambil nugas</td>\n",
              "      <td>Ya</td>\n",
              "    </tr>\n",
              "    <tr>\n",
              "      <th>1</th>\n",
              "      <td>Alifka</td>\n",
              "      <td>17</td>\n",
              "      <td>Perempuan</td>\n",
              "      <td>Ponorogo</td>\n",
              "      <td>Laki-laki dan perempuan</td>\n",
              "      <td>Nongkrong santai, termasuk julid</td>\n",
              "      <td>Ya</td>\n",
              "    </tr>\n",
              "    <tr>\n",
              "      <th>2</th>\n",
              "      <td>Akbar Rezy Hanara Setiyawan</td>\n",
              "      <td>18</td>\n",
              "      <td>Laki-laki</td>\n",
              "      <td>Madiun</td>\n",
              "      <td>Laki-laki dan perempuan</td>\n",
              "      <td>Nongkrong sambil nugas</td>\n",
              "      <td>Tidak</td>\n",
              "    </tr>\n",
              "    <tr>\n",
              "      <th>3</th>\n",
              "      <td>Maudhy Ferari</td>\n",
              "      <td>19</td>\n",
              "      <td>Perempuan</td>\n",
              "      <td>Madiun</td>\n",
              "      <td>Laki-laki dan perempuan</td>\n",
              "      <td>Nongkrong sambil nugas</td>\n",
              "      <td>Ya</td>\n",
              "    </tr>\n",
              "    <tr>\n",
              "      <th>4</th>\n",
              "      <td>Insan Dienuari</td>\n",
              "      <td>18</td>\n",
              "      <td>Perempuan</td>\n",
              "      <td>Pilangbango</td>\n",
              "      <td>Laki-laki dan perempuan</td>\n",
              "      <td>Food hunting</td>\n",
              "      <td>Ya</td>\n",
              "    </tr>\n",
              "  </tbody>\n",
              "</table>\n",
              "</div>"
            ],
            "text/plain": [
              "                          nama  umur  ...                          kegiatan mutual\n",
              "0                         Aldi    18  ...            Nongkrong sambil nugas     Ya\n",
              "1                       Alifka    17  ...  Nongkrong santai, termasuk julid     Ya\n",
              "2  Akbar Rezy Hanara Setiyawan    18  ...            Nongkrong sambil nugas  Tidak\n",
              "3                Maudhy Ferari    19  ...            Nongkrong sambil nugas     Ya\n",
              "4               Insan Dienuari    18  ...                      Food hunting     Ya\n",
              "\n",
              "[5 rows x 7 columns]"
            ]
          },
          "metadata": {
            "tags": []
          },
          "execution_count": 159
        }
      ]
    },
    {
      "cell_type": "markdown",
      "metadata": {
        "id": "sCcwza4i-2-I"
      },
      "source": [
        "#**Data Cleaning**"
      ]
    },
    {
      "cell_type": "code",
      "metadata": {
        "id": "MC8UbtYK4PKR"
      },
      "source": [
        "df=df[df['lokasi']=='Madiun']"
      ],
      "execution_count": 160,
      "outputs": []
    },
    {
      "cell_type": "code",
      "metadata": {
        "id": "GvMNlUmQ4nbZ",
        "outputId": "82c0ad40-861a-4f29-fde7-2fca0110bb23",
        "colab": {
          "base_uri": "https://localhost:8080/",
          "height": 204
        }
      },
      "source": [
        "df.head()"
      ],
      "execution_count": 161,
      "outputs": [
        {
          "output_type": "execute_result",
          "data": {
            "text/html": [
              "<div>\n",
              "<style scoped>\n",
              "    .dataframe tbody tr th:only-of-type {\n",
              "        vertical-align: middle;\n",
              "    }\n",
              "\n",
              "    .dataframe tbody tr th {\n",
              "        vertical-align: top;\n",
              "    }\n",
              "\n",
              "    .dataframe thead th {\n",
              "        text-align: right;\n",
              "    }\n",
              "</style>\n",
              "<table border=\"1\" class=\"dataframe\">\n",
              "  <thead>\n",
              "    <tr style=\"text-align: right;\">\n",
              "      <th></th>\n",
              "      <th>nama</th>\n",
              "      <th>umur</th>\n",
              "      <th>gender</th>\n",
              "      <th>lokasi</th>\n",
              "      <th>genderteman</th>\n",
              "      <th>kegiatan</th>\n",
              "      <th>mutual</th>\n",
              "    </tr>\n",
              "  </thead>\n",
              "  <tbody>\n",
              "    <tr>\n",
              "      <th>0</th>\n",
              "      <td>Aldi</td>\n",
              "      <td>18</td>\n",
              "      <td>Laki-laki</td>\n",
              "      <td>Madiun</td>\n",
              "      <td>Laki-laki</td>\n",
              "      <td>Nongkrong sambil nugas</td>\n",
              "      <td>Ya</td>\n",
              "    </tr>\n",
              "    <tr>\n",
              "      <th>2</th>\n",
              "      <td>Akbar Rezy Hanara Setiyawan</td>\n",
              "      <td>18</td>\n",
              "      <td>Laki-laki</td>\n",
              "      <td>Madiun</td>\n",
              "      <td>Laki-laki dan perempuan</td>\n",
              "      <td>Nongkrong sambil nugas</td>\n",
              "      <td>Tidak</td>\n",
              "    </tr>\n",
              "    <tr>\n",
              "      <th>3</th>\n",
              "      <td>Maudhy Ferari</td>\n",
              "      <td>19</td>\n",
              "      <td>Perempuan</td>\n",
              "      <td>Madiun</td>\n",
              "      <td>Laki-laki dan perempuan</td>\n",
              "      <td>Nongkrong sambil nugas</td>\n",
              "      <td>Ya</td>\n",
              "    </tr>\n",
              "    <tr>\n",
              "      <th>5</th>\n",
              "      <td>Nizar Rahma Auliyaa</td>\n",
              "      <td>18</td>\n",
              "      <td>Perempuan</td>\n",
              "      <td>Madiun</td>\n",
              "      <td>Perempuan</td>\n",
              "      <td>Nonton film</td>\n",
              "      <td>Tidak</td>\n",
              "    </tr>\n",
              "    <tr>\n",
              "      <th>6</th>\n",
              "      <td>Naufal</td>\n",
              "      <td>19</td>\n",
              "      <td>Laki-laki</td>\n",
              "      <td>Madiun</td>\n",
              "      <td>Laki-laki dan perempuan</td>\n",
              "      <td>Rekreasi di alam</td>\n",
              "      <td>Tidak</td>\n",
              "    </tr>\n",
              "  </tbody>\n",
              "</table>\n",
              "</div>"
            ],
            "text/plain": [
              "                          nama  umur  ...                kegiatan mutual\n",
              "0                         Aldi    18  ...  Nongkrong sambil nugas     Ya\n",
              "2  Akbar Rezy Hanara Setiyawan    18  ...  Nongkrong sambil nugas  Tidak\n",
              "3                Maudhy Ferari    19  ...  Nongkrong sambil nugas     Ya\n",
              "5          Nizar Rahma Auliyaa    18  ...             Nonton film  Tidak\n",
              "6                       Naufal    19  ...        Rekreasi di alam  Tidak\n",
              "\n",
              "[5 rows x 7 columns]"
            ]
          },
          "metadata": {
            "tags": []
          },
          "execution_count": 161
        }
      ]
    },
    {
      "cell_type": "code",
      "metadata": {
        "id": "RkGUfCkR22wJ"
      },
      "source": [
        "df['gender']=df['gender'].apply(lambda kelamin:0 if(kelamin=='Laki-laki') else 1)"
      ],
      "execution_count": 162,
      "outputs": []
    },
    {
      "cell_type": "code",
      "metadata": {
        "id": "SAPatiR_3nZc"
      },
      "source": [
        "def ubahgenderteman(a):\n",
        "  if a=='Laki-laki':\n",
        "    return '0';\n",
        "  elif a=='Perempuan':\n",
        "    return '1';\n",
        "  elif a=='Laki-laki dan perempuan':\n",
        "    return '2';\n"
      ],
      "execution_count": 163,
      "outputs": []
    },
    {
      "cell_type": "code",
      "metadata": {
        "id": "5Gxsob_G8qR0"
      },
      "source": [
        "df['genderteman']=df['genderteman'].apply(lambda x:ubahgenderteman(x))"
      ],
      "execution_count": 164,
      "outputs": []
    },
    {
      "cell_type": "code",
      "metadata": {
        "id": "vRr4GEJd-Fav"
      },
      "source": [
        "df['mutual']=df['mutual'].apply(lambda ikuti:0 if(ikuti=='Tidak') else 1)"
      ],
      "execution_count": 165,
      "outputs": []
    },
    {
      "cell_type": "code",
      "metadata": {
        "id": "jytv5Cnp8W6X",
        "outputId": "3105a149-60bc-440b-e40f-157d7bb5d52e",
        "colab": {
          "base_uri": "https://localhost:8080/",
          "height": 204
        }
      },
      "source": [
        "df.head()"
      ],
      "execution_count": 166,
      "outputs": [
        {
          "output_type": "execute_result",
          "data": {
            "text/html": [
              "<div>\n",
              "<style scoped>\n",
              "    .dataframe tbody tr th:only-of-type {\n",
              "        vertical-align: middle;\n",
              "    }\n",
              "\n",
              "    .dataframe tbody tr th {\n",
              "        vertical-align: top;\n",
              "    }\n",
              "\n",
              "    .dataframe thead th {\n",
              "        text-align: right;\n",
              "    }\n",
              "</style>\n",
              "<table border=\"1\" class=\"dataframe\">\n",
              "  <thead>\n",
              "    <tr style=\"text-align: right;\">\n",
              "      <th></th>\n",
              "      <th>nama</th>\n",
              "      <th>umur</th>\n",
              "      <th>gender</th>\n",
              "      <th>lokasi</th>\n",
              "      <th>genderteman</th>\n",
              "      <th>kegiatan</th>\n",
              "      <th>mutual</th>\n",
              "    </tr>\n",
              "  </thead>\n",
              "  <tbody>\n",
              "    <tr>\n",
              "      <th>0</th>\n",
              "      <td>Aldi</td>\n",
              "      <td>18</td>\n",
              "      <td>0</td>\n",
              "      <td>Madiun</td>\n",
              "      <td>0</td>\n",
              "      <td>Nongkrong sambil nugas</td>\n",
              "      <td>1</td>\n",
              "    </tr>\n",
              "    <tr>\n",
              "      <th>2</th>\n",
              "      <td>Akbar Rezy Hanara Setiyawan</td>\n",
              "      <td>18</td>\n",
              "      <td>0</td>\n",
              "      <td>Madiun</td>\n",
              "      <td>2</td>\n",
              "      <td>Nongkrong sambil nugas</td>\n",
              "      <td>0</td>\n",
              "    </tr>\n",
              "    <tr>\n",
              "      <th>3</th>\n",
              "      <td>Maudhy Ferari</td>\n",
              "      <td>19</td>\n",
              "      <td>1</td>\n",
              "      <td>Madiun</td>\n",
              "      <td>2</td>\n",
              "      <td>Nongkrong sambil nugas</td>\n",
              "      <td>1</td>\n",
              "    </tr>\n",
              "    <tr>\n",
              "      <th>5</th>\n",
              "      <td>Nizar Rahma Auliyaa</td>\n",
              "      <td>18</td>\n",
              "      <td>1</td>\n",
              "      <td>Madiun</td>\n",
              "      <td>1</td>\n",
              "      <td>Nonton film</td>\n",
              "      <td>0</td>\n",
              "    </tr>\n",
              "    <tr>\n",
              "      <th>6</th>\n",
              "      <td>Naufal</td>\n",
              "      <td>19</td>\n",
              "      <td>0</td>\n",
              "      <td>Madiun</td>\n",
              "      <td>2</td>\n",
              "      <td>Rekreasi di alam</td>\n",
              "      <td>0</td>\n",
              "    </tr>\n",
              "  </tbody>\n",
              "</table>\n",
              "</div>"
            ],
            "text/plain": [
              "                          nama  umur  ...                kegiatan mutual\n",
              "0                         Aldi    18  ...  Nongkrong sambil nugas      1\n",
              "2  Akbar Rezy Hanara Setiyawan    18  ...  Nongkrong sambil nugas      0\n",
              "3                Maudhy Ferari    19  ...  Nongkrong sambil nugas      1\n",
              "5          Nizar Rahma Auliyaa    18  ...             Nonton film      0\n",
              "6                       Naufal    19  ...        Rekreasi di alam      0\n",
              "\n",
              "[5 rows x 7 columns]"
            ]
          },
          "metadata": {
            "tags": []
          },
          "execution_count": 166
        }
      ]
    },
    {
      "cell_type": "markdown",
      "metadata": {
        "id": "DUth2cWS_dP1"
      },
      "source": [
        "#**Data Processing**"
      ]
    },
    {
      "cell_type": "code",
      "metadata": {
        "id": "FQ8_-vJUBWPo"
      },
      "source": [
        "df['Hitung']=1"
      ],
      "execution_count": 167,
      "outputs": []
    },
    {
      "cell_type": "code",
      "metadata": {
        "id": "wD6frKP_Bpvs"
      },
      "source": [
        "data_sum=df.groupby('kegiatan').sum()['Hitung']"
      ],
      "execution_count": 168,
      "outputs": []
    },
    {
      "cell_type": "code",
      "metadata": {
        "id": "s5qztiyfB4bE",
        "outputId": "f88fc33d-bd03-4725-995d-0ed96d619519",
        "colab": {
          "base_uri": "https://localhost:8080/"
        }
      },
      "source": [
        "kegiatans=df['kegiatan'].unique()\n",
        "banyak_kegiatan=df['kegiatan'].value_counts()\n",
        "print(kegiatans)\n",
        "print(banyak_kegiatan)"
      ],
      "execution_count": 169,
      "outputs": [
        {
          "output_type": "stream",
          "text": [
            "['Nongkrong sambil nugas' 'Nonton film' 'Rekreasi di alam' 'Berolahraga'\n",
            " 'Nongkrong santai, termasuk julid' 'Nge-mall' 'Food hunting'\n",
            " 'Riding atau berkeliling-keliling']\n",
            "Nongkrong santai, termasuk julid    21\n",
            "Nongkrong sambil nugas              13\n",
            "Food hunting                         7\n",
            "Nonton film                          6\n",
            "Rekreasi di alam                     5\n",
            "Riding atau berkeliling-keliling     4\n",
            "Berolahraga                          2\n",
            "Nge-mall                             1\n",
            "Name: kegiatan, dtype: int64\n"
          ],
          "name": "stdout"
        }
      ]
    },
    {
      "cell_type": "code",
      "metadata": {
        "id": "CXVXwPJF8N1p",
        "outputId": "4abccca1-c5be-4ade-8d8d-9c16f585659b",
        "colab": {
          "base_uri": "https://localhost:8080/",
          "height": 836
        }
      },
      "source": [
        "plt.figure(figsize=(15,12))\n",
        "plt.bar(kegiatans, banyak_kegiatan[kegiatans])\n",
        "plt.title('Kegiatan Remaja saat Hangout', fontsize=20)\n",
        "plt.ylabel('Banyak')\n",
        "plt.xticks(rotation=45)\n",
        "plt.show()\n"
      ],
      "execution_count": 170,
      "outputs": [
        {
          "output_type": "display_data",
          "data": {
            "image/png": "[encoded data removed]",
            "text/plain": [
              "<Figure size 1080x864 with 1 Axes>"
            ]
          },
          "metadata": {
            "tags": [],
            "needs_background": "light"
          }
        }
      ]
    },
    {
      "cell_type": "code",
      "metadata": {
        "id": "-1U8iRB23WWA",
        "outputId": "6c4223ac-2102-49b0-ec3f-68dc7db7ec35",
        "colab": {
          "base_uri": "https://localhost:8080/"
        }
      },
      "source": [
        "genders=df['gender'].unique()\n",
        "print(genders)\n",
        "data_sum=df.groupby('gender').sum()\n",
        "print(data_sum['mutual'])"
      ],
      "execution_count": 171,
      "outputs": [
        {
          "output_type": "stream",
          "text": [
            "[0 1]\n",
            "gender\n",
            "0     6\n",
            "1    17\n",
            "Name: mutual, dtype: int64\n"
          ],
          "name": "stdout"
        }
      ]
    },
    {
      "cell_type": "code",
      "metadata": {
        "id": "pY2q553S308I",
        "outputId": "e41d027a-8d95-45cc-9b67-e250ad2d4835",
        "colab": {
          "base_uri": "https://localhost:8080/",
          "height": 721
        }
      },
      "source": [
        "plt.figure(figsize=(15,12))\n",
        "plt.bar(genders, data_sum['mutual'][genders])\n",
        "plt.title('Keharusan Mutual berdasarkan Gender', fontsize=20)\n",
        "plt.ylabel('Banyak')\n",
        "plt.xticks(genders)\n",
        "plt.show()"
      ],
      "execution_count": 172,
      "outputs": [
        {
          "output_type": "display_data",
          "data": {
            "image/png": "[encoded data removed]",
            "text/plain": [
              "<Figure size 1080x864 with 1 Axes>"
            ]
          },
          "metadata": {
            "tags": [],
            "needs_background": "light"
          }
        }
      ]
    },
    {
      "cell_type": "code",
      "metadata": {
        "id": "W5GmgCD9Ci2Y",
        "outputId": "ef52d6b1-ba58-4b88-bf4a-2c1bc79e5947",
        "colab": {
          "base_uri": "https://localhost:8080/",
          "height": 312
        }
      },
      "source": [
        "df.groupby(['gender','genderteman']).size().unstack().plot(kind='bar', stacked=True)\n",
        "plt.title('Kecenderungan Memilih Jenis Kelamin dalam Berteman')\n",
        "plt.xticks(rotation=0)\n",
        "plt.ylabel('Jenis Kelamin Teman')\n",
        "plt.xlabel('Jenis Kelamin')"
      ],
      "execution_count": 185,
      "outputs": [
        {
          "output_type": "execute_result",
          "data": {
            "text/plain": [
              "Text(0.5, 0, 'Jenis Kelamin')"
            ]
          },
          "metadata": {
            "tags": []
          },
          "execution_count": 185
        },
        {
          "output_type": "display_data",
          "data": {
            "image/png": "[encoded data removed]",
            "text/plain": [
              "<Figure size 432x288 with 1 Axes>"
            ]
          },
          "metadata": {
            "tags": [],
            "needs_background": "light"
          }
        }
      ]
    },
    {
      "cell_type": "markdown",
      "metadata": {
        "id": "6jD-HJQ7pHOH"
      },
      "source": [
        "#**Data Conclusion**"
      ]
    },
    {
      "cell_type": "markdown",
      "metadata": {
        "id": "gP4UvegoDtjD"
      },
      "source": [
        "Berdasarkan pengolahan data yang telah dilakukan, telah dilakukan Data Cleaning untuk mengambil data yang berlokasi Madiun. Hal itu dikarenakan data lokasi lain (selain Madiun) memiliki jumlah yang sedikit, berkisar 2-5 data untuk setiap lokasi tersebut. Sehingga, saya memfokuskan pengolahan data dengan data lokasi Madiun saja.\n",
        "\n",
        "Selanjutnya, pada Data Processing, saya ingin mendapatkan data kegiatan berdasarkan data tersebut. Setelah diolah, didapatkan data berupa jumlah untuk masing-masing kegiatan saat bergaul, dengan modus dan maksimal untuk kegiatan adalah \"Nongkrong santai, termasuk julid\", disusul dengan \"Nongkrong sambil nugas\", dan \"Food Hunting\". Data tersebut disajikan dalam grafik batang. Sehingga dapat ditarik kesimpulan bahwa mayoritas remaja di Madiun menyukai kegiatan \"Nongkrong santai, termasuk julid\".\n",
        "\n",
        "Kemudian, pada Data Processing selanjutnya saya mendapatkan data berupa keharusan untuk menjadi mutual di sosial media berdasarkan gender. Dalam data tersebut, jenis kelamin laki-laki disimbolkan dengan angka \"0\", dan perempuan disimbolkan dengan angka \"1\". Setelah data diolah, didapatkan hasil bahwa dalam pergaulan, perempuan cenderung untuk saling mutual di sosial media. Perbedaannya cukup signifikan antara laki-laki dan perempuan, seperti yang tersaji dalam grafik.\n",
        "\n",
        "Dan yang terakhir, saya ingin mendapatkan data tentang pemilihan jenis kelamin dalam bergaul. Setelah data diolah, dapat diketahui bahwa setiap jenis kelamin, cenderung untuk tidak bergaul dengan lawan jenisnya. Namun, lebih cenderung untuk bergaul dengan keduanya (laki-laki dan perempuan) atau dengan sesamanya. Data tersebut tersaji dalam grafik.\n",
        "\n",
        "Sekian kesimpulan yang bisa saya sampaikan berdasarkan pengolahan data survei yang telah dilakukan. Saya menyadari bahwa data ini tidak sepenuhnya akurat, karena jumlah pengisi survei yang berlokasi Madiun tidak banyak. Terima kasih.\n"
      ]
    }
  ]
}
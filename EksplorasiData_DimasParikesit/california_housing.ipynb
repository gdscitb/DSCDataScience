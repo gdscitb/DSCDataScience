{
  "nbformat": 4,
  "nbformat_minor": 0,
  "metadata": {
    "colab": {
      "name": "california_housing.ipynb",
      "provenance": [],
      "collapsed_sections": []
    },
    "kernelspec": {
      "name": "python3",
      "display_name": "Python 3"
    }
  },
  "cells": [
    {
      "cell_type": "markdown",
      "metadata": {
        "id": "65rNUnGRW88Q"
      },
      "source": [
        "# Tugas Event #2 - Solving Real-World Problems with Data Science\n",
        "\n",
        "*   Nama: Dimas Shidqi Parikesit\n",
        "*   NIM: 16520105\n",
        "*   Universitas: Institut Teknologi Bandung\n",
        "*   Tanggal mulai: 10 November 2020\n",
        "*   Dataset: https://www.kaggle.com/camnugent/california-housing-prices\n",
        "*   Disclaimer: This notebook was made by following guide from https://www.kaggle.com/ravichaubey1506/end-to-end-machine-learning/notebook#Model-Tuning\n"
      ]
    },
    {
      "cell_type": "markdown",
      "metadata": {
        "id": "LUaAbG8QYi7-"
      },
      "source": [
        "# Housing.csv"
      ]
    },
    {
      "cell_type": "markdown",
      "metadata": {
        "id": "6NmlfG8pYyr7"
      },
      "source": [
        "\n",
        "\n",
        "### 1.   Data Preaparation & Observation\n",
        "\n",
        "*   Pada analisis ini saya menggunakan dataset california housing.\n",
        "*   Dataset ini memberikan data berupa latitude, longitude, house median age dll\n",
        "\n",
        "\n",
        "\n",
        "\n"
      ]
    },
    {
      "cell_type": "code",
      "metadata": {
        "id": "psu6WXG2W2Yy"
      },
      "source": [
        "import pandas as pd\n",
        "import numpy as np"
      ],
      "execution_count": null,
      "outputs": []
    },
    {
      "cell_type": "code",
      "metadata": {
        "id": "IPYtyqlMajdL"
      },
      "source": [
        "housing = pd.read_csv('./drive/My Drive/Colab Notebooks/housing.csv')\n",
        "housing.head()"
      ],
      "execution_count": null,
      "outputs": []
    },
    {
      "cell_type": "code",
      "metadata": {
        "id": "vpN7Bqu5axtT"
      },
      "source": [
        "housing.info()"
      ],
      "execution_count": null,
      "outputs": []
    },
    {
      "cell_type": "code",
      "metadata": {
        "id": "u5WGrY7HbHcM"
      },
      "source": [
        "housing['ocean_proximity'].value_counts()"
      ],
      "execution_count": null,
      "outputs": []
    },
    {
      "cell_type": "code",
      "metadata": {
        "id": "0bmUqcLVbJt7"
      },
      "source": [
        "housing.describe().T"
      ],
      "execution_count": null,
      "outputs": []
    },
    {
      "cell_type": "markdown",
      "metadata": {
        "id": "ayuiV1L0bXTD"
      },
      "source": [
        "### 2. Data Visualisation"
      ]
    },
    {
      "cell_type": "code",
      "metadata": {
        "id": "67AC6aPFbU1i"
      },
      "source": [
        "import matplotlib.pyplot as plt"
      ],
      "execution_count": null,
      "outputs": []
    },
    {
      "cell_type": "code",
      "metadata": {
        "id": "LIZ9QU5mbjhw"
      },
      "source": [
        "housing.hist(bins=50, figsize=(20,15))\n",
        "plt.show()"
      ],
      "execution_count": null,
      "outputs": []
    },
    {
      "cell_type": "markdown",
      "metadata": {
        "id": "kUEvqsGjRLge"
      },
      "source": [
        "Dari 9 grafik diatas, dapat kita lihat bahwa median_income, housing_median_age dan median_house_value memiliki batas. Hal tersebut dapat kita lihat dari grafik, dimana nilainya tiba tiba meninggi.Oleh karena itu, kita akan menghilangkan begian tersebut dari dataset yang diperhitungkan."
      ]
    },
    {
      "cell_type": "code",
      "metadata": {
        "id": "x0A0TGE3bqXP"
      },
      "source": [
        "# Pertama, kita ingin melihat frekuensi median_income dari tiap rentang jumlah tertentu\n",
        "fig = plt.figure(dpi=80, figsize=(6,4))\n",
        "ax = fig.add_axes([1,1,1,1])\n",
        "ax.set(xlabel='Median Income Class', ylabel='Frequency', title='Distribution of Median Income')\n",
        "housing['median_income'].hist(color='blue', ax=ax)\n",
        "plt.show()"
      ],
      "execution_count": null,
      "outputs": []
    },
    {
      "cell_type": "code",
      "metadata": {
        "id": "qxLaMZebcjRp"
      },
      "source": [
        "# Karena median_income memiliki batas atas, kita harus memotong bagian tersebut dari grafik kita\n",
        "# Kemudian bagian yang tidak dipotong akan dikategorikan kedalam kolom baru\n",
        "housing['income_cat']=pd.cut(housing['median_income'],\n",
        "                             bins=[0., 1.5, 3.0, 4.5, 6., np.inf],\n",
        "                             labels=[1,2,3,4,5])\n",
        "housing['income_cat'].value_counts()"
      ],
      "execution_count": null,
      "outputs": []
    },
    {
      "cell_type": "code",
      "metadata": {
        "id": "PpI79tNFWZB8"
      },
      "source": [
        "# Kemudian buat grafik distribusi income berdasarkan income category\n",
        "fig = plt.figure(dpi = 80, figsize = (6,4))\n",
        "ax = fig.add_axes([1,1,1,1])\n",
        "ax.set(xlabel = 'Median Income Category',ylabel = 'Frequency',title = 'Distribution of Median Income Category')\n",
        "housing[\"income_cat\"].hist(color = 'purple',ax=ax)\n",
        "plt.show()"
      ],
      "execution_count": null,
      "outputs": []
    },
    {
      "cell_type": "markdown",
      "metadata": {
        "id": "-_Qs9BUxW9Lj"
      },
      "source": [
        "Memecah data menjadi train dan test set dengan train set sebesar 0.8 dan test set sebesar 0.2\n",
        "Kita akan menggunakan stratified sampling dengan asumsi median_income adalah parameter yang baik"
      ]
    },
    {
      "cell_type": "code",
      "metadata": {
        "id": "2kFnmzQKXF63"
      },
      "source": [
        "from sklearn.model_selection import StratifiedShuffleSplit\n",
        "\n",
        "split = StratifiedShuffleSplit(n_splits=1, test_size=0.2, random_state=42)\n",
        "for train_index, test_index in split.split(housing, housing[\"income_cat\"]):\n",
        "    strat_train_set = housing.loc[train_index]\n",
        "    strat_test_set = housing.loc[test_index]"
      ],
      "execution_count": null,
      "outputs": []
    },
    {
      "cell_type": "code",
      "metadata": {
        "id": "RccvGDsOYIvJ"
      },
      "source": [
        "# Kita akan menggunakan berbagai metode visualisasi untuk melihat korelasi data yang ada\n",
        "# Oleh karena itu kita akan buat copy dataset untuk dilihat-lihat\n",
        "housing = strat_train_set.copy()"
      ],
      "execution_count": null,
      "outputs": []
    },
    {
      "cell_type": "code",
      "metadata": {
        "id": "vj2tVCMXZmk6"
      },
      "source": [
        "# Kita ingin mengetahui apakah housing price terkait dengan lokasi dan kepadatan penduduk\n",
        "fig = plt.figure(dpi = 100,figsize = (4,4))\n",
        "ax = fig.add_axes([1,1,1,1])\n",
        "\n",
        "import matplotlib.image as mpimg\n",
        "california_img=mpimg.imread(\"https://upload.wikimedia.org/wikipedia/commons/thumb/1/1b/California_Locator_Map.PNG/280px-California_Locator_Map.PNG\")\n",
        "housing.plot(kind=\"scatter\", x=\"longitude\", y=\"latitude\", figsize=(10,7),ax=ax,\n",
        "                       s=housing['population']/100, label=\"Population\",\n",
        "                       c=\"median_house_value\", cmap=plt.get_cmap(\"jet\"),\n",
        "                       colorbar=False, alpha=0.4,\n",
        "                      )\n",
        "plt.imshow(california_img, extent=[-124.55, -113.80, 32.45, 42.05], alpha=0.5,\n",
        "           cmap=plt.get_cmap(\"jet\"))\n",
        "plt.ylabel(\"Latitude\", fontsize=14)\n",
        "plt.xlabel(\"Longitude\", fontsize=14)\n",
        "\n",
        "prices = housing[\"median_house_value\"]\n",
        "tick_values = np.linspace(prices.min(), prices.max(), 11)\n",
        "cbar = plt.colorbar()\n",
        "cbar.ax.set_yticklabels([\"$%dk\"%(round(v/1000)) for v in tick_values], fontsize=14)\n",
        "cbar.set_label('Median House Value', fontsize=16)\n",
        "\n",
        "plt.legend(fontsize=16)\n",
        "plt.show();"
      ],
      "execution_count": null,
      "outputs": []
    },
    {
      "cell_type": "markdown",
      "metadata": {
        "id": "q8AMXgsRZ52m"
      },
      "source": [
        "Ternyata housing price sangat dipengaruhi oleh lokasi dan kepadatan penduduk"
      ]
    },
    {
      "cell_type": "code",
      "metadata": {
        "id": "Mp9kLau5Z1jz"
      },
      "source": [
        "# Kemudian kita ingin mengetahui korelasi antar kolom\n",
        "import seaborn as sns\n",
        "corr = housing.corr()\n",
        "mask = np.triu(np.ones_like(corr,dtype = bool))\n",
        "\n",
        "plt.figure(dpi=100)\n",
        "plt.title('Correlation Analysis')\n",
        "sns.heatmap(corr,mask=mask,annot=False,lw=0,linecolor='white',cmap='viridis',fmt = \"0.2f\")\n",
        "plt.xticks(rotation=90)\n",
        "plt.yticks(rotation = 0)\n",
        "plt.show()"
      ],
      "execution_count": null,
      "outputs": []
    },
    {
      "cell_type": "code",
      "metadata": {
        "id": "zmoMZ6khaVTW"
      },
      "source": [
        "from pandas.plotting import scatter_matrix\n",
        "\n",
        "attributes = [\"median_house_value\", \"median_income\", \"total_rooms\",\n",
        "              \"housing_median_age\"]\n",
        "scatter_matrix(housing[attributes], figsize=(12, 8))\n",
        "plt.show()"
      ],
      "execution_count": null,
      "outputs": []
    },
    {
      "cell_type": "markdown",
      "metadata": {
        "id": "ecpUG0Kxa-Uq"
      },
      "source": [
        "Dari kedua grafik diatas dapat dilihat bahwa attribut yang paling berkorelasi dengan median_house_value adalah median_income.\n",
        "Kita akan melihat lebih dekat korelasi antara keduanya"
      ]
    },
    {
      "cell_type": "code",
      "metadata": {
        "id": "AFOc2QDGa8ro"
      },
      "source": [
        "fig = plt.figure(dpi = 80, figsize = (6,4))\n",
        "ax = fig.add_axes([1,1,1,1])\n",
        "\n",
        "housing.plot(kind=\"scatter\", x=\"median_income\", y=\"median_house_value\",\n",
        "             alpha=0.1,color = 'blue',ax=ax)\n",
        "plt.axis([0, 16, 0, 550000])\n",
        "plt.show()"
      ],
      "execution_count": null,
      "outputs": []
    },
    {
      "cell_type": "markdown",
      "metadata": {
        "id": "fL1_fYpZbu2t"
      },
      "source": [
        "Scatterplot ini memperlihatkan bahwa korelasi keduanya kuat, dapat dilihat dengan trend naik serta titik yang tidak terlalu menyebar"
      ]
    },
    {
      "cell_type": "markdown",
      "metadata": {
        "id": "z4oFbLhGcO3b"
      },
      "source": [
        "Kemudian kita akan membuat kolom baru menggunakan ruangan, kamar tidur, serta populas"
      ]
    },
    {
      "cell_type": "code",
      "metadata": {
        "id": "Pp6wIS6bcdDM"
      },
      "source": [
        "housing[\"rooms_per_household\"] = housing[\"total_rooms\"]/housing[\"households\"]\n",
        "housing[\"bedrooms_per_room\"] = housing[\"total_bedrooms\"]/housing[\"total_rooms\"]\n",
        "housing[\"population_per_household\"]=housing[\"population\"]/housing[\"households\"]\n",
        "\n",
        "corr = housing.corr()\n",
        "mask = np.triu(np.ones_like(corr,dtype = bool))\n",
        "\n",
        "plt.figure(dpi=100)\n",
        "plt.title('Correlation Analysis')\n",
        "sns.heatmap(corr,mask=mask,annot=False,lw=0,linecolor='white',cmap='magma',fmt = \"0.2f\")\n",
        "plt.xticks(rotation=90)\n",
        "plt.yticks(rotation = 0)\n",
        "plt.show()"
      ],
      "execution_count": null,
      "outputs": []
    },
    {
      "cell_type": "markdown",
      "metadata": {
        "id": "B180Ku-4ciKX"
      },
      "source": [
        "Kolom bedrooms_per_room memiliki korelasi yang lebih baik dengan median house value dibandingkan total number of rooms /bedrooms"
      ]
    },
    {
      "cell_type": "markdown",
      "metadata": {
        "id": "vhliDGI4cz0Z"
      },
      "source": [
        "### 3. Model Development"
      ]
    },
    {
      "cell_type": "markdown",
      "metadata": {
        "id": "LnxlB7MzdIty"
      },
      "source": [
        "#### Data Pipeline"
      ]
    },
    {
      "cell_type": "code",
      "metadata": {
        "id": "qb8l4WMTc2gD"
      },
      "source": [
        "housing = strat_train_set.drop(\"median_house_value\", axis=1) # drop labels for training set\n",
        "housing_labels = strat_train_set[\"median_house_value\"].copy()"
      ],
      "execution_count": null,
      "outputs": []
    },
    {
      "cell_type": "code",
      "metadata": {
        "id": "k9zj8upNc8bH"
      },
      "source": [
        "from sklearn.impute import SimpleImputer\n",
        "from sklearn.preprocessing import OrdinalEncoder\n",
        "from sklearn.preprocessing import OneHotEncoder"
      ],
      "execution_count": null,
      "outputs": []
    },
    {
      "cell_type": "code",
      "metadata": {
        "id": "pFsG2KF3c_Ar"
      },
      "source": [
        "from sklearn.base import BaseEstimator, TransformerMixin\n",
        "\n",
        "# column index\n",
        "rooms_ix, bedrooms_ix, population_ix, households_ix = 3, 4, 5, 6\n",
        "\n",
        "class CombinedAttributesAdder(BaseEstimator, TransformerMixin):\n",
        "    def __init__(self, add_bedrooms_per_room = True): # no *args or **kargs\n",
        "        self.add_bedrooms_per_room = add_bedrooms_per_room\n",
        "    def fit(self, X, y=None):\n",
        "        return self  # nothing else to do\n",
        "    def transform(self, X):\n",
        "        rooms_per_household = X[:, rooms_ix] / X[:, households_ix]\n",
        "        population_per_household = X[:, population_ix] / X[:, households_ix]\n",
        "        if self.add_bedrooms_per_room:\n",
        "            bedrooms_per_room = X[:, bedrooms_ix] / X[:, rooms_ix]\n",
        "            return np.c_[X, rooms_per_household, population_per_household,\n",
        "                         bedrooms_per_room]\n",
        "        else:\n",
        "            return np.c_[X, rooms_per_household, population_per_household]"
      ],
      "execution_count": null,
      "outputs": []
    },
    {
      "cell_type": "code",
      "metadata": {
        "id": "H0an9tjbdBXA"
      },
      "source": [
        "from sklearn.pipeline import Pipeline\n",
        "from sklearn.preprocessing import StandardScaler\n",
        "\n",
        "num_pipeline = Pipeline([\n",
        "        ('imputer', SimpleImputer(strategy=\"median\")),\n",
        "        ('attribs_adder', CombinedAttributesAdder()),\n",
        "        ('std_scaler', StandardScaler()),\n",
        "    ])"
      ],
      "execution_count": null,
      "outputs": []
    },
    {
      "cell_type": "code",
      "metadata": {
        "id": "u_Cd16SYdDL7"
      },
      "source": [
        "from sklearn.compose import ColumnTransformer\n",
        "\n",
        "housing_num = housing.drop(\"ocean_proximity\", axis=1)\n",
        "\n",
        "num_attribs = list(housing_num)\n",
        "cat_attribs = [\"ocean_proximity\"]\n",
        "\n",
        "\n",
        "full_pipeline = ColumnTransformer([\n",
        "        (\"num\", num_pipeline, num_attribs),\n",
        "        (\"cat\", OneHotEncoder(), cat_attribs),\n",
        "    ])"
      ],
      "execution_count": null,
      "outputs": []
    },
    {
      "cell_type": "code",
      "metadata": {
        "id": "HhGIyixWdE-3"
      },
      "source": [
        "housing_prepared = full_pipeline.fit_transform(housing)\n",
        "housing_prepared"
      ],
      "execution_count": null,
      "outputs": []
    },
    {
      "cell_type": "markdown",
      "metadata": {
        "id": "FLU-Yh6AdNHz"
      },
      "source": [
        "#### Model Training"
      ]
    },
    {
      "cell_type": "code",
      "metadata": {
        "id": "r7uanXCMdOwt",
        "outputId": "5b153518-671f-4c44-b09a-16e915072968",
        "colab": {
          "base_uri": "https://localhost:8080/"
        }
      },
      "source": [
        "from sklearn.ensemble import RandomForestRegressor\n",
        "\n",
        "forest_reg = RandomForestRegressor(n_estimators=5, random_state=42)\n",
        "forest_reg.fit(housing_prepared, housing_labels)"
      ],
      "execution_count": null,
      "outputs": [
        {
          "output_type": "execute_result",
          "data": {
            "text/plain": [
              "RandomForestRegressor(bootstrap=True, ccp_alpha=0.0, criterion='mse',\n",
              "                      max_depth=None, max_features='auto', max_leaf_nodes=None,\n",
              "                      max_samples=None, min_impurity_decrease=0.0,\n",
              "                      min_impurity_split=None, min_samples_leaf=1,\n",
              "                      min_samples_split=2, min_weight_fraction_leaf=0.0,\n",
              "                      n_estimators=5, n_jobs=None, oob_score=False,\n",
              "                      random_state=42, verbose=0, warm_start=False)"
            ]
          },
          "metadata": {
            "tags": []
          },
          "execution_count": 24
        }
      ]
    },
    {
      "cell_type": "code",
      "metadata": {
        "id": "D_J5rsMkdSUk",
        "outputId": "04260b39-6f32-4848-ea12-0189517b4ef8",
        "colab": {
          "base_uri": "https://localhost:8080/"
        }
      },
      "source": [
        "from sklearn.metrics import mean_squared_error, mean_absolute_error\n",
        "\n",
        "housing_predictions = forest_reg.predict(housing_prepared)\n",
        "forest_mse = mean_squared_error(housing_labels, housing_predictions)\n",
        "forest_rmse = np.sqrt(forest_mse)\n",
        "print(\"RMSE ==> \", forest_rmse)"
      ],
      "execution_count": null,
      "outputs": [
        {
          "output_type": "stream",
          "text": [
            "RMSE ==>  25756.027706421155\n"
          ],
          "name": "stdout"
        }
      ]
    },
    {
      "cell_type": "markdown",
      "metadata": {
        "id": "OofylvzJeWZj"
      },
      "source": [
        "#### Model Tuning"
      ]
    },
    {
      "cell_type": "code",
      "metadata": {
        "id": "g1zZUZdveX3a"
      },
      "source": [
        "def display_scores(scores):\n",
        "    print(\"Scores:\", scores)\n",
        "    print(\"Mean:\", scores.mean())\n",
        "    print(\"Standard deviation:\", scores.std())"
      ],
      "execution_count": null,
      "outputs": []
    },
    {
      "cell_type": "code",
      "metadata": {
        "id": "QF0kALAZeZhV",
        "outputId": "f4d1b7f9-9051-49d9-ff10-4e39fcfe9024",
        "colab": {
          "base_uri": "https://localhost:8080/"
        }
      },
      "source": [
        "from sklearn.model_selection import cross_val_score\n",
        "\n",
        "forest_scores = cross_val_score(forest_reg, housing_prepared, housing_labels,\n",
        "                                scoring=\"neg_mean_squared_error\", cv=5)\n",
        "forest_rmse_scores = np.sqrt(-forest_scores)\n",
        "display_scores(forest_rmse_scores)"
      ],
      "execution_count": null,
      "outputs": [
        {
          "output_type": "stream",
          "text": [
            "Scores: [54607.69682829 55676.51534528 56488.93565291 53646.91831517\n",
            " 56761.83802382]\n",
            "Mean: 55436.38083309248\n",
            "Standard deviation: 1167.1560546879546\n"
          ],
          "name": "stdout"
        }
      ]
    },
    {
      "cell_type": "code",
      "metadata": {
        "id": "LKX1SZseebVE"
      },
      "source": [
        "from sklearn.model_selection import GridSearchCV\n",
        "\n",
        "param_grid = [\n",
        "    # try 12 (3×4) combinations of hyperparameters\n",
        "    {'n_estimators': [3, 10, 30], 'max_features': [2, 4, 6, 8]},\n",
        "    # then try 6 (2×3) combinations with bootstrap set as False\n",
        "    {'bootstrap': [False], 'n_estimators': [3, 10], 'max_features': [2, 3, 4]},\n",
        "  ]\n",
        "\n",
        "forest_reg = RandomForestRegressor(random_state=42)\n",
        "# train across 5 folds, that's a total of (12+6)*5=90 rounds of training \n",
        "grid_search = GridSearchCV(forest_reg, param_grid, cv=5,\n",
        "                           scoring='neg_mean_squared_error',\n",
        "                           return_train_score=True)\n",
        "grid_search.fit(housing_prepared, housing_labels)"
      ],
      "execution_count": null,
      "outputs": []
    },
    {
      "cell_type": "code",
      "metadata": {
        "id": "Iqymb7EQedpM"
      },
      "source": [
        "grid_search.best_params_"
      ],
      "execution_count": null,
      "outputs": []
    },
    {
      "cell_type": "code",
      "metadata": {
        "id": "H6T7Tw2ze5cr"
      },
      "source": [
        "grid_search.best_estimator_"
      ],
      "execution_count": null,
      "outputs": []
    },
    {
      "cell_type": "code",
      "metadata": {
        "id": "FQgRTUTVe7hr"
      },
      "source": [
        "cvres = grid_search.cv_results_\n",
        "for mean_score, params in zip(cvres[\"mean_test_score\"], cvres[\"params\"]):\n",
        "    print(np.sqrt(-mean_score), params)"
      ],
      "execution_count": null,
      "outputs": []
    },
    {
      "cell_type": "markdown",
      "metadata": {
        "id": "mTCZVglhe_iY"
      },
      "source": [
        "#### Evaluate Model"
      ]
    },
    {
      "cell_type": "code",
      "metadata": {
        "id": "Fni8qFWBfA-a"
      },
      "source": [
        "final_model = grid_search.best_estimator_\n",
        "\n",
        "X_test = strat_test_set.drop(\"median_house_value\", axis=1)\n",
        "y_test = strat_test_set[\"median_house_value\"].copy()\n",
        "\n",
        "X_test_prepared = full_pipeline.transform(X_test)"
      ],
      "execution_count": null,
      "outputs": []
    },
    {
      "cell_type": "code",
      "metadata": {
        "id": "2jAipm0zfZM7"
      },
      "source": [
        "final_predictions = final_model.predict(X_test_prepared)\n",
        "\n",
        "final_mse = mean_squared_error(y_test, final_predictions)\n",
        "final_rmse = np.sqrt(final_mse)"
      ],
      "execution_count": null,
      "outputs": []
    },
    {
      "cell_type": "code",
      "metadata": {
        "id": "M2SfwPstfcd7"
      },
      "source": [
        "print(\"RMSE on Test ==> \",final_rmse)"
      ],
      "execution_count": null,
      "outputs": []
    },
    {
      "cell_type": "markdown",
      "metadata": {
        "id": "nQ-xeKrQfhXB"
      },
      "source": [
        "Menghitung 95% confidence interval untuk generalisasi error untuk mengetahui seberapa presisi estimasi ini."
      ]
    },
    {
      "cell_type": "code",
      "metadata": {
        "id": "RfjPSnXPfvO_"
      },
      "source": [
        "from scipy import stats\n",
        "\n",
        "confidence = 0.95\n",
        "squared_errors = (final_predictions - y_test) ** 2\n",
        "np.sqrt(stats.t.interval(confidence, len(squared_errors) - 1,\n",
        "                         loc=squared_errors.mean(),\n",
        "                         scale=stats.sem(squared_errors)))"
      ],
      "execution_count": null,
      "outputs": []
    },
    {
      "cell_type": "markdown",
      "metadata": {
        "id": "vq54ScxmgLc3"
      },
      "source": [
        "### Insight"
      ]
    },
    {
      "cell_type": "markdown",
      "metadata": {
        "id": "DrAYOMO_2X2e"
      },
      "source": [
        "* Faktor yang banyak mempengaruhi median house value adalah median income\n",
        "* Median house age memiliki korelasi negatif dengan total ruangan, kamar tidur, serta populasi. Hal ini menandakan bahwa parameter tersebut tidak saling mempengaruhi\n",
        "* House value di California pada tahun ini memiliki nilai minimum 14999, rata-rata 206855.8 , sedangkan nilai maksimum tidak diketahui dalam data ini karena dibatasi maksimal 500000"
      ]
    }
  ]
}

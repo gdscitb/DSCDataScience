{
 "cells": [
  {
   "cell_type": "markdown",
   "metadata": {},
   "source": [
    "# Data Analysis with Python\n",
    "\n",
    "* Name: Brian Mohammed Catraguna\n",
    "* Student ID: 13617115\n",
    "* University: Institut Teknologi Bandung\n",
    "* Starting Date: 11th November 2020\n",
    "* Source of Dataset: https://www.kaggle.com/nasa/kepler-exoplanet-search-results"
   ]
  },
  {
   "cell_type": "markdown",
   "metadata": {},
   "source": [
    "## Kepler Exoplanet Search Results\n",
    "\n",
    "This dataset contains lists of planets that have been observed by NASA that are potentially exoplanets. Exoplanets are planets that have the sufficient living conditions like earth. The dataset also contains features of each of the planets such as the orbital parameters and the conditions. What I'm trying to do here is to create a machine learning model that can predict whether a planet is an exoplanet or not."
   ]
  },
  {
   "cell_type": "markdown",
   "metadata": {},
   "source": [
    "## 1. Data Observation"
   ]
  },
  {
   "cell_type": "markdown",
   "metadata": {},
   "source": [
    "In the Data Observation, I'm just reading in the data and look at the list of features that each of the data points."
   ]
  },
  {
   "cell_type": "code",
   "execution_count": 1,
   "metadata": {},
   "outputs": [],
   "source": [
    "import pandas as pd\n",
    "df = pd.read_csv(\"cumulative.csv\")"
   ]
  },
  {
   "cell_type": "code",
   "execution_count": 2,
   "metadata": {},
   "outputs": [
    {
     "data": {
      "text/html": [
       "<div>\n",
       "<style scoped>\n",
       "    .dataframe tbody tr th:only-of-type {\n",
       "        vertical-align: middle;\n",
       "    }\n",
       "\n",
       "    .dataframe tbody tr th {\n",
       "        vertical-align: top;\n",
       "    }\n",
       "\n",
       "    .dataframe thead th {\n",
       "        text-align: right;\n",
       "    }\n",
       "</style>\n",
       "<table border=\"1\" class=\"dataframe\">\n",
       "  <thead>\n",
       "    <tr style=\"text-align: right;\">\n",
       "      <th></th>\n",
       "      <th>rowid</th>\n",
       "      <th>kepid</th>\n",
       "      <th>kepoi_name</th>\n",
       "      <th>kepler_name</th>\n",
       "      <th>koi_disposition</th>\n",
       "      <th>koi_pdisposition</th>\n",
       "      <th>koi_score</th>\n",
       "      <th>koi_fpflag_nt</th>\n",
       "      <th>koi_fpflag_ss</th>\n",
       "      <th>koi_fpflag_co</th>\n",
       "      <th>...</th>\n",
       "      <th>koi_steff_err2</th>\n",
       "      <th>koi_slogg</th>\n",
       "      <th>koi_slogg_err1</th>\n",
       "      <th>koi_slogg_err2</th>\n",
       "      <th>koi_srad</th>\n",
       "      <th>koi_srad_err1</th>\n",
       "      <th>koi_srad_err2</th>\n",
       "      <th>ra</th>\n",
       "      <th>dec</th>\n",
       "      <th>koi_kepmag</th>\n",
       "    </tr>\n",
       "  </thead>\n",
       "  <tbody>\n",
       "    <tr>\n",
       "      <th>0</th>\n",
       "      <td>1</td>\n",
       "      <td>10797460</td>\n",
       "      <td>K00752.01</td>\n",
       "      <td>Kepler-227 b</td>\n",
       "      <td>CONFIRMED</td>\n",
       "      <td>CANDIDATE</td>\n",
       "      <td>1.000</td>\n",
       "      <td>0</td>\n",
       "      <td>0</td>\n",
       "      <td>0</td>\n",
       "      <td>...</td>\n",
       "      <td>-81.0</td>\n",
       "      <td>4.467</td>\n",
       "      <td>0.064</td>\n",
       "      <td>-0.096</td>\n",
       "      <td>0.927</td>\n",
       "      <td>0.105</td>\n",
       "      <td>-0.061</td>\n",
       "      <td>291.93423</td>\n",
       "      <td>48.141651</td>\n",
       "      <td>15.347</td>\n",
       "    </tr>\n",
       "    <tr>\n",
       "      <th>1</th>\n",
       "      <td>2</td>\n",
       "      <td>10797460</td>\n",
       "      <td>K00752.02</td>\n",
       "      <td>Kepler-227 c</td>\n",
       "      <td>CONFIRMED</td>\n",
       "      <td>CANDIDATE</td>\n",
       "      <td>0.969</td>\n",
       "      <td>0</td>\n",
       "      <td>0</td>\n",
       "      <td>0</td>\n",
       "      <td>...</td>\n",
       "      <td>-81.0</td>\n",
       "      <td>4.467</td>\n",
       "      <td>0.064</td>\n",
       "      <td>-0.096</td>\n",
       "      <td>0.927</td>\n",
       "      <td>0.105</td>\n",
       "      <td>-0.061</td>\n",
       "      <td>291.93423</td>\n",
       "      <td>48.141651</td>\n",
       "      <td>15.347</td>\n",
       "    </tr>\n",
       "    <tr>\n",
       "      <th>2</th>\n",
       "      <td>3</td>\n",
       "      <td>10811496</td>\n",
       "      <td>K00753.01</td>\n",
       "      <td>NaN</td>\n",
       "      <td>FALSE POSITIVE</td>\n",
       "      <td>FALSE POSITIVE</td>\n",
       "      <td>0.000</td>\n",
       "      <td>0</td>\n",
       "      <td>1</td>\n",
       "      <td>0</td>\n",
       "      <td>...</td>\n",
       "      <td>-176.0</td>\n",
       "      <td>4.544</td>\n",
       "      <td>0.044</td>\n",
       "      <td>-0.176</td>\n",
       "      <td>0.868</td>\n",
       "      <td>0.233</td>\n",
       "      <td>-0.078</td>\n",
       "      <td>297.00482</td>\n",
       "      <td>48.134129</td>\n",
       "      <td>15.436</td>\n",
       "    </tr>\n",
       "    <tr>\n",
       "      <th>3</th>\n",
       "      <td>4</td>\n",
       "      <td>10848459</td>\n",
       "      <td>K00754.01</td>\n",
       "      <td>NaN</td>\n",
       "      <td>FALSE POSITIVE</td>\n",
       "      <td>FALSE POSITIVE</td>\n",
       "      <td>0.000</td>\n",
       "      <td>0</td>\n",
       "      <td>1</td>\n",
       "      <td>0</td>\n",
       "      <td>...</td>\n",
       "      <td>-174.0</td>\n",
       "      <td>4.564</td>\n",
       "      <td>0.053</td>\n",
       "      <td>-0.168</td>\n",
       "      <td>0.791</td>\n",
       "      <td>0.201</td>\n",
       "      <td>-0.067</td>\n",
       "      <td>285.53461</td>\n",
       "      <td>48.285210</td>\n",
       "      <td>15.597</td>\n",
       "    </tr>\n",
       "    <tr>\n",
       "      <th>4</th>\n",
       "      <td>5</td>\n",
       "      <td>10854555</td>\n",
       "      <td>K00755.01</td>\n",
       "      <td>Kepler-664 b</td>\n",
       "      <td>CONFIRMED</td>\n",
       "      <td>CANDIDATE</td>\n",
       "      <td>1.000</td>\n",
       "      <td>0</td>\n",
       "      <td>0</td>\n",
       "      <td>0</td>\n",
       "      <td>...</td>\n",
       "      <td>-211.0</td>\n",
       "      <td>4.438</td>\n",
       "      <td>0.070</td>\n",
       "      <td>-0.210</td>\n",
       "      <td>1.046</td>\n",
       "      <td>0.334</td>\n",
       "      <td>-0.133</td>\n",
       "      <td>288.75488</td>\n",
       "      <td>48.226200</td>\n",
       "      <td>15.509</td>\n",
       "    </tr>\n",
       "  </tbody>\n",
       "</table>\n",
       "<p>5 rows × 50 columns</p>\n",
       "</div>"
      ],
      "text/plain": [
       "   rowid     kepid kepoi_name   kepler_name koi_disposition koi_pdisposition  \\\n",
       "0      1  10797460  K00752.01  Kepler-227 b       CONFIRMED        CANDIDATE   \n",
       "1      2  10797460  K00752.02  Kepler-227 c       CONFIRMED        CANDIDATE   \n",
       "2      3  10811496  K00753.01           NaN  FALSE POSITIVE   FALSE POSITIVE   \n",
       "3      4  10848459  K00754.01           NaN  FALSE POSITIVE   FALSE POSITIVE   \n",
       "4      5  10854555  K00755.01  Kepler-664 b       CONFIRMED        CANDIDATE   \n",
       "\n",
       "   koi_score  koi_fpflag_nt  koi_fpflag_ss  koi_fpflag_co  ...  \\\n",
       "0      1.000              0              0              0  ...   \n",
       "1      0.969              0              0              0  ...   \n",
       "2      0.000              0              1              0  ...   \n",
       "3      0.000              0              1              0  ...   \n",
       "4      1.000              0              0              0  ...   \n",
       "\n",
       "   koi_steff_err2  koi_slogg  koi_slogg_err1  koi_slogg_err2  koi_srad  \\\n",
       "0           -81.0      4.467           0.064          -0.096     0.927   \n",
       "1           -81.0      4.467           0.064          -0.096     0.927   \n",
       "2          -176.0      4.544           0.044          -0.176     0.868   \n",
       "3          -174.0      4.564           0.053          -0.168     0.791   \n",
       "4          -211.0      4.438           0.070          -0.210     1.046   \n",
       "\n",
       "   koi_srad_err1  koi_srad_err2         ra        dec  koi_kepmag  \n",
       "0          0.105         -0.061  291.93423  48.141651      15.347  \n",
       "1          0.105         -0.061  291.93423  48.141651      15.347  \n",
       "2          0.233         -0.078  297.00482  48.134129      15.436  \n",
       "3          0.201         -0.067  285.53461  48.285210      15.597  \n",
       "4          0.334         -0.133  288.75488  48.226200      15.509  \n",
       "\n",
       "[5 rows x 50 columns]"
      ]
     },
     "execution_count": 2,
     "metadata": {},
     "output_type": "execute_result"
    }
   ],
   "source": [
    "df.head()"
   ]
  },
  {
   "cell_type": "code",
   "execution_count": 3,
   "metadata": {},
   "outputs": [
    {
     "name": "stdout",
     "output_type": "stream",
     "text": [
      "<class 'pandas.core.frame.DataFrame'>\n",
      "RangeIndex: 9564 entries, 0 to 9563\n",
      "Data columns (total 50 columns):\n",
      " #   Column             Non-Null Count  Dtype  \n",
      "---  ------             --------------  -----  \n",
      " 0   rowid              9564 non-null   int64  \n",
      " 1   kepid              9564 non-null   int64  \n",
      " 2   kepoi_name         9564 non-null   object \n",
      " 3   kepler_name        2294 non-null   object \n",
      " 4   koi_disposition    9564 non-null   object \n",
      " 5   koi_pdisposition   9564 non-null   object \n",
      " 6   koi_score          8054 non-null   float64\n",
      " 7   koi_fpflag_nt      9564 non-null   int64  \n",
      " 8   koi_fpflag_ss      9564 non-null   int64  \n",
      " 9   koi_fpflag_co      9564 non-null   int64  \n",
      " 10  koi_fpflag_ec      9564 non-null   int64  \n",
      " 11  koi_period         9564 non-null   float64\n",
      " 12  koi_period_err1    9110 non-null   float64\n",
      " 13  koi_period_err2    9110 non-null   float64\n",
      " 14  koi_time0bk        9564 non-null   float64\n",
      " 15  koi_time0bk_err1   9110 non-null   float64\n",
      " 16  koi_time0bk_err2   9110 non-null   float64\n",
      " 17  koi_impact         9201 non-null   float64\n",
      " 18  koi_impact_err1    9110 non-null   float64\n",
      " 19  koi_impact_err2    9110 non-null   float64\n",
      " 20  koi_duration       9564 non-null   float64\n",
      " 21  koi_duration_err1  9110 non-null   float64\n",
      " 22  koi_duration_err2  9110 non-null   float64\n",
      " 23  koi_depth          9201 non-null   float64\n",
      " 24  koi_depth_err1     9110 non-null   float64\n",
      " 25  koi_depth_err2     9110 non-null   float64\n",
      " 26  koi_prad           9201 non-null   float64\n",
      " 27  koi_prad_err1      9201 non-null   float64\n",
      " 28  koi_prad_err2      9201 non-null   float64\n",
      " 29  koi_teq            9201 non-null   float64\n",
      " 30  koi_teq_err1       0 non-null      float64\n",
      " 31  koi_teq_err2       0 non-null      float64\n",
      " 32  koi_insol          9243 non-null   float64\n",
      " 33  koi_insol_err1     9243 non-null   float64\n",
      " 34  koi_insol_err2     9243 non-null   float64\n",
      " 35  koi_model_snr      9201 non-null   float64\n",
      " 36  koi_tce_plnt_num   9218 non-null   float64\n",
      " 37  koi_tce_delivname  9218 non-null   object \n",
      " 38  koi_steff          9201 non-null   float64\n",
      " 39  koi_steff_err1     9096 non-null   float64\n",
      " 40  koi_steff_err2     9081 non-null   float64\n",
      " 41  koi_slogg          9201 non-null   float64\n",
      " 42  koi_slogg_err1     9096 non-null   float64\n",
      " 43  koi_slogg_err2     9096 non-null   float64\n",
      " 44  koi_srad           9201 non-null   float64\n",
      " 45  koi_srad_err1      9096 non-null   float64\n",
      " 46  koi_srad_err2      9096 non-null   float64\n",
      " 47  ra                 9564 non-null   float64\n",
      " 48  dec                9564 non-null   float64\n",
      " 49  koi_kepmag         9563 non-null   float64\n",
      "dtypes: float64(39), int64(6), object(5)\n",
      "memory usage: 3.6+ MB\n"
     ]
    }
   ],
   "source": [
    "df.info()"
   ]
  },
  {
   "cell_type": "markdown",
   "metadata": {},
   "source": [
    "From what we can see above, the data is really messy. Most of the datas have missing values and thus later needs to be cleaned for a better data."
   ]
  },
  {
   "cell_type": "code",
   "execution_count": 4,
   "metadata": {},
   "outputs": [
    {
     "name": "stdout",
     "output_type": "stream",
     "text": [
      "Number of features: 9564\n",
      "Number of observations: 50\n"
     ]
    }
   ],
   "source": [
    "features, observations = df.shape\n",
    "print(\"Number of features: {0}\\nNumber of observations: {1}\".format(features,observations))"
   ]
  },
  {
   "cell_type": "code",
   "execution_count": 5,
   "metadata": {},
   "outputs": [
    {
     "data": {
      "text/plain": [
       "FALSE POSITIVE    5023\n",
       "CONFIRMED         2293\n",
       "CANDIDATE         2248\n",
       "Name: koi_disposition, dtype: int64"
      ]
     },
     "execution_count": 5,
     "metadata": {},
     "output_type": "execute_result"
    }
   ],
   "source": [
    "df[\"koi_disposition\"].value_counts()"
   ]
  },
  {
   "cell_type": "markdown",
   "metadata": {},
   "source": [
    "It turns out that the data have planets that are just candidates. Meaning they have not yet been determined whether they are confirmed or not as an exoplanet."
   ]
  },
  {
   "cell_type": "code",
   "execution_count": 6,
   "metadata": {},
   "outputs": [
    {
     "data": {
      "text/plain": [
       "rowid                  int64\n",
       "kepid                  int64\n",
       "kepoi_name            object\n",
       "kepler_name           object\n",
       "koi_disposition       object\n",
       "koi_pdisposition      object\n",
       "koi_score            float64\n",
       "koi_fpflag_nt          int64\n",
       "koi_fpflag_ss          int64\n",
       "koi_fpflag_co          int64\n",
       "koi_fpflag_ec          int64\n",
       "koi_period           float64\n",
       "koi_period_err1      float64\n",
       "koi_period_err2      float64\n",
       "koi_time0bk          float64\n",
       "koi_time0bk_err1     float64\n",
       "koi_time0bk_err2     float64\n",
       "koi_impact           float64\n",
       "koi_impact_err1      float64\n",
       "koi_impact_err2      float64\n",
       "koi_duration         float64\n",
       "koi_duration_err1    float64\n",
       "koi_duration_err2    float64\n",
       "koi_depth            float64\n",
       "koi_depth_err1       float64\n",
       "koi_depth_err2       float64\n",
       "koi_prad             float64\n",
       "koi_prad_err1        float64\n",
       "koi_prad_err2        float64\n",
       "koi_teq              float64\n",
       "koi_teq_err1         float64\n",
       "koi_teq_err2         float64\n",
       "koi_insol            float64\n",
       "koi_insol_err1       float64\n",
       "koi_insol_err2       float64\n",
       "koi_model_snr        float64\n",
       "koi_tce_plnt_num     float64\n",
       "koi_tce_delivname     object\n",
       "koi_steff            float64\n",
       "koi_steff_err1       float64\n",
       "koi_steff_err2       float64\n",
       "koi_slogg            float64\n",
       "koi_slogg_err1       float64\n",
       "koi_slogg_err2       float64\n",
       "koi_srad             float64\n",
       "koi_srad_err1        float64\n",
       "koi_srad_err2        float64\n",
       "ra                   float64\n",
       "dec                  float64\n",
       "koi_kepmag           float64\n",
       "dtype: object"
      ]
     },
     "execution_count": 6,
     "metadata": {},
     "output_type": "execute_result"
    }
   ],
   "source": [
    "df.dtypes"
   ]
  },
  {
   "cell_type": "code",
   "execution_count": 7,
   "metadata": {},
   "outputs": [
    {
     "data": {
      "text/html": [
       "<div>\n",
       "<style scoped>\n",
       "    .dataframe tbody tr th:only-of-type {\n",
       "        vertical-align: middle;\n",
       "    }\n",
       "\n",
       "    .dataframe tbody tr th {\n",
       "        vertical-align: top;\n",
       "    }\n",
       "\n",
       "    .dataframe thead th {\n",
       "        text-align: right;\n",
       "    }\n",
       "</style>\n",
       "<table border=\"1\" class=\"dataframe\">\n",
       "  <thead>\n",
       "    <tr style=\"text-align: right;\">\n",
       "      <th></th>\n",
       "      <th>rowid</th>\n",
       "      <th>kepid</th>\n",
       "      <th>kepoi_name</th>\n",
       "      <th>kepler_name</th>\n",
       "      <th>koi_disposition</th>\n",
       "      <th>koi_pdisposition</th>\n",
       "      <th>koi_score</th>\n",
       "      <th>koi_fpflag_nt</th>\n",
       "      <th>koi_fpflag_ss</th>\n",
       "      <th>koi_fpflag_co</th>\n",
       "      <th>...</th>\n",
       "      <th>koi_steff_err2</th>\n",
       "      <th>koi_slogg</th>\n",
       "      <th>koi_slogg_err1</th>\n",
       "      <th>koi_slogg_err2</th>\n",
       "      <th>koi_srad</th>\n",
       "      <th>koi_srad_err1</th>\n",
       "      <th>koi_srad_err2</th>\n",
       "      <th>ra</th>\n",
       "      <th>dec</th>\n",
       "      <th>koi_kepmag</th>\n",
       "    </tr>\n",
       "  </thead>\n",
       "  <tbody>\n",
       "    <tr>\n",
       "      <th>count</th>\n",
       "      <td>9564.000000</td>\n",
       "      <td>9.564000e+03</td>\n",
       "      <td>9564</td>\n",
       "      <td>2294</td>\n",
       "      <td>9564</td>\n",
       "      <td>9564</td>\n",
       "      <td>8054.000000</td>\n",
       "      <td>9564.000000</td>\n",
       "      <td>9564.000000</td>\n",
       "      <td>9564.000000</td>\n",
       "      <td>...</td>\n",
       "      <td>9081.000000</td>\n",
       "      <td>9201.000000</td>\n",
       "      <td>9096.000000</td>\n",
       "      <td>9096.000000</td>\n",
       "      <td>9201.000000</td>\n",
       "      <td>9096.000000</td>\n",
       "      <td>9096.000000</td>\n",
       "      <td>9564.000000</td>\n",
       "      <td>9564.000000</td>\n",
       "      <td>9563.000000</td>\n",
       "    </tr>\n",
       "    <tr>\n",
       "      <th>unique</th>\n",
       "      <td>NaN</td>\n",
       "      <td>NaN</td>\n",
       "      <td>9564</td>\n",
       "      <td>2294</td>\n",
       "      <td>3</td>\n",
       "      <td>2</td>\n",
       "      <td>NaN</td>\n",
       "      <td>NaN</td>\n",
       "      <td>NaN</td>\n",
       "      <td>NaN</td>\n",
       "      <td>...</td>\n",
       "      <td>NaN</td>\n",
       "      <td>NaN</td>\n",
       "      <td>NaN</td>\n",
       "      <td>NaN</td>\n",
       "      <td>NaN</td>\n",
       "      <td>NaN</td>\n",
       "      <td>NaN</td>\n",
       "      <td>NaN</td>\n",
       "      <td>NaN</td>\n",
       "      <td>NaN</td>\n",
       "    </tr>\n",
       "    <tr>\n",
       "      <th>top</th>\n",
       "      <td>NaN</td>\n",
       "      <td>NaN</td>\n",
       "      <td>K05574.01</td>\n",
       "      <td>Kepler-90 h</td>\n",
       "      <td>FALSE POSITIVE</td>\n",
       "      <td>FALSE POSITIVE</td>\n",
       "      <td>NaN</td>\n",
       "      <td>NaN</td>\n",
       "      <td>NaN</td>\n",
       "      <td>NaN</td>\n",
       "      <td>...</td>\n",
       "      <td>NaN</td>\n",
       "      <td>NaN</td>\n",
       "      <td>NaN</td>\n",
       "      <td>NaN</td>\n",
       "      <td>NaN</td>\n",
       "      <td>NaN</td>\n",
       "      <td>NaN</td>\n",
       "      <td>NaN</td>\n",
       "      <td>NaN</td>\n",
       "      <td>NaN</td>\n",
       "    </tr>\n",
       "    <tr>\n",
       "      <th>freq</th>\n",
       "      <td>NaN</td>\n",
       "      <td>NaN</td>\n",
       "      <td>1</td>\n",
       "      <td>1</td>\n",
       "      <td>5023</td>\n",
       "      <td>5068</td>\n",
       "      <td>NaN</td>\n",
       "      <td>NaN</td>\n",
       "      <td>NaN</td>\n",
       "      <td>NaN</td>\n",
       "      <td>...</td>\n",
       "      <td>NaN</td>\n",
       "      <td>NaN</td>\n",
       "      <td>NaN</td>\n",
       "      <td>NaN</td>\n",
       "      <td>NaN</td>\n",
       "      <td>NaN</td>\n",
       "      <td>NaN</td>\n",
       "      <td>NaN</td>\n",
       "      <td>NaN</td>\n",
       "      <td>NaN</td>\n",
       "    </tr>\n",
       "    <tr>\n",
       "      <th>mean</th>\n",
       "      <td>4782.500000</td>\n",
       "      <td>7.690628e+06</td>\n",
       "      <td>NaN</td>\n",
       "      <td>NaN</td>\n",
       "      <td>NaN</td>\n",
       "      <td>NaN</td>\n",
       "      <td>0.480829</td>\n",
       "      <td>0.188206</td>\n",
       "      <td>0.231598</td>\n",
       "      <td>0.194898</td>\n",
       "      <td>...</td>\n",
       "      <td>-162.265059</td>\n",
       "      <td>4.310157</td>\n",
       "      <td>0.120738</td>\n",
       "      <td>-0.143161</td>\n",
       "      <td>1.728712</td>\n",
       "      <td>0.362292</td>\n",
       "      <td>-0.394806</td>\n",
       "      <td>292.060163</td>\n",
       "      <td>43.810433</td>\n",
       "      <td>14.264606</td>\n",
       "    </tr>\n",
       "    <tr>\n",
       "      <th>std</th>\n",
       "      <td>2761.033321</td>\n",
       "      <td>2.653459e+06</td>\n",
       "      <td>NaN</td>\n",
       "      <td>NaN</td>\n",
       "      <td>NaN</td>\n",
       "      <td>NaN</td>\n",
       "      <td>0.476928</td>\n",
       "      <td>0.390897</td>\n",
       "      <td>0.421875</td>\n",
       "      <td>0.396143</td>\n",
       "      <td>...</td>\n",
       "      <td>72.746348</td>\n",
       "      <td>0.432606</td>\n",
       "      <td>0.132837</td>\n",
       "      <td>0.085477</td>\n",
       "      <td>6.127185</td>\n",
       "      <td>0.930870</td>\n",
       "      <td>2.168213</td>\n",
       "      <td>4.766657</td>\n",
       "      <td>3.601243</td>\n",
       "      <td>1.385448</td>\n",
       "    </tr>\n",
       "    <tr>\n",
       "      <th>min</th>\n",
       "      <td>1.000000</td>\n",
       "      <td>7.574500e+05</td>\n",
       "      <td>NaN</td>\n",
       "      <td>NaN</td>\n",
       "      <td>NaN</td>\n",
       "      <td>NaN</td>\n",
       "      <td>0.000000</td>\n",
       "      <td>0.000000</td>\n",
       "      <td>0.000000</td>\n",
       "      <td>0.000000</td>\n",
       "      <td>...</td>\n",
       "      <td>-1762.000000</td>\n",
       "      <td>0.047000</td>\n",
       "      <td>0.000000</td>\n",
       "      <td>-1.207000</td>\n",
       "      <td>0.109000</td>\n",
       "      <td>0.000000</td>\n",
       "      <td>-116.137000</td>\n",
       "      <td>279.852720</td>\n",
       "      <td>36.577381</td>\n",
       "      <td>6.966000</td>\n",
       "    </tr>\n",
       "    <tr>\n",
       "      <th>25%</th>\n",
       "      <td>2391.750000</td>\n",
       "      <td>5.556034e+06</td>\n",
       "      <td>NaN</td>\n",
       "      <td>NaN</td>\n",
       "      <td>NaN</td>\n",
       "      <td>NaN</td>\n",
       "      <td>0.000000</td>\n",
       "      <td>0.000000</td>\n",
       "      <td>0.000000</td>\n",
       "      <td>0.000000</td>\n",
       "      <td>...</td>\n",
       "      <td>-198.000000</td>\n",
       "      <td>4.218000</td>\n",
       "      <td>0.042000</td>\n",
       "      <td>-0.196000</td>\n",
       "      <td>0.829000</td>\n",
       "      <td>0.129000</td>\n",
       "      <td>-0.250000</td>\n",
       "      <td>288.660770</td>\n",
       "      <td>40.777173</td>\n",
       "      <td>13.440000</td>\n",
       "    </tr>\n",
       "    <tr>\n",
       "      <th>50%</th>\n",
       "      <td>4782.500000</td>\n",
       "      <td>7.906892e+06</td>\n",
       "      <td>NaN</td>\n",
       "      <td>NaN</td>\n",
       "      <td>NaN</td>\n",
       "      <td>NaN</td>\n",
       "      <td>0.334000</td>\n",
       "      <td>0.000000</td>\n",
       "      <td>0.000000</td>\n",
       "      <td>0.000000</td>\n",
       "      <td>...</td>\n",
       "      <td>-160.000000</td>\n",
       "      <td>4.438000</td>\n",
       "      <td>0.070000</td>\n",
       "      <td>-0.128000</td>\n",
       "      <td>1.000000</td>\n",
       "      <td>0.251000</td>\n",
       "      <td>-0.111000</td>\n",
       "      <td>292.261125</td>\n",
       "      <td>43.677504</td>\n",
       "      <td>14.520000</td>\n",
       "    </tr>\n",
       "    <tr>\n",
       "      <th>75%</th>\n",
       "      <td>7173.250000</td>\n",
       "      <td>9.873066e+06</td>\n",
       "      <td>NaN</td>\n",
       "      <td>NaN</td>\n",
       "      <td>NaN</td>\n",
       "      <td>NaN</td>\n",
       "      <td>0.998000</td>\n",
       "      <td>0.000000</td>\n",
       "      <td>0.000000</td>\n",
       "      <td>0.000000</td>\n",
       "      <td>...</td>\n",
       "      <td>-114.000000</td>\n",
       "      <td>4.543000</td>\n",
       "      <td>0.149000</td>\n",
       "      <td>-0.088000</td>\n",
       "      <td>1.345000</td>\n",
       "      <td>0.364000</td>\n",
       "      <td>-0.069000</td>\n",
       "      <td>295.859160</td>\n",
       "      <td>46.714611</td>\n",
       "      <td>15.322000</td>\n",
       "    </tr>\n",
       "    <tr>\n",
       "      <th>max</th>\n",
       "      <td>9564.000000</td>\n",
       "      <td>1.293514e+07</td>\n",
       "      <td>NaN</td>\n",
       "      <td>NaN</td>\n",
       "      <td>NaN</td>\n",
       "      <td>NaN</td>\n",
       "      <td>1.000000</td>\n",
       "      <td>1.000000</td>\n",
       "      <td>1.000000</td>\n",
       "      <td>1.000000</td>\n",
       "      <td>...</td>\n",
       "      <td>0.000000</td>\n",
       "      <td>5.364000</td>\n",
       "      <td>1.472000</td>\n",
       "      <td>0.000000</td>\n",
       "      <td>229.908000</td>\n",
       "      <td>33.091000</td>\n",
       "      <td>0.000000</td>\n",
       "      <td>301.720760</td>\n",
       "      <td>52.336010</td>\n",
       "      <td>20.003000</td>\n",
       "    </tr>\n",
       "  </tbody>\n",
       "</table>\n",
       "<p>11 rows × 50 columns</p>\n",
       "</div>"
      ],
      "text/plain": [
       "              rowid         kepid kepoi_name  kepler_name koi_disposition  \\\n",
       "count   9564.000000  9.564000e+03       9564         2294            9564   \n",
       "unique          NaN           NaN       9564         2294               3   \n",
       "top             NaN           NaN  K05574.01  Kepler-90 h  FALSE POSITIVE   \n",
       "freq            NaN           NaN          1            1            5023   \n",
       "mean    4782.500000  7.690628e+06        NaN          NaN             NaN   \n",
       "std     2761.033321  2.653459e+06        NaN          NaN             NaN   \n",
       "min        1.000000  7.574500e+05        NaN          NaN             NaN   \n",
       "25%     2391.750000  5.556034e+06        NaN          NaN             NaN   \n",
       "50%     4782.500000  7.906892e+06        NaN          NaN             NaN   \n",
       "75%     7173.250000  9.873066e+06        NaN          NaN             NaN   \n",
       "max     9564.000000  1.293514e+07        NaN          NaN             NaN   \n",
       "\n",
       "       koi_pdisposition    koi_score  koi_fpflag_nt  koi_fpflag_ss  \\\n",
       "count              9564  8054.000000    9564.000000    9564.000000   \n",
       "unique                2          NaN            NaN            NaN   \n",
       "top      FALSE POSITIVE          NaN            NaN            NaN   \n",
       "freq               5068          NaN            NaN            NaN   \n",
       "mean                NaN     0.480829       0.188206       0.231598   \n",
       "std                 NaN     0.476928       0.390897       0.421875   \n",
       "min                 NaN     0.000000       0.000000       0.000000   \n",
       "25%                 NaN     0.000000       0.000000       0.000000   \n",
       "50%                 NaN     0.334000       0.000000       0.000000   \n",
       "75%                 NaN     0.998000       0.000000       0.000000   \n",
       "max                 NaN     1.000000       1.000000       1.000000   \n",
       "\n",
       "        koi_fpflag_co  ...  koi_steff_err2    koi_slogg  koi_slogg_err1  \\\n",
       "count     9564.000000  ...     9081.000000  9201.000000     9096.000000   \n",
       "unique            NaN  ...             NaN          NaN             NaN   \n",
       "top               NaN  ...             NaN          NaN             NaN   \n",
       "freq              NaN  ...             NaN          NaN             NaN   \n",
       "mean         0.194898  ...     -162.265059     4.310157        0.120738   \n",
       "std          0.396143  ...       72.746348     0.432606        0.132837   \n",
       "min          0.000000  ...    -1762.000000     0.047000        0.000000   \n",
       "25%          0.000000  ...     -198.000000     4.218000        0.042000   \n",
       "50%          0.000000  ...     -160.000000     4.438000        0.070000   \n",
       "75%          0.000000  ...     -114.000000     4.543000        0.149000   \n",
       "max          1.000000  ...        0.000000     5.364000        1.472000   \n",
       "\n",
       "        koi_slogg_err2     koi_srad  koi_srad_err1  koi_srad_err2  \\\n",
       "count      9096.000000  9201.000000    9096.000000    9096.000000   \n",
       "unique             NaN          NaN            NaN            NaN   \n",
       "top                NaN          NaN            NaN            NaN   \n",
       "freq               NaN          NaN            NaN            NaN   \n",
       "mean         -0.143161     1.728712       0.362292      -0.394806   \n",
       "std           0.085477     6.127185       0.930870       2.168213   \n",
       "min          -1.207000     0.109000       0.000000    -116.137000   \n",
       "25%          -0.196000     0.829000       0.129000      -0.250000   \n",
       "50%          -0.128000     1.000000       0.251000      -0.111000   \n",
       "75%          -0.088000     1.345000       0.364000      -0.069000   \n",
       "max           0.000000   229.908000      33.091000       0.000000   \n",
       "\n",
       "                 ra          dec   koi_kepmag  \n",
       "count   9564.000000  9564.000000  9563.000000  \n",
       "unique          NaN          NaN          NaN  \n",
       "top             NaN          NaN          NaN  \n",
       "freq            NaN          NaN          NaN  \n",
       "mean     292.060163    43.810433    14.264606  \n",
       "std        4.766657     3.601243     1.385448  \n",
       "min      279.852720    36.577381     6.966000  \n",
       "25%      288.660770    40.777173    13.440000  \n",
       "50%      292.261125    43.677504    14.520000  \n",
       "75%      295.859160    46.714611    15.322000  \n",
       "max      301.720760    52.336010    20.003000  \n",
       "\n",
       "[11 rows x 50 columns]"
      ]
     },
     "execution_count": 7,
     "metadata": {},
     "output_type": "execute_result"
    }
   ],
   "source": [
    "df.describe(include=\"all\")"
   ]
  },
  {
   "cell_type": "markdown",
   "metadata": {},
   "source": [
    "## 2. Data Cleaning"
   ]
  },
  {
   "cell_type": "markdown",
   "metadata": {},
   "source": [
    "In the data cleaning, we're trying to get rid of datas that are not important to the model later, such as the uncertainties and the datas that have not yet been determined whether it is an exoplanet or not."
   ]
  },
  {
   "cell_type": "code",
   "execution_count": 8,
   "metadata": {},
   "outputs": [],
   "source": [
    "#There are too many features that are unimportant, we need to delete the uncertainties.\n",
    "columns = list(df)\n",
    "for i,column in enumerate(columns):\n",
    "    if column[len(column)-4:len(column)] == \"err1\" or column[len(column)-4:len(column)] == \"err2\":\n",
    "        del df[columns[i]]\n",
    "#Delete prediction disposition\n",
    "del df[\"koi_pdisposition\"]"
   ]
  },
  {
   "cell_type": "code",
   "execution_count": 9,
   "metadata": {},
   "outputs": [],
   "source": [
    "#Delete rows that have no disposition\n",
    "df = df[~df['koi_disposition'].isin(['NOT DISPOSITIONED'])]\n",
    "#Delete rows that is just a candidate\n",
    "df = df[~df['koi_disposition'].isin(['CANDIDATE'])]"
   ]
  },
  {
   "cell_type": "markdown",
   "metadata": {},
   "source": [
    "## 3. Data Visualisation"
   ]
  },
  {
   "cell_type": "markdown",
   "metadata": {},
   "source": [
    "For the Data Visualisation, we're just using one library which is matplotlib which can handle most of plotting functions that we need."
   ]
  },
  {
   "cell_type": "code",
   "execution_count": 10,
   "metadata": {},
   "outputs": [],
   "source": [
    "import matplotlib.pyplot as plt"
   ]
  },
  {
   "cell_type": "code",
   "execution_count": 11,
   "metadata": {},
   "outputs": [
    {
     "data": {
      "text/plain": [
       "Text(0, 0.5, 'Declination (deg)')"
      ]
     },
     "execution_count": 11,
     "metadata": {},
     "output_type": "execute_result"
    },
    {
     "data": {
      "image/png": "[encoded data removed]",
      "text/plain": [
       "<Figure size 432x288 with 1 Axes>"
      ]
     },
     "metadata": {
      "needs_background": "light"
     },
     "output_type": "display_data"
    }
   ],
   "source": [
    "#location of the Exoplanets\n",
    "disposition = list(df['koi_disposition'])\n",
    "color = []\n",
    "for result in disposition:\n",
    "    if result == 'FALSE POSITIVE':\n",
    "        color.append('r')\n",
    "    else:\n",
    "        color.append('b')\n",
    "fig,ax = plt.subplots()\n",
    "ax.scatter(df['ra'],df['dec'],color=color,label=disposition)\n",
    "plt.xlabel('Right Ascension (deg)')\n",
    "plt.ylabel('Declination (deg)')"
   ]
  },
  {
   "cell_type": "markdown",
   "metadata": {},
   "source": [
    "Above is the locations of the exoplanets from the data. The blue one is exoplanets, the red one is not. We can see that most exoplanets tend to be located on the left, but it is still dispersed randomly towards the right."
   ]
  },
  {
   "cell_type": "code",
   "execution_count": 12,
   "metadata": {},
   "outputs": [
    {
     "data": {
      "text/plain": [
       "Text(0, 0.5, 'Duration')"
      ]
     },
     "execution_count": 12,
     "metadata": {},
     "output_type": "execute_result"
    },
    {
     "data": {
      "image/png": "[encoded data removed]",
      "text/plain": [
       "<Figure size 432x288 with 1 Axes>"
      ]
     },
     "metadata": {
      "needs_background": "light"
     },
     "output_type": "display_data"
    }
   ],
   "source": [
    "#Period and Duration\n",
    "fig,ax = plt.subplots()\n",
    "ax.scatter(df['koi_period'],df['koi_duration'])\n",
    "plt.xlabel('Period')\n",
    "plt.ylabel('Duration')"
   ]
  },
  {
   "cell_type": "markdown",
   "metadata": {},
   "source": [
    "We can see that most of the planets in the data do not have that large of a duration."
   ]
  },
  {
   "cell_type": "code",
   "execution_count": 13,
   "metadata": {},
   "outputs": [
    {
     "data": {
      "text/plain": [
       "Text(0, 0.5, 'Equilibrium Temperature')"
      ]
     },
     "execution_count": 13,
     "metadata": {},
     "output_type": "execute_result"
    },
    {
     "data": {
      "image/png": "[encoded data removed]",
      "text/plain": [
       "<Figure size 432x288 with 1 Axes>"
      ]
     },
     "metadata": {
      "needs_background": "light"
     },
     "output_type": "display_data"
    }
   ],
   "source": [
    "#Insol and Teq\n",
    "fig,ax = plt.subplots()\n",
    "ax.scatter(df['koi_insol'],df['koi_teq'])\n",
    "plt.xlabel('Insolation Flux')\n",
    "plt.ylabel('Equilibrium Temperature')"
   ]
  },
  {
   "cell_type": "markdown",
   "metadata": {},
   "source": [
    "We can see that there is a pattern between the equilibrium temperature and the insulation flux. It looks like a quadratic equation that can be modelled and there is a correlation between these two variables."
   ]
  },
  {
   "cell_type": "markdown",
   "metadata": {},
   "source": [
    "## 4. Data Preprocessing"
   ]
  },
  {
   "cell_type": "markdown",
   "metadata": {},
   "source": [
    "Since many of the datas have different null values, thus we need to delete the columns that have different null values that the label column which is the \"koi_disposition\"."
   ]
  },
  {
   "cell_type": "code",
   "execution_count": 14,
   "metadata": {},
   "outputs": [],
   "source": [
    "df = df.drop(columns = [\n",
    "    'rowid',\n",
    "    'kepid',\n",
    "    'kepoi_name',\n",
    "    'kepler_name',\n",
    "    'koi_score',\n",
    "    'koi_impact',\n",
    "    'koi_depth',\n",
    "    'koi_prad',\n",
    "    'koi_teq',\n",
    "    'koi_insol',\n",
    "    'koi_model_snr',\n",
    "    'koi_tce_plnt_num',\n",
    "    'koi_tce_delivname',\n",
    "    'koi_steff',\n",
    "    'koi_slogg',\n",
    "    'koi_srad',\n",
    "    'koi_kepmag'\n",
    "])"
   ]
  },
  {
   "cell_type": "code",
   "execution_count": 15,
   "metadata": {
    "scrolled": true
   },
   "outputs": [
    {
     "name": "stdout",
     "output_type": "stream",
     "text": [
      "<class 'pandas.core.frame.DataFrame'>\n",
      "Int64Index: 7316 entries, 0 to 9563\n",
      "Data columns (total 10 columns):\n",
      " #   Column           Non-Null Count  Dtype  \n",
      "---  ------           --------------  -----  \n",
      " 0   koi_disposition  7316 non-null   object \n",
      " 1   koi_fpflag_nt    7316 non-null   int64  \n",
      " 2   koi_fpflag_ss    7316 non-null   int64  \n",
      " 3   koi_fpflag_co    7316 non-null   int64  \n",
      " 4   koi_fpflag_ec    7316 non-null   int64  \n",
      " 5   koi_period       7316 non-null   float64\n",
      " 6   koi_time0bk      7316 non-null   float64\n",
      " 7   koi_duration     7316 non-null   float64\n",
      " 8   ra               7316 non-null   float64\n",
      " 9   dec              7316 non-null   float64\n",
      "dtypes: float64(5), int64(4), object(1)\n",
      "memory usage: 628.7+ KB\n"
     ]
    }
   ],
   "source": [
    "df.info()"
   ]
  },
  {
   "cell_type": "markdown",
   "metadata": {},
   "source": [
    "Above is the final dataset that will be used for training. it consists of only 9 features. The next step would be to scale the data by normalizing them to a range of 0 to 1."
   ]
  },
  {
   "cell_type": "code",
   "execution_count": 16,
   "metadata": {},
   "outputs": [],
   "source": [
    "#Feature centering and scaling\n",
    "from sklearn.preprocessing import Normalizer\n",
    "\n",
    "norm_scaler = Normalizer()\n",
    "\n",
    "columns = list(df.columns)\n",
    "columns.remove('koi_disposition')\n",
    "\n",
    "df[columns] = norm_scaler.fit_transform(df[columns])"
   ]
  },
  {
   "cell_type": "markdown",
   "metadata": {},
   "source": [
    "Other than scaling, we need to also encode the data of the label, to 1 or 0."
   ]
  },
  {
   "cell_type": "code",
   "execution_count": 17,
   "metadata": {
    "scrolled": true
   },
   "outputs": [],
   "source": [
    "#Encoding\n",
    "for index in df.index:\n",
    "    if df.loc[index,'koi_disposition']=='CONFIRMED':\n",
    "        df.loc[index,'koi_disposition'] = 1\n",
    "    else:\n",
    "        df.loc[index,'koi_disposition'] = 0"
   ]
  },
  {
   "cell_type": "markdown",
   "metadata": {},
   "source": [
    "## 5. Model Development"
   ]
  },
  {
   "cell_type": "markdown",
   "metadata": {},
   "source": [
    "When modelling the machine learning model, we are using the K - nearest neighbors algorithm. This can be done with the help of sklearn library."
   ]
  },
  {
   "cell_type": "code",
   "execution_count": 19,
   "metadata": {
    "scrolled": true
   },
   "outputs": [],
   "source": [
    "#Import library\n",
    "import numpy as np\n",
    "from sklearn.neighbors import KNeighborsClassifier\n",
    "from sklearn.model_selection import train_test_split\n",
    "from sklearn.metrics import accuracy_score\n",
    "\n",
    "#Creating the feature and label variable\n",
    "x = df.drop(['koi_fpflag_nt',\n",
    "             'koi_fpflag_ss',\n",
    "             'koi_fpflag_co',\n",
    "             'koi_fpflag_ec',\n",
    "             'koi_period',\n",
    "             'koi_time0bk',\n",
    "             'koi_duration',\n",
    "             'ra',\n",
    "             'dec'\n",
    "            ], axis=1)\n",
    "y = df[\"koi_disposition\"]\n",
    "y = y.astype('int')\n",
    "\n",
    "#Splitting the data to train and test.\n",
    "x_train, x_test, y_train, y_test = train_test_split(x, y, test_size=0.2, \n",
    "                                                   random_state = 10)"
   ]
  },
  {
   "cell_type": "code",
   "execution_count": 20,
   "metadata": {},
   "outputs": [
    {
     "data": {
      "text/plain": [
       "KNeighborsClassifier(n_neighbors=20)"
      ]
     },
     "execution_count": 20,
     "metadata": {},
     "output_type": "execute_result"
    }
   ],
   "source": [
    "neigh = KNeighborsClassifier(n_neighbors=20,weights=\"uniform\")\n",
    "neigh.fit(x_train, y_train)"
   ]
  },
  {
   "cell_type": "markdown",
   "metadata": {},
   "source": [
    "## 6. Model Test"
   ]
  },
  {
   "cell_type": "markdown",
   "metadata": {},
   "source": [
    "After the model has been made and trained, we need to test out the model whether it has the accuracy that we need."
   ]
  },
  {
   "cell_type": "code",
   "execution_count": 21,
   "metadata": {},
   "outputs": [],
   "source": [
    "y_predict = neigh.predict(x_test)"
   ]
  },
  {
   "cell_type": "code",
   "execution_count": 22,
   "metadata": {},
   "outputs": [
    {
     "data": {
      "text/html": [
       "<div>\n",
       "<style scoped>\n",
       "    .dataframe tbody tr th:only-of-type {\n",
       "        vertical-align: middle;\n",
       "    }\n",
       "\n",
       "    .dataframe tbody tr th {\n",
       "        vertical-align: top;\n",
       "    }\n",
       "\n",
       "    .dataframe thead th {\n",
       "        text-align: right;\n",
       "    }\n",
       "</style>\n",
       "<table border=\"1\" class=\"dataframe\">\n",
       "  <thead>\n",
       "    <tr style=\"text-align: right;\">\n",
       "      <th></th>\n",
       "      <th>0</th>\n",
       "      <th>koi_disposition</th>\n",
       "    </tr>\n",
       "  </thead>\n",
       "  <tbody>\n",
       "    <tr>\n",
       "      <th>0</th>\n",
       "      <td>5218</td>\n",
       "      <td>0</td>\n",
       "    </tr>\n",
       "    <tr>\n",
       "      <th>1</th>\n",
       "      <td>3125</td>\n",
       "      <td>0</td>\n",
       "    </tr>\n",
       "    <tr>\n",
       "      <th>2</th>\n",
       "      <td>2654</td>\n",
       "      <td>0</td>\n",
       "    </tr>\n",
       "    <tr>\n",
       "      <th>3</th>\n",
       "      <td>6067</td>\n",
       "      <td>0</td>\n",
       "    </tr>\n",
       "    <tr>\n",
       "      <th>4</th>\n",
       "      <td>91</td>\n",
       "      <td>1</td>\n",
       "    </tr>\n",
       "  </tbody>\n",
       "</table>\n",
       "</div>"
      ],
      "text/plain": [
       "      0  koi_disposition\n",
       "0  5218                0\n",
       "1  3125                0\n",
       "2  2654                0\n",
       "3  6067                0\n",
       "4    91                1"
      ]
     },
     "execution_count": 22,
     "metadata": {},
     "output_type": "execute_result"
    }
   ],
   "source": [
    "result = pd.DataFrame(x_test.index)\n",
    "result[\"koi_disposition\"] = y_predict\n",
    "\n",
    "result.head()"
   ]
  },
  {
   "cell_type": "markdown",
   "metadata": {},
   "source": [
    "As we can see, the model already outputs predictions of 1s or 0s."
   ]
  },
  {
   "cell_type": "code",
   "execution_count": 23,
   "metadata": {},
   "outputs": [
    {
     "data": {
      "text/plain": [
       "0    1013\n",
       "1     451\n",
       "Name: koi_disposition, dtype: int64"
      ]
     },
     "execution_count": 23,
     "metadata": {},
     "output_type": "execute_result"
    }
   ],
   "source": [
    "result[\"koi_disposition\"].value_counts()"
   ]
  },
  {
   "cell_type": "code",
   "execution_count": 24,
   "metadata": {},
   "outputs": [
    {
     "data": {
      "text/plain": [
       "1.0"
      ]
     },
     "execution_count": 24,
     "metadata": {},
     "output_type": "execute_result"
    }
   ],
   "source": [
    "accuracy_score(y_test,y_predict)"
   ]
  },
  {
   "cell_type": "markdown",
   "metadata": {},
   "source": [
    "It turns out that the model actually has a very accurate prediction of 100% !"
   ]
  }
 ],
 "metadata": {
  "kernelspec": {
   "display_name": "Python362",
   "language": "python",
   "name": "python362"
  },
  "language_info": {
   "codemirror_mode": {
    "name": "ipython",
    "version": 3
   },
   "file_extension": ".py",
   "mimetype": "text/x-python",
   "name": "python",
   "nbconvert_exporter": "python",
   "pygments_lexer": "ipython3",
   "version": "3.8.3"
  }
 },
 "nbformat": 4,
 "nbformat_minor": 4
}

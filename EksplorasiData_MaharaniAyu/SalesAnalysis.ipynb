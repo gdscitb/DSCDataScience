{
  "nbformat": 4,
  "nbformat_minor": 0,
  "metadata": {
    "colab": {
      "name": "SalesAnalysis.ipynb",
      "provenance": [],
      "collapsed_sections": []
    },
    "kernelspec": {
      "name": "python3",
      "display_name": "Python 3"
    }
  },
  "cells": [
    {
      "cell_type": "markdown",
      "metadata": {
        "id": "l-aApzTNbwdA"
      },
      "source": [
        "# Sales Data Analysis of a Yarn Store\n",
        "#### Name : Maharani Ayu Putri Irawan\n",
        "#### NIM : 16520134\n",
        "#### University : ITB\n",
        "#### Start date : November 7th 2020\n",
        "#### Dataset source : own (SalesAnalysisData.csv)"
      ]
    },
    {
      "cell_type": "markdown",
      "metadata": {
        "id": "VJli4mD6aInK"
      },
      "source": [
        "### Problem Framing\n",
        "#### 1. Problem statement : the need to maintain stock of a store\n",
        "#### 2. Objective : to find time, and specific item to be restocked the most to satisfy customer demand\n",
        "#### 3. Scope : Yarn Store\n",
        "#### 4. Data : recorded sales data of a year (2017)"
      ]
    },
    {
      "cell_type": "code",
      "metadata": {
        "id": "NToWwfqwCC11"
      },
      "source": [
        "import pandas as pd\n",
        "import os\n",
        "import matplotlib.pyplot as plot"
      ],
      "execution_count": 183,
      "outputs": []
    },
    {
      "cell_type": "markdown",
      "metadata": {
        "id": "VTCYsr7Ucbi4"
      },
      "source": [
        "### Data Observation"
      ]
    },
    {
      "cell_type": "code",
      "metadata": {
        "id": "rFCDfTSs93ll",
        "outputId": "473dffb1-a63b-4200-eacd-7d566aa840bd",
        "colab": {
          "base_uri": "https://localhost:8080/",
          "height": 197
        }
      },
      "source": [
        "df = pd.read_csv(\"/content/SalesAnalysisData.csv\")\n",
        "df.head()"
      ],
      "execution_count": 184,
      "outputs": [
        {
          "output_type": "execute_result",
          "data": {
            "text/html": [
              "<div>\n",
              "<style scoped>\n",
              "    .dataframe tbody tr th:only-of-type {\n",
              "        vertical-align: middle;\n",
              "    }\n",
              "\n",
              "    .dataframe tbody tr th {\n",
              "        vertical-align: top;\n",
              "    }\n",
              "\n",
              "    .dataframe thead th {\n",
              "        text-align: right;\n",
              "    }\n",
              "</style>\n",
              "<table border=\"1\" class=\"dataframe\">\n",
              "  <thead>\n",
              "    <tr style=\"text-align: right;\">\n",
              "      <th></th>\n",
              "      <th>tglsj</th>\n",
              "      <th>barang</th>\n",
              "      <th>code_wr</th>\n",
              "      <th>qttsj</th>\n",
              "      <th>Price</th>\n",
              "    </tr>\n",
              "  </thead>\n",
              "  <tbody>\n",
              "    <tr>\n",
              "      <th>0</th>\n",
              "      <td>2/3/2017</td>\n",
              "      <td>Bordir Rayon 150 gr</td>\n",
              "      <td>1050</td>\n",
              "      <td>18</td>\n",
              "      <td>25000</td>\n",
              "    </tr>\n",
              "    <tr>\n",
              "      <th>1</th>\n",
              "      <td>2/3/2017</td>\n",
              "      <td>Bordir Rayon 150 gr</td>\n",
              "      <td>1179</td>\n",
              "      <td>24</td>\n",
              "      <td>25000</td>\n",
              "    </tr>\n",
              "    <tr>\n",
              "      <th>2</th>\n",
              "      <td>2/3/2017</td>\n",
              "      <td>Bordir Rayon 150 gr</td>\n",
              "      <td>1180</td>\n",
              "      <td>24</td>\n",
              "      <td>25000</td>\n",
              "    </tr>\n",
              "    <tr>\n",
              "      <th>3</th>\n",
              "      <td>2/3/2017</td>\n",
              "      <td>Bordir Rayon 150 gr</td>\n",
              "      <td>1188</td>\n",
              "      <td>30</td>\n",
              "      <td>25000</td>\n",
              "    </tr>\n",
              "    <tr>\n",
              "      <th>4</th>\n",
              "      <td>2/3/2017</td>\n",
              "      <td>Bordir Rayon 150 gr</td>\n",
              "      <td>1191</td>\n",
              "      <td>6</td>\n",
              "      <td>25000</td>\n",
              "    </tr>\n",
              "  </tbody>\n",
              "</table>\n",
              "</div>"
            ],
            "text/plain": [
              "      tglsj               barang  code_wr  qttsj  Price\n",
              "0  2/3/2017  Bordir Rayon 150 gr     1050     18  25000\n",
              "1  2/3/2017  Bordir Rayon 150 gr     1179     24  25000\n",
              "2  2/3/2017  Bordir Rayon 150 gr     1180     24  25000\n",
              "3  2/3/2017  Bordir Rayon 150 gr     1188     30  25000\n",
              "4  2/3/2017  Bordir Rayon 150 gr     1191      6  25000"
            ]
          },
          "metadata": {
            "tags": []
          },
          "execution_count": 184
        }
      ]
    },
    {
      "cell_type": "markdown",
      "metadata": {
        "id": "su-O7JTjfXDu"
      },
      "source": [
        "##### Data type Casting"
      ]
    },
    {
      "cell_type": "code",
      "metadata": {
        "id": "UKBAFwWrffS7",
        "outputId": "d305f0f9-431e-4717-af68-1fa3bb7a10af",
        "colab": {
          "base_uri": "https://localhost:8080/",
          "height": 197
        }
      },
      "source": [
        "df['code_wr'] = df['code_wr'].astype(str)\n",
        "df.head()"
      ],
      "execution_count": 185,
      "outputs": [
        {
          "output_type": "execute_result",
          "data": {
            "text/html": [
              "<div>\n",
              "<style scoped>\n",
              "    .dataframe tbody tr th:only-of-type {\n",
              "        vertical-align: middle;\n",
              "    }\n",
              "\n",
              "    .dataframe tbody tr th {\n",
              "        vertical-align: top;\n",
              "    }\n",
              "\n",
              "    .dataframe thead th {\n",
              "        text-align: right;\n",
              "    }\n",
              "</style>\n",
              "<table border=\"1\" class=\"dataframe\">\n",
              "  <thead>\n",
              "    <tr style=\"text-align: right;\">\n",
              "      <th></th>\n",
              "      <th>tglsj</th>\n",
              "      <th>barang</th>\n",
              "      <th>code_wr</th>\n",
              "      <th>qttsj</th>\n",
              "      <th>Price</th>\n",
              "    </tr>\n",
              "  </thead>\n",
              "  <tbody>\n",
              "    <tr>\n",
              "      <th>0</th>\n",
              "      <td>2/3/2017</td>\n",
              "      <td>Bordir Rayon 150 gr</td>\n",
              "      <td>1050</td>\n",
              "      <td>18</td>\n",
              "      <td>25000</td>\n",
              "    </tr>\n",
              "    <tr>\n",
              "      <th>1</th>\n",
              "      <td>2/3/2017</td>\n",
              "      <td>Bordir Rayon 150 gr</td>\n",
              "      <td>1179</td>\n",
              "      <td>24</td>\n",
              "      <td>25000</td>\n",
              "    </tr>\n",
              "    <tr>\n",
              "      <th>2</th>\n",
              "      <td>2/3/2017</td>\n",
              "      <td>Bordir Rayon 150 gr</td>\n",
              "      <td>1180</td>\n",
              "      <td>24</td>\n",
              "      <td>25000</td>\n",
              "    </tr>\n",
              "    <tr>\n",
              "      <th>3</th>\n",
              "      <td>2/3/2017</td>\n",
              "      <td>Bordir Rayon 150 gr</td>\n",
              "      <td>1188</td>\n",
              "      <td>30</td>\n",
              "      <td>25000</td>\n",
              "    </tr>\n",
              "    <tr>\n",
              "      <th>4</th>\n",
              "      <td>2/3/2017</td>\n",
              "      <td>Bordir Rayon 150 gr</td>\n",
              "      <td>1191</td>\n",
              "      <td>6</td>\n",
              "      <td>25000</td>\n",
              "    </tr>\n",
              "  </tbody>\n",
              "</table>\n",
              "</div>"
            ],
            "text/plain": [
              "      tglsj               barang code_wr  qttsj  Price\n",
              "0  2/3/2017  Bordir Rayon 150 gr    1050     18  25000\n",
              "1  2/3/2017  Bordir Rayon 150 gr    1179     24  25000\n",
              "2  2/3/2017  Bordir Rayon 150 gr    1180     24  25000\n",
              "3  2/3/2017  Bordir Rayon 150 gr    1188     30  25000\n",
              "4  2/3/2017  Bordir Rayon 150 gr    1191      6  25000"
            ]
          },
          "metadata": {
            "tags": []
          },
          "execution_count": 185
        }
      ]
    },
    {
      "cell_type": "code",
      "metadata": {
        "id": "vZBjKRGxe6PW",
        "outputId": "4f53c5d6-047e-41c2-971b-8ef38e8c79af",
        "colab": {
          "base_uri": "https://localhost:8080/",
          "height": 287
        }
      },
      "source": [
        "df.describe()"
      ],
      "execution_count": 186,
      "outputs": [
        {
          "output_type": "execute_result",
          "data": {
            "text/html": [
              "<div>\n",
              "<style scoped>\n",
              "    .dataframe tbody tr th:only-of-type {\n",
              "        vertical-align: middle;\n",
              "    }\n",
              "\n",
              "    .dataframe tbody tr th {\n",
              "        vertical-align: top;\n",
              "    }\n",
              "\n",
              "    .dataframe thead th {\n",
              "        text-align: right;\n",
              "    }\n",
              "</style>\n",
              "<table border=\"1\" class=\"dataframe\">\n",
              "  <thead>\n",
              "    <tr style=\"text-align: right;\">\n",
              "      <th></th>\n",
              "      <th>qttsj</th>\n",
              "      <th>Price</th>\n",
              "    </tr>\n",
              "  </thead>\n",
              "  <tbody>\n",
              "    <tr>\n",
              "      <th>count</th>\n",
              "      <td>23988.000000</td>\n",
              "      <td>23988.000000</td>\n",
              "    </tr>\n",
              "    <tr>\n",
              "      <th>mean</th>\n",
              "      <td>9.307404</td>\n",
              "      <td>17705.331833</td>\n",
              "    </tr>\n",
              "    <tr>\n",
              "      <th>std</th>\n",
              "      <td>27.853253</td>\n",
              "      <td>6627.400130</td>\n",
              "    </tr>\n",
              "    <tr>\n",
              "      <th>min</th>\n",
              "      <td>1.000000</td>\n",
              "      <td>8500.000000</td>\n",
              "    </tr>\n",
              "    <tr>\n",
              "      <th>25%</th>\n",
              "      <td>2.000000</td>\n",
              "      <td>10500.000000</td>\n",
              "    </tr>\n",
              "    <tr>\n",
              "      <th>50%</th>\n",
              "      <td>3.000000</td>\n",
              "      <td>18500.000000</td>\n",
              "    </tr>\n",
              "    <tr>\n",
              "      <th>75%</th>\n",
              "      <td>6.000000</td>\n",
              "      <td>25000.000000</td>\n",
              "    </tr>\n",
              "    <tr>\n",
              "      <th>max</th>\n",
              "      <td>1500.000000</td>\n",
              "      <td>25000.000000</td>\n",
              "    </tr>\n",
              "  </tbody>\n",
              "</table>\n",
              "</div>"
            ],
            "text/plain": [
              "              qttsj         Price\n",
              "count  23988.000000  23988.000000\n",
              "mean       9.307404  17705.331833\n",
              "std       27.853253   6627.400130\n",
              "min        1.000000   8500.000000\n",
              "25%        2.000000  10500.000000\n",
              "50%        3.000000  18500.000000\n",
              "75%        6.000000  25000.000000\n",
              "max     1500.000000  25000.000000"
            ]
          },
          "metadata": {
            "tags": []
          },
          "execution_count": 186
        }
      ]
    },
    {
      "cell_type": "markdown",
      "metadata": {
        "id": "oI5_EQMRGqse"
      },
      "source": [
        "### Data Preparation\n",
        "##### Data Cleaning"
      ]
    },
    {
      "cell_type": "code",
      "metadata": {
        "id": "psklToOiMV5j",
        "outputId": "60db8ed3-0bb8-4c9e-d35e-ffa295a78108",
        "colab": {
          "base_uri": "https://localhost:8080/",
          "height": 197
        }
      },
      "source": [
        "# check if there are empty columns\n",
        "empty = df[df.isna().any(axis=1)]\n",
        "\n",
        "# remove empty columns\n",
        "df = df.dropna(how='any')\n",
        "df.head()"
      ],
      "execution_count": 187,
      "outputs": [
        {
          "output_type": "execute_result",
          "data": {
            "text/html": [
              "<div>\n",
              "<style scoped>\n",
              "    .dataframe tbody tr th:only-of-type {\n",
              "        vertical-align: middle;\n",
              "    }\n",
              "\n",
              "    .dataframe tbody tr th {\n",
              "        vertical-align: top;\n",
              "    }\n",
              "\n",
              "    .dataframe thead th {\n",
              "        text-align: right;\n",
              "    }\n",
              "</style>\n",
              "<table border=\"1\" class=\"dataframe\">\n",
              "  <thead>\n",
              "    <tr style=\"text-align: right;\">\n",
              "      <th></th>\n",
              "      <th>tglsj</th>\n",
              "      <th>barang</th>\n",
              "      <th>code_wr</th>\n",
              "      <th>qttsj</th>\n",
              "      <th>Price</th>\n",
              "    </tr>\n",
              "  </thead>\n",
              "  <tbody>\n",
              "    <tr>\n",
              "      <th>0</th>\n",
              "      <td>2/3/2017</td>\n",
              "      <td>Bordir Rayon 150 gr</td>\n",
              "      <td>1050</td>\n",
              "      <td>18</td>\n",
              "      <td>25000</td>\n",
              "    </tr>\n",
              "    <tr>\n",
              "      <th>1</th>\n",
              "      <td>2/3/2017</td>\n",
              "      <td>Bordir Rayon 150 gr</td>\n",
              "      <td>1179</td>\n",
              "      <td>24</td>\n",
              "      <td>25000</td>\n",
              "    </tr>\n",
              "    <tr>\n",
              "      <th>2</th>\n",
              "      <td>2/3/2017</td>\n",
              "      <td>Bordir Rayon 150 gr</td>\n",
              "      <td>1180</td>\n",
              "      <td>24</td>\n",
              "      <td>25000</td>\n",
              "    </tr>\n",
              "    <tr>\n",
              "      <th>3</th>\n",
              "      <td>2/3/2017</td>\n",
              "      <td>Bordir Rayon 150 gr</td>\n",
              "      <td>1188</td>\n",
              "      <td>30</td>\n",
              "      <td>25000</td>\n",
              "    </tr>\n",
              "    <tr>\n",
              "      <th>4</th>\n",
              "      <td>2/3/2017</td>\n",
              "      <td>Bordir Rayon 150 gr</td>\n",
              "      <td>1191</td>\n",
              "      <td>6</td>\n",
              "      <td>25000</td>\n",
              "    </tr>\n",
              "  </tbody>\n",
              "</table>\n",
              "</div>"
            ],
            "text/plain": [
              "      tglsj               barang code_wr  qttsj  Price\n",
              "0  2/3/2017  Bordir Rayon 150 gr    1050     18  25000\n",
              "1  2/3/2017  Bordir Rayon 150 gr    1179     24  25000\n",
              "2  2/3/2017  Bordir Rayon 150 gr    1180     24  25000\n",
              "3  2/3/2017  Bordir Rayon 150 gr    1188     30  25000\n",
              "4  2/3/2017  Bordir Rayon 150 gr    1191      6  25000"
            ]
          },
          "metadata": {
            "tags": []
          },
          "execution_count": 187
        }
      ]
    },
    {
      "cell_type": "markdown",
      "metadata": {
        "id": "H6AnCoY_GzXb"
      },
      "source": [
        "##### Data Processing"
      ]
    },
    {
      "cell_type": "code",
      "metadata": {
        "id": "dOMrkWepCbll",
        "outputId": "ee568a5c-3571-4c05-82da-9c3748f31bca",
        "colab": {
          "base_uri": "https://localhost:8080/",
          "height": 197
        }
      },
      "source": [
        "#adding month column\n",
        "df.loc[df[\"tglsj\"].str[1:2] == '/', 'Month'] = df[\"tglsj\"].str[0:1]  \n",
        "df.loc[df[\"tglsj\"].str[1:2] != '/', 'Month'] = df[\"tglsj\"].str[0:2]\n",
        "\n",
        "df['Month'] = df['Month'].astype('int32')\n",
        "df.head()"
      ],
      "execution_count": 188,
      "outputs": [
        {
          "output_type": "execute_result",
          "data": {
            "text/html": [
              "<div>\n",
              "<style scoped>\n",
              "    .dataframe tbody tr th:only-of-type {\n",
              "        vertical-align: middle;\n",
              "    }\n",
              "\n",
              "    .dataframe tbody tr th {\n",
              "        vertical-align: top;\n",
              "    }\n",
              "\n",
              "    .dataframe thead th {\n",
              "        text-align: right;\n",
              "    }\n",
              "</style>\n",
              "<table border=\"1\" class=\"dataframe\">\n",
              "  <thead>\n",
              "    <tr style=\"text-align: right;\">\n",
              "      <th></th>\n",
              "      <th>tglsj</th>\n",
              "      <th>barang</th>\n",
              "      <th>code_wr</th>\n",
              "      <th>qttsj</th>\n",
              "      <th>Price</th>\n",
              "      <th>Month</th>\n",
              "    </tr>\n",
              "  </thead>\n",
              "  <tbody>\n",
              "    <tr>\n",
              "      <th>0</th>\n",
              "      <td>2/3/2017</td>\n",
              "      <td>Bordir Rayon 150 gr</td>\n",
              "      <td>1050</td>\n",
              "      <td>18</td>\n",
              "      <td>25000</td>\n",
              "      <td>2</td>\n",
              "    </tr>\n",
              "    <tr>\n",
              "      <th>1</th>\n",
              "      <td>2/3/2017</td>\n",
              "      <td>Bordir Rayon 150 gr</td>\n",
              "      <td>1179</td>\n",
              "      <td>24</td>\n",
              "      <td>25000</td>\n",
              "      <td>2</td>\n",
              "    </tr>\n",
              "    <tr>\n",
              "      <th>2</th>\n",
              "      <td>2/3/2017</td>\n",
              "      <td>Bordir Rayon 150 gr</td>\n",
              "      <td>1180</td>\n",
              "      <td>24</td>\n",
              "      <td>25000</td>\n",
              "      <td>2</td>\n",
              "    </tr>\n",
              "    <tr>\n",
              "      <th>3</th>\n",
              "      <td>2/3/2017</td>\n",
              "      <td>Bordir Rayon 150 gr</td>\n",
              "      <td>1188</td>\n",
              "      <td>30</td>\n",
              "      <td>25000</td>\n",
              "      <td>2</td>\n",
              "    </tr>\n",
              "    <tr>\n",
              "      <th>4</th>\n",
              "      <td>2/3/2017</td>\n",
              "      <td>Bordir Rayon 150 gr</td>\n",
              "      <td>1191</td>\n",
              "      <td>6</td>\n",
              "      <td>25000</td>\n",
              "      <td>2</td>\n",
              "    </tr>\n",
              "  </tbody>\n",
              "</table>\n",
              "</div>"
            ],
            "text/plain": [
              "      tglsj               barang code_wr  qttsj  Price  Month\n",
              "0  2/3/2017  Bordir Rayon 150 gr    1050     18  25000      2\n",
              "1  2/3/2017  Bordir Rayon 150 gr    1179     24  25000      2\n",
              "2  2/3/2017  Bordir Rayon 150 gr    1180     24  25000      2\n",
              "3  2/3/2017  Bordir Rayon 150 gr    1188     30  25000      2\n",
              "4  2/3/2017  Bordir Rayon 150 gr    1191      6  25000      2"
            ]
          },
          "metadata": {
            "tags": []
          },
          "execution_count": 188
        }
      ]
    },
    {
      "cell_type": "code",
      "metadata": {
        "id": "NRan5uPPPY3S",
        "outputId": "92f861be-5e2d-425c-92d5-3266e84ba4b8",
        "colab": {
          "base_uri": "https://localhost:8080/",
          "height": 197
        }
      },
      "source": [
        "# adding sales column\n",
        "df['Sales'] = df['qttsj']*df['Price']\n",
        "df.head()"
      ],
      "execution_count": 189,
      "outputs": [
        {
          "output_type": "execute_result",
          "data": {
            "text/html": [
              "<div>\n",
              "<style scoped>\n",
              "    .dataframe tbody tr th:only-of-type {\n",
              "        vertical-align: middle;\n",
              "    }\n",
              "\n",
              "    .dataframe tbody tr th {\n",
              "        vertical-align: top;\n",
              "    }\n",
              "\n",
              "    .dataframe thead th {\n",
              "        text-align: right;\n",
              "    }\n",
              "</style>\n",
              "<table border=\"1\" class=\"dataframe\">\n",
              "  <thead>\n",
              "    <tr style=\"text-align: right;\">\n",
              "      <th></th>\n",
              "      <th>tglsj</th>\n",
              "      <th>barang</th>\n",
              "      <th>code_wr</th>\n",
              "      <th>qttsj</th>\n",
              "      <th>Price</th>\n",
              "      <th>Month</th>\n",
              "      <th>Sales</th>\n",
              "    </tr>\n",
              "  </thead>\n",
              "  <tbody>\n",
              "    <tr>\n",
              "      <th>0</th>\n",
              "      <td>2/3/2017</td>\n",
              "      <td>Bordir Rayon 150 gr</td>\n",
              "      <td>1050</td>\n",
              "      <td>18</td>\n",
              "      <td>25000</td>\n",
              "      <td>2</td>\n",
              "      <td>450000</td>\n",
              "    </tr>\n",
              "    <tr>\n",
              "      <th>1</th>\n",
              "      <td>2/3/2017</td>\n",
              "      <td>Bordir Rayon 150 gr</td>\n",
              "      <td>1179</td>\n",
              "      <td>24</td>\n",
              "      <td>25000</td>\n",
              "      <td>2</td>\n",
              "      <td>600000</td>\n",
              "    </tr>\n",
              "    <tr>\n",
              "      <th>2</th>\n",
              "      <td>2/3/2017</td>\n",
              "      <td>Bordir Rayon 150 gr</td>\n",
              "      <td>1180</td>\n",
              "      <td>24</td>\n",
              "      <td>25000</td>\n",
              "      <td>2</td>\n",
              "      <td>600000</td>\n",
              "    </tr>\n",
              "    <tr>\n",
              "      <th>3</th>\n",
              "      <td>2/3/2017</td>\n",
              "      <td>Bordir Rayon 150 gr</td>\n",
              "      <td>1188</td>\n",
              "      <td>30</td>\n",
              "      <td>25000</td>\n",
              "      <td>2</td>\n",
              "      <td>750000</td>\n",
              "    </tr>\n",
              "    <tr>\n",
              "      <th>4</th>\n",
              "      <td>2/3/2017</td>\n",
              "      <td>Bordir Rayon 150 gr</td>\n",
              "      <td>1191</td>\n",
              "      <td>6</td>\n",
              "      <td>25000</td>\n",
              "      <td>2</td>\n",
              "      <td>150000</td>\n",
              "    </tr>\n",
              "  </tbody>\n",
              "</table>\n",
              "</div>"
            ],
            "text/plain": [
              "      tglsj               barang code_wr  qttsj  Price  Month   Sales\n",
              "0  2/3/2017  Bordir Rayon 150 gr    1050     18  25000      2  450000\n",
              "1  2/3/2017  Bordir Rayon 150 gr    1179     24  25000      2  600000\n",
              "2  2/3/2017  Bordir Rayon 150 gr    1180     24  25000      2  600000\n",
              "3  2/3/2017  Bordir Rayon 150 gr    1188     30  25000      2  750000\n",
              "4  2/3/2017  Bordir Rayon 150 gr    1191      6  25000      2  150000"
            ]
          },
          "metadata": {
            "tags": []
          },
          "execution_count": 189
        }
      ]
    },
    {
      "cell_type": "code",
      "metadata": {
        "id": "O0w-Sh02gj3Z",
        "outputId": "634c02a9-5bf5-4a88-feed-89783110d896",
        "colab": {
          "base_uri": "https://localhost:8080/",
          "height": 287
        }
      },
      "source": [
        "df.describe()"
      ],
      "execution_count": 190,
      "outputs": [
        {
          "output_type": "execute_result",
          "data": {
            "text/html": [
              "<div>\n",
              "<style scoped>\n",
              "    .dataframe tbody tr th:only-of-type {\n",
              "        vertical-align: middle;\n",
              "    }\n",
              "\n",
              "    .dataframe tbody tr th {\n",
              "        vertical-align: top;\n",
              "    }\n",
              "\n",
              "    .dataframe thead th {\n",
              "        text-align: right;\n",
              "    }\n",
              "</style>\n",
              "<table border=\"1\" class=\"dataframe\">\n",
              "  <thead>\n",
              "    <tr style=\"text-align: right;\">\n",
              "      <th></th>\n",
              "      <th>qttsj</th>\n",
              "      <th>Price</th>\n",
              "      <th>Month</th>\n",
              "      <th>Sales</th>\n",
              "    </tr>\n",
              "  </thead>\n",
              "  <tbody>\n",
              "    <tr>\n",
              "      <th>count</th>\n",
              "      <td>23988.000000</td>\n",
              "      <td>23988.000000</td>\n",
              "      <td>23988.000000</td>\n",
              "      <td>2.398800e+04</td>\n",
              "    </tr>\n",
              "    <tr>\n",
              "      <th>mean</th>\n",
              "      <td>9.307404</td>\n",
              "      <td>17705.331833</td>\n",
              "      <td>7.828998</td>\n",
              "      <td>1.672825e+05</td>\n",
              "    </tr>\n",
              "    <tr>\n",
              "      <th>std</th>\n",
              "      <td>27.853253</td>\n",
              "      <td>6627.400130</td>\n",
              "      <td>2.912522</td>\n",
              "      <td>4.298944e+05</td>\n",
              "    </tr>\n",
              "    <tr>\n",
              "      <th>min</th>\n",
              "      <td>1.000000</td>\n",
              "      <td>8500.000000</td>\n",
              "      <td>2.000000</td>\n",
              "      <td>8.500000e+03</td>\n",
              "    </tr>\n",
              "    <tr>\n",
              "      <th>25%</th>\n",
              "      <td>2.000000</td>\n",
              "      <td>10500.000000</td>\n",
              "      <td>5.000000</td>\n",
              "      <td>2.450000e+04</td>\n",
              "    </tr>\n",
              "    <tr>\n",
              "      <th>50%</th>\n",
              "      <td>3.000000</td>\n",
              "      <td>18500.000000</td>\n",
              "      <td>8.000000</td>\n",
              "      <td>5.000000e+04</td>\n",
              "    </tr>\n",
              "    <tr>\n",
              "      <th>75%</th>\n",
              "      <td>6.000000</td>\n",
              "      <td>25000.000000</td>\n",
              "      <td>10.000000</td>\n",
              "      <td>1.500000e+05</td>\n",
              "    </tr>\n",
              "    <tr>\n",
              "      <th>max</th>\n",
              "      <td>1500.000000</td>\n",
              "      <td>25000.000000</td>\n",
              "      <td>12.000000</td>\n",
              "      <td>1.500000e+07</td>\n",
              "    </tr>\n",
              "  </tbody>\n",
              "</table>\n",
              "</div>"
            ],
            "text/plain": [
              "              qttsj         Price         Month         Sales\n",
              "count  23988.000000  23988.000000  23988.000000  2.398800e+04\n",
              "mean       9.307404  17705.331833      7.828998  1.672825e+05\n",
              "std       27.853253   6627.400130      2.912522  4.298944e+05\n",
              "min        1.000000   8500.000000      2.000000  8.500000e+03\n",
              "25%        2.000000  10500.000000      5.000000  2.450000e+04\n",
              "50%        3.000000  18500.000000      8.000000  5.000000e+04\n",
              "75%        6.000000  25000.000000     10.000000  1.500000e+05\n",
              "max     1500.000000  25000.000000     12.000000  1.500000e+07"
            ]
          },
          "metadata": {
            "tags": []
          },
          "execution_count": 190
        }
      ]
    },
    {
      "cell_type": "markdown",
      "metadata": {
        "id": "7JbBvmLjGb16"
      },
      "source": [
        "### Model Development\n",
        "#### 1. Searching the peak of sales over the year"
      ]
    },
    {
      "cell_type": "code",
      "metadata": {
        "id": "7z1wxMPPRloV",
        "outputId": "0accc586-97a6-41d9-becd-6365fd9f33be",
        "colab": {
          "base_uri": "https://localhost:8080/",
          "height": 407
        }
      },
      "source": [
        "total = df.groupby('Month').sum()\n",
        "total.head(12)"
      ],
      "execution_count": 191,
      "outputs": [
        {
          "output_type": "execute_result",
          "data": {
            "text/html": [
              "<div>\n",
              "<style scoped>\n",
              "    .dataframe tbody tr th:only-of-type {\n",
              "        vertical-align: middle;\n",
              "    }\n",
              "\n",
              "    .dataframe tbody tr th {\n",
              "        vertical-align: top;\n",
              "    }\n",
              "\n",
              "    .dataframe thead th {\n",
              "        text-align: right;\n",
              "    }\n",
              "</style>\n",
              "<table border=\"1\" class=\"dataframe\">\n",
              "  <thead>\n",
              "    <tr style=\"text-align: right;\">\n",
              "      <th></th>\n",
              "      <th>qttsj</th>\n",
              "      <th>Price</th>\n",
              "      <th>Sales</th>\n",
              "    </tr>\n",
              "    <tr>\n",
              "      <th>Month</th>\n",
              "      <th></th>\n",
              "      <th></th>\n",
              "      <th></th>\n",
              "    </tr>\n",
              "  </thead>\n",
              "  <tbody>\n",
              "    <tr>\n",
              "      <th>2</th>\n",
              "      <td>5351</td>\n",
              "      <td>11868500</td>\n",
              "      <td>93055000</td>\n",
              "    </tr>\n",
              "    <tr>\n",
              "      <th>3</th>\n",
              "      <td>15077</td>\n",
              "      <td>29342000</td>\n",
              "      <td>264575500</td>\n",
              "    </tr>\n",
              "    <tr>\n",
              "      <th>4</th>\n",
              "      <td>15460</td>\n",
              "      <td>30922000</td>\n",
              "      <td>278834000</td>\n",
              "    </tr>\n",
              "    <tr>\n",
              "      <th>5</th>\n",
              "      <td>23891</td>\n",
              "      <td>45668500</td>\n",
              "      <td>452260000</td>\n",
              "    </tr>\n",
              "    <tr>\n",
              "      <th>6</th>\n",
              "      <td>10685</td>\n",
              "      <td>23290500</td>\n",
              "      <td>188239000</td>\n",
              "    </tr>\n",
              "    <tr>\n",
              "      <th>7</th>\n",
              "      <td>17071</td>\n",
              "      <td>37313500</td>\n",
              "      <td>307096500</td>\n",
              "    </tr>\n",
              "    <tr>\n",
              "      <th>8</th>\n",
              "      <td>25441</td>\n",
              "      <td>50784000</td>\n",
              "      <td>478339000</td>\n",
              "    </tr>\n",
              "    <tr>\n",
              "      <th>9</th>\n",
              "      <td>27871</td>\n",
              "      <td>46902000</td>\n",
              "      <td>465966500</td>\n",
              "    </tr>\n",
              "    <tr>\n",
              "      <th>10</th>\n",
              "      <td>31739</td>\n",
              "      <td>51294500</td>\n",
              "      <td>561310000</td>\n",
              "    </tr>\n",
              "    <tr>\n",
              "      <th>11</th>\n",
              "      <td>24280</td>\n",
              "      <td>47745500</td>\n",
              "      <td>437773500</td>\n",
              "    </tr>\n",
              "    <tr>\n",
              "      <th>12</th>\n",
              "      <td>26400</td>\n",
              "      <td>49584500</td>\n",
              "      <td>485324500</td>\n",
              "    </tr>\n",
              "  </tbody>\n",
              "</table>\n",
              "</div>"
            ],
            "text/plain": [
              "       qttsj     Price      Sales\n",
              "Month                            \n",
              "2       5351  11868500   93055000\n",
              "3      15077  29342000  264575500\n",
              "4      15460  30922000  278834000\n",
              "5      23891  45668500  452260000\n",
              "6      10685  23290500  188239000\n",
              "7      17071  37313500  307096500\n",
              "8      25441  50784000  478339000\n",
              "9      27871  46902000  465966500\n",
              "10     31739  51294500  561310000\n",
              "11     24280  47745500  437773500\n",
              "12     26400  49584500  485324500"
            ]
          },
          "metadata": {
            "tags": []
          },
          "execution_count": 191
        }
      ]
    },
    {
      "cell_type": "code",
      "metadata": {
        "id": "p_IRZaIIAuJO",
        "outputId": "cdcf8bb9-5045-4b97-ee9e-e207965062d3",
        "colab": {
          "base_uri": "https://localhost:8080/"
        }
      },
      "source": [
        "total['Sales'].head()"
      ],
      "execution_count": 192,
      "outputs": [
        {
          "output_type": "execute_result",
          "data": {
            "text/plain": [
              "Month\n",
              "2     93055000\n",
              "3    264575500\n",
              "4    278834000\n",
              "5    452260000\n",
              "6    188239000\n",
              "Name: Sales, dtype: int64"
            ]
          },
          "metadata": {
            "tags": []
          },
          "execution_count": 192
        }
      ]
    },
    {
      "cell_type": "code",
      "metadata": {
        "id": "63-lv3gEBspJ",
        "outputId": "43a6d653-e02c-417d-9d92-9a4c748b3773",
        "colab": {
          "base_uri": "https://localhost:8080/",
          "height": 307
        }
      },
      "source": [
        "month = range(2,13)\n",
        "plot.bar(month, total['Sales'])\n",
        "plot.xticks(month)\n",
        "plot.xlabel('Month')\n",
        "plot.ylabel('Sales (in hundred million Rupiahs)')"
      ],
      "execution_count": 193,
      "outputs": [
        {
          "output_type": "execute_result",
          "data": {
            "text/plain": [
              "Text(0, 0.5, 'Sales (in hundred million Rupiahs)')"
            ]
          },
          "metadata": {
            "tags": []
          },
          "execution_count": 193
        },
        {
          "output_type": "display_data",
          "data": {
            "image/png": "[encoded data removed]",
            "text/plain": [
              "<Figure size 432x288 with 1 Axes>"
            ]
          },
          "metadata": {
            "tags": [],
            "needs_background": "light"
          }
        }
      ]
    },
    {
      "cell_type": "markdown",
      "metadata": {
        "id": "fGXaSy31EGiP"
      },
      "source": [
        "##### Insight 1: It can be concluded that the least sales were on February, and reached its peak on October. It makes sense since February is the start of the sales, and the sales increased along with the time. October has the least holiday over 2017 since the only holiday exist in October 2017 happened on Sunday."
      ]
    },
    {
      "cell_type": "markdown",
      "metadata": {
        "id": "dCxlBoyFHq6_"
      },
      "source": [
        "#### 2. Searching for best-selling item"
      ]
    },
    {
      "cell_type": "code",
      "metadata": {
        "id": "AohAM4JHC6Li",
        "outputId": "9a9191d7-e226-4188-c55b-cb55faf9e897",
        "colab": {
          "base_uri": "https://localhost:8080/",
          "height": 197
        }
      },
      "source": [
        "df.head()"
      ],
      "execution_count": 194,
      "outputs": [
        {
          "output_type": "execute_result",
          "data": {
            "text/html": [
              "<div>\n",
              "<style scoped>\n",
              "    .dataframe tbody tr th:only-of-type {\n",
              "        vertical-align: middle;\n",
              "    }\n",
              "\n",
              "    .dataframe tbody tr th {\n",
              "        vertical-align: top;\n",
              "    }\n",
              "\n",
              "    .dataframe thead th {\n",
              "        text-align: right;\n",
              "    }\n",
              "</style>\n",
              "<table border=\"1\" class=\"dataframe\">\n",
              "  <thead>\n",
              "    <tr style=\"text-align: right;\">\n",
              "      <th></th>\n",
              "      <th>tglsj</th>\n",
              "      <th>barang</th>\n",
              "      <th>code_wr</th>\n",
              "      <th>qttsj</th>\n",
              "      <th>Price</th>\n",
              "      <th>Month</th>\n",
              "      <th>Sales</th>\n",
              "    </tr>\n",
              "  </thead>\n",
              "  <tbody>\n",
              "    <tr>\n",
              "      <th>0</th>\n",
              "      <td>2/3/2017</td>\n",
              "      <td>Bordir Rayon 150 gr</td>\n",
              "      <td>1050</td>\n",
              "      <td>18</td>\n",
              "      <td>25000</td>\n",
              "      <td>2</td>\n",
              "      <td>450000</td>\n",
              "    </tr>\n",
              "    <tr>\n",
              "      <th>1</th>\n",
              "      <td>2/3/2017</td>\n",
              "      <td>Bordir Rayon 150 gr</td>\n",
              "      <td>1179</td>\n",
              "      <td>24</td>\n",
              "      <td>25000</td>\n",
              "      <td>2</td>\n",
              "      <td>600000</td>\n",
              "    </tr>\n",
              "    <tr>\n",
              "      <th>2</th>\n",
              "      <td>2/3/2017</td>\n",
              "      <td>Bordir Rayon 150 gr</td>\n",
              "      <td>1180</td>\n",
              "      <td>24</td>\n",
              "      <td>25000</td>\n",
              "      <td>2</td>\n",
              "      <td>600000</td>\n",
              "    </tr>\n",
              "    <tr>\n",
              "      <th>3</th>\n",
              "      <td>2/3/2017</td>\n",
              "      <td>Bordir Rayon 150 gr</td>\n",
              "      <td>1188</td>\n",
              "      <td>30</td>\n",
              "      <td>25000</td>\n",
              "      <td>2</td>\n",
              "      <td>750000</td>\n",
              "    </tr>\n",
              "    <tr>\n",
              "      <th>4</th>\n",
              "      <td>2/3/2017</td>\n",
              "      <td>Bordir Rayon 150 gr</td>\n",
              "      <td>1191</td>\n",
              "      <td>6</td>\n",
              "      <td>25000</td>\n",
              "      <td>2</td>\n",
              "      <td>150000</td>\n",
              "    </tr>\n",
              "  </tbody>\n",
              "</table>\n",
              "</div>"
            ],
            "text/plain": [
              "      tglsj               barang code_wr  qttsj  Price  Month   Sales\n",
              "0  2/3/2017  Bordir Rayon 150 gr    1050     18  25000      2  450000\n",
              "1  2/3/2017  Bordir Rayon 150 gr    1179     24  25000      2  600000\n",
              "2  2/3/2017  Bordir Rayon 150 gr    1180     24  25000      2  600000\n",
              "3  2/3/2017  Bordir Rayon 150 gr    1188     30  25000      2  750000\n",
              "4  2/3/2017  Bordir Rayon 150 gr    1191      6  25000      2  150000"
            ]
          },
          "metadata": {
            "tags": []
          },
          "execution_count": 194
        }
      ]
    },
    {
      "cell_type": "code",
      "metadata": {
        "id": "KNJCEeeOH28Q",
        "outputId": "0958ac6f-cc16-46ad-dc66-319843500cdb",
        "colab": {
          "base_uri": "https://localhost:8080/",
          "height": 557
        }
      },
      "source": [
        "item = df.groupby('barang').sum()\n",
        "item.head(50)"
      ],
      "execution_count": 195,
      "outputs": [
        {
          "output_type": "execute_result",
          "data": {
            "text/html": [
              "<div>\n",
              "<style scoped>\n",
              "    .dataframe tbody tr th:only-of-type {\n",
              "        vertical-align: middle;\n",
              "    }\n",
              "\n",
              "    .dataframe tbody tr th {\n",
              "        vertical-align: top;\n",
              "    }\n",
              "\n",
              "    .dataframe thead th {\n",
              "        text-align: right;\n",
              "    }\n",
              "</style>\n",
              "<table border=\"1\" class=\"dataframe\">\n",
              "  <thead>\n",
              "    <tr style=\"text-align: right;\">\n",
              "      <th></th>\n",
              "      <th>qttsj</th>\n",
              "      <th>Price</th>\n",
              "      <th>Month</th>\n",
              "      <th>Sales</th>\n",
              "    </tr>\n",
              "    <tr>\n",
              "      <th>barang</th>\n",
              "      <th></th>\n",
              "      <th></th>\n",
              "      <th></th>\n",
              "      <th></th>\n",
              "    </tr>\n",
              "  </thead>\n",
              "  <tbody>\n",
              "    <tr>\n",
              "      <th>Bordir Polyester 150 gr</th>\n",
              "      <td>24569</td>\n",
              "      <td>12390000</td>\n",
              "      <td>6617</td>\n",
              "      <td>368535000</td>\n",
              "    </tr>\n",
              "    <tr>\n",
              "      <th>Bordir Rayon 150 gr</th>\n",
              "      <td>95398</td>\n",
              "      <td>220475000</td>\n",
              "      <td>69118</td>\n",
              "      <td>2384950000</td>\n",
              "    </tr>\n",
              "    <tr>\n",
              "      <th>Bordir Rayon 70 gr</th>\n",
              "      <td>12913</td>\n",
              "      <td>12410000</td>\n",
              "      <td>5642</td>\n",
              "      <td>219521000</td>\n",
              "    </tr>\n",
              "    <tr>\n",
              "      <th>Jahit 20/2 5000 yds</th>\n",
              "      <td>3786</td>\n",
              "      <td>2832000</td>\n",
              "      <td>1720</td>\n",
              "      <td>45432000</td>\n",
              "    </tr>\n",
              "    <tr>\n",
              "      <th>Jahit 20/3 5000 yds</th>\n",
              "      <td>18</td>\n",
              "      <td>13000</td>\n",
              "      <td>8</td>\n",
              "      <td>234000</td>\n",
              "    </tr>\n",
              "    <tr>\n",
              "      <th>Jahit 40/2 5000 yds</th>\n",
              "      <td>54705</td>\n",
              "      <td>53730000</td>\n",
              "      <td>42170</td>\n",
              "      <td>547050000</td>\n",
              "    </tr>\n",
              "    <tr>\n",
              "      <th>Jahit 40/2p 500 yds</th>\n",
              "      <td>4905</td>\n",
              "      <td>50449500</td>\n",
              "      <td>20768</td>\n",
              "      <td>90742500</td>\n",
              "    </tr>\n",
              "    <tr>\n",
              "      <th>Metalic Black 125 gr</th>\n",
              "      <td>474</td>\n",
              "      <td>696000</td>\n",
              "      <td>362</td>\n",
              "      <td>6873000</td>\n",
              "    </tr>\n",
              "    <tr>\n",
              "      <th>Metalic Gepeng Mas</th>\n",
              "      <td>3166</td>\n",
              "      <td>263500</td>\n",
              "      <td>293</td>\n",
              "      <td>26911000</td>\n",
              "    </tr>\n",
              "    <tr>\n",
              "      <th>Metalic Gepeng Warna</th>\n",
              "      <td>2001</td>\n",
              "      <td>81000</td>\n",
              "      <td>99</td>\n",
              "      <td>18009000</td>\n",
              "    </tr>\n",
              "    <tr>\n",
              "      <th>Metalic Mas 125 gr</th>\n",
              "      <td>1372</td>\n",
              "      <td>3208500</td>\n",
              "      <td>1596</td>\n",
              "      <td>21266000</td>\n",
              "    </tr>\n",
              "    <tr>\n",
              "      <th>Metalic Warna 125 gr</th>\n",
              "      <td>457</td>\n",
              "      <td>594500</td>\n",
              "      <td>313</td>\n",
              "      <td>6626500</td>\n",
              "    </tr>\n",
              "    <tr>\n",
              "      <th>Obras 180 gr Nat</th>\n",
              "      <td>1490</td>\n",
              "      <td>2679000</td>\n",
              "      <td>2319</td>\n",
              "      <td>14155000</td>\n",
              "    </tr>\n",
              "    <tr>\n",
              "      <th>Obras 180 gr Warna</th>\n",
              "      <td>12224</td>\n",
              "      <td>36204000</td>\n",
              "      <td>26884</td>\n",
              "      <td>128352000</td>\n",
              "    </tr>\n",
              "    <tr>\n",
              "      <th>Obras 500 gr Nat</th>\n",
              "      <td>2197</td>\n",
              "      <td>5733000</td>\n",
              "      <td>2311</td>\n",
              "      <td>46137000</td>\n",
              "    </tr>\n",
              "    <tr>\n",
              "      <th>Obras 500 gr Warna</th>\n",
              "      <td>3591</td>\n",
              "      <td>22956500</td>\n",
              "      <td>7582</td>\n",
              "      <td>87979500</td>\n",
              "    </tr>\n",
              "  </tbody>\n",
              "</table>\n",
              "</div>"
            ],
            "text/plain": [
              "                         qttsj      Price  Month       Sales\n",
              "barang                                                      \n",
              "Bordir Polyester 150 gr  24569   12390000   6617   368535000\n",
              "Bordir Rayon 150 gr      95398  220475000  69118  2384950000\n",
              "Bordir Rayon 70 gr       12913   12410000   5642   219521000\n",
              "Jahit 20/2 5000 yds       3786    2832000   1720    45432000\n",
              "Jahit 20/3 5000 yds         18      13000      8      234000\n",
              "Jahit 40/2 5000 yds      54705   53730000  42170   547050000\n",
              "Jahit 40/2p 500 yds       4905   50449500  20768    90742500\n",
              "Metalic Black 125 gr       474     696000    362     6873000\n",
              "Metalic Gepeng Mas        3166     263500    293    26911000\n",
              "Metalic Gepeng Warna      2001      81000     99    18009000\n",
              "Metalic Mas 125 gr        1372    3208500   1596    21266000\n",
              "Metalic Warna 125 gr       457     594500    313     6626500\n",
              "Obras 180 gr Nat          1490    2679000   2319    14155000\n",
              "Obras 180 gr Warna       12224   36204000  26884   128352000\n",
              "Obras 500 gr Nat          2197    5733000   2311    46137000\n",
              "Obras 500 gr Warna        3591   22956500   7582    87979500"
            ]
          },
          "metadata": {
            "tags": []
          },
          "execution_count": 195
        }
      ]
    },
    {
      "cell_type": "code",
      "metadata": {
        "id": "kktz3Wq7I41w",
        "outputId": "b138ff50-dd35-48c8-871a-3ea454cfe8f4",
        "colab": {
          "base_uri": "https://localhost:8080/"
        }
      },
      "source": [
        "numofrow = range(1, len(item)+1)\n",
        "print(numofrow)"
      ],
      "execution_count": 196,
      "outputs": [
        {
          "output_type": "stream",
          "text": [
            "range(1, 17)\n"
          ],
          "name": "stdout"
        }
      ]
    },
    {
      "cell_type": "code",
      "metadata": {
        "id": "8wBcJmwsIk7o",
        "outputId": "d4170f49-c48d-4523-b5c7-18e0db982a1b",
        "colab": {
          "base_uri": "https://localhost:8080/"
        }
      },
      "source": [
        "item['qttsj'].head(16)"
      ],
      "execution_count": 197,
      "outputs": [
        {
          "output_type": "execute_result",
          "data": {
            "text/plain": [
              "barang\n",
              "Bordir Polyester 150 gr    24569\n",
              "Bordir Rayon 150 gr        95398\n",
              "Bordir Rayon 70 gr         12913\n",
              "Jahit 20/2 5000 yds         3786\n",
              "Jahit 20/3 5000 yds           18\n",
              "Jahit 40/2 5000 yds        54705\n",
              "Jahit 40/2p 500 yds         4905\n",
              "Metalic Black 125 gr         474\n",
              "Metalic Gepeng Mas          3166\n",
              "Metalic Gepeng Warna        2001\n",
              "Metalic Mas 125 gr          1372\n",
              "Metalic Warna 125 gr         457\n",
              "Obras 180 gr Nat            1490\n",
              "Obras 180 gr Warna         12224\n",
              "Obras 500 gr Nat            2197\n",
              "Obras 500 gr Warna          3591\n",
              "Name: qttsj, dtype: int64"
            ]
          },
          "metadata": {
            "tags": []
          },
          "execution_count": 197
        }
      ]
    },
    {
      "cell_type": "code",
      "metadata": {
        "id": "LnrN1PmEIXgR",
        "outputId": "1fad91ee-6992-4136-d254-8cdd2beec242",
        "colab": {
          "base_uri": "https://localhost:8080/",
          "height": 301
        }
      },
      "source": [
        "plot.bar(numofrow, item['qttsj'])\n",
        "plot.xticks(numofrow)\n",
        "plot.xlabel('Item index')\n",
        "plot.ylabel('Number of item sold')"
      ],
      "execution_count": 198,
      "outputs": [
        {
          "output_type": "execute_result",
          "data": {
            "text/plain": [
              "Text(0, 0.5, 'Number of item sold')"
            ]
          },
          "metadata": {
            "tags": []
          },
          "execution_count": 198
        },
        {
          "output_type": "display_data",
          "data": {
            "image/png": "[encoded data removed]",
            "text/plain": [
              "<Figure size 432x288 with 1 Axes>"
            ]
          },
          "metadata": {
            "tags": [],
            "needs_background": "light"
          }
        }
      ]
    },
    {
      "cell_type": "code",
      "metadata": {
        "id": "3rH1cW7-KaRu",
        "outputId": "33ebd379-efc6-4a8d-8393-c43ecbddcfc1",
        "colab": {
          "base_uri": "https://localhost:8080/"
        }
      },
      "source": [
        "maks = item['qttsj'].idxmax() \n",
        "print(maks)"
      ],
      "execution_count": 199,
      "outputs": [
        {
          "output_type": "stream",
          "text": [
            "Bordir Rayon 150 gr\n"
          ],
          "name": "stdout"
        }
      ]
    },
    {
      "cell_type": "code",
      "metadata": {
        "id": "q_voQB7aYSwj",
        "outputId": "e3764326-6c20-49c2-a116-adb0472c61f6",
        "colab": {
          "base_uri": "https://localhost:8080/"
        }
      },
      "source": [
        "mins = item['qttsj'].idxmin()\n",
        "print(mins)"
      ],
      "execution_count": 200,
      "outputs": [
        {
          "output_type": "stream",
          "text": [
            "Jahit 20/3 5000 yds\n"
          ],
          "name": "stdout"
        }
      ]
    },
    {
      "cell_type": "markdown",
      "metadata": {
        "id": "8kkT7g7GTzIl"
      },
      "source": [
        "##### Insight 2 : Item with most sales on this data is 'Bordir Rayon 150 gr. In the other hand, the least sold item is 'Jahit 20/3 5000 yds'. This is logical since Rayon Embroidery Yarn has wide-range use while Sewing Yarn with thickness 20/3 are only used to sew leather and jeans."
      ]
    },
    {
      "cell_type": "markdown",
      "metadata": {
        "id": "h1hjQcivUpkr"
      },
      "source": [
        "#### 3. Searching for best-selling color code"
      ]
    },
    {
      "cell_type": "code",
      "metadata": {
        "id": "jBZpvVJWKQhN",
        "outputId": "093c3bad-eb6a-4b51-e776-9909c7efc62f",
        "colab": {
          "base_uri": "https://localhost:8080/",
          "height": 227
        }
      },
      "source": [
        "maxcode = df.groupby('code_wr').sum()\n",
        "maxcode.head()"
      ],
      "execution_count": 201,
      "outputs": [
        {
          "output_type": "execute_result",
          "data": {
            "text/html": [
              "<div>\n",
              "<style scoped>\n",
              "    .dataframe tbody tr th:only-of-type {\n",
              "        vertical-align: middle;\n",
              "    }\n",
              "\n",
              "    .dataframe tbody tr th {\n",
              "        vertical-align: top;\n",
              "    }\n",
              "\n",
              "    .dataframe thead th {\n",
              "        text-align: right;\n",
              "    }\n",
              "</style>\n",
              "<table border=\"1\" class=\"dataframe\">\n",
              "  <thead>\n",
              "    <tr style=\"text-align: right;\">\n",
              "      <th></th>\n",
              "      <th>qttsj</th>\n",
              "      <th>Price</th>\n",
              "      <th>Month</th>\n",
              "      <th>Sales</th>\n",
              "    </tr>\n",
              "    <tr>\n",
              "      <th>code_wr</th>\n",
              "      <th></th>\n",
              "      <th></th>\n",
              "      <th></th>\n",
              "      <th></th>\n",
              "    </tr>\n",
              "  </thead>\n",
              "  <tbody>\n",
              "    <tr>\n",
              "      <th>10</th>\n",
              "      <td>120</td>\n",
              "      <td>29000</td>\n",
              "      <td>17</td>\n",
              "      <td>1740000</td>\n",
              "    </tr>\n",
              "    <tr>\n",
              "      <th>1001</th>\n",
              "      <td>1547</td>\n",
              "      <td>453500</td>\n",
              "      <td>295</td>\n",
              "      <td>16484000</td>\n",
              "    </tr>\n",
              "    <tr>\n",
              "      <th>1002</th>\n",
              "      <td>10</td>\n",
              "      <td>8500</td>\n",
              "      <td>10</td>\n",
              "      <td>85000</td>\n",
              "    </tr>\n",
              "    <tr>\n",
              "      <th>1003</th>\n",
              "      <td>1819</td>\n",
              "      <td>168500</td>\n",
              "      <td>127</td>\n",
              "      <td>15544000</td>\n",
              "    </tr>\n",
              "    <tr>\n",
              "      <th>1004</th>\n",
              "      <td>6</td>\n",
              "      <td>17000</td>\n",
              "      <td>9</td>\n",
              "      <td>102000</td>\n",
              "    </tr>\n",
              "  </tbody>\n",
              "</table>\n",
              "</div>"
            ],
            "text/plain": [
              "         qttsj   Price  Month     Sales\n",
              "code_wr                                \n",
              "10         120   29000     17   1740000\n",
              "1001      1547  453500    295  16484000\n",
              "1002        10    8500     10     85000\n",
              "1003      1819  168500    127  15544000\n",
              "1004         6   17000      9    102000"
            ]
          },
          "metadata": {
            "tags": []
          },
          "execution_count": 201
        }
      ]
    },
    {
      "cell_type": "code",
      "metadata": {
        "id": "4ws0s6_sLgMB",
        "outputId": "03b3b3e0-d052-4557-b111-bb834163fb5d",
        "colab": {
          "base_uri": "https://localhost:8080/"
        }
      },
      "source": [
        "numrowmax = len(maxcode)\n",
        "print(numrowmax)"
      ],
      "execution_count": 202,
      "outputs": [
        {
          "output_type": "stream",
          "text": [
            "997\n"
          ],
          "name": "stdout"
        }
      ]
    },
    {
      "cell_type": "code",
      "metadata": {
        "id": "-Km4hiN7UF1H",
        "outputId": "6cdd65f0-11e3-41fb-ca9c-408a36d7edcb",
        "colab": {
          "base_uri": "https://localhost:8080/",
          "height": 436
        }
      },
      "source": [
        "maxcode.head(numrowmax)"
      ],
      "execution_count": 203,
      "outputs": [
        {
          "output_type": "execute_result",
          "data": {
            "text/html": [
              "<div>\n",
              "<style scoped>\n",
              "    .dataframe tbody tr th:only-of-type {\n",
              "        vertical-align: middle;\n",
              "    }\n",
              "\n",
              "    .dataframe tbody tr th {\n",
              "        vertical-align: top;\n",
              "    }\n",
              "\n",
              "    .dataframe thead th {\n",
              "        text-align: right;\n",
              "    }\n",
              "</style>\n",
              "<table border=\"1\" class=\"dataframe\">\n",
              "  <thead>\n",
              "    <tr style=\"text-align: right;\">\n",
              "      <th></th>\n",
              "      <th>qttsj</th>\n",
              "      <th>Price</th>\n",
              "      <th>Month</th>\n",
              "      <th>Sales</th>\n",
              "    </tr>\n",
              "    <tr>\n",
              "      <th>code_wr</th>\n",
              "      <th></th>\n",
              "      <th></th>\n",
              "      <th></th>\n",
              "      <th></th>\n",
              "    </tr>\n",
              "  </thead>\n",
              "  <tbody>\n",
              "    <tr>\n",
              "      <th>10</th>\n",
              "      <td>120</td>\n",
              "      <td>29000</td>\n",
              "      <td>17</td>\n",
              "      <td>1740000</td>\n",
              "    </tr>\n",
              "    <tr>\n",
              "      <th>1001</th>\n",
              "      <td>1547</td>\n",
              "      <td>453500</td>\n",
              "      <td>295</td>\n",
              "      <td>16484000</td>\n",
              "    </tr>\n",
              "    <tr>\n",
              "      <th>1002</th>\n",
              "      <td>10</td>\n",
              "      <td>8500</td>\n",
              "      <td>10</td>\n",
              "      <td>85000</td>\n",
              "    </tr>\n",
              "    <tr>\n",
              "      <th>1003</th>\n",
              "      <td>1819</td>\n",
              "      <td>168500</td>\n",
              "      <td>127</td>\n",
              "      <td>15544000</td>\n",
              "    </tr>\n",
              "    <tr>\n",
              "      <th>1004</th>\n",
              "      <td>6</td>\n",
              "      <td>17000</td>\n",
              "      <td>9</td>\n",
              "      <td>102000</td>\n",
              "    </tr>\n",
              "    <tr>\n",
              "      <th>...</th>\n",
              "      <td>...</td>\n",
              "      <td>...</td>\n",
              "      <td>...</td>\n",
              "      <td>...</td>\n",
              "    </tr>\n",
              "    <tr>\n",
              "      <th>613</th>\n",
              "      <td>12</td>\n",
              "      <td>20000</td>\n",
              "      <td>14</td>\n",
              "      <td>120000</td>\n",
              "    </tr>\n",
              "    <tr>\n",
              "      <th>620</th>\n",
              "      <td>150</td>\n",
              "      <td>10000</td>\n",
              "      <td>9</td>\n",
              "      <td>1500000</td>\n",
              "    </tr>\n",
              "    <tr>\n",
              "      <th>7</th>\n",
              "      <td>17</td>\n",
              "      <td>43500</td>\n",
              "      <td>29</td>\n",
              "      <td>246500</td>\n",
              "    </tr>\n",
              "    <tr>\n",
              "      <th>8</th>\n",
              "      <td>154</td>\n",
              "      <td>72500</td>\n",
              "      <td>42</td>\n",
              "      <td>2233000</td>\n",
              "    </tr>\n",
              "    <tr>\n",
              "      <th>9</th>\n",
              "      <td>3</td>\n",
              "      <td>43500</td>\n",
              "      <td>16</td>\n",
              "      <td>43500</td>\n",
              "    </tr>\n",
              "  </tbody>\n",
              "</table>\n",
              "<p>997 rows × 4 columns</p>\n",
              "</div>"
            ],
            "text/plain": [
              "         qttsj   Price  Month     Sales\n",
              "code_wr                                \n",
              "10         120   29000     17   1740000\n",
              "1001      1547  453500    295  16484000\n",
              "1002        10    8500     10     85000\n",
              "1003      1819  168500    127  15544000\n",
              "1004         6   17000      9    102000\n",
              "...        ...     ...    ...       ...\n",
              "613         12   20000     14    120000\n",
              "620        150   10000      9   1500000\n",
              "7           17   43500     29    246500\n",
              "8          154   72500     42   2233000\n",
              "9            3   43500     16     43500\n",
              "\n",
              "[997 rows x 4 columns]"
            ]
          },
          "metadata": {
            "tags": []
          },
          "execution_count": 203
        }
      ]
    },
    {
      "cell_type": "code",
      "metadata": {
        "id": "PzWM12_JUN6w",
        "outputId": "0d77b072-6734-4163-b944-2109daf2c1dc",
        "colab": {
          "base_uri": "https://localhost:8080/"
        }
      },
      "source": [
        "codemax = maxcode['qttsj'].idxmax()\n",
        "print(codemax)"
      ],
      "execution_count": 204,
      "outputs": [
        {
          "output_type": "stream",
          "text": [
            "500\n"
          ],
          "name": "stdout"
        }
      ]
    },
    {
      "cell_type": "markdown",
      "metadata": {
        "id": "X4W_j37PUoF6"
      },
      "source": [
        "##### Insight 3 : Best-selling yarn color is code 500"
      ]
    },
    {
      "cell_type": "markdown",
      "metadata": {
        "id": "wmgNYpHmWtwB"
      },
      "source": [
        "### Problem Solution\n",
        "#### 1. Restock will be needed the most on months having less holiday and many national events. In example, 2017 has least holiday on October.\n",
        "#### 2. The item that needs special attention in term of restock is Embroidery Yarn\n",
        "#### 3. Since color code 500 is the most demanding item, it needs to be regularly restocked"
      ]
    }
  ]
}
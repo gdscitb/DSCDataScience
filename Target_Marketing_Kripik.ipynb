{
 "cells": [
  {
   "cell_type": "markdown",
   "metadata": {},
   "source": [
    "### Identitas\n",
    "##### Nama : Barhan Akmal Falahudin\n",
    "##### NRP  : 5025201008\n",
    "##### Asal : Institut Teknologi Sepuluh Nopember\n",
    "### Tanggal Pengerjaan\n",
    "##### 15 November 2020"
   ]
  },
  {
   "cell_type": "code",
   "execution_count": 388,
   "metadata": {},
   "outputs": [],
   "source": [
    "import pandas as pd\n",
    "import os\n",
    "import matplotlib.pyplot as plt"
   ]
  },
  {
   "cell_type": "code",
   "execution_count": 389,
   "metadata": {},
   "outputs": [
    {
     "data": {
      "text/html": [
       "<div>\n",
       "<style scoped>\n",
       "    .dataframe tbody tr th:only-of-type {\n",
       "        vertical-align: middle;\n",
       "    }\n",
       "\n",
       "    .dataframe tbody tr th {\n",
       "        vertical-align: top;\n",
       "    }\n",
       "\n",
       "    .dataframe thead th {\n",
       "        text-align: right;\n",
       "    }\n",
       "</style>\n",
       "<table border=\"1\" class=\"dataframe\">\n",
       "  <thead>\n",
       "    <tr style=\"text-align: right;\">\n",
       "      <th></th>\n",
       "      <th>Cap waktu</th>\n",
       "      <th>Berapakah umur anda?</th>\n",
       "      <th>Apakah jenis kelamin anda?</th>\n",
       "      <th>Pendidikan anda saat ini?</th>\n",
       "      <th>Apakah anda suka dengan makanan ringan atau snack(misal: kripik kentang, kripik ikan) ?</th>\n",
       "      <th>Menurut anda, seberapa pentingkah gizi yang dikandung dalam makanan ringan?</th>\n",
       "      <th>Seberapa suka anda mencoba makanan baru?</th>\n",
       "      <th>Seberapa seringkah anda mengakses marketplace (Tokopedia, Shopee, Bukalapak, dll.) dalam sehari?</th>\n",
       "      <th>Anda lebih memilih yang mana untuk membeli makanan ringan atau snack?</th>\n",
       "    </tr>\n",
       "  </thead>\n",
       "  <tbody>\n",
       "    <tr>\n",
       "      <th>0</th>\n",
       "      <td>2020/11/14 7:40:40 AM GMT+7</td>\n",
       "      <td>14 - 18 tahun</td>\n",
       "      <td>Perempuan</td>\n",
       "      <td>SMA</td>\n",
       "      <td>5</td>\n",
       "      <td>3</td>\n",
       "      <td>5</td>\n",
       "      <td>1 kali</td>\n",
       "      <td>Toko Konvensional</td>\n",
       "    </tr>\n",
       "    <tr>\n",
       "      <th>1</th>\n",
       "      <td>2020/11/14 7:43:12 AM GMT+7</td>\n",
       "      <td>19 - 25 tahun</td>\n",
       "      <td>Perempuan</td>\n",
       "      <td>S1/D4</td>\n",
       "      <td>4</td>\n",
       "      <td>2</td>\n",
       "      <td>3</td>\n",
       "      <td>1 kali</td>\n",
       "      <td>Toko Konvensional</td>\n",
       "    </tr>\n",
       "    <tr>\n",
       "      <th>2</th>\n",
       "      <td>2020/11/14 7:46:49 AM GMT+7</td>\n",
       "      <td>&gt;35 tahun</td>\n",
       "      <td>Laki - laki</td>\n",
       "      <td>Telah lulus/bekerja</td>\n",
       "      <td>4</td>\n",
       "      <td>3</td>\n",
       "      <td>4</td>\n",
       "      <td>1 kali</td>\n",
       "      <td>Toko Online</td>\n",
       "    </tr>\n",
       "    <tr>\n",
       "      <th>3</th>\n",
       "      <td>2020/11/14 7:51:33 AM GMT+7</td>\n",
       "      <td>19 - 25 tahun</td>\n",
       "      <td>Laki - laki</td>\n",
       "      <td>S1/D4</td>\n",
       "      <td>5</td>\n",
       "      <td>3</td>\n",
       "      <td>5</td>\n",
       "      <td>1 kali</td>\n",
       "      <td>Toko Konvensional</td>\n",
       "    </tr>\n",
       "    <tr>\n",
       "      <th>4</th>\n",
       "      <td>2020/11/14 8:03:30 AM GMT+7</td>\n",
       "      <td>19 - 25 tahun</td>\n",
       "      <td>Perempuan</td>\n",
       "      <td>S1/D4</td>\n",
       "      <td>5</td>\n",
       "      <td>4</td>\n",
       "      <td>5</td>\n",
       "      <td>1 kali</td>\n",
       "      <td>Toko Online</td>\n",
       "    </tr>\n",
       "    <tr>\n",
       "      <th>5</th>\n",
       "      <td>2020/11/14 8:07:07 AM GMT+7</td>\n",
       "      <td>19 - 25 tahun</td>\n",
       "      <td>Laki - laki</td>\n",
       "      <td>D3</td>\n",
       "      <td>3</td>\n",
       "      <td>4</td>\n",
       "      <td>5</td>\n",
       "      <td>lebih dari 5 kali</td>\n",
       "      <td>Toko Konvensional</td>\n",
       "    </tr>\n",
       "    <tr>\n",
       "      <th>6</th>\n",
       "      <td>2020/11/14 8:07:25 AM GMT+7</td>\n",
       "      <td>19 - 25 tahun</td>\n",
       "      <td>Perempuan</td>\n",
       "      <td>S1/D4</td>\n",
       "      <td>5</td>\n",
       "      <td>5</td>\n",
       "      <td>3</td>\n",
       "      <td>1 kali</td>\n",
       "      <td>Toko Konvensional</td>\n",
       "    </tr>\n",
       "    <tr>\n",
       "      <th>7</th>\n",
       "      <td>2020/11/14 8:09:12 AM GMT+7</td>\n",
       "      <td>19 - 25 tahun</td>\n",
       "      <td>Perempuan</td>\n",
       "      <td>S1/D4</td>\n",
       "      <td>5</td>\n",
       "      <td>3</td>\n",
       "      <td>4</td>\n",
       "      <td>3 kali</td>\n",
       "      <td>Toko Konvensional</td>\n",
       "    </tr>\n",
       "    <tr>\n",
       "      <th>8</th>\n",
       "      <td>2020/11/14 8:10:21 AM GMT+7</td>\n",
       "      <td>19 - 25 tahun</td>\n",
       "      <td>Perempuan</td>\n",
       "      <td>S1/D4</td>\n",
       "      <td>4</td>\n",
       "      <td>5</td>\n",
       "      <td>1</td>\n",
       "      <td>1 kali</td>\n",
       "      <td>Toko Konvensional</td>\n",
       "    </tr>\n",
       "    <tr>\n",
       "      <th>9</th>\n",
       "      <td>2020/11/14 8:11:06 AM GMT+7</td>\n",
       "      <td>19 - 25 tahun</td>\n",
       "      <td>Perempuan</td>\n",
       "      <td>S1/D4</td>\n",
       "      <td>5</td>\n",
       "      <td>3</td>\n",
       "      <td>4</td>\n",
       "      <td>3 kali</td>\n",
       "      <td>Toko Konvensional</td>\n",
       "    </tr>\n",
       "  </tbody>\n",
       "</table>\n",
       "</div>"
      ],
      "text/plain": [
       "                     Cap waktu Berapakah umur anda?  \\\n",
       "0  2020/11/14 7:40:40 AM GMT+7        14 - 18 tahun   \n",
       "1  2020/11/14 7:43:12 AM GMT+7        19 - 25 tahun   \n",
       "2  2020/11/14 7:46:49 AM GMT+7            >35 tahun   \n",
       "3  2020/11/14 7:51:33 AM GMT+7        19 - 25 tahun   \n",
       "4  2020/11/14 8:03:30 AM GMT+7        19 - 25 tahun   \n",
       "5  2020/11/14 8:07:07 AM GMT+7        19 - 25 tahun   \n",
       "6  2020/11/14 8:07:25 AM GMT+7        19 - 25 tahun   \n",
       "7  2020/11/14 8:09:12 AM GMT+7        19 - 25 tahun   \n",
       "8  2020/11/14 8:10:21 AM GMT+7        19 - 25 tahun   \n",
       "9  2020/11/14 8:11:06 AM GMT+7        19 - 25 tahun   \n",
       "\n",
       "  Apakah jenis kelamin anda? Pendidikan anda saat ini?  \\\n",
       "0                  Perempuan                       SMA   \n",
       "1                  Perempuan                     S1/D4   \n",
       "2                Laki - laki       Telah lulus/bekerja   \n",
       "3                Laki - laki                     S1/D4   \n",
       "4                  Perempuan                     S1/D4   \n",
       "5                Laki - laki                        D3   \n",
       "6                  Perempuan                     S1/D4   \n",
       "7                  Perempuan                     S1/D4   \n",
       "8                  Perempuan                     S1/D4   \n",
       "9                  Perempuan                     S1/D4   \n",
       "\n",
       "   Apakah anda suka dengan makanan ringan atau snack(misal: kripik kentang, kripik ikan) ?  \\\n",
       "0                                                  5                                         \n",
       "1                                                  4                                         \n",
       "2                                                  4                                         \n",
       "3                                                  5                                         \n",
       "4                                                  5                                         \n",
       "5                                                  3                                         \n",
       "6                                                  5                                         \n",
       "7                                                  5                                         \n",
       "8                                                  4                                         \n",
       "9                                                  5                                         \n",
       "\n",
       "   Menurut anda, seberapa pentingkah gizi yang dikandung dalam makanan ringan?  \\\n",
       "0                                                  3                             \n",
       "1                                                  2                             \n",
       "2                                                  3                             \n",
       "3                                                  3                             \n",
       "4                                                  4                             \n",
       "5                                                  4                             \n",
       "6                                                  5                             \n",
       "7                                                  3                             \n",
       "8                                                  5                             \n",
       "9                                                  3                             \n",
       "\n",
       "   Seberapa suka anda mencoba makanan baru?  \\\n",
       "0                                         5   \n",
       "1                                         3   \n",
       "2                                         4   \n",
       "3                                         5   \n",
       "4                                         5   \n",
       "5                                         5   \n",
       "6                                         3   \n",
       "7                                         4   \n",
       "8                                         1   \n",
       "9                                         4   \n",
       "\n",
       "  Seberapa seringkah anda mengakses marketplace (Tokopedia, Shopee, Bukalapak, dll.) dalam sehari?  \\\n",
       "0                                             1 kali                                                 \n",
       "1                                             1 kali                                                 \n",
       "2                                             1 kali                                                 \n",
       "3                                             1 kali                                                 \n",
       "4                                             1 kali                                                 \n",
       "5                                  lebih dari 5 kali                                                 \n",
       "6                                             1 kali                                                 \n",
       "7                                             3 kali                                                 \n",
       "8                                             1 kali                                                 \n",
       "9                                             3 kali                                                 \n",
       "\n",
       "  Anda lebih memilih yang mana untuk membeli makanan ringan atau snack?  \n",
       "0                                  Toko Konvensional                     \n",
       "1                                  Toko Konvensional                     \n",
       "2                                        Toko Online                     \n",
       "3                                  Toko Konvensional                     \n",
       "4                                        Toko Online                     \n",
       "5                                  Toko Konvensional                     \n",
       "6                                  Toko Konvensional                     \n",
       "7                                  Toko Konvensional                     \n",
       "8                                  Toko Konvensional                     \n",
       "9                                  Toko Konvensional                     "
      ]
     },
     "execution_count": 389,
     "metadata": {},
     "output_type": "execute_result"
    }
   ],
   "source": [
    "data_frame = pd.read_csv(\"Survei_Makanan_Ringan.csv\")\n",
    "data_frame.head(10)"
   ]
  },
  {
   "cell_type": "markdown",
   "metadata": {},
   "source": [
    "## Data Preparation"
   ]
  },
  {
   "cell_type": "code",
   "execution_count": 390,
   "metadata": {},
   "outputs": [
    {
     "data": {
      "text/html": [
       "<div>\n",
       "<style scoped>\n",
       "    .dataframe tbody tr th:only-of-type {\n",
       "        vertical-align: middle;\n",
       "    }\n",
       "\n",
       "    .dataframe tbody tr th {\n",
       "        vertical-align: top;\n",
       "    }\n",
       "\n",
       "    .dataframe thead th {\n",
       "        text-align: right;\n",
       "    }\n",
       "</style>\n",
       "<table border=\"1\" class=\"dataframe\">\n",
       "  <thead>\n",
       "    <tr style=\"text-align: right;\">\n",
       "      <th></th>\n",
       "      <th>umur</th>\n",
       "      <th>gender</th>\n",
       "      <th>suka_kripik</th>\n",
       "      <th>gizi</th>\n",
       "      <th>suka_baru</th>\n",
       "      <th>banyak_akses</th>\n",
       "      <th>toko</th>\n",
       "    </tr>\n",
       "  </thead>\n",
       "  <tbody>\n",
       "    <tr>\n",
       "      <th>0</th>\n",
       "      <td>14 - 18 tahun</td>\n",
       "      <td>Perempuan</td>\n",
       "      <td>5</td>\n",
       "      <td>3</td>\n",
       "      <td>5</td>\n",
       "      <td>1 kali</td>\n",
       "      <td>Toko Konvensional</td>\n",
       "    </tr>\n",
       "    <tr>\n",
       "      <th>1</th>\n",
       "      <td>19 - 25 tahun</td>\n",
       "      <td>Perempuan</td>\n",
       "      <td>4</td>\n",
       "      <td>2</td>\n",
       "      <td>3</td>\n",
       "      <td>1 kali</td>\n",
       "      <td>Toko Konvensional</td>\n",
       "    </tr>\n",
       "    <tr>\n",
       "      <th>2</th>\n",
       "      <td>&gt;35 tahun</td>\n",
       "      <td>Laki - laki</td>\n",
       "      <td>4</td>\n",
       "      <td>3</td>\n",
       "      <td>4</td>\n",
       "      <td>1 kali</td>\n",
       "      <td>Toko Online</td>\n",
       "    </tr>\n",
       "    <tr>\n",
       "      <th>3</th>\n",
       "      <td>19 - 25 tahun</td>\n",
       "      <td>Laki - laki</td>\n",
       "      <td>5</td>\n",
       "      <td>3</td>\n",
       "      <td>5</td>\n",
       "      <td>1 kali</td>\n",
       "      <td>Toko Konvensional</td>\n",
       "    </tr>\n",
       "    <tr>\n",
       "      <th>4</th>\n",
       "      <td>19 - 25 tahun</td>\n",
       "      <td>Perempuan</td>\n",
       "      <td>5</td>\n",
       "      <td>4</td>\n",
       "      <td>5</td>\n",
       "      <td>1 kali</td>\n",
       "      <td>Toko Online</td>\n",
       "    </tr>\n",
       "  </tbody>\n",
       "</table>\n",
       "</div>"
      ],
      "text/plain": [
       "            umur       gender  suka_kripik  gizi  suka_baru banyak_akses  \\\n",
       "0  14 - 18 tahun    Perempuan            5     3          5       1 kali   \n",
       "1  19 - 25 tahun    Perempuan            4     2          3       1 kali   \n",
       "2      >35 tahun  Laki - laki            4     3          4       1 kali   \n",
       "3  19 - 25 tahun  Laki - laki            5     3          5       1 kali   \n",
       "4  19 - 25 tahun    Perempuan            5     4          5       1 kali   \n",
       "\n",
       "                toko  \n",
       "0  Toko Konvensional  \n",
       "1  Toko Konvensional  \n",
       "2        Toko Online  \n",
       "3  Toko Konvensional  \n",
       "4        Toko Online  "
      ]
     },
     "execution_count": 390,
     "metadata": {},
     "output_type": "execute_result"
    }
   ],
   "source": [
    "data_frame = data_frame.iloc[:, [1, 2, 4, 5, 6, 7, 8]]\n",
    "data_frame.columns = [\"umur\", \"gender\", \"suka_kripik\", \"gizi\", \"suka_baru\", \"banyak_akses\", \"toko\"]\n",
    "data_frame.head()"
   ]
  },
  {
   "cell_type": "markdown",
   "metadata": {},
   "source": [
    "## Data Cleaning"
   ]
  },
  {
   "cell_type": "code",
   "execution_count": 391,
   "metadata": {},
   "outputs": [],
   "source": [
    "data_frame['gender'] = data_frame['gender'].apply(lambda nama:0 if (nama=='Laki - laki') else 1) "
   ]
  },
  {
   "cell_type": "code",
   "execution_count": 392,
   "metadata": {},
   "outputs": [],
   "source": [
    "data_frame['toko'] = data_frame['toko'].apply(lambda toko: 0 if(toko=='Toko Online') else 1)"
   ]
  },
  {
   "cell_type": "code",
   "execution_count": 393,
   "metadata": {},
   "outputs": [],
   "source": [
    "def clean_banyak_akses(a):\n",
    "    if a[0]=='1':\n",
    "        return '1';\n",
    "    elif a[0] == '3':\n",
    "        return '3';\n",
    "    elif a[0] == '5':\n",
    "        return '5';\n",
    "    elif a == 'Tidak pernah':\n",
    "        return '0';\n",
    "    elif a == 'lebih dari 5 kali':\n",
    "        return '>5'"
   ]
  },
  {
   "cell_type": "code",
   "execution_count": 394,
   "metadata": {},
   "outputs": [],
   "source": [
    "data_frame['banyak_akses'] = data_frame['banyak_akses'].apply(lambda x: clean_banyak_akses(x))"
   ]
  },
  {
   "cell_type": "code",
   "execution_count": 395,
   "metadata": {},
   "outputs": [
    {
     "data": {
      "text/html": [
       "<div>\n",
       "<style scoped>\n",
       "    .dataframe tbody tr th:only-of-type {\n",
       "        vertical-align: middle;\n",
       "    }\n",
       "\n",
       "    .dataframe tbody tr th {\n",
       "        vertical-align: top;\n",
       "    }\n",
       "\n",
       "    .dataframe thead th {\n",
       "        text-align: right;\n",
       "    }\n",
       "</style>\n",
       "<table border=\"1\" class=\"dataframe\">\n",
       "  <thead>\n",
       "    <tr style=\"text-align: right;\">\n",
       "      <th></th>\n",
       "      <th>umur</th>\n",
       "      <th>gender</th>\n",
       "      <th>suka_kripik</th>\n",
       "      <th>gizi</th>\n",
       "      <th>suka_baru</th>\n",
       "      <th>banyak_akses</th>\n",
       "      <th>toko</th>\n",
       "    </tr>\n",
       "  </thead>\n",
       "  <tbody>\n",
       "    <tr>\n",
       "      <th>0</th>\n",
       "      <td>14 - 18 tahun</td>\n",
       "      <td>1</td>\n",
       "      <td>5</td>\n",
       "      <td>3</td>\n",
       "      <td>5</td>\n",
       "      <td>1</td>\n",
       "      <td>1</td>\n",
       "    </tr>\n",
       "    <tr>\n",
       "      <th>1</th>\n",
       "      <td>19 - 25 tahun</td>\n",
       "      <td>1</td>\n",
       "      <td>4</td>\n",
       "      <td>2</td>\n",
       "      <td>3</td>\n",
       "      <td>1</td>\n",
       "      <td>1</td>\n",
       "    </tr>\n",
       "    <tr>\n",
       "      <th>2</th>\n",
       "      <td>&gt;35 tahun</td>\n",
       "      <td>0</td>\n",
       "      <td>4</td>\n",
       "      <td>3</td>\n",
       "      <td>4</td>\n",
       "      <td>1</td>\n",
       "      <td>0</td>\n",
       "    </tr>\n",
       "    <tr>\n",
       "      <th>3</th>\n",
       "      <td>19 - 25 tahun</td>\n",
       "      <td>0</td>\n",
       "      <td>5</td>\n",
       "      <td>3</td>\n",
       "      <td>5</td>\n",
       "      <td>1</td>\n",
       "      <td>1</td>\n",
       "    </tr>\n",
       "    <tr>\n",
       "      <th>4</th>\n",
       "      <td>19 - 25 tahun</td>\n",
       "      <td>1</td>\n",
       "      <td>5</td>\n",
       "      <td>4</td>\n",
       "      <td>5</td>\n",
       "      <td>1</td>\n",
       "      <td>0</td>\n",
       "    </tr>\n",
       "  </tbody>\n",
       "</table>\n",
       "</div>"
      ],
      "text/plain": [
       "            umur  gender  suka_kripik  gizi  suka_baru banyak_akses  toko\n",
       "0  14 - 18 tahun       1            5     3          5            1     1\n",
       "1  19 - 25 tahun       1            4     2          3            1     1\n",
       "2      >35 tahun       0            4     3          4            1     0\n",
       "3  19 - 25 tahun       0            5     3          5            1     1\n",
       "4  19 - 25 tahun       1            5     4          5            1     0"
      ]
     },
     "execution_count": 395,
     "metadata": {},
     "output_type": "execute_result"
    }
   ],
   "source": [
    "data_frame['suka_kripik'] = pd.to_numeric(data_frame['suka_kripik'])\n",
    "data_frame['gizi'] = pd.to_numeric(data_frame['gizi'])\n",
    "data_frame['suka_baru'] = pd.to_numeric(data_frame['suka_baru'])\n",
    "data_frame.head(5)"
   ]
  },
  {
   "cell_type": "code",
   "execution_count": 396,
   "metadata": {},
   "outputs": [],
   "source": [
    "data_sum_umur = data_frame.groupby('umur').sum()\n",
    "data_sum_gender = data_frame.groupby('gender').sum()\n",
    "data_mean = data_frame.mean();"
   ]
  },
  {
   "cell_type": "code",
   "execution_count": 397,
   "metadata": {},
   "outputs": [],
   "source": [
    "umurs = data_frame['umur'].unique()\n",
    "genders = data_frame['gender'].unique()"
   ]
  },
  {
   "cell_type": "code",
   "execution_count": 398,
   "metadata": {},
   "outputs": [
    {
     "name": "stdout",
     "output_type": "stream",
     "text": [
      "['14 - 18 tahun' '19 - 25 tahun' '25 - 35 tahun' '>35 tahun']\n"
     ]
    }
   ],
   "source": [
    "umurs[2], umurs[3] = umurs[3], umurs[2]\n",
    "print(umurs)"
   ]
  },
  {
   "cell_type": "code",
   "execution_count": 399,
   "metadata": {},
   "outputs": [
    {
     "name": "stdout",
     "output_type": "stream",
     "text": [
      "14 - 18 tahun    44\n",
      "19 - 25 tahun    31\n",
      "25 - 35 tahun     4\n",
      ">35 tahun         2\n",
      "Name: umur, dtype: int64\n"
     ]
    }
   ],
   "source": [
    "banyak_umur = data_frame['umur'].value_counts()\n",
    "print(banyak_umur)"
   ]
  },
  {
   "cell_type": "code",
   "execution_count": 400,
   "metadata": {},
   "outputs": [
    {
     "data": {
      "image/png": "[encoded data removed]",
      "text/plain": [
       "<Figure size 432x288 with 1 Axes>"
      ]
     },
     "metadata": {
      "needs_background": "light"
     },
     "output_type": "display_data"
    }
   ],
   "source": [
    "plt.bar(umurs, banyak_umur)\n",
    "\n",
    "plt.xlabel('umur')\n",
    "plt.ylabel('jumlah')\n",
    "\n",
    "plt.show()"
   ]
  },
  {
   "cell_type": "markdown",
   "metadata": {},
   "source": [
    "#### Dapat dilihat bahwa mayoritas reponden berusia 14 sampai dengan 18 tahun"
   ]
  },
  {
   "cell_type": "code",
   "execution_count": 401,
   "metadata": {},
   "outputs": [
    {
     "data": {
      "image/png": "[encoded data removed]",
      "text/plain": [
       "<Figure size 432x288 with 1 Axes>"
      ]
     },
     "metadata": {
      "needs_background": "light"
     },
     "output_type": "display_data"
    }
   ],
   "source": [
    "plt.bar(umurs, data_sum_umur['gizi'])\n",
    "\n",
    "plt.ylabel('kepedulian terhadap gizi dalam makanan ringan')\n",
    "plt.xlabel('rentang umur')\n",
    "\n",
    "plt.show()"
   ]
  },
  {
   "cell_type": "code",
   "execution_count": 402,
   "metadata": {},
   "outputs": [
    {
     "data": {
      "image/png": "[encoded data removed]",
      "text/plain": [
       "<Figure size 432x288 with 1 Axes>"
      ]
     },
     "metadata": {
      "needs_background": "light"
     },
     "output_type": "display_data"
    }
   ],
   "source": [
    "plt.bar(genders, data_sum_gender['gizi'])\n",
    "\n",
    "plt.ylabel('kepedulian terhadap gizi dalam makanan ringan')\n",
    "plt.xlabel('jenis kelamin')\n",
    "\n",
    "plt.xticks(genders)\n",
    "\n",
    "plt.show()"
   ]
  },
  {
   "cell_type": "markdown",
   "metadata": {},
   "source": [
    "### 0 = Laki laki\n",
    "### 1 = Perempuan"
   ]
  },
  {
   "cell_type": "code",
   "execution_count": 403,
   "metadata": {},
   "outputs": [
    {
     "data": {
      "image/png": "[encoded data removed]",
      "text/plain": [
       "<Figure size 432x288 with 1 Axes>"
      ]
     },
     "metadata": {
      "needs_background": "light"
     },
     "output_type": "display_data"
    }
   ],
   "source": [
    "plt.bar(umurs, data_sum_umur['suka_kripik'])\n",
    "\n",
    "plt.ylabel('tingkat kesukaan terhadap makanan ringan')\n",
    "plt.xlabel('rentang umur')\n",
    "\n",
    "plt.show()"
   ]
  },
  {
   "cell_type": "code",
   "execution_count": 404,
   "metadata": {},
   "outputs": [
    {
     "data": {
      "image/png": "[encoded data removed]",
      "text/plain": [
       "<Figure size 432x288 with 1 Axes>"
      ]
     },
     "metadata": {
      "needs_background": "light"
     },
     "output_type": "display_data"
    }
   ],
   "source": [
    "plt.bar(genders, data_sum_gender['suka_kripik'])\n",
    "\n",
    "plt.ylabel('tingkat kesukaan terhadap makanan ringan')\n",
    "plt.xlabel('jenis kelamin')\n",
    "\n",
    "plt.xticks(genders)\n",
    "\n",
    "plt.show()"
   ]
  },
  {
   "cell_type": "markdown",
   "metadata": {},
   "source": [
    "### 0 = Laki laki\n",
    "### 1 = Perempuan"
   ]
  },
  {
   "cell_type": "code",
   "execution_count": 405,
   "metadata": {},
   "outputs": [
    {
     "data": {
      "image/png": "[encoded data removed]",
      "text/plain": [
       "<Figure size 432x288 with 1 Axes>"
      ]
     },
     "metadata": {
      "needs_background": "light"
     },
     "output_type": "display_data"
    }
   ],
   "source": [
    "plt.bar(umurs, data_sum_umur['suka_baru'])\n",
    "\n",
    "plt.ylabel('tingkat kesukaan mencoba makanan baru')\n",
    "plt.xlabel('rentang umur')\n",
    "\n",
    "plt.show()"
   ]
  },
  {
   "cell_type": "code",
   "execution_count": 406,
   "metadata": {},
   "outputs": [
    {
     "data": {
      "image/png": "[encoded data removed]",
      "text/plain": [
       "<Figure size 432x288 with 1 Axes>"
      ]
     },
     "metadata": {
      "needs_background": "light"
     },
     "output_type": "display_data"
    }
   ],
   "source": [
    "plt.bar(genders, data_sum_gender['suka_baru'])\n",
    "\n",
    "plt.ylabel('tingkat kesukaan mencoba makanan baru')\n",
    "plt.xlabel('jenis kelamin')\n",
    "\n",
    "plt.xticks(genders)\n",
    "\n",
    "plt.show()"
   ]
  },
  {
   "cell_type": "markdown",
   "metadata": {},
   "source": [
    "### 0 = Laki laki\n",
    "### 1 = Perempuan"
   ]
  },
  {
   "cell_type": "code",
   "execution_count": 407,
   "metadata": {},
   "outputs": [
    {
     "name": "stdout",
     "output_type": "stream",
     "text": [
      "gender         0.765432\n",
      "suka_kripik    4.197531\n",
      "gizi           3.641975\n",
      "suka_baru      3.802469\n",
      "toko           0.962963\n",
      "dtype: float64\n"
     ]
    }
   ],
   "source": [
    "print(data_mean)"
   ]
  },
  {
   "cell_type": "code",
   "execution_count": 411,
   "metadata": {},
   "outputs": [
    {
     "data": {
      "image/png": "[encoded data removed]",
      "text/plain": [
       "<Figure size 432x288 with 1 Axes>"
      ]
     },
     "metadata": {
      "needs_background": "light"
     },
     "output_type": "display_data"
    }
   ],
   "source": [
    "labels = ['suka_kripik', 'gizi', 'suka_baru']\n",
    "ylabels  = [1, 2, 3, 4, 5]\n",
    "\n",
    "plt.bar(labels, data_mean[labels])\n",
    "\n",
    "plt.yticks(ylabels)\n",
    "\n",
    "plt.show()"
   ]
  },
  {
   "cell_type": "code",
   "execution_count": 412,
   "metadata": {},
   "outputs": [],
   "source": [
    "data_max = data_frame.max()"
   ]
  },
  {
   "cell_type": "code",
   "execution_count": 414,
   "metadata": {},
   "outputs": [
    {
     "data": {
      "image/png": "[encoded data removed]",
      "text/plain": [
       "<Figure size 432x288 with 1 Axes>"
      ]
     },
     "metadata": {
      "needs_background": "light"
     },
     "output_type": "display_data"
    }
   ],
   "source": [
    "labels = ['suka_kripik', 'gizi', 'suka_baru']\n",
    "ylabels  = [1, 2, 3, 4, 5]\n",
    "\n",
    "plt.bar(labels, data_max[labels])\n",
    "\n",
    "plt.yticks(ylabels)\n",
    "\n",
    "plt.show()"
   ]
  },
  {
   "cell_type": "markdown",
   "metadata": {},
   "source": [
    "### Ringkasan:\n",
    "Dari berbagai data yang telah dipaparkan, didapatkan informasi bahwa rentang umur yang paling suka dengan makanan ringan adalah rentang umur 14 - 18 tahun, kemudian disusul oleh rentang umur 19 - 25 tahun, 25 - 35 tahun, dan lebih dari 35 tahun. Rentang umur dengan minat untuk mencoba makanan baru tertinggi adalah rentang umur 14 - 18 tahun, kemudian disusul oleh rentang umur 19 - 25 tahun, 25 - 35 tahun, dan lebih dari 35 tahun. Rentang umur dengan kepedulian terhadap gizi pada makanan ringan tertinggi adalah rentang umur 14 - 18 tahun, kemudian disusul oleh rentang umur 19 - 25 tahun, 25 - 35 tahun, dan lebih dari 35 tahun. \n",
    "\n",
    "\n",
    "### Kesimpulan:\n",
    "Dari berbagai data segmentasi pasar yang telah diperoleh, didapatkan kesimpulan bahwa target pasar yang sesuai untuk produk keripik ikan kelor adalah: \n",
    "1. Rentang umur  : 14 - 25 tahun\n",
    "2. Jenis Kelamin : Laki - laki "
   ]
  }
 ],
 "metadata": {
  "kernelspec": {
   "display_name": "Python 3",
   "language": "python",
   "name": "python3"
  },
  "language_info": {
   "codemirror_mode": {
    "name": "ipython",
    "version": 3
   },
   "file_extension": ".py",
   "mimetype": "text/x-python",
   "name": "python",
   "nbconvert_exporter": "python",
   "pygments_lexer": "ipython3",
   "version": "3.7.3"
  }
 },
 "nbformat": 4,
 "nbformat_minor": 4
}

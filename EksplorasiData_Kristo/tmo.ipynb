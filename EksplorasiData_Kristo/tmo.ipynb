{
 "metadata": {
  "language_info": {
   "codemirror_mode": {
    "name": "ipython",
    "version": 3
   },
   "file_extension": ".py",
   "mimetype": "text/x-python",
   "name": "python",
   "nbconvert_exporter": "python",
   "pygments_lexer": "ipython3",
   "version": "3.8.5-final"
  },
  "orig_nbformat": 2,
  "kernelspec": {
   "name": "python3",
   "display_name": "Python 3"
  }
 },
 "nbformat": 4,
 "nbformat_minor": 2,
 "cells": [
  {
   "source": [
    "#### Nama : Kristo Abdi Wiguna\n",
    "#### NIM : 16520028\n",
    "#### Institut Teknologi Bandung \n",
    "#### Tanggal : 7 November 2020\n",
    "#### Sumber dataset : TakeMeOut.csv"
   ],
   "cell_type": "markdown",
   "metadata": {}
  },
  {
   "cell_type": "code",
   "execution_count": 1,
   "metadata": {},
   "outputs": [],
   "source": [
    "import pandas as pd\n",
    "from sklearn.neighbors import NearestNeighbors"
   ]
  },
  {
   "cell_type": "code",
   "execution_count": 2,
   "metadata": {},
   "outputs": [],
   "source": [
    "dt = pd.read_csv(r\"D:/02_ITB 2020-2021/UKM/DSC/DSCDataScience/EksplorasiData_Kristo/takemeout.csv\")"
   ]
  },
  {
   "cell_type": "code",
   "execution_count": 3,
   "metadata": {},
   "outputs": [
    {
     "output_type": "execute_result",
     "data": {
      "text/plain": [
       "                     Timestamp Siapa nama kamu? Cewek atau cowok nih?  \\\n",
       "0  2020/10/31 3:39:25 PM GMT+7  A**************                 Cowok   \n",
       "1  2020/10/31 3:39:36 PM GMT+7            L****                 Cewek   \n",
       "2  2020/10/31 3:39:38 PM GMT+7     Y***********                 Cowok   \n",
       "3  2020/10/31 3:39:42 PM GMT+7             a***                 Cowok   \n",
       "4  2020/10/31 3:39:43 PM GMT+7            B****                 Cowok   \n",
       "\n",
       "   Seberapa penting quality time bareng calon pacar untuk kamu?  \\\n",
       "0                                                  5              \n",
       "1                                                  5              \n",
       "2                                                  4              \n",
       "3                                                  5              \n",
       "4                                                  5              \n",
       "\n",
       "   Seberapa penting physical touch sama calon pacar untuk kamu?  \\\n",
       "0                                                  5              \n",
       "1                                                  5              \n",
       "2                                                  3              \n",
       "3                                                  5              \n",
       "4                                                  5              \n",
       "\n",
       "   Seberapa penting word of affirmation dari calon pacar untuk kamu?  \\\n",
       "0                                                  4                   \n",
       "1                                                  3                   \n",
       "2                                                  4                   \n",
       "3                                                  5                   \n",
       "4                                                  5                   \n",
       "\n",
       "   Seberapa penting dapet kado dari calon pacar untuk kamu?  \\\n",
       "0                                                  1          \n",
       "1                                                  2          \n",
       "2                                                  4          \n",
       "3                                                  2          \n",
       "4                                                  2          \n",
       "\n",
       "   Seberapa penting bantuan dari calon pacar untuk kamu?  \n",
       "0                                                  3      \n",
       "1                                                  2      \n",
       "2                                                  4      \n",
       "3                                                  3      \n",
       "4                                                  4      "
      ],
      "text/html": "<div>\n<style scoped>\n    .dataframe tbody tr th:only-of-type {\n        vertical-align: middle;\n    }\n\n    .dataframe tbody tr th {\n        vertical-align: top;\n    }\n\n    .dataframe thead th {\n        text-align: right;\n    }\n</style>\n<table border=\"1\" class=\"dataframe\">\n  <thead>\n    <tr style=\"text-align: right;\">\n      <th></th>\n      <th>Timestamp</th>\n      <th>Siapa nama kamu?</th>\n      <th>Cewek atau cowok nih?</th>\n      <th>Seberapa penting quality time bareng calon pacar untuk kamu?</th>\n      <th>Seberapa penting physical touch sama calon pacar untuk kamu?</th>\n      <th>Seberapa penting word of affirmation dari calon pacar untuk kamu?</th>\n      <th>Seberapa penting dapet kado dari calon pacar untuk kamu?</th>\n      <th>Seberapa penting bantuan dari calon pacar untuk kamu?</th>\n    </tr>\n  </thead>\n  <tbody>\n    <tr>\n      <th>0</th>\n      <td>2020/10/31 3:39:25 PM GMT+7</td>\n      <td>A**************</td>\n      <td>Cowok</td>\n      <td>5</td>\n      <td>5</td>\n      <td>4</td>\n      <td>1</td>\n      <td>3</td>\n    </tr>\n    <tr>\n      <th>1</th>\n      <td>2020/10/31 3:39:36 PM GMT+7</td>\n      <td>L****</td>\n      <td>Cewek</td>\n      <td>5</td>\n      <td>5</td>\n      <td>3</td>\n      <td>2</td>\n      <td>2</td>\n    </tr>\n    <tr>\n      <th>2</th>\n      <td>2020/10/31 3:39:38 PM GMT+7</td>\n      <td>Y***********</td>\n      <td>Cowok</td>\n      <td>4</td>\n      <td>3</td>\n      <td>4</td>\n      <td>4</td>\n      <td>4</td>\n    </tr>\n    <tr>\n      <th>3</th>\n      <td>2020/10/31 3:39:42 PM GMT+7</td>\n      <td>a***</td>\n      <td>Cowok</td>\n      <td>5</td>\n      <td>5</td>\n      <td>5</td>\n      <td>2</td>\n      <td>3</td>\n    </tr>\n    <tr>\n      <th>4</th>\n      <td>2020/10/31 3:39:43 PM GMT+7</td>\n      <td>B****</td>\n      <td>Cowok</td>\n      <td>5</td>\n      <td>5</td>\n      <td>5</td>\n      <td>2</td>\n      <td>4</td>\n    </tr>\n  </tbody>\n</table>\n</div>"
     },
     "metadata": {},
     "execution_count": 3
    }
   ],
   "source": [
    "dt.head()"
   ]
  },
  {
   "source": [
    "### Data Cleaning"
   ],
   "cell_type": "markdown",
   "metadata": {}
  },
  {
   "cell_type": "code",
   "execution_count": 4,
   "metadata": {},
   "outputs": [],
   "source": [
    "dt = dt.iloc[:,1:]"
   ]
  },
  {
   "cell_type": "code",
   "execution_count": 5,
   "metadata": {},
   "outputs": [
    {
     "output_type": "execute_result",
     "data": {
      "text/plain": [
       "  Siapa nama kamu? Cewek atau cowok nih?  \\\n",
       "0  A**************                 Cowok   \n",
       "1            L****                 Cewek   \n",
       "2     Y***********                 Cowok   \n",
       "3             a***                 Cowok   \n",
       "4            B****                 Cowok   \n",
       "\n",
       "   Seberapa penting quality time bareng calon pacar untuk kamu?  \\\n",
       "0                                                  5              \n",
       "1                                                  5              \n",
       "2                                                  4              \n",
       "3                                                  5              \n",
       "4                                                  5              \n",
       "\n",
       "   Seberapa penting physical touch sama calon pacar untuk kamu?  \\\n",
       "0                                                  5              \n",
       "1                                                  5              \n",
       "2                                                  3              \n",
       "3                                                  5              \n",
       "4                                                  5              \n",
       "\n",
       "   Seberapa penting word of affirmation dari calon pacar untuk kamu?  \\\n",
       "0                                                  4                   \n",
       "1                                                  3                   \n",
       "2                                                  4                   \n",
       "3                                                  5                   \n",
       "4                                                  5                   \n",
       "\n",
       "   Seberapa penting dapet kado dari calon pacar untuk kamu?  \\\n",
       "0                                                  1          \n",
       "1                                                  2          \n",
       "2                                                  4          \n",
       "3                                                  2          \n",
       "4                                                  2          \n",
       "\n",
       "   Seberapa penting bantuan dari calon pacar untuk kamu?  \n",
       "0                                                  3      \n",
       "1                                                  2      \n",
       "2                                                  4      \n",
       "3                                                  3      \n",
       "4                                                  4      "
      ],
      "text/html": "<div>\n<style scoped>\n    .dataframe tbody tr th:only-of-type {\n        vertical-align: middle;\n    }\n\n    .dataframe tbody tr th {\n        vertical-align: top;\n    }\n\n    .dataframe thead th {\n        text-align: right;\n    }\n</style>\n<table border=\"1\" class=\"dataframe\">\n  <thead>\n    <tr style=\"text-align: right;\">\n      <th></th>\n      <th>Siapa nama kamu?</th>\n      <th>Cewek atau cowok nih?</th>\n      <th>Seberapa penting quality time bareng calon pacar untuk kamu?</th>\n      <th>Seberapa penting physical touch sama calon pacar untuk kamu?</th>\n      <th>Seberapa penting word of affirmation dari calon pacar untuk kamu?</th>\n      <th>Seberapa penting dapet kado dari calon pacar untuk kamu?</th>\n      <th>Seberapa penting bantuan dari calon pacar untuk kamu?</th>\n    </tr>\n  </thead>\n  <tbody>\n    <tr>\n      <th>0</th>\n      <td>A**************</td>\n      <td>Cowok</td>\n      <td>5</td>\n      <td>5</td>\n      <td>4</td>\n      <td>1</td>\n      <td>3</td>\n    </tr>\n    <tr>\n      <th>1</th>\n      <td>L****</td>\n      <td>Cewek</td>\n      <td>5</td>\n      <td>5</td>\n      <td>3</td>\n      <td>2</td>\n      <td>2</td>\n    </tr>\n    <tr>\n      <th>2</th>\n      <td>Y***********</td>\n      <td>Cowok</td>\n      <td>4</td>\n      <td>3</td>\n      <td>4</td>\n      <td>4</td>\n      <td>4</td>\n    </tr>\n    <tr>\n      <th>3</th>\n      <td>a***</td>\n      <td>Cowok</td>\n      <td>5</td>\n      <td>5</td>\n      <td>5</td>\n      <td>2</td>\n      <td>3</td>\n    </tr>\n    <tr>\n      <th>4</th>\n      <td>B****</td>\n      <td>Cowok</td>\n      <td>5</td>\n      <td>5</td>\n      <td>5</td>\n      <td>2</td>\n      <td>4</td>\n    </tr>\n  </tbody>\n</table>\n</div>"
     },
     "metadata": {},
     "execution_count": 5
    }
   ],
   "source": [
    "dt.head()"
   ]
  },
  {
   "cell_type": "code",
   "execution_count": 6,
   "metadata": {},
   "outputs": [],
   "source": [
    "dt.columns = ['name','sex','qt','touch','words','gift','serv']"
   ]
  },
  {
   "cell_type": "code",
   "execution_count": 7,
   "metadata": {},
   "outputs": [
    {
     "output_type": "execute_result",
     "data": {
      "text/plain": [
       "              name    sex  qt  touch  words  gift  serv\n",
       "0  A**************  Cowok   5      5      4     1     3\n",
       "1            L****  Cewek   5      5      3     2     2\n",
       "2     Y***********  Cowok   4      3      4     4     4\n",
       "3             a***  Cowok   5      5      5     2     3\n",
       "4            B****  Cowok   5      5      5     2     4"
      ],
      "text/html": "<div>\n<style scoped>\n    .dataframe tbody tr th:only-of-type {\n        vertical-align: middle;\n    }\n\n    .dataframe tbody tr th {\n        vertical-align: top;\n    }\n\n    .dataframe thead th {\n        text-align: right;\n    }\n</style>\n<table border=\"1\" class=\"dataframe\">\n  <thead>\n    <tr style=\"text-align: right;\">\n      <th></th>\n      <th>name</th>\n      <th>sex</th>\n      <th>qt</th>\n      <th>touch</th>\n      <th>words</th>\n      <th>gift</th>\n      <th>serv</th>\n    </tr>\n  </thead>\n  <tbody>\n    <tr>\n      <th>0</th>\n      <td>A**************</td>\n      <td>Cowok</td>\n      <td>5</td>\n      <td>5</td>\n      <td>4</td>\n      <td>1</td>\n      <td>3</td>\n    </tr>\n    <tr>\n      <th>1</th>\n      <td>L****</td>\n      <td>Cewek</td>\n      <td>5</td>\n      <td>5</td>\n      <td>3</td>\n      <td>2</td>\n      <td>2</td>\n    </tr>\n    <tr>\n      <th>2</th>\n      <td>Y***********</td>\n      <td>Cowok</td>\n      <td>4</td>\n      <td>3</td>\n      <td>4</td>\n      <td>4</td>\n      <td>4</td>\n    </tr>\n    <tr>\n      <th>3</th>\n      <td>a***</td>\n      <td>Cowok</td>\n      <td>5</td>\n      <td>5</td>\n      <td>5</td>\n      <td>2</td>\n      <td>3</td>\n    </tr>\n    <tr>\n      <th>4</th>\n      <td>B****</td>\n      <td>Cowok</td>\n      <td>5</td>\n      <td>5</td>\n      <td>5</td>\n      <td>2</td>\n      <td>4</td>\n    </tr>\n  </tbody>\n</table>\n</div>"
     },
     "metadata": {},
     "execution_count": 7
    }
   ],
   "source": [
    "dt.head()"
   ]
  },
  {
   "source": [
    "### Data Preparation"
   ],
   "cell_type": "markdown",
   "metadata": {}
  },
  {
   "cell_type": "code",
   "execution_count": 8,
   "metadata": {},
   "outputs": [],
   "source": [
    "dt['sex'] = dt['sex'].apply(lambda x: 0 if x == 'Cowok' else 1)"
   ]
  },
  {
   "cell_type": "code",
   "execution_count": 9,
   "metadata": {},
   "outputs": [],
   "source": [
    "m_dt = dt[dt['sex']==0]\n",
    "f_dt = dt[dt['sex']==1]"
   ]
  },
  {
   "cell_type": "code",
   "execution_count": 10,
   "metadata": {},
   "outputs": [
    {
     "output_type": "execute_result",
     "data": {
      "text/plain": [
       "              name  sex  qt  touch  words  gift  serv\n",
       "0  A**************    0   5      5      4     1     3\n",
       "1            L****    1   5      5      3     2     2\n",
       "2     Y***********    0   4      3      4     4     4\n",
       "3             a***    0   5      5      5     2     3\n",
       "4            B****    0   5      5      5     2     4"
      ],
      "text/html": "<div>\n<style scoped>\n    .dataframe tbody tr th:only-of-type {\n        vertical-align: middle;\n    }\n\n    .dataframe tbody tr th {\n        vertical-align: top;\n    }\n\n    .dataframe thead th {\n        text-align: right;\n    }\n</style>\n<table border=\"1\" class=\"dataframe\">\n  <thead>\n    <tr style=\"text-align: right;\">\n      <th></th>\n      <th>name</th>\n      <th>sex</th>\n      <th>qt</th>\n      <th>touch</th>\n      <th>words</th>\n      <th>gift</th>\n      <th>serv</th>\n    </tr>\n  </thead>\n  <tbody>\n    <tr>\n      <th>0</th>\n      <td>A**************</td>\n      <td>0</td>\n      <td>5</td>\n      <td>5</td>\n      <td>4</td>\n      <td>1</td>\n      <td>3</td>\n    </tr>\n    <tr>\n      <th>1</th>\n      <td>L****</td>\n      <td>1</td>\n      <td>5</td>\n      <td>5</td>\n      <td>3</td>\n      <td>2</td>\n      <td>2</td>\n    </tr>\n    <tr>\n      <th>2</th>\n      <td>Y***********</td>\n      <td>0</td>\n      <td>4</td>\n      <td>3</td>\n      <td>4</td>\n      <td>4</td>\n      <td>4</td>\n    </tr>\n    <tr>\n      <th>3</th>\n      <td>a***</td>\n      <td>0</td>\n      <td>5</td>\n      <td>5</td>\n      <td>5</td>\n      <td>2</td>\n      <td>3</td>\n    </tr>\n    <tr>\n      <th>4</th>\n      <td>B****</td>\n      <td>0</td>\n      <td>5</td>\n      <td>5</td>\n      <td>5</td>\n      <td>2</td>\n      <td>4</td>\n    </tr>\n  </tbody>\n</table>\n</div>"
     },
     "metadata": {},
     "execution_count": 10
    }
   ],
   "source": [
    "dt.head()"
   ]
  },
  {
   "cell_type": "code",
   "execution_count": 11,
   "metadata": {},
   "outputs": [],
   "source": [
    "m_X = m_dt.drop(['name','sex'],axis=1)\n",
    "f_X = f_dt.drop(['name','sex'],axis=1)"
   ]
  },
  {
   "source": [
    "## Data Model Development"
   ],
   "cell_type": "markdown",
   "metadata": {}
  },
  {
   "cell_type": "code",
   "execution_count": 12,
   "metadata": {},
   "outputs": [],
   "source": [
    "m_nbrs = NearestNeighbors(n_neighbors=5).fit(m_X)\n",
    "f_nbrs = NearestNeighbors(n_neighbors=5).fit(f_X)"
   ]
  },
  {
   "cell_type": "code",
   "execution_count": 13,
   "metadata": {},
   "outputs": [],
   "source": [
    "X = dt.drop(['name','sex'], axis=1)"
   ]
  },
  {
   "source": [
    "#### Data Testing For Match"
   ],
   "cell_type": "markdown",
   "metadata": {}
  },
  {
   "source": [
    "In this test, we can use to type our name to see who are our match in the context of type of dating"
   ],
   "cell_type": "markdown",
   "metadata": {}
  },
  {
   "cell_type": "code",
   "execution_count": 14,
   "metadata": {},
   "outputs": [],
   "source": [
    "test = X[dt['name'] == input()].values\n",
    "#### Example input : D***"
   ]
  },
  {
   "cell_type": "code",
   "execution_count": 15,
   "metadata": {},
   "outputs": [],
   "source": [
    "_, id = f_nbrs.kneighbors(test)"
   ]
  },
  {
   "cell_type": "code",
   "execution_count": 16,
   "metadata": {},
   "outputs": [
    {
     "output_type": "execute_result",
     "data": {
      "text/plain": [
       "array([[16,  9, 18, 19,  5],\n",
       "       [ 2, 17,  0,  5, 15]], dtype=int64)"
      ]
     },
     "metadata": {},
     "execution_count": 16
    }
   ],
   "source": [
    "id"
   ]
  },
  {
   "cell_type": "code",
   "execution_count": 17,
   "metadata": {},
   "outputs": [
    {
     "output_type": "execute_result",
     "data": {
      "text/plain": [
       "73             R***\n",
       "49           A*****\n",
       "93          F******\n",
       "97    K************\n",
       "27            v****\n",
       "Name: name, dtype: object"
      ]
     },
     "metadata": {},
     "execution_count": 17
    }
   ],
   "source": [
    "f_dt.iloc[id[0]]['name']"
   ]
  },
  {
   "source": [
    "#### Data Insights"
   ],
   "cell_type": "markdown",
   "metadata": {}
  },
  {
   "cell_type": "code",
   "execution_count": 18,
   "metadata": {},
   "outputs": [
    {
     "output_type": "stream",
     "name": "stdout",
     "text": [
      "0    81\n1    20\nName: sex, dtype: int64\n"
     ]
    }
   ],
   "source": [
    "scnt = dt[\"sex\"].value_counts()\n",
    "print(scnt)"
   ]
  },
  {
   "source": [
    "Count Men : 81\n",
    "Count Women : 20\n",
    "Dominantly men noted on this insights"
   ],
   "cell_type": "markdown",
   "metadata": {}
  },
  {
   "cell_type": "code",
   "execution_count": 19,
   "metadata": {},
   "outputs": [
    {
     "output_type": "execute_result",
     "data": {
      "text/plain": [
       "-0.1939319896761031"
      ]
     },
     "metadata": {},
     "execution_count": 19
    }
   ],
   "source": [
    "dt[input()].corr(dt[\"sex\"])\n",
    "#### input() : \"touch\", \"gift\", \"serv\", \"qt\", \"words\"\n",
    "#### Untuk melihat korelasi dari gender untuk preferensi type dating\n",
    "#### Semakin mendekati 0, semakin dua kolom tidak berkorelasi.\n",
    "#### Semakin mendekati 1, semakin dua kolom berbanding lurus.\n",
    "#### Semakin mendekati -1, semakin dua kolom berbanding terbalik\n",
    "\n",
    "#### Example input : touch\n",
    "#### Insight : Jika dicoba satu-satu terdapat insight bahwa physical touch,qt,dan words masih memiliki korelasi -0,2 hampir berbanding terbalik, dan untk gift dan service hampir tidak berkorelasi. Hal ini dapat disimpulkan bahwa preferensi masing-masing type dating berbeda tanpa memandang gender."
   ]
  },
  {
   "source": [
    "#### Basic Data Statistic"
   ],
   "cell_type": "markdown",
   "metadata": {}
  },
  {
   "source": [
    "#### Men Average Preference of Physical Touch, Quality Time, Words, Gift, or Service"
   ],
   "cell_type": "markdown",
   "metadata": {}
  },
  {
   "cell_type": "code",
   "execution_count": 20,
   "metadata": {},
   "outputs": [
    {
     "output_type": "stream",
     "name": "stdout",
     "text": [
      "4.185185185185185\n3.2962962962962963\n3.8271604938271606\n2.740740740740741\n3.765432098765432\n"
     ]
    }
   ],
   "source": [
    "print(m_dt[\"qt\"].mean())\n",
    "print(m_dt[\"touch\"].mean())\n",
    "print(m_dt[\"words\"].mean())\n",
    "print(m_dt[\"gift\"].mean())\n",
    "print(m_dt[\"serv\"].mean())"
   ]
  },
  {
   "source": [
    "#### Women Average Preference of Physical Touch, Quality Time, Words, Gift, or Service"
   ],
   "cell_type": "markdown",
   "metadata": {}
  },
  {
   "cell_type": "code",
   "execution_count": 21,
   "metadata": {},
   "outputs": [
    {
     "output_type": "stream",
     "name": "stdout",
     "text": [
      "3.75\n2.65\n3.3\n2.7\n3.7\n"
     ]
    }
   ],
   "source": [
    "print(f_dt[\"qt\"].mean())\n",
    "print(f_dt[\"touch\"].mean())\n",
    "print(f_dt[\"words\"].mean())\n",
    "print(f_dt[\"gift\"].mean())\n",
    "print(f_dt[\"serv\"].mean())"
   ]
  },
  {
   "source": [
    "#### Men Maximum & Minimum Preference of Physical Touch, Quality Time, Words, Gift, or Service"
   ],
   "cell_type": "markdown",
   "metadata": {}
  },
  {
   "cell_type": "code",
   "execution_count": 22,
   "metadata": {},
   "outputs": [
    {
     "output_type": "stream",
     "name": "stdout",
     "text": [
      "5\n5\n5\n5\n5\n1\n1\n1\n1\n1\n"
     ]
    }
   ],
   "source": [
    "print(m_dt[\"qt\"].max())\n",
    "print(m_dt[\"touch\"].max())\n",
    "print(m_dt[\"words\"].max())\n",
    "print(m_dt[\"gift\"].max())\n",
    "print(m_dt[\"serv\"].max())\n",
    "\n",
    "print(m_dt[\"qt\"].min())\n",
    "print(m_dt[\"touch\"].min())\n",
    "print(m_dt[\"words\"].min())\n",
    "print(m_dt[\"gift\"].min())\n",
    "print(m_dt[\"serv\"].min())"
   ]
  },
  {
   "source": [
    "#### Women Maximum & Minimum Preference of Physical Touch, Quality Time, Words, Gift, or Service"
   ],
   "cell_type": "markdown",
   "metadata": {}
  },
  {
   "cell_type": "code",
   "execution_count": 23,
   "metadata": {},
   "outputs": [
    {
     "output_type": "stream",
     "name": "stdout",
     "text": [
      "5\n5\n5\n5\n5\n1\n1\n1\n1\n1\n"
     ]
    }
   ],
   "source": [
    "print(f_dt[\"qt\"].max())\n",
    "print(f_dt[\"touch\"].max())\n",
    "print(f_dt[\"words\"].max())\n",
    "print(f_dt[\"gift\"].max())\n",
    "print(f_dt[\"serv\"].max())\n",
    "\n",
    "print(f_dt[\"qt\"].min())\n",
    "print(f_dt[\"touch\"].min())\n",
    "print(f_dt[\"words\"].min())\n",
    "print(f_dt[\"gift\"].min())\n",
    "print(f_dt[\"serv\"].min())"
   ]
  },
  {
   "source": [
    "Insight : Jika dicoba satu-satu terdapat insight bahwa physical touch,qt,dan words masih memiliki korelasi negatif -0,2 hampir berbanding terbalik, dan untk gift dan service hampir tidak berkorelasi menuju 0 dari negatif. \n",
    "\n",
    "Hal ini dapat disimpulkan bahwa preferensi masing-masing type dating berbeda.\n",
    "\n",
    "Juga didapatkan perbedaan rata-rata dari preferensi antara laki-laki dan wanita, untuk laki-laki dalam aspek physical touch lebih penting daripada wanita."
   ],
   "cell_type": "markdown",
   "metadata": {}
  }
 ]
}

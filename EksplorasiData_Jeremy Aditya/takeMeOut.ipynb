{
  "nbformat": 4,
  "nbformat_minor": 0,
  "metadata": {
    "colab": {
      "name": "takeMeOut.ipynb",
      "provenance": [],
      "collapsed_sections": []
    },
    "kernelspec": {
      "name": "python3",
      "display_name": "Python 3"
    }
  },
  "cells": [
    {
      "cell_type": "markdown",
      "metadata": {
        "id": "p3MLjSENLg__"
      },
      "source": [
        "Tugas Developer Student Clubs\n",
        "\n",
        "*   Nama  : Jeremy Aditya\n",
        "*   NIM   : 16520437\n",
        "*   Universitas : Institut Teknologi Bandung\n",
        "*   Mulai Pengerjaan : 14-11-2020\n",
        "*   Sumber : Take Me Out\n",
        "\n"
      ]
    },
    {
      "cell_type": "code",
      "metadata": {
        "id": "CBeRQVwSpN7d"
      },
      "source": [
        "import pandas as pd\n",
        "from sklearn.neighbors import NearestNeighbors\n",
        "import pickle\n",
        "import matplotlib.pyplot as plt\n"
      ],
      "execution_count": 110,
      "outputs": []
    },
    {
      "cell_type": "code",
      "metadata": {
        "id": "zjhML6jOpX93"
      },
      "source": [
        "#membaca data dari file.csv\n",
        "df = pd.read_csv('/content/takemeout.csv')"
      ],
      "execution_count": 111,
      "outputs": []
    },
    {
      "cell_type": "code",
      "metadata": {
        "id": "MNATtkz6phT0",
        "outputId": "e6296bd4-5f2c-44d2-fe54-738c6801c757",
        "colab": {
          "base_uri": "https://localhost:8080/",
          "height": 788
        }
      },
      "source": [
        "df"
      ],
      "execution_count": 112,
      "outputs": [
        {
          "output_type": "execute_result",
          "data": {
            "text/html": [
              "<div>\n",
              "<style scoped>\n",
              "    .dataframe tbody tr th:only-of-type {\n",
              "        vertical-align: middle;\n",
              "    }\n",
              "\n",
              "    .dataframe tbody tr th {\n",
              "        vertical-align: top;\n",
              "    }\n",
              "\n",
              "    .dataframe thead th {\n",
              "        text-align: right;\n",
              "    }\n",
              "</style>\n",
              "<table border=\"1\" class=\"dataframe\">\n",
              "  <thead>\n",
              "    <tr style=\"text-align: right;\">\n",
              "      <th></th>\n",
              "      <th>Timestamp</th>\n",
              "      <th>Siapa nama kamu?</th>\n",
              "      <th>Cewek atau cowok nih?</th>\n",
              "      <th>Seberapa penting quality time bareng calon pacar untuk kamu?</th>\n",
              "      <th>Seberapa penting physical touch sama calon pacar untuk kamu?</th>\n",
              "      <th>Seberapa penting word of affirmation dari calon pacar untuk kamu?</th>\n",
              "      <th>Seberapa penting dapet kado dari calon pacar untuk kamu?</th>\n",
              "      <th>Seberapa penting bantuan dari calon pacar untuk kamu?</th>\n",
              "    </tr>\n",
              "  </thead>\n",
              "  <tbody>\n",
              "    <tr>\n",
              "      <th>0</th>\n",
              "      <td>2020/10/31 3:39:25 PM GMT+7</td>\n",
              "      <td>A**************</td>\n",
              "      <td>Cowok</td>\n",
              "      <td>5</td>\n",
              "      <td>5</td>\n",
              "      <td>4</td>\n",
              "      <td>1</td>\n",
              "      <td>3</td>\n",
              "    </tr>\n",
              "    <tr>\n",
              "      <th>1</th>\n",
              "      <td>2020/10/31 3:39:36 PM GMT+7</td>\n",
              "      <td>L****</td>\n",
              "      <td>Cewek</td>\n",
              "      <td>5</td>\n",
              "      <td>5</td>\n",
              "      <td>3</td>\n",
              "      <td>2</td>\n",
              "      <td>2</td>\n",
              "    </tr>\n",
              "    <tr>\n",
              "      <th>2</th>\n",
              "      <td>2020/10/31 3:39:38 PM GMT+7</td>\n",
              "      <td>Y***********</td>\n",
              "      <td>Cowok</td>\n",
              "      <td>4</td>\n",
              "      <td>3</td>\n",
              "      <td>4</td>\n",
              "      <td>4</td>\n",
              "      <td>4</td>\n",
              "    </tr>\n",
              "    <tr>\n",
              "      <th>3</th>\n",
              "      <td>2020/10/31 3:39:42 PM GMT+7</td>\n",
              "      <td>a***</td>\n",
              "      <td>Cowok</td>\n",
              "      <td>5</td>\n",
              "      <td>5</td>\n",
              "      <td>5</td>\n",
              "      <td>2</td>\n",
              "      <td>3</td>\n",
              "    </tr>\n",
              "    <tr>\n",
              "      <th>4</th>\n",
              "      <td>2020/10/31 3:39:43 PM GMT+7</td>\n",
              "      <td>B****</td>\n",
              "      <td>Cowok</td>\n",
              "      <td>5</td>\n",
              "      <td>5</td>\n",
              "      <td>5</td>\n",
              "      <td>2</td>\n",
              "      <td>4</td>\n",
              "    </tr>\n",
              "    <tr>\n",
              "      <th>...</th>\n",
              "      <td>...</td>\n",
              "      <td>...</td>\n",
              "      <td>...</td>\n",
              "      <td>...</td>\n",
              "      <td>...</td>\n",
              "      <td>...</td>\n",
              "      <td>...</td>\n",
              "      <td>...</td>\n",
              "    </tr>\n",
              "    <tr>\n",
              "      <th>96</th>\n",
              "      <td>2020/10/31 3:42:57 PM GMT+7</td>\n",
              "      <td>A********</td>\n",
              "      <td>Cowok</td>\n",
              "      <td>5</td>\n",
              "      <td>1</td>\n",
              "      <td>4</td>\n",
              "      <td>2</td>\n",
              "      <td>3</td>\n",
              "    </tr>\n",
              "    <tr>\n",
              "      <th>97</th>\n",
              "      <td>2020/10/31 3:43:02 PM GMT+7</td>\n",
              "      <td>K************</td>\n",
              "      <td>Cewek</td>\n",
              "      <td>4</td>\n",
              "      <td>5</td>\n",
              "      <td>4</td>\n",
              "      <td>4</td>\n",
              "      <td>3</td>\n",
              "    </tr>\n",
              "    <tr>\n",
              "      <th>98</th>\n",
              "      <td>2020/10/31 3:43:04 PM GMT+7</td>\n",
              "      <td>M*</td>\n",
              "      <td>Cowok</td>\n",
              "      <td>5</td>\n",
              "      <td>5</td>\n",
              "      <td>5</td>\n",
              "      <td>5</td>\n",
              "      <td>4</td>\n",
              "    </tr>\n",
              "    <tr>\n",
              "      <th>99</th>\n",
              "      <td>2020/10/31 3:43:11 PM GMT+7</td>\n",
              "      <td>K********************</td>\n",
              "      <td>Cowok</td>\n",
              "      <td>1</td>\n",
              "      <td>1</td>\n",
              "      <td>1</td>\n",
              "      <td>1</td>\n",
              "      <td>1</td>\n",
              "    </tr>\n",
              "    <tr>\n",
              "      <th>100</th>\n",
              "      <td>2020/10/31 3:43:22 PM GMT+7</td>\n",
              "      <td>B***********</td>\n",
              "      <td>Cowok</td>\n",
              "      <td>5</td>\n",
              "      <td>5</td>\n",
              "      <td>5</td>\n",
              "      <td>5</td>\n",
              "      <td>4</td>\n",
              "    </tr>\n",
              "  </tbody>\n",
              "</table>\n",
              "<p>101 rows × 8 columns</p>\n",
              "</div>"
            ],
            "text/plain": [
              "                       Timestamp  ... Seberapa penting bantuan dari calon pacar untuk kamu?\n",
              "0    2020/10/31 3:39:25 PM GMT+7  ...                                                  3   \n",
              "1    2020/10/31 3:39:36 PM GMT+7  ...                                                  2   \n",
              "2    2020/10/31 3:39:38 PM GMT+7  ...                                                  4   \n",
              "3    2020/10/31 3:39:42 PM GMT+7  ...                                                  3   \n",
              "4    2020/10/31 3:39:43 PM GMT+7  ...                                                  4   \n",
              "..                           ...  ...                                                ...   \n",
              "96   2020/10/31 3:42:57 PM GMT+7  ...                                                  3   \n",
              "97   2020/10/31 3:43:02 PM GMT+7  ...                                                  3   \n",
              "98   2020/10/31 3:43:04 PM GMT+7  ...                                                  4   \n",
              "99   2020/10/31 3:43:11 PM GMT+7  ...                                                  1   \n",
              "100  2020/10/31 3:43:22 PM GMT+7  ...                                                  4   \n",
              "\n",
              "[101 rows x 8 columns]"
            ]
          },
          "metadata": {
            "tags": []
          },
          "execution_count": 112
        }
      ]
    },
    {
      "cell_type": "markdown",
      "metadata": {
        "id": "PKbPwitnMIZZ"
      },
      "source": [
        "#Data Preparation"
      ]
    },
    {
      "cell_type": "markdown",
      "metadata": {
        "id": "sVH0MX6HWtgB"
      },
      "source": [
        "Membuang kolom waktu karena tidak relevan\n"
      ]
    },
    {
      "cell_type": "code",
      "metadata": {
        "id": "PP0lDJArpnYc"
      },
      "source": [
        "df = df.iloc[:,1:]"
      ],
      "execution_count": 113,
      "outputs": []
    },
    {
      "cell_type": "markdown",
      "metadata": {
        "id": "oMbJXDe0WyGC"
      },
      "source": [
        "Mengganti nama kolom"
      ]
    },
    {
      "cell_type": "code",
      "metadata": {
        "id": "Tkw3wP4UpvMd"
      },
      "source": [
        "df.columns = [\"Name\", 'Gender', 'Quality Time', 'Physical Touch', 'Affirmative Words', 'Gifts', 'Helps']"
      ],
      "execution_count": 114,
      "outputs": []
    },
    {
      "cell_type": "code",
      "metadata": {
        "id": "3mkCsVe7qCuD",
        "outputId": "ee888170-1af6-48d6-b1a0-898d8a1bf4bf",
        "colab": {
          "base_uri": "https://localhost:8080/",
          "height": 195
        }
      },
      "source": [
        "df.head()"
      ],
      "execution_count": 115,
      "outputs": [
        {
          "output_type": "execute_result",
          "data": {
            "text/html": [
              "<div>\n",
              "<style scoped>\n",
              "    .dataframe tbody tr th:only-of-type {\n",
              "        vertical-align: middle;\n",
              "    }\n",
              "\n",
              "    .dataframe tbody tr th {\n",
              "        vertical-align: top;\n",
              "    }\n",
              "\n",
              "    .dataframe thead th {\n",
              "        text-align: right;\n",
              "    }\n",
              "</style>\n",
              "<table border=\"1\" class=\"dataframe\">\n",
              "  <thead>\n",
              "    <tr style=\"text-align: right;\">\n",
              "      <th></th>\n",
              "      <th>Name</th>\n",
              "      <th>Gender</th>\n",
              "      <th>Quality Time</th>\n",
              "      <th>Physical Touch</th>\n",
              "      <th>Affirmative Words</th>\n",
              "      <th>Gifts</th>\n",
              "      <th>Helps</th>\n",
              "    </tr>\n",
              "  </thead>\n",
              "  <tbody>\n",
              "    <tr>\n",
              "      <th>0</th>\n",
              "      <td>A**************</td>\n",
              "      <td>Cowok</td>\n",
              "      <td>5</td>\n",
              "      <td>5</td>\n",
              "      <td>4</td>\n",
              "      <td>1</td>\n",
              "      <td>3</td>\n",
              "    </tr>\n",
              "    <tr>\n",
              "      <th>1</th>\n",
              "      <td>L****</td>\n",
              "      <td>Cewek</td>\n",
              "      <td>5</td>\n",
              "      <td>5</td>\n",
              "      <td>3</td>\n",
              "      <td>2</td>\n",
              "      <td>2</td>\n",
              "    </tr>\n",
              "    <tr>\n",
              "      <th>2</th>\n",
              "      <td>Y***********</td>\n",
              "      <td>Cowok</td>\n",
              "      <td>4</td>\n",
              "      <td>3</td>\n",
              "      <td>4</td>\n",
              "      <td>4</td>\n",
              "      <td>4</td>\n",
              "    </tr>\n",
              "    <tr>\n",
              "      <th>3</th>\n",
              "      <td>a***</td>\n",
              "      <td>Cowok</td>\n",
              "      <td>5</td>\n",
              "      <td>5</td>\n",
              "      <td>5</td>\n",
              "      <td>2</td>\n",
              "      <td>3</td>\n",
              "    </tr>\n",
              "    <tr>\n",
              "      <th>4</th>\n",
              "      <td>B****</td>\n",
              "      <td>Cowok</td>\n",
              "      <td>5</td>\n",
              "      <td>5</td>\n",
              "      <td>5</td>\n",
              "      <td>2</td>\n",
              "      <td>4</td>\n",
              "    </tr>\n",
              "  </tbody>\n",
              "</table>\n",
              "</div>"
            ],
            "text/plain": [
              "              Name Gender  Quality Time  ...  Affirmative Words  Gifts  Helps\n",
              "0  A**************  Cowok             5  ...                  4      1      3\n",
              "1            L****  Cewek             5  ...                  3      2      2\n",
              "2     Y***********  Cowok             4  ...                  4      4      4\n",
              "3             a***  Cowok             5  ...                  5      2      3\n",
              "4            B****  Cowok             5  ...                  5      2      4\n",
              "\n",
              "[5 rows x 7 columns]"
            ]
          },
          "metadata": {
            "tags": []
          },
          "execution_count": 115
        }
      ]
    },
    {
      "cell_type": "markdown",
      "metadata": {
        "id": "BHO5bRyxW3NB"
      },
      "source": [
        "Mengganti nilai 'Cowok' menjadi 0 dan 'Cewek' menjadi 1 untuk mempermudah pengolahan data"
      ]
    },
    {
      "cell_type": "code",
      "metadata": {
        "id": "tWHFXOkYqG-U"
      },
      "source": [
        "df['Gender'] = df['Gender'].apply(lambda x:0 if x == 'Cowok' else 1 )"
      ],
      "execution_count": 116,
      "outputs": []
    },
    {
      "cell_type": "code",
      "metadata": {
        "id": "xnopEwHjqLs7",
        "outputId": "28bef5e5-5fcf-4014-f62b-30c5429d4f53",
        "colab": {
          "base_uri": "https://localhost:8080/",
          "height": 195
        }
      },
      "source": [
        "df.head()"
      ],
      "execution_count": 117,
      "outputs": [
        {
          "output_type": "execute_result",
          "data": {
            "text/html": [
              "<div>\n",
              "<style scoped>\n",
              "    .dataframe tbody tr th:only-of-type {\n",
              "        vertical-align: middle;\n",
              "    }\n",
              "\n",
              "    .dataframe tbody tr th {\n",
              "        vertical-align: top;\n",
              "    }\n",
              "\n",
              "    .dataframe thead th {\n",
              "        text-align: right;\n",
              "    }\n",
              "</style>\n",
              "<table border=\"1\" class=\"dataframe\">\n",
              "  <thead>\n",
              "    <tr style=\"text-align: right;\">\n",
              "      <th></th>\n",
              "      <th>Name</th>\n",
              "      <th>Gender</th>\n",
              "      <th>Quality Time</th>\n",
              "      <th>Physical Touch</th>\n",
              "      <th>Affirmative Words</th>\n",
              "      <th>Gifts</th>\n",
              "      <th>Helps</th>\n",
              "    </tr>\n",
              "  </thead>\n",
              "  <tbody>\n",
              "    <tr>\n",
              "      <th>0</th>\n",
              "      <td>A**************</td>\n",
              "      <td>0</td>\n",
              "      <td>5</td>\n",
              "      <td>5</td>\n",
              "      <td>4</td>\n",
              "      <td>1</td>\n",
              "      <td>3</td>\n",
              "    </tr>\n",
              "    <tr>\n",
              "      <th>1</th>\n",
              "      <td>L****</td>\n",
              "      <td>1</td>\n",
              "      <td>5</td>\n",
              "      <td>5</td>\n",
              "      <td>3</td>\n",
              "      <td>2</td>\n",
              "      <td>2</td>\n",
              "    </tr>\n",
              "    <tr>\n",
              "      <th>2</th>\n",
              "      <td>Y***********</td>\n",
              "      <td>0</td>\n",
              "      <td>4</td>\n",
              "      <td>3</td>\n",
              "      <td>4</td>\n",
              "      <td>4</td>\n",
              "      <td>4</td>\n",
              "    </tr>\n",
              "    <tr>\n",
              "      <th>3</th>\n",
              "      <td>a***</td>\n",
              "      <td>0</td>\n",
              "      <td>5</td>\n",
              "      <td>5</td>\n",
              "      <td>5</td>\n",
              "      <td>2</td>\n",
              "      <td>3</td>\n",
              "    </tr>\n",
              "    <tr>\n",
              "      <th>4</th>\n",
              "      <td>B****</td>\n",
              "      <td>0</td>\n",
              "      <td>5</td>\n",
              "      <td>5</td>\n",
              "      <td>5</td>\n",
              "      <td>2</td>\n",
              "      <td>4</td>\n",
              "    </tr>\n",
              "  </tbody>\n",
              "</table>\n",
              "</div>"
            ],
            "text/plain": [
              "              Name  Gender  Quality Time  ...  Affirmative Words  Gifts  Helps\n",
              "0  A**************       0             5  ...                  4      1      3\n",
              "1            L****       1             5  ...                  3      2      2\n",
              "2     Y***********       0             4  ...                  4      4      4\n",
              "3             a***       0             5  ...                  5      2      3\n",
              "4            B****       0             5  ...                  5      2      4\n",
              "\n",
              "[5 rows x 7 columns]"
            ]
          },
          "metadata": {
            "tags": []
          },
          "execution_count": 117
        }
      ]
    },
    {
      "cell_type": "markdown",
      "metadata": {
        "id": "4D0sAtVeWn9z"
      },
      "source": [
        "Membagi data menjadi data pria dan data wanita"
      ]
    },
    {
      "cell_type": "code",
      "metadata": {
        "id": "DIdUfGLfqNlE"
      },
      "source": [
        "m_df = df[df['Gender'] == 0]\n",
        "f_df = df[df['Gender'] == 1]"
      ],
      "execution_count": 118,
      "outputs": []
    },
    {
      "cell_type": "code",
      "metadata": {
        "id": "AOim-oGBqi70",
        "outputId": "c8f4b384-dde7-4573-f048-0bbe3b4c1a3a",
        "colab": {
          "base_uri": "https://localhost:8080/",
          "height": 402
        }
      },
      "source": [
        "m_df"
      ],
      "execution_count": 119,
      "outputs": [
        {
          "output_type": "execute_result",
          "data": {
            "text/html": [
              "<div>\n",
              "<style scoped>\n",
              "    .dataframe tbody tr th:only-of-type {\n",
              "        vertical-align: middle;\n",
              "    }\n",
              "\n",
              "    .dataframe tbody tr th {\n",
              "        vertical-align: top;\n",
              "    }\n",
              "\n",
              "    .dataframe thead th {\n",
              "        text-align: right;\n",
              "    }\n",
              "</style>\n",
              "<table border=\"1\" class=\"dataframe\">\n",
              "  <thead>\n",
              "    <tr style=\"text-align: right;\">\n",
              "      <th></th>\n",
              "      <th>Name</th>\n",
              "      <th>Gender</th>\n",
              "      <th>Quality Time</th>\n",
              "      <th>Physical Touch</th>\n",
              "      <th>Affirmative Words</th>\n",
              "      <th>Gifts</th>\n",
              "      <th>Helps</th>\n",
              "    </tr>\n",
              "  </thead>\n",
              "  <tbody>\n",
              "    <tr>\n",
              "      <th>0</th>\n",
              "      <td>A**************</td>\n",
              "      <td>0</td>\n",
              "      <td>5</td>\n",
              "      <td>5</td>\n",
              "      <td>4</td>\n",
              "      <td>1</td>\n",
              "      <td>3</td>\n",
              "    </tr>\n",
              "    <tr>\n",
              "      <th>2</th>\n",
              "      <td>Y***********</td>\n",
              "      <td>0</td>\n",
              "      <td>4</td>\n",
              "      <td>3</td>\n",
              "      <td>4</td>\n",
              "      <td>4</td>\n",
              "      <td>4</td>\n",
              "    </tr>\n",
              "    <tr>\n",
              "      <th>3</th>\n",
              "      <td>a***</td>\n",
              "      <td>0</td>\n",
              "      <td>5</td>\n",
              "      <td>5</td>\n",
              "      <td>5</td>\n",
              "      <td>2</td>\n",
              "      <td>3</td>\n",
              "    </tr>\n",
              "    <tr>\n",
              "      <th>4</th>\n",
              "      <td>B****</td>\n",
              "      <td>0</td>\n",
              "      <td>5</td>\n",
              "      <td>5</td>\n",
              "      <td>5</td>\n",
              "      <td>2</td>\n",
              "      <td>4</td>\n",
              "    </tr>\n",
              "    <tr>\n",
              "      <th>5</th>\n",
              "      <td>M*********</td>\n",
              "      <td>0</td>\n",
              "      <td>5</td>\n",
              "      <td>5</td>\n",
              "      <td>4</td>\n",
              "      <td>2</td>\n",
              "      <td>2</td>\n",
              "    </tr>\n",
              "    <tr>\n",
              "      <th>...</th>\n",
              "      <td>...</td>\n",
              "      <td>...</td>\n",
              "      <td>...</td>\n",
              "      <td>...</td>\n",
              "      <td>...</td>\n",
              "      <td>...</td>\n",
              "      <td>...</td>\n",
              "    </tr>\n",
              "    <tr>\n",
              "      <th>95</th>\n",
              "      <td>N****</td>\n",
              "      <td>0</td>\n",
              "      <td>5</td>\n",
              "      <td>4</td>\n",
              "      <td>4</td>\n",
              "      <td>4</td>\n",
              "      <td>5</td>\n",
              "    </tr>\n",
              "    <tr>\n",
              "      <th>96</th>\n",
              "      <td>A********</td>\n",
              "      <td>0</td>\n",
              "      <td>5</td>\n",
              "      <td>1</td>\n",
              "      <td>4</td>\n",
              "      <td>2</td>\n",
              "      <td>3</td>\n",
              "    </tr>\n",
              "    <tr>\n",
              "      <th>98</th>\n",
              "      <td>M*</td>\n",
              "      <td>0</td>\n",
              "      <td>5</td>\n",
              "      <td>5</td>\n",
              "      <td>5</td>\n",
              "      <td>5</td>\n",
              "      <td>4</td>\n",
              "    </tr>\n",
              "    <tr>\n",
              "      <th>99</th>\n",
              "      <td>K********************</td>\n",
              "      <td>0</td>\n",
              "      <td>1</td>\n",
              "      <td>1</td>\n",
              "      <td>1</td>\n",
              "      <td>1</td>\n",
              "      <td>1</td>\n",
              "    </tr>\n",
              "    <tr>\n",
              "      <th>100</th>\n",
              "      <td>B***********</td>\n",
              "      <td>0</td>\n",
              "      <td>5</td>\n",
              "      <td>5</td>\n",
              "      <td>5</td>\n",
              "      <td>5</td>\n",
              "      <td>4</td>\n",
              "    </tr>\n",
              "  </tbody>\n",
              "</table>\n",
              "<p>81 rows × 7 columns</p>\n",
              "</div>"
            ],
            "text/plain": [
              "                      Name  Gender  ...  Gifts  Helps\n",
              "0          A**************       0  ...      1      3\n",
              "2             Y***********       0  ...      4      4\n",
              "3                     a***       0  ...      2      3\n",
              "4                    B****       0  ...      2      4\n",
              "5               M*********       0  ...      2      2\n",
              "..                     ...     ...  ...    ...    ...\n",
              "95                   N****       0  ...      4      5\n",
              "96               A********       0  ...      2      3\n",
              "98                      M*       0  ...      5      4\n",
              "99   K********************       0  ...      1      1\n",
              "100           B***********       0  ...      5      4\n",
              "\n",
              "[81 rows x 7 columns]"
            ]
          },
          "metadata": {
            "tags": []
          },
          "execution_count": 119
        }
      ]
    },
    {
      "cell_type": "markdown",
      "metadata": {
        "id": "uEVjAKcTXB4j"
      },
      "source": [
        "Membuang kolom nama dan gender"
      ]
    },
    {
      "cell_type": "code",
      "metadata": {
        "id": "pjknB1LNqlSs"
      },
      "source": [
        "m_x = m_df.drop(['Name', 'Gender'], axis=1)\n",
        "f_x = f_df.drop(['Name', 'Gender'], axis=1)"
      ],
      "execution_count": 120,
      "outputs": []
    },
    {
      "cell_type": "code",
      "metadata": {
        "id": "63GVrio6rAp2",
        "outputId": "bedf51f2-a0fb-4ca0-d3b8-db265ed3515c",
        "colab": {
          "base_uri": "https://localhost:8080/",
          "height": 402
        }
      },
      "source": [
        "m_x"
      ],
      "execution_count": 121,
      "outputs": [
        {
          "output_type": "execute_result",
          "data": {
            "text/html": [
              "<div>\n",
              "<style scoped>\n",
              "    .dataframe tbody tr th:only-of-type {\n",
              "        vertical-align: middle;\n",
              "    }\n",
              "\n",
              "    .dataframe tbody tr th {\n",
              "        vertical-align: top;\n",
              "    }\n",
              "\n",
              "    .dataframe thead th {\n",
              "        text-align: right;\n",
              "    }\n",
              "</style>\n",
              "<table border=\"1\" class=\"dataframe\">\n",
              "  <thead>\n",
              "    <tr style=\"text-align: right;\">\n",
              "      <th></th>\n",
              "      <th>Quality Time</th>\n",
              "      <th>Physical Touch</th>\n",
              "      <th>Affirmative Words</th>\n",
              "      <th>Gifts</th>\n",
              "      <th>Helps</th>\n",
              "    </tr>\n",
              "  </thead>\n",
              "  <tbody>\n",
              "    <tr>\n",
              "      <th>0</th>\n",
              "      <td>5</td>\n",
              "      <td>5</td>\n",
              "      <td>4</td>\n",
              "      <td>1</td>\n",
              "      <td>3</td>\n",
              "    </tr>\n",
              "    <tr>\n",
              "      <th>2</th>\n",
              "      <td>4</td>\n",
              "      <td>3</td>\n",
              "      <td>4</td>\n",
              "      <td>4</td>\n",
              "      <td>4</td>\n",
              "    </tr>\n",
              "    <tr>\n",
              "      <th>3</th>\n",
              "      <td>5</td>\n",
              "      <td>5</td>\n",
              "      <td>5</td>\n",
              "      <td>2</td>\n",
              "      <td>3</td>\n",
              "    </tr>\n",
              "    <tr>\n",
              "      <th>4</th>\n",
              "      <td>5</td>\n",
              "      <td>5</td>\n",
              "      <td>5</td>\n",
              "      <td>2</td>\n",
              "      <td>4</td>\n",
              "    </tr>\n",
              "    <tr>\n",
              "      <th>5</th>\n",
              "      <td>5</td>\n",
              "      <td>5</td>\n",
              "      <td>4</td>\n",
              "      <td>2</td>\n",
              "      <td>2</td>\n",
              "    </tr>\n",
              "    <tr>\n",
              "      <th>...</th>\n",
              "      <td>...</td>\n",
              "      <td>...</td>\n",
              "      <td>...</td>\n",
              "      <td>...</td>\n",
              "      <td>...</td>\n",
              "    </tr>\n",
              "    <tr>\n",
              "      <th>95</th>\n",
              "      <td>5</td>\n",
              "      <td>4</td>\n",
              "      <td>4</td>\n",
              "      <td>4</td>\n",
              "      <td>5</td>\n",
              "    </tr>\n",
              "    <tr>\n",
              "      <th>96</th>\n",
              "      <td>5</td>\n",
              "      <td>1</td>\n",
              "      <td>4</td>\n",
              "      <td>2</td>\n",
              "      <td>3</td>\n",
              "    </tr>\n",
              "    <tr>\n",
              "      <th>98</th>\n",
              "      <td>5</td>\n",
              "      <td>5</td>\n",
              "      <td>5</td>\n",
              "      <td>5</td>\n",
              "      <td>4</td>\n",
              "    </tr>\n",
              "    <tr>\n",
              "      <th>99</th>\n",
              "      <td>1</td>\n",
              "      <td>1</td>\n",
              "      <td>1</td>\n",
              "      <td>1</td>\n",
              "      <td>1</td>\n",
              "    </tr>\n",
              "    <tr>\n",
              "      <th>100</th>\n",
              "      <td>5</td>\n",
              "      <td>5</td>\n",
              "      <td>5</td>\n",
              "      <td>5</td>\n",
              "      <td>4</td>\n",
              "    </tr>\n",
              "  </tbody>\n",
              "</table>\n",
              "<p>81 rows × 5 columns</p>\n",
              "</div>"
            ],
            "text/plain": [
              "     Quality Time  Physical Touch  Affirmative Words  Gifts  Helps\n",
              "0               5               5                  4      1      3\n",
              "2               4               3                  4      4      4\n",
              "3               5               5                  5      2      3\n",
              "4               5               5                  5      2      4\n",
              "5               5               5                  4      2      2\n",
              "..            ...             ...                ...    ...    ...\n",
              "95              5               4                  4      4      5\n",
              "96              5               1                  4      2      3\n",
              "98              5               5                  5      5      4\n",
              "99              1               1                  1      1      1\n",
              "100             5               5                  5      5      4\n",
              "\n",
              "[81 rows x 5 columns]"
            ]
          },
          "metadata": {
            "tags": []
          },
          "execution_count": 121
        }
      ]
    },
    {
      "cell_type": "code",
      "metadata": {
        "id": "PUJoIXasrCL8",
        "outputId": "2029b20e-9f10-4b8a-ae8a-b30ab919e382",
        "colab": {
          "base_uri": "https://localhost:8080/",
          "height": 639
        }
      },
      "source": [
        "f_x"
      ],
      "execution_count": 122,
      "outputs": [
        {
          "output_type": "execute_result",
          "data": {
            "text/html": [
              "<div>\n",
              "<style scoped>\n",
              "    .dataframe tbody tr th:only-of-type {\n",
              "        vertical-align: middle;\n",
              "    }\n",
              "\n",
              "    .dataframe tbody tr th {\n",
              "        vertical-align: top;\n",
              "    }\n",
              "\n",
              "    .dataframe thead th {\n",
              "        text-align: right;\n",
              "    }\n",
              "</style>\n",
              "<table border=\"1\" class=\"dataframe\">\n",
              "  <thead>\n",
              "    <tr style=\"text-align: right;\">\n",
              "      <th></th>\n",
              "      <th>Quality Time</th>\n",
              "      <th>Physical Touch</th>\n",
              "      <th>Affirmative Words</th>\n",
              "      <th>Gifts</th>\n",
              "      <th>Helps</th>\n",
              "    </tr>\n",
              "  </thead>\n",
              "  <tbody>\n",
              "    <tr>\n",
              "      <th>1</th>\n",
              "      <td>5</td>\n",
              "      <td>5</td>\n",
              "      <td>3</td>\n",
              "      <td>2</td>\n",
              "      <td>2</td>\n",
              "    </tr>\n",
              "    <tr>\n",
              "      <th>19</th>\n",
              "      <td>5</td>\n",
              "      <td>5</td>\n",
              "      <td>5</td>\n",
              "      <td>5</td>\n",
              "      <td>5</td>\n",
              "    </tr>\n",
              "    <tr>\n",
              "      <th>20</th>\n",
              "      <td>4</td>\n",
              "      <td>2</td>\n",
              "      <td>3</td>\n",
              "      <td>1</td>\n",
              "      <td>3</td>\n",
              "    </tr>\n",
              "    <tr>\n",
              "      <th>23</th>\n",
              "      <td>5</td>\n",
              "      <td>2</td>\n",
              "      <td>4</td>\n",
              "      <td>5</td>\n",
              "      <td>4</td>\n",
              "    </tr>\n",
              "    <tr>\n",
              "      <th>25</th>\n",
              "      <td>3</td>\n",
              "      <td>2</td>\n",
              "      <td>3</td>\n",
              "      <td>1</td>\n",
              "      <td>5</td>\n",
              "    </tr>\n",
              "    <tr>\n",
              "      <th>27</th>\n",
              "      <td>3</td>\n",
              "      <td>3</td>\n",
              "      <td>3</td>\n",
              "      <td>3</td>\n",
              "      <td>3</td>\n",
              "    </tr>\n",
              "    <tr>\n",
              "      <th>33</th>\n",
              "      <td>4</td>\n",
              "      <td>2</td>\n",
              "      <td>2</td>\n",
              "      <td>2</td>\n",
              "      <td>5</td>\n",
              "    </tr>\n",
              "    <tr>\n",
              "      <th>46</th>\n",
              "      <td>1</td>\n",
              "      <td>1</td>\n",
              "      <td>1</td>\n",
              "      <td>1</td>\n",
              "      <td>1</td>\n",
              "    </tr>\n",
              "    <tr>\n",
              "      <th>47</th>\n",
              "      <td>4</td>\n",
              "      <td>1</td>\n",
              "      <td>3</td>\n",
              "      <td>1</td>\n",
              "      <td>5</td>\n",
              "    </tr>\n",
              "    <tr>\n",
              "      <th>49</th>\n",
              "      <td>5</td>\n",
              "      <td>3</td>\n",
              "      <td>4</td>\n",
              "      <td>4</td>\n",
              "      <td>5</td>\n",
              "    </tr>\n",
              "    <tr>\n",
              "      <th>54</th>\n",
              "      <td>1</td>\n",
              "      <td>1</td>\n",
              "      <td>1</td>\n",
              "      <td>1</td>\n",
              "      <td>1</td>\n",
              "    </tr>\n",
              "    <tr>\n",
              "      <th>62</th>\n",
              "      <td>3</td>\n",
              "      <td>2</td>\n",
              "      <td>2</td>\n",
              "      <td>3</td>\n",
              "      <td>4</td>\n",
              "    </tr>\n",
              "    <tr>\n",
              "      <th>64</th>\n",
              "      <td>5</td>\n",
              "      <td>1</td>\n",
              "      <td>5</td>\n",
              "      <td>3</td>\n",
              "      <td>5</td>\n",
              "    </tr>\n",
              "    <tr>\n",
              "      <th>65</th>\n",
              "      <td>1</td>\n",
              "      <td>1</td>\n",
              "      <td>1</td>\n",
              "      <td>1</td>\n",
              "      <td>3</td>\n",
              "    </tr>\n",
              "    <tr>\n",
              "      <th>70</th>\n",
              "      <td>5</td>\n",
              "      <td>4</td>\n",
              "      <td>5</td>\n",
              "      <td>5</td>\n",
              "      <td>5</td>\n",
              "    </tr>\n",
              "    <tr>\n",
              "      <th>72</th>\n",
              "      <td>4</td>\n",
              "      <td>1</td>\n",
              "      <td>3</td>\n",
              "      <td>2</td>\n",
              "      <td>4</td>\n",
              "    </tr>\n",
              "    <tr>\n",
              "      <th>73</th>\n",
              "      <td>4</td>\n",
              "      <td>4</td>\n",
              "      <td>4</td>\n",
              "      <td>3</td>\n",
              "      <td>5</td>\n",
              "    </tr>\n",
              "    <tr>\n",
              "      <th>79</th>\n",
              "      <td>4</td>\n",
              "      <td>4</td>\n",
              "      <td>5</td>\n",
              "      <td>3</td>\n",
              "      <td>2</td>\n",
              "    </tr>\n",
              "    <tr>\n",
              "      <th>93</th>\n",
              "      <td>5</td>\n",
              "      <td>4</td>\n",
              "      <td>5</td>\n",
              "      <td>4</td>\n",
              "      <td>4</td>\n",
              "    </tr>\n",
              "    <tr>\n",
              "      <th>97</th>\n",
              "      <td>4</td>\n",
              "      <td>5</td>\n",
              "      <td>4</td>\n",
              "      <td>4</td>\n",
              "      <td>3</td>\n",
              "    </tr>\n",
              "  </tbody>\n",
              "</table>\n",
              "</div>"
            ],
            "text/plain": [
              "    Quality Time  Physical Touch  Affirmative Words  Gifts  Helps\n",
              "1              5               5                  3      2      2\n",
              "19             5               5                  5      5      5\n",
              "20             4               2                  3      1      3\n",
              "23             5               2                  4      5      4\n",
              "25             3               2                  3      1      5\n",
              "27             3               3                  3      3      3\n",
              "33             4               2                  2      2      5\n",
              "46             1               1                  1      1      1\n",
              "47             4               1                  3      1      5\n",
              "49             5               3                  4      4      5\n",
              "54             1               1                  1      1      1\n",
              "62             3               2                  2      3      4\n",
              "64             5               1                  5      3      5\n",
              "65             1               1                  1      1      3\n",
              "70             5               4                  5      5      5\n",
              "72             4               1                  3      2      4\n",
              "73             4               4                  4      3      5\n",
              "79             4               4                  5      3      2\n",
              "93             5               4                  5      4      4\n",
              "97             4               5                  4      4      3"
            ]
          },
          "metadata": {
            "tags": []
          },
          "execution_count": 122
        }
      ]
    },
    {
      "cell_type": "markdown",
      "metadata": {
        "id": "ntsp2ws273w0"
      },
      "source": [
        "#Model Development"
      ]
    },
    {
      "cell_type": "code",
      "metadata": {
        "id": "UMAgKic-rEjs"
      },
      "source": [
        "m_nbrs = NearestNeighbors(n_neighbors=5).fit(m_x)\n",
        "f_nbrs = NearestNeighbors(n_neighbors=5).fit(f_x)"
      ],
      "execution_count": 123,
      "outputs": []
    },
    {
      "cell_type": "markdown",
      "metadata": {
        "id": "FsUCfNdWXUPr"
      },
      "source": [
        "Proses pengujian model\n"
      ]
    },
    {
      "cell_type": "code",
      "metadata": {
        "id": "eRS0r0fmrdXE"
      },
      "source": [
        "x = df.drop(['Name', 'Gender'], axis=1)"
      ],
      "execution_count": 124,
      "outputs": []
    },
    {
      "cell_type": "code",
      "metadata": {
        "id": "3-0CNeXI9sWF",
        "outputId": "d3d70852-f0e3-4573-bc0b-6db17b73e2ab",
        "colab": {
          "base_uri": "https://localhost:8080/",
          "height": 77
        }
      },
      "source": [
        "df.sample()"
      ],
      "execution_count": 125,
      "outputs": [
        {
          "output_type": "execute_result",
          "data": {
            "text/html": [
              "<div>\n",
              "<style scoped>\n",
              "    .dataframe tbody tr th:only-of-type {\n",
              "        vertical-align: middle;\n",
              "    }\n",
              "\n",
              "    .dataframe tbody tr th {\n",
              "        vertical-align: top;\n",
              "    }\n",
              "\n",
              "    .dataframe thead th {\n",
              "        text-align: right;\n",
              "    }\n",
              "</style>\n",
              "<table border=\"1\" class=\"dataframe\">\n",
              "  <thead>\n",
              "    <tr style=\"text-align: right;\">\n",
              "      <th></th>\n",
              "      <th>Name</th>\n",
              "      <th>Gender</th>\n",
              "      <th>Quality Time</th>\n",
              "      <th>Physical Touch</th>\n",
              "      <th>Affirmative Words</th>\n",
              "      <th>Gifts</th>\n",
              "      <th>Helps</th>\n",
              "    </tr>\n",
              "  </thead>\n",
              "  <tbody>\n",
              "    <tr>\n",
              "      <th>28</th>\n",
              "      <td>R****</td>\n",
              "      <td>0</td>\n",
              "      <td>5</td>\n",
              "      <td>3</td>\n",
              "      <td>3</td>\n",
              "      <td>2</td>\n",
              "      <td>3</td>\n",
              "    </tr>\n",
              "  </tbody>\n",
              "</table>\n",
              "</div>"
            ],
            "text/plain": [
              "     Name  Gender  Quality Time  ...  Affirmative Words  Gifts  Helps\n",
              "28  R****       0             5  ...                  3      2      3\n",
              "\n",
              "[1 rows x 7 columns]"
            ]
          },
          "metadata": {
            "tags": []
          },
          "execution_count": 125
        }
      ]
    },
    {
      "cell_type": "code",
      "metadata": {
        "id": "VtLJyclc9Mec"
      },
      "source": [
        "test = x[df['Name'] == 'B***'].values"
      ],
      "execution_count": 126,
      "outputs": []
    },
    {
      "cell_type": "code",
      "metadata": {
        "id": "8duWMHMj93gL"
      },
      "source": [
        "_, idx = f_nbrs.kneighbors(test)"
      ],
      "execution_count": 127,
      "outputs": []
    },
    {
      "cell_type": "code",
      "metadata": {
        "id": "XMTpn2JH-Hjl",
        "outputId": "075be89a-0348-4096-adb8-f8ccfcdd53af",
        "colab": {
          "base_uri": "https://localhost:8080/"
        }
      },
      "source": [
        "idx"
      ],
      "execution_count": 128,
      "outputs": [
        {
          "output_type": "execute_result",
          "data": {
            "text/plain": [
              "array([[ 3,  9, 14, 18, 12],\n",
              "       [ 7, 10,  5, 13,  0]])"
            ]
          },
          "metadata": {
            "tags": []
          },
          "execution_count": 128
        }
      ]
    },
    {
      "cell_type": "code",
      "metadata": {
        "id": "v2ABsUWT-IS5",
        "outputId": "31901b64-bc53-42c0-aa23-56e63277a835",
        "colab": {
          "base_uri": "https://localhost:8080/"
        }
      },
      "source": [
        "f_df.iloc[idx[0]]['Name']"
      ],
      "execution_count": 129,
      "outputs": [
        {
          "output_type": "execute_result",
          "data": {
            "text/plain": [
              "23       B***\n",
              "49     A*****\n",
              "70    a******\n",
              "93    F******\n",
              "64         M*\n",
              "Name: Name, dtype: object"
            ]
          },
          "metadata": {
            "tags": []
          },
          "execution_count": 129
        }
      ]
    },
    {
      "cell_type": "code",
      "metadata": {
        "id": "qA0JjdwF-ZdG",
        "outputId": "0964d824-4cd8-4f66-8559-36e90bee2315",
        "colab": {
          "base_uri": "https://localhost:8080/"
        }
      },
      "source": [
        "f_df.iloc[idx[1]]['Name']"
      ],
      "execution_count": 130,
      "outputs": [
        {
          "output_type": "execute_result",
          "data": {
            "text/plain": [
              "46    A********************\n",
              "54                    H****\n",
              "27                    v****\n",
              "65                    w****\n",
              "1                     L****\n",
              "Name: Name, dtype: object"
            ]
          },
          "metadata": {
            "tags": []
          },
          "execution_count": 130
        }
      ]
    },
    {
      "cell_type": "code",
      "metadata": {
        "id": "7j3-7k_W-wkF"
      },
      "source": [
        "pickle.dump(m_nbrs,open('/content/m_model.pickle','wb'))\n",
        "pickle.dump(f_nbrs,open('/content/f_model.pickle','wb'))"
      ],
      "execution_count": 131,
      "outputs": []
    },
    {
      "cell_type": "code",
      "metadata": {
        "id": "iQzS3A4z_0fK"
      },
      "source": [
        "df.to_csv('/content/data.csv', index=False)"
      ],
      "execution_count": 132,
      "outputs": []
    },
    {
      "cell_type": "markdown",
      "metadata": {
        "id": "NMl-tD7uNbal"
      },
      "source": [
        "#Analisis Data"
      ]
    },
    {
      "cell_type": "markdown",
      "metadata": {
        "id": "eO1zrN_8XoY_"
      },
      "source": [
        "Data Pria"
      ]
    },
    {
      "cell_type": "code",
      "metadata": {
        "id": "s5TmMmC2NdTT",
        "outputId": "d8ee687e-d2a6-4443-c8bf-c248453f16e8",
        "colab": {
          "base_uri": "https://localhost:8080/",
          "height": 548
        }
      },
      "source": [
        "m_x.hist()\n",
        "m_x.describe()"
      ],
      "execution_count": 133,
      "outputs": [
        {
          "output_type": "execute_result",
          "data": {
            "text/html": [
              "<div>\n",
              "<style scoped>\n",
              "    .dataframe tbody tr th:only-of-type {\n",
              "        vertical-align: middle;\n",
              "    }\n",
              "\n",
              "    .dataframe tbody tr th {\n",
              "        vertical-align: top;\n",
              "    }\n",
              "\n",
              "    .dataframe thead th {\n",
              "        text-align: right;\n",
              "    }\n",
              "</style>\n",
              "<table border=\"1\" class=\"dataframe\">\n",
              "  <thead>\n",
              "    <tr style=\"text-align: right;\">\n",
              "      <th></th>\n",
              "      <th>Quality Time</th>\n",
              "      <th>Physical Touch</th>\n",
              "      <th>Affirmative Words</th>\n",
              "      <th>Gifts</th>\n",
              "      <th>Helps</th>\n",
              "    </tr>\n",
              "  </thead>\n",
              "  <tbody>\n",
              "    <tr>\n",
              "      <th>count</th>\n",
              "      <td>81.000000</td>\n",
              "      <td>81.000000</td>\n",
              "      <td>81.000000</td>\n",
              "      <td>81.000000</td>\n",
              "      <td>81.000000</td>\n",
              "    </tr>\n",
              "    <tr>\n",
              "      <th>mean</th>\n",
              "      <td>4.185185</td>\n",
              "      <td>3.296296</td>\n",
              "      <td>3.827160</td>\n",
              "      <td>2.740741</td>\n",
              "      <td>3.765432</td>\n",
              "    </tr>\n",
              "    <tr>\n",
              "      <th>std</th>\n",
              "      <td>1.163090</td>\n",
              "      <td>1.269296</td>\n",
              "      <td>1.148805</td>\n",
              "      <td>1.301708</td>\n",
              "      <td>1.087102</td>\n",
              "    </tr>\n",
              "    <tr>\n",
              "      <th>min</th>\n",
              "      <td>1.000000</td>\n",
              "      <td>1.000000</td>\n",
              "      <td>1.000000</td>\n",
              "      <td>1.000000</td>\n",
              "      <td>1.000000</td>\n",
              "    </tr>\n",
              "    <tr>\n",
              "      <th>25%</th>\n",
              "      <td>4.000000</td>\n",
              "      <td>3.000000</td>\n",
              "      <td>3.000000</td>\n",
              "      <td>2.000000</td>\n",
              "      <td>3.000000</td>\n",
              "    </tr>\n",
              "    <tr>\n",
              "      <th>50%</th>\n",
              "      <td>5.000000</td>\n",
              "      <td>3.000000</td>\n",
              "      <td>4.000000</td>\n",
              "      <td>3.000000</td>\n",
              "      <td>4.000000</td>\n",
              "    </tr>\n",
              "    <tr>\n",
              "      <th>75%</th>\n",
              "      <td>5.000000</td>\n",
              "      <td>4.000000</td>\n",
              "      <td>5.000000</td>\n",
              "      <td>4.000000</td>\n",
              "      <td>5.000000</td>\n",
              "    </tr>\n",
              "    <tr>\n",
              "      <th>max</th>\n",
              "      <td>5.000000</td>\n",
              "      <td>5.000000</td>\n",
              "      <td>5.000000</td>\n",
              "      <td>5.000000</td>\n",
              "      <td>5.000000</td>\n",
              "    </tr>\n",
              "  </tbody>\n",
              "</table>\n",
              "</div>"
            ],
            "text/plain": [
              "       Quality Time  Physical Touch  Affirmative Words      Gifts      Helps\n",
              "count     81.000000       81.000000          81.000000  81.000000  81.000000\n",
              "mean       4.185185        3.296296           3.827160   2.740741   3.765432\n",
              "std        1.163090        1.269296           1.148805   1.301708   1.087102\n",
              "min        1.000000        1.000000           1.000000   1.000000   1.000000\n",
              "25%        4.000000        3.000000           3.000000   2.000000   3.000000\n",
              "50%        5.000000        3.000000           4.000000   3.000000   4.000000\n",
              "75%        5.000000        4.000000           5.000000   4.000000   5.000000\n",
              "max        5.000000        5.000000           5.000000   5.000000   5.000000"
            ]
          },
          "metadata": {
            "tags": []
          },
          "execution_count": 133
        },
        {
          "output_type": "display_data",
          "data": {
            "image/png": "[encoded data removed]",
            "text/plain": [
              "<Figure size 432x288 with 6 Axes>"
            ]
          },
          "metadata": {
            "tags": [],
            "needs_background": "light"
          }
        }
      ]
    },
    {
      "cell_type": "markdown",
      "metadata": {
        "id": "PyrgXWgGXqlN"
      },
      "source": [
        "Data Wanita"
      ]
    },
    {
      "cell_type": "code",
      "metadata": {
        "id": "AxsWS4RyO-qT",
        "outputId": "afcda28c-dfea-4e4a-bd36-cb9b4fa56840",
        "colab": {
          "base_uri": "https://localhost:8080/",
          "height": 548
        }
      },
      "source": [
        "f_x.hist()\n",
        "f_x.describe()"
      ],
      "execution_count": 134,
      "outputs": [
        {
          "output_type": "execute_result",
          "data": {
            "text/html": [
              "<div>\n",
              "<style scoped>\n",
              "    .dataframe tbody tr th:only-of-type {\n",
              "        vertical-align: middle;\n",
              "    }\n",
              "\n",
              "    .dataframe tbody tr th {\n",
              "        vertical-align: top;\n",
              "    }\n",
              "\n",
              "    .dataframe thead th {\n",
              "        text-align: right;\n",
              "    }\n",
              "</style>\n",
              "<table border=\"1\" class=\"dataframe\">\n",
              "  <thead>\n",
              "    <tr style=\"text-align: right;\">\n",
              "      <th></th>\n",
              "      <th>Quality Time</th>\n",
              "      <th>Physical Touch</th>\n",
              "      <th>Affirmative Words</th>\n",
              "      <th>Gifts</th>\n",
              "      <th>Helps</th>\n",
              "    </tr>\n",
              "  </thead>\n",
              "  <tbody>\n",
              "    <tr>\n",
              "      <th>count</th>\n",
              "      <td>20.000000</td>\n",
              "      <td>20.000000</td>\n",
              "      <td>20.000000</td>\n",
              "      <td>20.000000</td>\n",
              "      <td>20.000000</td>\n",
              "    </tr>\n",
              "    <tr>\n",
              "      <th>mean</th>\n",
              "      <td>3.750000</td>\n",
              "      <td>2.650000</td>\n",
              "      <td>3.300000</td>\n",
              "      <td>2.700000</td>\n",
              "      <td>3.700000</td>\n",
              "    </tr>\n",
              "    <tr>\n",
              "      <th>std</th>\n",
              "      <td>1.371707</td>\n",
              "      <td>1.496487</td>\n",
              "      <td>1.380313</td>\n",
              "      <td>1.454575</td>\n",
              "      <td>1.380313</td>\n",
              "    </tr>\n",
              "    <tr>\n",
              "      <th>min</th>\n",
              "      <td>1.000000</td>\n",
              "      <td>1.000000</td>\n",
              "      <td>1.000000</td>\n",
              "      <td>1.000000</td>\n",
              "      <td>1.000000</td>\n",
              "    </tr>\n",
              "    <tr>\n",
              "      <th>25%</th>\n",
              "      <td>3.000000</td>\n",
              "      <td>1.000000</td>\n",
              "      <td>2.750000</td>\n",
              "      <td>1.000000</td>\n",
              "      <td>3.000000</td>\n",
              "    </tr>\n",
              "    <tr>\n",
              "      <th>50%</th>\n",
              "      <td>4.000000</td>\n",
              "      <td>2.000000</td>\n",
              "      <td>3.000000</td>\n",
              "      <td>3.000000</td>\n",
              "      <td>4.000000</td>\n",
              "    </tr>\n",
              "    <tr>\n",
              "      <th>75%</th>\n",
              "      <td>5.000000</td>\n",
              "      <td>4.000000</td>\n",
              "      <td>4.250000</td>\n",
              "      <td>4.000000</td>\n",
              "      <td>5.000000</td>\n",
              "    </tr>\n",
              "    <tr>\n",
              "      <th>max</th>\n",
              "      <td>5.000000</td>\n",
              "      <td>5.000000</td>\n",
              "      <td>5.000000</td>\n",
              "      <td>5.000000</td>\n",
              "      <td>5.000000</td>\n",
              "    </tr>\n",
              "  </tbody>\n",
              "</table>\n",
              "</div>"
            ],
            "text/plain": [
              "       Quality Time  Physical Touch  Affirmative Words      Gifts      Helps\n",
              "count     20.000000       20.000000          20.000000  20.000000  20.000000\n",
              "mean       3.750000        2.650000           3.300000   2.700000   3.700000\n",
              "std        1.371707        1.496487           1.380313   1.454575   1.380313\n",
              "min        1.000000        1.000000           1.000000   1.000000   1.000000\n",
              "25%        3.000000        1.000000           2.750000   1.000000   3.000000\n",
              "50%        4.000000        2.000000           3.000000   3.000000   4.000000\n",
              "75%        5.000000        4.000000           4.250000   4.000000   5.000000\n",
              "max        5.000000        5.000000           5.000000   5.000000   5.000000"
            ]
          },
          "metadata": {
            "tags": []
          },
          "execution_count": 134
        },
        {
          "output_type": "display_data",
          "data": {
            "image/png": "[encoded data removed]",
            "text/plain": [
              "<Figure size 432x288 with 6 Axes>"
            ]
          },
          "metadata": {
            "tags": [],
            "needs_background": "light"
          }
        }
      ]
    },
    {
      "cell_type": "markdown",
      "metadata": {
        "id": "73Laa0oXPtDH"
      },
      "source": [
        "Analisa\n",
        "\n",
        "Dari tabel diatas, dapat kita simpulkan bahwa dari 101 data, 81% adalah laki-laki dan 19% adalah perempuan. Lalu, secara rata-rata, pria lebih mementingkan quality time, physical touch, dan affirmative words daripada wanita. Secara garis besar, hasil yang di dapatkan dari wanita dan pria hampir sama. Perbedaan yang cukup mencolok terdapat di physical touch. Mayoritas wanita menaruh physical touch di point 1 yaitu tidak lah penting. Hal ini cukup berbeda dengan pria dimana mayoritas menganggap physical touch di point 3 yaitu biasa saja yang berarti secara umum, pria lebih menganggap physical touch sebagai hal yang penting dari pada wanita."
      ]
    }
  ]
}
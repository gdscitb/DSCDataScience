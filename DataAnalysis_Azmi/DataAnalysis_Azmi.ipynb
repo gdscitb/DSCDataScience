{
  "nbformat": 4,
  "nbformat_minor": 0,
  "metadata": {
    "colab": {
      "name": "DataAnalysis_Azmi.ipynb",
      "provenance": [],
      "collapsed_sections": [],
      "toc_visible": true
    },
    "kernelspec": {
      "name": "python3",
      "display_name": "Python 3"
    }
  },
  "cells": [
    {
      "cell_type": "markdown",
      "metadata": {
        "id": "-Dhn-zaaT_ok"
      },
      "source": [
        "### Nama: Azmi Alfatih Shalahuddin\n",
        "### NIM : 16520001\n",
        "### Instansi : Institut Teknologi Bandung\n",
        "### Pengerjaan Tugas : 10/ 10/ 2020\n",
        "### Sumber Data Set : TakeMeOut"
      ]
    },
    {
      "cell_type": "code",
      "metadata": {
        "id": "YVCgdRtQtWEE"
      },
      "source": [
        "#mengmport library\n",
        "import pandas as pd\n",
        "from sklearn.neighbors import NearestNeighbors\n",
        "import pickle\n",
        "\n",
        "\n",
        "\n"
      ],
      "execution_count": null,
      "outputs": []
    },
    {
      "cell_type": "code",
      "metadata": {
        "id": "FPWlEKRTyzwH"
      },
      "source": [
        "#membaca data takemeout.csv\n",
        "tb = pd.read_csv(\"takemeout.csv\")\n",
        "\n"
      ],
      "execution_count": null,
      "outputs": []
    },
    {
      "cell_type": "code",
      "metadata": {
        "id": "fCpGRolPzHdF",
        "outputId": "cc2e46c1-62cf-4580-cdf7-3a550c5da63d",
        "colab": {
          "base_uri": "https://localhost:8080/",
          "height": 527
        }
      },
      "source": [
        "tb.head()"
      ],
      "execution_count": null,
      "outputs": [
        {
          "output_type": "execute_result",
          "data": {
            "text/html": [
              "<div>\n",
              "<style scoped>\n",
              "    .dataframe tbody tr th:only-of-type {\n",
              "        vertical-align: middle;\n",
              "    }\n",
              "\n",
              "    .dataframe tbody tr th {\n",
              "        vertical-align: top;\n",
              "    }\n",
              "\n",
              "    .dataframe thead th {\n",
              "        text-align: right;\n",
              "    }\n",
              "</style>\n",
              "<table border=\"1\" class=\"dataframe\">\n",
              "  <thead>\n",
              "    <tr style=\"text-align: right;\">\n",
              "      <th></th>\n",
              "      <th>Timestamp</th>\n",
              "      <th>Siapa nama kamu?</th>\n",
              "      <th>Cewek atau cowok nih?</th>\n",
              "      <th>Seberapa penting quality time bareng calon pacar untuk kamu?</th>\n",
              "      <th>Seberapa penting physical touch sama calon pacar untuk kamu?</th>\n",
              "      <th>Seberapa penting word of affirmation dari calon pacar untuk kamu?</th>\n",
              "      <th>Seberapa penting dapet kado dari calon pacar untuk kamu?</th>\n",
              "      <th>Seberapa penting bantuan dari calon pacar untuk kamu?</th>\n",
              "    </tr>\n",
              "  </thead>\n",
              "  <tbody>\n",
              "    <tr>\n",
              "      <th>0</th>\n",
              "      <td>2020/10/31 3:39:25 PM GMT+7</td>\n",
              "      <td>A**************</td>\n",
              "      <td>Cowok</td>\n",
              "      <td>5</td>\n",
              "      <td>5</td>\n",
              "      <td>4</td>\n",
              "      <td>1</td>\n",
              "      <td>3</td>\n",
              "    </tr>\n",
              "    <tr>\n",
              "      <th>1</th>\n",
              "      <td>2020/10/31 3:39:36 PM GMT+7</td>\n",
              "      <td>L****</td>\n",
              "      <td>Cewek</td>\n",
              "      <td>5</td>\n",
              "      <td>5</td>\n",
              "      <td>3</td>\n",
              "      <td>2</td>\n",
              "      <td>2</td>\n",
              "    </tr>\n",
              "    <tr>\n",
              "      <th>2</th>\n",
              "      <td>2020/10/31 3:39:38 PM GMT+7</td>\n",
              "      <td>Y***********</td>\n",
              "      <td>Cowok</td>\n",
              "      <td>4</td>\n",
              "      <td>3</td>\n",
              "      <td>4</td>\n",
              "      <td>4</td>\n",
              "      <td>4</td>\n",
              "    </tr>\n",
              "    <tr>\n",
              "      <th>3</th>\n",
              "      <td>2020/10/31 3:39:42 PM GMT+7</td>\n",
              "      <td>a***</td>\n",
              "      <td>Cowok</td>\n",
              "      <td>5</td>\n",
              "      <td>5</td>\n",
              "      <td>5</td>\n",
              "      <td>2</td>\n",
              "      <td>3</td>\n",
              "    </tr>\n",
              "    <tr>\n",
              "      <th>4</th>\n",
              "      <td>2020/10/31 3:39:43 PM GMT+7</td>\n",
              "      <td>B****</td>\n",
              "      <td>Cowok</td>\n",
              "      <td>5</td>\n",
              "      <td>5</td>\n",
              "      <td>5</td>\n",
              "      <td>2</td>\n",
              "      <td>4</td>\n",
              "    </tr>\n",
              "  </tbody>\n",
              "</table>\n",
              "</div>"
            ],
            "text/plain": [
              "                     Timestamp  ... Seberapa penting bantuan dari calon pacar untuk kamu?\n",
              "0  2020/10/31 3:39:25 PM GMT+7  ...                                                  3   \n",
              "1  2020/10/31 3:39:36 PM GMT+7  ...                                                  2   \n",
              "2  2020/10/31 3:39:38 PM GMT+7  ...                                                  4   \n",
              "3  2020/10/31 3:39:42 PM GMT+7  ...                                                  3   \n",
              "4  2020/10/31 3:39:43 PM GMT+7  ...                                                  4   \n",
              "\n",
              "[5 rows x 8 columns]"
            ]
          },
          "metadata": {
            "tags": []
          },
          "execution_count": 84
        }
      ]
    },
    {
      "cell_type": "markdown",
      "metadata": {
        "id": "jhkpBMWOOkRy"
      },
      "source": [
        "Tabel data mentah yang belum dibersihkan dan disederhanakan"
      ]
    },
    {
      "cell_type": "markdown",
      "metadata": {
        "id": "v5Hzo4YKW9mD"
      },
      "source": [
        "### **Data Observation**\n",
        "Data yang diperoleh berisi tanggal dan waktu pengisian data, nama, jenis kelamin pengisi data, dan ukuran ukuran love language, seperti seberapa penting quality time, physical touch, word of affirmation, gift,  dan bantuan.\n",
        "Judul kolom masih berupa kalimat pertanyaan yang sangat panjang, data masih belum bersih, dan belum disederhanakan. penyederhanaan data juga dilakukan dengan menyingkat judul kolom menjadi satu kata."
      ]
    },
    {
      "cell_type": "code",
      "metadata": {
        "id": "hZ3pr89X1lBO"
      },
      "source": [
        "#Membersihkan data, menghilangkan waktu input\n",
        "tb = tb.iloc[:,1:] "
      ],
      "execution_count": null,
      "outputs": []
    },
    {
      "cell_type": "markdown",
      "metadata": {
        "id": "KXdN89oxX1KR"
      },
      "source": [
        "### **Data Cleaning**\n",
        "\n",
        "Data yang diperoleh sudah cukup bersih. Namun, masih ada aspek yang bisa dibersihkan sebelum data diproses, seperti waktu pengisian data, karena itu bukan skor yang menunjukkan kecocokan pasangan.\n",
        "\n"
      ]
    },
    {
      "cell_type": "code",
      "metadata": {
        "id": "TGfbDGOC1wcp",
        "outputId": "dd52d340-a410-43f0-b094-f1a049f86360",
        "colab": {
          "base_uri": "https://localhost:8080/",
          "height": 255
        }
      },
      "source": [
        "#menampilkan tabel\n",
        "tb.head()"
      ],
      "execution_count": null,
      "outputs": [
        {
          "output_type": "execute_result",
          "data": {
            "text/html": [
              "<div>\n",
              "<style scoped>\n",
              "    .dataframe tbody tr th:only-of-type {\n",
              "        vertical-align: middle;\n",
              "    }\n",
              "\n",
              "    .dataframe tbody tr th {\n",
              "        vertical-align: top;\n",
              "    }\n",
              "\n",
              "    .dataframe thead th {\n",
              "        text-align: right;\n",
              "    }\n",
              "</style>\n",
              "<table border=\"1\" class=\"dataframe\">\n",
              "  <thead>\n",
              "    <tr style=\"text-align: right;\">\n",
              "      <th></th>\n",
              "      <th>Siapa nama kamu?</th>\n",
              "      <th>Cewek atau cowok nih?</th>\n",
              "      <th>Seberapa penting quality time bareng calon pacar untuk kamu?</th>\n",
              "      <th>Seberapa penting physical touch sama calon pacar untuk kamu?</th>\n",
              "      <th>Seberapa penting word of affirmation dari calon pacar untuk kamu?</th>\n",
              "      <th>Seberapa penting dapet kado dari calon pacar untuk kamu?</th>\n",
              "      <th>Seberapa penting bantuan dari calon pacar untuk kamu?</th>\n",
              "    </tr>\n",
              "  </thead>\n",
              "  <tbody>\n",
              "    <tr>\n",
              "      <th>0</th>\n",
              "      <td>A**************</td>\n",
              "      <td>Cowok</td>\n",
              "      <td>5</td>\n",
              "      <td>5</td>\n",
              "      <td>4</td>\n",
              "      <td>1</td>\n",
              "      <td>3</td>\n",
              "    </tr>\n",
              "    <tr>\n",
              "      <th>1</th>\n",
              "      <td>L****</td>\n",
              "      <td>Cewek</td>\n",
              "      <td>5</td>\n",
              "      <td>5</td>\n",
              "      <td>3</td>\n",
              "      <td>2</td>\n",
              "      <td>2</td>\n",
              "    </tr>\n",
              "    <tr>\n",
              "      <th>2</th>\n",
              "      <td>Y***********</td>\n",
              "      <td>Cowok</td>\n",
              "      <td>4</td>\n",
              "      <td>3</td>\n",
              "      <td>4</td>\n",
              "      <td>4</td>\n",
              "      <td>4</td>\n",
              "    </tr>\n",
              "    <tr>\n",
              "      <th>3</th>\n",
              "      <td>a***</td>\n",
              "      <td>Cowok</td>\n",
              "      <td>5</td>\n",
              "      <td>5</td>\n",
              "      <td>5</td>\n",
              "      <td>2</td>\n",
              "      <td>3</td>\n",
              "    </tr>\n",
              "    <tr>\n",
              "      <th>4</th>\n",
              "      <td>B****</td>\n",
              "      <td>Cowok</td>\n",
              "      <td>5</td>\n",
              "      <td>5</td>\n",
              "      <td>5</td>\n",
              "      <td>2</td>\n",
              "      <td>4</td>\n",
              "    </tr>\n",
              "  </tbody>\n",
              "</table>\n",
              "</div>"
            ],
            "text/plain": [
              "  Siapa nama kamu?  ... Seberapa penting bantuan dari calon pacar untuk kamu?\n",
              "0  A**************  ...                                                  3   \n",
              "1            L****  ...                                                  2   \n",
              "2     Y***********  ...                                                  4   \n",
              "3             a***  ...                                                  3   \n",
              "4            B****  ...                                                  4   \n",
              "\n",
              "[5 rows x 7 columns]"
            ]
          },
          "metadata": {
            "tags": []
          },
          "execution_count": 86
        }
      ]
    },
    {
      "cell_type": "code",
      "metadata": {
        "id": "lyF_qQt8148l"
      },
      "source": [
        "#Menyederhanakan nama kolom\n",
        "tb.columns= ['Name', 'Gender', 'Time', 'Touch', 'Word', 'Gift', 'Help']"
      ],
      "execution_count": null,
      "outputs": []
    },
    {
      "cell_type": "code",
      "metadata": {
        "id": "znn1tjuQ2Ugk",
        "outputId": "e88f669a-4015-4e60-97ea-22e1f61779af",
        "colab": {
          "base_uri": "https://localhost:8080/",
          "height": 204
        }
      },
      "source": [
        "#Menampilkan Tabel\n",
        "tb.head()"
      ],
      "execution_count": null,
      "outputs": [
        {
          "output_type": "execute_result",
          "data": {
            "text/html": [
              "<div>\n",
              "<style scoped>\n",
              "    .dataframe tbody tr th:only-of-type {\n",
              "        vertical-align: middle;\n",
              "    }\n",
              "\n",
              "    .dataframe tbody tr th {\n",
              "        vertical-align: top;\n",
              "    }\n",
              "\n",
              "    .dataframe thead th {\n",
              "        text-align: right;\n",
              "    }\n",
              "</style>\n",
              "<table border=\"1\" class=\"dataframe\">\n",
              "  <thead>\n",
              "    <tr style=\"text-align: right;\">\n",
              "      <th></th>\n",
              "      <th>Name</th>\n",
              "      <th>Gender</th>\n",
              "      <th>Time</th>\n",
              "      <th>Touch</th>\n",
              "      <th>Word</th>\n",
              "      <th>Gift</th>\n",
              "      <th>Help</th>\n",
              "    </tr>\n",
              "  </thead>\n",
              "  <tbody>\n",
              "    <tr>\n",
              "      <th>0</th>\n",
              "      <td>A**************</td>\n",
              "      <td>Cowok</td>\n",
              "      <td>5</td>\n",
              "      <td>5</td>\n",
              "      <td>4</td>\n",
              "      <td>1</td>\n",
              "      <td>3</td>\n",
              "    </tr>\n",
              "    <tr>\n",
              "      <th>1</th>\n",
              "      <td>L****</td>\n",
              "      <td>Cewek</td>\n",
              "      <td>5</td>\n",
              "      <td>5</td>\n",
              "      <td>3</td>\n",
              "      <td>2</td>\n",
              "      <td>2</td>\n",
              "    </tr>\n",
              "    <tr>\n",
              "      <th>2</th>\n",
              "      <td>Y***********</td>\n",
              "      <td>Cowok</td>\n",
              "      <td>4</td>\n",
              "      <td>3</td>\n",
              "      <td>4</td>\n",
              "      <td>4</td>\n",
              "      <td>4</td>\n",
              "    </tr>\n",
              "    <tr>\n",
              "      <th>3</th>\n",
              "      <td>a***</td>\n",
              "      <td>Cowok</td>\n",
              "      <td>5</td>\n",
              "      <td>5</td>\n",
              "      <td>5</td>\n",
              "      <td>2</td>\n",
              "      <td>3</td>\n",
              "    </tr>\n",
              "    <tr>\n",
              "      <th>4</th>\n",
              "      <td>B****</td>\n",
              "      <td>Cowok</td>\n",
              "      <td>5</td>\n",
              "      <td>5</td>\n",
              "      <td>5</td>\n",
              "      <td>2</td>\n",
              "      <td>4</td>\n",
              "    </tr>\n",
              "  </tbody>\n",
              "</table>\n",
              "</div>"
            ],
            "text/plain": [
              "              Name Gender  Time  Touch  Word  Gift  Help\n",
              "0  A**************  Cowok     5      5     4     1     3\n",
              "1            L****  Cewek     5      5     3     2     2\n",
              "2     Y***********  Cowok     4      3     4     4     4\n",
              "3             a***  Cowok     5      5     5     2     3\n",
              "4            B****  Cowok     5      5     5     2     4"
            ]
          },
          "metadata": {
            "tags": []
          },
          "execution_count": 88
        }
      ]
    },
    {
      "cell_type": "markdown",
      "metadata": {
        "id": "NRD-y332OQjg"
      },
      "source": [
        "Menampilkan contoh tabel awal yang sudah dibersihkan dan disederhanakan  sebagai gambaran."
      ]
    },
    {
      "cell_type": "code",
      "metadata": {
        "id": "DuwLC2XsN3-t",
        "outputId": "6a634c24-d7d8-4960-90cd-8a2f274ef5ef",
        "colab": {
          "base_uri": "https://localhost:8080/",
          "height": 297
        }
      },
      "source": [
        "tb.describe()"
      ],
      "execution_count": null,
      "outputs": [
        {
          "output_type": "execute_result",
          "data": {
            "text/html": [
              "<div>\n",
              "<style scoped>\n",
              "    .dataframe tbody tr th:only-of-type {\n",
              "        vertical-align: middle;\n",
              "    }\n",
              "\n",
              "    .dataframe tbody tr th {\n",
              "        vertical-align: top;\n",
              "    }\n",
              "\n",
              "    .dataframe thead th {\n",
              "        text-align: right;\n",
              "    }\n",
              "</style>\n",
              "<table border=\"1\" class=\"dataframe\">\n",
              "  <thead>\n",
              "    <tr style=\"text-align: right;\">\n",
              "      <th></th>\n",
              "      <th>Time</th>\n",
              "      <th>Touch</th>\n",
              "      <th>Word</th>\n",
              "      <th>Gift</th>\n",
              "      <th>Help</th>\n",
              "    </tr>\n",
              "  </thead>\n",
              "  <tbody>\n",
              "    <tr>\n",
              "      <th>count</th>\n",
              "      <td>101.000000</td>\n",
              "      <td>101.000000</td>\n",
              "      <td>101.000000</td>\n",
              "      <td>101.000000</td>\n",
              "      <td>101.000000</td>\n",
              "    </tr>\n",
              "    <tr>\n",
              "      <th>mean</th>\n",
              "      <td>4.099010</td>\n",
              "      <td>3.168317</td>\n",
              "      <td>3.722772</td>\n",
              "      <td>2.732673</td>\n",
              "      <td>3.752475</td>\n",
              "    </tr>\n",
              "    <tr>\n",
              "      <th>std</th>\n",
              "      <td>1.212476</td>\n",
              "      <td>1.334686</td>\n",
              "      <td>1.209287</td>\n",
              "      <td>1.325829</td>\n",
              "      <td>1.143730</td>\n",
              "    </tr>\n",
              "    <tr>\n",
              "      <th>min</th>\n",
              "      <td>1.000000</td>\n",
              "      <td>1.000000</td>\n",
              "      <td>1.000000</td>\n",
              "      <td>1.000000</td>\n",
              "      <td>1.000000</td>\n",
              "    </tr>\n",
              "    <tr>\n",
              "      <th>25%</th>\n",
              "      <td>4.000000</td>\n",
              "      <td>2.000000</td>\n",
              "      <td>3.000000</td>\n",
              "      <td>2.000000</td>\n",
              "      <td>3.000000</td>\n",
              "    </tr>\n",
              "    <tr>\n",
              "      <th>50%</th>\n",
              "      <td>5.000000</td>\n",
              "      <td>3.000000</td>\n",
              "      <td>4.000000</td>\n",
              "      <td>3.000000</td>\n",
              "      <td>4.000000</td>\n",
              "    </tr>\n",
              "    <tr>\n",
              "      <th>75%</th>\n",
              "      <td>5.000000</td>\n",
              "      <td>4.000000</td>\n",
              "      <td>5.000000</td>\n",
              "      <td>4.000000</td>\n",
              "      <td>5.000000</td>\n",
              "    </tr>\n",
              "    <tr>\n",
              "      <th>max</th>\n",
              "      <td>5.000000</td>\n",
              "      <td>5.000000</td>\n",
              "      <td>5.000000</td>\n",
              "      <td>5.000000</td>\n",
              "      <td>5.000000</td>\n",
              "    </tr>\n",
              "  </tbody>\n",
              "</table>\n",
              "</div>"
            ],
            "text/plain": [
              "             Time       Touch        Word        Gift        Help\n",
              "count  101.000000  101.000000  101.000000  101.000000  101.000000\n",
              "mean     4.099010    3.168317    3.722772    2.732673    3.752475\n",
              "std      1.212476    1.334686    1.209287    1.325829    1.143730\n",
              "min      1.000000    1.000000    1.000000    1.000000    1.000000\n",
              "25%      4.000000    2.000000    3.000000    2.000000    3.000000\n",
              "50%      5.000000    3.000000    4.000000    3.000000    4.000000\n",
              "75%      5.000000    4.000000    5.000000    4.000000    5.000000\n",
              "max      5.000000    5.000000    5.000000    5.000000    5.000000"
            ]
          },
          "metadata": {
            "tags": []
          },
          "execution_count": 89
        }
      ]
    },
    {
      "cell_type": "markdown",
      "metadata": {
        "id": "e5H66703byy8"
      },
      "source": [
        "### Diperoleh **statistik kasar** dari data, yaitu:\n",
        "<br/> Min = 1 untuk semua kolom\n",
        "<br/> Max = 5 untuk semua kolom\n",
        "<br/>Median = 5, 3, 4, 3, 4\n",
        "<br/> Rerata = 4.099, 3.168317, 3.722772, 2.732673, 3.752475"
      ]
    },
    {
      "cell_type": "markdown",
      "metadata": {
        "id": "JaKEdOGkjzlq"
      },
      "source": [
        "Dari data, dapat dilihat bahwa rata-rata skor terbesar terdapat pada Time (Seberapa penting Quality Time bagi kamu) (4.09), ini menunjukkan bahwa kebanyakan orang-orang memprioritaskan seringnya waktu berkualitas bersama pasangan.\n",
        "<br/> Bisa dilihat juga bahwa rata-rata skor paling kecil ialah Gift (Seberapa penting mendapatkan kado dari pasangan) (2.732673), menunjukkan bahwa kebanyakan orang paling mentoleransi (atau tidak mengedepankan) hadiah dari pasangannya."
      ]
    },
    {
      "cell_type": "markdown",
      "metadata": {
        "id": "DqKsq1S5YcOj"
      },
      "source": [
        "### **Analisis Data**\n",
        "Data telah dibersihkan dan disederhanakan menjadi seperti di atas. Sehingga, data hanya berisi hal-hal yang diperlukan dalam mencapai tujuan kita yaitu mencari calon pasangan yang cocok. terdapat 5 aspek love language yang kita miliki, yang tiap data memiliki skornya masing-masing. dapat diprediksi, semakin dekat skor love language dari lawan jenis, akan semakin cocok jika mereka berpasangan. oleh karena itu, digunakan metode pencarian skor yang terdekat untuk mencapai tujuan kita."
      ]
    },
    {
      "cell_type": "code",
      "metadata": {
        "id": "ERdxEiC951Kj"
      },
      "source": [
        "#Memisahkan data gender cowok dan cewek untuk membentuk pasangannya\n",
        "m_tb = tb[tb['Gender'] == 'Cowok']\n",
        "f_tb = tb[tb['Gender'] ==  'Cewek']"
      ],
      "execution_count": null,
      "outputs": []
    },
    {
      "cell_type": "code",
      "metadata": {
        "id": "gBtYKY7Y7Emg"
      },
      "source": [
        "m_X = m_tb.drop(['Name', 'Gender'], axis =1)\n",
        "f_X = f_tb.drop(['Name', 'Gender'], axis =1)"
      ],
      "execution_count": null,
      "outputs": []
    },
    {
      "cell_type": "markdown",
      "metadata": {
        "id": "f1SMhF1f74-n"
      },
      "source": [
        "# Model Development"
      ]
    },
    {
      "cell_type": "code",
      "metadata": {
        "id": "uBvH1myqDFH-"
      },
      "source": [
        "#membuat variabel cocok sebagai 7 calon pasangan yang cocok\n",
        "#Program menggunakan library Nearest Neighbor \n",
        "m_cocok = NearestNeighbors(n_neighbors=7).fit(m_X)\n",
        "f_cocok = NearestNeighbors(n_neighbors=7).fit(f_X)"
      ],
      "execution_count": null,
      "outputs": []
    },
    {
      "cell_type": "code",
      "metadata": {
        "id": "DDHt1hNn7qTf"
      },
      "source": [
        "X = tb.drop(['Name', 'Gender'], axis=1)"
      ],
      "execution_count": null,
      "outputs": []
    },
    {
      "cell_type": "code",
      "metadata": {
        "id": "IPon_9QGC-ml"
      },
      "source": [
        "#Melakukan uji coba pada suatu nama\n",
        "test = X[tb['Name'] == 'F***'].values"
      ],
      "execution_count": null,
      "outputs": []
    },
    {
      "cell_type": "code",
      "metadata": {
        "id": "Z0TkS6qhDzOr"
      },
      "source": [
        "#membuat variabel idx sebagai pasangan yang cocok dari nama yang dimasukkan\n",
        "_, idx= f_cocok.kneighbors(test)"
      ],
      "execution_count": null,
      "outputs": []
    },
    {
      "cell_type": "code",
      "metadata": {
        "id": "G6AZ4aQREFCc",
        "outputId": "fb56afd9-9b23-446e-9fa3-808f55d90112",
        "colab": {
          "base_uri": "https://localhost:8080/"
        }
      },
      "source": [
        "#contoh keluaran index dari pasangan yang cocok dari \"F***\"\n",
        "idx"
      ],
      "execution_count": null,
      "outputs": [
        {
          "output_type": "execute_result",
          "data": {
            "text/plain": [
              "array([[ 5, 16,  4,  2, 15, 11,  6],\n",
              "       [ 4, 16,  5,  8,  2, 15, 11]])"
            ]
          },
          "metadata": {
            "tags": []
          },
          "execution_count": 96
        }
      ]
    },
    {
      "cell_type": "code",
      "metadata": {
        "id": "J8oeVjmZE5jx",
        "outputId": "ecb34473-3fc9-421f-c441-9e334b9d4427",
        "colab": {
          "base_uri": "https://localhost:8080/"
        }
      },
      "source": [
        "#Mengeluarkan nama dari pasangan yg cocok\n",
        "f_tb.iloc[idx[0]]['Name']"
      ],
      "execution_count": null,
      "outputs": [
        {
          "output_type": "execute_result",
          "data": {
            "text/plain": [
              "27             v****\n",
              "73              R***\n",
              "25              E***\n",
              "20    F*************\n",
              "72            N*****\n",
              "62                 S\n",
              "33              H***\n",
              "Name: Name, dtype: object"
            ]
          },
          "metadata": {
            "tags": []
          },
          "execution_count": 97
        }
      ]
    },
    {
      "cell_type": "markdown",
      "metadata": {
        "id": "Lr2DeK1sNRaC"
      },
      "source": [
        "Data yang dihasilkan berupa 7 nama dengan kecocokan terdekat, yang didapat dengan menggunakan module Nearest Neigbors"
      ]
    },
    {
      "cell_type": "markdown",
      "metadata": {
        "id": "b1vt0dxkNiKW"
      },
      "source": [
        "Kita mengira-ngira calon pasangan yang cocok dari masing masing skor aspek \"Love Language\" yang dimasukkan setiap orang dalam survey. Dengan asumsi jika \"Love Language\" sama atau dekat maka orang itu akan cocok, kita dapat mencari calon pasangan yang akan cocok."
      ]
    },
    {
      "cell_type": "markdown",
      "metadata": {
        "id": "w1w-jWCMJHJd"
      },
      "source": [
        "# Penyimpanan Model"
      ]
    },
    {
      "cell_type": "code",
      "metadata": {
        "id": "gkRxxBR4H5yB"
      },
      "source": [
        "#jika ingin mendeploy model, kita harus menyimpan model yg kita buat\n",
        "pickle.dump(m_cocok, open('/content/m_model.pickle', 'wb')) \n",
        "pickle.dump(f_cocok, open('/content/f_model.pickle', 'wb')) "
      ],
      "execution_count": null,
      "outputs": []
    },
    {
      "cell_type": "code",
      "metadata": {
        "id": "mVFXlEuBIv8G"
      },
      "source": [
        "#agar deploy yang kita buat memakai nama yang belum dimasukkan, data dari data awal\n",
        "tb.to_csv('/content/data.csv', index = False)"
      ],
      "execution_count": null,
      "outputs": []
    }
  ]
}
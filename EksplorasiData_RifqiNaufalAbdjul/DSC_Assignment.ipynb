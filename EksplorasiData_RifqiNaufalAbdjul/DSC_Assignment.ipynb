{
  "nbformat": 4,
  "nbformat_minor": 0,
  "metadata": {
    "colab": {
      "name": "DSC Assignment",
      "provenance": [],
      "toc_visible": true
    },
    "kernelspec": {
      "name": "python3",
      "display_name": "Python 3"
    }
  },
  "cells": [
    {
      "cell_type": "markdown",
      "metadata": {
        "id": "Xf6CZdtNMcCr"
      },
      "source": [
        "#Tugas DSC\n",
        "<p>Nama: Rifqi Naufal Abdjul</p>\n",
        "<p>NIM: 16520054 </p>\n",
        "<p>Tanggal mulai pengerjaan: 11 / 11 / 2020</p>\n",
        "<p>Data yang digunakan: TakeMeOut </p>\n",
        "\n"
      ]
    },
    {
      "cell_type": "markdown",
      "metadata": {
        "id": "VNF2niB_0g0l"
      },
      "source": [
        "## Inisialisasi"
      ]
    },
    {
      "cell_type": "code",
      "metadata": {
        "id": "nfyaUJ66MMwg"
      },
      "source": [
        "import pandas as pd\n",
        "import os\n",
        "import numpy as np\n",
        "import matplotlib.pyplot as plt"
      ],
      "execution_count": 2,
      "outputs": []
    },
    {
      "cell_type": "markdown",
      "metadata": {
        "id": "DVNO3sC62rrP"
      },
      "source": [
        "###Input Data"
      ]
    },
    {
      "cell_type": "code",
      "metadata": {
        "id": "EFt-lggK2mCF",
        "outputId": "ba22a831-54b0-47cc-814c-098d2e95171e",
        "colab": {
          "base_uri": "https://localhost:8080/"
        }
      },
      "source": [
        "data = pd.read_csv('takemeout.csv')\n",
        "print(data.columns)"
      ],
      "execution_count": null,
      "outputs": [
        {
          "output_type": "stream",
          "text": [
            "Index(['Timestamp', 'Siapa nama kamu?', 'Cewek atau cowok nih?',\n",
            "       'Seberapa penting quality time bareng calon pacar untuk kamu?',\n",
            "       'Seberapa penting physical touch sama calon pacar untuk kamu?',\n",
            "       'Seberapa penting word of affirmation dari calon pacar untuk kamu?',\n",
            "       'Seberapa penting dapet kado dari calon pacar untuk kamu?',\n",
            "       'Seberapa penting bantuan dari calon pacar untuk kamu?'],\n",
            "      dtype='object')\n"
          ],
          "name": "stdout"
        }
      ]
    },
    {
      "cell_type": "markdown",
      "metadata": {
        "id": "hVcibdiB3KNH"
      },
      "source": [
        "## Data Cleaning"
      ]
    },
    {
      "cell_type": "markdown",
      "metadata": {
        "id": "Ljf4lRop3t2M"
      },
      "source": [
        "####Penghilangan column Timestamp karena data tidak bersifat time-relative"
      ]
    },
    {
      "cell_type": "code",
      "metadata": {
        "id": "Eh44xAYK3MYc"
      },
      "source": [
        "X = data.drop(axis=0, columns=['Timestamp'])"
      ],
      "execution_count": null,
      "outputs": []
    },
    {
      "cell_type": "markdown",
      "metadata": {
        "id": "BMwPaGMp6Joz"
      },
      "source": [
        "####Penggantian nama column menjadi simple"
      ]
    },
    {
      "cell_type": "code",
      "metadata": {
        "id": "aH_Rs5a44rik"
      },
      "source": [
        "X = X.rename(columns={'Siapa nama kamu?': 'Nama',\n",
        "                  'Cewek atau cowok nih?': 'Gender',\n",
        "                  'Seberapa penting quality time bareng calon pacar untuk kamu?' : 'QualityTime',\n",
        "                  'Seberapa penting physical touch sama calon pacar untuk kamu?' : 'PhysicalTouch',\n",
        "                  'Seberapa penting word of affirmation dari calon pacar untuk kamu?' : 'WordAffirmation',\n",
        "                  'Seberapa penting dapet kado dari calon pacar untuk kamu?' : 'Gifts',\n",
        "                  'Seberapa penting bantuan dari calon pacar untuk kamu?' : 'Helping'})"
      ],
      "execution_count": null,
      "outputs": []
    },
    {
      "cell_type": "markdown",
      "metadata": {
        "id": "4Yo6w_nWBFSS"
      },
      "source": [
        "## Data Analysis"
      ]
    },
    {
      "cell_type": "markdown",
      "metadata": {
        "id": "RYITOOEcNdpS"
      },
      "source": [
        "####Memunculkan aspek-aspek data"
      ]
    },
    {
      "cell_type": "code",
      "metadata": {
        "id": "9aWFMGVqNiRa",
        "outputId": "4d34693a-c171-402e-9c84-30ea9f16b840",
        "colab": {
          "base_uri": "https://localhost:8080/",
          "height": 297
        }
      },
      "source": [
        "X.describe()"
      ],
      "execution_count": null,
      "outputs": [
        {
          "output_type": "execute_result",
          "data": {
            "text/html": [
              "<div>\n",
              "<style scoped>\n",
              "    .dataframe tbody tr th:only-of-type {\n",
              "        vertical-align: middle;\n",
              "    }\n",
              "\n",
              "    .dataframe tbody tr th {\n",
              "        vertical-align: top;\n",
              "    }\n",
              "\n",
              "    .dataframe thead th {\n",
              "        text-align: right;\n",
              "    }\n",
              "</style>\n",
              "<table border=\"1\" class=\"dataframe\">\n",
              "  <thead>\n",
              "    <tr style=\"text-align: right;\">\n",
              "      <th></th>\n",
              "      <th>QualityTime</th>\n",
              "      <th>PhysicalTouch</th>\n",
              "      <th>WordAffirmation</th>\n",
              "      <th>Gifts</th>\n",
              "      <th>Helping</th>\n",
              "    </tr>\n",
              "  </thead>\n",
              "  <tbody>\n",
              "    <tr>\n",
              "      <th>count</th>\n",
              "      <td>101.000000</td>\n",
              "      <td>101.000000</td>\n",
              "      <td>101.000000</td>\n",
              "      <td>101.000000</td>\n",
              "      <td>101.000000</td>\n",
              "    </tr>\n",
              "    <tr>\n",
              "      <th>mean</th>\n",
              "      <td>4.099010</td>\n",
              "      <td>3.168317</td>\n",
              "      <td>3.722772</td>\n",
              "      <td>2.732673</td>\n",
              "      <td>3.752475</td>\n",
              "    </tr>\n",
              "    <tr>\n",
              "      <th>std</th>\n",
              "      <td>1.212476</td>\n",
              "      <td>1.334686</td>\n",
              "      <td>1.209287</td>\n",
              "      <td>1.325829</td>\n",
              "      <td>1.143730</td>\n",
              "    </tr>\n",
              "    <tr>\n",
              "      <th>min</th>\n",
              "      <td>1.000000</td>\n",
              "      <td>1.000000</td>\n",
              "      <td>1.000000</td>\n",
              "      <td>1.000000</td>\n",
              "      <td>1.000000</td>\n",
              "    </tr>\n",
              "    <tr>\n",
              "      <th>25%</th>\n",
              "      <td>4.000000</td>\n",
              "      <td>2.000000</td>\n",
              "      <td>3.000000</td>\n",
              "      <td>2.000000</td>\n",
              "      <td>3.000000</td>\n",
              "    </tr>\n",
              "    <tr>\n",
              "      <th>50%</th>\n",
              "      <td>5.000000</td>\n",
              "      <td>3.000000</td>\n",
              "      <td>4.000000</td>\n",
              "      <td>3.000000</td>\n",
              "      <td>4.000000</td>\n",
              "    </tr>\n",
              "    <tr>\n",
              "      <th>75%</th>\n",
              "      <td>5.000000</td>\n",
              "      <td>4.000000</td>\n",
              "      <td>5.000000</td>\n",
              "      <td>4.000000</td>\n",
              "      <td>5.000000</td>\n",
              "    </tr>\n",
              "    <tr>\n",
              "      <th>max</th>\n",
              "      <td>5.000000</td>\n",
              "      <td>5.000000</td>\n",
              "      <td>5.000000</td>\n",
              "      <td>5.000000</td>\n",
              "      <td>5.000000</td>\n",
              "    </tr>\n",
              "  </tbody>\n",
              "</table>\n",
              "</div>"
            ],
            "text/plain": [
              "       QualityTime  PhysicalTouch  WordAffirmation       Gifts     Helping\n",
              "count   101.000000     101.000000       101.000000  101.000000  101.000000\n",
              "mean      4.099010       3.168317         3.722772    2.732673    3.752475\n",
              "std       1.212476       1.334686         1.209287    1.325829    1.143730\n",
              "min       1.000000       1.000000         1.000000    1.000000    1.000000\n",
              "25%       4.000000       2.000000         3.000000    2.000000    3.000000\n",
              "50%       5.000000       3.000000         4.000000    3.000000    4.000000\n",
              "75%       5.000000       4.000000         5.000000    4.000000    5.000000\n",
              "max       5.000000       5.000000         5.000000    5.000000    5.000000"
            ]
          },
          "metadata": {
            "tags": []
          },
          "execution_count": 61
        }
      ]
    },
    {
      "cell_type": "markdown",
      "metadata": {
        "id": "beN1q8gdQzpc"
      },
      "source": [
        "Dari data diatas juga \n",
        "\n",
        "Terlihat yang memiliki rerata tertinggi adalah QualityTime dan yang terendah adalah Gifts"
      ]
    },
    {
      "cell_type": "markdown",
      "metadata": {
        "id": "yY3sbsIbFum7"
      },
      "source": [
        "####Memunculkan heatmap dari korelasi tiap kategori"
      ]
    },
    {
      "cell_type": "code",
      "metadata": {
        "id": "1IeOpVk7BHrI",
        "outputId": "7301157c-729f-4976-9194-e32e4a2146e0",
        "colab": {
          "base_uri": "https://localhost:8080/",
          "height": 145
        }
      },
      "source": [
        "corr = X.drop(columns=['Nama']).corr()\n",
        "corr.style.background_gradient(cmap ='coolwarm') "
      ],
      "execution_count": null,
      "outputs": [
        {
          "output_type": "execute_result",
          "data": {
            "text/html": [
              "<style  type=\"text/css\" >\n",
              "#T_eceef868_2411_11eb_abc6_0242ac1c0002row0_col0,#T_eceef868_2411_11eb_abc6_0242ac1c0002row1_col1,#T_eceef868_2411_11eb_abc6_0242ac1c0002row2_col2,#T_eceef868_2411_11eb_abc6_0242ac1c0002row3_col3,#T_eceef868_2411_11eb_abc6_0242ac1c0002row4_col4{\n",
              "            background-color:  #b40426;\n",
              "            color:  #f1f1f1;\n",
              "        }#T_eceef868_2411_11eb_abc6_0242ac1c0002row0_col1{\n",
              "            background-color:  #b6cefa;\n",
              "            color:  #000000;\n",
              "        }#T_eceef868_2411_11eb_abc6_0242ac1c0002row0_col2{\n",
              "            background-color:  #c0d4f5;\n",
              "            color:  #000000;\n",
              "        }#T_eceef868_2411_11eb_abc6_0242ac1c0002row0_col3{\n",
              "            background-color:  #4e68d8;\n",
              "            color:  #000000;\n",
              "        }#T_eceef868_2411_11eb_abc6_0242ac1c0002row0_col4,#T_eceef868_2411_11eb_abc6_0242ac1c0002row3_col4{\n",
              "            background-color:  #9fbfff;\n",
              "            color:  #000000;\n",
              "        }#T_eceef868_2411_11eb_abc6_0242ac1c0002row1_col0,#T_eceef868_2411_11eb_abc6_0242ac1c0002row4_col2{\n",
              "            background-color:  #5875e1;\n",
              "            color:  #000000;\n",
              "        }#T_eceef868_2411_11eb_abc6_0242ac1c0002row1_col2{\n",
              "            background-color:  #8badfd;\n",
              "            color:  #000000;\n",
              "        }#T_eceef868_2411_11eb_abc6_0242ac1c0002row1_col3,#T_eceef868_2411_11eb_abc6_0242ac1c0002row1_col4,#T_eceef868_2411_11eb_abc6_0242ac1c0002row3_col2,#T_eceef868_2411_11eb_abc6_0242ac1c0002row4_col0,#T_eceef868_2411_11eb_abc6_0242ac1c0002row4_col1{\n",
              "            background-color:  #3b4cc0;\n",
              "            color:  #f1f1f1;\n",
              "        }#T_eceef868_2411_11eb_abc6_0242ac1c0002row2_col0{\n",
              "            background-color:  #c3d5f4;\n",
              "            color:  #000000;\n",
              "        }#T_eceef868_2411_11eb_abc6_0242ac1c0002row2_col1{\n",
              "            background-color:  #d8dce2;\n",
              "            color:  #000000;\n",
              "        }#T_eceef868_2411_11eb_abc6_0242ac1c0002row2_col3{\n",
              "            background-color:  #445acc;\n",
              "            color:  #f1f1f1;\n",
              "        }#T_eceef868_2411_11eb_abc6_0242ac1c0002row2_col4{\n",
              "            background-color:  #bad0f8;\n",
              "            color:  #000000;\n",
              "        }#T_eceef868_2411_11eb_abc6_0242ac1c0002row3_col0{\n",
              "            background-color:  #4961d2;\n",
              "            color:  #f1f1f1;\n",
              "        }#T_eceef868_2411_11eb_abc6_0242ac1c0002row3_col1{\n",
              "            background-color:  #9bbcff;\n",
              "            color:  #000000;\n",
              "        }#T_eceef868_2411_11eb_abc6_0242ac1c0002row4_col3{\n",
              "            background-color:  #3f53c6;\n",
              "            color:  #f1f1f1;\n",
              "        }</style><table id=\"T_eceef868_2411_11eb_abc6_0242ac1c0002\" ><thead>    <tr>        <th class=\"blank level0\" ></th>        <th class=\"col_heading level0 col0\" >QualityTime</th>        <th class=\"col_heading level0 col1\" >PhysicalTouch</th>        <th class=\"col_heading level0 col2\" >WordAffirmation</th>        <th class=\"col_heading level0 col3\" >Gifts</th>        <th class=\"col_heading level0 col4\" >Helping</th>    </tr></thead><tbody>\n",
              "                <tr>\n",
              "                        <th id=\"T_eceef868_2411_11eb_abc6_0242ac1c0002level0_row0\" class=\"row_heading level0 row0\" >QualityTime</th>\n",
              "                        <td id=\"T_eceef868_2411_11eb_abc6_0242ac1c0002row0_col0\" class=\"data row0 col0\" >1.000000</td>\n",
              "                        <td id=\"T_eceef868_2411_11eb_abc6_0242ac1c0002row0_col1\" class=\"data row0 col1\" >0.490132</td>\n",
              "                        <td id=\"T_eceef868_2411_11eb_abc6_0242ac1c0002row0_col2\" class=\"data row0 col2\" >0.666827</td>\n",
              "                        <td id=\"T_eceef868_2411_11eb_abc6_0242ac1c0002row0_col3\" class=\"data row0 col3\" >0.464520</td>\n",
              "                        <td id=\"T_eceef868_2411_11eb_abc6_0242ac1c0002row0_col4\" class=\"data row0 col4\" >0.436095</td>\n",
              "            </tr>\n",
              "            <tr>\n",
              "                        <th id=\"T_eceef868_2411_11eb_abc6_0242ac1c0002level0_row1\" class=\"row_heading level0 row1\" >PhysicalTouch</th>\n",
              "                        <td id=\"T_eceef868_2411_11eb_abc6_0242ac1c0002row1_col0\" class=\"data row1 col0\" >0.490132</td>\n",
              "                        <td id=\"T_eceef868_2411_11eb_abc6_0242ac1c0002row1_col1\" class=\"data row1 col1\" >1.000000</td>\n",
              "                        <td id=\"T_eceef868_2411_11eb_abc6_0242ac1c0002row1_col2\" class=\"data row1 col2\" >0.580618</td>\n",
              "                        <td id=\"T_eceef868_2411_11eb_abc6_0242ac1c0002row1_col3\" class=\"data row1 col3\" >0.426910</td>\n",
              "                        <td id=\"T_eceef868_2411_11eb_abc6_0242ac1c0002row1_col4\" class=\"data row1 col4\" >0.191337</td>\n",
              "            </tr>\n",
              "            <tr>\n",
              "                        <th id=\"T_eceef868_2411_11eb_abc6_0242ac1c0002level0_row2\" class=\"row_heading level0 row2\" >WordAffirmation</th>\n",
              "                        <td id=\"T_eceef868_2411_11eb_abc6_0242ac1c0002row2_col0\" class=\"data row2 col0\" >0.666827</td>\n",
              "                        <td id=\"T_eceef868_2411_11eb_abc6_0242ac1c0002row2_col1\" class=\"data row2 col1\" >0.580618</td>\n",
              "                        <td id=\"T_eceef868_2411_11eb_abc6_0242ac1c0002row2_col2\" class=\"data row2 col2\" >1.000000</td>\n",
              "                        <td id=\"T_eceef868_2411_11eb_abc6_0242ac1c0002row2_col3\" class=\"data row2 col3\" >0.446046</td>\n",
              "                        <td id=\"T_eceef868_2411_11eb_abc6_0242ac1c0002row2_col4\" class=\"data row2 col4\" >0.499381</td>\n",
              "            </tr>\n",
              "            <tr>\n",
              "                        <th id=\"T_eceef868_2411_11eb_abc6_0242ac1c0002level0_row3\" class=\"row_heading level0 row3\" >Gifts</th>\n",
              "                        <td id=\"T_eceef868_2411_11eb_abc6_0242ac1c0002row3_col0\" class=\"data row3 col0\" >0.464520</td>\n",
              "                        <td id=\"T_eceef868_2411_11eb_abc6_0242ac1c0002row3_col1\" class=\"data row3 col1\" >0.426910</td>\n",
              "                        <td id=\"T_eceef868_2411_11eb_abc6_0242ac1c0002row3_col2\" class=\"data row3 col2\" >0.446046</td>\n",
              "                        <td id=\"T_eceef868_2411_11eb_abc6_0242ac1c0002row3_col3\" class=\"data row3 col3\" >1.000000</td>\n",
              "                        <td id=\"T_eceef868_2411_11eb_abc6_0242ac1c0002row3_col4\" class=\"data row3 col4\" >0.437334</td>\n",
              "            </tr>\n",
              "            <tr>\n",
              "                        <th id=\"T_eceef868_2411_11eb_abc6_0242ac1c0002level0_row4\" class=\"row_heading level0 row4\" >Helping</th>\n",
              "                        <td id=\"T_eceef868_2411_11eb_abc6_0242ac1c0002row4_col0\" class=\"data row4 col0\" >0.436095</td>\n",
              "                        <td id=\"T_eceef868_2411_11eb_abc6_0242ac1c0002row4_col1\" class=\"data row4 col1\" >0.191337</td>\n",
              "                        <td id=\"T_eceef868_2411_11eb_abc6_0242ac1c0002row4_col2\" class=\"data row4 col2\" >0.499381</td>\n",
              "                        <td id=\"T_eceef868_2411_11eb_abc6_0242ac1c0002row4_col3\" class=\"data row4 col3\" >0.437334</td>\n",
              "                        <td id=\"T_eceef868_2411_11eb_abc6_0242ac1c0002row4_col4\" class=\"data row4 col4\" >1.000000</td>\n",
              "            </tr>\n",
              "    </tbody></table>"
            ],
            "text/plain": [
              "<pandas.io.formats.style.Styler at 0x7fb3fd638c18>"
            ]
          },
          "metadata": {
            "tags": []
          },
          "execution_count": 54
        }
      ]
    },
    {
      "cell_type": "markdown",
      "metadata": {
        "id": "MMV9hjTtF8Nn"
      },
      "source": [
        "<p>Melihat korelasi data diatas, terdapat nilai yang sangat kecil antara  \n",
        "Helping dan PhysicalTouch. Hal ini kemungkinan disebabkan karena biasanya orang yang mementingkan sentuhan fisik menaruh percintaannya sebagai aspek lain di hidup. Sedangkan, yang mementingkan bantuan menaruh percintaannya sebagai pensupport aspek lainnya di kehidupan</p>"
      ]
    },
    {
      "cell_type": "markdown",
      "metadata": {
        "id": "74yd_RewNQH_"
      },
      "source": [
        "####Nilai rerata berdasarkan gender\n"
      ]
    },
    {
      "cell_type": "code",
      "metadata": {
        "id": "AGq-jQx2RKGR",
        "outputId": "63e6a34a-103d-47f5-bfcc-8ece850aca3b",
        "colab": {
          "base_uri": "https://localhost:8080/",
          "height": 286
        }
      },
      "source": [
        "plt.plot(X.loc[X['Gender'] == 'Cowok'].mean(), 'r--', X.loc[X['Gender'] == 'Cewek'].mean(), 'bs')\n",
        "plt.ylim(0,5)"
      ],
      "execution_count": null,
      "outputs": [
        {
          "output_type": "execute_result",
          "data": {
            "text/plain": [
              "(0.0, 5.0)"
            ]
          },
          "metadata": {
            "tags": []
          },
          "execution_count": 71
        },
        {
          "output_type": "display_data",
          "data": {
            "image/png": "[encoded data removed]",
            "text/plain": [
              "<Figure size 432x288 with 1 Axes>"
            ]
          },
          "metadata": {
            "tags": [],
            "needs_background": "light"
          }
        }
      ]
    },
    {
      "cell_type": "markdown",
      "metadata": {
        "id": "UPu3SHbzS5dF"
      },
      "source": [
        "<p>Berdasarkan grafik diatas, Perempuan memiliki rerata tingkat love language yang lebih rendah daripada Laki-laki kemungkinan karena perempuan cenderung lebih skeptis tentang pasangannya</p>"
      ]
    }
  ]
}